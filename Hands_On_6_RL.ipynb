{
  "cells": [
    {
      "attachments": {},
      "cell_type": "markdown",
      "metadata": {},
      "source": [
        "# Reinforcement Learning (DQN) Tutorial\n",
        "Tutorial adapted by Hongfei from [PyTorch DQN Tutorial](https://pytorch.org/tutorials/intermediate/reinforcement_q_learning.html) (with authors [Adam Paszke](https://github.com/apaszke) and [Mark Towers](https://github.com/pseudo-rnd-thoughts)).\n",
        "\n",
        "This tutorial shows how to use PyTorch to train Deep Q-Learning (DQL) agents\n",
        "on the LunarLander task and the CartPole-v1 task from [Gymnasium](https://www.gymnasium.farama.org)."
      ]
    },
    {
      "attachments": {},
      "cell_type": "markdown",
      "metadata": {},
      "source": [
        "## Task -- LunarLander\n",
        "\n",
        "State dimension: 8\n",
        "- $x,y$ positions\n",
        "- $x,y$ linear velocities\n",
        "- angle and angular velocity\n",
        "- two True/False values indicating whether left or right leg touches the ground or not\n",
        "\n",
        "Action space dimension: 4\n",
        "- 0: do nothing\n",
        "- 1: left engine fire\n",
        "- 2: main engine fire\n",
        "- 3: right engine fire\n",
        "\n",
        "For details of this task please refer to SPH6004 lecture notes. Environment provided by the [Gymnasium](https://gymnasium.farama.org/environments/box2d/lunar_lander/) project.\n",
        "\n",
        "![LunarLander](Figs/lunar_lander.gif)"
      ]
    },
    {
      "attachments": {},
      "cell_type": "markdown",
      "metadata": {
        "id": "yaicoV3vuwMi"
      },
      "source": [
        "## Task -- CartPole-v1\n",
        "\n",
        "The agent has to decide between two actions - moving the cart left or\n",
        "right - so that the pole attached to it stays upright. You can find more\n",
        "information about the environment and other more challenging environments at\n",
        "[Gymnasium's website](https://gymnasium.farama.org/environments/classic_control/cart_pole/)_.\n",
        "\n",
        "![CartPole-v1](Figs/cartpole.gif)\n",
        "\n",
        "As the agent observes the current state of the environment and chooses\n",
        "an action, the environment *transitions* to a new state, and also\n",
        "returns a reward that indicates the consequences of the action. In this\n",
        "task, rewards are +1 for every incremental timestep and the environment\n",
        "terminates if the pole falls over too far or the cart moves more than 2.4\n",
        "units away from center. This means better performing scenarios will run\n",
        "for longer duration, accumulating larger return.\n",
        "\n",
        "The CartPole task is designed so that the inputs to the agent are 4 real\n",
        "values representing the environment state (0: cart position, 1: cart velocity, 2: pole angle (in radians), 3: pole angular velocity).\n",
        "We take these 4 inputs without any scaling and pass them through a \n",
        "small fully-connected network with 2 outputs, one for each action (0: left, 1: right). "
      ]
    },
    {
      "attachments": {},
      "cell_type": "markdown",
      "metadata": {},
      "source": [
        "----"
      ]
    },
    {
      "cell_type": "code",
      "execution_count": 40,
      "metadata": {
        "colab": {
          "base_uri": "https://localhost:8080/"
        },
        "id": "4KYBsUWZuwMl",
        "outputId": "06e3506f-659b-4ccc-b8fd-0220da8d7a9e"
      },
      "outputs": [],
      "source": [
        "# %%bash\n",
        "# pip3 install gymnasium[classic_control]"
      ]
    },
    {
      "cell_type": "code",
      "execution_count": 45,
      "metadata": {
        "id": "-4ryXFF-uwMl"
      },
      "outputs": [],
      "source": [
        "import gymnasium as gym\n",
        "import math\n",
        "import random\n",
        "from collections import namedtuple, deque\n",
        "from itertools import count\n",
        "import numpy as np\n",
        "import torch\n",
        "import torch.nn as nn\n",
        "import torch.optim as optim\n",
        "import torch.nn.functional as F\n",
        "from time import sleep\n",
        "from tqdm.notebook import tqdm\n",
        "import os\n",
        "\n",
        "task = [\"LunarLander-v2\", \"CartPole-v1\"][0]\n",
        "\n",
        "# if gpu is to be used\n",
        "device = torch.device(\"cuda\" if torch.cuda.is_available() else \"cpu\")"
      ]
    },
    {
      "cell_type": "code",
      "execution_count": 52,
      "metadata": {},
      "outputs": [],
      "source": [
        "# Helper function to render environment\n",
        "\n",
        "def render(task=\"LunarLander-v2\", policy_net = None, wind=False):\n",
        "    # if policy_net is None, use randomly sampled policy for action.\n",
        "    if task==\"LunarLander-v2\":\n",
        "        env = gym.make(task,render_mode='human',enable_wind=wind,wind_power=10)\n",
        "    elif task==\"CartPole-v1\":\n",
        "        env = gym.make(task,render_mode='human')\n",
        "\n",
        "    observation, info = env.reset()\n",
        "    total_reward = 0\n",
        "    with torch.no_grad():\n",
        "        for i in count():\n",
        "            if policy_net is None:\n",
        "                action = env.action_space.sample()        \n",
        "            else:\n",
        "                q_values = policy_net(torch.tensor(observation,device=device).unsqueeze(0))\n",
        "                action = q_values.argmax().item()\n",
        "\n",
        "            observation, reward, terminated, truncated, _ = env.step(action)\n",
        "            total_reward += reward\n",
        "            _ = env.render()\n",
        "            if terminated or truncated:\n",
        "                policy_mode = 'random' if policy_net is None else 'policy_net'\n",
        "                print('Poicy is {}, episode duration: {}'.format(policy_mode,i+1))\n",
        "                print('Total reward is {:.2f}'.format(total_reward))\n",
        "                sleep(1)\n",
        "                env.close()\n",
        "                break"
      ]
    },
    {
      "cell_type": "code",
      "execution_count": 53,
      "metadata": {},
      "outputs": [
        {
          "name": "stdout",
          "output_type": "stream",
          "text": [
            "Poicy is random, episode duration: 59\n",
            "Total reward is -86.24\n"
          ]
        }
      ],
      "source": [
        "render(task)"
      ]
    },
    {
      "attachments": {},
      "cell_type": "markdown",
      "metadata": {
        "id": "bKOw5U9buwMn"
      },
      "source": [
        "## Replay Memory\n",
        "\n",
        "Experience relay stores\n",
        "the transitions that the agent observes, allowing us to reuse this data\n",
        "later. By sampling from it randomly, the transitions that build up a\n",
        "batch are decorrelated. It has been shown that this greatly stabilizes\n",
        "and improves the DQL training procedure.\n",
        "\n",
        "For this, we're going to need two classses:\n",
        "\n",
        "-  ``Transition`` - a named tuple representing a single transition in\n",
        "   our environment. It essentially maps (state, action) pairs\n",
        "   to their (next_state, reward) result, with the state being the\n",
        "   screen difference image as described later on.\n",
        "-  ``ReplayMemory`` - a cyclic buffer of bounded size that holds the\n",
        "   transitions observed recently. It also implements a ``.sample()``\n",
        "   method for selecting a random batch of transitions for training.\n",
        "\n",
        "\n"
      ]
    },
    {
      "cell_type": "code",
      "execution_count": 2,
      "metadata": {
        "id": "WyqDNEnouwMn"
      },
      "outputs": [],
      "source": [
        "Transition = namedtuple('Transition',\n",
        "                        ('state', 'action', 'reward', 'next_state'))\n",
        "\n",
        "\n",
        "class ReplayMemory(object):\n",
        "\n",
        "    def __init__(self, capacity):\n",
        "        self.memory = deque([], maxlen=capacity)\n",
        "\n",
        "    def push(self, *args):\n",
        "        \"\"\"Save a transition\"\"\"\n",
        "        self.memory.append(Transition(*args))\n",
        "\n",
        "    def sample(self, batch_size):\n",
        "        return random.sample(self.memory, batch_size)\n",
        "\n",
        "    def __len__(self):\n",
        "        return len(self.memory)"
      ]
    },
    {
      "attachments": {},
      "cell_type": "markdown",
      "metadata": {
        "id": "JV2aFH3FuwMp"
      },
      "source": [
        "Now, let's define our model.\n",
        "\n",
        "### Q-network\n",
        "\n",
        "We will use a feed forward neural network $N$ to approximate best utility functions.\n",
        "\n",
        "#### LunarLander-v2\n",
        "\n",
        "\n",
        "\n",
        "#### CartPole-v1\n",
        "\n",
        "It has two\n",
        "outputs, representing $Q(s, \\mathrm{left})$ and\n",
        "$Q(s, \\mathrm{right})$ (where $s$ is the input to the\n",
        "network). In effect, the network is trying to predict the *expected return* of\n",
        "taking each action given the current input.\n",
        "\n",
        "\n"
      ]
    },
    {
      "cell_type": "code",
      "execution_count": 3,
      "metadata": {
        "id": "gfzY6tmZuwMq"
      },
      "outputs": [],
      "source": [
        "class DQN(nn.Module):\n",
        "\n",
        "    def __init__(self, n_observations, n_actions):\n",
        "        super(DQN, self).__init__()\n",
        "        self.layer1 = nn.Linear(n_observations, 128)\n",
        "        self.layer2 = nn.Linear(128, 128)\n",
        "        self.layer3 = nn.Linear(128, n_actions)\n",
        "\n",
        "    def forward(self, x):\n",
        "        x = F.relu(self.layer1(x))\n",
        "        x = F.relu(self.layer2(x))\n",
        "        return self.layer3(x)"
      ]
    },
    {
      "cell_type": "markdown",
      "metadata": {
        "id": "RqWRuYdFuwMq"
      },
      "source": [
        "## Training\n",
        "\n",
        "### Hyperparameters and utilities\n",
        "This cell instantiates our model and its optimizer, and defines some\n",
        "utilities:\n",
        "\n",
        "-  ``select_action`` - will select an action accordingly to an epsilon\n",
        "   greedy policy. Simply put, we'll sometimes use our model for choosing\n",
        "   the action, and sometimes we'll just sample one uniformly. The\n",
        "   probability of choosing a random action will start at ``EPS_START``\n",
        "   and will decay exponentially towards ``EPS_END``. ``EPS_DECAY``\n",
        "   controls the rate of the decay.\n",
        "-  ``plot_durations`` - a helper for plotting the durations of episodes,\n",
        "   along with an average over the last 100 episodes (the measure used in\n",
        "   the official evaluations). The plot will be underneath the cell\n",
        "   containing the main training loop, and will update after every\n",
        "   episode.\n",
        "\n",
        "\n"
      ]
    },
    {
      "cell_type": "code",
      "execution_count": 4,
      "metadata": {
        "id": "mlJJlg2PuwMr"
      },
      "outputs": [],
      "source": [
        "def select_action(state):\n",
        "    global steps_done\n",
        "    sample = random.random()\n",
        "    eps_threshold = EPS_END + (EPS_START - EPS_END) * \\\n",
        "        math.exp(-1. * steps_done / EPS_DECAY)\n",
        "    steps_done += 1\n",
        "    if sample > eps_threshold:\n",
        "        with torch.no_grad():\n",
        "            # t.max(1) will return the largest column value of each row.\n",
        "            # second column on max result is index of where max element was\n",
        "            # found, so we pick action with the larger expected reward.\n",
        "            return policy_net(state).max(1)[1].view(1, 1)\n",
        "    else:\n",
        "        return torch.tensor([[env.action_space.sample()]], device=device, dtype=torch.long)\n",
        "\n",
        "\n",
        "episode_durations = []"
      ]
    },
    {
      "cell_type": "markdown",
      "metadata": {
        "id": "3dAvYr2yuwMs"
      },
      "source": [
        "### Training loop\n",
        "\n",
        "Finally, the code for training our model.\n",
        "\n",
        "Here, you can find an ``optimize_model`` function that performs a\n",
        "single step of the optimization. It first samples a batch, concatenates\n",
        "all the tensors into a single one, computes $Q(s_t, a_t)$ and\n",
        "$V(s_{t+1}) = \\max_a Q(s_{t+1}, a)$, and combines them into our\n",
        "loss. By definition we set $V(s) = 0$ if $s$ is a terminal\n",
        "state. We also use a target network to compute $V(s_{t+1})$ for\n",
        "added stability. The target network is updated at every step with a \n",
        "[soft update](https://arxiv.org/pdf/1509.02971.pdf)_ controlled by \n",
        "the hyperparameter ``TAU``, which was previously defined.\n",
        "\n",
        "\n"
      ]
    },
    {
      "cell_type": "code",
      "execution_count": 5,
      "metadata": {
        "id": "aeTqGCzPuwMs"
      },
      "outputs": [],
      "source": [
        "def optimize_model():\n",
        "    if len(memory) < BATCH_SIZE:\n",
        "        return\n",
        "    \n",
        "    transitions = memory.sample(BATCH_SIZE)\n",
        "    # Transpose the batch (see https://stackoverflow.com/a/19343/3343043 for\n",
        "    # detailed explanation). This converts batch-array of Transitions\n",
        "    # to Transition of batch-arrays.\n",
        "    batch = Transition(*zip(*transitions))\n",
        "\n",
        "    # Compute a mask of non-final states and concatenate the batch elements\n",
        "    # (a final state would've been the one after which simulation ended)\n",
        "    non_final_mask = torch.tensor(tuple(map(lambda s: s is not None,\n",
        "                                          batch.next_state)), device=device, dtype=torch.bool)\n",
        "    non_final_next_states = torch.cat([s for s in batch.next_state\n",
        "                                                if s is not None])\n",
        "    state_batch = torch.cat(batch.state)\n",
        "    action_batch = torch.cat(batch.action)\n",
        "    reward_batch = torch.cat(batch.reward)\n",
        "\n",
        "    # Compute Q(s_t, a) - the model computes Q(s_t), then we select the\n",
        "    # columns of actions taken. These are the actions which would've been taken\n",
        "    # for each batch state according to policy_net\n",
        "    state_action_values = policy_net(state_batch).gather(dim=1, index=action_batch)\n",
        "\n",
        "    # Compute V(s_{t+1}) for all next states.\n",
        "    # Expected values of actions for non_final_next_states are computed based\n",
        "    # on the \"older\" target_net; selecting their best reward with max(1)[0].\n",
        "    # This is merged based on the mask, such that we'll have either the expected\n",
        "    # state value or 0 in case the state was final.\n",
        "    next_state_values = torch.zeros(BATCH_SIZE, device=device)\n",
        "    with torch.no_grad():\n",
        "        next_state_values[non_final_mask] = target_net(non_final_next_states).max(1)[0]\n",
        "    # Compute the expected Q values\n",
        "    expected_state_action_values = (next_state_values * GAMMA) + reward_batch\n",
        "\n",
        "    # Compute Huber loss\n",
        "    criterion = nn.SmoothL1Loss()\n",
        "    loss = criterion(state_action_values, expected_state_action_values.unsqueeze(1))\n",
        "\n",
        "    # Optimize the model\n",
        "    optimizer.zero_grad()\n",
        "    loss.backward()\n",
        "    # In-place gradient clipping\n",
        "    torch.nn.utils.clip_grad_value_(policy_net.parameters(), 100)\n",
        "    optimizer.step()"
      ]
    },
    {
      "cell_type": "markdown",
      "metadata": {
        "id": "Agl462hquwMt"
      },
      "source": [
        "Below, you can find the main training loop. At the beginning we reset\n",
        "the environment and obtain the initial ``state`` Tensor. Then, we sample\n",
        "an action, execute it, observe the next state and the reward (always\n",
        "1), and optimize our model once. When the episode ends (our model\n",
        "fails), we restart the loop.\n",
        "\n",
        "Below, `num_episodes` is set to 600 if a GPU is available, otherwise 50 \n",
        "episodes are scheduled so training does not take too long. However, 50 \n",
        "episodes is insufficient for to observe good performance on cartpole.\n",
        "You should see the model constantly achieve 500 steps within 600 training \n",
        "episodes. Training RL agents can be a noisy process, so restarting training\n",
        "can produce better results if convergence is not observed.\n",
        "\n",
        "\n"
      ]
    },
    {
      "cell_type": "code",
      "execution_count": 10,
      "metadata": {},
      "outputs": [],
      "source": [
        "# BATCH_SIZE is the number of transitions sampled from the replay buffer\n",
        "# GAMMA is the discount factor as mentioned in the previous section\n",
        "# EPS_START is the starting value of epsilon\n",
        "# EPS_END is the final value of epsilon\n",
        "# EPS_DECAY controls the rate of exponential decay of epsilon, higher means a slower decay\n",
        "# TAU is the update rate of the target network\n",
        "# LR is the learning rate of the AdamW optimizer\n",
        "BATCH_SIZE = 128\n",
        "GAMMA = 0.99\n",
        "EPS_START = 0.9\n",
        "EPS_END = 0.1\n",
        "EPS_DECAY = 10000\n",
        "TAU = 0.005\n",
        "LR = 1e-4\n",
        "\n",
        "# Get number of actions from gym action space\n",
        "n_actions = env.action_space.n\n",
        "# Get the number of state observations\n",
        "# For cart pole, observation has size 4.\n",
        "# Meaning of observation:\n",
        "# 0: cart position\n",
        "# 1: cart velocity\n",
        "# 2: pole angle (in radians)\n",
        "# 3: pole angular velocity\n",
        "state, info = env.reset()\n",
        "n_observations = len(state)\n",
        "\n",
        "policy_net = DQN(n_observations, n_actions).to(device)\n",
        "target_net = DQN(n_observations, n_actions).to(device)\n",
        "target_net.load_state_dict(policy_net.state_dict())\n",
        "\n",
        "optimizer = optim.AdamW(policy_net.parameters(), lr=LR, amsgrad=True)\n",
        "memory = ReplayMemory(10000)\n",
        "\n",
        "model_save_path = './ckpt'\n",
        "os.makedirs(model_save_path,exist_ok=True)\n",
        "\n",
        "steps_done = 0\n",
        "num_episodes = 1000\n",
        "total_rewards = []\n",
        "best_total_rewards = float('-inf')"
      ]
    },
    {
      "cell_type": "code",
      "execution_count": 46,
      "metadata": {
        "colab": {
          "base_uri": "https://localhost:8080/",
          "height": 347
        },
        "id": "7x1myiSEuwMt",
        "outputId": "74f38ab5-3cab-4afb-bd2c-2be49af863ba"
      },
      "outputs": [
        {
          "data": {
            "application/vnd.jupyter.widget-view+json": {
              "model_id": "c0897834af9e4c62bb16efbd6eeeea2c",
              "version_major": 2,
              "version_minor": 0
            },
            "text/plain": [
              "  0%|          | 0/1000 [00:00<?, ?it/s]"
            ]
          },
          "metadata": {},
          "output_type": "display_data"
        },
        {
          "name": "stdout",
          "output_type": "stream",
          "text": [
            "Episode 0, avg episode_durations 109.00, avg total reward -352.08\n",
            "Episode 50, avg episode_durations 110.38, avg total reward -91.83\n",
            "Episode 100, avg episode_durations 595.86, avg total reward 13.76\n",
            "Episode 150, avg episode_durations 609.72, avg total reward 171.50\n",
            "Episode 200, avg episode_durations 634.88, avg total reward 178.60\n",
            "Episode 250, avg episode_durations 550.30, avg total reward 197.53\n",
            "Episode 300, avg episode_durations 432.38, avg total reward 223.72\n",
            "Episode 350, avg episode_durations 373.34, avg total reward 257.13\n",
            "Episode 400, avg episode_durations 301.36, avg total reward 158.19\n",
            "Episode 450, avg episode_durations 291.98, avg total reward 178.44\n",
            "Episode 500, avg episode_durations 311.72, avg total reward 194.04\n",
            "Episode 550, avg episode_durations 356.24, avg total reward 188.84\n",
            "Episode 600, avg episode_durations 271.78, avg total reward 146.40\n",
            "Episode 650, avg episode_durations 361.44, avg total reward 217.78\n",
            "Episode 700, avg episode_durations 288.16, avg total reward 202.93\n",
            "Episode 750, avg episode_durations 368.28, avg total reward 227.46\n",
            "Episode 800, avg episode_durations 301.56, avg total reward 208.14\n",
            "Episode 850, avg episode_durations 309.70, avg total reward 226.66\n",
            "Episode 900, avg episode_durations 274.94, avg total reward 200.09\n",
            "Episode 950, avg episode_durations 264.66, avg total reward 196.47\n",
            "Complete\n"
          ]
        }
      ],
      "source": [
        "\n",
        "\n",
        "for i_episode in tqdm(range(num_episodes)):\n",
        "    # Initialize the environment and get it's state\n",
        "    state, info = env.reset()\n",
        "    total_reward = 0\n",
        "    state = torch.tensor(state, dtype=torch.float32, device=device).unsqueeze(0)\n",
        "    for t in count():\n",
        "        action = select_action(state)\n",
        "        observation, reward, terminated, truncated, _ = env.step(action.item())\n",
        "        total_reward += reward\n",
        "        reward = torch.tensor([reward], device=device)\n",
        "        done = terminated or truncated\n",
        "\n",
        "        if terminated:\n",
        "            next_state = None\n",
        "        else:\n",
        "            next_state = torch.tensor(observation, dtype=torch.float32, device=device).unsqueeze(0)\n",
        "\n",
        "        # Store the transition in memory\n",
        "        memory.push(state, action, next_state, reward)\n",
        "\n",
        "        # Move to the next state\n",
        "        state = next_state\n",
        "\n",
        "        # Perform one step of the optimization (on the policy network)\n",
        "        optimize_model()\n",
        "\n",
        "        # Soft update of the target network's weights\n",
        "        # θ′ ← τ θ + (1 −τ )θ′\n",
        "        target_net_state_dict = target_net.state_dict()\n",
        "        policy_net_state_dict = policy_net.state_dict()\n",
        "        for key in policy_net_state_dict:\n",
        "            target_net_state_dict[key] = policy_net_state_dict[key]*TAU + target_net_state_dict[key]*(1-TAU)\n",
        "        target_net.load_state_dict(target_net_state_dict)\n",
        "\n",
        "        if done:\n",
        "            episode_durations.append(t + 1)\n",
        "            total_rewards.append(total_reward)\n",
        "            # if best_total_rewards > np.max(total_rewards):\n",
        "            #     # save model if achieve best performance\n",
        "            #     torch.save(policy_net.state_dict(),'./ckpt/lunarLander_checkpoint.pt')\n",
        "            #     best_total_rewards = np.max(total_rewards)\n",
        "\n",
        "            aw = np.minimum(len(episode_durations),50)\n",
        "            if i_episode%50 == 0:\n",
        "                if best_total_rewards < np.mean(total_rewards[-aw:]):\n",
        "                    # save model if avg performance is good\n",
        "                    torch.save(policy_net.state_dict(),'./ckpt/lunarLander_checkpoint.pt')\n",
        "                    best_total_rewards = np.mean(total_rewards[-aw:])\n",
        "\n",
        "                print('Episode {}, avg episode_durations {:.2f}, avg total reward {:.2f}'.format(i_episode,np.mean(episode_durations[-aw:]),np.mean(total_rewards[-aw:])))\n",
        "            break\n",
        "\n",
        "print('Complete')"
      ]
    },
    {
      "attachments": {},
      "cell_type": "markdown",
      "metadata": {
        "id": "Jw2Lhc_auwMu"
      },
      "source": [
        "Lastly we visualize the trained policy net."
      ]
    },
    {
      "cell_type": "code",
      "execution_count": 24,
      "metadata": {},
      "outputs": [],
      "source": [
        "def render(policy_net = None, wind=False):\n",
        "    env = gym.make(\"LunarLander-v2\",render_mode='human',enable_wind=wind,wind_power=10)\n",
        "    observation, info = env.reset()\n",
        "    total_reward = 0\n",
        "    with torch.no_grad():\n",
        "        for i in count():\n",
        "            if policy_net is None:\n",
        "                action = env.action_space.sample()        \n",
        "            else:\n",
        "                q_values = policy_net(torch.tensor(observation,device=device).unsqueeze(0))\n",
        "                action = q_values.argmax().item()\n",
        "\n",
        "            observation, reward, terminated, truncated, _ = env.step(action)\n",
        "            total_reward += reward\n",
        "            _ = env.render()\n",
        "            if terminated or truncated:\n",
        "                policy_mode = 'random' if policy_net is None else 'policy_net'\n",
        "                print('Poicy is {}, episode duration: {}'.format(policy_mode,i+1))\n",
        "                print('Total reward is {:2f}'.format(total_reward))\n",
        "                sleep(1)\n",
        "                env.close()\n",
        "                break\n"
      ]
    },
    {
      "cell_type": "code",
      "execution_count": 11,
      "metadata": {},
      "outputs": [],
      "source": [
        "# torch.save(policy_net.state_dict(),'./ckpt/lunarLander_epoch1000_final.pt')\n",
        "# policy_net = DQN(n_observations, n_actions).to(device)"
      ]
    },
    {
      "cell_type": "code",
      "execution_count": 40,
      "metadata": {},
      "outputs": [
        {
          "name": "stdout",
          "output_type": "stream",
          "text": [
            "Poicy is policy_net, episode duration: 242\n",
            "Total reward is 289.197488\n"
          ]
        }
      ],
      "source": [
        "\n",
        "policy_net.load_state_dict(torch.load('./ckpt/_lunarLander_checkpoint.pt'))\n",
        "render(policy_net,wind=False)"
      ]
    }
  ],
  "metadata": {
    "colab": {
      "provenance": []
    },
    "gpuClass": "standard",
    "kernelspec": {
      "display_name": "Python 3",
      "language": "python",
      "name": "python3"
    },
    "language_info": {
      "codemirror_mode": {
        "name": "ipython",
        "version": 3
      },
      "file_extension": ".py",
      "mimetype": "text/x-python",
      "name": "python",
      "nbconvert_exporter": "python",
      "pygments_lexer": "ipython3",
      "version": "3.10.10"
    }
  },
  "nbformat": 4,
  "nbformat_minor": 0
}
