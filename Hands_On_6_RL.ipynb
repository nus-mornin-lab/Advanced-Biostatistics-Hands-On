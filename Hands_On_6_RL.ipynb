{
  "cells": [
    {
      "attachments": {},
      "cell_type": "markdown",
      "metadata": {},
      "source": [
        "# Reinforcement Learning (DQN) Tutorial\n",
        "Tutorial adapted by Hongfei from [PyTorch DQN Tutorial](https://pytorch.org/tutorials/intermediate/reinforcement_q_learning.html) (with authors [Adam Paszke](https://github.com/apaszke) and [Mark Towers](https://github.com/pseudo-rnd-thoughts)).\n",
        "\n",
        "This tutorial shows how to use PyTorch to train Deep Q-Learning (DQL) agents\n",
        "on the LunarLander task and the CartPole-v1 task from [Gymnasium](https://www.gymnasium.farama.org)."
      ]
    },
    {
      "attachments": {},
      "cell_type": "markdown",
      "metadata": {},
      "source": [
        "## Task -- LunarLander\n",
        "\n",
        "State dimension: 8\n",
        "- $x,y$ positions\n",
        "- $x,y$ linear velocities\n",
        "- angle and angular velocity\n",
        "- two True/False values indicating whether left or right leg touches the ground or not\n",
        "\n",
        "Action space dimension: 4\n",
        "- 0: do nothing\n",
        "- 1: left engine fire\n",
        "- 2: main engine fire\n",
        "- 3: right engine fire\n",
        "\n",
        "For details of this task please refer to SPH6004 lecture notes. Environment provided by the [Gymnasium](https://gymnasium.farama.org/environments/box2d/lunar_lander/) project.\n",
        "\n",
        "![LunarLander](Figs/lunar_lander.gif)"
      ]
    },
    {
      "attachments": {},
      "cell_type": "markdown",
      "metadata": {
        "id": "yaicoV3vuwMi"
      },
      "source": [
        "## Task -- CartPole-v1\n",
        "\n",
        "The agent has to decide between two actions - moving the cart left or\n",
        "right - so that the pole attached to it stays upright. You can find more\n",
        "information about the environment and other more challenging environments at\n",
        "[Gymnasium's website](https://gymnasium.farama.org/environments/classic_control/cart_pole/)_.\n",
        "\n",
        "![CartPole-v1](Figs/cartpole.gif)\n",
        "\n",
        "As the agent observes the current state of the environment and chooses\n",
        "an action, the environment *transitions* to a new state, and also\n",
        "returns a reward that indicates the consequences of the action. In this\n",
        "task, rewards are +1 for every incremental timestep and the environment\n",
        "terminates if the pole falls over too far or the cart moves more than 2.4\n",
        "units away from center. This means better performing scenarios will run\n",
        "for longer duration, accumulating larger return.\n",
        "\n",
        "The CartPole task is designed so that the inputs to the agent are 4 real\n",
        "values representing the environment state (0: cart position, 1: cart velocity, 2: pole angle (in radians), 3: pole angular velocity).\n",
        "We take these 4 inputs without any scaling and pass them through a \n",
        "small fully-connected network with 2 outputs, one for each action (0: left, 1: right). "
      ]
    },
    {
      "attachments": {},
      "cell_type": "markdown",
      "metadata": {},
      "source": [
        "----"
      ]
    },
    {
      "cell_type": "code",
      "execution_count": 1,
      "metadata": {
        "colab": {
          "base_uri": "https://localhost:8080/"
        },
        "id": "4KYBsUWZuwMl",
        "outputId": "06e3506f-659b-4ccc-b8fd-0220da8d7a9e"
      },
      "outputs": [],
      "source": [
        "# %%bash\n",
        "# pip3 install gymnasium[classic_control]"
      ]
    },
    {
      "cell_type": "code",
      "execution_count": 2,
      "metadata": {
        "id": "-4ryXFF-uwMl"
      },
      "outputs": [],
      "source": [
        "import gymnasium as gym\n",
        "import math\n",
        "import random\n",
        "from collections import namedtuple, deque\n",
        "from itertools import count\n",
        "import numpy as np\n",
        "import torch\n",
        "import torch.nn as nn\n",
        "import torch.optim as optim\n",
        "import torch.nn.functional as F\n",
        "from time import sleep\n",
        "from tqdm.notebook import tqdm\n",
        "import os\n",
        "\n",
        "task = [\"LunarLander-v2\", \"CartPole-v1\"][0]\n",
        "\n",
        "# if gpu is to be used\n",
        "device = torch.device(\"cuda\" if torch.cuda.is_available() else \"cpu\")"
      ]
    },
    {
      "cell_type": "code",
      "execution_count": 3,
      "metadata": {},
      "outputs": [],
      "source": [
        "# Helper function to render environment\n",
        "\n",
        "def render(task=\"LunarLander-v2\", policy_net = None, wind=False):\n",
        "    # if policy_net is None, use randomly sampled policy for action.\n",
        "    if task==\"LunarLander-v2\":\n",
        "        env = gym.make(task,render_mode='human',enable_wind=wind,wind_power=10)\n",
        "    elif task==\"CartPole-v1\":\n",
        "        env = gym.make(task,render_mode='human')\n",
        "\n",
        "    observation, info = env.reset()\n",
        "    total_reward = 0\n",
        "    with torch.no_grad():\n",
        "        for i in count():\n",
        "            if policy_net is None:\n",
        "                action = env.action_space.sample()        \n",
        "            else:\n",
        "                q_values = policy_net(torch.tensor(observation,device=device).unsqueeze(0))\n",
        "                action = q_values.argmax().item()\n",
        "\n",
        "            observation, reward, terminated, truncated, _ = env.step(action)\n",
        "            total_reward += reward\n",
        "            _ = env.render()\n",
        "            if terminated or truncated:\n",
        "                policy_mode = 'random' if policy_net is None else 'policy_net'\n",
        "                print('Poicy is {}, episode duration: {}'.format(policy_mode,i+1))\n",
        "                print('Total reward is {:.2f}'.format(total_reward))\n",
        "                sleep(1)\n",
        "                env.close()\n",
        "                break"
      ]
    },
    {
      "cell_type": "code",
      "execution_count": 4,
      "metadata": {},
      "outputs": [
        {
          "name": "stdout",
          "output_type": "stream",
          "text": [
            "Poicy is random, episode duration: 10\n",
            "Total reward is 10.00\n"
          ]
        }
      ],
      "source": [
        "render(task)"
      ]
    },
    {
      "attachments": {},
      "cell_type": "markdown",
      "metadata": {
        "id": "bKOw5U9buwMn"
      },
      "source": [
        "## Replay Memory\n",
        "\n",
        "Experience relay stores\n",
        "the transitions that the agent observes, allowing us to reuse this data\n",
        "later. By sampling from it randomly, the transitions that build up a\n",
        "batch are decorrelated. It has been shown that this greatly stabilizes\n",
        "and improves the DQL training procedure.\n",
        "\n",
        "For this, we're going to need two classses:\n",
        "\n",
        "-  ``Transition`` - a named tuple representing a single transition in\n",
        "   our environment. It essentially maps (state, action) pairs\n",
        "   to their (next_state, reward) result, with the state being the\n",
        "   screen difference image as described later on.\n",
        "-  ``ReplayMemory`` - a cyclic buffer of bounded size that holds the\n",
        "   transitions observed recently. It also implements a ``.sample()``\n",
        "   method for selecting a random batch of transitions for training.\n",
        "\n",
        "\n"
      ]
    },
    {
      "cell_type": "code",
      "execution_count": 5,
      "metadata": {
        "id": "WyqDNEnouwMn"
      },
      "outputs": [],
      "source": [
        "Transition = namedtuple('Transition',\n",
        "                        ('state', 'action', 'reward', 'next_state'))\n",
        "\n",
        "\n",
        "class ReplayMemory(object):\n",
        "\n",
        "    def __init__(self, capacity):\n",
        "        self.memory = deque([], maxlen=capacity)\n",
        "\n",
        "    def push(self, *args):\n",
        "        \"\"\"Save a transition\"\"\"\n",
        "        self.memory.append(Transition(*args))\n",
        "\n",
        "    def sample(self, batch_size):\n",
        "        return random.sample(self.memory, batch_size)\n",
        "\n",
        "    def __len__(self):\n",
        "        return len(self.memory)"
      ]
    },
    {
      "attachments": {},
      "cell_type": "markdown",
      "metadata": {
        "id": "JV2aFH3FuwMp"
      },
      "source": [
        "Now, let's define our model.\n",
        "\n",
        "### Q-network\n",
        "\n",
        "We will use a feed forward neural network $N$ to approximate best utility functions.\n",
        "\n",
        "#### LunarLander-v2\n",
        "\n",
        "The network $N$ input has dimension 8. It has four outputs, representing $Q(s,\\text{do nothing})$, $Q(s,\\text{left engine fire})$, $Q(s,\\text{main engine fire})$, and $Q(s,\\text{right engine fire})$ (where $s$ is the input to the network representing current state). In effect, the network is trying to predict the *optimal total return* of\n",
        "taking each action given the current input.\n",
        "\n",
        "#### CartPole-v1\n",
        "\n",
        "The network $N$ input has dimension 4. It has two\n",
        "outputs, representing $Q(s, \\mathrm{left})$ and\n",
        "$Q(s, \\mathrm{right})$ (where $s$ is the input to the\n",
        "network representing current state). In effect, the network is trying to predict the *optimal total return* of\n",
        "taking each action given the current input.\n",
        "\n",
        "\n"
      ]
    },
    {
      "cell_type": "code",
      "execution_count": 6,
      "metadata": {
        "id": "gfzY6tmZuwMq"
      },
      "outputs": [],
      "source": [
        "class DQN(nn.Module):\n",
        "\n",
        "    def __init__(self, state_space_dim, n_actions):\n",
        "        super(DQN, self).__init__()\n",
        "        self.layer1 = nn.Linear(state_space_dim, 128)\n",
        "        self.layer2 = nn.Linear(128, 128)\n",
        "        self.layer3 = nn.Linear(128, n_actions)\n",
        "\n",
        "    def forward(self, x):\n",
        "        x = F.relu(self.layer1(x))\n",
        "        x = F.relu(self.layer2(x))\n",
        "        return self.layer3(x)"
      ]
    },
    {
      "attachments": {},
      "cell_type": "markdown",
      "metadata": {},
      "source": [
        "## $\\varepsilon$-greedy algorithm\n",
        "\n",
        "The following cell defines a function to implement $\\varepsilon$-greedy algorithm. Here we use a dynamic $\\varepsilon$, such that at the beginning $t=0$ we have a large $\\varepsilon=\\varepsilon_\\text{start}$, while as number of steps $t\\to \\infty$ the threshold $\\varepsilon\\to \\varepsilon_\\text{end}$ for a small value $\\varepsilon_\\text{end}$. Both $\\varepsilon_\\text{start}$ and $\\varepsilon_\\text{end}$ are hyper-parameters defined later."
      ]
    },
    {
      "cell_type": "code",
      "execution_count": 7,
      "metadata": {
        "id": "mlJJlg2PuwMr"
      },
      "outputs": [],
      "source": [
        "def select_action(state):\n",
        "    global steps_done\n",
        "    sample = random.random()\n",
        "    eps_threshold = EPS_END + (EPS_START - EPS_END) * \\\n",
        "        math.exp(-1. * steps_done / EPS_DECAY)\n",
        "    steps_done += 1\n",
        "    if sample > eps_threshold:\n",
        "        with torch.no_grad():\n",
        "            # we pick action with the larger optimal total rewards\n",
        "            return policy_net(state).max(1)[1].view(1, 1)\n",
        "    else:\n",
        "        # we randomly select an action from environment's action space\n",
        "        return torch.tensor([[env.action_space.sample()]], device=device, dtype=torch.long)\n"
      ]
    },
    {
      "attachments": {},
      "cell_type": "markdown",
      "metadata": {
        "id": "RqWRuYdFuwMq"
      },
      "source": [
        "## Training"
      ]
    },
    {
      "attachments": {},
      "cell_type": "markdown",
      "metadata": {
        "id": "3dAvYr2yuwMs"
      },
      "source": [
        "Finally, the code for training our model.\n",
        "\n",
        "Here, you can find an ``optimize_model`` function that performs a\n",
        "single step of the optimization. It performs the following:\n",
        "1. We sample a batch of experience from our experience replay `memory`, concatenates\n",
        "all the tensors into a single one.\n",
        "\n",
        "2. Computes $Q(s_t, a_t)$ using our policy network.\n",
        "\n",
        "3. Compute $V(s_{t+1}) = \\max_a Q(s_{t+1}, a)$ using our target network.\n",
        "\n",
        "4. Combine $Q(s_t, a_t)$, $V(s_{t+1})$ and the current reward $r_t$ into our loss.\n",
        "\n",
        "5. We set $V(s) = 0$ if $s$ is a terminal state.\n",
        "\n",
        "6. Update policy network by stochastic gradient descent.\n",
        "\n",
        "7. [Soft update](https://arxiv.org/pdf/1509.02971.pdf) update target network. Soft update controlled by the hyperparameter ``TAU``, which will be defined later."
      ]
    },
    {
      "cell_type": "code",
      "execution_count": 8,
      "metadata": {
        "id": "aeTqGCzPuwMs"
      },
      "outputs": [],
      "source": [
        "def optimize_model():\n",
        "    if len(memory) < BATCH_SIZE:\n",
        "        # If we do not have enough experience in experience replay, do nothing\n",
        "        return\n",
        "    \n",
        "    transitions = memory.sample(BATCH_SIZE)\n",
        "    # Transpose the batch (see https://stackoverflow.com/a/19343/3343043 for\n",
        "    # detailed explanation). This converts batch-array of Transitions\n",
        "    # to Transition of batch-arrays.\n",
        "    batch = Transition(*zip(*transitions))\n",
        "\n",
        "    # Compute a mask of non-final states and concatenate the batch elements\n",
        "    # (a final state would've been the one after which simulation ended)\n",
        "    non_final_mask = torch.tensor(tuple(map(lambda s: s is not None,\n",
        "                                          batch.next_state)), device=device, dtype=torch.bool)\n",
        "    non_final_next_states = torch.cat([s for s in batch.next_state\n",
        "                                                if s is not None])\n",
        "    state_batch = torch.cat(batch.state)\n",
        "    action_batch = torch.cat(batch.action)\n",
        "    reward_batch = torch.cat(batch.reward)\n",
        "\n",
        "    # Compute Q(s_t, a) - the model computes Q(s_t), then we select the\n",
        "    # columns of actions taken. These are the actions which would've been taken\n",
        "    # for each batch state according to policy_net\n",
        "    state_action_values = policy_net(state_batch).gather(dim=1, index=action_batch)\n",
        "\n",
        "    # Compute V(s_{t+1}) for all next states.\n",
        "    # Expected values of actions for non_final_next_states are computed based\n",
        "    # on the \"older\" target_net; selecting their best reward with max(1)[0].\n",
        "    # This is merged based on the mask, such that we'll have either the expected\n",
        "    # state value or 0 in case the state was final.\n",
        "    next_state_values = torch.zeros(BATCH_SIZE, device=device)\n",
        "    with torch.no_grad():\n",
        "        next_state_values[non_final_mask] = target_net(non_final_next_states).max(1)[0]\n",
        "    # Compute the expected Q values\n",
        "    expected_state_action_values = (next_state_values * GAMMA) + reward_batch\n",
        "\n",
        "    # Compute Huber loss\n",
        "    criterion = nn.SmoothL1Loss()\n",
        "    loss = criterion(state_action_values, expected_state_action_values.unsqueeze(1))\n",
        "\n",
        "    # Optimize the model\n",
        "    optimizer.zero_grad()\n",
        "    loss.backward()\n",
        "    # In-place gradient clipping\n",
        "    torch.nn.utils.clip_grad_value_(policy_net.parameters(), 100)\n",
        "    optimizer.step()\n",
        "\n",
        "    # Soft update of the target network's weights\n",
        "    # θ′ ← τ θ + (1 −τ )θ′\n",
        "    target_net_state_dict = target_net.state_dict()\n",
        "    policy_net_state_dict = policy_net.state_dict()\n",
        "    for key in policy_net_state_dict:\n",
        "        target_net_state_dict[key] = policy_net_state_dict[key]*TAU + target_net_state_dict[key]*(1-TAU)\n",
        "    target_net.load_state_dict(target_net_state_dict)"
      ]
    },
    {
      "cell_type": "markdown",
      "metadata": {
        "id": "Agl462hquwMt"
      },
      "source": [
        "Below, you can find the main training loop. At the beginning we reset\n",
        "the environment and obtain the initial ``state`` Tensor. Then, we sample\n",
        "an action, execute it, observe the next state and the reward (always\n",
        "1), and optimize our model once. When the episode ends (our model\n",
        "fails), we restart the loop.\n",
        "\n",
        "Below, `num_episodes` is set to 600 if a GPU is available, otherwise 50 \n",
        "episodes are scheduled so training does not take too long. However, 50 \n",
        "episodes is insufficient for to observe good performance on cartpole.\n",
        "You should see the model constantly achieve 500 steps within 600 training \n",
        "episodes. Training RL agents can be a noisy process, so restarting training\n",
        "can produce better results if convergence is not observed.\n",
        "\n",
        "\n"
      ]
    },
    {
      "cell_type": "code",
      "execution_count": 9,
      "metadata": {},
      "outputs": [],
      "source": [
        "# BATCH_SIZE is the number of transitions sampled from the replay buffer\n",
        "# GAMMA is the discount factor as mentioned in the previous section\n",
        "# EPS_START is the starting value of epsilon\n",
        "# EPS_END is the final value of epsilon\n",
        "# EPS_DECAY controls the rate of exponential decay of epsilon, higher means a slower decay\n",
        "# TAU is the update rate of the target network\n",
        "# LR is the learning rate of the AdamW optimizer\n",
        "BATCH_SIZE = 128\n",
        "GAMMA = 0.99\n",
        "EPS_START = 0.9\n",
        "EPS_END = 0.1\n",
        "EPS_DECAY = 10000\n",
        "TAU = 0.005\n",
        "LR = 1e-4\n",
        "\n",
        "env = gym.make(task)\n",
        "\n",
        "# Get number of actions from gym action space\n",
        "n_actions = env.action_space.n\n",
        "# Get the number of state observations\n",
        "state, info = env.reset()\n",
        "n_observations = len(state)\n",
        "episode_durations = []\n",
        "\n",
        "policy_net = DQN(n_observations, n_actions).to(device)\n",
        "target_net = DQN(n_observations, n_actions).to(device)\n",
        "target_net.load_state_dict(policy_net.state_dict())\n",
        "\n",
        "optimizer = optim.AdamW(policy_net.parameters(), lr=LR, amsgrad=True)\n",
        "memory = ReplayMemory(10000)\n",
        "\n",
        "model_save_path = './ckpt'\n",
        "os.makedirs(model_save_path,exist_ok=True)\n",
        "\n",
        "steps_done = 0\n",
        "num_episodes = 1\n",
        "total_rewards = []\n",
        "best_total_rewards = float('-inf')"
      ]
    },
    {
      "cell_type": "code",
      "execution_count": 10,
      "metadata": {
        "colab": {
          "base_uri": "https://localhost:8080/",
          "height": 347
        },
        "id": "7x1myiSEuwMt",
        "outputId": "74f38ab5-3cab-4afb-bd2c-2be49af863ba"
      },
      "outputs": [
        {
          "data": {
            "application/vnd.jupyter.widget-view+json": {
              "model_id": "498ec0d5ba4849c68a3929ccf5a8cf1f",
              "version_major": 2,
              "version_minor": 0
            },
            "text/plain": [
              "  0%|          | 0/1 [00:00<?, ?it/s]"
            ]
          },
          "metadata": {},
          "output_type": "display_data"
        },
        {
          "name": "stdout",
          "output_type": "stream",
          "text": [
            "Episode 0, avg episode_durations 14.00, avg total reward 14.00\n",
            "Complete\n"
          ]
        }
      ],
      "source": [
        "# Training loop\n",
        "for i_episode in tqdm(range(num_episodes)):\n",
        "    # Initialize the environment and get it's state\n",
        "    state, info = env.reset()\n",
        "    total_reward = 0\n",
        "    state = torch.tensor(state, dtype=torch.float32, device=device).unsqueeze(0)\n",
        "    for t in count():\n",
        "        action = select_action(state)\n",
        "        observation, reward, terminated, truncated, _ = env.step(action.item())\n",
        "        total_reward += reward\n",
        "        reward = torch.tensor([reward], device=device)\n",
        "        done = terminated or truncated\n",
        "\n",
        "        if terminated:\n",
        "            next_state = None\n",
        "        else:\n",
        "            next_state = torch.tensor(observation, dtype=torch.float32, device=device).unsqueeze(0)\n",
        "\n",
        "        # Store the transition in memory\n",
        "        memory.push(state, action, reward, next_state)\n",
        "\n",
        "        # Move to the next state\n",
        "        state = next_state\n",
        "\n",
        "        # Perform one step of the optimization (on the policy network)\n",
        "        optimize_model()\n",
        "\n",
        "        if done:\n",
        "            episode_durations.append(t + 1)\n",
        "            total_rewards.append(total_reward)\n",
        "            # print and save model every 50 episodes\n",
        "            aw = np.minimum(len(episode_durations),50)\n",
        "            if i_episode%50 == 0:\n",
        "                if best_total_rewards < np.mean(total_rewards[-aw:]):\n",
        "                    # save model if avg performance is good\n",
        "                    torch.save(policy_net.state_dict(),'./ckpt/{}_checkpoint.pt'.format(task))\n",
        "                    best_total_rewards = np.mean(total_rewards[-aw:])\n",
        "\n",
        "                print('Episode {}, avg episode_durations {:.2f}, avg total reward {:.2f}'.format(i_episode,np.mean(episode_durations[-aw:]),np.mean(total_rewards[-aw:])))\n",
        "            break\n",
        "\n",
        "print('Complete')"
      ]
    },
    {
      "attachments": {},
      "cell_type": "markdown",
      "metadata": {
        "id": "Jw2Lhc_auwMu"
      },
      "source": [
        "Lastly we visualize the trained policy net."
      ]
    },
    {
      "cell_type": "code",
      "execution_count": 11,
      "metadata": {},
      "outputs": [],
      "source": [
        "# torch.save(policy_net.state_dict(),'./ckpt/lunarLander_epoch1000_final.pt')\n",
        "# policy_net = DQN(n_observations, n_actions).to(device)"
      ]
    },
    {
      "cell_type": "code",
      "execution_count": 12,
      "metadata": {},
      "outputs": [
        {
          "ename": "RuntimeError",
          "evalue": "Error(s) in loading state_dict for DQN:\n\tsize mismatch for layer1.weight: copying a param with shape torch.Size([128, 8]) from checkpoint, the shape in current model is torch.Size([128, 4]).\n\tsize mismatch for layer3.weight: copying a param with shape torch.Size([4, 128]) from checkpoint, the shape in current model is torch.Size([2, 128]).\n\tsize mismatch for layer3.bias: copying a param with shape torch.Size([4]) from checkpoint, the shape in current model is torch.Size([2]).",
          "output_type": "error",
          "traceback": [
            "\u001b[0;31m---------------------------------------------------------------------------\u001b[0m",
            "\u001b[0;31mRuntimeError\u001b[0m                              Traceback (most recent call last)",
            "Cell \u001b[0;32mIn[12], line 1\u001b[0m\n\u001b[0;32m----> 1\u001b[0m policy_net\u001b[39m.\u001b[39;49mload_state_dict(torch\u001b[39m.\u001b[39;49mload(\u001b[39m'\u001b[39;49m\u001b[39m./ckpt/_lunarLander_epoch1000_final.pt\u001b[39;49m\u001b[39m'\u001b[39;49m))\n\u001b[1;32m      2\u001b[0m render(task\u001b[39m=\u001b[39mtask, policy_net\u001b[39m=\u001b[39m\u001b[39mNone\u001b[39;00m,wind\u001b[39m=\u001b[39m\u001b[39mFalse\u001b[39;00m)\n",
            "File \u001b[0;32m~/.pyenv/transformer_demo/lib64/python3.10/site-packages/torch/nn/modules/module.py:2041\u001b[0m, in \u001b[0;36mModule.load_state_dict\u001b[0;34m(self, state_dict, strict)\u001b[0m\n\u001b[1;32m   2036\u001b[0m         error_msgs\u001b[39m.\u001b[39minsert(\n\u001b[1;32m   2037\u001b[0m             \u001b[39m0\u001b[39m, \u001b[39m'\u001b[39m\u001b[39mMissing key(s) in state_dict: \u001b[39m\u001b[39m{}\u001b[39;00m\u001b[39m. \u001b[39m\u001b[39m'\u001b[39m\u001b[39m.\u001b[39mformat(\n\u001b[1;32m   2038\u001b[0m                 \u001b[39m'\u001b[39m\u001b[39m, \u001b[39m\u001b[39m'\u001b[39m\u001b[39m.\u001b[39mjoin(\u001b[39m'\u001b[39m\u001b[39m\"\u001b[39m\u001b[39m{}\u001b[39;00m\u001b[39m\"\u001b[39m\u001b[39m'\u001b[39m\u001b[39m.\u001b[39mformat(k) \u001b[39mfor\u001b[39;00m k \u001b[39min\u001b[39;00m missing_keys)))\n\u001b[1;32m   2040\u001b[0m \u001b[39mif\u001b[39;00m \u001b[39mlen\u001b[39m(error_msgs) \u001b[39m>\u001b[39m \u001b[39m0\u001b[39m:\n\u001b[0;32m-> 2041\u001b[0m     \u001b[39mraise\u001b[39;00m \u001b[39mRuntimeError\u001b[39;00m(\u001b[39m'\u001b[39m\u001b[39mError(s) in loading state_dict for \u001b[39m\u001b[39m{}\u001b[39;00m\u001b[39m:\u001b[39m\u001b[39m\\n\u001b[39;00m\u001b[39m\\t\u001b[39;00m\u001b[39m{}\u001b[39;00m\u001b[39m'\u001b[39m\u001b[39m.\u001b[39mformat(\n\u001b[1;32m   2042\u001b[0m                        \u001b[39mself\u001b[39m\u001b[39m.\u001b[39m\u001b[39m__class__\u001b[39m\u001b[39m.\u001b[39m\u001b[39m__name__\u001b[39m, \u001b[39m\"\u001b[39m\u001b[39m\\n\u001b[39;00m\u001b[39m\\t\u001b[39;00m\u001b[39m\"\u001b[39m\u001b[39m.\u001b[39mjoin(error_msgs)))\n\u001b[1;32m   2043\u001b[0m \u001b[39mreturn\u001b[39;00m _IncompatibleKeys(missing_keys, unexpected_keys)\n",
            "\u001b[0;31mRuntimeError\u001b[0m: Error(s) in loading state_dict for DQN:\n\tsize mismatch for layer1.weight: copying a param with shape torch.Size([128, 8]) from checkpoint, the shape in current model is torch.Size([128, 4]).\n\tsize mismatch for layer3.weight: copying a param with shape torch.Size([4, 128]) from checkpoint, the shape in current model is torch.Size([2, 128]).\n\tsize mismatch for layer3.bias: copying a param with shape torch.Size([4]) from checkpoint, the shape in current model is torch.Size([2])."
          ]
        }
      ],
      "source": [
        "\n",
        "policy_net.load_state_dict(torch.load('./ckpt/_lunarLander_epoch1000_final.pt'))\n",
        "render(task=task, policy_net=None,wind=False)"
      ]
    }
  ],
  "metadata": {
    "colab": {
      "provenance": []
    },
    "gpuClass": "standard",
    "kernelspec": {
      "display_name": "Python 3",
      "language": "python",
      "name": "python3"
    },
    "language_info": {
      "codemirror_mode": {
        "name": "ipython",
        "version": 3
      },
      "file_extension": ".py",
      "mimetype": "text/x-python",
      "name": "python",
      "nbconvert_exporter": "python",
      "pygments_lexer": "ipython3",
      "version": "3.10.10"
    }
  },
  "nbformat": 4,
  "nbformat_minor": 0
}
