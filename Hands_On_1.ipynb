{
 "cells": [
  {
   "cell_type": "markdown",
   "metadata": {
    "id": "aAUE4hqdgV5W"
   },
   "source": [
    "# Hands On Regression Analysis\n",
    "\n",
    "Scopes:\n",
    "  * Recap of linear regression\n",
    "  * Loss function of a LR model\n",
    "  * Learning with Gradient Descent\n",
    "  * Applying the above techniques to the [US housing data](https://raw.githubusercontent.com/ageron/handson-ml/master/datasets/housing/housing.csv) using [Pytorch](https://pytorch.org/).\n"
   ]
  },
  {
   "cell_type": "code",
   "execution_count": 2,
   "metadata": {},
   "outputs": [
    {
     "name": "stdout",
     "output_type": "stream",
     "text": [
      "Requirement already satisfied: plotly==5.5.0 in /home/hongfei/anaconda3/lib/python3.8/site-packages (5.5.0)\n",
      "Requirement already satisfied: tenacity>=6.2.0 in /home/hongfei/anaconda3/lib/python3.8/site-packages (from plotly==5.5.0) (6.3.1)\n",
      "Requirement already satisfied: six in /home/hongfei/anaconda3/lib/python3.8/site-packages (from plotly==5.5.0) (1.16.0)\n"
     ]
    }
   ],
   "source": [
    "!pip install plotly==5.5.0"
   ]
  },
  {
   "cell_type": "code",
   "execution_count": 3,
   "metadata": {},
   "outputs": [],
   "source": [
    "# We will be using the following packages\n",
    "import torch\n",
    "import torch.nn as nn\n",
    "from torch.optim import SGD\n",
    "import numpy as np\n",
    "import pandas as pd\n",
    "import plotly.graph_objects as go\n",
    "import plotly.express as px"
   ]
  },
  {
   "cell_type": "markdown",
   "metadata": {
    "id": "E8m_AfeNYBf6"
   },
   "source": [
    "# Recap of linear regression\n",
    "\n",
    "Linear Regression (LR) is one of the simplest machine learning model for predicting continuous outcomes (e.g. time, length). As shown in the figure below, LR tries to learn the statistics (patterns) that exist in a dataset by trying to draw the best fitted line to the data.\n",
    "\n",
    "<p align=\"center\">\n",
    "    <img width=\"75%\" src=\"https://upload.wikimedia.org/wikipedia/commons/3/3a/Linear_regression.svg\"> \n",
    "</p>"
   ]
  },
  {
   "cell_type": "markdown",
   "metadata": {},
   "source": [
    "## Model formulation\n",
    "\n",
    "Linear regression is a supervised learning model. We are given a sequence of **dependent variable** $(\\mathbf x^{(i)})_{i=1}^N$ and the corresponding **labels** $(y^{(i)})_{i=1}^N$, where each dependent variable $\\mathbf x^{(i)}$ is a $M$-dimensional vector of the form\n",
    "\n",
    "$$\n",
    "\\mathbf x^{(i)} = (x_1^{(i)}, x_2^{(i)}, \\cdots, x_M^{(i)}),\n",
    "$$\n",
    "\n",
    "and each label $y^{(i)}$ is a real number. Then the linear regression model has the form (for convenience we define $x^{(i)}_0=1$)\n",
    "\n",
    "\\begin{equation}\n",
    "f_{\\theta}(\\mathbf{x}^{(i)}) = \\theta_{0} + \\theta_{1}x_{1} + ... + \\theta_{M}x_{M} = \\sum_{k = 0}^{M}{ \\theta_{k} x_{k}^{(i)} },\n",
    "\\end{equation}\n",
    "\n",
    "where the $\\theta_i$'s are parameters of the model to be determined by fitting the model to the given data. Our goal is to find the 'best' parameters $\\hat{\\theta}_i$ such that $f_{\\hat{\\theta}}(\\mathbf x^{(i)})\\sim y^{(i)}$."
   ]
  },
  {
   "cell_type": "markdown",
   "metadata": {},
   "source": [
    "## Loss function\n",
    "\n",
    "We find $\\hat{\\theta}$ by minimizing the **Mean Square Error** $ J(\\theta) $ between $f_{\\theta}(\\mathbf{x})$ and $y$:\n",
    "\n",
    "\\begin{equation}\n",
    "J(\\theta) =  \\frac{1}{2N} \\sum_{i = 1}^{N} \\left( f_\\theta(\\mathbf{x}^{(i)}) - y^{(i)} \\right)^2.\n",
    "\\end{equation}\n",
    "\n",
    "This function $J(\\theta)$ is called a **loss function**.\n"
   ]
  },
  {
   "cell_type": "markdown",
   "metadata": {},
   "source": [
    "## To matrix form\n",
    "\n",
    "It is often conventient to re-respresent math equations that deals with large amount of data as concise matrix operations. Therefore, the equations above can be re-written as (recall we have $\\mathbf{x}^{(i)}=(1,x^{(i)}_1,\\cdots, x^{(i)}_M)$):\n",
    "\n",
    "\\begin{equation}\n",
    "f_{\\theta}(\\mathbf{x}^{(i)}) = \\mathbf{\\theta}^\\intercal \\mathbf{x}^{(i)},\n",
    "\\end{equation}\n",
    "\n",
    "\n",
    "\\begin{equation}\n",
    "J(\\theta) =  \\frac{1}{2N} (\\mathbf{X}\\mathbf{\\theta} - \\mathbf{Y})^\\intercal (\\mathbf{X}\\mathbf{\\theta} - \\mathbf{Y})\n",
    "\\end{equation}\n",
    "\n",
    "where $\\mathbf{X}\\in \\mathbb{R}^{N \\times (M+1)} $ and $\\mathbf{Y} \\in \\mathbb{R}^{N \\times 1}$ are matrix representations of training input variables  $\\{{\\mathbf{x}^{(i)}}\\}_{i = 1}^{N}$ and prediction variables $\\{{y^{(i)}}\\}_{i = 1}^{N}$ respectively."
   ]
  },
  {
   "cell_type": "markdown",
   "metadata": {
    "id": "yzmKef0IbBW2"
   },
   "source": [
    "\n",
    "## Finding the best $\\hat{\\theta}$\n",
    "\n",
    "We minimize the loss function to obtain the best $\\hat{\\theta}$:\n",
    "\n",
    "\\begin{equation}\n",
    "\\hat{\\theta} = \\arg\\min_{\\theta} J(\\theta).\n",
    "\\end{equation}\n",
    "\n",
    "Here we introduce two ways to minimize the fuction: 1) by Gradient Descent: a first-order iterative optimization algorithm; 2) by solving the Loss function's first-order derivative equation. \n",
    "\n",
    "\n",
    "<table><tr>\n",
    "\n",
    "<td> <img src=\"https://rasbt.github.io/mlxtend/user_guide/general_concepts/gradient-optimization_files/ball.png\" alt=\"Drawing\" style= width=\"200\" height=\"200\"/> </td>\n",
    "\n",
    "<td> <img src=\"https://hackernoon.com/hn-images/1*f9a162GhpMbiTVTAua_lLQ.png\" alt=\"Drawing\" stylewidth=\"200\" height=\"200\"/> </td>\n",
    "\n",
    "</tr></table>\n",
    "\n",
    "### 1) Gradient Descent\n",
    "\n",
    "Gradient Descent finds the minimum of a loss function by repeatly taking steps in the opposite direction of the gradient of the function, because this is the direction of steepest descent. Overtime, the weights of the model navigates to a point where the loss is very close to its minimum.\n",
    "\n",
    "Formally, given a parameter $\\theta_{t}$ at time $t$, we compute the next parameter $\\theta_{t+1}$ as :\n",
    "\n",
    "\\begin{equation} \n",
    "\\theta_{t+1} \\leftarrow \\theta_{t} - \\eta * \\nabla_{\\theta} J(\\theta_{t})\n",
    "\\end{equation}\n",
    "\n",
    "where $\\eta$ is a learning rate usually set within $[0.00001, 0.1]$ and $\\nabla_{\\theta} J(\\theta_{t}) $ is the Jacobian of the loss function\n",
    "\n",
    "\\begin{equation}\n",
    "\\nabla_{\\theta} J = [\\frac{\\partial J(\\theta)}{\\partial \\theta_0}, \\frac{\\partial J(\\theta)}{\\partial \\theta_1}, ..., \\frac{\\partial J(\\theta)}{\\partial \\theta_M}]^\\intercal = \\frac{1}{N}\\mathbf X^\\intercal (\\mathbf X\\theta - \\mathbf Y)\n",
    "\\end{equation}\n",
    "\n",
    "evaluated at $\\theta_t$.\n",
    "\n",
    "### 2) Solving the Loss function's first-order derivative equation\n",
    "\n",
    "One advantage of linear regression is that its loss function's first-order derivative equation is solvable. Using the differentiation rules, we can easily get the function's first-order derivative equation:\n",
    "\n",
    "\\begin{equation}\n",
    "\\frac{\\partial J(\\theta)}{\\partial \\theta_k} = \\sum_i \\mathbf{x}^{(i)}_k \\left(f_{\\hat{\\theta}}(\\mathbf{x}^{(i)}) - y^{(i)}\\right) = 0,\\quad k=0,1,\\cdots, M.\n",
    "\\end{equation}\n",
    "\n",
    "Solving these first-order equations gives\n",
    "\n",
    "\\begin{equation}\n",
    "\\hat{\\mathbf{\\theta}} = (\\mathbf{X}^\\intercal \\mathbf{X})^{-1}\\mathbf{X}^\\intercal \\mathbf{Y}.\n",
    "\\end{equation}\n",
    "\n",
    "\n",
    "\n"
   ]
  },
  {
   "cell_type": "markdown",
   "metadata": {
    "id": "TmHvNO6Mpe8C"
   },
   "source": [
    "-----\n",
    "-----\n",
    "# Linear Regression in Python\n",
    "\n",
    "For this tutorial, we will use Python with Pytorch API to implement linear regression. [Pytorch](https://pytorch.org/) is a Deep learning framework developed by facebook to accelerate Deep learning research."
   ]
  },
  {
   "cell_type": "markdown",
   "metadata": {
    "id": "W1zn0hUwK4UZ"
   },
   "source": [
    "## Basic math operations in Pytorch\n",
    "\n",
    "Pytorch provides many useful basic matrix operations such as multiplication, transpose, inversion etc. **To use these operations we first need to  declare our data as a tensor datatype**."
   ]
  },
  {
   "cell_type": "code",
   "execution_count": 4,
   "metadata": {
    "id": "j1IZlHgGM8QG"
   },
   "outputs": [
    {
     "name": "stdout",
     "output_type": "stream",
     "text": [
      "tensor([[-1.1516, -2.3443],\n",
      "        [-0.0969, -0.3751]])\n"
     ]
    }
   ],
   "source": [
    "# call a package\n",
    "import torch \n",
    "\n",
    "# generate a random tensor\n",
    "X1 = torch.randn(2,2)\n",
    "print(X1)"
   ]
  },
  {
   "cell_type": "code",
   "execution_count": 5,
   "metadata": {},
   "outputs": [
    {
     "name": "stdout",
     "output_type": "stream",
     "text": [
      "tensor([[1.3263, 5.4959],\n",
      "        [0.0094, 0.1407]])\n"
     ]
    }
   ],
   "source": [
    "# Pointwise multiplication\n",
    "O0 = X1*X1\n",
    "print(O0)"
   ]
  },
  {
   "cell_type": "code",
   "execution_count": 6,
   "metadata": {},
   "outputs": [
    {
     "name": "stdout",
     "output_type": "stream",
     "text": [
      "tensor([[-1.1516, -0.0969],\n",
      "        [-2.3443, -0.3751]])\n"
     ]
    }
   ],
   "source": [
    "# transpose\n",
    "O1 = X1.t()\n",
    "print(O1)"
   ]
  },
  {
   "cell_type": "code",
   "execution_count": 7,
   "metadata": {},
   "outputs": [
    {
     "name": "stdout",
     "output_type": "stream",
     "text": [
      "tensor([[6.8221, 0.9909],\n",
      "        [0.9909, 0.1501]])\n"
     ]
    }
   ],
   "source": [
    "# matrix multiplication\n",
    "O2 = X1 @ torch.transpose(X1, 1, 0) \n",
    "print(O2)"
   ]
  },
  {
   "cell_type": "code",
   "execution_count": 8,
   "metadata": {},
   "outputs": [
    {
     "name": "stdout",
     "output_type": "stream",
     "text": [
      "tensor([[-1.8303, 11.4382],\n",
      "        [ 0.4725, -5.6189]])\n"
     ]
    }
   ],
   "source": [
    "# inverse\n",
    "O3 = X1.inverse()\n",
    "print(O3)"
   ]
  },
  {
   "cell_type": "markdown",
   "metadata": {
    "id": "7iblDFoPQ5ax"
   },
   "source": [
    "--------\n",
    "Now, lets convert maths to codes\n",
    "\n",
    "1. Inference :\n",
    "\\begin{equation}\n",
    "f_{\\theta}(\\mathbf{X}) = f( \\mathbf{X} ;\\theta )  = \\mathbf{X}\\mathbf{\\theta}\n",
    "\\end{equation}\n"
   ]
  },
  {
   "cell_type": "code",
   "execution_count": 9,
   "metadata": {
    "id": "u1kGSaBHTjTA"
   },
   "outputs": [],
   "source": [
    "def f(X, Theta):\n",
    "    return X @ Theta"
   ]
  },
  {
   "cell_type": "markdown",
   "metadata": {
    "id": "I15OBJ4oVG6l"
   },
   "source": [
    "2. Loss:\n",
    "\\begin{equation}\n",
    "J(\\theta) = \\frac{1}{2N} (\\mathbf{X}\\mathbf{\\theta} - \\mathbf{Y})^\\intercal(\\mathbf{X}\\mathbf{\\theta} - \\mathbf{Y})\n",
    "\\end{equation}\n"
   ]
  },
  {
   "cell_type": "code",
   "execution_count": 10,
   "metadata": {
    "id": "hyPQ37vdVQ8H"
   },
   "outputs": [],
   "source": [
    "# YHat is X @ Theta\n",
    "def J(Y, YHat):\n",
    "    N = Y.shape[0]\n",
    "    tmp = YHat-Y\n",
    "    loss = ( tmp.t() @ tmp ) / (2*N)\n",
    "    return loss.squeeze()"
   ]
  },
  {
   "cell_type": "markdown",
   "metadata": {
    "id": "ZSoo_NxwXkbg"
   },
   "source": [
    "3. Jacobian\n",
    "\n",
    "\\begin{equation}\n",
    "\\nabla_{\\theta} J(\\theta_{t}) = \\frac{1}{N}\\mathbf{X}^\\intercal (f_{\\theta_t}(\\mathbf X) - \\mathbf{Y})\n",
    "\\end{equation}\n",
    "\n"
   ]
  },
  {
   "cell_type": "code",
   "execution_count": 11,
   "metadata": {
    "id": "b_acW8PyX5y9"
   },
   "outputs": [],
   "source": [
    "def jacob(X, Y, YHat):\n",
    "    N = Y.shape[0]\n",
    "    return X.t() @ (YHat - Y)/N"
   ]
  },
  {
   "cell_type": "markdown",
   "metadata": {
    "id": "Yh8xA6Wg05G9"
   },
   "source": [
    "4. Gradient Descent\n",
    "\n",
    "\n",
    "\\begin{equation}\n",
    "\\theta_{t+1} \\leftarrow \\theta_{t} - \\eta * \\nabla_{\\theta} J(\\theta_{t}) \n",
    "\\end{equation}\n",
    "\n",
    "<!-- \\begin{equation}\n",
    "\\theta_{0} \\sim N(0,\\frac{I^{M \\times M}}{M})\n",
    "\\end{equation} -->\n"
   ]
  },
  {
   "cell_type": "code",
   "execution_count": 12,
   "metadata": {
    "id": "QG3u6jyC00rj"
   },
   "outputs": [],
   "source": [
    "def GD(X, Y, lr = 0.00001, nIter = 1000):\n",
    "\n",
    "    N, M = X.shape\n",
    "\n",
    "    for n in range(nIter):\n",
    "\n",
    "        if n == 0 : ThetaNow = torch.randn(M,1)/M\n",
    "        else      : ThetaNow = ThetaNext    \n",
    "\n",
    "        ThetaNext = ThetaNow - lr*jacob(X, Y, f(X, ThetaNow))\n",
    "\n",
    "    Theta = ThetaNext\n",
    "\n",
    "    return Theta"
   ]
  },
  {
   "cell_type": "markdown",
   "metadata": {
    "id": "bZiZ4kCXfPCR"
   },
   "source": [
    "5. Batch Gradient Descent\n",
    "\n",
    "   In practice, the size of data $ \\{(\\mathbf{x}^{(i)}, y^{(i)} )\\}_{i = 1}^{N} $ could be so large that it can't fit into a computer's memory. An alternative is to randomly sample a subset (batch) of the dataset for every interation. We call this technique as **Batch Gradient Descent**. Bigger batch size is prefered for a faster and more stable training."
   ]
  },
  {
   "cell_type": "code",
   "execution_count": 13,
   "metadata": {
    "id": "5G8VqLgsjwD6"
   },
   "outputs": [],
   "source": [
    "import numpy as np \n",
    "\n",
    "def BGD(X, Y,\n",
    "        lr = 0.00001,\n",
    "        nIter = 1000,\n",
    "        batchProportion = 0.1 # 10 percent\n",
    "        ):\n",
    "\n",
    "    N, M = X.shape\n",
    "\n",
    "    batchSize = int(N * batchProportion)\n",
    "\n",
    "    for n in range(nIter):\n",
    "\n",
    "        if n == 0 : ThetaNow = torch.randn(M,1)/M\n",
    "        else      : ThetaNow = ThetaNext\n",
    "\n",
    "        idx = np.random.choice(range(N), size=batchSize)\n",
    "\n",
    "        X_batch = X[idx]\n",
    "        Y_batch = Y[idx]\n",
    "\n",
    "        ThetaNext = ThetaNow - lr*jacob(X_batch, Y_batch, f(X_batch, ThetaNow))\n",
    "\n",
    "    Theta = ThetaNext\n",
    "\n",
    "    return Theta"
   ]
  },
  {
   "cell_type": "markdown",
   "metadata": {
    "id": "YLG0LNNKvX92"
   },
   "source": [
    "6. Batch Gradient descent with momentum\n",
    "\n",
    "    Graident Descent algorithm is memeryless: its weight update rule solely depends on the gradient $ \\nabla_{\\theta} J(\\theta_{t}) $ that is computed at time $t$. As a result GD tends to oscillate across non-informative slopes while only making small progress towards reaching the good local minima. \n",
    "\n",
    "    Momentum is a method that helps accelerate GD in the relevant direction and dampens oscillations. It does this by caching previous updates with a constant $\\gamma$ :\n",
    "\n",
    "    \\begin{equation}\n",
    "    v_{t+1} \\leftarrow \\gamma v_{t} + \\eta * \\nabla_{\\theta} J(\\theta_{t}) \\;\\;\\;\\;\\;\\;\\ (Step \\; 1)\n",
    "    \\end{equation}\n",
    "    \\begin{equation}\n",
    "    \\theta_{t+1} \\leftarrow \\theta_{t} -v_{t+1} \\;\\;\\;\\;\\;\\;\\;\\;\\;\\;\\;\\;\\;\\;\\;\\;\\;\\;\\ (Step \\; 2)\n",
    "    \\end{equation}\n",
    "<!--     \\begin{equation}\n",
    "    \\theta_{0} \\sim N(0,\\frac{I^{M \\times M}}{M})\n",
    "    \\end{equation}\n",
    "    \\begin{equation}\n",
    "    v_{0} = 0^{1 \\times M}\n",
    "    \\end{equation}\n",
    " -->\n",
    "\n"
   ]
  },
  {
   "cell_type": "code",
   "execution_count": 14,
   "metadata": {
    "id": "b2TZrk-k3VVU"
   },
   "outputs": [],
   "source": [
    "import numpy as np \n",
    "\n",
    "def MBGD(X, Y,\n",
    "         lr = 0.00001,\n",
    "         gamma  = 0.9,\n",
    "         nIter = 1000,\n",
    "         batchProportion = 0.1 # 10 percent\n",
    "        ):\n",
    "\n",
    "    N, M = X.shape\n",
    "\n",
    "    batchSize = int(N * batchProportion)\n",
    "\n",
    "    for n in range(nIter):\n",
    "\n",
    "        if n == 0 : \n",
    "            ThetaNow = torch.randn(M,1)/M\n",
    "            VNow     = torch.zeros(M,1)\n",
    "        else      : \n",
    "            ThetaNow = ThetaNext\n",
    "            VNow     = VNext\n",
    "\n",
    "        idx = np.random.choice(range(N), size=batchSize)\n",
    "    \n",
    "        X_batch = X[idx]\n",
    "        Y_batch = Y[idx]\n",
    "    \n",
    "\n",
    "        VNext = gamma*VNow + lr*jacob(X_batch, Y_batch, f(X_batch, ThetaNow))    \n",
    "        ThetaNext = ThetaNow - VNext\n",
    "    \n",
    "    Theta = ThetaNext\n",
    "\n",
    "    return Theta"
   ]
  },
  {
   "cell_type": "markdown",
   "metadata": {
    "id": "8aa-m94VeLDt"
   },
   "source": [
    "7. closed form solver\n",
    "\n",
    "\\begin{equation}\n",
    "\\hat{\\mathbf{\\theta}} = (\\mathbf{X}^{\\intercal}\\mathbf{X})^{-1}\\mathbf{X}^{\\intercal}\\mathbf{Y}\n",
    "\\end{equation}\n"
   ]
  },
  {
   "cell_type": "code",
   "execution_count": 15,
   "metadata": {
    "id": "HP8pVTtWeGU2"
   },
   "outputs": [],
   "source": [
    "def CF(X, Y):\n",
    "    return (X.t() @ X).inverse() @ X.t() @ Y"
   ]
  },
  {
   "cell_type": "markdown",
   "metadata": {
    "id": "Cb6kCpy_Z3ZZ"
   },
   "source": [
    "## An Example Using the California Housing Dataset\n",
    "\n",
    "This [dataset](https://online.stat.psu.edu/stat462/sites/onlinecourses.science.psu.edu.stat462/files/data/poverty/index.txt) is a modified version of the California Housing dataset available from Luís Torgo's page (University of Porto). Luís Torgo obtained it from the StatLib repository (which is closed now). The dataset may also be downloaded from StatLib mirrors.\n",
    "\n",
    "This dataset appeared in a 1997 paper titled Sparse Spatial Autoregressions by Pace, R. Kelley and Ronald Barry, published in the Statistics and Probability Letters journal. They built it using the 1990 California census data. It contains one row per census block group. A block group is the smallest geographical unit for which the U.S. Census Bureau publishes sample data (a block group typically has a population of 600 to 3,000 people).\n",
    "\n",
    "<p align=\"center\">\n",
    "    <img width=\"100%\" src=\"https://www.geocurrents.info/wp-content/uploads/2016/01/California-Average-Home-Price-Map.png\"> \n",
    "</p>\n"
   ]
  },
  {
   "cell_type": "markdown",
   "metadata": {
    "id": "Ha_QCOOyQJq5"
   },
   "source": [
    "### Download and Process the Dataset"
   ]
  },
  {
   "cell_type": "code",
   "execution_count": 16,
   "metadata": {
    "colab": {
     "base_uri": "https://localhost:8080/",
     "height": 218
    },
    "id": "VSqKbRk8rwJB",
    "outputId": "182c99c2-d76e-47d6-ad31-56e8448930b0"
   },
   "outputs": [
    {
     "data": {
      "text/html": [
       "<div>\n",
       "<style scoped>\n",
       "    .dataframe tbody tr th:only-of-type {\n",
       "        vertical-align: middle;\n",
       "    }\n",
       "\n",
       "    .dataframe tbody tr th {\n",
       "        vertical-align: top;\n",
       "    }\n",
       "\n",
       "    .dataframe thead th {\n",
       "        text-align: right;\n",
       "    }\n",
       "</style>\n",
       "<table border=\"1\" class=\"dataframe\">\n",
       "  <thead>\n",
       "    <tr style=\"text-align: right;\">\n",
       "      <th></th>\n",
       "      <th>longitude</th>\n",
       "      <th>latitude</th>\n",
       "      <th>housing_median_age</th>\n",
       "      <th>total_rooms</th>\n",
       "      <th>total_bedrooms</th>\n",
       "      <th>population</th>\n",
       "      <th>households</th>\n",
       "      <th>median_income</th>\n",
       "      <th>median_house_value</th>\n",
       "      <th>ocean_proximity</th>\n",
       "    </tr>\n",
       "  </thead>\n",
       "  <tbody>\n",
       "    <tr>\n",
       "      <th>0</th>\n",
       "      <td>-122.23</td>\n",
       "      <td>37.88</td>\n",
       "      <td>41.0</td>\n",
       "      <td>880.0</td>\n",
       "      <td>129.0</td>\n",
       "      <td>322.0</td>\n",
       "      <td>126.0</td>\n",
       "      <td>8.3252</td>\n",
       "      <td>452600.0</td>\n",
       "      <td>NEAR BAY</td>\n",
       "    </tr>\n",
       "    <tr>\n",
       "      <th>1</th>\n",
       "      <td>-122.22</td>\n",
       "      <td>37.86</td>\n",
       "      <td>21.0</td>\n",
       "      <td>7099.0</td>\n",
       "      <td>1106.0</td>\n",
       "      <td>2401.0</td>\n",
       "      <td>1138.0</td>\n",
       "      <td>8.3014</td>\n",
       "      <td>358500.0</td>\n",
       "      <td>NEAR BAY</td>\n",
       "    </tr>\n",
       "    <tr>\n",
       "      <th>2</th>\n",
       "      <td>-122.24</td>\n",
       "      <td>37.85</td>\n",
       "      <td>52.0</td>\n",
       "      <td>1467.0</td>\n",
       "      <td>190.0</td>\n",
       "      <td>496.0</td>\n",
       "      <td>177.0</td>\n",
       "      <td>7.2574</td>\n",
       "      <td>352100.0</td>\n",
       "      <td>NEAR BAY</td>\n",
       "    </tr>\n",
       "    <tr>\n",
       "      <th>3</th>\n",
       "      <td>-122.25</td>\n",
       "      <td>37.85</td>\n",
       "      <td>52.0</td>\n",
       "      <td>1274.0</td>\n",
       "      <td>235.0</td>\n",
       "      <td>558.0</td>\n",
       "      <td>219.0</td>\n",
       "      <td>5.6431</td>\n",
       "      <td>341300.0</td>\n",
       "      <td>NEAR BAY</td>\n",
       "    </tr>\n",
       "    <tr>\n",
       "      <th>4</th>\n",
       "      <td>-122.25</td>\n",
       "      <td>37.85</td>\n",
       "      <td>52.0</td>\n",
       "      <td>1627.0</td>\n",
       "      <td>280.0</td>\n",
       "      <td>565.0</td>\n",
       "      <td>259.0</td>\n",
       "      <td>3.8462</td>\n",
       "      <td>342200.0</td>\n",
       "      <td>NEAR BAY</td>\n",
       "    </tr>\n",
       "  </tbody>\n",
       "</table>\n",
       "</div>"
      ],
      "text/plain": [
       "   longitude  latitude  housing_median_age  total_rooms  total_bedrooms  \\\n",
       "0    -122.23     37.88                41.0        880.0           129.0   \n",
       "1    -122.22     37.86                21.0       7099.0          1106.0   \n",
       "2    -122.24     37.85                52.0       1467.0           190.0   \n",
       "3    -122.25     37.85                52.0       1274.0           235.0   \n",
       "4    -122.25     37.85                52.0       1627.0           280.0   \n",
       "\n",
       "   population  households  median_income  median_house_value ocean_proximity  \n",
       "0       322.0       126.0         8.3252            452600.0        NEAR BAY  \n",
       "1      2401.0      1138.0         8.3014            358500.0        NEAR BAY  \n",
       "2       496.0       177.0         7.2574            352100.0        NEAR BAY  \n",
       "3       558.0       219.0         5.6431            341300.0        NEAR BAY  \n",
       "4       565.0       259.0         3.8462            342200.0        NEAR BAY  "
      ]
     },
     "execution_count": 16,
     "metadata": {},
     "output_type": "execute_result"
    }
   ],
   "source": [
    "import pandas as pd\n",
    "\n",
    "url = \"https://raw.githubusercontent.com/ageron/handson-ml/master/datasets/housing/housing.csv\"\n",
    "df = pd.read_csv(url)\n",
    "df.head(5)"
   ]
  },
  {
   "cell_type": "code",
   "execution_count": 17,
   "metadata": {
    "colab": {
     "base_uri": "https://localhost:8080/",
     "height": 398
    },
    "id": "mTRBW3hKtEIF",
    "outputId": "81cf6d6b-654c-48ec-d648-714682ed5bf1"
   },
   "outputs": [
    {
     "data": {
      "text/html": [
       "<div>\n",
       "<style scoped>\n",
       "    .dataframe tbody tr th:only-of-type {\n",
       "        vertical-align: middle;\n",
       "    }\n",
       "\n",
       "    .dataframe tbody tr th {\n",
       "        vertical-align: top;\n",
       "    }\n",
       "\n",
       "    .dataframe thead th {\n",
       "        text-align: right;\n",
       "    }\n",
       "</style>\n",
       "<table border=\"1\" class=\"dataframe\">\n",
       "  <thead>\n",
       "    <tr style=\"text-align: right;\">\n",
       "      <th></th>\n",
       "      <th>longitude</th>\n",
       "      <th>latitude</th>\n",
       "      <th>housing_median_age</th>\n",
       "      <th>total_rooms</th>\n",
       "      <th>total_bedrooms</th>\n",
       "      <th>population</th>\n",
       "      <th>households</th>\n",
       "      <th>median_income</th>\n",
       "      <th>median_house_value</th>\n",
       "      <th>ocean_proximity</th>\n",
       "    </tr>\n",
       "  </thead>\n",
       "  <tbody>\n",
       "    <tr>\n",
       "      <th>count</th>\n",
       "      <td>20433.000000</td>\n",
       "      <td>20433.000000</td>\n",
       "      <td>20433.000000</td>\n",
       "      <td>20433.000000</td>\n",
       "      <td>20433.000000</td>\n",
       "      <td>20433.000000</td>\n",
       "      <td>20433.000000</td>\n",
       "      <td>20433.000000</td>\n",
       "      <td>20433.000000</td>\n",
       "      <td>20433</td>\n",
       "    </tr>\n",
       "    <tr>\n",
       "      <th>unique</th>\n",
       "      <td>NaN</td>\n",
       "      <td>NaN</td>\n",
       "      <td>NaN</td>\n",
       "      <td>NaN</td>\n",
       "      <td>NaN</td>\n",
       "      <td>NaN</td>\n",
       "      <td>NaN</td>\n",
       "      <td>NaN</td>\n",
       "      <td>NaN</td>\n",
       "      <td>5</td>\n",
       "    </tr>\n",
       "    <tr>\n",
       "      <th>top</th>\n",
       "      <td>NaN</td>\n",
       "      <td>NaN</td>\n",
       "      <td>NaN</td>\n",
       "      <td>NaN</td>\n",
       "      <td>NaN</td>\n",
       "      <td>NaN</td>\n",
       "      <td>NaN</td>\n",
       "      <td>NaN</td>\n",
       "      <td>NaN</td>\n",
       "      <td>&lt;1H OCEAN</td>\n",
       "    </tr>\n",
       "    <tr>\n",
       "      <th>freq</th>\n",
       "      <td>NaN</td>\n",
       "      <td>NaN</td>\n",
       "      <td>NaN</td>\n",
       "      <td>NaN</td>\n",
       "      <td>NaN</td>\n",
       "      <td>NaN</td>\n",
       "      <td>NaN</td>\n",
       "      <td>NaN</td>\n",
       "      <td>NaN</td>\n",
       "      <td>9034</td>\n",
       "    </tr>\n",
       "    <tr>\n",
       "      <th>mean</th>\n",
       "      <td>-119.570689</td>\n",
       "      <td>35.633221</td>\n",
       "      <td>28.633094</td>\n",
       "      <td>2636.504233</td>\n",
       "      <td>537.870553</td>\n",
       "      <td>1424.946949</td>\n",
       "      <td>499.433465</td>\n",
       "      <td>3.871162</td>\n",
       "      <td>206864.413155</td>\n",
       "      <td>NaN</td>\n",
       "    </tr>\n",
       "    <tr>\n",
       "      <th>std</th>\n",
       "      <td>2.003578</td>\n",
       "      <td>2.136348</td>\n",
       "      <td>12.591805</td>\n",
       "      <td>2185.269567</td>\n",
       "      <td>421.385070</td>\n",
       "      <td>1133.208490</td>\n",
       "      <td>382.299226</td>\n",
       "      <td>1.899291</td>\n",
       "      <td>115435.667099</td>\n",
       "      <td>NaN</td>\n",
       "    </tr>\n",
       "    <tr>\n",
       "      <th>min</th>\n",
       "      <td>-124.350000</td>\n",
       "      <td>32.540000</td>\n",
       "      <td>1.000000</td>\n",
       "      <td>2.000000</td>\n",
       "      <td>1.000000</td>\n",
       "      <td>3.000000</td>\n",
       "      <td>1.000000</td>\n",
       "      <td>0.499900</td>\n",
       "      <td>14999.000000</td>\n",
       "      <td>NaN</td>\n",
       "    </tr>\n",
       "    <tr>\n",
       "      <th>25%</th>\n",
       "      <td>-121.800000</td>\n",
       "      <td>33.930000</td>\n",
       "      <td>18.000000</td>\n",
       "      <td>1450.000000</td>\n",
       "      <td>296.000000</td>\n",
       "      <td>787.000000</td>\n",
       "      <td>280.000000</td>\n",
       "      <td>2.563700</td>\n",
       "      <td>119500.000000</td>\n",
       "      <td>NaN</td>\n",
       "    </tr>\n",
       "    <tr>\n",
       "      <th>50%</th>\n",
       "      <td>-118.490000</td>\n",
       "      <td>34.260000</td>\n",
       "      <td>29.000000</td>\n",
       "      <td>2127.000000</td>\n",
       "      <td>435.000000</td>\n",
       "      <td>1166.000000</td>\n",
       "      <td>409.000000</td>\n",
       "      <td>3.536500</td>\n",
       "      <td>179700.000000</td>\n",
       "      <td>NaN</td>\n",
       "    </tr>\n",
       "    <tr>\n",
       "      <th>75%</th>\n",
       "      <td>-118.010000</td>\n",
       "      <td>37.720000</td>\n",
       "      <td>37.000000</td>\n",
       "      <td>3143.000000</td>\n",
       "      <td>647.000000</td>\n",
       "      <td>1722.000000</td>\n",
       "      <td>604.000000</td>\n",
       "      <td>4.744000</td>\n",
       "      <td>264700.000000</td>\n",
       "      <td>NaN</td>\n",
       "    </tr>\n",
       "    <tr>\n",
       "      <th>max</th>\n",
       "      <td>-114.310000</td>\n",
       "      <td>41.950000</td>\n",
       "      <td>52.000000</td>\n",
       "      <td>39320.000000</td>\n",
       "      <td>6445.000000</td>\n",
       "      <td>35682.000000</td>\n",
       "      <td>6082.000000</td>\n",
       "      <td>15.000100</td>\n",
       "      <td>500001.000000</td>\n",
       "      <td>NaN</td>\n",
       "    </tr>\n",
       "  </tbody>\n",
       "</table>\n",
       "</div>"
      ],
      "text/plain": [
       "           longitude      latitude  housing_median_age   total_rooms  \\\n",
       "count   20433.000000  20433.000000        20433.000000  20433.000000   \n",
       "unique           NaN           NaN                 NaN           NaN   \n",
       "top              NaN           NaN                 NaN           NaN   \n",
       "freq             NaN           NaN                 NaN           NaN   \n",
       "mean     -119.570689     35.633221           28.633094   2636.504233   \n",
       "std         2.003578      2.136348           12.591805   2185.269567   \n",
       "min      -124.350000     32.540000            1.000000      2.000000   \n",
       "25%      -121.800000     33.930000           18.000000   1450.000000   \n",
       "50%      -118.490000     34.260000           29.000000   2127.000000   \n",
       "75%      -118.010000     37.720000           37.000000   3143.000000   \n",
       "max      -114.310000     41.950000           52.000000  39320.000000   \n",
       "\n",
       "        total_bedrooms    population    households  median_income  \\\n",
       "count     20433.000000  20433.000000  20433.000000   20433.000000   \n",
       "unique             NaN           NaN           NaN            NaN   \n",
       "top                NaN           NaN           NaN            NaN   \n",
       "freq               NaN           NaN           NaN            NaN   \n",
       "mean        537.870553   1424.946949    499.433465       3.871162   \n",
       "std         421.385070   1133.208490    382.299226       1.899291   \n",
       "min           1.000000      3.000000      1.000000       0.499900   \n",
       "25%         296.000000    787.000000    280.000000       2.563700   \n",
       "50%         435.000000   1166.000000    409.000000       3.536500   \n",
       "75%         647.000000   1722.000000    604.000000       4.744000   \n",
       "max        6445.000000  35682.000000   6082.000000      15.000100   \n",
       "\n",
       "        median_house_value ocean_proximity  \n",
       "count         20433.000000           20433  \n",
       "unique                 NaN               5  \n",
       "top                    NaN       <1H OCEAN  \n",
       "freq                   NaN            9034  \n",
       "mean         206864.413155             NaN  \n",
       "std          115435.667099             NaN  \n",
       "min           14999.000000             NaN  \n",
       "25%          119500.000000             NaN  \n",
       "50%          179700.000000             NaN  \n",
       "75%          264700.000000             NaN  \n",
       "max          500001.000000             NaN  "
      ]
     },
     "execution_count": 17,
     "metadata": {},
     "output_type": "execute_result"
    }
   ],
   "source": [
    "# We drop entries with missing values\n",
    "df = df.dropna(how='any')\n",
    "df.describe(include='all')"
   ]
  },
  {
   "cell_type": "markdown",
   "metadata": {
    "id": "wn74CPZxuJ_q"
   },
   "source": [
    "Now lets do feature selection and preprocessing"
   ]
  },
  {
   "cell_type": "code",
   "execution_count": 18,
   "metadata": {
    "id": "dEfQHEeItgZR"
   },
   "outputs": [],
   "source": [
    "conX = df[ [\"longitude\",\n",
    "            \"latitude\",\n",
    "            \"total_rooms\",\n",
    "            \"total_bedrooms\",\n",
    "            \"population\", \n",
    "            \"households\"]].apply(lambda x: (x-x.mean()) / x.std(), axis=0)\n",
    "\n",
    "catX = pd.get_dummies( df[\"ocean_proximity\"], prefix='ocean_proximity', drop_first=True)\n",
    " \n",
    "\n",
    "X = pd.concat([conX, catX] , axis = 1)\n",
    "X[\"bias\"] = 1\n",
    "\n",
    "Y = df[[\"median_house_value\"]].apply(lambda x: (x-x.mean())/ x.std(), axis=0)\n",
    "X = torch.tensor(X.to_numpy()).type(torch.float32)\n",
    "Y = torch.tensor(Y.to_numpy()).type(torch.float32)"
   ]
  },
  {
   "cell_type": "code",
   "execution_count": 19,
   "metadata": {},
   "outputs": [
    {
     "name": "stdout",
     "output_type": "stream",
     "text": [
      "torch.Size([20433, 11])\n"
     ]
    }
   ],
   "source": [
    "print(X.shape)"
   ]
  },
  {
   "cell_type": "code",
   "execution_count": 20,
   "metadata": {},
   "outputs": [
    {
     "name": "stdout",
     "output_type": "stream",
     "text": [
      "torch.Size([20433, 1])\n"
     ]
    }
   ],
   "source": [
    "print(Y.shape)"
   ]
  },
  {
   "cell_type": "markdown",
   "metadata": {
    "id": "W9yudKkzuYpu"
   },
   "source": [
    "We are all set! We have the $\\mathbf{X}$ and $\\mathbf{Y}$ which are the only inputs required for training our LR model. Lets start training."
   ]
  },
  {
   "cell_type": "code",
   "execution_count": 21,
   "metadata": {
    "colab": {
     "base_uri": "https://localhost:8080/"
    },
    "id": "rPSfSIBfAsyz",
    "outputId": "87832415-ee8c-48d4-8b4c-37c51f620079"
   },
   "outputs": [
    {
     "name": "stdout",
     "output_type": "stream",
     "text": [
      "training with GD ...\n",
      "took 0.07318 seconds\n",
      "training with BGD ...\n",
      "took 1.59010 seconds\n",
      "training with MBGD ...\n",
      "took 1.54296 seconds\n",
      "training with CF ...\n",
      "took 0.00132 seconds\n"
     ]
    }
   ],
   "source": [
    "from time import time\n",
    "\n",
    "# We use the first 80% data for training,\n",
    "# and test model performance on the remaining\n",
    "# 20% data\n",
    "\n",
    "XTrain, XTest = X[: int(len(X) * 0.8) ], X[int(len(X) * 0.8) + 1 :]\n",
    "YTrain, YTest = Y[: int(len(X) * 0.8) ], Y[int(len(X) * 0.8) + 1 :]\n",
    "\n",
    "# A random parameter\n",
    "ThetaRandom = torch.randn(XTest.shape[1], 1)\n",
    "\n",
    "print(\"training with GD ...\")\n",
    "start = time()\n",
    "ThetaGD = GD(XTrain, YTrain , lr=1e-01, nIter=1000)\n",
    "end = time()\n",
    "print(f\"took { str(end - start)[:7] } seconds\")\n",
    "\n",
    "\n",
    "print(\"training with BGD ...\")\n",
    "start = time()\n",
    "ThetaBGD = BGD(XTrain, YTrain, lr=1e-01, nIter=1000, batchProportion = 0.01)\n",
    "end = time()\n",
    "print(f\"took { str(end - start)[:7] } seconds\")\n",
    "\n",
    "print(\"training with MBGD ...\")\n",
    "start = time()\n",
    "ThetaBGD = MBGD(XTrain, YTrain, lr=1e-01, nIter=1000, batchProportion = 0.01)\n",
    "end = time()\n",
    "print(f\"took { str(end - start)[:7] } seconds\")\n",
    "\n",
    "print(\"training with CF ...\")\n",
    "start = time()\n",
    "ThetaCF = CF(XTrain, YTrain)\n",
    "end = time()\n",
    "print(f\"took { str(end - start)[:7] } seconds\")\n",
    "\n"
   ]
  },
  {
   "cell_type": "code",
   "execution_count": 22,
   "metadata": {
    "colab": {
     "base_uri": "https://localhost:8080/"
    },
    "id": "5c0SGaGQpIo6",
    "outputId": "67867d62-033a-4759-f073-2c0a0e4810a5"
   },
   "outputs": [
    {
     "name": "stdout",
     "output_type": "stream",
     "text": [
      "testLoss with random : 3.7330498695373535\n",
      "testLoss with GD     : 0.28758034110069275\n",
      "testLoss with BGD    : 0.3290468156337738\n",
      "testLoss with MBGD   : 0.3290468156337738\n",
      "testLoss with CF     : 0.28757646679878235\n"
     ]
    }
   ],
   "source": [
    "YHatTestRandom = f(XTest, ThetaRandom)\n",
    "YHatTestGD     = f(XTest, ThetaGD)\n",
    "YHatTestBGD    = f(XTest, ThetaBGD)\n",
    "YHatTestMBGD   = f(XTest, ThetaBGD)\n",
    "YHatTestCF     = f(XTest, ThetaCF)\n",
    "\n",
    "print( f\"testLoss with random : {J(YTest,YHatTestRandom)}\" )\n",
    "print( f\"testLoss with GD     : {J(YTest,YHatTestGD)}\" )\n",
    "print( f\"testLoss with BGD    : {J(YTest,YHatTestBGD)}\" )\n",
    "print( f\"testLoss with MBGD   : {J(YTest,YHatTestMBGD)}\" )\n",
    "print( f\"testLoss with CF     : {J(YTest,YHatTestCF)}\" )"
   ]
  },
  {
   "cell_type": "markdown",
   "metadata": {},
   "source": [
    "---\n",
    "---\n",
    "---"
   ]
  },
  {
   "cell_type": "markdown",
   "metadata": {},
   "source": [
    "# Hands On Logistic Regression Analysis"
   ]
  },
  {
   "cell_type": "markdown",
   "metadata": {},
   "source": [
    "Scopes:\n",
    "  * Recap of logistic regression\n",
    "  * Learning with Gradient Descent\n",
    "  * Applying the above concepts to the [Breast Cancer Wisconsin (Diagnostic) Dataset](https://scikit-learn.org/stable/datasets/toy_dataset.html#breast-cancer-dataset) using [PyTorch](https://pytorch.org/).\n"
   ]
  },
  {
   "cell_type": "markdown",
   "metadata": {},
   "source": [
    "## Recap of Logistic Regression\n",
    "\n",
    "Logistic regression is a binary **classification** model that fits data $\\{(\\mathbf x^{(i)}, y^{(i)})\\}$ with binary labels $y^{(i)}\\in \\{0,1\\}$. Mathematically the model with parameter $\\theta$ has the form\n",
    "\n",
    "$$\n",
    "f_\\theta(\\mathbf x) = \\sigma(\\theta^\\intercal \\mathbf x),\n",
    "$$\n",
    "\n",
    "where $\\sigma$ is the **sigmoid function** defined by\n",
    "\n",
    "$$\n",
    "\\sigma(\\xi) = \\frac{1}{1+\\exp(-\\xi)}.\n",
    "$$\n",
    "\n",
    "<p align=\"center\">\n",
    "    <img width=\"50%\" src=\"https://miro.medium.com/max/1280/0*gKOV65tvGfY8SMem.png\"> \n",
    "</p>"
   ]
  },
  {
   "cell_type": "markdown",
   "metadata": {},
   "source": [
    "Output of $f_\\theta$ has range $(0,1)$.\n",
    "- $f_\\theta(\\mathbf x)$ gives the **probability** that the label $y$ for a given $\\mathbf x$ is $1$.\n",
    "- One usually use the threshold $T=0.5$ to make a binary prediction: the prediction is $0$ if $f_\\theta(\\mathbf x)\\leq 0.5$, and the prediction is $1$ if $f_\\theta(\\mathbf x)>0.5$."
   ]
  },
  {
   "cell_type": "markdown",
   "metadata": {},
   "source": [
    "For the logistic regression model, one usually uses the **binary cross entropy** as the loss function\n",
    "\n",
    "$$\n",
    "J(\\theta) = \\sum_{i=1}^{N}\\left(-  y^{(i)}\\log( \\sigma(\\theta^{\\intercal}x^{(i)}) ) - (1-y^{(i)})\\log (1 - \\sigma(\\theta^{\\intercal}x^{(i)})) \\right).\n",
    "$$"
   ]
  },
  {
   "cell_type": "markdown",
   "metadata": {},
   "source": [
    "- Unlike the linear regression model, we do not have a close form solution for minimizer of the above loss function.\n",
    "- We can still use gradient descent to minimize $J(\\theta)$.\n",
    "- The Jacobian of the binary cross entropy is complicated. We will use PyTorch to automatically calculate derivatives for us."
   ]
  },
  {
   "cell_type": "markdown",
   "metadata": {},
   "source": [
    "## Auto-differentiation in PyTorch\n",
    "\n",
    "One advantage of the PyTorch package is that it can do auto-differentiation for you."
   ]
  },
  {
   "cell_type": "code",
   "execution_count": 23,
   "metadata": {},
   "outputs": [
    {
     "data": {
      "text/plain": [
       "tensor([1., 2.], requires_grad=True)"
      ]
     },
     "execution_count": 23,
     "metadata": {},
     "output_type": "execute_result"
    }
   ],
   "source": [
    "# We create a tensor `a`, and tells\n",
    "# PyTorch to keep tract of differentiations\n",
    "# related to `a`.\n",
    "a = torch.tensor([1.,2.],requires_grad = True)\n",
    "a"
   ]
  },
  {
   "cell_type": "code",
   "execution_count": 24,
   "metadata": {},
   "outputs": [
    {
     "data": {
      "text/plain": [
       "tensor(8., grad_fn=<AddBackward0>)"
      ]
     },
     "execution_count": 24,
     "metadata": {},
     "output_type": "execute_result"
    }
   ],
   "source": [
    "b = 2*a[0]+3*a[1]\n",
    "b"
   ]
  },
  {
   "cell_type": "code",
   "execution_count": 25,
   "metadata": {},
   "outputs": [
    {
     "data": {
      "text/plain": [
       "tensor([2., 3.])"
      ]
     },
     "execution_count": 25,
     "metadata": {},
     "output_type": "execute_result"
    }
   ],
   "source": [
    "b.backward() # ask PyTorch to calculate derivatives\n",
    "a.grad"
   ]
  },
  {
   "cell_type": "markdown",
   "metadata": {},
   "source": [
    "The tensor `b` has the form `2*a[0]+3*a[1]`, so the partial derivative of `b` with respect to `a[0]` is 2, and the partial derivative of `b` with respect to `a[1]` is 3."
   ]
  },
  {
   "cell_type": "code",
   "execution_count": 26,
   "metadata": {},
   "outputs": [
    {
     "data": {
      "text/plain": [
       "tensor([5., 5.])"
      ]
     },
     "execution_count": 26,
     "metadata": {},
     "output_type": "execute_result"
    }
   ],
   "source": [
    "# In PyTorch, gradients are accumulated.\n",
    "c = 3*a[0]+2*a[1]\n",
    "c.backward()\n",
    "a.grad"
   ]
  },
  {
   "cell_type": "code",
   "execution_count": 27,
   "metadata": {},
   "outputs": [
    {
     "data": {
      "text/plain": [
       "tensor([0., 0.])"
      ]
     },
     "execution_count": 27,
     "metadata": {},
     "output_type": "execute_result"
    }
   ],
   "source": [
    "# Zero the gradient if you do not\n",
    "# intend to accumulate gradients.\n",
    "a.grad.zero_()\n",
    "a.grad"
   ]
  },
  {
   "cell_type": "code",
   "execution_count": 28,
   "metadata": {},
   "outputs": [
    {
     "data": {
      "text/plain": [
       "tensor([3., 2.])"
      ]
     },
     "execution_count": 28,
     "metadata": {},
     "output_type": "execute_result"
    }
   ],
   "source": [
    "c = 3*a[0]+2*a[1]\n",
    "c.backward()\n",
    "a.grad"
   ]
  },
  {
   "cell_type": "markdown",
   "metadata": {},
   "source": [
    "Auto-differentiation in PyTorch is very powerful, and it supports most build in operations in PyTorch."
   ]
  },
  {
   "cell_type": "markdown",
   "metadata": {},
   "source": [
    "## Logistic Regression in Python\n",
    "\n",
    "The logistic regression model $f_\\theta(x)=\\sigma(\\theta^\\intercal x)$ is a composition of a linear model ($\\theta^\\intercal x$) and the sigmoid function ($\\sigma$). This can be easily expressed in PyTorch."
   ]
  },
  {
   "cell_type": "code",
   "execution_count": 29,
   "metadata": {},
   "outputs": [],
   "source": [
    "inSize, outSize = 31, 1\n",
    "\n",
    "model = torch.nn.Sequential(torch.nn.Linear(inSize, outSize), # linear model\n",
    "                            torch.nn.Sigmoid())               # sigmoid"
   ]
  },
  {
   "cell_type": "markdown",
   "metadata": {},
   "source": [
    "Instread of using hand-crafted functions, now we use build-in optimizer to perform GD."
   ]
  },
  {
   "cell_type": "code",
   "execution_count": 30,
   "metadata": {},
   "outputs": [],
   "source": [
    "# binary cross entrophy loss\n",
    "J = torch.nn.BCELoss()\n",
    "\n",
    "# SGD optimizer in PyTorch\n",
    "# We use Gradient Descent with Momentum\n",
    "optimizer = torch.optim.SGD(model.parameters(),\n",
    "                            lr = 0.01,\n",
    "                            momentum = 0.5)"
   ]
  },
  {
   "cell_type": "markdown",
   "metadata": {
    "tags": []
   },
   "source": [
    "## Breast cancer wisconsin (diagnostic) dataset\n",
    "\n",
    "We use the Breast Cancer Wisconsin (Diagnostic) Dataset provided in the Python package `sklearn` to demonstrate training a logistic model. Features are computed from a digitized image of a fine needle aspirate (FNA) of a breast mass to describe charateristics of the cell nulcei present in the image.\n",
    "\n",
    "- 569 instances\n",
    "- dependent variable $\\mathbf x$ has 30 dimensions\n",
    "    - radius\n",
    "    - texture, smoothness\n",
    "    - perimeter, area\n",
    "    - ...\n",
    "- label $y$ has two classes\n",
    "    - $0$ for benign (357 instances)\n",
    "    - $1$ for malignant (212 instances)"
   ]
  },
  {
   "cell_type": "code",
   "execution_count": 31,
   "metadata": {},
   "outputs": [
    {
     "data": {
      "text/html": [
       "<div>\n",
       "<style scoped>\n",
       "    .dataframe tbody tr th:only-of-type {\n",
       "        vertical-align: middle;\n",
       "    }\n",
       "\n",
       "    .dataframe tbody tr th {\n",
       "        vertical-align: top;\n",
       "    }\n",
       "\n",
       "    .dataframe thead th {\n",
       "        text-align: right;\n",
       "    }\n",
       "</style>\n",
       "<table border=\"1\" class=\"dataframe\">\n",
       "  <thead>\n",
       "    <tr style=\"text-align: right;\">\n",
       "      <th></th>\n",
       "      <th>mean radius</th>\n",
       "      <th>mean texture</th>\n",
       "      <th>mean perimeter</th>\n",
       "      <th>mean area</th>\n",
       "      <th>mean smoothness</th>\n",
       "      <th>mean compactness</th>\n",
       "      <th>mean concavity</th>\n",
       "      <th>mean concave points</th>\n",
       "      <th>mean symmetry</th>\n",
       "      <th>mean fractal dimension</th>\n",
       "      <th>...</th>\n",
       "      <th>worst radius</th>\n",
       "      <th>worst texture</th>\n",
       "      <th>worst perimeter</th>\n",
       "      <th>worst area</th>\n",
       "      <th>worst smoothness</th>\n",
       "      <th>worst compactness</th>\n",
       "      <th>worst concavity</th>\n",
       "      <th>worst concave points</th>\n",
       "      <th>worst symmetry</th>\n",
       "      <th>worst fractal dimension</th>\n",
       "    </tr>\n",
       "  </thead>\n",
       "  <tbody>\n",
       "    <tr>\n",
       "      <th>0</th>\n",
       "      <td>17.99</td>\n",
       "      <td>10.38</td>\n",
       "      <td>122.80</td>\n",
       "      <td>1001.0</td>\n",
       "      <td>0.11840</td>\n",
       "      <td>0.27760</td>\n",
       "      <td>0.30010</td>\n",
       "      <td>0.14710</td>\n",
       "      <td>0.2419</td>\n",
       "      <td>0.07871</td>\n",
       "      <td>...</td>\n",
       "      <td>25.380</td>\n",
       "      <td>17.33</td>\n",
       "      <td>184.60</td>\n",
       "      <td>2019.0</td>\n",
       "      <td>0.16220</td>\n",
       "      <td>0.66560</td>\n",
       "      <td>0.7119</td>\n",
       "      <td>0.2654</td>\n",
       "      <td>0.4601</td>\n",
       "      <td>0.11890</td>\n",
       "    </tr>\n",
       "    <tr>\n",
       "      <th>1</th>\n",
       "      <td>20.57</td>\n",
       "      <td>17.77</td>\n",
       "      <td>132.90</td>\n",
       "      <td>1326.0</td>\n",
       "      <td>0.08474</td>\n",
       "      <td>0.07864</td>\n",
       "      <td>0.08690</td>\n",
       "      <td>0.07017</td>\n",
       "      <td>0.1812</td>\n",
       "      <td>0.05667</td>\n",
       "      <td>...</td>\n",
       "      <td>24.990</td>\n",
       "      <td>23.41</td>\n",
       "      <td>158.80</td>\n",
       "      <td>1956.0</td>\n",
       "      <td>0.12380</td>\n",
       "      <td>0.18660</td>\n",
       "      <td>0.2416</td>\n",
       "      <td>0.1860</td>\n",
       "      <td>0.2750</td>\n",
       "      <td>0.08902</td>\n",
       "    </tr>\n",
       "    <tr>\n",
       "      <th>2</th>\n",
       "      <td>19.69</td>\n",
       "      <td>21.25</td>\n",
       "      <td>130.00</td>\n",
       "      <td>1203.0</td>\n",
       "      <td>0.10960</td>\n",
       "      <td>0.15990</td>\n",
       "      <td>0.19740</td>\n",
       "      <td>0.12790</td>\n",
       "      <td>0.2069</td>\n",
       "      <td>0.05999</td>\n",
       "      <td>...</td>\n",
       "      <td>23.570</td>\n",
       "      <td>25.53</td>\n",
       "      <td>152.50</td>\n",
       "      <td>1709.0</td>\n",
       "      <td>0.14440</td>\n",
       "      <td>0.42450</td>\n",
       "      <td>0.4504</td>\n",
       "      <td>0.2430</td>\n",
       "      <td>0.3613</td>\n",
       "      <td>0.08758</td>\n",
       "    </tr>\n",
       "    <tr>\n",
       "      <th>3</th>\n",
       "      <td>11.42</td>\n",
       "      <td>20.38</td>\n",
       "      <td>77.58</td>\n",
       "      <td>386.1</td>\n",
       "      <td>0.14250</td>\n",
       "      <td>0.28390</td>\n",
       "      <td>0.24140</td>\n",
       "      <td>0.10520</td>\n",
       "      <td>0.2597</td>\n",
       "      <td>0.09744</td>\n",
       "      <td>...</td>\n",
       "      <td>14.910</td>\n",
       "      <td>26.50</td>\n",
       "      <td>98.87</td>\n",
       "      <td>567.7</td>\n",
       "      <td>0.20980</td>\n",
       "      <td>0.86630</td>\n",
       "      <td>0.6869</td>\n",
       "      <td>0.2575</td>\n",
       "      <td>0.6638</td>\n",
       "      <td>0.17300</td>\n",
       "    </tr>\n",
       "    <tr>\n",
       "      <th>4</th>\n",
       "      <td>20.29</td>\n",
       "      <td>14.34</td>\n",
       "      <td>135.10</td>\n",
       "      <td>1297.0</td>\n",
       "      <td>0.10030</td>\n",
       "      <td>0.13280</td>\n",
       "      <td>0.19800</td>\n",
       "      <td>0.10430</td>\n",
       "      <td>0.1809</td>\n",
       "      <td>0.05883</td>\n",
       "      <td>...</td>\n",
       "      <td>22.540</td>\n",
       "      <td>16.67</td>\n",
       "      <td>152.20</td>\n",
       "      <td>1575.0</td>\n",
       "      <td>0.13740</td>\n",
       "      <td>0.20500</td>\n",
       "      <td>0.4000</td>\n",
       "      <td>0.1625</td>\n",
       "      <td>0.2364</td>\n",
       "      <td>0.07678</td>\n",
       "    </tr>\n",
       "    <tr>\n",
       "      <th>...</th>\n",
       "      <td>...</td>\n",
       "      <td>...</td>\n",
       "      <td>...</td>\n",
       "      <td>...</td>\n",
       "      <td>...</td>\n",
       "      <td>...</td>\n",
       "      <td>...</td>\n",
       "      <td>...</td>\n",
       "      <td>...</td>\n",
       "      <td>...</td>\n",
       "      <td>...</td>\n",
       "      <td>...</td>\n",
       "      <td>...</td>\n",
       "      <td>...</td>\n",
       "      <td>...</td>\n",
       "      <td>...</td>\n",
       "      <td>...</td>\n",
       "      <td>...</td>\n",
       "      <td>...</td>\n",
       "      <td>...</td>\n",
       "      <td>...</td>\n",
       "    </tr>\n",
       "    <tr>\n",
       "      <th>564</th>\n",
       "      <td>21.56</td>\n",
       "      <td>22.39</td>\n",
       "      <td>142.00</td>\n",
       "      <td>1479.0</td>\n",
       "      <td>0.11100</td>\n",
       "      <td>0.11590</td>\n",
       "      <td>0.24390</td>\n",
       "      <td>0.13890</td>\n",
       "      <td>0.1726</td>\n",
       "      <td>0.05623</td>\n",
       "      <td>...</td>\n",
       "      <td>25.450</td>\n",
       "      <td>26.40</td>\n",
       "      <td>166.10</td>\n",
       "      <td>2027.0</td>\n",
       "      <td>0.14100</td>\n",
       "      <td>0.21130</td>\n",
       "      <td>0.4107</td>\n",
       "      <td>0.2216</td>\n",
       "      <td>0.2060</td>\n",
       "      <td>0.07115</td>\n",
       "    </tr>\n",
       "    <tr>\n",
       "      <th>565</th>\n",
       "      <td>20.13</td>\n",
       "      <td>28.25</td>\n",
       "      <td>131.20</td>\n",
       "      <td>1261.0</td>\n",
       "      <td>0.09780</td>\n",
       "      <td>0.10340</td>\n",
       "      <td>0.14400</td>\n",
       "      <td>0.09791</td>\n",
       "      <td>0.1752</td>\n",
       "      <td>0.05533</td>\n",
       "      <td>...</td>\n",
       "      <td>23.690</td>\n",
       "      <td>38.25</td>\n",
       "      <td>155.00</td>\n",
       "      <td>1731.0</td>\n",
       "      <td>0.11660</td>\n",
       "      <td>0.19220</td>\n",
       "      <td>0.3215</td>\n",
       "      <td>0.1628</td>\n",
       "      <td>0.2572</td>\n",
       "      <td>0.06637</td>\n",
       "    </tr>\n",
       "    <tr>\n",
       "      <th>566</th>\n",
       "      <td>16.60</td>\n",
       "      <td>28.08</td>\n",
       "      <td>108.30</td>\n",
       "      <td>858.1</td>\n",
       "      <td>0.08455</td>\n",
       "      <td>0.10230</td>\n",
       "      <td>0.09251</td>\n",
       "      <td>0.05302</td>\n",
       "      <td>0.1590</td>\n",
       "      <td>0.05648</td>\n",
       "      <td>...</td>\n",
       "      <td>18.980</td>\n",
       "      <td>34.12</td>\n",
       "      <td>126.70</td>\n",
       "      <td>1124.0</td>\n",
       "      <td>0.11390</td>\n",
       "      <td>0.30940</td>\n",
       "      <td>0.3403</td>\n",
       "      <td>0.1418</td>\n",
       "      <td>0.2218</td>\n",
       "      <td>0.07820</td>\n",
       "    </tr>\n",
       "    <tr>\n",
       "      <th>567</th>\n",
       "      <td>20.60</td>\n",
       "      <td>29.33</td>\n",
       "      <td>140.10</td>\n",
       "      <td>1265.0</td>\n",
       "      <td>0.11780</td>\n",
       "      <td>0.27700</td>\n",
       "      <td>0.35140</td>\n",
       "      <td>0.15200</td>\n",
       "      <td>0.2397</td>\n",
       "      <td>0.07016</td>\n",
       "      <td>...</td>\n",
       "      <td>25.740</td>\n",
       "      <td>39.42</td>\n",
       "      <td>184.60</td>\n",
       "      <td>1821.0</td>\n",
       "      <td>0.16500</td>\n",
       "      <td>0.86810</td>\n",
       "      <td>0.9387</td>\n",
       "      <td>0.2650</td>\n",
       "      <td>0.4087</td>\n",
       "      <td>0.12400</td>\n",
       "    </tr>\n",
       "    <tr>\n",
       "      <th>568</th>\n",
       "      <td>7.76</td>\n",
       "      <td>24.54</td>\n",
       "      <td>47.92</td>\n",
       "      <td>181.0</td>\n",
       "      <td>0.05263</td>\n",
       "      <td>0.04362</td>\n",
       "      <td>0.00000</td>\n",
       "      <td>0.00000</td>\n",
       "      <td>0.1587</td>\n",
       "      <td>0.05884</td>\n",
       "      <td>...</td>\n",
       "      <td>9.456</td>\n",
       "      <td>30.37</td>\n",
       "      <td>59.16</td>\n",
       "      <td>268.6</td>\n",
       "      <td>0.08996</td>\n",
       "      <td>0.06444</td>\n",
       "      <td>0.0000</td>\n",
       "      <td>0.0000</td>\n",
       "      <td>0.2871</td>\n",
       "      <td>0.07039</td>\n",
       "    </tr>\n",
       "  </tbody>\n",
       "</table>\n",
       "<p>569 rows × 30 columns</p>\n",
       "</div>"
      ],
      "text/plain": [
       "     mean radius  mean texture  mean perimeter  mean area  mean smoothness  \\\n",
       "0          17.99         10.38          122.80     1001.0          0.11840   \n",
       "1          20.57         17.77          132.90     1326.0          0.08474   \n",
       "2          19.69         21.25          130.00     1203.0          0.10960   \n",
       "3          11.42         20.38           77.58      386.1          0.14250   \n",
       "4          20.29         14.34          135.10     1297.0          0.10030   \n",
       "..           ...           ...             ...        ...              ...   \n",
       "564        21.56         22.39          142.00     1479.0          0.11100   \n",
       "565        20.13         28.25          131.20     1261.0          0.09780   \n",
       "566        16.60         28.08          108.30      858.1          0.08455   \n",
       "567        20.60         29.33          140.10     1265.0          0.11780   \n",
       "568         7.76         24.54           47.92      181.0          0.05263   \n",
       "\n",
       "     mean compactness  mean concavity  mean concave points  mean symmetry  \\\n",
       "0             0.27760         0.30010              0.14710         0.2419   \n",
       "1             0.07864         0.08690              0.07017         0.1812   \n",
       "2             0.15990         0.19740              0.12790         0.2069   \n",
       "3             0.28390         0.24140              0.10520         0.2597   \n",
       "4             0.13280         0.19800              0.10430         0.1809   \n",
       "..                ...             ...                  ...            ...   \n",
       "564           0.11590         0.24390              0.13890         0.1726   \n",
       "565           0.10340         0.14400              0.09791         0.1752   \n",
       "566           0.10230         0.09251              0.05302         0.1590   \n",
       "567           0.27700         0.35140              0.15200         0.2397   \n",
       "568           0.04362         0.00000              0.00000         0.1587   \n",
       "\n",
       "     mean fractal dimension  ...  worst radius  worst texture  \\\n",
       "0                   0.07871  ...        25.380          17.33   \n",
       "1                   0.05667  ...        24.990          23.41   \n",
       "2                   0.05999  ...        23.570          25.53   \n",
       "3                   0.09744  ...        14.910          26.50   \n",
       "4                   0.05883  ...        22.540          16.67   \n",
       "..                      ...  ...           ...            ...   \n",
       "564                 0.05623  ...        25.450          26.40   \n",
       "565                 0.05533  ...        23.690          38.25   \n",
       "566                 0.05648  ...        18.980          34.12   \n",
       "567                 0.07016  ...        25.740          39.42   \n",
       "568                 0.05884  ...         9.456          30.37   \n",
       "\n",
       "     worst perimeter  worst area  worst smoothness  worst compactness  \\\n",
       "0             184.60      2019.0           0.16220            0.66560   \n",
       "1             158.80      1956.0           0.12380            0.18660   \n",
       "2             152.50      1709.0           0.14440            0.42450   \n",
       "3              98.87       567.7           0.20980            0.86630   \n",
       "4             152.20      1575.0           0.13740            0.20500   \n",
       "..               ...         ...               ...                ...   \n",
       "564           166.10      2027.0           0.14100            0.21130   \n",
       "565           155.00      1731.0           0.11660            0.19220   \n",
       "566           126.70      1124.0           0.11390            0.30940   \n",
       "567           184.60      1821.0           0.16500            0.86810   \n",
       "568            59.16       268.6           0.08996            0.06444   \n",
       "\n",
       "     worst concavity  worst concave points  worst symmetry  \\\n",
       "0             0.7119                0.2654          0.4601   \n",
       "1             0.2416                0.1860          0.2750   \n",
       "2             0.4504                0.2430          0.3613   \n",
       "3             0.6869                0.2575          0.6638   \n",
       "4             0.4000                0.1625          0.2364   \n",
       "..               ...                   ...             ...   \n",
       "564           0.4107                0.2216          0.2060   \n",
       "565           0.3215                0.1628          0.2572   \n",
       "566           0.3403                0.1418          0.2218   \n",
       "567           0.9387                0.2650          0.4087   \n",
       "568           0.0000                0.0000          0.2871   \n",
       "\n",
       "     worst fractal dimension  \n",
       "0                    0.11890  \n",
       "1                    0.08902  \n",
       "2                    0.08758  \n",
       "3                    0.17300  \n",
       "4                    0.07678  \n",
       "..                       ...  \n",
       "564                  0.07115  \n",
       "565                  0.06637  \n",
       "566                  0.07820  \n",
       "567                  0.12400  \n",
       "568                  0.07039  \n",
       "\n",
       "[569 rows x 30 columns]"
      ]
     },
     "execution_count": 31,
     "metadata": {},
     "output_type": "execute_result"
    }
   ],
   "source": [
    "from sklearn import datasets\n",
    "\n",
    "d = datasets.load_breast_cancer()\n",
    "df = pd.DataFrame(data = d.data, columns=d.feature_names)\n",
    "df"
   ]
  },
  {
   "cell_type": "code",
   "execution_count": 32,
   "metadata": {},
   "outputs": [],
   "source": [
    "# Standardize the data, and\n",
    "# convert to torch.tensor datatype.\n",
    "df = pd.DataFrame(data = d.data, columns=d.feature_names)\n",
    "df = df.apply(lambda x: (x-x.mean()) / x.std(), axis=0)\n",
    "df.insert(loc=0, column='bias', value=1)\n",
    "x = torch.tensor(df.to_numpy()).type(torch.float32)\n",
    "y = torch.tensor(d.target).type(torch.float32)\n",
    "y = y.reshape(-1,1)"
   ]
  },
  {
   "cell_type": "markdown",
   "metadata": {},
   "source": [
    "Let us randomly split the data into training and testing dataset."
   ]
  },
  {
   "cell_type": "code",
   "execution_count": 33,
   "metadata": {},
   "outputs": [],
   "source": [
    "nCases = x.shape[0]\n",
    "nCases_shuffled = torch.randperm(nCases)\n",
    "train_ratio = 0.8\n",
    "train_list = nCases_shuffled[:int(train_ratio*nCases)]\n",
    "test_list = nCases_shuffled[int(train_ratio*nCases):]\n",
    "\n",
    "x_train, x_test = x[train_list], x[test_list]\n",
    "y_train, y_test = y[train_list], y[test_list]"
   ]
  },
  {
   "cell_type": "markdown",
   "metadata": {},
   "source": [
    "### Model Performence: Pre-training\n",
    "\n",
    "Parameters in our `model` defined above are randomly initialized by PyTorch. Let us visualize how does our model with random parameters perform on the testing dataset. "
   ]
  },
  {
   "cell_type": "code",
   "execution_count": 34,
   "metadata": {},
   "outputs": [
    {
     "data": {
      "application/vnd.plotly.v1+json": {
       "config": {
        "plotlyServerURL": "https://plot.ly"
       },
       "data": [
        {
         "hovertemplate": "label=malignant<br>index=%{x}<br>prediction=%{y}<extra></extra>",
         "legendgroup": "malignant",
         "marker": {
          "color": "#636efa",
          "symbol": "circle"
         },
         "mode": "markers",
         "name": "malignant",
         "orientation": "v",
         "showlegend": true,
         "type": "scatter",
         "x": [
          0,
          4,
          5,
          7,
          11,
          12,
          13,
          16,
          17,
          18,
          19,
          20,
          21,
          23,
          24,
          26,
          28,
          29,
          31,
          32,
          33,
          37,
          38,
          39,
          40,
          42,
          44,
          45,
          48,
          51,
          53,
          54,
          55,
          56,
          57,
          58,
          59,
          60,
          62,
          64,
          65,
          67,
          68,
          69,
          70,
          72,
          73,
          75,
          76,
          77,
          79,
          80,
          81,
          86,
          88,
          89,
          90,
          92,
          93,
          94,
          95,
          96,
          99,
          101,
          102,
          103,
          104,
          107,
          108,
          111,
          112,
          113
         ],
         "xaxis": "x",
         "y": [
          0.48788630962371826,
          0.659561812877655,
          0.5809739828109741,
          0.701443612575531,
          0.5604012608528137,
          0.544967770576477,
          0.6591111421585083,
          0.7114809155464172,
          0.610693633556366,
          0.5843457579612732,
          0.6806852221488953,
          0.6675267219543457,
          0.38164857029914856,
          0.7143901586532593,
          0.4581811726093292,
          0.759229838848114,
          0.5133826732635498,
          0.6322367191314697,
          0.3709627389907837,
          0.6411305069923401,
          0.5502809286117554,
          0.4397088885307312,
          0.5155415534973145,
          0.559404730796814,
          0.5673850178718567,
          0.6751081347465515,
          0.5610125660896301,
          0.6049922108650208,
          0.6353035569190979,
          0.4380965530872345,
          0.6585311889648438,
          0.47157350182533264,
          0.5593438148498535,
          0.7416320443153381,
          0.594244122505188,
          0.40306568145751953,
          0.8198723196983337,
          0.45482876896858215,
          0.3754737675189972,
          0.4616028666496277,
          0.6769450306892395,
          0.771852433681488,
          0.5564529895782471,
          0.7000059485435486,
          0.6804453134536743,
          0.6392205953598022,
          0.5525177121162415,
          0.48761075735092163,
          0.7755045294761658,
          0.4081336557865143,
          0.5940945744514465,
          0.6273873448371887,
          0.48665371537208557,
          0.6412965059280396,
          0.5613545179367065,
          0.5267929434776306,
          0.5615466833114624,
          0.6037267446517944,
          0.5169146656990051,
          0.3976917266845703,
          0.5554122924804688,
          0.5314119458198547,
          0.554715633392334,
          0.6477380394935608,
          0.5651350617408752,
          0.5573612451553345,
          0.7812650203704834,
          0.43312233686447144,
          0.6789369583129883,
          0.6507699489593506,
          0.8098766803741455,
          0.5418820977210999
         ],
         "yaxis": "y"
        },
        {
         "hovertemplate": "label=benign<br>index=%{x}<br>prediction=%{y}<extra></extra>",
         "legendgroup": "benign",
         "marker": {
          "color": "#EF553B",
          "symbol": "circle"
         },
         "mode": "markers",
         "name": "benign",
         "orientation": "v",
         "showlegend": true,
         "type": "scatter",
         "x": [
          1,
          2,
          3,
          6,
          8,
          9,
          10,
          14,
          15,
          22,
          25,
          27,
          30,
          34,
          35,
          36,
          41,
          43,
          46,
          47,
          49,
          50,
          52,
          61,
          63,
          66,
          71,
          74,
          78,
          82,
          83,
          84,
          85,
          87,
          91,
          97,
          98,
          100,
          105,
          106,
          109,
          110
         ],
         "xaxis": "x",
         "y": [
          0.4309992790222168,
          0.38116368651390076,
          0.45559677481651306,
          0.35243380069732666,
          0.3919396996498108,
          0.4258066713809967,
          0.6809468865394592,
          0.3438006639480591,
          0.04670540988445282,
          0.24708518385887146,
          0.5157888531684875,
          0.6319511532783508,
          0.40606096386909485,
          0.7853379249572754,
          0.6436029672622681,
          0.6328445672988892,
          0.7222393155097961,
          0.5260496139526367,
          0.7061541080474854,
          0.4597134292125702,
          0.5626198053359985,
          0.40048888325691223,
          0.5736496448516846,
          0.6253257989883423,
          0.22504177689552307,
          0.6771146059036255,
          0.3360023498535156,
          0.6232361197471619,
          0.5077665448188782,
          0.6597868800163269,
          0.6585909724235535,
          0.4183007478713989,
          0.49549806118011475,
          0.7063423991203308,
          0.76694655418396,
          0.41518041491508484,
          0.41159552335739136,
          0.22830507159233093,
          0.2828463017940521,
          0.37945741415023804,
          0.4296627342700958,
          0.22471828758716583
         ],
         "yaxis": "y"
        }
       ],
       "layout": {
        "legend": {
         "title": {
          "text": "label"
         },
         "tracegroupgap": 0
        },
        "margin": {
         "t": 60
        },
        "template": {
         "data": {
          "bar": [
           {
            "error_x": {
             "color": "#2a3f5f"
            },
            "error_y": {
             "color": "#2a3f5f"
            },
            "marker": {
             "line": {
              "color": "#E5ECF6",
              "width": 0.5
             },
             "pattern": {
              "fillmode": "overlay",
              "size": 10,
              "solidity": 0.2
             }
            },
            "type": "bar"
           }
          ],
          "barpolar": [
           {
            "marker": {
             "line": {
              "color": "#E5ECF6",
              "width": 0.5
             },
             "pattern": {
              "fillmode": "overlay",
              "size": 10,
              "solidity": 0.2
             }
            },
            "type": "barpolar"
           }
          ],
          "carpet": [
           {
            "aaxis": {
             "endlinecolor": "#2a3f5f",
             "gridcolor": "white",
             "linecolor": "white",
             "minorgridcolor": "white",
             "startlinecolor": "#2a3f5f"
            },
            "baxis": {
             "endlinecolor": "#2a3f5f",
             "gridcolor": "white",
             "linecolor": "white",
             "minorgridcolor": "white",
             "startlinecolor": "#2a3f5f"
            },
            "type": "carpet"
           }
          ],
          "choropleth": [
           {
            "colorbar": {
             "outlinewidth": 0,
             "ticks": ""
            },
            "type": "choropleth"
           }
          ],
          "contour": [
           {
            "colorbar": {
             "outlinewidth": 0,
             "ticks": ""
            },
            "colorscale": [
             [
              0,
              "#0d0887"
             ],
             [
              0.1111111111111111,
              "#46039f"
             ],
             [
              0.2222222222222222,
              "#7201a8"
             ],
             [
              0.3333333333333333,
              "#9c179e"
             ],
             [
              0.4444444444444444,
              "#bd3786"
             ],
             [
              0.5555555555555556,
              "#d8576b"
             ],
             [
              0.6666666666666666,
              "#ed7953"
             ],
             [
              0.7777777777777778,
              "#fb9f3a"
             ],
             [
              0.8888888888888888,
              "#fdca26"
             ],
             [
              1,
              "#f0f921"
             ]
            ],
            "type": "contour"
           }
          ],
          "contourcarpet": [
           {
            "colorbar": {
             "outlinewidth": 0,
             "ticks": ""
            },
            "type": "contourcarpet"
           }
          ],
          "heatmap": [
           {
            "colorbar": {
             "outlinewidth": 0,
             "ticks": ""
            },
            "colorscale": [
             [
              0,
              "#0d0887"
             ],
             [
              0.1111111111111111,
              "#46039f"
             ],
             [
              0.2222222222222222,
              "#7201a8"
             ],
             [
              0.3333333333333333,
              "#9c179e"
             ],
             [
              0.4444444444444444,
              "#bd3786"
             ],
             [
              0.5555555555555556,
              "#d8576b"
             ],
             [
              0.6666666666666666,
              "#ed7953"
             ],
             [
              0.7777777777777778,
              "#fb9f3a"
             ],
             [
              0.8888888888888888,
              "#fdca26"
             ],
             [
              1,
              "#f0f921"
             ]
            ],
            "type": "heatmap"
           }
          ],
          "heatmapgl": [
           {
            "colorbar": {
             "outlinewidth": 0,
             "ticks": ""
            },
            "colorscale": [
             [
              0,
              "#0d0887"
             ],
             [
              0.1111111111111111,
              "#46039f"
             ],
             [
              0.2222222222222222,
              "#7201a8"
             ],
             [
              0.3333333333333333,
              "#9c179e"
             ],
             [
              0.4444444444444444,
              "#bd3786"
             ],
             [
              0.5555555555555556,
              "#d8576b"
             ],
             [
              0.6666666666666666,
              "#ed7953"
             ],
             [
              0.7777777777777778,
              "#fb9f3a"
             ],
             [
              0.8888888888888888,
              "#fdca26"
             ],
             [
              1,
              "#f0f921"
             ]
            ],
            "type": "heatmapgl"
           }
          ],
          "histogram": [
           {
            "marker": {
             "pattern": {
              "fillmode": "overlay",
              "size": 10,
              "solidity": 0.2
             }
            },
            "type": "histogram"
           }
          ],
          "histogram2d": [
           {
            "colorbar": {
             "outlinewidth": 0,
             "ticks": ""
            },
            "colorscale": [
             [
              0,
              "#0d0887"
             ],
             [
              0.1111111111111111,
              "#46039f"
             ],
             [
              0.2222222222222222,
              "#7201a8"
             ],
             [
              0.3333333333333333,
              "#9c179e"
             ],
             [
              0.4444444444444444,
              "#bd3786"
             ],
             [
              0.5555555555555556,
              "#d8576b"
             ],
             [
              0.6666666666666666,
              "#ed7953"
             ],
             [
              0.7777777777777778,
              "#fb9f3a"
             ],
             [
              0.8888888888888888,
              "#fdca26"
             ],
             [
              1,
              "#f0f921"
             ]
            ],
            "type": "histogram2d"
           }
          ],
          "histogram2dcontour": [
           {
            "colorbar": {
             "outlinewidth": 0,
             "ticks": ""
            },
            "colorscale": [
             [
              0,
              "#0d0887"
             ],
             [
              0.1111111111111111,
              "#46039f"
             ],
             [
              0.2222222222222222,
              "#7201a8"
             ],
             [
              0.3333333333333333,
              "#9c179e"
             ],
             [
              0.4444444444444444,
              "#bd3786"
             ],
             [
              0.5555555555555556,
              "#d8576b"
             ],
             [
              0.6666666666666666,
              "#ed7953"
             ],
             [
              0.7777777777777778,
              "#fb9f3a"
             ],
             [
              0.8888888888888888,
              "#fdca26"
             ],
             [
              1,
              "#f0f921"
             ]
            ],
            "type": "histogram2dcontour"
           }
          ],
          "mesh3d": [
           {
            "colorbar": {
             "outlinewidth": 0,
             "ticks": ""
            },
            "type": "mesh3d"
           }
          ],
          "parcoords": [
           {
            "line": {
             "colorbar": {
              "outlinewidth": 0,
              "ticks": ""
             }
            },
            "type": "parcoords"
           }
          ],
          "pie": [
           {
            "automargin": true,
            "type": "pie"
           }
          ],
          "scatter": [
           {
            "marker": {
             "colorbar": {
              "outlinewidth": 0,
              "ticks": ""
             }
            },
            "type": "scatter"
           }
          ],
          "scatter3d": [
           {
            "line": {
             "colorbar": {
              "outlinewidth": 0,
              "ticks": ""
             }
            },
            "marker": {
             "colorbar": {
              "outlinewidth": 0,
              "ticks": ""
             }
            },
            "type": "scatter3d"
           }
          ],
          "scattercarpet": [
           {
            "marker": {
             "colorbar": {
              "outlinewidth": 0,
              "ticks": ""
             }
            },
            "type": "scattercarpet"
           }
          ],
          "scattergeo": [
           {
            "marker": {
             "colorbar": {
              "outlinewidth": 0,
              "ticks": ""
             }
            },
            "type": "scattergeo"
           }
          ],
          "scattergl": [
           {
            "marker": {
             "colorbar": {
              "outlinewidth": 0,
              "ticks": ""
             }
            },
            "type": "scattergl"
           }
          ],
          "scattermapbox": [
           {
            "marker": {
             "colorbar": {
              "outlinewidth": 0,
              "ticks": ""
             }
            },
            "type": "scattermapbox"
           }
          ],
          "scatterpolar": [
           {
            "marker": {
             "colorbar": {
              "outlinewidth": 0,
              "ticks": ""
             }
            },
            "type": "scatterpolar"
           }
          ],
          "scatterpolargl": [
           {
            "marker": {
             "colorbar": {
              "outlinewidth": 0,
              "ticks": ""
             }
            },
            "type": "scatterpolargl"
           }
          ],
          "scatterternary": [
           {
            "marker": {
             "colorbar": {
              "outlinewidth": 0,
              "ticks": ""
             }
            },
            "type": "scatterternary"
           }
          ],
          "surface": [
           {
            "colorbar": {
             "outlinewidth": 0,
             "ticks": ""
            },
            "colorscale": [
             [
              0,
              "#0d0887"
             ],
             [
              0.1111111111111111,
              "#46039f"
             ],
             [
              0.2222222222222222,
              "#7201a8"
             ],
             [
              0.3333333333333333,
              "#9c179e"
             ],
             [
              0.4444444444444444,
              "#bd3786"
             ],
             [
              0.5555555555555556,
              "#d8576b"
             ],
             [
              0.6666666666666666,
              "#ed7953"
             ],
             [
              0.7777777777777778,
              "#fb9f3a"
             ],
             [
              0.8888888888888888,
              "#fdca26"
             ],
             [
              1,
              "#f0f921"
             ]
            ],
            "type": "surface"
           }
          ],
          "table": [
           {
            "cells": {
             "fill": {
              "color": "#EBF0F8"
             },
             "line": {
              "color": "white"
             }
            },
            "header": {
             "fill": {
              "color": "#C8D4E3"
             },
             "line": {
              "color": "white"
             }
            },
            "type": "table"
           }
          ]
         },
         "layout": {
          "annotationdefaults": {
           "arrowcolor": "#2a3f5f",
           "arrowhead": 0,
           "arrowwidth": 1
          },
          "autotypenumbers": "strict",
          "coloraxis": {
           "colorbar": {
            "outlinewidth": 0,
            "ticks": ""
           }
          },
          "colorscale": {
           "diverging": [
            [
             0,
             "#8e0152"
            ],
            [
             0.1,
             "#c51b7d"
            ],
            [
             0.2,
             "#de77ae"
            ],
            [
             0.3,
             "#f1b6da"
            ],
            [
             0.4,
             "#fde0ef"
            ],
            [
             0.5,
             "#f7f7f7"
            ],
            [
             0.6,
             "#e6f5d0"
            ],
            [
             0.7,
             "#b8e186"
            ],
            [
             0.8,
             "#7fbc41"
            ],
            [
             0.9,
             "#4d9221"
            ],
            [
             1,
             "#276419"
            ]
           ],
           "sequential": [
            [
             0,
             "#0d0887"
            ],
            [
             0.1111111111111111,
             "#46039f"
            ],
            [
             0.2222222222222222,
             "#7201a8"
            ],
            [
             0.3333333333333333,
             "#9c179e"
            ],
            [
             0.4444444444444444,
             "#bd3786"
            ],
            [
             0.5555555555555556,
             "#d8576b"
            ],
            [
             0.6666666666666666,
             "#ed7953"
            ],
            [
             0.7777777777777778,
             "#fb9f3a"
            ],
            [
             0.8888888888888888,
             "#fdca26"
            ],
            [
             1,
             "#f0f921"
            ]
           ],
           "sequentialminus": [
            [
             0,
             "#0d0887"
            ],
            [
             0.1111111111111111,
             "#46039f"
            ],
            [
             0.2222222222222222,
             "#7201a8"
            ],
            [
             0.3333333333333333,
             "#9c179e"
            ],
            [
             0.4444444444444444,
             "#bd3786"
            ],
            [
             0.5555555555555556,
             "#d8576b"
            ],
            [
             0.6666666666666666,
             "#ed7953"
            ],
            [
             0.7777777777777778,
             "#fb9f3a"
            ],
            [
             0.8888888888888888,
             "#fdca26"
            ],
            [
             1,
             "#f0f921"
            ]
           ]
          },
          "colorway": [
           "#636efa",
           "#EF553B",
           "#00cc96",
           "#ab63fa",
           "#FFA15A",
           "#19d3f3",
           "#FF6692",
           "#B6E880",
           "#FF97FF",
           "#FECB52"
          ],
          "font": {
           "color": "#2a3f5f"
          },
          "geo": {
           "bgcolor": "white",
           "lakecolor": "white",
           "landcolor": "#E5ECF6",
           "showlakes": true,
           "showland": true,
           "subunitcolor": "white"
          },
          "hoverlabel": {
           "align": "left"
          },
          "hovermode": "closest",
          "mapbox": {
           "style": "light"
          },
          "paper_bgcolor": "white",
          "plot_bgcolor": "#E5ECF6",
          "polar": {
           "angularaxis": {
            "gridcolor": "white",
            "linecolor": "white",
            "ticks": ""
           },
           "bgcolor": "#E5ECF6",
           "radialaxis": {
            "gridcolor": "white",
            "linecolor": "white",
            "ticks": ""
           }
          },
          "scene": {
           "xaxis": {
            "backgroundcolor": "#E5ECF6",
            "gridcolor": "white",
            "gridwidth": 2,
            "linecolor": "white",
            "showbackground": true,
            "ticks": "",
            "zerolinecolor": "white"
           },
           "yaxis": {
            "backgroundcolor": "#E5ECF6",
            "gridcolor": "white",
            "gridwidth": 2,
            "linecolor": "white",
            "showbackground": true,
            "ticks": "",
            "zerolinecolor": "white"
           },
           "zaxis": {
            "backgroundcolor": "#E5ECF6",
            "gridcolor": "white",
            "gridwidth": 2,
            "linecolor": "white",
            "showbackground": true,
            "ticks": "",
            "zerolinecolor": "white"
           }
          },
          "shapedefaults": {
           "line": {
            "color": "#2a3f5f"
           }
          },
          "ternary": {
           "aaxis": {
            "gridcolor": "white",
            "linecolor": "white",
            "ticks": ""
           },
           "baxis": {
            "gridcolor": "white",
            "linecolor": "white",
            "ticks": ""
           },
           "bgcolor": "#E5ECF6",
           "caxis": {
            "gridcolor": "white",
            "linecolor": "white",
            "ticks": ""
           }
          },
          "title": {
           "x": 0.05
          },
          "xaxis": {
           "automargin": true,
           "gridcolor": "white",
           "linecolor": "white",
           "ticks": "",
           "title": {
            "standoff": 15
           },
           "zerolinecolor": "white",
           "zerolinewidth": 2
          },
          "yaxis": {
           "automargin": true,
           "gridcolor": "white",
           "linecolor": "white",
           "ticks": "",
           "title": {
            "standoff": 15
           },
           "zerolinecolor": "white",
           "zerolinewidth": 2
          }
         }
        },
        "xaxis": {
         "anchor": "y",
         "domain": [
          0,
          1
         ],
         "title": {
          "text": "index"
         }
        },
        "yaxis": {
         "anchor": "x",
         "domain": [
          0,
          1
         ],
         "title": {
          "text": "prediction"
         }
        }
       }
      }
     },
     "metadata": {},
     "output_type": "display_data"
    }
   ],
   "source": [
    "inSize, outSize = 31, 1\n",
    "model = nn.Sequential(nn.Linear(inSize, outSize), # innner product\n",
    "                      nn.Sigmoid())               # sigmoid\n",
    "hat_y_test = model(x_test).detach()\n",
    "label = y_test.squeeze().type(torch.bool)\n",
    "label = ['malignant' if tmp else 'benign' for tmp in label]\n",
    "\n",
    "df_pretrain = pd.DataFrame({'prediction':hat_y_test.squeeze(),\n",
    "                            'label':label\n",
    "                           }\n",
    "                          )\n",
    "\n",
    "fig = px.scatter(data_frame=df_pretrain,\n",
    "                 y='prediction',\n",
    "                 color='label',\n",
    "                 labels={True:'malignant',\n",
    "                         'benign':False})\n",
    "fig.show()"
   ]
  },
  {
   "cell_type": "markdown",
   "metadata": {},
   "source": [
    "Note that the predictions are values in the range $(0,1)$. We can see that the predictions are like random guessing. This is expected, as we have not trained our model yet."
   ]
  },
  {
   "cell_type": "markdown",
   "metadata": {},
   "source": [
    "### Model Training"
   ]
  },
  {
   "cell_type": "markdown",
   "metadata": {},
   "source": [
    "Now we are ready to use Gradient Descent to train the model for 1000 iterations."
   ]
  },
  {
   "cell_type": "code",
   "execution_count": 35,
   "metadata": {},
   "outputs": [
    {
     "name": "stdout",
     "output_type": "stream",
     "text": [
      "At iteration 1 loss is 0.9808\n",
      "At iteration 100 loss is 0.1015\n",
      "At iteration 200 loss is 0.0833\n",
      "At iteration 300 loss is 0.0752\n",
      "At iteration 400 loss is 0.0704\n",
      "At iteration 500 loss is 0.0670\n",
      "At iteration 600 loss is 0.0645\n",
      "At iteration 700 loss is 0.0625\n",
      "At iteration 800 loss is 0.0609\n",
      "At iteration 900 loss is 0.0596\n",
      "At iteration 1000 loss is 0.0585\n"
     ]
    }
   ],
   "source": [
    "nIter = 1000 # We perform 1000 iterations of GD steps\n",
    "loss_record = []\n",
    "\n",
    "inSize, outSize = 31, 1\n",
    "\n",
    "model = nn.Sequential(nn.Linear(inSize, outSize), # innner product\n",
    "                      nn.Sigmoid())               # sigmoid\n",
    "\n",
    "# binary cross entrophy loss\n",
    "J = nn.BCELoss()\n",
    "\n",
    "# SGD optimizer in PyTorch\n",
    "optimizer = SGD(model.parameters(),\n",
    "                lr = 0.05,\n",
    "                momentum = 0.5)\n",
    "\n",
    "for i in range(nIter):\n",
    "    optimizer.zero_grad()\n",
    "    hat_y = model(x_train)\n",
    "    loss = J(hat_y,y_train)\n",
    "    loss.backward()\n",
    "    optimizer.step()\n",
    "    loss_record.append(loss.item())\n",
    "    if i%100 == 99 or i==0:\n",
    "        print('At iteration {} loss is {:.4f}'.format(i+1,loss.item()))\n",
    "    "
   ]
  },
  {
   "cell_type": "code",
   "execution_count": 36,
   "metadata": {},
   "outputs": [
    {
     "data": {
      "application/vnd.plotly.v1+json": {
       "config": {
        "plotlyServerURL": "https://plot.ly"
       },
       "data": [
        {
         "hovertemplate": "x=%{x}<br>y=%{y}<extra></extra>",
         "legendgroup": "",
         "line": {
          "color": "#636efa",
          "dash": "solid"
         },
         "marker": {
          "symbol": "circle"
         },
         "mode": "lines",
         "name": "",
         "orientation": "v",
         "showlegend": false,
         "type": "scatter",
         "x": [
          0,
          1,
          2,
          3,
          4,
          5,
          6,
          7,
          8,
          9,
          10,
          11,
          12,
          13,
          14,
          15,
          16,
          17,
          18,
          19,
          20,
          21,
          22,
          23,
          24,
          25,
          26,
          27,
          28,
          29,
          30,
          31,
          32,
          33,
          34,
          35,
          36,
          37,
          38,
          39,
          40,
          41,
          42,
          43,
          44,
          45,
          46,
          47,
          48,
          49,
          50,
          51,
          52,
          53,
          54,
          55,
          56,
          57,
          58,
          59,
          60,
          61,
          62,
          63,
          64,
          65,
          66,
          67,
          68,
          69,
          70,
          71,
          72,
          73,
          74,
          75,
          76,
          77,
          78,
          79,
          80,
          81,
          82,
          83,
          84,
          85,
          86,
          87,
          88,
          89,
          90,
          91,
          92,
          93,
          94,
          95,
          96,
          97,
          98,
          99,
          100,
          101,
          102,
          103,
          104,
          105,
          106,
          107,
          108,
          109,
          110,
          111,
          112,
          113,
          114,
          115,
          116,
          117,
          118,
          119,
          120,
          121,
          122,
          123,
          124,
          125,
          126,
          127,
          128,
          129,
          130,
          131,
          132,
          133,
          134,
          135,
          136,
          137,
          138,
          139,
          140,
          141,
          142,
          143,
          144,
          145,
          146,
          147,
          148,
          149,
          150,
          151,
          152,
          153,
          154,
          155,
          156,
          157,
          158,
          159,
          160,
          161,
          162,
          163,
          164,
          165,
          166,
          167,
          168,
          169,
          170,
          171,
          172,
          173,
          174,
          175,
          176,
          177,
          178,
          179,
          180,
          181,
          182,
          183,
          184,
          185,
          186,
          187,
          188,
          189,
          190,
          191,
          192,
          193,
          194,
          195,
          196,
          197,
          198,
          199,
          200,
          201,
          202,
          203,
          204,
          205,
          206,
          207,
          208,
          209,
          210,
          211,
          212,
          213,
          214,
          215,
          216,
          217,
          218,
          219,
          220,
          221,
          222,
          223,
          224,
          225,
          226,
          227,
          228,
          229,
          230,
          231,
          232,
          233,
          234,
          235,
          236,
          237,
          238,
          239,
          240,
          241,
          242,
          243,
          244,
          245,
          246,
          247,
          248,
          249,
          250,
          251,
          252,
          253,
          254,
          255,
          256,
          257,
          258,
          259,
          260,
          261,
          262,
          263,
          264,
          265,
          266,
          267,
          268,
          269,
          270,
          271,
          272,
          273,
          274,
          275,
          276,
          277,
          278,
          279,
          280,
          281,
          282,
          283,
          284,
          285,
          286,
          287,
          288,
          289,
          290,
          291,
          292,
          293,
          294,
          295,
          296,
          297,
          298,
          299,
          300,
          301,
          302,
          303,
          304,
          305,
          306,
          307,
          308,
          309,
          310,
          311,
          312,
          313,
          314,
          315,
          316,
          317,
          318,
          319,
          320,
          321,
          322,
          323,
          324,
          325,
          326,
          327,
          328,
          329,
          330,
          331,
          332,
          333,
          334,
          335,
          336,
          337,
          338,
          339,
          340,
          341,
          342,
          343,
          344,
          345,
          346,
          347,
          348,
          349,
          350,
          351,
          352,
          353,
          354,
          355,
          356,
          357,
          358,
          359,
          360,
          361,
          362,
          363,
          364,
          365,
          366,
          367,
          368,
          369,
          370,
          371,
          372,
          373,
          374,
          375,
          376,
          377,
          378,
          379,
          380,
          381,
          382,
          383,
          384,
          385,
          386,
          387,
          388,
          389,
          390,
          391,
          392,
          393,
          394,
          395,
          396,
          397,
          398,
          399,
          400,
          401,
          402,
          403,
          404,
          405,
          406,
          407,
          408,
          409,
          410,
          411,
          412,
          413,
          414,
          415,
          416,
          417,
          418,
          419,
          420,
          421,
          422,
          423,
          424,
          425,
          426,
          427,
          428,
          429,
          430,
          431,
          432,
          433,
          434,
          435,
          436,
          437,
          438,
          439,
          440,
          441,
          442,
          443,
          444,
          445,
          446,
          447,
          448,
          449,
          450,
          451,
          452,
          453,
          454,
          455,
          456,
          457,
          458,
          459,
          460,
          461,
          462,
          463,
          464,
          465,
          466,
          467,
          468,
          469,
          470,
          471,
          472,
          473,
          474,
          475,
          476,
          477,
          478,
          479,
          480,
          481,
          482,
          483,
          484,
          485,
          486,
          487,
          488,
          489,
          490,
          491,
          492,
          493,
          494,
          495,
          496,
          497,
          498,
          499,
          500,
          501,
          502,
          503,
          504,
          505,
          506,
          507,
          508,
          509,
          510,
          511,
          512,
          513,
          514,
          515,
          516,
          517,
          518,
          519,
          520,
          521,
          522,
          523,
          524,
          525,
          526,
          527,
          528,
          529,
          530,
          531,
          532,
          533,
          534,
          535,
          536,
          537,
          538,
          539,
          540,
          541,
          542,
          543,
          544,
          545,
          546,
          547,
          548,
          549,
          550,
          551,
          552,
          553,
          554,
          555,
          556,
          557,
          558,
          559,
          560,
          561,
          562,
          563,
          564,
          565,
          566,
          567,
          568,
          569,
          570,
          571,
          572,
          573,
          574,
          575,
          576,
          577,
          578,
          579,
          580,
          581,
          582,
          583,
          584,
          585,
          586,
          587,
          588,
          589,
          590,
          591,
          592,
          593,
          594,
          595,
          596,
          597,
          598,
          599,
          600,
          601,
          602,
          603,
          604,
          605,
          606,
          607,
          608,
          609,
          610,
          611,
          612,
          613,
          614,
          615,
          616,
          617,
          618,
          619,
          620,
          621,
          622,
          623,
          624,
          625,
          626,
          627,
          628,
          629,
          630,
          631,
          632,
          633,
          634,
          635,
          636,
          637,
          638,
          639,
          640,
          641,
          642,
          643,
          644,
          645,
          646,
          647,
          648,
          649,
          650,
          651,
          652,
          653,
          654,
          655,
          656,
          657,
          658,
          659,
          660,
          661,
          662,
          663,
          664,
          665,
          666,
          667,
          668,
          669,
          670,
          671,
          672,
          673,
          674,
          675,
          676,
          677,
          678,
          679,
          680,
          681,
          682,
          683,
          684,
          685,
          686,
          687,
          688,
          689,
          690,
          691,
          692,
          693,
          694,
          695,
          696,
          697,
          698,
          699,
          700,
          701,
          702,
          703,
          704,
          705,
          706,
          707,
          708,
          709,
          710,
          711,
          712,
          713,
          714,
          715,
          716,
          717,
          718,
          719,
          720,
          721,
          722,
          723,
          724,
          725,
          726,
          727,
          728,
          729,
          730,
          731,
          732,
          733,
          734,
          735,
          736,
          737,
          738,
          739,
          740,
          741,
          742,
          743,
          744,
          745,
          746,
          747,
          748,
          749,
          750,
          751,
          752,
          753,
          754,
          755,
          756,
          757,
          758,
          759,
          760,
          761,
          762,
          763,
          764,
          765,
          766,
          767,
          768,
          769,
          770,
          771,
          772,
          773,
          774,
          775,
          776,
          777,
          778,
          779,
          780,
          781,
          782,
          783,
          784,
          785,
          786,
          787,
          788,
          789,
          790,
          791,
          792,
          793,
          794,
          795,
          796,
          797,
          798,
          799,
          800,
          801,
          802,
          803,
          804,
          805,
          806,
          807,
          808,
          809,
          810,
          811,
          812,
          813,
          814,
          815,
          816,
          817,
          818,
          819,
          820,
          821,
          822,
          823,
          824,
          825,
          826,
          827,
          828,
          829,
          830,
          831,
          832,
          833,
          834,
          835,
          836,
          837,
          838,
          839,
          840,
          841,
          842,
          843,
          844,
          845,
          846,
          847,
          848,
          849,
          850,
          851,
          852,
          853,
          854,
          855,
          856,
          857,
          858,
          859,
          860,
          861,
          862,
          863,
          864,
          865,
          866,
          867,
          868,
          869,
          870,
          871,
          872,
          873,
          874,
          875,
          876,
          877,
          878,
          879,
          880,
          881,
          882,
          883,
          884,
          885,
          886,
          887,
          888,
          889,
          890,
          891,
          892,
          893,
          894,
          895,
          896,
          897,
          898,
          899,
          900,
          901,
          902,
          903,
          904,
          905,
          906,
          907,
          908,
          909,
          910,
          911,
          912,
          913,
          914,
          915,
          916,
          917,
          918,
          919,
          920,
          921,
          922,
          923,
          924,
          925,
          926,
          927,
          928,
          929,
          930,
          931,
          932,
          933,
          934,
          935,
          936,
          937,
          938,
          939,
          940,
          941,
          942,
          943,
          944,
          945,
          946,
          947,
          948,
          949,
          950,
          951,
          952,
          953,
          954,
          955,
          956,
          957,
          958,
          959,
          960,
          961,
          962,
          963,
          964,
          965,
          966,
          967,
          968,
          969,
          970,
          971,
          972,
          973,
          974,
          975,
          976,
          977,
          978,
          979,
          980,
          981,
          982,
          983,
          984,
          985,
          986,
          987,
          988,
          989,
          990,
          991,
          992,
          993,
          994,
          995,
          996,
          997,
          998,
          999
         ],
         "xaxis": "x",
         "y": [
          0.9807529449462891,
          0.8058842420578003,
          0.6136271357536316,
          0.47578635811805725,
          0.3899056017398834,
          0.33629265427589417,
          0.30108940601348877,
          0.27651986479759216,
          0.25835469365119934,
          0.24424713850021362,
          0.23284702003002167,
          0.22334448993206024,
          0.21523205935955048,
          0.20817768573760986,
          0.20195487141609192,
          0.19640295207500458,
          0.19140388071537018,
          0.18686841428279877,
          0.18272709846496582,
          0.17892490327358246,
          0.17541728913784027,
          0.17216768860816956,
          0.16914570331573486,
          0.1663258671760559,
          0.16368648409843445,
          0.16120906174182892,
          0.15887758135795593,
          0.1566782295703888,
          0.15459898114204407,
          0.15262921154499054,
          0.15075960755348206,
          0.14898191392421722,
          0.14728879928588867,
          0.1456737518310547,
          0.1441308557987213,
          0.1426548957824707,
          0.14124110341072083,
          0.13988521695137024,
          0.13858334720134735,
          0.13733193278312683,
          0.13612782955169678,
          0.13496802747249603,
          0.1338498890399933,
          0.13277091085910797,
          0.1317288875579834,
          0.13072164356708527,
          0.12974734604358673,
          0.12880416214466095,
          0.1278904527425766,
          0.1270046979188919,
          0.12614549696445465,
          0.1253114938735962,
          0.12450148165225983,
          0.12371431291103363,
          0.12294891476631165,
          0.12220429629087448,
          0.12147949635982513,
          0.12077365815639496,
          0.12008596211671829,
          0.11941561847925186,
          0.11876188963651657,
          0.1181240901350975,
          0.11750159412622452,
          0.11689378321170807,
          0.1163000762462616,
          0.11571991443634033,
          0.11515279859304428,
          0.11459822952747345,
          0.11405576020479202,
          0.1135249212384224,
          0.11300534754991531,
          0.11249659955501556,
          0.1119983047246933,
          0.11151011288166046,
          0.11103168874979019,
          0.11056268215179443,
          0.11010280251502991,
          0.10965177416801453,
          0.10920926928520203,
          0.10877504199743271,
          0.10834884643554688,
          0.10793040692806244,
          0.10751951485872269,
          0.10711592435836792,
          0.10671943426132202,
          0.10632982105016708,
          0.10594691336154938,
          0.1055704727768898,
          0.1052003726363182,
          0.10483638197183609,
          0.1044783815741539,
          0.10412616282701492,
          0.1037796139717102,
          0.10343855619430542,
          0.10310283303260803,
          0.10277233272790909,
          0.10244690626859665,
          0.10212643444538116,
          0.10181079059839249,
          0.10149981826543808,
          0.10119348019361496,
          0.1008915901184082,
          0.10059405118227005,
          0.10030079632997513,
          0.10001169890165329,
          0.09972664713859558,
          0.09944558143615723,
          0.09916836023330688,
          0.09889495372772217,
          0.09862522780895233,
          0.0983591303229332,
          0.098096564412117,
          0.09783746302127838,
          0.09758174419403076,
          0.09732932597398758,
          0.09708017110824585,
          0.09683415293693542,
          0.09659125655889511,
          0.09635138511657715,
          0.09611450880765915,
          0.09588053822517395,
          0.09564942866563797,
          0.09542109072208405,
          0.09519551694393158,
          0.09497261792421341,
          0.09475234895944595,
          0.09453467279672623,
          0.09431952238082886,
          0.09410686045885086,
          0.09389662742614746,
          0.09368878602981567,
          0.09348328411579132,
          0.09328009933233261,
          0.09307914972305298,
          0.09288042038679123,
          0.09268386662006378,
          0.09248945862054825,
          0.09229712933301926,
          0.09210687130689621,
          0.09191865473985672,
          0.09173240512609482,
          0.09154810756444931,
          0.09136573225259781,
          0.09118524193763733,
          0.09100660681724548,
          0.09082980453968048,
          0.09065478295087814,
          0.09048151224851608,
          0.09030997008085251,
          0.09014016389846802,
          0.08997199684381485,
          0.08980552107095718,
          0.08964062482118607,
          0.08947733044624329,
          0.08931560814380646,
          0.08915542811155319,
          0.0889967754483223,
          0.08883962780237198,
          0.08868392556905746,
          0.08852969110012054,
          0.08837687224149704,
          0.08822546154260635,
          0.08807545155286789,
          0.08792679011821747,
          0.0877794623374939,
          0.08763346076011658,
          0.08748876303434372,
          0.08734536170959473,
          0.08720320463180542,
          0.08706231415271759,
          0.08692263066768646,
          0.08678416907787323,
          0.08664688467979431,
          0.0865107923746109,
          0.08637584745883942,
          0.08624204993247986,
          0.08610938489437103,
          0.08597782999277115,
          0.08584735542535782,
          0.08571796119213104,
          0.08558963984251022,
          0.08546237647533417,
          0.0853361263871193,
          0.08521091192960739,
          0.08508670330047607,
          0.08496348559856415,
          0.0848412737250328,
          0.08471998572349548,
          0.08459968864917755,
          0.08448032289743423,
          0.08436189591884613,
          0.08424436300992966,
          0.0841277688741684,
          0.08401203900575638,
          0.0838971957564354,
          0.08378326147794724,
          0.08367015421390533,
          0.08355791121721268,
          0.08344651013612747,
          0.08333591371774673,
          0.08322616666555405,
          0.08311722427606583,
          0.08300905674695969,
          0.08290167897939682,
          0.08279512822628021,
          0.0826893001794815,
          0.08258424699306488,
          0.08247993886470795,
          0.0823763981461525,
          0.08227357268333435,
          0.08217146247625351,
          0.08207006752490997,
          0.08196939527988434,
          0.08186943829059601,
          0.081770159304142,
          0.08167155086994171,
          0.08157362043857574,
          0.08147638291120529,
          0.08137976378202438,
          0.08128383755683899,
          0.08118852972984314,
          0.08109388500452042,
          0.08099985122680664,
          0.080906443297863,
          0.08081364631652832,
          0.08072148263454437,
          0.08062991499900818,
          0.08053894340991974,
          0.08044856041669846,
          0.08035875111818314,
          0.08026953041553497,
          0.08018087595701218,
          0.08009279519319534,
          0.08000526577234268,
          0.07991829514503479,
          0.07983186841011047,
          0.07974599301815033,
          0.07966064661741257,
          0.07957582920789719,
          0.07949153333902359,
          0.07940774410963058,
          0.07932449132204056,
          0.07924172282218933,
          0.07915949076414108,
          0.07907773554325104,
          0.07899648696184158,
          0.07891571521759033,
          0.07883542031049728,
          0.07875561714172363,
          0.07867628335952759,
          0.07859743386507034,
          0.07851903885602951,
          0.07844109833240509,
          0.07836362719535828,
          0.07828659564256668,
          0.07820998877286911,
          0.07813385128974915,
          0.0780581384897232,
          0.07798286527395248,
          0.07790801674127579,
          0.07783360779285431,
          0.07775961607694626,
          0.07768601924180984,
          0.07761285454034805,
          0.0775400847196579,
          0.07746773213148117,
          0.07739579677581787,
          0.0773242637515068,
          0.0772530809044838,
          0.07718232274055481,
          0.07711192220449448,
          0.07704194635152817,
          0.07697232067584991,
          0.07690306752920151,
          0.07683421671390533,
          0.07676570862531662,
          0.07669755816459656,
          0.07662978768348694,
          0.07656237483024597,
          0.07649534195661545,
          0.07642862200737,
          0.07636228948831558,
          0.07629624754190445,
          0.07623057812452316,
          0.07616528868675232,
          0.07610028982162476,
          0.07603564113378525,
          0.0759713277220726,
          0.07590737193822861,
          0.0758436992764473,
          0.07578036189079285,
          0.07571732252836227,
          0.07565463334321976,
          0.07559224218130112,
          0.07553018629550934,
          0.07546841353178024,
          0.07540695369243622,
          0.07534582912921906,
          0.07528498768806458,
          0.07522444427013397,
          0.07516417652368546,
          0.07510421425104141,
          0.07504455745220184,
          0.07498517632484436,
          0.07492611557245255,
          0.07486730068922043,
          0.07480879873037338,
          0.07475053519010544,
          0.07469261437654495,
          0.07463489472866058,
          0.07457751035690308,
          0.07452036440372467,
          0.07446346431970596,
          0.07440689206123352,
          0.07435055077075958,
          0.07429447025060654,
          0.07423866540193558,
          0.07418312132358551,
          0.07412782311439514,
          0.07407276332378387,
          0.0740179792046547,
          0.07396344095468521,
          0.07390914857387543,
          0.07385510951280594,
          0.07380133122205734,
          0.07374775409698486,
          0.07369445264339447,
          0.07364137470722198,
          0.0735885500907898,
          0.07353595644235611,
          0.07348359376192093,
          0.07343143224716187,
          0.07337953895330429,
          0.07332786172628403,
          0.07327643781900406,
          0.07322518527507782,
          0.07317419350147247,
          0.07312340289354324,
          0.07307285815477371,
          0.07302255183458328,
          0.07297243922948837,
          0.07292254269123077,
          0.0728728398680687,
          0.07282336801290512,
          0.07277411222457886,
          0.07272505015134811,
          0.07267619669437408,
          0.07262755185365677,
          0.07257911562919617,
          0.07253088802099228,
          0.07248285412788391,
          0.07243499904870987,
          0.07238740473985672,
          0.07233995199203491,
          0.0722927376627922,
          0.07224566489458084,
          0.07219884544610977,
          0.07215218991041183,
          0.07210568338632584,
          0.07205940783023834,
          0.07201337069272995,
          0.0719674602150917,
          0.07192171365022659,
          0.07187621295452118,
          0.0718308612704277,
          0.07178571820259094,
          0.07174072414636612,
          0.07169591635465622,
          0.07165126502513885,
          0.0716068372130394,
          0.07156256586313248,
          0.07151847332715988,
          0.07147455215454102,
          0.0714307576417923,
          0.07138720154762268,
          0.071343794465065,
          0.07130055129528046,
          0.07125743478536606,
          0.07121456414461136,
          0.0711718276143074,
          0.07112924754619598,
          0.07108686119318008,
          0.07104457914829254,
          0.07100249081850052,
          0.07096055150032043,
          0.07091879844665527,
          0.07087720185518265,
          0.07083573937416077,
          0.07079441845417023,
          0.07075328379869461,
          0.07071229070425034,
          0.0706714317202568,
          0.07063078880310059,
          0.07059024274349213,
          0.07054983824491501,
          0.07050961256027222,
          0.07046952843666077,
          0.07042963802814484,
          0.07038979977369308,
          0.07035014033317566,
          0.07031068205833435,
          0.070271335542202,
          0.0702321007847786,
          0.07019301503896713,
          0.07015407830476761,
          0.0701153352856636,
          0.07007668167352676,
          0.07003816962242126,
          0.06999976187944412,
          0.0699615404009819,
          0.06992346793413162,
          0.06988546997308731,
          0.06984765827655792,
          0.06980995088815689,
          0.0697723850607872,
          0.06973496824502945,
          0.06969767808914185,
          0.06966050714254379,
          0.06962345540523529,
          0.06958653777837753,
          0.06954977661371231,
          0.06951308995485306,
          0.06947659701108932,
          0.06944018602371216,
          0.06940389424562454,
          0.06936774402856827,
          0.06933171302080154,
          0.06929580867290497,
          0.06926001608371735,
          0.06922435760498047,
          0.06918879598379135,
          0.06915338337421417,
          0.06911811232566833,
          0.06908293813467026,
          0.06904783099889755,
          0.06901288777589798,
          0.06897808611392975,
          0.06894337385892868,
          0.06890875101089478,
          0.06887426227331161,
          0.0688399150967598,
          0.06880565732717514,
          0.06877150386571884,
          0.06873747706413269,
          0.06870357692241669,
          0.06866975873708725,
          0.06863606721162796,
          0.06860245764255524,
          0.06856898218393326,
          0.06853559613227844,
          0.06850235164165497,
          0.06846921145915985,
          0.0684361606836319,
          0.06840323656797409,
          0.06837039440870285,
          0.06833764165639877,
          0.06830504536628723,
          0.06827251613140106,
          0.06824006140232086,
          0.0682077631354332,
          0.0681755542755127,
          0.06814342737197876,
          0.06811141222715378,
          0.06807950884103775,
          0.06804767996072769,
          0.06801598519086838,
          0.06798437982797623,
          0.06795286387205124,
          0.06792149692773819,
          0.06789016723632812,
          0.06785889714956284,
          0.06782783567905426,
          0.0677967444062233,
          0.06776584684848785,
          0.06773499399423599,
          0.06770425289869308,
          0.06767359375953674,
          0.06764303147792816,
          0.06761261075735092,
          0.06758220493793488,
          0.06755194067955017,
          0.06752171367406845,
          0.06749167293310165,
          0.06746161729097366,
          0.06743174046278,
          0.06740192323923111,
          0.06737218052148819,
          0.06734251976013184,
          0.06731294095516205,
          0.0672835037112236,
          0.06725408136844635,
          0.06722479313611984,
          0.0671956017613411,
          0.06716644018888474,
          0.06713740527629852,
          0.06710848957300186,
          0.0670795813202858,
          0.06705079972743988,
          0.06702212989330292,
          0.06699353456497192,
          0.0669649988412857,
          0.06693651527166367,
          0.06690815836191177,
          0.06687986850738525,
          0.06685169041156769,
          0.06682350486516953,
          0.0667954683303833,
          0.06676752120256424,
          0.06673967093229294,
          0.06671183556318283,
          0.06668411195278168,
          0.06665649265050888,
          0.06662891060113907,
          0.06660140305757523,
          0.06657400727272034,
          0.06654664874076843,
          0.06651944667100906,
          0.0664922222495079,
          0.06646514683961868,
          0.06643807888031006,
          0.06641112267971039,
          0.06638427078723907,
          0.06635750830173492,
          0.06633076071739197,
          0.06630411744117737,
          0.06627747416496277,
          0.0662510097026825,
          0.06622456759214401,
          0.06619822978973389,
          0.06617190688848495,
          0.06614567339420319,
          0.06611952930688858,
          0.06609348207712173,
          0.06606750190258026,
          0.06604155898094177,
          0.06601569801568985,
          0.06598983705043793,
          0.06596415489912033,
          0.06593848764896393,
          0.06591290980577469,
          0.06588741391897202,
          0.06586194783449173,
          0.06583654880523682,
          0.06581124663352966,
          0.06578601896762848,
          0.06576082110404968,
          0.06573569029569626,
          0.06571064889431,
          0.0656856894493103,
          0.065660759806633,
          0.06563595682382584,
          0.06561117619276047,
          0.06558641791343689,
          0.06556179374456406,
          0.06553719192743301,
          0.06551269441843033,
          0.06548824906349182,
          0.0654638260602951,
          0.06543952971696854,
          0.06541525572538376,
          0.06539104878902435,
          0.06536686420440674,
          0.06534281373023987,
          0.06531878560781479,
          0.06529482454061508,
          0.06527093797922134,
          0.06524713337421417,
          0.06522335857152939,
          0.06519964337348938,
          0.06517598778009415,
          0.06515241414308548,
          0.06512884050607681,
          0.06510535627603531,
          0.06508193165063858,
          0.06505858898162842,
          0.06503533571958542,
          0.06501206755638123,
          0.0649888664484024,
          0.06496581435203552,
          0.06494269520044327,
          0.06491971015930176,
          0.06489675492048264,
          0.06487391889095306,
          0.0648510679602623,
          0.06482823938131332,
          0.0648055449128151,
          0.06478287279605865,
          0.06476031243801117,
          0.06473775207996368,
          0.06471525877714157,
          0.06469276547431946,
          0.06467044353485107,
          0.0646480843424797,
          0.0646257996559143,
          0.06460358202457428,
          0.06458145380020142,
          0.06455929577350616,
          0.06453719735145569,
          0.06451524794101715,
          0.06449331343173981,
          0.06447135657072067,
          0.06444953382015228,
          0.0644276887178421,
          0.06440602242946625,
          0.064384326338768,
          0.06436261534690857,
          0.06434106826782227,
          0.06431955844163895,
          0.06429804116487503,
          0.06427658349275589,
          0.06425522267818451,
          0.06423389166593552,
          0.0642126202583313,
          0.06419138610363007,
          0.064170241355896,
          0.06414908170700073,
          0.06412802636623383,
          0.06410692632198334,
          0.0640859603881836,
          0.06406504660844803,
          0.06404416263103485,
          0.06402330845594406,
          0.06400253623723984,
          0.0639818012714386,
          0.06396112591028214,
          0.06394046545028687,
          0.06391982734203339,
          0.06389933079481125,
          0.06387884169816971,
          0.06385838985443115,
          0.0638379156589508,
          0.06381760537624359,
          0.0637972503900528,
          0.06377702951431274,
          0.06375682353973389,
          0.06373663991689682,
          0.06371647864580154,
          0.06369640678167343,
          0.0636763870716095,
          0.06365639716386795,
          0.0636364221572876,
          0.06361653655767441,
          0.06359667330980301,
          0.06357686221599579,
          0.06355706602334976,
          0.06353737413883209,
          0.06351768225431442,
          0.06349802762269974,
          0.06347842514514923,
          0.06345890462398529,
          0.06343940645456314,
          0.06341999024152756,
          0.0634005218744278,
          0.0633811503648758,
          0.06336185336112976,
          0.06334255635738373,
          0.06332333385944366,
          0.06330405175685883,
          0.06328494846820831,
          0.06326577067375183,
          0.06324675679206848,
          0.06322768330574036,
          0.06320870667695999,
          0.06318973749876022,
          0.06317082792520523,
          0.0631520003080368,
          0.0631331130862236,
          0.06311438232660294,
          0.0630955845117569,
          0.06307689845561981,
          0.06305819749832153,
          0.06303960084915161,
          0.06302101910114288,
          0.06300250440835953,
          0.06298394501209259,
          0.06296554207801819,
          0.06294706463813782,
          0.0629286915063858,
          0.06291032582521439,
          0.06289204210042953,
          0.06287376582622528,
          0.06285557895898819,
          0.06283732503652573,
          0.0628192275762558,
          0.0628010705113411,
          0.06278300285339355,
          0.06276492774486542,
          0.06274695694446564,
          0.06272898614406586,
          0.06271109730005264,
          0.06269314885139465,
          0.0626753494143486,
          0.06265749037265778,
          0.06263971328735352,
          0.06262194365262985,
          0.06260424852371216,
          0.06258661299943924,
          0.06256897747516632,
          0.06255142390727997,
          0.06253381073474884,
          0.06251635402441025,
          0.062498822808265686,
          0.06248138099908829,
          0.06246400624513626,
          0.062446653842926025,
          0.062429215759038925,
          0.06241194158792496,
          0.06239471584558487,
          0.06237749755382538,
          0.062360282987356186,
          0.06234306842088699,
          0.06232600659132004,
          0.06230887770652771,
          0.06229183450341225,
          0.062274832278490067,
          0.062257833778858185,
          0.0622408390045166,
          0.06222392991185188,
          0.062207017093896866,
          0.062190182507038116,
          0.062173351645469666,
          0.06215657666325569,
          0.06213986501097679,
          0.06212315708398819,
          0.062106382101774216,
          0.06208975985646248,
          0.06207318231463432,
          0.06205660477280617,
          0.06204002723097801,
          0.06202353164553642,
          0.06200703606009483,
          0.06199057772755623,
          0.06197412684559822,
          0.06195773929357529,
          0.061941370368003845,
          0.061925072222948074,
          0.061908822506666183,
          0.06189248338341713,
          0.06187630072236061,
          0.06186004355549812,
          0.06184394285082817,
          0.06182780861854553,
          0.061811670660972595,
          0.06179559975862503,
          0.061779581010341644,
          0.06176355481147766,
          0.061747610569000244,
          0.06173166260123253,
          0.06171569973230362,
          0.06169987842440605,
          0.06168396398425102,
          0.06166820228099823,
          0.061652399599552155,
          0.061636604368686676,
          0.06162087619304657,
          0.061605148017406464,
          0.061589498072862625,
          0.06157388910651207,
          0.06155826151371002,
          0.06154264882206917,
          0.06152714416384697,
          0.061511557549238205,
          0.06149612367153168,
          0.06148064509034157,
          0.06146515905857086,
          0.06144975870847702,
          0.06143447384238243,
          0.06141902878880501,
          0.06140373274683952,
          0.06138846278190613,
          0.06137319654226303,
          0.0613580122590065,
          0.06134277209639549,
          0.06132761016488075,
          0.06131244823336601,
          0.06129732355475426,
          0.06128225475549698,
          0.061267197132110596,
          0.0612521655857563,
          0.06123713403940201,
          0.061222173273563385,
          0.061207253485918045,
          0.061192236840724945,
          0.06117738038301468,
          0.06116257235407829,
          0.06114765256643295,
          0.061132896691560745,
          0.06111808866262436,
          0.06110328063368797,
          0.06108854338526726,
          0.061073917895555496,
          0.06105921044945717,
          0.061044566333293915,
          0.06102997064590454,
          0.06101531535387039,
          0.06100073084235191,
          0.0609862245619297,
          0.060971666127443314,
          0.06095718592405319,
          0.060942694544792175,
          0.06092831492424011,
          0.060913849622011185,
          0.06089944764971733,
          0.06088516488671303,
          0.06087083742022514,
          0.060856498777866364,
          0.06084222346544266,
          0.060827989131212234,
          0.06081365793943405,
          0.060799483209848404,
          0.060785338282585144,
          0.06077123060822487,
          0.06075701862573624,
          0.06074296683073044,
          0.06072887405753136,
          0.060714755207300186,
          0.06070079654455185,
          0.060686785727739334,
          0.06067280471324921,
          0.06065881624817848,
          0.06064488738775253,
          0.06063099950551987,
          0.060617104172706604,
          0.060603272169828415,
          0.060589391738176346,
          0.06057561933994293,
          0.06056174635887146,
          0.06054803729057312,
          0.0605342723429203,
          0.06052062660455704,
          0.06050688028335571,
          0.06049328297376633,
          0.06047964096069336,
          0.0604659728705883,
          0.060452383011579514,
          0.06043882295489311,
          0.0604252964258194,
          0.06041174754500389,
          0.060398269444704056,
          0.060384731739759445,
          0.06037132069468498,
          0.06035789102315903,
          0.06034443527460098,
          0.06033111363649368,
          0.06031772494316101,
          0.06030440330505371,
          0.060291070491075516,
          0.06027777120471001,
          0.06026448681950569,
          0.06025128811597824,
          0.0602380633354187,
          0.06022486835718155,
          0.06021170690655708,
          0.06019851192831993,
          0.06018531695008278,
          0.06017223373055458,
          0.06015917658805847,
          0.06014610826969147,
          0.060133010149002075,
          0.06012003868818283,
          0.06010700389742851,
          0.060094039887189865,
          0.06008105352520943,
          0.060068096965551376,
          0.06005525588989258,
          0.0600423589348793,
          0.060029443353414536,
          0.06001659110188484,
          0.06000376120209694,
          0.05999096855521202,
          0.05997815355658531,
          0.059965405613183975,
          0.059952687472105026,
          0.059939995408058167,
          0.05992719531059265,
          0.05991455912590027,
          0.05990193784236908,
          0.05988926440477371,
          0.0598767027258873,
          0.05986403301358223,
          0.059851523488759995,
          0.05983894318342209,
          0.05982639640569687,
          0.05981382355093956,
          0.059801407158374786,
          0.05978894606232643,
          0.05977649614214897,
          0.059764064848423004,
          0.05975162237882614,
          0.05973925068974495,
          0.059726811945438385,
          0.05971448868513107,
          0.05970218777656555,
          0.05968986824154854,
          0.05967751890420914,
          0.05966530367732048,
          0.05965309590101242,
          0.059640783816576004,
          0.05962853878736496,
          0.05961640179157257,
          0.0596042163670063,
          0.05959213525056839,
          0.059579942375421524,
          0.05956781655550003,
          0.05955571308732033,
          0.05954363942146301,
          0.05953159183263779,
          0.059519510716199875,
          0.05950751155614853,
          0.059495534747838974,
          0.05948358029127121,
          0.05947164446115494,
          0.05945969000458717,
          0.05944771319627762,
          0.05943583697080612,
          0.05942400544881821,
          0.059412095695734024,
          0.059400249272584915,
          0.05938839167356491,
          0.05937664210796356,
          0.05936482548713684,
          0.05935302749276161,
          0.05934130400419235,
          0.059329554438591,
          0.059317827224731445,
          0.05930612236261368,
          0.059294443577528,
          0.05928287282586098,
          0.059271190315485,
          0.059259578585624695,
          0.05924789607524872,
          0.0592363215982914,
          0.059224773198366165,
          0.059213198721408844,
          0.05920169875025749,
          0.05919012427330017,
          0.0591786690056324,
          0.05916722118854523,
          0.059155672788619995,
          0.0591442734003067,
          0.059132806956768036,
          0.05912145972251892,
          0.05911003425717354,
          0.059098731726408005,
          0.05908730626106262,
          0.05907594412565231,
          0.05906461179256439,
          0.059053391218185425,
          0.05904209986329079,
          0.05903083086013794,
          0.059019528329372406,
          0.059008292853832245,
          0.05899709090590477,
          0.05898589640855789,
          0.0589747317135334,
          0.05896353721618652,
          0.05895240604877472,
          0.05894121155142784,
          0.05893011763691902,
          0.05891906097531319,
          0.05890791490674019,
          0.05889685079455376,
          0.0588858500123024,
          0.05887477099895477,
          0.058863818645477295,
          0.05885276943445206,
          0.05884185805916786,
          0.05883081629872322,
          0.05881984159350395,
          0.05880897492170334,
          0.05879804864525795,
          0.05878712981939316,
          0.05877623334527016,
          0.058765314519405365,
          0.05875445529818535,
          0.05874372273683548,
          0.05873290076851845,
          0.058722104877233505,
          0.05871123448014259,
          0.05870047211647034,
          0.05868968740105629,
          0.05867897346615791,
          0.05866827815771103,
          0.058657605201005936,
          0.05864684656262398,
          0.05863620713353157,
          0.05862553417682648,
          0.05861483886837959,
          0.05860426276922226,
          0.05859359726309776,
          0.05858306214213371,
          0.0585724376142025,
          0.058561936020851135,
          0.058551300317049026,
          0.05854083597660065,
          0.058530282229185104,
          0.05851975828409195,
          0.05850924924015999,
          0.05849886313080788,
          0.05848834663629532
         ],
         "yaxis": "y"
        }
       ],
       "layout": {
        "legend": {
         "tracegroupgap": 0
        },
        "template": {
         "data": {
          "bar": [
           {
            "error_x": {
             "color": "#2a3f5f"
            },
            "error_y": {
             "color": "#2a3f5f"
            },
            "marker": {
             "line": {
              "color": "#E5ECF6",
              "width": 0.5
             },
             "pattern": {
              "fillmode": "overlay",
              "size": 10,
              "solidity": 0.2
             }
            },
            "type": "bar"
           }
          ],
          "barpolar": [
           {
            "marker": {
             "line": {
              "color": "#E5ECF6",
              "width": 0.5
             },
             "pattern": {
              "fillmode": "overlay",
              "size": 10,
              "solidity": 0.2
             }
            },
            "type": "barpolar"
           }
          ],
          "carpet": [
           {
            "aaxis": {
             "endlinecolor": "#2a3f5f",
             "gridcolor": "white",
             "linecolor": "white",
             "minorgridcolor": "white",
             "startlinecolor": "#2a3f5f"
            },
            "baxis": {
             "endlinecolor": "#2a3f5f",
             "gridcolor": "white",
             "linecolor": "white",
             "minorgridcolor": "white",
             "startlinecolor": "#2a3f5f"
            },
            "type": "carpet"
           }
          ],
          "choropleth": [
           {
            "colorbar": {
             "outlinewidth": 0,
             "ticks": ""
            },
            "type": "choropleth"
           }
          ],
          "contour": [
           {
            "colorbar": {
             "outlinewidth": 0,
             "ticks": ""
            },
            "colorscale": [
             [
              0,
              "#0d0887"
             ],
             [
              0.1111111111111111,
              "#46039f"
             ],
             [
              0.2222222222222222,
              "#7201a8"
             ],
             [
              0.3333333333333333,
              "#9c179e"
             ],
             [
              0.4444444444444444,
              "#bd3786"
             ],
             [
              0.5555555555555556,
              "#d8576b"
             ],
             [
              0.6666666666666666,
              "#ed7953"
             ],
             [
              0.7777777777777778,
              "#fb9f3a"
             ],
             [
              0.8888888888888888,
              "#fdca26"
             ],
             [
              1,
              "#f0f921"
             ]
            ],
            "type": "contour"
           }
          ],
          "contourcarpet": [
           {
            "colorbar": {
             "outlinewidth": 0,
             "ticks": ""
            },
            "type": "contourcarpet"
           }
          ],
          "heatmap": [
           {
            "colorbar": {
             "outlinewidth": 0,
             "ticks": ""
            },
            "colorscale": [
             [
              0,
              "#0d0887"
             ],
             [
              0.1111111111111111,
              "#46039f"
             ],
             [
              0.2222222222222222,
              "#7201a8"
             ],
             [
              0.3333333333333333,
              "#9c179e"
             ],
             [
              0.4444444444444444,
              "#bd3786"
             ],
             [
              0.5555555555555556,
              "#d8576b"
             ],
             [
              0.6666666666666666,
              "#ed7953"
             ],
             [
              0.7777777777777778,
              "#fb9f3a"
             ],
             [
              0.8888888888888888,
              "#fdca26"
             ],
             [
              1,
              "#f0f921"
             ]
            ],
            "type": "heatmap"
           }
          ],
          "heatmapgl": [
           {
            "colorbar": {
             "outlinewidth": 0,
             "ticks": ""
            },
            "colorscale": [
             [
              0,
              "#0d0887"
             ],
             [
              0.1111111111111111,
              "#46039f"
             ],
             [
              0.2222222222222222,
              "#7201a8"
             ],
             [
              0.3333333333333333,
              "#9c179e"
             ],
             [
              0.4444444444444444,
              "#bd3786"
             ],
             [
              0.5555555555555556,
              "#d8576b"
             ],
             [
              0.6666666666666666,
              "#ed7953"
             ],
             [
              0.7777777777777778,
              "#fb9f3a"
             ],
             [
              0.8888888888888888,
              "#fdca26"
             ],
             [
              1,
              "#f0f921"
             ]
            ],
            "type": "heatmapgl"
           }
          ],
          "histogram": [
           {
            "marker": {
             "pattern": {
              "fillmode": "overlay",
              "size": 10,
              "solidity": 0.2
             }
            },
            "type": "histogram"
           }
          ],
          "histogram2d": [
           {
            "colorbar": {
             "outlinewidth": 0,
             "ticks": ""
            },
            "colorscale": [
             [
              0,
              "#0d0887"
             ],
             [
              0.1111111111111111,
              "#46039f"
             ],
             [
              0.2222222222222222,
              "#7201a8"
             ],
             [
              0.3333333333333333,
              "#9c179e"
             ],
             [
              0.4444444444444444,
              "#bd3786"
             ],
             [
              0.5555555555555556,
              "#d8576b"
             ],
             [
              0.6666666666666666,
              "#ed7953"
             ],
             [
              0.7777777777777778,
              "#fb9f3a"
             ],
             [
              0.8888888888888888,
              "#fdca26"
             ],
             [
              1,
              "#f0f921"
             ]
            ],
            "type": "histogram2d"
           }
          ],
          "histogram2dcontour": [
           {
            "colorbar": {
             "outlinewidth": 0,
             "ticks": ""
            },
            "colorscale": [
             [
              0,
              "#0d0887"
             ],
             [
              0.1111111111111111,
              "#46039f"
             ],
             [
              0.2222222222222222,
              "#7201a8"
             ],
             [
              0.3333333333333333,
              "#9c179e"
             ],
             [
              0.4444444444444444,
              "#bd3786"
             ],
             [
              0.5555555555555556,
              "#d8576b"
             ],
             [
              0.6666666666666666,
              "#ed7953"
             ],
             [
              0.7777777777777778,
              "#fb9f3a"
             ],
             [
              0.8888888888888888,
              "#fdca26"
             ],
             [
              1,
              "#f0f921"
             ]
            ],
            "type": "histogram2dcontour"
           }
          ],
          "mesh3d": [
           {
            "colorbar": {
             "outlinewidth": 0,
             "ticks": ""
            },
            "type": "mesh3d"
           }
          ],
          "parcoords": [
           {
            "line": {
             "colorbar": {
              "outlinewidth": 0,
              "ticks": ""
             }
            },
            "type": "parcoords"
           }
          ],
          "pie": [
           {
            "automargin": true,
            "type": "pie"
           }
          ],
          "scatter": [
           {
            "marker": {
             "colorbar": {
              "outlinewidth": 0,
              "ticks": ""
             }
            },
            "type": "scatter"
           }
          ],
          "scatter3d": [
           {
            "line": {
             "colorbar": {
              "outlinewidth": 0,
              "ticks": ""
             }
            },
            "marker": {
             "colorbar": {
              "outlinewidth": 0,
              "ticks": ""
             }
            },
            "type": "scatter3d"
           }
          ],
          "scattercarpet": [
           {
            "marker": {
             "colorbar": {
              "outlinewidth": 0,
              "ticks": ""
             }
            },
            "type": "scattercarpet"
           }
          ],
          "scattergeo": [
           {
            "marker": {
             "colorbar": {
              "outlinewidth": 0,
              "ticks": ""
             }
            },
            "type": "scattergeo"
           }
          ],
          "scattergl": [
           {
            "marker": {
             "colorbar": {
              "outlinewidth": 0,
              "ticks": ""
             }
            },
            "type": "scattergl"
           }
          ],
          "scattermapbox": [
           {
            "marker": {
             "colorbar": {
              "outlinewidth": 0,
              "ticks": ""
             }
            },
            "type": "scattermapbox"
           }
          ],
          "scatterpolar": [
           {
            "marker": {
             "colorbar": {
              "outlinewidth": 0,
              "ticks": ""
             }
            },
            "type": "scatterpolar"
           }
          ],
          "scatterpolargl": [
           {
            "marker": {
             "colorbar": {
              "outlinewidth": 0,
              "ticks": ""
             }
            },
            "type": "scatterpolargl"
           }
          ],
          "scatterternary": [
           {
            "marker": {
             "colorbar": {
              "outlinewidth": 0,
              "ticks": ""
             }
            },
            "type": "scatterternary"
           }
          ],
          "surface": [
           {
            "colorbar": {
             "outlinewidth": 0,
             "ticks": ""
            },
            "colorscale": [
             [
              0,
              "#0d0887"
             ],
             [
              0.1111111111111111,
              "#46039f"
             ],
             [
              0.2222222222222222,
              "#7201a8"
             ],
             [
              0.3333333333333333,
              "#9c179e"
             ],
             [
              0.4444444444444444,
              "#bd3786"
             ],
             [
              0.5555555555555556,
              "#d8576b"
             ],
             [
              0.6666666666666666,
              "#ed7953"
             ],
             [
              0.7777777777777778,
              "#fb9f3a"
             ],
             [
              0.8888888888888888,
              "#fdca26"
             ],
             [
              1,
              "#f0f921"
             ]
            ],
            "type": "surface"
           }
          ],
          "table": [
           {
            "cells": {
             "fill": {
              "color": "#EBF0F8"
             },
             "line": {
              "color": "white"
             }
            },
            "header": {
             "fill": {
              "color": "#C8D4E3"
             },
             "line": {
              "color": "white"
             }
            },
            "type": "table"
           }
          ]
         },
         "layout": {
          "annotationdefaults": {
           "arrowcolor": "#2a3f5f",
           "arrowhead": 0,
           "arrowwidth": 1
          },
          "autotypenumbers": "strict",
          "coloraxis": {
           "colorbar": {
            "outlinewidth": 0,
            "ticks": ""
           }
          },
          "colorscale": {
           "diverging": [
            [
             0,
             "#8e0152"
            ],
            [
             0.1,
             "#c51b7d"
            ],
            [
             0.2,
             "#de77ae"
            ],
            [
             0.3,
             "#f1b6da"
            ],
            [
             0.4,
             "#fde0ef"
            ],
            [
             0.5,
             "#f7f7f7"
            ],
            [
             0.6,
             "#e6f5d0"
            ],
            [
             0.7,
             "#b8e186"
            ],
            [
             0.8,
             "#7fbc41"
            ],
            [
             0.9,
             "#4d9221"
            ],
            [
             1,
             "#276419"
            ]
           ],
           "sequential": [
            [
             0,
             "#0d0887"
            ],
            [
             0.1111111111111111,
             "#46039f"
            ],
            [
             0.2222222222222222,
             "#7201a8"
            ],
            [
             0.3333333333333333,
             "#9c179e"
            ],
            [
             0.4444444444444444,
             "#bd3786"
            ],
            [
             0.5555555555555556,
             "#d8576b"
            ],
            [
             0.6666666666666666,
             "#ed7953"
            ],
            [
             0.7777777777777778,
             "#fb9f3a"
            ],
            [
             0.8888888888888888,
             "#fdca26"
            ],
            [
             1,
             "#f0f921"
            ]
           ],
           "sequentialminus": [
            [
             0,
             "#0d0887"
            ],
            [
             0.1111111111111111,
             "#46039f"
            ],
            [
             0.2222222222222222,
             "#7201a8"
            ],
            [
             0.3333333333333333,
             "#9c179e"
            ],
            [
             0.4444444444444444,
             "#bd3786"
            ],
            [
             0.5555555555555556,
             "#d8576b"
            ],
            [
             0.6666666666666666,
             "#ed7953"
            ],
            [
             0.7777777777777778,
             "#fb9f3a"
            ],
            [
             0.8888888888888888,
             "#fdca26"
            ],
            [
             1,
             "#f0f921"
            ]
           ]
          },
          "colorway": [
           "#636efa",
           "#EF553B",
           "#00cc96",
           "#ab63fa",
           "#FFA15A",
           "#19d3f3",
           "#FF6692",
           "#B6E880",
           "#FF97FF",
           "#FECB52"
          ],
          "font": {
           "color": "#2a3f5f"
          },
          "geo": {
           "bgcolor": "white",
           "lakecolor": "white",
           "landcolor": "#E5ECF6",
           "showlakes": true,
           "showland": true,
           "subunitcolor": "white"
          },
          "hoverlabel": {
           "align": "left"
          },
          "hovermode": "closest",
          "mapbox": {
           "style": "light"
          },
          "paper_bgcolor": "white",
          "plot_bgcolor": "#E5ECF6",
          "polar": {
           "angularaxis": {
            "gridcolor": "white",
            "linecolor": "white",
            "ticks": ""
           },
           "bgcolor": "#E5ECF6",
           "radialaxis": {
            "gridcolor": "white",
            "linecolor": "white",
            "ticks": ""
           }
          },
          "scene": {
           "xaxis": {
            "backgroundcolor": "#E5ECF6",
            "gridcolor": "white",
            "gridwidth": 2,
            "linecolor": "white",
            "showbackground": true,
            "ticks": "",
            "zerolinecolor": "white"
           },
           "yaxis": {
            "backgroundcolor": "#E5ECF6",
            "gridcolor": "white",
            "gridwidth": 2,
            "linecolor": "white",
            "showbackground": true,
            "ticks": "",
            "zerolinecolor": "white"
           },
           "zaxis": {
            "backgroundcolor": "#E5ECF6",
            "gridcolor": "white",
            "gridwidth": 2,
            "linecolor": "white",
            "showbackground": true,
            "ticks": "",
            "zerolinecolor": "white"
           }
          },
          "shapedefaults": {
           "line": {
            "color": "#2a3f5f"
           }
          },
          "ternary": {
           "aaxis": {
            "gridcolor": "white",
            "linecolor": "white",
            "ticks": ""
           },
           "baxis": {
            "gridcolor": "white",
            "linecolor": "white",
            "ticks": ""
           },
           "bgcolor": "#E5ECF6",
           "caxis": {
            "gridcolor": "white",
            "linecolor": "white",
            "ticks": ""
           }
          },
          "title": {
           "x": 0.05
          },
          "xaxis": {
           "automargin": true,
           "gridcolor": "white",
           "linecolor": "white",
           "ticks": "",
           "title": {
            "standoff": 15
           },
           "zerolinecolor": "white",
           "zerolinewidth": 2
          },
          "yaxis": {
           "automargin": true,
           "gridcolor": "white",
           "linecolor": "white",
           "ticks": "",
           "title": {
            "standoff": 15
           },
           "zerolinecolor": "white",
           "zerolinewidth": 2
          }
         }
        },
        "title": {
         "text": "Loss of training"
        },
        "xaxis": {
         "anchor": "y",
         "domain": [
          0,
          1
         ],
         "title": {
          "text": "x"
         }
        },
        "yaxis": {
         "anchor": "x",
         "domain": [
          0,
          1
         ],
         "title": {
          "text": "y"
         }
        }
       }
      }
     },
     "metadata": {},
     "output_type": "display_data"
    }
   ],
   "source": [
    "fig = px.line(y=loss_record,title='Loss of training')\n",
    "fig.show()"
   ]
  },
  {
   "cell_type": "markdown",
   "metadata": {},
   "source": [
    "Let us test our learned model on the test dataset."
   ]
  },
  {
   "cell_type": "code",
   "execution_count": 37,
   "metadata": {},
   "outputs": [
    {
     "data": {
      "application/vnd.plotly.v1+json": {
       "config": {
        "plotlyServerURL": "https://plot.ly"
       },
       "data": [
        {
         "hovertemplate": "label=malignant<br>index=%{x}<br>prediction=%{y}<extra></extra>",
         "legendgroup": "malignant",
         "marker": {
          "color": "#636efa",
          "symbol": "circle"
         },
         "mode": "markers",
         "name": "malignant",
         "orientation": "v",
         "showlegend": true,
         "type": "scatter",
         "x": [
          0,
          4,
          5,
          7,
          11,
          12,
          13,
          16,
          17,
          18,
          19,
          20,
          21,
          23,
          24,
          26,
          28,
          29,
          31,
          32,
          33,
          37,
          38,
          39,
          40,
          42,
          44,
          45,
          48,
          51,
          53,
          54,
          55,
          56,
          57,
          58,
          59,
          60,
          62,
          64,
          65,
          67,
          68,
          69,
          70,
          72,
          73,
          75,
          76,
          77,
          79,
          80,
          81,
          86,
          88,
          89,
          90,
          92,
          93,
          94,
          95,
          96,
          99,
          101,
          102,
          103,
          104,
          107,
          108,
          111,
          112,
          113
         ],
         "xaxis": "x",
         "y": [
          0.9997358918190002,
          0.9917901754379272,
          0.9999828338623047,
          0.9999643564224243,
          0.7610679268836975,
          0.9990174770355225,
          0.9957492351531982,
          0.966339647769928,
          0.9452264904975891,
          0.970669150352478,
          0.9874168634414673,
          0.9909568428993225,
          0.9827532768249512,
          0.9758225679397583,
          0.9892621636390686,
          0.999969482421875,
          0.9966004490852356,
          0.9167602062225342,
          0.9998496770858765,
          0.9304640293121338,
          0.8577684164047241,
          0.9978412389755249,
          0.9990012049674988,
          0.999864935874939,
          0.9865715503692627,
          0.9071949124336243,
          0.5788434147834778,
          0.9998007416725159,
          0.9987657070159912,
          0.9330571293830872,
          0.9998376369476318,
          0.9349381327629089,
          0.9185944199562073,
          0.9464030265808105,
          0.9840556383132935,
          0.9990956783294678,
          0.9982783794403076,
          0.9992117881774902,
          0.9992722868919373,
          0.872302234172821,
          0.9999904632568359,
          0.9998607635498047,
          0.9900408387184143,
          0.9998699426651001,
          0.9945387244224548,
          0.8641130328178406,
          0.9999547004699707,
          0.9998461008071899,
          0.9999904632568359,
          0.9569628238677979,
          0.9981720447540283,
          0.9959306120872498,
          0.9999998807907104,
          0.9999405145645142,
          0.9973984956741333,
          0.9988752007484436,
          0.999994158744812,
          0.9999991655349731,
          0.9787155389785767,
          0.9999728202819824,
          0.9983905553817749,
          0.9999910593032837,
          0.999987006187439,
          0.9868839383125305,
          0.9797067642211914,
          0.7963277697563171,
          0.9999722242355347,
          0.9851511120796204,
          0.9993914365768433,
          0.9245858192443848,
          0.9996546506881714,
          0.9918848276138306
         ],
         "yaxis": "y"
        },
        {
         "hovertemplate": "label=benign<br>index=%{x}<br>prediction=%{y}<extra></extra>",
         "legendgroup": "benign",
         "marker": {
          "color": "#EF553B",
          "symbol": "circle"
         },
         "mode": "markers",
         "name": "benign",
         "orientation": "v",
         "showlegend": true,
         "type": "scatter",
         "x": [
          1,
          2,
          3,
          6,
          8,
          9,
          10,
          14,
          15,
          22,
          25,
          27,
          30,
          34,
          35,
          36,
          41,
          43,
          46,
          47,
          49,
          50,
          52,
          61,
          63,
          66,
          71,
          74,
          78,
          82,
          83,
          84,
          85,
          87,
          91,
          97,
          98,
          100,
          105,
          106,
          109,
          110
         ],
         "xaxis": "x",
         "y": [
          5.54347934667021e-7,
          0.000005466043603519211,
          0.003509596921503544,
          3.558726202612661e-9,
          3.5052403291047085e-7,
          0.00042084549204446375,
          0.023551058024168015,
          0.000022598678697249852,
          8.685017738182606e-20,
          0.00045478716492652893,
          0.8959476947784424,
          0.00455674109980464,
          0.004858989734202623,
          0.009157941676676273,
          0.004115898162126541,
          0.0035207741893827915,
          0.318187415599823,
          0.18580842018127441,
          0.015499798581004143,
          0.0000033809346859925427,
          0.0037198138888925314,
          0.0000011606759926507948,
          0.0008994506788440049,
          2.1617767576032065e-9,
          0.0000017660451021583867,
          0.01630568318068981,
          0.00014842534437775612,
          0.04536945000290871,
          0.00600623432546854,
          0.8913973569869995,
          0.003622807562351227,
          0.0000517265907546971,
          0.00003380904672667384,
          0.000002184395725635113,
          0.003995294217020273,
          0.000060316870076349005,
          0.2211862951517105,
          0.0002698699536267668,
          9.002786363621063e-12,
          0.0006085464265197515,
          0.08493735641241074,
          0.6398263573646545
         ],
         "yaxis": "y"
        }
       ],
       "layout": {
        "legend": {
         "title": {
          "text": "label"
         },
         "tracegroupgap": 0
        },
        "margin": {
         "t": 60
        },
        "shapes": [
         {
          "line": {
           "dash": "dash"
          },
          "type": "line",
          "x0": 0,
          "x1": 1,
          "xref": "x domain",
          "y0": 0.5,
          "y1": 0.5,
          "yref": "y"
         }
        ],
        "template": {
         "data": {
          "bar": [
           {
            "error_x": {
             "color": "#2a3f5f"
            },
            "error_y": {
             "color": "#2a3f5f"
            },
            "marker": {
             "line": {
              "color": "#E5ECF6",
              "width": 0.5
             },
             "pattern": {
              "fillmode": "overlay",
              "size": 10,
              "solidity": 0.2
             }
            },
            "type": "bar"
           }
          ],
          "barpolar": [
           {
            "marker": {
             "line": {
              "color": "#E5ECF6",
              "width": 0.5
             },
             "pattern": {
              "fillmode": "overlay",
              "size": 10,
              "solidity": 0.2
             }
            },
            "type": "barpolar"
           }
          ],
          "carpet": [
           {
            "aaxis": {
             "endlinecolor": "#2a3f5f",
             "gridcolor": "white",
             "linecolor": "white",
             "minorgridcolor": "white",
             "startlinecolor": "#2a3f5f"
            },
            "baxis": {
             "endlinecolor": "#2a3f5f",
             "gridcolor": "white",
             "linecolor": "white",
             "minorgridcolor": "white",
             "startlinecolor": "#2a3f5f"
            },
            "type": "carpet"
           }
          ],
          "choropleth": [
           {
            "colorbar": {
             "outlinewidth": 0,
             "ticks": ""
            },
            "type": "choropleth"
           }
          ],
          "contour": [
           {
            "colorbar": {
             "outlinewidth": 0,
             "ticks": ""
            },
            "colorscale": [
             [
              0,
              "#0d0887"
             ],
             [
              0.1111111111111111,
              "#46039f"
             ],
             [
              0.2222222222222222,
              "#7201a8"
             ],
             [
              0.3333333333333333,
              "#9c179e"
             ],
             [
              0.4444444444444444,
              "#bd3786"
             ],
             [
              0.5555555555555556,
              "#d8576b"
             ],
             [
              0.6666666666666666,
              "#ed7953"
             ],
             [
              0.7777777777777778,
              "#fb9f3a"
             ],
             [
              0.8888888888888888,
              "#fdca26"
             ],
             [
              1,
              "#f0f921"
             ]
            ],
            "type": "contour"
           }
          ],
          "contourcarpet": [
           {
            "colorbar": {
             "outlinewidth": 0,
             "ticks": ""
            },
            "type": "contourcarpet"
           }
          ],
          "heatmap": [
           {
            "colorbar": {
             "outlinewidth": 0,
             "ticks": ""
            },
            "colorscale": [
             [
              0,
              "#0d0887"
             ],
             [
              0.1111111111111111,
              "#46039f"
             ],
             [
              0.2222222222222222,
              "#7201a8"
             ],
             [
              0.3333333333333333,
              "#9c179e"
             ],
             [
              0.4444444444444444,
              "#bd3786"
             ],
             [
              0.5555555555555556,
              "#d8576b"
             ],
             [
              0.6666666666666666,
              "#ed7953"
             ],
             [
              0.7777777777777778,
              "#fb9f3a"
             ],
             [
              0.8888888888888888,
              "#fdca26"
             ],
             [
              1,
              "#f0f921"
             ]
            ],
            "type": "heatmap"
           }
          ],
          "heatmapgl": [
           {
            "colorbar": {
             "outlinewidth": 0,
             "ticks": ""
            },
            "colorscale": [
             [
              0,
              "#0d0887"
             ],
             [
              0.1111111111111111,
              "#46039f"
             ],
             [
              0.2222222222222222,
              "#7201a8"
             ],
             [
              0.3333333333333333,
              "#9c179e"
             ],
             [
              0.4444444444444444,
              "#bd3786"
             ],
             [
              0.5555555555555556,
              "#d8576b"
             ],
             [
              0.6666666666666666,
              "#ed7953"
             ],
             [
              0.7777777777777778,
              "#fb9f3a"
             ],
             [
              0.8888888888888888,
              "#fdca26"
             ],
             [
              1,
              "#f0f921"
             ]
            ],
            "type": "heatmapgl"
           }
          ],
          "histogram": [
           {
            "marker": {
             "pattern": {
              "fillmode": "overlay",
              "size": 10,
              "solidity": 0.2
             }
            },
            "type": "histogram"
           }
          ],
          "histogram2d": [
           {
            "colorbar": {
             "outlinewidth": 0,
             "ticks": ""
            },
            "colorscale": [
             [
              0,
              "#0d0887"
             ],
             [
              0.1111111111111111,
              "#46039f"
             ],
             [
              0.2222222222222222,
              "#7201a8"
             ],
             [
              0.3333333333333333,
              "#9c179e"
             ],
             [
              0.4444444444444444,
              "#bd3786"
             ],
             [
              0.5555555555555556,
              "#d8576b"
             ],
             [
              0.6666666666666666,
              "#ed7953"
             ],
             [
              0.7777777777777778,
              "#fb9f3a"
             ],
             [
              0.8888888888888888,
              "#fdca26"
             ],
             [
              1,
              "#f0f921"
             ]
            ],
            "type": "histogram2d"
           }
          ],
          "histogram2dcontour": [
           {
            "colorbar": {
             "outlinewidth": 0,
             "ticks": ""
            },
            "colorscale": [
             [
              0,
              "#0d0887"
             ],
             [
              0.1111111111111111,
              "#46039f"
             ],
             [
              0.2222222222222222,
              "#7201a8"
             ],
             [
              0.3333333333333333,
              "#9c179e"
             ],
             [
              0.4444444444444444,
              "#bd3786"
             ],
             [
              0.5555555555555556,
              "#d8576b"
             ],
             [
              0.6666666666666666,
              "#ed7953"
             ],
             [
              0.7777777777777778,
              "#fb9f3a"
             ],
             [
              0.8888888888888888,
              "#fdca26"
             ],
             [
              1,
              "#f0f921"
             ]
            ],
            "type": "histogram2dcontour"
           }
          ],
          "mesh3d": [
           {
            "colorbar": {
             "outlinewidth": 0,
             "ticks": ""
            },
            "type": "mesh3d"
           }
          ],
          "parcoords": [
           {
            "line": {
             "colorbar": {
              "outlinewidth": 0,
              "ticks": ""
             }
            },
            "type": "parcoords"
           }
          ],
          "pie": [
           {
            "automargin": true,
            "type": "pie"
           }
          ],
          "scatter": [
           {
            "marker": {
             "colorbar": {
              "outlinewidth": 0,
              "ticks": ""
             }
            },
            "type": "scatter"
           }
          ],
          "scatter3d": [
           {
            "line": {
             "colorbar": {
              "outlinewidth": 0,
              "ticks": ""
             }
            },
            "marker": {
             "colorbar": {
              "outlinewidth": 0,
              "ticks": ""
             }
            },
            "type": "scatter3d"
           }
          ],
          "scattercarpet": [
           {
            "marker": {
             "colorbar": {
              "outlinewidth": 0,
              "ticks": ""
             }
            },
            "type": "scattercarpet"
           }
          ],
          "scattergeo": [
           {
            "marker": {
             "colorbar": {
              "outlinewidth": 0,
              "ticks": ""
             }
            },
            "type": "scattergeo"
           }
          ],
          "scattergl": [
           {
            "marker": {
             "colorbar": {
              "outlinewidth": 0,
              "ticks": ""
             }
            },
            "type": "scattergl"
           }
          ],
          "scattermapbox": [
           {
            "marker": {
             "colorbar": {
              "outlinewidth": 0,
              "ticks": ""
             }
            },
            "type": "scattermapbox"
           }
          ],
          "scatterpolar": [
           {
            "marker": {
             "colorbar": {
              "outlinewidth": 0,
              "ticks": ""
             }
            },
            "type": "scatterpolar"
           }
          ],
          "scatterpolargl": [
           {
            "marker": {
             "colorbar": {
              "outlinewidth": 0,
              "ticks": ""
             }
            },
            "type": "scatterpolargl"
           }
          ],
          "scatterternary": [
           {
            "marker": {
             "colorbar": {
              "outlinewidth": 0,
              "ticks": ""
             }
            },
            "type": "scatterternary"
           }
          ],
          "surface": [
           {
            "colorbar": {
             "outlinewidth": 0,
             "ticks": ""
            },
            "colorscale": [
             [
              0,
              "#0d0887"
             ],
             [
              0.1111111111111111,
              "#46039f"
             ],
             [
              0.2222222222222222,
              "#7201a8"
             ],
             [
              0.3333333333333333,
              "#9c179e"
             ],
             [
              0.4444444444444444,
              "#bd3786"
             ],
             [
              0.5555555555555556,
              "#d8576b"
             ],
             [
              0.6666666666666666,
              "#ed7953"
             ],
             [
              0.7777777777777778,
              "#fb9f3a"
             ],
             [
              0.8888888888888888,
              "#fdca26"
             ],
             [
              1,
              "#f0f921"
             ]
            ],
            "type": "surface"
           }
          ],
          "table": [
           {
            "cells": {
             "fill": {
              "color": "#EBF0F8"
             },
             "line": {
              "color": "white"
             }
            },
            "header": {
             "fill": {
              "color": "#C8D4E3"
             },
             "line": {
              "color": "white"
             }
            },
            "type": "table"
           }
          ]
         },
         "layout": {
          "annotationdefaults": {
           "arrowcolor": "#2a3f5f",
           "arrowhead": 0,
           "arrowwidth": 1
          },
          "autotypenumbers": "strict",
          "coloraxis": {
           "colorbar": {
            "outlinewidth": 0,
            "ticks": ""
           }
          },
          "colorscale": {
           "diverging": [
            [
             0,
             "#8e0152"
            ],
            [
             0.1,
             "#c51b7d"
            ],
            [
             0.2,
             "#de77ae"
            ],
            [
             0.3,
             "#f1b6da"
            ],
            [
             0.4,
             "#fde0ef"
            ],
            [
             0.5,
             "#f7f7f7"
            ],
            [
             0.6,
             "#e6f5d0"
            ],
            [
             0.7,
             "#b8e186"
            ],
            [
             0.8,
             "#7fbc41"
            ],
            [
             0.9,
             "#4d9221"
            ],
            [
             1,
             "#276419"
            ]
           ],
           "sequential": [
            [
             0,
             "#0d0887"
            ],
            [
             0.1111111111111111,
             "#46039f"
            ],
            [
             0.2222222222222222,
             "#7201a8"
            ],
            [
             0.3333333333333333,
             "#9c179e"
            ],
            [
             0.4444444444444444,
             "#bd3786"
            ],
            [
             0.5555555555555556,
             "#d8576b"
            ],
            [
             0.6666666666666666,
             "#ed7953"
            ],
            [
             0.7777777777777778,
             "#fb9f3a"
            ],
            [
             0.8888888888888888,
             "#fdca26"
            ],
            [
             1,
             "#f0f921"
            ]
           ],
           "sequentialminus": [
            [
             0,
             "#0d0887"
            ],
            [
             0.1111111111111111,
             "#46039f"
            ],
            [
             0.2222222222222222,
             "#7201a8"
            ],
            [
             0.3333333333333333,
             "#9c179e"
            ],
            [
             0.4444444444444444,
             "#bd3786"
            ],
            [
             0.5555555555555556,
             "#d8576b"
            ],
            [
             0.6666666666666666,
             "#ed7953"
            ],
            [
             0.7777777777777778,
             "#fb9f3a"
            ],
            [
             0.8888888888888888,
             "#fdca26"
            ],
            [
             1,
             "#f0f921"
            ]
           ]
          },
          "colorway": [
           "#636efa",
           "#EF553B",
           "#00cc96",
           "#ab63fa",
           "#FFA15A",
           "#19d3f3",
           "#FF6692",
           "#B6E880",
           "#FF97FF",
           "#FECB52"
          ],
          "font": {
           "color": "#2a3f5f"
          },
          "geo": {
           "bgcolor": "white",
           "lakecolor": "white",
           "landcolor": "#E5ECF6",
           "showlakes": true,
           "showland": true,
           "subunitcolor": "white"
          },
          "hoverlabel": {
           "align": "left"
          },
          "hovermode": "closest",
          "mapbox": {
           "style": "light"
          },
          "paper_bgcolor": "white",
          "plot_bgcolor": "#E5ECF6",
          "polar": {
           "angularaxis": {
            "gridcolor": "white",
            "linecolor": "white",
            "ticks": ""
           },
           "bgcolor": "#E5ECF6",
           "radialaxis": {
            "gridcolor": "white",
            "linecolor": "white",
            "ticks": ""
           }
          },
          "scene": {
           "xaxis": {
            "backgroundcolor": "#E5ECF6",
            "gridcolor": "white",
            "gridwidth": 2,
            "linecolor": "white",
            "showbackground": true,
            "ticks": "",
            "zerolinecolor": "white"
           },
           "yaxis": {
            "backgroundcolor": "#E5ECF6",
            "gridcolor": "white",
            "gridwidth": 2,
            "linecolor": "white",
            "showbackground": true,
            "ticks": "",
            "zerolinecolor": "white"
           },
           "zaxis": {
            "backgroundcolor": "#E5ECF6",
            "gridcolor": "white",
            "gridwidth": 2,
            "linecolor": "white",
            "showbackground": true,
            "ticks": "",
            "zerolinecolor": "white"
           }
          },
          "shapedefaults": {
           "line": {
            "color": "#2a3f5f"
           }
          },
          "ternary": {
           "aaxis": {
            "gridcolor": "white",
            "linecolor": "white",
            "ticks": ""
           },
           "baxis": {
            "gridcolor": "white",
            "linecolor": "white",
            "ticks": ""
           },
           "bgcolor": "#E5ECF6",
           "caxis": {
            "gridcolor": "white",
            "linecolor": "white",
            "ticks": ""
           }
          },
          "title": {
           "x": 0.05
          },
          "xaxis": {
           "automargin": true,
           "gridcolor": "white",
           "linecolor": "white",
           "ticks": "",
           "title": {
            "standoff": 15
           },
           "zerolinecolor": "white",
           "zerolinewidth": 2
          },
          "yaxis": {
           "automargin": true,
           "gridcolor": "white",
           "linecolor": "white",
           "ticks": "",
           "title": {
            "standoff": 15
           },
           "zerolinecolor": "white",
           "zerolinewidth": 2
          }
         }
        },
        "xaxis": {
         "anchor": "y",
         "domain": [
          0,
          1
         ],
         "title": {
          "text": "index"
         }
        },
        "yaxis": {
         "anchor": "x",
         "domain": [
          0,
          1
         ],
         "title": {
          "text": "prediction"
         }
        }
       }
      }
     },
     "metadata": {},
     "output_type": "display_data"
    }
   ],
   "source": [
    "hat_y_test = model(x_test).detach()\n",
    "label = y_test.squeeze().type(torch.bool)\n",
    "label = ['malignant' if tmp else 'benign' for tmp in label]\n",
    "\n",
    "df_aftertrain = pd.DataFrame({'prediction':hat_y_test.squeeze(),\n",
    "                            'label':label\n",
    "                           }\n",
    "                          )\n",
    "\n",
    "fig = px.scatter(data_frame=df_aftertrain,\n",
    "                 y='prediction',\n",
    "                 color='label',\n",
    "                 labels={True:'malignant',\n",
    "                         'benign':False})\n",
    "fig.add_hline(y=0.5, line_dash='dash')\n",
    "fig.show()"
   ]
  },
  {
   "cell_type": "markdown",
   "metadata": {},
   "source": [
    "After training, the predictions are more reasonable: for malignant cases, our trained model gives high predictions (closer to $1$), and for benign cases, our trained model gives low predictions (closer to $0$). The dashed horizontal line represents $0.5$ probability."
   ]
  },
  {
   "cell_type": "markdown",
   "metadata": {},
   "source": [
    "## Logistic Regression with Regularization\n",
    "\n",
    "We demonstrate how to do ridge and lasso logistic regression in Python."
   ]
  },
  {
   "cell_type": "markdown",
   "metadata": {},
   "source": [
    "### Ridge Logistic Regression\n",
    "\n",
    "For the ridge logistic regression, we add $L_2$ regularization to model parameters:\n",
    "\n",
    "$$\n",
    "J(\\theta) = \\sum_{i=1}^{N}\\left(-  y^{(i)}\\log( \\sigma(\\theta^{\\intercal}x^{(i)}) ) - (1-y^{(i)})\\log (1 - \\sigma(\\theta^{\\intercal}x^{(i)})) \\right) + \\lambda ||\\theta||_2^2,\n",
    "$$\n",
    "\n",
    "where\n",
    "\n",
    "$$\n",
    "||\\theta||_2^2 = \\sum_j \\theta_j^2.\n",
    "$$"
   ]
  },
  {
   "cell_type": "markdown",
   "metadata": {},
   "source": [
    "In PyTorch the $L_2$ regularization of model parameters are supported in its build-in optimizers."
   ]
  },
  {
   "cell_type": "code",
   "execution_count": 50,
   "metadata": {},
   "outputs": [
    {
     "name": "stdout",
     "output_type": "stream",
     "text": [
      "At iteration 1 loss is 0.8316\n",
      "At iteration 100 loss is 0.1025\n",
      "At iteration 200 loss is 0.0869\n",
      "At iteration 300 loss is 0.0806\n",
      "At iteration 400 loss is 0.0772\n",
      "At iteration 500 loss is 0.0751\n",
      "At iteration 600 loss is 0.0737\n",
      "At iteration 700 loss is 0.0727\n",
      "At iteration 800 loss is 0.0720\n",
      "At iteration 900 loss is 0.0715\n",
      "At iteration 1000 loss is 0.0711\n"
     ]
    }
   ],
   "source": [
    "# We re-use the tensors x_train, y_train, ... defined in logistic regression section.\n",
    "\n",
    "nIter = 1000 # We perform 1000 iterations of GD steps\n",
    "loss_record = []\n",
    "\n",
    "inSize, outSize = 31, 1\n",
    "\n",
    "model_ridge = nn.Sequential(nn.Linear(inSize, outSize), # innner product\n",
    "                      nn.Sigmoid())               # sigmoid\n",
    "\n",
    "# binary cross entrophy loss\n",
    "J = nn.BCELoss()\n",
    "\n",
    "# SGD optimizer in PyTorch\n",
    "# L2 regularization controlled by the `weight_decay` parameter.\n",
    "optimizer = SGD(model_ridge.parameters(),\n",
    "                lr = 0.05,\n",
    "                weight_decay=0.01, # L2 regularization\n",
    "                momentum = 0.5)\n",
    "\n",
    "for i in range(nIter):\n",
    "    optimizer.zero_grad()\n",
    "    hat_y = model_ridge(x_train)\n",
    "    loss = J(hat_y,y_train)\n",
    "    loss.backward()\n",
    "    optimizer.step()\n",
    "    loss_record.append(loss.item())\n",
    "    if i%100 == 99 or i==0:\n",
    "        print('At iteration {} loss is {:.4f}'.format(i+1,loss.item()))\n",
    "    "
   ]
  },
  {
   "cell_type": "code",
   "execution_count": 51,
   "metadata": {},
   "outputs": [
    {
     "data": {
      "application/vnd.plotly.v1+json": {
       "config": {
        "plotlyServerURL": "https://plot.ly"
       },
       "data": [
        {
         "hovertemplate": "label=malignant<br>index=%{x}<br>prediction=%{y}<extra></extra>",
         "legendgroup": "malignant",
         "marker": {
          "color": "#636efa",
          "symbol": "circle"
         },
         "mode": "markers",
         "name": "malignant",
         "orientation": "v",
         "showlegend": true,
         "type": "scatter",
         "x": [
          0,
          4,
          5,
          7,
          11,
          12,
          13,
          16,
          17,
          18,
          19,
          20,
          21,
          23,
          24,
          26,
          28,
          29,
          31,
          32,
          33,
          37,
          38,
          39,
          40,
          42,
          44,
          45,
          48,
          51,
          53,
          54,
          55,
          56,
          57,
          58,
          59,
          60,
          62,
          64,
          65,
          67,
          68,
          69,
          70,
          72,
          73,
          75,
          76,
          77,
          79,
          80,
          81,
          86,
          88,
          89,
          90,
          92,
          93,
          94,
          95,
          96,
          99,
          101,
          102,
          103,
          104,
          107,
          108,
          111,
          112,
          113
         ],
         "xaxis": "x",
         "y": [
          0.9961456060409546,
          0.9729537963867188,
          0.9997499585151672,
          0.9995331764221191,
          0.72575843334198,
          0.9940395355224609,
          0.9839664101600647,
          0.9285701513290405,
          0.9018812775611877,
          0.9420512318611145,
          0.9627223610877991,
          0.9731327891349792,
          0.952247679233551,
          0.9456102848052979,
          0.9623695611953735,
          0.9995823502540588,
          0.9875033497810364,
          0.8642167448997498,
          0.9981613755226135,
          0.8852717280387878,
          0.8032076954841614,
          0.9905372262001038,
          0.994513988494873,
          0.9987388253211975,
          0.9663577675819397,
          0.8502005934715271,
          0.5750868320465088,
          0.9982261061668396,
          0.9940730929374695,
          0.8981035947799683,
          0.9985949397087097,
          0.8420118689537048,
          0.87281334400177,
          0.8993421196937561,
          0.9587951302528381,
          0.9939968585968018,
          0.9902591705322266,
          0.9926183819770813,
          0.9942599534988403,
          0.8398808240890503,
          0.9998244643211365,
          0.9986392855644226,
          0.9738023281097412,
          0.9986578226089478,
          0.9825228452682495,
          0.792097270488739,
          0.9995348453521729,
          0.9987351298332214,
          0.9997733235359192,
          0.9294881224632263,
          0.9911282062530518,
          0.9825435280799866,
          0.9999910593032837,
          0.9993353486061096,
          0.9894731640815735,
          0.994016170501709,
          0.9998596906661987,
          0.9999696016311646,
          0.9505946636199951,
          0.9996224641799927,
          0.9922698736190796,
          0.9998080134391785,
          0.9997146725654602,
          0.9629555344581604,
          0.9510815739631653,
          0.7576218843460083,
          0.9995786547660828,
          0.9628961682319641,
          0.9959486722946167,
          0.8694695234298706,
          0.9967383742332458,
          0.976012647151947
         ],
         "yaxis": "y"
        },
        {
         "hovertemplate": "label=benign<br>index=%{x}<br>prediction=%{y}<extra></extra>",
         "legendgroup": "benign",
         "marker": {
          "color": "#EF553B",
          "symbol": "circle"
         },
         "mode": "markers",
         "name": "benign",
         "orientation": "v",
         "showlegend": true,
         "type": "scatter",
         "x": [
          1,
          2,
          3,
          6,
          8,
          9,
          10,
          14,
          15,
          22,
          25,
          27,
          30,
          34,
          35,
          36,
          41,
          43,
          46,
          47,
          49,
          50,
          52,
          61,
          63,
          66,
          71,
          74,
          78,
          82,
          83,
          84,
          85,
          87,
          91,
          97,
          98,
          100,
          105,
          106,
          109,
          110
         ],
         "xaxis": "x",
         "y": [
          0.000035224224120611325,
          0.00014615549298468977,
          0.016903728246688843,
          7.267437354130379e-7,
          0.000016202671758946963,
          0.003460368374362588,
          0.042091500014066696,
          0.00038754023262299597,
          7.304113334939601e-15,
          0.003977771382778883,
          0.8564159274101257,
          0.022418014705181122,
          0.024516062811017036,
          0.023301836103200912,
          0.013734624721109867,
          0.016151342540979385,
          0.4070143401622772,
          0.2670910656452179,
          0.0422525592148304,
          0.00011782467481680214,
          0.020856216549873352,
          0.000045951950596645474,
          0.006181970704346895,
          4.452604116522707e-7,
          0.00007017981261014938,
          0.047281354665756226,
          0.0016065608942881227,
          0.10511592030525208,
          0.026534410193562508,
          0.8315654993057251,
          0.017092060297727585,
          0.0007702913717366755,
          0.0005766724934801459,
          0.00005521886851056479,
          0.01587732322514057,
          0.001044475007802248,
          0.2977810800075531,
          0.002724194899201393,
          1.149575279413284e-8,
          0.005060190334916115,
          0.18480928242206573,
          0.6312804818153381
         ],
         "yaxis": "y"
        }
       ],
       "layout": {
        "legend": {
         "title": {
          "text": "label"
         },
         "tracegroupgap": 0
        },
        "margin": {
         "t": 60
        },
        "shapes": [
         {
          "line": {
           "dash": "dash"
          },
          "type": "line",
          "x0": 0,
          "x1": 1,
          "xref": "x domain",
          "y0": 0.5,
          "y1": 0.5,
          "yref": "y"
         }
        ],
        "template": {
         "data": {
          "bar": [
           {
            "error_x": {
             "color": "#2a3f5f"
            },
            "error_y": {
             "color": "#2a3f5f"
            },
            "marker": {
             "line": {
              "color": "#E5ECF6",
              "width": 0.5
             },
             "pattern": {
              "fillmode": "overlay",
              "size": 10,
              "solidity": 0.2
             }
            },
            "type": "bar"
           }
          ],
          "barpolar": [
           {
            "marker": {
             "line": {
              "color": "#E5ECF6",
              "width": 0.5
             },
             "pattern": {
              "fillmode": "overlay",
              "size": 10,
              "solidity": 0.2
             }
            },
            "type": "barpolar"
           }
          ],
          "carpet": [
           {
            "aaxis": {
             "endlinecolor": "#2a3f5f",
             "gridcolor": "white",
             "linecolor": "white",
             "minorgridcolor": "white",
             "startlinecolor": "#2a3f5f"
            },
            "baxis": {
             "endlinecolor": "#2a3f5f",
             "gridcolor": "white",
             "linecolor": "white",
             "minorgridcolor": "white",
             "startlinecolor": "#2a3f5f"
            },
            "type": "carpet"
           }
          ],
          "choropleth": [
           {
            "colorbar": {
             "outlinewidth": 0,
             "ticks": ""
            },
            "type": "choropleth"
           }
          ],
          "contour": [
           {
            "colorbar": {
             "outlinewidth": 0,
             "ticks": ""
            },
            "colorscale": [
             [
              0,
              "#0d0887"
             ],
             [
              0.1111111111111111,
              "#46039f"
             ],
             [
              0.2222222222222222,
              "#7201a8"
             ],
             [
              0.3333333333333333,
              "#9c179e"
             ],
             [
              0.4444444444444444,
              "#bd3786"
             ],
             [
              0.5555555555555556,
              "#d8576b"
             ],
             [
              0.6666666666666666,
              "#ed7953"
             ],
             [
              0.7777777777777778,
              "#fb9f3a"
             ],
             [
              0.8888888888888888,
              "#fdca26"
             ],
             [
              1,
              "#f0f921"
             ]
            ],
            "type": "contour"
           }
          ],
          "contourcarpet": [
           {
            "colorbar": {
             "outlinewidth": 0,
             "ticks": ""
            },
            "type": "contourcarpet"
           }
          ],
          "heatmap": [
           {
            "colorbar": {
             "outlinewidth": 0,
             "ticks": ""
            },
            "colorscale": [
             [
              0,
              "#0d0887"
             ],
             [
              0.1111111111111111,
              "#46039f"
             ],
             [
              0.2222222222222222,
              "#7201a8"
             ],
             [
              0.3333333333333333,
              "#9c179e"
             ],
             [
              0.4444444444444444,
              "#bd3786"
             ],
             [
              0.5555555555555556,
              "#d8576b"
             ],
             [
              0.6666666666666666,
              "#ed7953"
             ],
             [
              0.7777777777777778,
              "#fb9f3a"
             ],
             [
              0.8888888888888888,
              "#fdca26"
             ],
             [
              1,
              "#f0f921"
             ]
            ],
            "type": "heatmap"
           }
          ],
          "heatmapgl": [
           {
            "colorbar": {
             "outlinewidth": 0,
             "ticks": ""
            },
            "colorscale": [
             [
              0,
              "#0d0887"
             ],
             [
              0.1111111111111111,
              "#46039f"
             ],
             [
              0.2222222222222222,
              "#7201a8"
             ],
             [
              0.3333333333333333,
              "#9c179e"
             ],
             [
              0.4444444444444444,
              "#bd3786"
             ],
             [
              0.5555555555555556,
              "#d8576b"
             ],
             [
              0.6666666666666666,
              "#ed7953"
             ],
             [
              0.7777777777777778,
              "#fb9f3a"
             ],
             [
              0.8888888888888888,
              "#fdca26"
             ],
             [
              1,
              "#f0f921"
             ]
            ],
            "type": "heatmapgl"
           }
          ],
          "histogram": [
           {
            "marker": {
             "pattern": {
              "fillmode": "overlay",
              "size": 10,
              "solidity": 0.2
             }
            },
            "type": "histogram"
           }
          ],
          "histogram2d": [
           {
            "colorbar": {
             "outlinewidth": 0,
             "ticks": ""
            },
            "colorscale": [
             [
              0,
              "#0d0887"
             ],
             [
              0.1111111111111111,
              "#46039f"
             ],
             [
              0.2222222222222222,
              "#7201a8"
             ],
             [
              0.3333333333333333,
              "#9c179e"
             ],
             [
              0.4444444444444444,
              "#bd3786"
             ],
             [
              0.5555555555555556,
              "#d8576b"
             ],
             [
              0.6666666666666666,
              "#ed7953"
             ],
             [
              0.7777777777777778,
              "#fb9f3a"
             ],
             [
              0.8888888888888888,
              "#fdca26"
             ],
             [
              1,
              "#f0f921"
             ]
            ],
            "type": "histogram2d"
           }
          ],
          "histogram2dcontour": [
           {
            "colorbar": {
             "outlinewidth": 0,
             "ticks": ""
            },
            "colorscale": [
             [
              0,
              "#0d0887"
             ],
             [
              0.1111111111111111,
              "#46039f"
             ],
             [
              0.2222222222222222,
              "#7201a8"
             ],
             [
              0.3333333333333333,
              "#9c179e"
             ],
             [
              0.4444444444444444,
              "#bd3786"
             ],
             [
              0.5555555555555556,
              "#d8576b"
             ],
             [
              0.6666666666666666,
              "#ed7953"
             ],
             [
              0.7777777777777778,
              "#fb9f3a"
             ],
             [
              0.8888888888888888,
              "#fdca26"
             ],
             [
              1,
              "#f0f921"
             ]
            ],
            "type": "histogram2dcontour"
           }
          ],
          "mesh3d": [
           {
            "colorbar": {
             "outlinewidth": 0,
             "ticks": ""
            },
            "type": "mesh3d"
           }
          ],
          "parcoords": [
           {
            "line": {
             "colorbar": {
              "outlinewidth": 0,
              "ticks": ""
             }
            },
            "type": "parcoords"
           }
          ],
          "pie": [
           {
            "automargin": true,
            "type": "pie"
           }
          ],
          "scatter": [
           {
            "marker": {
             "colorbar": {
              "outlinewidth": 0,
              "ticks": ""
             }
            },
            "type": "scatter"
           }
          ],
          "scatter3d": [
           {
            "line": {
             "colorbar": {
              "outlinewidth": 0,
              "ticks": ""
             }
            },
            "marker": {
             "colorbar": {
              "outlinewidth": 0,
              "ticks": ""
             }
            },
            "type": "scatter3d"
           }
          ],
          "scattercarpet": [
           {
            "marker": {
             "colorbar": {
              "outlinewidth": 0,
              "ticks": ""
             }
            },
            "type": "scattercarpet"
           }
          ],
          "scattergeo": [
           {
            "marker": {
             "colorbar": {
              "outlinewidth": 0,
              "ticks": ""
             }
            },
            "type": "scattergeo"
           }
          ],
          "scattergl": [
           {
            "marker": {
             "colorbar": {
              "outlinewidth": 0,
              "ticks": ""
             }
            },
            "type": "scattergl"
           }
          ],
          "scattermapbox": [
           {
            "marker": {
             "colorbar": {
              "outlinewidth": 0,
              "ticks": ""
             }
            },
            "type": "scattermapbox"
           }
          ],
          "scatterpolar": [
           {
            "marker": {
             "colorbar": {
              "outlinewidth": 0,
              "ticks": ""
             }
            },
            "type": "scatterpolar"
           }
          ],
          "scatterpolargl": [
           {
            "marker": {
             "colorbar": {
              "outlinewidth": 0,
              "ticks": ""
             }
            },
            "type": "scatterpolargl"
           }
          ],
          "scatterternary": [
           {
            "marker": {
             "colorbar": {
              "outlinewidth": 0,
              "ticks": ""
             }
            },
            "type": "scatterternary"
           }
          ],
          "surface": [
           {
            "colorbar": {
             "outlinewidth": 0,
             "ticks": ""
            },
            "colorscale": [
             [
              0,
              "#0d0887"
             ],
             [
              0.1111111111111111,
              "#46039f"
             ],
             [
              0.2222222222222222,
              "#7201a8"
             ],
             [
              0.3333333333333333,
              "#9c179e"
             ],
             [
              0.4444444444444444,
              "#bd3786"
             ],
             [
              0.5555555555555556,
              "#d8576b"
             ],
             [
              0.6666666666666666,
              "#ed7953"
             ],
             [
              0.7777777777777778,
              "#fb9f3a"
             ],
             [
              0.8888888888888888,
              "#fdca26"
             ],
             [
              1,
              "#f0f921"
             ]
            ],
            "type": "surface"
           }
          ],
          "table": [
           {
            "cells": {
             "fill": {
              "color": "#EBF0F8"
             },
             "line": {
              "color": "white"
             }
            },
            "header": {
             "fill": {
              "color": "#C8D4E3"
             },
             "line": {
              "color": "white"
             }
            },
            "type": "table"
           }
          ]
         },
         "layout": {
          "annotationdefaults": {
           "arrowcolor": "#2a3f5f",
           "arrowhead": 0,
           "arrowwidth": 1
          },
          "autotypenumbers": "strict",
          "coloraxis": {
           "colorbar": {
            "outlinewidth": 0,
            "ticks": ""
           }
          },
          "colorscale": {
           "diverging": [
            [
             0,
             "#8e0152"
            ],
            [
             0.1,
             "#c51b7d"
            ],
            [
             0.2,
             "#de77ae"
            ],
            [
             0.3,
             "#f1b6da"
            ],
            [
             0.4,
             "#fde0ef"
            ],
            [
             0.5,
             "#f7f7f7"
            ],
            [
             0.6,
             "#e6f5d0"
            ],
            [
             0.7,
             "#b8e186"
            ],
            [
             0.8,
             "#7fbc41"
            ],
            [
             0.9,
             "#4d9221"
            ],
            [
             1,
             "#276419"
            ]
           ],
           "sequential": [
            [
             0,
             "#0d0887"
            ],
            [
             0.1111111111111111,
             "#46039f"
            ],
            [
             0.2222222222222222,
             "#7201a8"
            ],
            [
             0.3333333333333333,
             "#9c179e"
            ],
            [
             0.4444444444444444,
             "#bd3786"
            ],
            [
             0.5555555555555556,
             "#d8576b"
            ],
            [
             0.6666666666666666,
             "#ed7953"
            ],
            [
             0.7777777777777778,
             "#fb9f3a"
            ],
            [
             0.8888888888888888,
             "#fdca26"
            ],
            [
             1,
             "#f0f921"
            ]
           ],
           "sequentialminus": [
            [
             0,
             "#0d0887"
            ],
            [
             0.1111111111111111,
             "#46039f"
            ],
            [
             0.2222222222222222,
             "#7201a8"
            ],
            [
             0.3333333333333333,
             "#9c179e"
            ],
            [
             0.4444444444444444,
             "#bd3786"
            ],
            [
             0.5555555555555556,
             "#d8576b"
            ],
            [
             0.6666666666666666,
             "#ed7953"
            ],
            [
             0.7777777777777778,
             "#fb9f3a"
            ],
            [
             0.8888888888888888,
             "#fdca26"
            ],
            [
             1,
             "#f0f921"
            ]
           ]
          },
          "colorway": [
           "#636efa",
           "#EF553B",
           "#00cc96",
           "#ab63fa",
           "#FFA15A",
           "#19d3f3",
           "#FF6692",
           "#B6E880",
           "#FF97FF",
           "#FECB52"
          ],
          "font": {
           "color": "#2a3f5f"
          },
          "geo": {
           "bgcolor": "white",
           "lakecolor": "white",
           "landcolor": "#E5ECF6",
           "showlakes": true,
           "showland": true,
           "subunitcolor": "white"
          },
          "hoverlabel": {
           "align": "left"
          },
          "hovermode": "closest",
          "mapbox": {
           "style": "light"
          },
          "paper_bgcolor": "white",
          "plot_bgcolor": "#E5ECF6",
          "polar": {
           "angularaxis": {
            "gridcolor": "white",
            "linecolor": "white",
            "ticks": ""
           },
           "bgcolor": "#E5ECF6",
           "radialaxis": {
            "gridcolor": "white",
            "linecolor": "white",
            "ticks": ""
           }
          },
          "scene": {
           "xaxis": {
            "backgroundcolor": "#E5ECF6",
            "gridcolor": "white",
            "gridwidth": 2,
            "linecolor": "white",
            "showbackground": true,
            "ticks": "",
            "zerolinecolor": "white"
           },
           "yaxis": {
            "backgroundcolor": "#E5ECF6",
            "gridcolor": "white",
            "gridwidth": 2,
            "linecolor": "white",
            "showbackground": true,
            "ticks": "",
            "zerolinecolor": "white"
           },
           "zaxis": {
            "backgroundcolor": "#E5ECF6",
            "gridcolor": "white",
            "gridwidth": 2,
            "linecolor": "white",
            "showbackground": true,
            "ticks": "",
            "zerolinecolor": "white"
           }
          },
          "shapedefaults": {
           "line": {
            "color": "#2a3f5f"
           }
          },
          "ternary": {
           "aaxis": {
            "gridcolor": "white",
            "linecolor": "white",
            "ticks": ""
           },
           "baxis": {
            "gridcolor": "white",
            "linecolor": "white",
            "ticks": ""
           },
           "bgcolor": "#E5ECF6",
           "caxis": {
            "gridcolor": "white",
            "linecolor": "white",
            "ticks": ""
           }
          },
          "title": {
           "x": 0.05
          },
          "xaxis": {
           "automargin": true,
           "gridcolor": "white",
           "linecolor": "white",
           "ticks": "",
           "title": {
            "standoff": 15
           },
           "zerolinecolor": "white",
           "zerolinewidth": 2
          },
          "yaxis": {
           "automargin": true,
           "gridcolor": "white",
           "linecolor": "white",
           "ticks": "",
           "title": {
            "standoff": 15
           },
           "zerolinecolor": "white",
           "zerolinewidth": 2
          }
         }
        },
        "xaxis": {
         "anchor": "y",
         "domain": [
          0,
          1
         ],
         "title": {
          "text": "index"
         }
        },
        "yaxis": {
         "anchor": "x",
         "domain": [
          0,
          1
         ],
         "title": {
          "text": "prediction"
         }
        }
       }
      }
     },
     "metadata": {},
     "output_type": "display_data"
    }
   ],
   "source": [
    "hat_y_test = model_ridge(x_test).detach()\n",
    "label = y_test.squeeze().type(torch.bool)\n",
    "label = ['malignant' if tmp else 'benign' for tmp in label]\n",
    "\n",
    "df_aftertrain = pd.DataFrame({'prediction':hat_y_test.squeeze(),\n",
    "                            'label':label\n",
    "                           }\n",
    "                          )\n",
    "\n",
    "fig = px.scatter(data_frame=df_aftertrain,\n",
    "                 y='prediction',\n",
    "                 color='label',\n",
    "                 labels={True:'malignant',\n",
    "                         'benign':False})\n",
    "fig.add_hline(y=0.5, line_dash='dash')\n",
    "fig.show()"
   ]
  },
  {
   "cell_type": "markdown",
   "metadata": {},
   "source": [
    "### LASSO Logistic Regression\n",
    "\n",
    "For the LASSO logistic regression, we add $L_1$ regularization to model parameters:\n",
    "\n",
    "$$\n",
    "J(\\theta) = \\sum_{i=1}^{N}\\left(-  y^{(i)}\\log( \\sigma(\\theta^{\\intercal}x^{(i)}) ) - (1-y^{(i)})\\log (1 - \\sigma(\\theta^{\\intercal}x^{(i)})) \\right) + \\lambda ||\\theta||_1,\n",
    "$$\n",
    "\n",
    "where\n",
    "\n",
    "$$\n",
    "||\\theta||_1 = \\sum_j |\\theta_j|.\n",
    "$$"
   ]
  },
  {
   "cell_type": "markdown",
   "metadata": {},
   "source": [
    "There is no build-in support for $L_1$ regularization in PyTorch. Let us code it!"
   ]
  },
  {
   "cell_type": "code",
   "execution_count": 62,
   "metadata": {},
   "outputs": [
    {
     "name": "stdout",
     "output_type": "stream",
     "text": [
      "At iteration 1 loss is 0.6009\n",
      "At iteration 100 loss is 0.1255\n",
      "At iteration 200 loss is 0.1137\n",
      "At iteration 300 loss is 0.1093\n",
      "At iteration 400 loss is 0.1068\n",
      "At iteration 500 loss is 0.1052\n",
      "At iteration 600 loss is 0.1043\n",
      "At iteration 700 loss is 0.1038\n",
      "At iteration 800 loss is 0.1027\n",
      "At iteration 900 loss is 0.1025\n",
      "At iteration 1000 loss is 0.1022\n"
     ]
    }
   ],
   "source": [
    "# We re-use the tensors x_train, y_train, ... defined in logistic regression section.\n",
    "\n",
    "nIter = 1000 # We perform 1000 iterations of GD steps\n",
    "loss_record = []\n",
    "\n",
    "inSize, outSize = 31, 1\n",
    "\n",
    "model_LASSO = nn.Sequential(nn.Linear(inSize, outSize), # innner product\n",
    "                      nn.Sigmoid())               # sigmoid\n",
    "\n",
    "# binary cross entrophy loss\n",
    "J = nn.BCELoss()\n",
    "\n",
    "# L1 regularization\n",
    "lbd = 0.01\n",
    "\n",
    "# SGD optimizer in PyTorch\n",
    "optimizer = SGD(model_LASSO.parameters(),\n",
    "                lr = 0.05,\n",
    "                momentum = 0.5)\n",
    "\n",
    "def L1Reg(model):\n",
    "    result = torch.tensor(0)\n",
    "    for param in model.parameters(): # iterate over all parameters of our model\n",
    "        result = result + param.abs().mean()\n",
    "\n",
    "    return result\n",
    "\n",
    "for i in range(nIter):\n",
    "    optimizer.zero_grad()\n",
    "    hat_y = model_LASSO(x_train)\n",
    "    loss = J(hat_y,y_train) + lbd*L1Reg(model_LASSO)\n",
    "    loss.backward()\n",
    "    optimizer.step()\n",
    "    loss_record.append(loss.item())\n",
    "    if i%100 == 99 or i==0:\n",
    "        print('At iteration {} loss is {:.4f}'.format(i+1,loss.item()))\n",
    "    "
   ]
  },
  {
   "cell_type": "code",
   "execution_count": 61,
   "metadata": {},
   "outputs": [
    {
     "data": {
      "application/vnd.plotly.v1+json": {
       "config": {
        "plotlyServerURL": "https://plot.ly"
       },
       "data": [
        {
         "hovertemplate": "label=malignant<br>index=%{x}<br>prediction=%{y}<extra></extra>",
         "legendgroup": "malignant",
         "marker": {
          "color": "#636efa",
          "symbol": "circle"
         },
         "mode": "markers",
         "name": "malignant",
         "orientation": "v",
         "showlegend": true,
         "type": "scatter",
         "x": [
          0,
          4,
          5,
          7,
          11,
          12,
          13,
          16,
          17,
          18,
          19,
          20,
          21,
          23,
          24,
          26,
          28,
          29,
          31,
          32,
          33,
          37,
          38,
          39,
          40,
          42,
          44,
          45,
          48,
          51,
          53,
          54,
          55,
          56,
          57,
          58,
          59,
          60,
          62,
          64,
          65,
          67,
          68,
          69,
          70,
          72,
          73,
          75,
          76,
          77,
          79,
          80,
          81,
          86,
          88,
          89,
          90,
          92,
          93,
          94,
          95,
          96,
          99,
          101,
          102,
          103,
          104,
          107,
          108,
          111,
          112,
          113
         ],
         "xaxis": "x",
         "y": [
          0.9996601343154907,
          0.9912793040275574,
          0.9999760389328003,
          0.9999526739120483,
          0.7579586505889893,
          0.9988310933113098,
          0.9953704476356506,
          0.9609113335609436,
          0.934662401676178,
          0.9704795479774475,
          0.9853742122650146,
          0.9900083541870117,
          0.9792040586471558,
          0.9763126373291016,
          0.9849845170974731,
          0.9999610185623169,
          0.9959976673126221,
          0.9045413732528687,
          0.9998125433921814,
          0.9322063326835632,
          0.8445164561271667,
          0.9968023300170898,
          0.9987809062004089,
          0.9998272061347961,
          0.9858750700950623,
          0.9085978865623474,
          0.5635012984275818,
          0.9997538924217224,
          0.998612642288208,
          0.9349738955497742,
          0.9997946619987488,
          0.9204552173614502,
          0.9108575582504272,
          0.9499137997627258,
          0.9814447164535522,
          0.9989668130874634,
          0.9977772831916809,
          0.9994634985923767,
          0.9990134239196777,
          0.8813256025314331,
          0.9999830722808838,
          0.9998425245285034,
          0.9889451861381531,
          0.9998219609260559,
          0.9941291809082031,
          0.8350851535797119,
          0.9999481439590454,
          0.9998127818107605,
          0.9999814033508301,
          0.9565324783325195,
          0.9976451992988586,
          0.9954875111579895,
          0.9999996423721313,
          0.999929666519165,
          0.9970692992210388,
          0.9985276460647583,
          0.9999905824661255,
          0.9999988079071045,
          0.977502167224884,
          0.9999556541442871,
          0.9980594515800476,
          0.9999836683273315,
          0.9999737739562988,
          0.9846647381782532,
          0.9754422307014465,
          0.7874574065208435,
          0.9999631643295288,
          0.9838623404502869,
          0.9992408752441406,
          0.9192874431610107,
          0.9995970129966736,
          0.9910790324211121
         ],
         "yaxis": "y"
        },
        {
         "hovertemplate": "label=benign<br>index=%{x}<br>prediction=%{y}<extra></extra>",
         "legendgroup": "benign",
         "marker": {
          "color": "#EF553B",
          "symbol": "circle"
         },
         "mode": "markers",
         "name": "benign",
         "orientation": "v",
         "showlegend": true,
         "type": "scatter",
         "x": [
          1,
          2,
          3,
          6,
          8,
          9,
          10,
          14,
          15,
          22,
          25,
          27,
          30,
          34,
          35,
          36,
          41,
          43,
          46,
          47,
          49,
          50,
          52,
          61,
          63,
          66,
          71,
          74,
          78,
          82,
          83,
          84,
          85,
          87,
          91,
          97,
          98,
          100,
          105,
          106,
          109,
          110
         ],
         "xaxis": "x",
         "y": [
          0.0000011054123660869664,
          0.00000670399094815366,
          0.0032637184485793114,
          4.7890544863093965e-9,
          4.261946457972954e-7,
          0.0004933947348035872,
          0.023798132315278053,
          0.000027482201403472573,
          5.075636784175064e-20,
          0.0005424170522019267,
          0.8941515684127808,
          0.005163945257663727,
          0.00627922685816884,
          0.008249526843428612,
          0.0035900017246603966,
          0.004319494590163231,
          0.3343453109264374,
          0.2093963325023651,
          0.018495647236704826,
          0.000004785163127962733,
          0.0041000498458743095,
          0.0000015979195495674503,
          0.0011063346173614264,
          3.6555647398017754e-9,
          0.000002376875727350125,
          0.017067357897758484,
          0.00015280941443052143,
          0.04703754931688309,
          0.007031800225377083,
          0.878879964351654,
          0.004126184154301882,
          0.00006553328421432525,
          0.000038395533920265734,
          0.00000181620691819262,
          0.004525101277977228,
          0.00008440255624009296,
          0.19099681079387665,
          0.0002444956044200808,
          1.354996410213305e-11,
          0.0005503508727997541,
          0.10089773684740067,
          0.5798075199127197
         ],
         "yaxis": "y"
        }
       ],
       "layout": {
        "legend": {
         "title": {
          "text": "label"
         },
         "tracegroupgap": 0
        },
        "margin": {
         "t": 60
        },
        "shapes": [
         {
          "line": {
           "dash": "dash"
          },
          "type": "line",
          "x0": 0,
          "x1": 1,
          "xref": "x domain",
          "y0": 0.5,
          "y1": 0.5,
          "yref": "y"
         }
        ],
        "template": {
         "data": {
          "bar": [
           {
            "error_x": {
             "color": "#2a3f5f"
            },
            "error_y": {
             "color": "#2a3f5f"
            },
            "marker": {
             "line": {
              "color": "#E5ECF6",
              "width": 0.5
             },
             "pattern": {
              "fillmode": "overlay",
              "size": 10,
              "solidity": 0.2
             }
            },
            "type": "bar"
           }
          ],
          "barpolar": [
           {
            "marker": {
             "line": {
              "color": "#E5ECF6",
              "width": 0.5
             },
             "pattern": {
              "fillmode": "overlay",
              "size": 10,
              "solidity": 0.2
             }
            },
            "type": "barpolar"
           }
          ],
          "carpet": [
           {
            "aaxis": {
             "endlinecolor": "#2a3f5f",
             "gridcolor": "white",
             "linecolor": "white",
             "minorgridcolor": "white",
             "startlinecolor": "#2a3f5f"
            },
            "baxis": {
             "endlinecolor": "#2a3f5f",
             "gridcolor": "white",
             "linecolor": "white",
             "minorgridcolor": "white",
             "startlinecolor": "#2a3f5f"
            },
            "type": "carpet"
           }
          ],
          "choropleth": [
           {
            "colorbar": {
             "outlinewidth": 0,
             "ticks": ""
            },
            "type": "choropleth"
           }
          ],
          "contour": [
           {
            "colorbar": {
             "outlinewidth": 0,
             "ticks": ""
            },
            "colorscale": [
             [
              0,
              "#0d0887"
             ],
             [
              0.1111111111111111,
              "#46039f"
             ],
             [
              0.2222222222222222,
              "#7201a8"
             ],
             [
              0.3333333333333333,
              "#9c179e"
             ],
             [
              0.4444444444444444,
              "#bd3786"
             ],
             [
              0.5555555555555556,
              "#d8576b"
             ],
             [
              0.6666666666666666,
              "#ed7953"
             ],
             [
              0.7777777777777778,
              "#fb9f3a"
             ],
             [
              0.8888888888888888,
              "#fdca26"
             ],
             [
              1,
              "#f0f921"
             ]
            ],
            "type": "contour"
           }
          ],
          "contourcarpet": [
           {
            "colorbar": {
             "outlinewidth": 0,
             "ticks": ""
            },
            "type": "contourcarpet"
           }
          ],
          "heatmap": [
           {
            "colorbar": {
             "outlinewidth": 0,
             "ticks": ""
            },
            "colorscale": [
             [
              0,
              "#0d0887"
             ],
             [
              0.1111111111111111,
              "#46039f"
             ],
             [
              0.2222222222222222,
              "#7201a8"
             ],
             [
              0.3333333333333333,
              "#9c179e"
             ],
             [
              0.4444444444444444,
              "#bd3786"
             ],
             [
              0.5555555555555556,
              "#d8576b"
             ],
             [
              0.6666666666666666,
              "#ed7953"
             ],
             [
              0.7777777777777778,
              "#fb9f3a"
             ],
             [
              0.8888888888888888,
              "#fdca26"
             ],
             [
              1,
              "#f0f921"
             ]
            ],
            "type": "heatmap"
           }
          ],
          "heatmapgl": [
           {
            "colorbar": {
             "outlinewidth": 0,
             "ticks": ""
            },
            "colorscale": [
             [
              0,
              "#0d0887"
             ],
             [
              0.1111111111111111,
              "#46039f"
             ],
             [
              0.2222222222222222,
              "#7201a8"
             ],
             [
              0.3333333333333333,
              "#9c179e"
             ],
             [
              0.4444444444444444,
              "#bd3786"
             ],
             [
              0.5555555555555556,
              "#d8576b"
             ],
             [
              0.6666666666666666,
              "#ed7953"
             ],
             [
              0.7777777777777778,
              "#fb9f3a"
             ],
             [
              0.8888888888888888,
              "#fdca26"
             ],
             [
              1,
              "#f0f921"
             ]
            ],
            "type": "heatmapgl"
           }
          ],
          "histogram": [
           {
            "marker": {
             "pattern": {
              "fillmode": "overlay",
              "size": 10,
              "solidity": 0.2
             }
            },
            "type": "histogram"
           }
          ],
          "histogram2d": [
           {
            "colorbar": {
             "outlinewidth": 0,
             "ticks": ""
            },
            "colorscale": [
             [
              0,
              "#0d0887"
             ],
             [
              0.1111111111111111,
              "#46039f"
             ],
             [
              0.2222222222222222,
              "#7201a8"
             ],
             [
              0.3333333333333333,
              "#9c179e"
             ],
             [
              0.4444444444444444,
              "#bd3786"
             ],
             [
              0.5555555555555556,
              "#d8576b"
             ],
             [
              0.6666666666666666,
              "#ed7953"
             ],
             [
              0.7777777777777778,
              "#fb9f3a"
             ],
             [
              0.8888888888888888,
              "#fdca26"
             ],
             [
              1,
              "#f0f921"
             ]
            ],
            "type": "histogram2d"
           }
          ],
          "histogram2dcontour": [
           {
            "colorbar": {
             "outlinewidth": 0,
             "ticks": ""
            },
            "colorscale": [
             [
              0,
              "#0d0887"
             ],
             [
              0.1111111111111111,
              "#46039f"
             ],
             [
              0.2222222222222222,
              "#7201a8"
             ],
             [
              0.3333333333333333,
              "#9c179e"
             ],
             [
              0.4444444444444444,
              "#bd3786"
             ],
             [
              0.5555555555555556,
              "#d8576b"
             ],
             [
              0.6666666666666666,
              "#ed7953"
             ],
             [
              0.7777777777777778,
              "#fb9f3a"
             ],
             [
              0.8888888888888888,
              "#fdca26"
             ],
             [
              1,
              "#f0f921"
             ]
            ],
            "type": "histogram2dcontour"
           }
          ],
          "mesh3d": [
           {
            "colorbar": {
             "outlinewidth": 0,
             "ticks": ""
            },
            "type": "mesh3d"
           }
          ],
          "parcoords": [
           {
            "line": {
             "colorbar": {
              "outlinewidth": 0,
              "ticks": ""
             }
            },
            "type": "parcoords"
           }
          ],
          "pie": [
           {
            "automargin": true,
            "type": "pie"
           }
          ],
          "scatter": [
           {
            "marker": {
             "colorbar": {
              "outlinewidth": 0,
              "ticks": ""
             }
            },
            "type": "scatter"
           }
          ],
          "scatter3d": [
           {
            "line": {
             "colorbar": {
              "outlinewidth": 0,
              "ticks": ""
             }
            },
            "marker": {
             "colorbar": {
              "outlinewidth": 0,
              "ticks": ""
             }
            },
            "type": "scatter3d"
           }
          ],
          "scattercarpet": [
           {
            "marker": {
             "colorbar": {
              "outlinewidth": 0,
              "ticks": ""
             }
            },
            "type": "scattercarpet"
           }
          ],
          "scattergeo": [
           {
            "marker": {
             "colorbar": {
              "outlinewidth": 0,
              "ticks": ""
             }
            },
            "type": "scattergeo"
           }
          ],
          "scattergl": [
           {
            "marker": {
             "colorbar": {
              "outlinewidth": 0,
              "ticks": ""
             }
            },
            "type": "scattergl"
           }
          ],
          "scattermapbox": [
           {
            "marker": {
             "colorbar": {
              "outlinewidth": 0,
              "ticks": ""
             }
            },
            "type": "scattermapbox"
           }
          ],
          "scatterpolar": [
           {
            "marker": {
             "colorbar": {
              "outlinewidth": 0,
              "ticks": ""
             }
            },
            "type": "scatterpolar"
           }
          ],
          "scatterpolargl": [
           {
            "marker": {
             "colorbar": {
              "outlinewidth": 0,
              "ticks": ""
             }
            },
            "type": "scatterpolargl"
           }
          ],
          "scatterternary": [
           {
            "marker": {
             "colorbar": {
              "outlinewidth": 0,
              "ticks": ""
             }
            },
            "type": "scatterternary"
           }
          ],
          "surface": [
           {
            "colorbar": {
             "outlinewidth": 0,
             "ticks": ""
            },
            "colorscale": [
             [
              0,
              "#0d0887"
             ],
             [
              0.1111111111111111,
              "#46039f"
             ],
             [
              0.2222222222222222,
              "#7201a8"
             ],
             [
              0.3333333333333333,
              "#9c179e"
             ],
             [
              0.4444444444444444,
              "#bd3786"
             ],
             [
              0.5555555555555556,
              "#d8576b"
             ],
             [
              0.6666666666666666,
              "#ed7953"
             ],
             [
              0.7777777777777778,
              "#fb9f3a"
             ],
             [
              0.8888888888888888,
              "#fdca26"
             ],
             [
              1,
              "#f0f921"
             ]
            ],
            "type": "surface"
           }
          ],
          "table": [
           {
            "cells": {
             "fill": {
              "color": "#EBF0F8"
             },
             "line": {
              "color": "white"
             }
            },
            "header": {
             "fill": {
              "color": "#C8D4E3"
             },
             "line": {
              "color": "white"
             }
            },
            "type": "table"
           }
          ]
         },
         "layout": {
          "annotationdefaults": {
           "arrowcolor": "#2a3f5f",
           "arrowhead": 0,
           "arrowwidth": 1
          },
          "autotypenumbers": "strict",
          "coloraxis": {
           "colorbar": {
            "outlinewidth": 0,
            "ticks": ""
           }
          },
          "colorscale": {
           "diverging": [
            [
             0,
             "#8e0152"
            ],
            [
             0.1,
             "#c51b7d"
            ],
            [
             0.2,
             "#de77ae"
            ],
            [
             0.3,
             "#f1b6da"
            ],
            [
             0.4,
             "#fde0ef"
            ],
            [
             0.5,
             "#f7f7f7"
            ],
            [
             0.6,
             "#e6f5d0"
            ],
            [
             0.7,
             "#b8e186"
            ],
            [
             0.8,
             "#7fbc41"
            ],
            [
             0.9,
             "#4d9221"
            ],
            [
             1,
             "#276419"
            ]
           ],
           "sequential": [
            [
             0,
             "#0d0887"
            ],
            [
             0.1111111111111111,
             "#46039f"
            ],
            [
             0.2222222222222222,
             "#7201a8"
            ],
            [
             0.3333333333333333,
             "#9c179e"
            ],
            [
             0.4444444444444444,
             "#bd3786"
            ],
            [
             0.5555555555555556,
             "#d8576b"
            ],
            [
             0.6666666666666666,
             "#ed7953"
            ],
            [
             0.7777777777777778,
             "#fb9f3a"
            ],
            [
             0.8888888888888888,
             "#fdca26"
            ],
            [
             1,
             "#f0f921"
            ]
           ],
           "sequentialminus": [
            [
             0,
             "#0d0887"
            ],
            [
             0.1111111111111111,
             "#46039f"
            ],
            [
             0.2222222222222222,
             "#7201a8"
            ],
            [
             0.3333333333333333,
             "#9c179e"
            ],
            [
             0.4444444444444444,
             "#bd3786"
            ],
            [
             0.5555555555555556,
             "#d8576b"
            ],
            [
             0.6666666666666666,
             "#ed7953"
            ],
            [
             0.7777777777777778,
             "#fb9f3a"
            ],
            [
             0.8888888888888888,
             "#fdca26"
            ],
            [
             1,
             "#f0f921"
            ]
           ]
          },
          "colorway": [
           "#636efa",
           "#EF553B",
           "#00cc96",
           "#ab63fa",
           "#FFA15A",
           "#19d3f3",
           "#FF6692",
           "#B6E880",
           "#FF97FF",
           "#FECB52"
          ],
          "font": {
           "color": "#2a3f5f"
          },
          "geo": {
           "bgcolor": "white",
           "lakecolor": "white",
           "landcolor": "#E5ECF6",
           "showlakes": true,
           "showland": true,
           "subunitcolor": "white"
          },
          "hoverlabel": {
           "align": "left"
          },
          "hovermode": "closest",
          "mapbox": {
           "style": "light"
          },
          "paper_bgcolor": "white",
          "plot_bgcolor": "#E5ECF6",
          "polar": {
           "angularaxis": {
            "gridcolor": "white",
            "linecolor": "white",
            "ticks": ""
           },
           "bgcolor": "#E5ECF6",
           "radialaxis": {
            "gridcolor": "white",
            "linecolor": "white",
            "ticks": ""
           }
          },
          "scene": {
           "xaxis": {
            "backgroundcolor": "#E5ECF6",
            "gridcolor": "white",
            "gridwidth": 2,
            "linecolor": "white",
            "showbackground": true,
            "ticks": "",
            "zerolinecolor": "white"
           },
           "yaxis": {
            "backgroundcolor": "#E5ECF6",
            "gridcolor": "white",
            "gridwidth": 2,
            "linecolor": "white",
            "showbackground": true,
            "ticks": "",
            "zerolinecolor": "white"
           },
           "zaxis": {
            "backgroundcolor": "#E5ECF6",
            "gridcolor": "white",
            "gridwidth": 2,
            "linecolor": "white",
            "showbackground": true,
            "ticks": "",
            "zerolinecolor": "white"
           }
          },
          "shapedefaults": {
           "line": {
            "color": "#2a3f5f"
           }
          },
          "ternary": {
           "aaxis": {
            "gridcolor": "white",
            "linecolor": "white",
            "ticks": ""
           },
           "baxis": {
            "gridcolor": "white",
            "linecolor": "white",
            "ticks": ""
           },
           "bgcolor": "#E5ECF6",
           "caxis": {
            "gridcolor": "white",
            "linecolor": "white",
            "ticks": ""
           }
          },
          "title": {
           "x": 0.05
          },
          "xaxis": {
           "automargin": true,
           "gridcolor": "white",
           "linecolor": "white",
           "ticks": "",
           "title": {
            "standoff": 15
           },
           "zerolinecolor": "white",
           "zerolinewidth": 2
          },
          "yaxis": {
           "automargin": true,
           "gridcolor": "white",
           "linecolor": "white",
           "ticks": "",
           "title": {
            "standoff": 15
           },
           "zerolinecolor": "white",
           "zerolinewidth": 2
          }
         }
        },
        "xaxis": {
         "anchor": "y",
         "domain": [
          0,
          1
         ],
         "title": {
          "text": "index"
         }
        },
        "yaxis": {
         "anchor": "x",
         "domain": [
          0,
          1
         ],
         "title": {
          "text": "prediction"
         }
        }
       }
      }
     },
     "metadata": {},
     "output_type": "display_data"
    }
   ],
   "source": [
    "hat_y_test = model_LASSO(x_test).detach()\n",
    "label = y_test.squeeze().type(torch.bool)\n",
    "label = ['malignant' if tmp else 'benign' for tmp in label]\n",
    "\n",
    "df_aftertrain = pd.DataFrame({'prediction':hat_y_test.squeeze(),\n",
    "                            'label':label\n",
    "                           }\n",
    "                          )\n",
    "\n",
    "fig = px.scatter(data_frame=df_aftertrain,\n",
    "                 y='prediction',\n",
    "                 color='label',\n",
    "                 labels={True:'malignant',\n",
    "                         'benign':False})\n",
    "fig.add_hline(y=0.5, line_dash='dash')\n",
    "fig.show()"
   ]
  }
 ],
 "metadata": {
  "colab": {
   "collapsed_sections": [
    "aAUE4hqdgV5W",
    "yzmKef0IbBW2"
   ],
   "name": "Gradient_Descent.ipynb",
   "provenance": []
  },
  "kernelspec": {
   "display_name": "Python 3",
   "language": "python",
   "name": "python3"
  },
  "language_info": {
   "codemirror_mode": {
    "name": "ipython",
    "version": 3
   },
   "file_extension": ".py",
   "mimetype": "text/x-python",
   "name": "python",
   "nbconvert_exporter": "python",
   "pygments_lexer": "ipython3",
   "version": "3.8.5"
  }
 },
 "nbformat": 4,
 "nbformat_minor": 4
}
