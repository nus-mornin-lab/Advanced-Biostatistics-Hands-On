{
 "cells": [
  {
   "attachments": {},
   "cell_type": "markdown",
   "metadata": {},
   "source": [
    "# SPH6004 Hands-On 2\n",
    "## Logistic Regression with Regularization, Feature Selection, and Imbalanced Dataset\n",
    "\n",
    "Contents:\n",
    "  * Logistic regression with regularization\n",
    "    * Adam optimizer\n",
    "    * AUROC and average precision (AP) metrics\n",
    "    * Comparison of $L_1$ and $L_2$ regularization effects\n",
    "  * Feature selection methods with `sklearn`\n",
    "    * Forward and backward feature selection using `sklearn`\n",
    "    * Visualize model performance using ROC curve and precision-recall curve\n",
    "  * Data with class imbalance and the **Synthetic Minority Oversampling Technique** (SMOTE)\n"
   ]
  },
  {
   "cell_type": "code",
   "execution_count": 1,
   "metadata": {},
   "outputs": [],
   "source": [
    "# We will use the following packages\n",
    "\n",
    "# PyTorch package and submodules\n",
    "import torch\n",
    "import torch.nn as nn\n",
    "from torch.optim import SGD #gradient descent optimizer\n",
    "\n",
    "# NumPy for math operations, and Pandas for processing tabular data.\n",
    "import numpy as np\n",
    "import pandas as pd\n",
    "\n",
    "# Plotly plotting package\n",
    "import plotly.graph_objects as go\n",
    "import plotly.express as px\n",
    "\n",
    "# We use toy datasets in scikit-learn package\n",
    "from sklearn.datasets import load_breast_cancer\n",
    "\n",
    "# We use AUROC and average precision (AP) scores from sklearn\n",
    "from sklearn.metrics import roc_auc_score, average_precision_score"
   ]
  },
  {
   "attachments": {},
   "cell_type": "markdown",
   "metadata": {},
   "source": [
    "We use the breast cancer dataset from `sklearn` for demonstration. Recall that the independent variables have $30$ dimension, and many of the dimensions are correlated."
   ]
  },
  {
   "cell_type": "code",
   "execution_count": 3,
   "metadata": {},
   "outputs": [
    {
     "data": {
      "text/html": [
       "<div>\n",
       "<style scoped>\n",
       "    .dataframe tbody tr th:only-of-type {\n",
       "        vertical-align: middle;\n",
       "    }\n",
       "\n",
       "    .dataframe tbody tr th {\n",
       "        vertical-align: top;\n",
       "    }\n",
       "\n",
       "    .dataframe thead th {\n",
       "        text-align: right;\n",
       "    }\n",
       "</style>\n",
       "<table border=\"1\" class=\"dataframe\">\n",
       "  <thead>\n",
       "    <tr style=\"text-align: right;\">\n",
       "      <th></th>\n",
       "      <th>count</th>\n",
       "      <th>mean</th>\n",
       "      <th>std</th>\n",
       "      <th>min</th>\n",
       "      <th>25%</th>\n",
       "      <th>50%</th>\n",
       "      <th>75%</th>\n",
       "      <th>max</th>\n",
       "    </tr>\n",
       "  </thead>\n",
       "  <tbody>\n",
       "    <tr>\n",
       "      <th>mean radius</th>\n",
       "      <td>569.0</td>\n",
       "      <td>-1.311195e-16</td>\n",
       "      <td>1.0</td>\n",
       "      <td>-2.027864</td>\n",
       "      <td>-0.688779</td>\n",
       "      <td>-0.214893</td>\n",
       "      <td>0.468980</td>\n",
       "      <td>3.967796</td>\n",
       "    </tr>\n",
       "    <tr>\n",
       "      <th>mean texture</th>\n",
       "      <td>569.0</td>\n",
       "      <td>6.243785e-17</td>\n",
       "      <td>1.0</td>\n",
       "      <td>-2.227289</td>\n",
       "      <td>-0.725325</td>\n",
       "      <td>-0.104544</td>\n",
       "      <td>0.583662</td>\n",
       "      <td>4.647799</td>\n",
       "    </tr>\n",
       "    <tr>\n",
       "      <th>mean perimeter</th>\n",
       "      <td>569.0</td>\n",
       "      <td>-1.248757e-16</td>\n",
       "      <td>1.0</td>\n",
       "      <td>-1.982759</td>\n",
       "      <td>-0.691347</td>\n",
       "      <td>-0.235773</td>\n",
       "      <td>0.499238</td>\n",
       "      <td>3.972634</td>\n",
       "    </tr>\n",
       "    <tr>\n",
       "      <th>mean area</th>\n",
       "      <td>569.0</td>\n",
       "      <td>-2.185325e-16</td>\n",
       "      <td>1.0</td>\n",
       "      <td>-1.453164</td>\n",
       "      <td>-0.666609</td>\n",
       "      <td>-0.294927</td>\n",
       "      <td>0.363188</td>\n",
       "      <td>5.245913</td>\n",
       "    </tr>\n",
       "    <tr>\n",
       "      <th>mean smoothness</th>\n",
       "      <td>569.0</td>\n",
       "      <td>-8.366672e-16</td>\n",
       "      <td>1.0</td>\n",
       "      <td>-3.109349</td>\n",
       "      <td>-0.710338</td>\n",
       "      <td>-0.034860</td>\n",
       "      <td>0.635640</td>\n",
       "      <td>4.766717</td>\n",
       "    </tr>\n",
       "    <tr>\n",
       "      <th>mean compactness</th>\n",
       "      <td>569.0</td>\n",
       "      <td>1.998011e-16</td>\n",
       "      <td>1.0</td>\n",
       "      <td>-1.608721</td>\n",
       "      <td>-0.746429</td>\n",
       "      <td>-0.221745</td>\n",
       "      <td>0.493423</td>\n",
       "      <td>4.564409</td>\n",
       "    </tr>\n",
       "    <tr>\n",
       "      <th>mean concavity</th>\n",
       "      <td>569.0</td>\n",
       "      <td>3.746271e-17</td>\n",
       "      <td>1.0</td>\n",
       "      <td>-1.113893</td>\n",
       "      <td>-0.743094</td>\n",
       "      <td>-0.341939</td>\n",
       "      <td>0.525599</td>\n",
       "      <td>4.239858</td>\n",
       "    </tr>\n",
       "    <tr>\n",
       "      <th>mean concave points</th>\n",
       "      <td>569.0</td>\n",
       "      <td>-4.995028e-17</td>\n",
       "      <td>1.0</td>\n",
       "      <td>-1.260710</td>\n",
       "      <td>-0.737295</td>\n",
       "      <td>-0.397372</td>\n",
       "      <td>0.646366</td>\n",
       "      <td>3.924477</td>\n",
       "    </tr>\n",
       "    <tr>\n",
       "      <th>mean symmetry</th>\n",
       "      <td>569.0</td>\n",
       "      <td>1.748260e-16</td>\n",
       "      <td>1.0</td>\n",
       "      <td>-2.741705</td>\n",
       "      <td>-0.702621</td>\n",
       "      <td>-0.071564</td>\n",
       "      <td>0.530313</td>\n",
       "      <td>4.480808</td>\n",
       "    </tr>\n",
       "    <tr>\n",
       "      <th>mean fractal dimension</th>\n",
       "      <td>569.0</td>\n",
       "      <td>4.838933e-16</td>\n",
       "      <td>1.0</td>\n",
       "      <td>-1.818265</td>\n",
       "      <td>-0.722004</td>\n",
       "      <td>-0.178123</td>\n",
       "      <td>0.470569</td>\n",
       "      <td>4.906602</td>\n",
       "    </tr>\n",
       "    <tr>\n",
       "      <th>radius error</th>\n",
       "      <td>569.0</td>\n",
       "      <td>2.497514e-16</td>\n",
       "      <td>1.0</td>\n",
       "      <td>-1.058992</td>\n",
       "      <td>-0.623022</td>\n",
       "      <td>-0.291988</td>\n",
       "      <td>0.265866</td>\n",
       "      <td>8.899079</td>\n",
       "    </tr>\n",
       "    <tr>\n",
       "      <th>texture error</th>\n",
       "      <td>569.0</td>\n",
       "      <td>-1.123881e-16</td>\n",
       "      <td>1.0</td>\n",
       "      <td>-1.552898</td>\n",
       "      <td>-0.694198</td>\n",
       "      <td>-0.197324</td>\n",
       "      <td>0.466142</td>\n",
       "      <td>6.649429</td>\n",
       "    </tr>\n",
       "    <tr>\n",
       "      <th>perimeter error</th>\n",
       "      <td>569.0</td>\n",
       "      <td>-1.373633e-16</td>\n",
       "      <td>1.0</td>\n",
       "      <td>-1.043131</td>\n",
       "      <td>-0.623220</td>\n",
       "      <td>-0.286400</td>\n",
       "      <td>0.242817</td>\n",
       "      <td>9.453668</td>\n",
       "    </tr>\n",
       "    <tr>\n",
       "      <th>area error</th>\n",
       "      <td>569.0</td>\n",
       "      <td>-1.186319e-16</td>\n",
       "      <td>1.0</td>\n",
       "      <td>-0.737180</td>\n",
       "      <td>-0.494319</td>\n",
       "      <td>-0.347477</td>\n",
       "      <td>0.106679</td>\n",
       "      <td>11.032135</td>\n",
       "    </tr>\n",
       "    <tr>\n",
       "      <th>smoothness error</th>\n",
       "      <td>569.0</td>\n",
       "      <td>-1.545337e-16</td>\n",
       "      <td>1.0</td>\n",
       "      <td>-1.774504</td>\n",
       "      <td>-0.623470</td>\n",
       "      <td>-0.220142</td>\n",
       "      <td>0.368031</td>\n",
       "      <td>8.022940</td>\n",
       "    </tr>\n",
       "    <tr>\n",
       "      <th>compactness error</th>\n",
       "      <td>569.0</td>\n",
       "      <td>1.873136e-16</td>\n",
       "      <td>1.0</td>\n",
       "      <td>-1.296957</td>\n",
       "      <td>-0.692317</td>\n",
       "      <td>-0.280773</td>\n",
       "      <td>0.389312</td>\n",
       "      <td>6.138081</td>\n",
       "    </tr>\n",
       "    <tr>\n",
       "      <th>concavity error</th>\n",
       "      <td>569.0</td>\n",
       "      <td>1.685822e-16</td>\n",
       "      <td>1.0</td>\n",
       "      <td>-1.056571</td>\n",
       "      <td>-0.556671</td>\n",
       "      <td>-0.198890</td>\n",
       "      <td>0.336456</td>\n",
       "      <td>12.062067</td>\n",
       "    </tr>\n",
       "    <tr>\n",
       "      <th>concave points error</th>\n",
       "      <td>569.0</td>\n",
       "      <td>2.497514e-17</td>\n",
       "      <td>1.0</td>\n",
       "      <td>-1.911765</td>\n",
       "      <td>-0.673897</td>\n",
       "      <td>-0.140372</td>\n",
       "      <td>0.472241</td>\n",
       "      <td>6.643755</td>\n",
       "    </tr>\n",
       "    <tr>\n",
       "      <th>symmetry error</th>\n",
       "      <td>569.0</td>\n",
       "      <td>9.365678e-17</td>\n",
       "      <td>1.0</td>\n",
       "      <td>-1.531542</td>\n",
       "      <td>-0.651108</td>\n",
       "      <td>-0.219238</td>\n",
       "      <td>0.355380</td>\n",
       "      <td>7.065700</td>\n",
       "    </tr>\n",
       "    <tr>\n",
       "      <th>fractal dimension error</th>\n",
       "      <td>569.0</td>\n",
       "      <td>-6.243785e-18</td>\n",
       "      <td>1.0</td>\n",
       "      <td>-1.096004</td>\n",
       "      <td>-0.584604</td>\n",
       "      <td>-0.229738</td>\n",
       "      <td>0.288388</td>\n",
       "      <td>9.842932</td>\n",
       "    </tr>\n",
       "    <tr>\n",
       "      <th>worst radius</th>\n",
       "      <td>569.0</td>\n",
       "      <td>-8.241796e-16</td>\n",
       "      <td>1.0</td>\n",
       "      <td>-1.725382</td>\n",
       "      <td>-0.674328</td>\n",
       "      <td>-0.268803</td>\n",
       "      <td>0.521557</td>\n",
       "      <td>4.090590</td>\n",
       "    </tr>\n",
       "    <tr>\n",
       "      <th>worst texture</th>\n",
       "      <td>569.0</td>\n",
       "      <td>1.248757e-17</td>\n",
       "      <td>1.0</td>\n",
       "      <td>-2.222039</td>\n",
       "      <td>-0.747971</td>\n",
       "      <td>-0.043477</td>\n",
       "      <td>0.657762</td>\n",
       "      <td>3.882489</td>\n",
       "    </tr>\n",
       "    <tr>\n",
       "      <th>worst perimeter</th>\n",
       "      <td>569.0</td>\n",
       "      <td>-3.496520e-16</td>\n",
       "      <td>1.0</td>\n",
       "      <td>-1.691872</td>\n",
       "      <td>-0.688972</td>\n",
       "      <td>-0.285729</td>\n",
       "      <td>0.539804</td>\n",
       "      <td>4.283568</td>\n",
       "    </tr>\n",
       "    <tr>\n",
       "      <th>worst area</th>\n",
       "      <td>569.0</td>\n",
       "      <td>0.000000e+00</td>\n",
       "      <td>1.0</td>\n",
       "      <td>-1.221348</td>\n",
       "      <td>-0.641571</td>\n",
       "      <td>-0.340881</td>\n",
       "      <td>0.357275</td>\n",
       "      <td>5.924959</td>\n",
       "    </tr>\n",
       "    <tr>\n",
       "      <th>worst smoothness</th>\n",
       "      <td>569.0</td>\n",
       "      <td>-2.122887e-16</td>\n",
       "      <td>1.0</td>\n",
       "      <td>-2.680337</td>\n",
       "      <td>-0.690623</td>\n",
       "      <td>-0.046802</td>\n",
       "      <td>0.597020</td>\n",
       "      <td>3.951897</td>\n",
       "    </tr>\n",
       "    <tr>\n",
       "      <th>worst compactness</th>\n",
       "      <td>569.0</td>\n",
       "      <td>-3.621395e-16</td>\n",
       "      <td>1.0</td>\n",
       "      <td>-1.442609</td>\n",
       "      <td>-0.680485</td>\n",
       "      <td>-0.269264</td>\n",
       "      <td>0.539194</td>\n",
       "      <td>5.108382</td>\n",
       "    </tr>\n",
       "    <tr>\n",
       "      <th>worst concavity</th>\n",
       "      <td>569.0</td>\n",
       "      <td>8.741299e-17</td>\n",
       "      <td>1.0</td>\n",
       "      <td>-1.304683</td>\n",
       "      <td>-0.755849</td>\n",
       "      <td>-0.218040</td>\n",
       "      <td>0.530674</td>\n",
       "      <td>4.696536</td>\n",
       "    </tr>\n",
       "    <tr>\n",
       "      <th>worst concave points</th>\n",
       "      <td>569.0</td>\n",
       "      <td>2.122887e-16</td>\n",
       "      <td>1.0</td>\n",
       "      <td>-1.743529</td>\n",
       "      <td>-0.755735</td>\n",
       "      <td>-0.223272</td>\n",
       "      <td>0.711884</td>\n",
       "      <td>2.683516</td>\n",
       "    </tr>\n",
       "    <tr>\n",
       "      <th>worst symmetry</th>\n",
       "      <td>569.0</td>\n",
       "      <td>2.622390e-16</td>\n",
       "      <td>1.0</td>\n",
       "      <td>-2.159060</td>\n",
       "      <td>-0.641299</td>\n",
       "      <td>-0.127297</td>\n",
       "      <td>0.449742</td>\n",
       "      <td>6.040726</td>\n",
       "    </tr>\n",
       "    <tr>\n",
       "      <th>worst fractal dimension</th>\n",
       "      <td>569.0</td>\n",
       "      <td>-5.744282e-16</td>\n",
       "      <td>1.0</td>\n",
       "      <td>-1.600431</td>\n",
       "      <td>-0.691303</td>\n",
       "      <td>-0.216254</td>\n",
       "      <td>0.450366</td>\n",
       "      <td>6.840837</td>\n",
       "    </tr>\n",
       "  </tbody>\n",
       "</table>\n",
       "</div>"
      ],
      "text/plain": [
       "                         count          mean  std       min       25%  \\\n",
       "mean radius              569.0 -1.311195e-16  1.0 -2.027864 -0.688779   \n",
       "mean texture             569.0  6.243785e-17  1.0 -2.227289 -0.725325   \n",
       "mean perimeter           569.0 -1.248757e-16  1.0 -1.982759 -0.691347   \n",
       "mean area                569.0 -2.185325e-16  1.0 -1.453164 -0.666609   \n",
       "mean smoothness          569.0 -8.366672e-16  1.0 -3.109349 -0.710338   \n",
       "mean compactness         569.0  1.998011e-16  1.0 -1.608721 -0.746429   \n",
       "mean concavity           569.0  3.746271e-17  1.0 -1.113893 -0.743094   \n",
       "mean concave points      569.0 -4.995028e-17  1.0 -1.260710 -0.737295   \n",
       "mean symmetry            569.0  1.748260e-16  1.0 -2.741705 -0.702621   \n",
       "mean fractal dimension   569.0  4.838933e-16  1.0 -1.818265 -0.722004   \n",
       "radius error             569.0  2.497514e-16  1.0 -1.058992 -0.623022   \n",
       "texture error            569.0 -1.123881e-16  1.0 -1.552898 -0.694198   \n",
       "perimeter error          569.0 -1.373633e-16  1.0 -1.043131 -0.623220   \n",
       "area error               569.0 -1.186319e-16  1.0 -0.737180 -0.494319   \n",
       "smoothness error         569.0 -1.545337e-16  1.0 -1.774504 -0.623470   \n",
       "compactness error        569.0  1.873136e-16  1.0 -1.296957 -0.692317   \n",
       "concavity error          569.0  1.685822e-16  1.0 -1.056571 -0.556671   \n",
       "concave points error     569.0  2.497514e-17  1.0 -1.911765 -0.673897   \n",
       "symmetry error           569.0  9.365678e-17  1.0 -1.531542 -0.651108   \n",
       "fractal dimension error  569.0 -6.243785e-18  1.0 -1.096004 -0.584604   \n",
       "worst radius             569.0 -8.241796e-16  1.0 -1.725382 -0.674328   \n",
       "worst texture            569.0  1.248757e-17  1.0 -2.222039 -0.747971   \n",
       "worst perimeter          569.0 -3.496520e-16  1.0 -1.691872 -0.688972   \n",
       "worst area               569.0  0.000000e+00  1.0 -1.221348 -0.641571   \n",
       "worst smoothness         569.0 -2.122887e-16  1.0 -2.680337 -0.690623   \n",
       "worst compactness        569.0 -3.621395e-16  1.0 -1.442609 -0.680485   \n",
       "worst concavity          569.0  8.741299e-17  1.0 -1.304683 -0.755849   \n",
       "worst concave points     569.0  2.122887e-16  1.0 -1.743529 -0.755735   \n",
       "worst symmetry           569.0  2.622390e-16  1.0 -2.159060 -0.641299   \n",
       "worst fractal dimension  569.0 -5.744282e-16  1.0 -1.600431 -0.691303   \n",
       "\n",
       "                              50%       75%        max  \n",
       "mean radius             -0.214893  0.468980   3.967796  \n",
       "mean texture            -0.104544  0.583662   4.647799  \n",
       "mean perimeter          -0.235773  0.499238   3.972634  \n",
       "mean area               -0.294927  0.363188   5.245913  \n",
       "mean smoothness         -0.034860  0.635640   4.766717  \n",
       "mean compactness        -0.221745  0.493423   4.564409  \n",
       "mean concavity          -0.341939  0.525599   4.239858  \n",
       "mean concave points     -0.397372  0.646366   3.924477  \n",
       "mean symmetry           -0.071564  0.530313   4.480808  \n",
       "mean fractal dimension  -0.178123  0.470569   4.906602  \n",
       "radius error            -0.291988  0.265866   8.899079  \n",
       "texture error           -0.197324  0.466142   6.649429  \n",
       "perimeter error         -0.286400  0.242817   9.453668  \n",
       "area error              -0.347477  0.106679  11.032135  \n",
       "smoothness error        -0.220142  0.368031   8.022940  \n",
       "compactness error       -0.280773  0.389312   6.138081  \n",
       "concavity error         -0.198890  0.336456  12.062067  \n",
       "concave points error    -0.140372  0.472241   6.643755  \n",
       "symmetry error          -0.219238  0.355380   7.065700  \n",
       "fractal dimension error -0.229738  0.288388   9.842932  \n",
       "worst radius            -0.268803  0.521557   4.090590  \n",
       "worst texture           -0.043477  0.657762   3.882489  \n",
       "worst perimeter         -0.285729  0.539804   4.283568  \n",
       "worst area              -0.340881  0.357275   5.924959  \n",
       "worst smoothness        -0.046802  0.597020   3.951897  \n",
       "worst compactness       -0.269264  0.539194   5.108382  \n",
       "worst concavity         -0.218040  0.530674   4.696536  \n",
       "worst concave points    -0.223272  0.711884   2.683516  \n",
       "worst symmetry          -0.127297  0.449742   6.040726  \n",
       "worst fractal dimension -0.216254  0.450366   6.840837  "
      ]
     },
     "execution_count": 3,
     "metadata": {},
     "output_type": "execute_result"
    }
   ],
   "source": [
    "X_raw, y_df = load_breast_cancer(return_X_y=True, as_frame=True)\n",
    "X_df = (X_raw-X_raw.mean())/X_raw.std()\n",
    "X_df.describe().transpose()"
   ]
  },
  {
   "cell_type": "code",
   "execution_count": 4,
   "metadata": {},
   "outputs": [],
   "source": [
    "# We convert dataframe to PyTorch tensor datatype,\n",
    "# and then split it into training and testing parts.\n",
    "X = torch.tensor(X_df.to_numpy(),dtype=torch.float32)\n",
    "m,n = X.shape\n",
    "y = torch.tensor(y_df.to_numpy(),dtype=torch.float32).reshape(m,1)\n",
    "\n",
    "# We use an approx 6:4 train test splitting\n",
    "cases = ['train','test']\n",
    "case_list = np.random.choice(cases,size=X.shape[0],replace=True,p=[0.6,0.4])\n",
    "X_train = X[case_list=='train']\n",
    "X_test = X[case_list=='test']\n",
    "y_train = y[case_list=='train']\n",
    "y_test = y[case_list=='test']"
   ]
  },
  {
   "attachments": {},
   "cell_type": "markdown",
   "metadata": {},
   "source": [
    "We first fit an ordinary logistic regression model as a baseline. We will use AUROC and average precision (AP) scores to test model performance."
   ]
  },
  {
   "cell_type": "code",
   "execution_count": 5,
   "metadata": {},
   "outputs": [
    {
     "name": "stdout",
     "output_type": "stream",
     "text": [
      "Iter 1: average BCE loss is 0.482\n",
      "Iter 500: average BCE loss is 0.042\n",
      "Iter 1000: average BCE loss is 0.029\n",
      "Iter 1500: average BCE loss is 0.021\n",
      "Iter 2000: average BCE loss is 0.015\n",
      "Iter 2500: average BCE loss is 0.012\n",
      "Iter 3000: average BCE loss is 0.009\n",
      "Iter 3500: average BCE loss is 0.007\n",
      "Iter 4000: average BCE loss is 0.005\n",
      "Iter 4500: average BCE loss is 0.004\n",
      "Iter 5000: average BCE loss is 0.003\n",
      "On test dataset: AUROC 0.987, AP 0.987\n"
     ]
    }
   ],
   "source": [
    "h = torch.nn.Linear(\n",
    "    in_features=n,\n",
    "    out_features=1,\n",
    "    bias=True\n",
    ")\n",
    "sigma = torch.nn.Sigmoid()\n",
    "\n",
    "# Logistic model is linear+sigmoid\n",
    "f = torch.nn.Sequential(\n",
    "    h,\n",
    "    sigma\n",
    ")\n",
    "\n",
    "J_BCE = torch.nn.BCELoss()\n",
    "# We use the Adam optimizer, which is\n",
    "# a variant of gradient descent method with momentum.\n",
    "GD_optimizer = torch.optim.Adam(lr=0.01,params=f.parameters())\n",
    "\n",
    "nIter = 5000\n",
    "printInterval = 500\n",
    "\n",
    "for i in range(nIter):\n",
    "    GD_optimizer.zero_grad()\n",
    "    pred = f(X_train)\n",
    "    loss = J_BCE(pred,y_train)\n",
    "    loss.backward()\n",
    "    GD_optimizer.step()\n",
    "    if i == 0 or ((i+1)%printInterval) == 0:\n",
    "        print('Iter {}: average BCE loss is {:.3f}'.format(i+1,loss.item()))\n",
    "\n",
    "with torch.no_grad():\n",
    "    pred_test = f(X_test)\n",
    "\n",
    "auroc = roc_auc_score(y_test,pred_test)\n",
    "ap = average_precision_score(y_test,pred_test)\n",
    "print('On test dataset: AUROC {:.3f}, AP {:.3f}'.format(auroc,ap))"
   ]
  },
  {
   "cell_type": "code",
   "execution_count": 6,
   "metadata": {},
   "outputs": [],
   "source": [
    "# Let use save the model parameters for later comparisons.\n",
    "# Recall that PyTorch do automatic differentiation, so\n",
    "# model parameters (i.e. h.weight) has gradients information. This\n",
    "# may cause problem for later analysis when gradient is not needed.\n",
    "# Use .detach() to detach gradient information from the weights.\n",
    "\n",
    "weight = h.weight.detach().squeeze().clone()"
   ]
  },
  {
   "attachments": {},
   "cell_type": "markdown",
   "metadata": {},
   "source": [
    "### Logistic Regression with $L_2$ regularization"
   ]
  },
  {
   "attachments": {},
   "cell_type": "markdown",
   "metadata": {},
   "source": [
    "Logistic regression with $L_2$ regularization is also called *ridge logistic regression*. Recall that we add $L_2$ regularization to model parameters:\n",
    "\n",
    "$$\n",
    "J_{L_2}(\\theta) =  J(\\theta) + \\lambda/2 ||\\theta||_2^2,\n",
    "$$\n",
    "\n",
    "where large parameter values are penalized by the $L_2$ norm term\n",
    "\n",
    "$$\n",
    "||\\theta||_2^2 = \\sum_j \\theta_j^2.\n",
    "$$\n",
    "\n",
    "In PyTorch the $L_2$ regularization of model parameters are supported in its build-in optimizers."
   ]
  },
  {
   "cell_type": "code",
   "execution_count": 7,
   "metadata": {},
   "outputs": [
    {
     "name": "stdout",
     "output_type": "stream",
     "text": [
      "Iter 1: average BCE loss is 0.695\n",
      "Iter 50: average BCE loss is 0.121\n",
      "Iter 100: average BCE loss is 0.106\n",
      "Iter 150: average BCE loss is 0.104\n",
      "Iter 200: average BCE loss is 0.103\n",
      "Iter 250: average BCE loss is 0.102\n",
      "Iter 300: average BCE loss is 0.102\n",
      "Iter 350: average BCE loss is 0.102\n",
      "Iter 400: average BCE loss is 0.102\n",
      "Iter 450: average BCE loss is 0.102\n",
      "Iter 500: average BCE loss is 0.102\n",
      "On test dataset: AUROC 0.995, AP 0.997\n"
     ]
    }
   ],
   "source": [
    "h_L2 = torch.nn.Linear(\n",
    "    in_features=n,\n",
    "    out_features=1,\n",
    "    bias=True\n",
    ")\n",
    "sigma = torch.nn.Sigmoid()\n",
    "\n",
    "# Logistic model is linear+sigmoid\n",
    "f_L2 = torch.nn.Sequential(\n",
    "    h_L2,\n",
    "    sigma\n",
    ")\n",
    "\n",
    "J_BCE = torch.nn.BCELoss()\n",
    "\n",
    "# PyTorch optimizer support L2 regularization by\n",
    "# setting the weight_decay parameter, which corresponds to\n",
    "# the regularization strength.\n",
    "GD_optimizer = torch.optim.Adam(lr=0.01,params=f_L2.parameters(),weight_decay=0.05)\n",
    "\n",
    "nIter = 500\n",
    "printInterval = 50\n",
    "\n",
    "for i in range(nIter):\n",
    "    GD_optimizer.zero_grad()\n",
    "    pred = f_L2(X_train)\n",
    "    loss = J_BCE(pred,y_train)\n",
    "    loss.backward()\n",
    "    GD_optimizer.step()\n",
    "    if i == 0 or ((i+1)%printInterval) == 0:\n",
    "        print('Iter {}: average BCE loss is {:.3f}'.format(i+1,loss.item()))\n",
    "\n",
    "with torch.no_grad():\n",
    "    pred_test = f_L2(X_test)\n",
    "\n",
    "auroc = roc_auc_score(y_test,pred_test)\n",
    "ap = average_precision_score(y_test,pred_test)\n",
    "print('On test dataset: AUROC {:.3f}, AP {:.3f}'.format(auroc,ap))"
   ]
  },
  {
   "cell_type": "code",
   "execution_count": 8,
   "metadata": {},
   "outputs": [],
   "source": [
    "weight_L2 = h_L2.weight.detach().squeeze().clone()"
   ]
  },
  {
   "attachments": {},
   "cell_type": "markdown",
   "metadata": {},
   "source": [
    "### Logistic Regression with $L_1$ Regularization\n",
    "\n",
    "Logistic regression with $L_1$ regularization is also called *LASSO logistic regression*. For the LASSO logistic regression, we add $L_1$ regularization to model parameters:\n",
    "\n",
    "$$\n",
    "J_{L_1}(\\theta) = J(\\theta) + \\lambda ||\\theta||_1,\n",
    "$$\n",
    "\n",
    "where large model parameters are $L_1$ norm\n",
    "\n",
    "$$\n",
    "||\\theta||_1 = \\sum_j |\\theta_j|.\n",
    "$$"
   ]
  },
  {
   "attachments": {},
   "cell_type": "markdown",
   "metadata": {},
   "source": [
    "There is no build-in support for $L_1$ regularization in PyTorch, so we will need to build our own code. The idea is to iterate over all parameters of our model, calculate the sum of their absolute value, and the let PyTorch do the differentiation and optimization."
   ]
  },
  {
   "cell_type": "code",
   "execution_count": 14,
   "metadata": {},
   "outputs": [
    {
     "name": "stdout",
     "output_type": "stream",
     "text": [
      "Iter 1: average BCE loss is 0.875\n",
      "Iter 50: average BCE loss is 0.161\n",
      "Iter 100: average BCE loss is 0.150\n",
      "Iter 150: average BCE loss is 0.144\n",
      "Iter 200: average BCE loss is 0.142\n",
      "Iter 250: average BCE loss is 0.140\n",
      "Iter 300: average BCE loss is 0.139\n",
      "Iter 350: average BCE loss is 0.138\n",
      "Iter 400: average BCE loss is 0.138\n",
      "Iter 450: average BCE loss is 0.137\n",
      "Iter 500: average BCE loss is 0.137\n",
      "On test dataset: AUROC 0.991, AP 0.994\n"
     ]
    }
   ],
   "source": [
    "h_L1 = torch.nn.Linear(\n",
    "    in_features=n,\n",
    "    out_features=1,\n",
    "    bias=True\n",
    ")\n",
    "sigma = torch.nn.Sigmoid()\n",
    "\n",
    "# Logistic model is linear+sigmoid\n",
    "f_L1 = torch.nn.Sequential(\n",
    "    h_L1,\n",
    "    sigma\n",
    ")\n",
    "\n",
    "J_BCE = torch.nn.BCELoss()\n",
    "\n",
    "GD_optimizer = torch.optim.Adam(lr=0.01,params=f_L1.parameters())\n",
    "\n",
    "# Define L_1 regularization\n",
    "def L1_reg(model,lbd):\n",
    "    result = torch.tensor(0)\n",
    "    for param in model.parameters(): # iterate over all parameters of our model\n",
    "        result = result + param.abs().sum()\n",
    "\n",
    "    return lbd*result\n",
    "\n",
    "\n",
    "nIter = 500\n",
    "printInterval = 50\n",
    "lbd = 0.03 # L1 reg strength\n",
    "\n",
    "for i in range(nIter):\n",
    "    GD_optimizer.zero_grad()\n",
    "    pred = f_L1(X_train)\n",
    "    loss = J_BCE(pred,y_train)\n",
    "    (loss+L1_reg(f_L1,lbd)).backward()\n",
    "    GD_optimizer.step()\n",
    "    if i == 0 or ((i+1)%printInterval) == 0:\n",
    "        print('Iter {}: average BCE loss is {:.3f}'.format(i+1,loss.item()))\n",
    "\n",
    "with torch.no_grad():\n",
    "    pred_test = f_L1(X_test)\n",
    "\n",
    "auroc = roc_auc_score(y_test,pred_test)\n",
    "ap = average_precision_score(y_test,pred_test)\n",
    "print('On test dataset: AUROC {:.3f}, AP {:.3f}'.format(auroc,ap))"
   ]
  },
  {
   "cell_type": "code",
   "execution_count": 15,
   "metadata": {},
   "outputs": [],
   "source": [
    "weight_L1 = h_L1.weight.detach().squeeze().clone()"
   ]
  },
  {
   "attachments": {},
   "cell_type": "markdown",
   "metadata": {},
   "source": [
    "Let us now visualize and compare the weights of the three models."
   ]
  },
  {
   "cell_type": "code",
   "execution_count": 16,
   "metadata": {},
   "outputs": [
    {
     "data": {
      "text/html": [
       "<div>\n",
       "<style scoped>\n",
       "    .dataframe tbody tr th:only-of-type {\n",
       "        vertical-align: middle;\n",
       "    }\n",
       "\n",
       "    .dataframe tbody tr th {\n",
       "        vertical-align: top;\n",
       "    }\n",
       "\n",
       "    .dataframe thead th {\n",
       "        text-align: right;\n",
       "    }\n",
       "</style>\n",
       "<table border=\"1\" class=\"dataframe\">\n",
       "  <thead>\n",
       "    <tr style=\"text-align: right;\">\n",
       "      <th></th>\n",
       "      <th>variable</th>\n",
       "      <th>value</th>\n",
       "    </tr>\n",
       "  </thead>\n",
       "  <tbody>\n",
       "    <tr>\n",
       "      <th>0</th>\n",
       "      <td>vanilla</td>\n",
       "      <td>-0.908405</td>\n",
       "    </tr>\n",
       "    <tr>\n",
       "      <th>1</th>\n",
       "      <td>vanilla</td>\n",
       "      <td>-0.763717</td>\n",
       "    </tr>\n",
       "    <tr>\n",
       "      <th>2</th>\n",
       "      <td>vanilla</td>\n",
       "      <td>-1.248092</td>\n",
       "    </tr>\n",
       "    <tr>\n",
       "      <th>3</th>\n",
       "      <td>vanilla</td>\n",
       "      <td>-1.806195</td>\n",
       "    </tr>\n",
       "    <tr>\n",
       "      <th>4</th>\n",
       "      <td>vanilla</td>\n",
       "      <td>-2.776608</td>\n",
       "    </tr>\n",
       "    <tr>\n",
       "      <th>...</th>\n",
       "      <td>...</td>\n",
       "      <td>...</td>\n",
       "    </tr>\n",
       "    <tr>\n",
       "      <th>85</th>\n",
       "      <td>L1</td>\n",
       "      <td>-0.002145</td>\n",
       "    </tr>\n",
       "    <tr>\n",
       "      <th>86</th>\n",
       "      <td>L1</td>\n",
       "      <td>-0.053623</td>\n",
       "    </tr>\n",
       "    <tr>\n",
       "      <th>87</th>\n",
       "      <td>L1</td>\n",
       "      <td>-0.582762</td>\n",
       "    </tr>\n",
       "    <tr>\n",
       "      <th>88</th>\n",
       "      <td>L1</td>\n",
       "      <td>-0.080192</td>\n",
       "    </tr>\n",
       "    <tr>\n",
       "      <th>89</th>\n",
       "      <td>L1</td>\n",
       "      <td>0.001607</td>\n",
       "    </tr>\n",
       "  </tbody>\n",
       "</table>\n",
       "<p>90 rows × 2 columns</p>\n",
       "</div>"
      ],
      "text/plain": [
       "   variable     value\n",
       "0   vanilla -0.908405\n",
       "1   vanilla -0.763717\n",
       "2   vanilla -1.248092\n",
       "3   vanilla -1.806195\n",
       "4   vanilla -2.776608\n",
       "..      ...       ...\n",
       "85       L1 -0.002145\n",
       "86       L1 -0.053623\n",
       "87       L1 -0.582762\n",
       "88       L1 -0.080192\n",
       "89       L1  0.001607\n",
       "\n",
       "[90 rows x 2 columns]"
      ]
     },
     "execution_count": 16,
     "metadata": {},
     "output_type": "execute_result"
    }
   ],
   "source": [
    "weight_df = pd.DataFrame(\n",
    "    {\n",
    "        'vanilla':weight,\n",
    "        'L2':weight_L2,\n",
    "        'L1':weight_L1\n",
    "    }\n",
    ").melt(id_vars=[],value_vars=['vanilla','L2','L1'])\n",
    "weight_df"
   ]
  },
  {
   "cell_type": "code",
   "execution_count": 17,
   "metadata": {},
   "outputs": [
    {
     "data": {
      "application/vnd.plotly.v1+json": {
       "config": {
        "plotlyServerURL": "https://plot.ly"
       },
       "data": [
        {
         "alignmentgroup": "True",
         "boxpoints": "all",
         "hovertemplate": "variable=vanilla<br>value=%{y}<extra></extra>",
         "jitter": 0.5,
         "legendgroup": "vanilla",
         "marker": {
          "color": "#636efa"
         },
         "name": "vanilla",
         "notched": false,
         "offsetgroup": "vanilla",
         "orientation": "v",
         "showlegend": true,
         "type": "box",
         "x0": " ",
         "xaxis": "x",
         "y": [
          -0.9084047079086304,
          -0.7637174725532532,
          -1.2480920553207397,
          -1.806194543838501,
          -2.776608467102051,
          4.401461601257324,
          -5.4242353439331055,
          -5.723394393920898,
          2.332200765609741,
          -3.0523316860198975,
          -6.613533973693848,
          1.7105653285980225,
          -3.9607715606689453,
          -7.203439712524414,
          -1.3583556413650513,
          8.771839141845703,
          2.9073307514190674,
          -5.568660736083984,
          4.219001293182373,
          2.176758289337158,
          -2.4686734676361084,
          -5.533982753753662,
          -1.6662304401397705,
          -3.751882553100586,
          3.4747002124786377,
          1.7854880094528198,
          -6.7336201667785645,
          0.800381600856781,
          -4.901869297027588,
          -4.806271076202393
         ],
         "y0": " ",
         "yaxis": "y"
        },
        {
         "alignmentgroup": "True",
         "boxpoints": "all",
         "hovertemplate": "variable=L2<br>value=%{y}<extra></extra>",
         "jitter": 0.5,
         "legendgroup": "L2",
         "marker": {
          "color": "#EF553B"
         },
         "name": "L2",
         "notched": false,
         "offsetgroup": "L2",
         "orientation": "v",
         "showlegend": true,
         "type": "box",
         "x0": " ",
         "xaxis": "x2",
         "y": [
          -0.31276756525039673,
          -0.3216399550437927,
          -0.3095240890979767,
          -0.31894567608833313,
          -0.15627364814281464,
          -0.07089846581220627,
          -0.28862813115119934,
          -0.37330976128578186,
          -0.017494531348347664,
          0.12859906256198883,
          -0.33355116844177246,
          0.030031723901629448,
          -0.2611210346221924,
          -0.30587688088417053,
          -0.005049119703471661,
          0.149678573012352,
          0.06645071506500244,
          -0.04075086861848831,
          0.04777837544679642,
          0.17297641932964325,
          -0.40974077582359314,
          -0.3937624990940094,
          -0.3819900155067444,
          -0.39665910601615906,
          -0.2456815242767334,
          -0.1440712809562683,
          -0.2869965434074402,
          -0.3704086244106293,
          -0.25678181648254395,
          -0.10400497913360596
         ],
         "y0": " ",
         "yaxis": "y2"
        },
        {
         "alignmentgroup": "True",
         "boxpoints": "all",
         "hovertemplate": "variable=L1<br>value=%{y}<extra></extra>",
         "jitter": 0.5,
         "legendgroup": "L1",
         "marker": {
          "color": "#00cc96"
         },
         "name": "L1",
         "notched": false,
         "offsetgroup": "L1",
         "orientation": "v",
         "showlegend": true,
         "type": "box",
         "x0": " ",
         "xaxis": "x3",
         "y": [
          -0.032690148800611496,
          -0.07587216049432755,
          -0.13388732075691223,
          -0.0019384452607482672,
          -0.009081565774977207,
          0.0003295965725556016,
          -0.002255588537082076,
          -0.7425421476364136,
          0.00035780176403932273,
          -0.00040264532435685396,
          -0.09142711013555527,
          0.0019199642119929194,
          -0.0033510220237076283,
          -0.004173304419964552,
          -0.0007591593894176185,
          0.0016179487574845552,
          0.00027387283626012504,
          0.00012949883239343762,
          0.00038691185181960464,
          0.0021637948229908943,
          -0.5157172679901123,
          -0.42861276865005493,
          -0.5394729375839233,
          -0.7416848540306091,
          -0.08932220935821533,
          -0.0021454375237226486,
          -0.05362284556031227,
          -0.5827619433403015,
          -0.08019160479307175,
          0.0016074103768914938
         ],
         "y0": " ",
         "yaxis": "y3"
        }
       ],
       "layout": {
        "annotations": [
         {
          "font": {},
          "showarrow": false,
          "text": "variable=vanilla",
          "x": 0.15999999999999998,
          "xanchor": "center",
          "xref": "paper",
          "y": 1,
          "yanchor": "bottom",
          "yref": "paper"
         },
         {
          "font": {},
          "showarrow": false,
          "text": "variable=L2",
          "x": 0.49999999999999994,
          "xanchor": "center",
          "xref": "paper",
          "y": 1,
          "yanchor": "bottom",
          "yref": "paper"
         },
         {
          "font": {},
          "showarrow": false,
          "text": "variable=L1",
          "x": 0.8399999999999999,
          "xanchor": "center",
          "xref": "paper",
          "y": 1,
          "yanchor": "bottom",
          "yref": "paper"
         }
        ],
        "boxmode": "group",
        "legend": {
         "title": {
          "text": "variable"
         },
         "tracegroupgap": 0
        },
        "template": {
         "data": {
          "bar": [
           {
            "error_x": {
             "color": "#2a3f5f"
            },
            "error_y": {
             "color": "#2a3f5f"
            },
            "marker": {
             "line": {
              "color": "#E5ECF6",
              "width": 0.5
             },
             "pattern": {
              "fillmode": "overlay",
              "size": 10,
              "solidity": 0.2
             }
            },
            "type": "bar"
           }
          ],
          "barpolar": [
           {
            "marker": {
             "line": {
              "color": "#E5ECF6",
              "width": 0.5
             },
             "pattern": {
              "fillmode": "overlay",
              "size": 10,
              "solidity": 0.2
             }
            },
            "type": "barpolar"
           }
          ],
          "carpet": [
           {
            "aaxis": {
             "endlinecolor": "#2a3f5f",
             "gridcolor": "white",
             "linecolor": "white",
             "minorgridcolor": "white",
             "startlinecolor": "#2a3f5f"
            },
            "baxis": {
             "endlinecolor": "#2a3f5f",
             "gridcolor": "white",
             "linecolor": "white",
             "minorgridcolor": "white",
             "startlinecolor": "#2a3f5f"
            },
            "type": "carpet"
           }
          ],
          "choropleth": [
           {
            "colorbar": {
             "outlinewidth": 0,
             "ticks": ""
            },
            "type": "choropleth"
           }
          ],
          "contour": [
           {
            "colorbar": {
             "outlinewidth": 0,
             "ticks": ""
            },
            "colorscale": [
             [
              0,
              "#0d0887"
             ],
             [
              0.1111111111111111,
              "#46039f"
             ],
             [
              0.2222222222222222,
              "#7201a8"
             ],
             [
              0.3333333333333333,
              "#9c179e"
             ],
             [
              0.4444444444444444,
              "#bd3786"
             ],
             [
              0.5555555555555556,
              "#d8576b"
             ],
             [
              0.6666666666666666,
              "#ed7953"
             ],
             [
              0.7777777777777778,
              "#fb9f3a"
             ],
             [
              0.8888888888888888,
              "#fdca26"
             ],
             [
              1,
              "#f0f921"
             ]
            ],
            "type": "contour"
           }
          ],
          "contourcarpet": [
           {
            "colorbar": {
             "outlinewidth": 0,
             "ticks": ""
            },
            "type": "contourcarpet"
           }
          ],
          "heatmap": [
           {
            "colorbar": {
             "outlinewidth": 0,
             "ticks": ""
            },
            "colorscale": [
             [
              0,
              "#0d0887"
             ],
             [
              0.1111111111111111,
              "#46039f"
             ],
             [
              0.2222222222222222,
              "#7201a8"
             ],
             [
              0.3333333333333333,
              "#9c179e"
             ],
             [
              0.4444444444444444,
              "#bd3786"
             ],
             [
              0.5555555555555556,
              "#d8576b"
             ],
             [
              0.6666666666666666,
              "#ed7953"
             ],
             [
              0.7777777777777778,
              "#fb9f3a"
             ],
             [
              0.8888888888888888,
              "#fdca26"
             ],
             [
              1,
              "#f0f921"
             ]
            ],
            "type": "heatmap"
           }
          ],
          "heatmapgl": [
           {
            "colorbar": {
             "outlinewidth": 0,
             "ticks": ""
            },
            "colorscale": [
             [
              0,
              "#0d0887"
             ],
             [
              0.1111111111111111,
              "#46039f"
             ],
             [
              0.2222222222222222,
              "#7201a8"
             ],
             [
              0.3333333333333333,
              "#9c179e"
             ],
             [
              0.4444444444444444,
              "#bd3786"
             ],
             [
              0.5555555555555556,
              "#d8576b"
             ],
             [
              0.6666666666666666,
              "#ed7953"
             ],
             [
              0.7777777777777778,
              "#fb9f3a"
             ],
             [
              0.8888888888888888,
              "#fdca26"
             ],
             [
              1,
              "#f0f921"
             ]
            ],
            "type": "heatmapgl"
           }
          ],
          "histogram": [
           {
            "marker": {
             "pattern": {
              "fillmode": "overlay",
              "size": 10,
              "solidity": 0.2
             }
            },
            "type": "histogram"
           }
          ],
          "histogram2d": [
           {
            "colorbar": {
             "outlinewidth": 0,
             "ticks": ""
            },
            "colorscale": [
             [
              0,
              "#0d0887"
             ],
             [
              0.1111111111111111,
              "#46039f"
             ],
             [
              0.2222222222222222,
              "#7201a8"
             ],
             [
              0.3333333333333333,
              "#9c179e"
             ],
             [
              0.4444444444444444,
              "#bd3786"
             ],
             [
              0.5555555555555556,
              "#d8576b"
             ],
             [
              0.6666666666666666,
              "#ed7953"
             ],
             [
              0.7777777777777778,
              "#fb9f3a"
             ],
             [
              0.8888888888888888,
              "#fdca26"
             ],
             [
              1,
              "#f0f921"
             ]
            ],
            "type": "histogram2d"
           }
          ],
          "histogram2dcontour": [
           {
            "colorbar": {
             "outlinewidth": 0,
             "ticks": ""
            },
            "colorscale": [
             [
              0,
              "#0d0887"
             ],
             [
              0.1111111111111111,
              "#46039f"
             ],
             [
              0.2222222222222222,
              "#7201a8"
             ],
             [
              0.3333333333333333,
              "#9c179e"
             ],
             [
              0.4444444444444444,
              "#bd3786"
             ],
             [
              0.5555555555555556,
              "#d8576b"
             ],
             [
              0.6666666666666666,
              "#ed7953"
             ],
             [
              0.7777777777777778,
              "#fb9f3a"
             ],
             [
              0.8888888888888888,
              "#fdca26"
             ],
             [
              1,
              "#f0f921"
             ]
            ],
            "type": "histogram2dcontour"
           }
          ],
          "mesh3d": [
           {
            "colorbar": {
             "outlinewidth": 0,
             "ticks": ""
            },
            "type": "mesh3d"
           }
          ],
          "parcoords": [
           {
            "line": {
             "colorbar": {
              "outlinewidth": 0,
              "ticks": ""
             }
            },
            "type": "parcoords"
           }
          ],
          "pie": [
           {
            "automargin": true,
            "type": "pie"
           }
          ],
          "scatter": [
           {
            "fillpattern": {
             "fillmode": "overlay",
             "size": 10,
             "solidity": 0.2
            },
            "type": "scatter"
           }
          ],
          "scatter3d": [
           {
            "line": {
             "colorbar": {
              "outlinewidth": 0,
              "ticks": ""
             }
            },
            "marker": {
             "colorbar": {
              "outlinewidth": 0,
              "ticks": ""
             }
            },
            "type": "scatter3d"
           }
          ],
          "scattercarpet": [
           {
            "marker": {
             "colorbar": {
              "outlinewidth": 0,
              "ticks": ""
             }
            },
            "type": "scattercarpet"
           }
          ],
          "scattergeo": [
           {
            "marker": {
             "colorbar": {
              "outlinewidth": 0,
              "ticks": ""
             }
            },
            "type": "scattergeo"
           }
          ],
          "scattergl": [
           {
            "marker": {
             "colorbar": {
              "outlinewidth": 0,
              "ticks": ""
             }
            },
            "type": "scattergl"
           }
          ],
          "scattermapbox": [
           {
            "marker": {
             "colorbar": {
              "outlinewidth": 0,
              "ticks": ""
             }
            },
            "type": "scattermapbox"
           }
          ],
          "scatterpolar": [
           {
            "marker": {
             "colorbar": {
              "outlinewidth": 0,
              "ticks": ""
             }
            },
            "type": "scatterpolar"
           }
          ],
          "scatterpolargl": [
           {
            "marker": {
             "colorbar": {
              "outlinewidth": 0,
              "ticks": ""
             }
            },
            "type": "scatterpolargl"
           }
          ],
          "scatterternary": [
           {
            "marker": {
             "colorbar": {
              "outlinewidth": 0,
              "ticks": ""
             }
            },
            "type": "scatterternary"
           }
          ],
          "surface": [
           {
            "colorbar": {
             "outlinewidth": 0,
             "ticks": ""
            },
            "colorscale": [
             [
              0,
              "#0d0887"
             ],
             [
              0.1111111111111111,
              "#46039f"
             ],
             [
              0.2222222222222222,
              "#7201a8"
             ],
             [
              0.3333333333333333,
              "#9c179e"
             ],
             [
              0.4444444444444444,
              "#bd3786"
             ],
             [
              0.5555555555555556,
              "#d8576b"
             ],
             [
              0.6666666666666666,
              "#ed7953"
             ],
             [
              0.7777777777777778,
              "#fb9f3a"
             ],
             [
              0.8888888888888888,
              "#fdca26"
             ],
             [
              1,
              "#f0f921"
             ]
            ],
            "type": "surface"
           }
          ],
          "table": [
           {
            "cells": {
             "fill": {
              "color": "#EBF0F8"
             },
             "line": {
              "color": "white"
             }
            },
            "header": {
             "fill": {
              "color": "#C8D4E3"
             },
             "line": {
              "color": "white"
             }
            },
            "type": "table"
           }
          ]
         },
         "layout": {
          "annotationdefaults": {
           "arrowcolor": "#2a3f5f",
           "arrowhead": 0,
           "arrowwidth": 1
          },
          "autotypenumbers": "strict",
          "coloraxis": {
           "colorbar": {
            "outlinewidth": 0,
            "ticks": ""
           }
          },
          "colorscale": {
           "diverging": [
            [
             0,
             "#8e0152"
            ],
            [
             0.1,
             "#c51b7d"
            ],
            [
             0.2,
             "#de77ae"
            ],
            [
             0.3,
             "#f1b6da"
            ],
            [
             0.4,
             "#fde0ef"
            ],
            [
             0.5,
             "#f7f7f7"
            ],
            [
             0.6,
             "#e6f5d0"
            ],
            [
             0.7,
             "#b8e186"
            ],
            [
             0.8,
             "#7fbc41"
            ],
            [
             0.9,
             "#4d9221"
            ],
            [
             1,
             "#276419"
            ]
           ],
           "sequential": [
            [
             0,
             "#0d0887"
            ],
            [
             0.1111111111111111,
             "#46039f"
            ],
            [
             0.2222222222222222,
             "#7201a8"
            ],
            [
             0.3333333333333333,
             "#9c179e"
            ],
            [
             0.4444444444444444,
             "#bd3786"
            ],
            [
             0.5555555555555556,
             "#d8576b"
            ],
            [
             0.6666666666666666,
             "#ed7953"
            ],
            [
             0.7777777777777778,
             "#fb9f3a"
            ],
            [
             0.8888888888888888,
             "#fdca26"
            ],
            [
             1,
             "#f0f921"
            ]
           ],
           "sequentialminus": [
            [
             0,
             "#0d0887"
            ],
            [
             0.1111111111111111,
             "#46039f"
            ],
            [
             0.2222222222222222,
             "#7201a8"
            ],
            [
             0.3333333333333333,
             "#9c179e"
            ],
            [
             0.4444444444444444,
             "#bd3786"
            ],
            [
             0.5555555555555556,
             "#d8576b"
            ],
            [
             0.6666666666666666,
             "#ed7953"
            ],
            [
             0.7777777777777778,
             "#fb9f3a"
            ],
            [
             0.8888888888888888,
             "#fdca26"
            ],
            [
             1,
             "#f0f921"
            ]
           ]
          },
          "colorway": [
           "#636efa",
           "#EF553B",
           "#00cc96",
           "#ab63fa",
           "#FFA15A",
           "#19d3f3",
           "#FF6692",
           "#B6E880",
           "#FF97FF",
           "#FECB52"
          ],
          "font": {
           "color": "#2a3f5f"
          },
          "geo": {
           "bgcolor": "white",
           "lakecolor": "white",
           "landcolor": "#E5ECF6",
           "showlakes": true,
           "showland": true,
           "subunitcolor": "white"
          },
          "hoverlabel": {
           "align": "left"
          },
          "hovermode": "closest",
          "mapbox": {
           "style": "light"
          },
          "paper_bgcolor": "white",
          "plot_bgcolor": "#E5ECF6",
          "polar": {
           "angularaxis": {
            "gridcolor": "white",
            "linecolor": "white",
            "ticks": ""
           },
           "bgcolor": "#E5ECF6",
           "radialaxis": {
            "gridcolor": "white",
            "linecolor": "white",
            "ticks": ""
           }
          },
          "scene": {
           "xaxis": {
            "backgroundcolor": "#E5ECF6",
            "gridcolor": "white",
            "gridwidth": 2,
            "linecolor": "white",
            "showbackground": true,
            "ticks": "",
            "zerolinecolor": "white"
           },
           "yaxis": {
            "backgroundcolor": "#E5ECF6",
            "gridcolor": "white",
            "gridwidth": 2,
            "linecolor": "white",
            "showbackground": true,
            "ticks": "",
            "zerolinecolor": "white"
           },
           "zaxis": {
            "backgroundcolor": "#E5ECF6",
            "gridcolor": "white",
            "gridwidth": 2,
            "linecolor": "white",
            "showbackground": true,
            "ticks": "",
            "zerolinecolor": "white"
           }
          },
          "shapedefaults": {
           "line": {
            "color": "#2a3f5f"
           }
          },
          "ternary": {
           "aaxis": {
            "gridcolor": "white",
            "linecolor": "white",
            "ticks": ""
           },
           "baxis": {
            "gridcolor": "white",
            "linecolor": "white",
            "ticks": ""
           },
           "bgcolor": "#E5ECF6",
           "caxis": {
            "gridcolor": "white",
            "linecolor": "white",
            "ticks": ""
           }
          },
          "title": {
           "x": 0.05
          },
          "xaxis": {
           "automargin": true,
           "gridcolor": "white",
           "linecolor": "white",
           "ticks": "",
           "title": {
            "standoff": 15
           },
           "zerolinecolor": "white",
           "zerolinewidth": 2
          },
          "yaxis": {
           "automargin": true,
           "gridcolor": "white",
           "linecolor": "white",
           "ticks": "",
           "title": {
            "standoff": 15
           },
           "zerolinecolor": "white",
           "zerolinewidth": 2
          }
         }
        },
        "title": {
         "text": "Logistic Regression Weights Distributions"
        },
        "xaxis": {
         "anchor": "y",
         "domain": [
          0,
          0.31999999999999995
         ]
        },
        "xaxis2": {
         "anchor": "y2",
         "domain": [
          0.33999999999999997,
          0.6599999999999999
         ],
         "matches": "x"
        },
        "xaxis3": {
         "anchor": "y3",
         "domain": [
          0.6799999999999999,
          0.9999999999999999
         ],
         "matches": "x"
        },
        "yaxis": {
         "anchor": "x",
         "domain": [
          0,
          1
         ],
         "showticklabels": true,
         "title": {
          "text": "value"
         }
        },
        "yaxis2": {
         "anchor": "x2",
         "domain": [
          0,
          1
         ],
         "showticklabels": true
        },
        "yaxis3": {
         "anchor": "x3",
         "domain": [
          0,
          1
         ],
         "showticklabels": true
        }
       }
      }
     },
     "metadata": {},
     "output_type": "display_data"
    }
   ],
   "source": [
    "fig = px.box(\n",
    "    weight_df,\n",
    "    y='value',\n",
    "    facet_col='variable',\n",
    "    color='variable',\n",
    "    points='all',\n",
    "    title='Logistic Regression Weights Distributions'\n",
    ")\n",
    "fig.update_yaxes(\n",
    "    matches=None,\n",
    "    showticklabels=True\n",
    ")\n",
    "fig.update_traces(jitter=0.5)"
   ]
  },
  {
   "attachments": {},
   "cell_type": "markdown",
   "metadata": {},
   "source": [
    "We observe the following:\n",
    "1.  Using regularization makes training much faster.\n",
    "    * The vanilla logistic regression takes more than 5000 iterations to converge.\n",
    "    * Both regularization methods only take 500 iterations to converge.\n",
    "    * The vanilla logistic regression is not numerically stable\n",
    "        * If you have more iterations, you will see all model parameters become larger and larger.\n",
    "        * Both regularization methods do not suffer from this problem.\n",
    "1.  The $L_2$ regularization reduced the range of the logistic regression weights.\n",
    "2.  The $L_1$ regularization not only reduced the range of the weights, but also annihilated many coefficients to zero.\n",
    "\n",
    "The last observation not only apply to logistic regression models with $L_1$ regularization. A common feature selection method is to use the $L_1$ regularization and only select features that have non-zero coefficients. If you increase the regularization strength by enlarging the `lbd` variable in the above codes, you will reduce more parameters to zero."
   ]
  },
  {
   "attachments": {},
   "cell_type": "markdown",
   "metadata": {},
   "source": [
    "### Forward and backward selection methods for features selection\n",
    "\n",
    "Here we demonstrate how to perform forward and backward feature selections.\n",
    "\n",
    "Implementing these selection techniques from scratch require a lot of work (encapsulate model definition and training, write custom cross-validation dataloader, etc.)\n",
    "\n",
    "Therefore we will borrow tools from `sklearn`, and this simplifies feature selection and model fitting into just a few lines of codes. The disadvantage is that the implementation detail is like a black box: you need to dig deep into source codes in `sklearn` to find it out!"
   ]
  },
  {
   "cell_type": "code",
   "execution_count": 18,
   "metadata": {},
   "outputs": [],
   "source": [
    "from sklearn.linear_model import LogisticRegression as logit # use build-in logistic regression model in sklearn\n",
    "from sklearn.feature_selection import SequentialFeatureSelector as SFS\n",
    "from sklearn.metrics import roc_curve, precision_recall_curve"
   ]
  },
  {
   "cell_type": "code",
   "execution_count": 21,
   "metadata": {},
   "outputs": [],
   "source": [
    "# sklearn support fitting model on pandas dataframe.\n",
    "# We use same train test split as before\n",
    "\n",
    "X_df_train = X_df.iloc[case_list=='train',:]\n",
    "X_df_test = X_df.iloc[case_list=='test',:]\n",
    "y_df_train = y_df.iloc[case_list=='train']\n",
    "y_df_test = y_df.iloc[case_list=='test']"
   ]
  },
  {
   "cell_type": "code",
   "execution_count": 22,
   "metadata": {},
   "outputs": [],
   "source": [
    "model = logit(penalty='l1',C=1/10,solver='liblinear') # c: 1/(strength of L1 regularization)\n",
    "\n",
    "# Forward feature selection.\n",
    "forward_selection = SFS(\n",
    "    model, n_features_to_select=3, direction=\"forward\"\n",
    ").fit(X_df_train, y_df_train)\n",
    "\n",
    "# Backward feature selection.\n",
    "backward_selection = SFS(\n",
    "    model, n_features_to_select=3, direction=\"backward\"\n",
    ").fit(X_df_train, y_df_train)"
   ]
  },
  {
   "cell_type": "code",
   "execution_count": 24,
   "metadata": {},
   "outputs": [
    {
     "data": {
      "text/plain": [
       "array(['worst area', 'worst smoothness', 'worst concave points'],\n",
       "      dtype=object)"
      ]
     },
     "execution_count": 24,
     "metadata": {},
     "output_type": "execute_result"
    }
   ],
   "source": [
    "forward_selection.get_feature_names_out()"
   ]
  },
  {
   "cell_type": "code",
   "execution_count": 25,
   "metadata": {},
   "outputs": [
    {
     "data": {
      "text/plain": [
       "array(['worst texture', 'worst perimeter', 'worst smoothness'],\n",
       "      dtype=object)"
      ]
     },
     "execution_count": 25,
     "metadata": {},
     "output_type": "execute_result"
    }
   ],
   "source": [
    "backward_selection.get_feature_names_out()"
   ]
  },
  {
   "attachments": {},
   "cell_type": "markdown",
   "metadata": {},
   "source": [
    "We see that the forward and backward selections do not agree on the top-5 most important features.\n",
    "\n",
    "After feature selection, we can use `forward_selection` and `backward_selection` to automatically reduce input dimension. Let use fit logistic regression models on the 1) full feature, 2) selected feature and visualize their model performance on test dataset."
   ]
  },
  {
   "cell_type": "code",
   "execution_count": 26,
   "metadata": {},
   "outputs": [],
   "source": [
    "# Full model\n",
    "model.fit(X_df_train,y_df_train)\n",
    "y_pred_full = model.predict_proba(X_df_test)\n",
    "\n",
    "# Model with forward selected features\n",
    "model.fit(forward_selection.transform(X_df_train),y_df_train)\n",
    "y_pred_FS = model.predict_proba(forward_selection.transform(X_df_test))\n",
    "\n",
    "# Model with backward selected features\n",
    "model.fit(backward_selection.transform(X_df_train),y_df_train)\n",
    "y_pred_BS = model.predict_proba(backward_selection.transform(X_df_test))"
   ]
  },
  {
   "cell_type": "code",
   "execution_count": 27,
   "metadata": {},
   "outputs": [],
   "source": [
    "# roc_curve\n",
    "fpr_full, tpr_full, _ = roc_curve(y_df_test,y_pred_full[:,1])\n",
    "fpr_FS, tpr_FS, _ = roc_curve(y_df_test,y_pred_FS[:,1])\n",
    "fpr_BS, tpr_BS, _ = roc_curve(y_df_test,y_pred_BS[:,1])\n",
    "\n",
    "roc_df = pd.DataFrame(\n",
    "    {\n",
    "        'False Positive Rate':np.hstack([fpr_full,fpr_FS,fpr_BS]),\n",
    "        'True Positive Rate':np.hstack([tpr_full,tpr_FS,tpr_BS]),\n",
    "        'method':['full_model']*len(fpr_full)+['FS']*len(fpr_FS)+['BS']*len(fpr_BS)\n",
    "    }\n",
    ")"
   ]
  },
  {
   "cell_type": "code",
   "execution_count": 28,
   "metadata": {},
   "outputs": [
    {
     "data": {
      "application/vnd.plotly.v1+json": {
       "config": {
        "plotlyServerURL": "https://plot.ly"
       },
       "data": [
        {
         "hovertemplate": "method=full_model<br>False Positive Rate=%{x}<br>True Positive Rate=%{y}<extra></extra>",
         "legendgroup": "full_model",
         "line": {
          "color": "#636efa",
          "dash": "solid"
         },
         "marker": {
          "symbol": "circle"
         },
         "mode": "lines",
         "name": "full_model",
         "orientation": "v",
         "showlegend": true,
         "type": "scatter",
         "x": [
          0,
          0,
          0,
          0.011494252873563218,
          0.011494252873563218,
          0.022988505747126436,
          0.022988505747126436,
          0.034482758620689655,
          0.034482758620689655,
          0.04597701149425287,
          0.04597701149425287,
          0.06896551724137931,
          0.06896551724137931,
          0.08045977011494253,
          0.08045977011494253,
          0.10344827586206896,
          0.10344827586206896,
          0.11494252873563218,
          0.11494252873563218,
          1
         ],
         "xaxis": "x",
         "y": [
          0,
          0.006756756756756757,
          0.5472972972972973,
          0.5472972972972973,
          0.8378378378378378,
          0.8378378378378378,
          0.9054054054054054,
          0.9054054054054054,
          0.9459459459459459,
          0.9459459459459459,
          0.9594594594594594,
          0.9594594594594594,
          0.9797297297297297,
          0.9797297297297297,
          0.9864864864864865,
          0.9864864864864865,
          0.9932432432432432,
          0.9932432432432432,
          1,
          1
         ],
         "yaxis": "y"
        },
        {
         "hovertemplate": "method=FS<br>False Positive Rate=%{x}<br>True Positive Rate=%{y}<extra></extra>",
         "legendgroup": "FS",
         "line": {
          "color": "#EF553B",
          "dash": "solid"
         },
         "marker": {
          "symbol": "circle"
         },
         "mode": "lines",
         "name": "FS",
         "orientation": "v",
         "showlegend": true,
         "type": "scatter",
         "x": [
          0,
          0,
          0,
          0.011494252873563218,
          0.011494252873563218,
          0.022988505747126436,
          0.022988505747126436,
          0.034482758620689655,
          0.034482758620689655,
          0.04597701149425287,
          0.04597701149425287,
          0.06896551724137931,
          0.06896551724137931,
          0.08045977011494253,
          0.08045977011494253,
          0.14942528735632185,
          0.14942528735632185,
          0.1724137931034483,
          0.1724137931034483,
          1
         ],
         "xaxis": "x2",
         "y": [
          0,
          0.006756756756756757,
          0.35135135135135137,
          0.35135135135135137,
          0.75,
          0.75,
          0.8851351351351351,
          0.8851351351351351,
          0.9054054054054054,
          0.9054054054054054,
          0.9459459459459459,
          0.9459459459459459,
          0.9527027027027027,
          0.9527027027027027,
          0.9797297297297297,
          0.9797297297297297,
          0.9932432432432432,
          0.9932432432432432,
          1,
          1
         ],
         "yaxis": "y2"
        },
        {
         "hovertemplate": "method=BS<br>False Positive Rate=%{x}<br>True Positive Rate=%{y}<extra></extra>",
         "legendgroup": "BS",
         "line": {
          "color": "#00cc96",
          "dash": "solid"
         },
         "marker": {
          "symbol": "circle"
         },
         "mode": "lines",
         "name": "BS",
         "orientation": "v",
         "showlegend": true,
         "type": "scatter",
         "x": [
          0,
          0,
          0,
          0.011494252873563218,
          0.011494252873563218,
          0.022988505747126436,
          0.022988505747126436,
          0.034482758620689655,
          0.034482758620689655,
          0.04597701149425287,
          0.04597701149425287,
          0.06896551724137931,
          0.06896551724137931,
          0.10344827586206896,
          0.10344827586206896,
          0.12643678160919541,
          0.12643678160919541,
          1
         ],
         "xaxis": "x3",
         "y": [
          0,
          0.006756756756756757,
          0.5202702702702703,
          0.5202702702702703,
          0.8648648648648649,
          0.8648648648648649,
          0.8716216216216216,
          0.8716216216216216,
          0.9527027027027027,
          0.9527027027027027,
          0.972972972972973,
          0.972972972972973,
          0.9797297297297297,
          0.9797297297297297,
          0.9932432432432432,
          0.9932432432432432,
          1,
          1
         ],
         "yaxis": "y3"
        }
       ],
       "layout": {
        "annotations": [
         {
          "font": {},
          "showarrow": false,
          "text": "method=full_model",
          "x": 0.15999999999999998,
          "xanchor": "center",
          "xref": "paper",
          "y": 1,
          "yanchor": "bottom",
          "yref": "paper"
         },
         {
          "font": {},
          "showarrow": false,
          "text": "method=FS",
          "x": 0.49999999999999994,
          "xanchor": "center",
          "xref": "paper",
          "y": 1,
          "yanchor": "bottom",
          "yref": "paper"
         },
         {
          "font": {},
          "showarrow": false,
          "text": "method=BS",
          "x": 0.8399999999999999,
          "xanchor": "center",
          "xref": "paper",
          "y": 1,
          "yanchor": "bottom",
          "yref": "paper"
         }
        ],
        "legend": {
         "title": {
          "text": "method"
         },
         "tracegroupgap": 0
        },
        "margin": {
         "t": 60
        },
        "template": {
         "data": {
          "bar": [
           {
            "error_x": {
             "color": "#2a3f5f"
            },
            "error_y": {
             "color": "#2a3f5f"
            },
            "marker": {
             "line": {
              "color": "#E5ECF6",
              "width": 0.5
             },
             "pattern": {
              "fillmode": "overlay",
              "size": 10,
              "solidity": 0.2
             }
            },
            "type": "bar"
           }
          ],
          "barpolar": [
           {
            "marker": {
             "line": {
              "color": "#E5ECF6",
              "width": 0.5
             },
             "pattern": {
              "fillmode": "overlay",
              "size": 10,
              "solidity": 0.2
             }
            },
            "type": "barpolar"
           }
          ],
          "carpet": [
           {
            "aaxis": {
             "endlinecolor": "#2a3f5f",
             "gridcolor": "white",
             "linecolor": "white",
             "minorgridcolor": "white",
             "startlinecolor": "#2a3f5f"
            },
            "baxis": {
             "endlinecolor": "#2a3f5f",
             "gridcolor": "white",
             "linecolor": "white",
             "minorgridcolor": "white",
             "startlinecolor": "#2a3f5f"
            },
            "type": "carpet"
           }
          ],
          "choropleth": [
           {
            "colorbar": {
             "outlinewidth": 0,
             "ticks": ""
            },
            "type": "choropleth"
           }
          ],
          "contour": [
           {
            "colorbar": {
             "outlinewidth": 0,
             "ticks": ""
            },
            "colorscale": [
             [
              0,
              "#0d0887"
             ],
             [
              0.1111111111111111,
              "#46039f"
             ],
             [
              0.2222222222222222,
              "#7201a8"
             ],
             [
              0.3333333333333333,
              "#9c179e"
             ],
             [
              0.4444444444444444,
              "#bd3786"
             ],
             [
              0.5555555555555556,
              "#d8576b"
             ],
             [
              0.6666666666666666,
              "#ed7953"
             ],
             [
              0.7777777777777778,
              "#fb9f3a"
             ],
             [
              0.8888888888888888,
              "#fdca26"
             ],
             [
              1,
              "#f0f921"
             ]
            ],
            "type": "contour"
           }
          ],
          "contourcarpet": [
           {
            "colorbar": {
             "outlinewidth": 0,
             "ticks": ""
            },
            "type": "contourcarpet"
           }
          ],
          "heatmap": [
           {
            "colorbar": {
             "outlinewidth": 0,
             "ticks": ""
            },
            "colorscale": [
             [
              0,
              "#0d0887"
             ],
             [
              0.1111111111111111,
              "#46039f"
             ],
             [
              0.2222222222222222,
              "#7201a8"
             ],
             [
              0.3333333333333333,
              "#9c179e"
             ],
             [
              0.4444444444444444,
              "#bd3786"
             ],
             [
              0.5555555555555556,
              "#d8576b"
             ],
             [
              0.6666666666666666,
              "#ed7953"
             ],
             [
              0.7777777777777778,
              "#fb9f3a"
             ],
             [
              0.8888888888888888,
              "#fdca26"
             ],
             [
              1,
              "#f0f921"
             ]
            ],
            "type": "heatmap"
           }
          ],
          "heatmapgl": [
           {
            "colorbar": {
             "outlinewidth": 0,
             "ticks": ""
            },
            "colorscale": [
             [
              0,
              "#0d0887"
             ],
             [
              0.1111111111111111,
              "#46039f"
             ],
             [
              0.2222222222222222,
              "#7201a8"
             ],
             [
              0.3333333333333333,
              "#9c179e"
             ],
             [
              0.4444444444444444,
              "#bd3786"
             ],
             [
              0.5555555555555556,
              "#d8576b"
             ],
             [
              0.6666666666666666,
              "#ed7953"
             ],
             [
              0.7777777777777778,
              "#fb9f3a"
             ],
             [
              0.8888888888888888,
              "#fdca26"
             ],
             [
              1,
              "#f0f921"
             ]
            ],
            "type": "heatmapgl"
           }
          ],
          "histogram": [
           {
            "marker": {
             "pattern": {
              "fillmode": "overlay",
              "size": 10,
              "solidity": 0.2
             }
            },
            "type": "histogram"
           }
          ],
          "histogram2d": [
           {
            "colorbar": {
             "outlinewidth": 0,
             "ticks": ""
            },
            "colorscale": [
             [
              0,
              "#0d0887"
             ],
             [
              0.1111111111111111,
              "#46039f"
             ],
             [
              0.2222222222222222,
              "#7201a8"
             ],
             [
              0.3333333333333333,
              "#9c179e"
             ],
             [
              0.4444444444444444,
              "#bd3786"
             ],
             [
              0.5555555555555556,
              "#d8576b"
             ],
             [
              0.6666666666666666,
              "#ed7953"
             ],
             [
              0.7777777777777778,
              "#fb9f3a"
             ],
             [
              0.8888888888888888,
              "#fdca26"
             ],
             [
              1,
              "#f0f921"
             ]
            ],
            "type": "histogram2d"
           }
          ],
          "histogram2dcontour": [
           {
            "colorbar": {
             "outlinewidth": 0,
             "ticks": ""
            },
            "colorscale": [
             [
              0,
              "#0d0887"
             ],
             [
              0.1111111111111111,
              "#46039f"
             ],
             [
              0.2222222222222222,
              "#7201a8"
             ],
             [
              0.3333333333333333,
              "#9c179e"
             ],
             [
              0.4444444444444444,
              "#bd3786"
             ],
             [
              0.5555555555555556,
              "#d8576b"
             ],
             [
              0.6666666666666666,
              "#ed7953"
             ],
             [
              0.7777777777777778,
              "#fb9f3a"
             ],
             [
              0.8888888888888888,
              "#fdca26"
             ],
             [
              1,
              "#f0f921"
             ]
            ],
            "type": "histogram2dcontour"
           }
          ],
          "mesh3d": [
           {
            "colorbar": {
             "outlinewidth": 0,
             "ticks": ""
            },
            "type": "mesh3d"
           }
          ],
          "parcoords": [
           {
            "line": {
             "colorbar": {
              "outlinewidth": 0,
              "ticks": ""
             }
            },
            "type": "parcoords"
           }
          ],
          "pie": [
           {
            "automargin": true,
            "type": "pie"
           }
          ],
          "scatter": [
           {
            "fillpattern": {
             "fillmode": "overlay",
             "size": 10,
             "solidity": 0.2
            },
            "type": "scatter"
           }
          ],
          "scatter3d": [
           {
            "line": {
             "colorbar": {
              "outlinewidth": 0,
              "ticks": ""
             }
            },
            "marker": {
             "colorbar": {
              "outlinewidth": 0,
              "ticks": ""
             }
            },
            "type": "scatter3d"
           }
          ],
          "scattercarpet": [
           {
            "marker": {
             "colorbar": {
              "outlinewidth": 0,
              "ticks": ""
             }
            },
            "type": "scattercarpet"
           }
          ],
          "scattergeo": [
           {
            "marker": {
             "colorbar": {
              "outlinewidth": 0,
              "ticks": ""
             }
            },
            "type": "scattergeo"
           }
          ],
          "scattergl": [
           {
            "marker": {
             "colorbar": {
              "outlinewidth": 0,
              "ticks": ""
             }
            },
            "type": "scattergl"
           }
          ],
          "scattermapbox": [
           {
            "marker": {
             "colorbar": {
              "outlinewidth": 0,
              "ticks": ""
             }
            },
            "type": "scattermapbox"
           }
          ],
          "scatterpolar": [
           {
            "marker": {
             "colorbar": {
              "outlinewidth": 0,
              "ticks": ""
             }
            },
            "type": "scatterpolar"
           }
          ],
          "scatterpolargl": [
           {
            "marker": {
             "colorbar": {
              "outlinewidth": 0,
              "ticks": ""
             }
            },
            "type": "scatterpolargl"
           }
          ],
          "scatterternary": [
           {
            "marker": {
             "colorbar": {
              "outlinewidth": 0,
              "ticks": ""
             }
            },
            "type": "scatterternary"
           }
          ],
          "surface": [
           {
            "colorbar": {
             "outlinewidth": 0,
             "ticks": ""
            },
            "colorscale": [
             [
              0,
              "#0d0887"
             ],
             [
              0.1111111111111111,
              "#46039f"
             ],
             [
              0.2222222222222222,
              "#7201a8"
             ],
             [
              0.3333333333333333,
              "#9c179e"
             ],
             [
              0.4444444444444444,
              "#bd3786"
             ],
             [
              0.5555555555555556,
              "#d8576b"
             ],
             [
              0.6666666666666666,
              "#ed7953"
             ],
             [
              0.7777777777777778,
              "#fb9f3a"
             ],
             [
              0.8888888888888888,
              "#fdca26"
             ],
             [
              1,
              "#f0f921"
             ]
            ],
            "type": "surface"
           }
          ],
          "table": [
           {
            "cells": {
             "fill": {
              "color": "#EBF0F8"
             },
             "line": {
              "color": "white"
             }
            },
            "header": {
             "fill": {
              "color": "#C8D4E3"
             },
             "line": {
              "color": "white"
             }
            },
            "type": "table"
           }
          ]
         },
         "layout": {
          "annotationdefaults": {
           "arrowcolor": "#2a3f5f",
           "arrowhead": 0,
           "arrowwidth": 1
          },
          "autotypenumbers": "strict",
          "coloraxis": {
           "colorbar": {
            "outlinewidth": 0,
            "ticks": ""
           }
          },
          "colorscale": {
           "diverging": [
            [
             0,
             "#8e0152"
            ],
            [
             0.1,
             "#c51b7d"
            ],
            [
             0.2,
             "#de77ae"
            ],
            [
             0.3,
             "#f1b6da"
            ],
            [
             0.4,
             "#fde0ef"
            ],
            [
             0.5,
             "#f7f7f7"
            ],
            [
             0.6,
             "#e6f5d0"
            ],
            [
             0.7,
             "#b8e186"
            ],
            [
             0.8,
             "#7fbc41"
            ],
            [
             0.9,
             "#4d9221"
            ],
            [
             1,
             "#276419"
            ]
           ],
           "sequential": [
            [
             0,
             "#0d0887"
            ],
            [
             0.1111111111111111,
             "#46039f"
            ],
            [
             0.2222222222222222,
             "#7201a8"
            ],
            [
             0.3333333333333333,
             "#9c179e"
            ],
            [
             0.4444444444444444,
             "#bd3786"
            ],
            [
             0.5555555555555556,
             "#d8576b"
            ],
            [
             0.6666666666666666,
             "#ed7953"
            ],
            [
             0.7777777777777778,
             "#fb9f3a"
            ],
            [
             0.8888888888888888,
             "#fdca26"
            ],
            [
             1,
             "#f0f921"
            ]
           ],
           "sequentialminus": [
            [
             0,
             "#0d0887"
            ],
            [
             0.1111111111111111,
             "#46039f"
            ],
            [
             0.2222222222222222,
             "#7201a8"
            ],
            [
             0.3333333333333333,
             "#9c179e"
            ],
            [
             0.4444444444444444,
             "#bd3786"
            ],
            [
             0.5555555555555556,
             "#d8576b"
            ],
            [
             0.6666666666666666,
             "#ed7953"
            ],
            [
             0.7777777777777778,
             "#fb9f3a"
            ],
            [
             0.8888888888888888,
             "#fdca26"
            ],
            [
             1,
             "#f0f921"
            ]
           ]
          },
          "colorway": [
           "#636efa",
           "#EF553B",
           "#00cc96",
           "#ab63fa",
           "#FFA15A",
           "#19d3f3",
           "#FF6692",
           "#B6E880",
           "#FF97FF",
           "#FECB52"
          ],
          "font": {
           "color": "#2a3f5f"
          },
          "geo": {
           "bgcolor": "white",
           "lakecolor": "white",
           "landcolor": "#E5ECF6",
           "showlakes": true,
           "showland": true,
           "subunitcolor": "white"
          },
          "hoverlabel": {
           "align": "left"
          },
          "hovermode": "closest",
          "mapbox": {
           "style": "light"
          },
          "paper_bgcolor": "white",
          "plot_bgcolor": "#E5ECF6",
          "polar": {
           "angularaxis": {
            "gridcolor": "white",
            "linecolor": "white",
            "ticks": ""
           },
           "bgcolor": "#E5ECF6",
           "radialaxis": {
            "gridcolor": "white",
            "linecolor": "white",
            "ticks": ""
           }
          },
          "scene": {
           "xaxis": {
            "backgroundcolor": "#E5ECF6",
            "gridcolor": "white",
            "gridwidth": 2,
            "linecolor": "white",
            "showbackground": true,
            "ticks": "",
            "zerolinecolor": "white"
           },
           "yaxis": {
            "backgroundcolor": "#E5ECF6",
            "gridcolor": "white",
            "gridwidth": 2,
            "linecolor": "white",
            "showbackground": true,
            "ticks": "",
            "zerolinecolor": "white"
           },
           "zaxis": {
            "backgroundcolor": "#E5ECF6",
            "gridcolor": "white",
            "gridwidth": 2,
            "linecolor": "white",
            "showbackground": true,
            "ticks": "",
            "zerolinecolor": "white"
           }
          },
          "shapedefaults": {
           "line": {
            "color": "#2a3f5f"
           }
          },
          "ternary": {
           "aaxis": {
            "gridcolor": "white",
            "linecolor": "white",
            "ticks": ""
           },
           "baxis": {
            "gridcolor": "white",
            "linecolor": "white",
            "ticks": ""
           },
           "bgcolor": "#E5ECF6",
           "caxis": {
            "gridcolor": "white",
            "linecolor": "white",
            "ticks": ""
           }
          },
          "title": {
           "x": 0.05
          },
          "xaxis": {
           "automargin": true,
           "gridcolor": "white",
           "linecolor": "white",
           "ticks": "",
           "title": {
            "standoff": 15
           },
           "zerolinecolor": "white",
           "zerolinewidth": 2
          },
          "yaxis": {
           "automargin": true,
           "gridcolor": "white",
           "linecolor": "white",
           "ticks": "",
           "title": {
            "standoff": 15
           },
           "zerolinecolor": "white",
           "zerolinewidth": 2
          }
         }
        },
        "xaxis": {
         "anchor": "y",
         "domain": [
          0,
          0.31999999999999995
         ],
         "title": {
          "text": "False Positive Rate"
         }
        },
        "xaxis2": {
         "anchor": "y2",
         "domain": [
          0.33999999999999997,
          0.6599999999999999
         ],
         "matches": "x",
         "title": {
          "text": "False Positive Rate"
         }
        },
        "xaxis3": {
         "anchor": "y3",
         "domain": [
          0.6799999999999999,
          0.9999999999999999
         ],
         "matches": "x",
         "title": {
          "text": "False Positive Rate"
         }
        },
        "yaxis": {
         "anchor": "x",
         "domain": [
          0,
          1
         ],
         "title": {
          "text": "True Positive Rate"
         }
        },
        "yaxis2": {
         "anchor": "x2",
         "domain": [
          0,
          1
         ],
         "matches": "y",
         "showticklabels": false
        },
        "yaxis3": {
         "anchor": "x3",
         "domain": [
          0,
          1
         ],
         "matches": "y",
         "showticklabels": false
        }
       }
      }
     },
     "metadata": {},
     "output_type": "display_data"
    }
   ],
   "source": [
    "# Visualize ROC curve\n",
    "fig = px.line(roc_df,y='True Positive Rate',x='False Positive Rate',facet_col='method',color='method')\n",
    "fig"
   ]
  },
  {
   "cell_type": "code",
   "execution_count": 29,
   "metadata": {},
   "outputs": [],
   "source": [
    "# precision recall curves\n",
    "p_full, r_full, _ = precision_recall_curve(y_df_test,y_pred_full[:,1])\n",
    "p_FS, r_FS, _ = precision_recall_curve(y_df_test,y_pred_FS[:,1])\n",
    "p_BS, r_BS, _ = precision_recall_curve(y_df_test,y_pred_BS[:,1])\n",
    "\n",
    "pr_df = pd.DataFrame(\n",
    "    {\n",
    "        'Precision':np.hstack([p_full,p_FS,p_BS]),\n",
    "        'Recall':np.hstack([r_full,r_FS,r_BS]),\n",
    "        'method':['Full Model']*len(p_full)+['Forward Selection']*len(p_FS)+['Backward Selection']*len(p_BS)\n",
    "    }\n",
    ")"
   ]
  },
  {
   "cell_type": "code",
   "execution_count": 30,
   "metadata": {},
   "outputs": [
    {
     "data": {
      "application/vnd.plotly.v1+json": {
       "config": {
        "plotlyServerURL": "https://plot.ly"
       },
       "data": [
        {
         "hovertemplate": "method=Full Model<br>Recall=%{x}<br>Precision=%{y}<extra></extra>",
         "legendgroup": "Full Model",
         "line": {
          "color": "#636efa",
          "dash": "solid"
         },
         "marker": {
          "symbol": "circle"
         },
         "mode": "lines",
         "name": "Full Model",
         "orientation": "v",
         "showlegend": true,
         "type": "scatter",
         "x": [
          1,
          1,
          1,
          1,
          1,
          1,
          1,
          1,
          1,
          1,
          1,
          1,
          1,
          1,
          1,
          1,
          1,
          1,
          1,
          1,
          1,
          1,
          1,
          1,
          1,
          1,
          1,
          1,
          1,
          1,
          1,
          1,
          1,
          1,
          1,
          1,
          1,
          1,
          1,
          1,
          1,
          1,
          1,
          1,
          1,
          1,
          1,
          1,
          1,
          1,
          1,
          1,
          1,
          1,
          1,
          1,
          1,
          1,
          1,
          1,
          1,
          1,
          1,
          1,
          1,
          1,
          1,
          1,
          1,
          1,
          1,
          1,
          1,
          1,
          1,
          1,
          1,
          1,
          0.9932432432432432,
          0.9932432432432432,
          0.9864864864864865,
          0.9864864864864865,
          0.9864864864864865,
          0.9797297297297297,
          0.9797297297297297,
          0.972972972972973,
          0.9662162162162162,
          0.9594594594594594,
          0.9594594594594594,
          0.9594594594594594,
          0.9527027027027027,
          0.9459459459459459,
          0.9459459459459459,
          0.9391891891891891,
          0.9324324324324325,
          0.9256756756756757,
          0.918918918918919,
          0.9121621621621622,
          0.9054054054054054,
          0.9054054054054054,
          0.8986486486486487,
          0.8918918918918919,
          0.8851351351351351,
          0.8783783783783784,
          0.8716216216216216,
          0.8648648648648649,
          0.8581081081081081,
          0.8513513513513513,
          0.8445945945945946,
          0.8378378378378378,
          0.8378378378378378,
          0.831081081081081,
          0.8243243243243243,
          0.8175675675675675,
          0.8108108108108109,
          0.8040540540540541,
          0.7972972972972973,
          0.7905405405405406,
          0.7837837837837838,
          0.777027027027027,
          0.7702702702702703,
          0.7635135135135135,
          0.7567567567567568,
          0.75,
          0.7432432432432432,
          0.7364864864864865,
          0.7297297297297297,
          0.722972972972973,
          0.7162162162162162,
          0.7094594594594594,
          0.7027027027027027,
          0.6959459459459459,
          0.6891891891891891,
          0.6824324324324325,
          0.6756756756756757,
          0.668918918918919,
          0.6621621621621622,
          0.6554054054054054,
          0.6486486486486487,
          0.6418918918918919,
          0.6351351351351351,
          0.6283783783783784,
          0.6216216216216216,
          0.6148648648648649,
          0.6081081081081081,
          0.6013513513513513,
          0.5945945945945946,
          0.5878378378378378,
          0.581081081081081,
          0.5743243243243243,
          0.5675675675675675,
          0.5608108108108109,
          0.5540540540540541,
          0.5472972972972973,
          0.5472972972972973,
          0.5405405405405406,
          0.5337837837837838,
          0.527027027027027,
          0.5202702702702703,
          0.5135135135135135,
          0.5067567567567568,
          0.5,
          0.49324324324324326,
          0.4864864864864865,
          0.4797297297297297,
          0.47297297297297297,
          0.46621621621621623,
          0.4594594594594595,
          0.4527027027027027,
          0.44594594594594594,
          0.4391891891891892,
          0.43243243243243246,
          0.42567567567567566,
          0.4189189189189189,
          0.41216216216216217,
          0.40540540540540543,
          0.39864864864864863,
          0.3918918918918919,
          0.38513513513513514,
          0.3783783783783784,
          0.3716216216216216,
          0.36486486486486486,
          0.3581081081081081,
          0.35135135135135137,
          0.34459459459459457,
          0.33783783783783783,
          0.3310810810810811,
          0.32432432432432434,
          0.31756756756756754,
          0.3108108108108108,
          0.30405405405405406,
          0.2972972972972973,
          0.2905405405405405,
          0.28378378378378377,
          0.27702702702702703,
          0.2702702702702703,
          0.2635135135135135,
          0.25675675675675674,
          0.25,
          0.24324324324324326,
          0.23648648648648649,
          0.22972972972972974,
          0.22297297297297297,
          0.21621621621621623,
          0.20945945945945946,
          0.20270270270270271,
          0.19594594594594594,
          0.1891891891891892,
          0.18243243243243243,
          0.17567567567567569,
          0.16891891891891891,
          0.16216216216216217,
          0.1554054054054054,
          0.14864864864864866,
          0.14189189189189189,
          0.13513513513513514,
          0.12837837837837837,
          0.12162162162162163,
          0.11486486486486487,
          0.10810810810810811,
          0.10135135135135136,
          0.0945945945945946,
          0.08783783783783784,
          0.08108108108108109,
          0.07432432432432433,
          0.06756756756756757,
          0.060810810810810814,
          0.05405405405405406,
          0.0472972972972973,
          0.04054054054054054,
          0.033783783783783786,
          0.02702702702702703,
          0.02027027027027027,
          0.013513513513513514,
          0.006756756756756757,
          0
         ],
         "xaxis": "x",
         "y": [
          0.6297872340425532,
          0.6324786324786325,
          0.6351931330472103,
          0.6379310344827587,
          0.6406926406926406,
          0.6434782608695652,
          0.6462882096069869,
          0.6491228070175439,
          0.6519823788546255,
          0.6548672566371682,
          0.6577777777777778,
          0.6607142857142857,
          0.6636771300448431,
          0.6666666666666666,
          0.669683257918552,
          0.6727272727272727,
          0.6757990867579908,
          0.6788990825688074,
          0.6820276497695853,
          0.6851851851851852,
          0.6883720930232559,
          0.6915887850467289,
          0.6948356807511737,
          0.6981132075471698,
          0.7014218009478673,
          0.7047619047619048,
          0.7081339712918661,
          0.7115384615384616,
          0.714975845410628,
          0.7184466019417476,
          0.7219512195121951,
          0.7254901960784313,
          0.729064039408867,
          0.7326732673267327,
          0.736318407960199,
          0.74,
          0.7437185929648241,
          0.7474747474747475,
          0.751269035532995,
          0.7551020408163265,
          0.7589743589743589,
          0.7628865979381443,
          0.7668393782383419,
          0.7708333333333334,
          0.774869109947644,
          0.7789473684210526,
          0.783068783068783,
          0.7872340425531915,
          0.7914438502673797,
          0.7956989247311828,
          0.8,
          0.8043478260869565,
          0.8087431693989071,
          0.8131868131868132,
          0.8176795580110497,
          0.8222222222222222,
          0.8268156424581006,
          0.8314606741573034,
          0.8361581920903954,
          0.8409090909090909,
          0.8457142857142858,
          0.8505747126436781,
          0.8554913294797688,
          0.8604651162790697,
          0.8654970760233918,
          0.8705882352941177,
          0.8757396449704142,
          0.8809523809523809,
          0.8862275449101796,
          0.891566265060241,
          0.896969696969697,
          0.9024390243902439,
          0.9079754601226994,
          0.9135802469135802,
          0.9192546583850931,
          0.925,
          0.9308176100628931,
          0.9367088607594937,
          0.9363057324840764,
          0.9423076923076923,
          0.9419354838709677,
          0.948051948051948,
          0.954248366013072,
          0.9539473684210527,
          0.9602649006622517,
          0.96,
          0.959731543624161,
          0.9594594594594594,
          0.9659863945578231,
          0.9726027397260274,
          0.9724137931034482,
          0.9722222222222222,
          0.9790209790209791,
          0.9788732394366197,
          0.9787234042553191,
          0.9785714285714285,
          0.9784172661870504,
          0.9782608695652174,
          0.9781021897810219,
          0.9852941176470589,
          0.9851851851851852,
          0.9850746268656716,
          0.9849624060150376,
          0.9848484848484849,
          0.9847328244274809,
          0.9846153846153847,
          0.9844961240310077,
          0.984375,
          0.984251968503937,
          0.9841269841269841,
          0.992,
          0.9919354838709677,
          0.991869918699187,
          0.9918032786885246,
          0.9917355371900827,
          0.9916666666666667,
          0.9915966386554622,
          0.9915254237288136,
          0.9914529914529915,
          0.9913793103448276,
          0.991304347826087,
          0.9912280701754386,
          0.9911504424778761,
          0.9910714285714286,
          0.990990990990991,
          0.990909090909091,
          0.9908256880733946,
          0.9907407407407407,
          0.9906542056074766,
          0.9905660377358491,
          0.9904761904761905,
          0.9903846153846154,
          0.9902912621359223,
          0.9901960784313726,
          0.9900990099009901,
          0.99,
          0.98989898989899,
          0.9897959183673469,
          0.9896907216494846,
          0.9895833333333334,
          0.9894736842105263,
          0.9893617021276596,
          0.989247311827957,
          0.9891304347826086,
          0.989010989010989,
          0.9888888888888889,
          0.9887640449438202,
          0.9886363636363636,
          0.9885057471264368,
          0.9883720930232558,
          0.9882352941176471,
          0.9880952380952381,
          0.9879518072289156,
          0.9878048780487805,
          1,
          1,
          1,
          1,
          1,
          1,
          1,
          1,
          1,
          1,
          1,
          1,
          1,
          1,
          1,
          1,
          1,
          1,
          1,
          1,
          1,
          1,
          1,
          1,
          1,
          1,
          1,
          1,
          1,
          1,
          1,
          1,
          1,
          1,
          1,
          1,
          1,
          1,
          1,
          1,
          1,
          1,
          1,
          1,
          1,
          1,
          1,
          1,
          1,
          1,
          1,
          1,
          1,
          1,
          1,
          1,
          1,
          1,
          1,
          1,
          1,
          1,
          1,
          1,
          1,
          1,
          1,
          1,
          1,
          1,
          1,
          1,
          1,
          1,
          1,
          1,
          1,
          1,
          1,
          1,
          1,
          1
         ],
         "yaxis": "y"
        },
        {
         "hovertemplate": "method=Forward Selection<br>Recall=%{x}<br>Precision=%{y}<extra></extra>",
         "legendgroup": "Forward Selection",
         "line": {
          "color": "#EF553B",
          "dash": "solid"
         },
         "marker": {
          "symbol": "circle"
         },
         "mode": "lines",
         "name": "Forward Selection",
         "orientation": "v",
         "showlegend": true,
         "type": "scatter",
         "x": [
          1,
          1,
          1,
          1,
          1,
          1,
          1,
          1,
          1,
          1,
          1,
          1,
          1,
          1,
          1,
          1,
          1,
          1,
          1,
          1,
          1,
          1,
          1,
          1,
          1,
          1,
          1,
          1,
          1,
          1,
          1,
          1,
          1,
          1,
          1,
          1,
          1,
          1,
          1,
          1,
          1,
          1,
          1,
          1,
          1,
          1,
          1,
          1,
          1,
          1,
          1,
          1,
          1,
          1,
          1,
          1,
          1,
          1,
          1,
          1,
          1,
          1,
          1,
          1,
          1,
          1,
          1,
          1,
          1,
          1,
          1,
          1,
          1,
          0.9932432432432432,
          0.9932432432432432,
          0.9932432432432432,
          0.9864864864864865,
          0.9797297297297297,
          0.9797297297297297,
          0.9797297297297297,
          0.9797297297297297,
          0.9797297297297297,
          0.9797297297297297,
          0.9797297297297297,
          0.972972972972973,
          0.9662162162162162,
          0.9594594594594594,
          0.9527027027027027,
          0.9527027027027027,
          0.9459459459459459,
          0.9459459459459459,
          0.9459459459459459,
          0.9391891891891891,
          0.9324324324324325,
          0.9256756756756757,
          0.918918918918919,
          0.9121621621621622,
          0.9054054054054054,
          0.9054054054054054,
          0.8986486486486487,
          0.8918918918918919,
          0.8851351351351351,
          0.8851351351351351,
          0.8783783783783784,
          0.8716216216216216,
          0.8648648648648649,
          0.8581081081081081,
          0.8513513513513513,
          0.8445945945945946,
          0.8378378378378378,
          0.831081081081081,
          0.8243243243243243,
          0.8175675675675675,
          0.8108108108108109,
          0.8040540540540541,
          0.7972972972972973,
          0.7905405405405406,
          0.7837837837837838,
          0.777027027027027,
          0.7702702702702703,
          0.7635135135135135,
          0.7567567567567568,
          0.75,
          0.75,
          0.7432432432432432,
          0.7364864864864865,
          0.7297297297297297,
          0.722972972972973,
          0.7162162162162162,
          0.7094594594594594,
          0.7027027027027027,
          0.6959459459459459,
          0.6891891891891891,
          0.6824324324324325,
          0.6756756756756757,
          0.668918918918919,
          0.6621621621621622,
          0.6554054054054054,
          0.6486486486486487,
          0.6418918918918919,
          0.6351351351351351,
          0.6283783783783784,
          0.6216216216216216,
          0.6148648648648649,
          0.6081081081081081,
          0.6013513513513513,
          0.5945945945945946,
          0.5878378378378378,
          0.581081081081081,
          0.5743243243243243,
          0.5675675675675675,
          0.5608108108108109,
          0.5540540540540541,
          0.5472972972972973,
          0.5405405405405406,
          0.5337837837837838,
          0.527027027027027,
          0.5202702702702703,
          0.5135135135135135,
          0.5067567567567568,
          0.5,
          0.49324324324324326,
          0.4864864864864865,
          0.4797297297297297,
          0.47297297297297297,
          0.46621621621621623,
          0.4594594594594595,
          0.4527027027027027,
          0.44594594594594594,
          0.4391891891891892,
          0.43243243243243246,
          0.42567567567567566,
          0.4189189189189189,
          0.41216216216216217,
          0.40540540540540543,
          0.39864864864864863,
          0.3918918918918919,
          0.38513513513513514,
          0.3783783783783784,
          0.3716216216216216,
          0.36486486486486486,
          0.3581081081081081,
          0.35135135135135137,
          0.35135135135135137,
          0.34459459459459457,
          0.33783783783783783,
          0.3310810810810811,
          0.32432432432432434,
          0.31756756756756754,
          0.3108108108108108,
          0.30405405405405406,
          0.2972972972972973,
          0.2905405405405405,
          0.28378378378378377,
          0.27702702702702703,
          0.2702702702702703,
          0.2635135135135135,
          0.25675675675675674,
          0.25,
          0.24324324324324326,
          0.23648648648648649,
          0.22972972972972974,
          0.22297297297297297,
          0.21621621621621623,
          0.20945945945945946,
          0.20270270270270271,
          0.19594594594594594,
          0.1891891891891892,
          0.18243243243243243,
          0.17567567567567569,
          0.16891891891891891,
          0.16216216216216217,
          0.1554054054054054,
          0.14864864864864866,
          0.14189189189189189,
          0.13513513513513514,
          0.12837837837837837,
          0.12162162162162163,
          0.11486486486486487,
          0.10810810810810811,
          0.10135135135135136,
          0.0945945945945946,
          0.08783783783783784,
          0.08108108108108109,
          0.07432432432432433,
          0.06756756756756757,
          0.060810810810810814,
          0.05405405405405406,
          0.0472972972972973,
          0.04054054054054054,
          0.033783783783783786,
          0.02702702702702703,
          0.02027027027027027,
          0.013513513513513514,
          0.006756756756756757,
          0
         ],
         "xaxis": "x2",
         "y": [
          0.6297872340425532,
          0.6324786324786325,
          0.6351931330472103,
          0.6379310344827587,
          0.6406926406926406,
          0.6434782608695652,
          0.6462882096069869,
          0.6491228070175439,
          0.6519823788546255,
          0.6548672566371682,
          0.6577777777777778,
          0.6607142857142857,
          0.6636771300448431,
          0.6666666666666666,
          0.669683257918552,
          0.6727272727272727,
          0.6757990867579908,
          0.6788990825688074,
          0.6820276497695853,
          0.6851851851851852,
          0.6883720930232559,
          0.6915887850467289,
          0.6948356807511737,
          0.6981132075471698,
          0.7014218009478673,
          0.7047619047619048,
          0.7081339712918661,
          0.7115384615384616,
          0.714975845410628,
          0.7184466019417476,
          0.7219512195121951,
          0.7254901960784313,
          0.729064039408867,
          0.7326732673267327,
          0.736318407960199,
          0.74,
          0.7437185929648241,
          0.7474747474747475,
          0.751269035532995,
          0.7551020408163265,
          0.7589743589743589,
          0.7628865979381443,
          0.7668393782383419,
          0.7708333333333334,
          0.774869109947644,
          0.7789473684210526,
          0.783068783068783,
          0.7872340425531915,
          0.7914438502673797,
          0.7956989247311828,
          0.8,
          0.8043478260869565,
          0.8087431693989071,
          0.8131868131868132,
          0.8176795580110497,
          0.8222222222222222,
          0.8268156424581006,
          0.8314606741573034,
          0.8361581920903954,
          0.8409090909090909,
          0.8457142857142858,
          0.8505747126436781,
          0.8554913294797688,
          0.8604651162790697,
          0.8654970760233918,
          0.8705882352941177,
          0.8757396449704142,
          0.8809523809523809,
          0.8862275449101796,
          0.891566265060241,
          0.896969696969697,
          0.9024390243902439,
          0.9079754601226994,
          0.9074074074074074,
          0.9130434782608695,
          0.91875,
          0.9182389937106918,
          0.9177215189873418,
          0.9235668789808917,
          0.9294871794871795,
          0.9354838709677419,
          0.9415584415584416,
          0.9477124183006536,
          0.9539473684210527,
          0.9536423841059603,
          0.9533333333333334,
          0.9530201342281879,
          0.9527027027027027,
          0.9591836734693877,
          0.958904109589041,
          0.9655172413793104,
          0.9722222222222222,
          0.972027972027972,
          0.971830985915493,
          0.9716312056737588,
          0.9714285714285714,
          0.9712230215827338,
          0.9710144927536232,
          0.9781021897810219,
          0.9779411764705882,
          0.9777777777777777,
          0.9776119402985075,
          0.9849624060150376,
          0.9848484848484849,
          0.9847328244274809,
          0.9846153846153847,
          0.9844961240310077,
          0.984375,
          0.984251968503937,
          0.9841269841269841,
          0.984,
          0.9838709677419355,
          0.983739837398374,
          0.9836065573770492,
          0.9834710743801653,
          0.9833333333333333,
          0.9831932773109243,
          0.9830508474576272,
          0.9829059829059829,
          0.9827586206896551,
          0.9826086956521739,
          0.9824561403508771,
          0.9823008849557522,
          0.9910714285714286,
          0.990990990990991,
          0.990909090909091,
          0.9908256880733946,
          0.9907407407407407,
          0.9906542056074766,
          0.9905660377358491,
          0.9904761904761905,
          0.9903846153846154,
          0.9902912621359223,
          0.9901960784313726,
          0.9900990099009901,
          0.99,
          0.98989898989899,
          0.9897959183673469,
          0.9896907216494846,
          0.9895833333333334,
          0.9894736842105263,
          0.9893617021276596,
          0.989247311827957,
          0.9891304347826086,
          0.989010989010989,
          0.9888888888888889,
          0.9887640449438202,
          0.9886363636363636,
          0.9885057471264368,
          0.9883720930232558,
          0.9882352941176471,
          0.9880952380952381,
          0.9879518072289156,
          0.9878048780487805,
          0.9876543209876543,
          0.9875,
          0.9873417721518988,
          0.9871794871794872,
          0.987012987012987,
          0.9868421052631579,
          0.9866666666666667,
          0.9864864864864865,
          0.9863013698630136,
          0.9861111111111112,
          0.9859154929577465,
          0.9857142857142858,
          0.9855072463768116,
          0.9852941176470589,
          0.9850746268656716,
          0.9848484848484849,
          0.9846153846153847,
          0.984375,
          0.9841269841269841,
          0.9838709677419355,
          0.9836065573770492,
          0.9833333333333333,
          0.9830508474576272,
          0.9827586206896551,
          0.9824561403508771,
          0.9821428571428571,
          0.9818181818181818,
          0.9814814814814815,
          0.9811320754716981,
          1,
          1,
          1,
          1,
          1,
          1,
          1,
          1,
          1,
          1,
          1,
          1,
          1,
          1,
          1,
          1,
          1,
          1,
          1,
          1,
          1,
          1,
          1,
          1,
          1,
          1,
          1,
          1,
          1,
          1,
          1,
          1,
          1,
          1,
          1,
          1,
          1,
          1,
          1,
          1,
          1,
          1,
          1,
          1,
          1,
          1,
          1,
          1,
          1,
          1,
          1,
          1,
          1
         ],
         "yaxis": "y2"
        },
        {
         "hovertemplate": "method=Backward Selection<br>Recall=%{x}<br>Precision=%{y}<extra></extra>",
         "legendgroup": "Backward Selection",
         "line": {
          "color": "#00cc96",
          "dash": "solid"
         },
         "marker": {
          "symbol": "circle"
         },
         "mode": "lines",
         "name": "Backward Selection",
         "orientation": "v",
         "showlegend": true,
         "type": "scatter",
         "x": [
          1,
          1,
          1,
          1,
          1,
          1,
          1,
          1,
          1,
          1,
          1,
          1,
          1,
          1,
          1,
          1,
          1,
          1,
          1,
          1,
          1,
          1,
          1,
          1,
          1,
          1,
          1,
          1,
          1,
          1,
          1,
          1,
          1,
          1,
          1,
          1,
          1,
          1,
          1,
          1,
          1,
          1,
          1,
          1,
          1,
          1,
          1,
          1,
          1,
          1,
          1,
          1,
          1,
          1,
          1,
          1,
          1,
          1,
          1,
          1,
          1,
          1,
          1,
          1,
          1,
          1,
          1,
          1,
          1,
          1,
          1,
          1,
          1,
          1,
          1,
          1,
          1,
          0.9932432432432432,
          0.9932432432432432,
          0.9932432432432432,
          0.9864864864864865,
          0.9797297297297297,
          0.9797297297297297,
          0.9797297297297297,
          0.9797297297297297,
          0.972972972972973,
          0.972972972972973,
          0.972972972972973,
          0.9662162162162162,
          0.9594594594594594,
          0.9527027027027027,
          0.9527027027027027,
          0.9459459459459459,
          0.9391891891891891,
          0.9324324324324325,
          0.9256756756756757,
          0.918918918918919,
          0.9121621621621622,
          0.9054054054054054,
          0.8986486486486487,
          0.8918918918918919,
          0.8851351351351351,
          0.8783783783783784,
          0.8716216216216216,
          0.8716216216216216,
          0.8648648648648649,
          0.8648648648648649,
          0.8581081081081081,
          0.8513513513513513,
          0.8445945945945946,
          0.8378378378378378,
          0.831081081081081,
          0.8243243243243243,
          0.8175675675675675,
          0.8108108108108109,
          0.8040540540540541,
          0.7972972972972973,
          0.7905405405405406,
          0.7837837837837838,
          0.777027027027027,
          0.7702702702702703,
          0.7635135135135135,
          0.7567567567567568,
          0.75,
          0.7432432432432432,
          0.7364864864864865,
          0.7297297297297297,
          0.722972972972973,
          0.7162162162162162,
          0.7094594594594594,
          0.7027027027027027,
          0.6959459459459459,
          0.6891891891891891,
          0.6824324324324325,
          0.6756756756756757,
          0.668918918918919,
          0.6621621621621622,
          0.6554054054054054,
          0.6486486486486487,
          0.6418918918918919,
          0.6351351351351351,
          0.6283783783783784,
          0.6216216216216216,
          0.6148648648648649,
          0.6081081081081081,
          0.6013513513513513,
          0.5945945945945946,
          0.5878378378378378,
          0.581081081081081,
          0.5743243243243243,
          0.5675675675675675,
          0.5608108108108109,
          0.5540540540540541,
          0.5472972972972973,
          0.5405405405405406,
          0.5337837837837838,
          0.527027027027027,
          0.5202702702702703,
          0.5202702702702703,
          0.5135135135135135,
          0.5067567567567568,
          0.5,
          0.49324324324324326,
          0.4864864864864865,
          0.4797297297297297,
          0.47297297297297297,
          0.46621621621621623,
          0.4594594594594595,
          0.4527027027027027,
          0.44594594594594594,
          0.4391891891891892,
          0.43243243243243246,
          0.42567567567567566,
          0.4189189189189189,
          0.41216216216216217,
          0.40540540540540543,
          0.39864864864864863,
          0.3918918918918919,
          0.38513513513513514,
          0.3783783783783784,
          0.3716216216216216,
          0.36486486486486486,
          0.3581081081081081,
          0.35135135135135137,
          0.34459459459459457,
          0.33783783783783783,
          0.3310810810810811,
          0.32432432432432434,
          0.31756756756756754,
          0.3108108108108108,
          0.30405405405405406,
          0.2972972972972973,
          0.2905405405405405,
          0.28378378378378377,
          0.27702702702702703,
          0.2702702702702703,
          0.2635135135135135,
          0.25675675675675674,
          0.25,
          0.24324324324324326,
          0.23648648648648649,
          0.22972972972972974,
          0.22297297297297297,
          0.21621621621621623,
          0.20945945945945946,
          0.20270270270270271,
          0.19594594594594594,
          0.1891891891891892,
          0.18243243243243243,
          0.17567567567567569,
          0.16891891891891891,
          0.16216216216216217,
          0.1554054054054054,
          0.14864864864864866,
          0.14189189189189189,
          0.13513513513513514,
          0.12837837837837837,
          0.12162162162162163,
          0.11486486486486487,
          0.10810810810810811,
          0.10135135135135136,
          0.0945945945945946,
          0.08783783783783784,
          0.08108108108108109,
          0.07432432432432433,
          0.06756756756756757,
          0.060810810810810814,
          0.05405405405405406,
          0.0472972972972973,
          0.04054054054054054,
          0.033783783783783786,
          0.02702702702702703,
          0.02027027027027027,
          0.013513513513513514,
          0.006756756756756757,
          0
         ],
         "xaxis": "x3",
         "y": [
          0.6297872340425532,
          0.6324786324786325,
          0.6351931330472103,
          0.6379310344827587,
          0.6406926406926406,
          0.6434782608695652,
          0.6462882096069869,
          0.6491228070175439,
          0.6519823788546255,
          0.6548672566371682,
          0.6577777777777778,
          0.6607142857142857,
          0.6636771300448431,
          0.6666666666666666,
          0.669683257918552,
          0.6727272727272727,
          0.6757990867579908,
          0.6788990825688074,
          0.6820276497695853,
          0.6851851851851852,
          0.6883720930232559,
          0.6915887850467289,
          0.6948356807511737,
          0.6981132075471698,
          0.7014218009478673,
          0.7047619047619048,
          0.7081339712918661,
          0.7115384615384616,
          0.714975845410628,
          0.7184466019417476,
          0.7219512195121951,
          0.7254901960784313,
          0.729064039408867,
          0.7326732673267327,
          0.736318407960199,
          0.74,
          0.7437185929648241,
          0.7474747474747475,
          0.751269035532995,
          0.7551020408163265,
          0.7589743589743589,
          0.7628865979381443,
          0.7668393782383419,
          0.7708333333333334,
          0.774869109947644,
          0.7789473684210526,
          0.783068783068783,
          0.7872340425531915,
          0.7914438502673797,
          0.7956989247311828,
          0.8,
          0.8043478260869565,
          0.8087431693989071,
          0.8131868131868132,
          0.8176795580110497,
          0.8222222222222222,
          0.8268156424581006,
          0.8314606741573034,
          0.8361581920903954,
          0.8409090909090909,
          0.8457142857142858,
          0.8505747126436781,
          0.8554913294797688,
          0.8604651162790697,
          0.8654970760233918,
          0.8705882352941177,
          0.8757396449704142,
          0.8809523809523809,
          0.8862275449101796,
          0.891566265060241,
          0.896969696969697,
          0.9024390243902439,
          0.9079754601226994,
          0.9135802469135802,
          0.9192546583850931,
          0.925,
          0.9308176100628931,
          0.930379746835443,
          0.9363057324840764,
          0.9423076923076923,
          0.9419354838709677,
          0.9415584415584416,
          0.9477124183006536,
          0.9539473684210527,
          0.9602649006622517,
          0.96,
          0.9664429530201343,
          0.972972972972973,
          0.9727891156462585,
          0.9726027397260274,
          0.9724137931034482,
          0.9791666666666666,
          0.9790209790209791,
          0.9788732394366197,
          0.9787234042553191,
          0.9785714285714285,
          0.9784172661870504,
          0.9782608695652174,
          0.9781021897810219,
          0.9779411764705882,
          0.9777777777777777,
          0.9776119402985075,
          0.9774436090225563,
          0.9772727272727273,
          0.9847328244274809,
          0.9846153846153847,
          0.9922480620155039,
          0.9921875,
          0.9921259842519685,
          0.9920634920634921,
          0.992,
          0.9919354838709677,
          0.991869918699187,
          0.9918032786885246,
          0.9917355371900827,
          0.9916666666666667,
          0.9915966386554622,
          0.9915254237288136,
          0.9914529914529915,
          0.9913793103448276,
          0.991304347826087,
          0.9912280701754386,
          0.9911504424778761,
          0.9910714285714286,
          0.990990990990991,
          0.990909090909091,
          0.9908256880733946,
          0.9907407407407407,
          0.9906542056074766,
          0.9905660377358491,
          0.9904761904761905,
          0.9903846153846154,
          0.9902912621359223,
          0.9901960784313726,
          0.9900990099009901,
          0.99,
          0.98989898989899,
          0.9897959183673469,
          0.9896907216494846,
          0.9895833333333334,
          0.9894736842105263,
          0.9893617021276596,
          0.989247311827957,
          0.9891304347826086,
          0.989010989010989,
          0.9888888888888889,
          0.9887640449438202,
          0.9886363636363636,
          0.9885057471264368,
          0.9883720930232558,
          0.9882352941176471,
          0.9880952380952381,
          0.9879518072289156,
          0.9878048780487805,
          0.9876543209876543,
          0.9875,
          0.9873417721518988,
          0.9871794871794872,
          1,
          1,
          1,
          1,
          1,
          1,
          1,
          1,
          1,
          1,
          1,
          1,
          1,
          1,
          1,
          1,
          1,
          1,
          1,
          1,
          1,
          1,
          1,
          1,
          1,
          1,
          1,
          1,
          1,
          1,
          1,
          1,
          1,
          1,
          1,
          1,
          1,
          1,
          1,
          1,
          1,
          1,
          1,
          1,
          1,
          1,
          1,
          1,
          1,
          1,
          1,
          1,
          1,
          1,
          1,
          1,
          1,
          1,
          1,
          1,
          1,
          1,
          1,
          1,
          1,
          1,
          1,
          1,
          1,
          1,
          1,
          1,
          1,
          1,
          1,
          1,
          1,
          1
         ],
         "yaxis": "y3"
        }
       ],
       "layout": {
        "annotations": [
         {
          "font": {},
          "showarrow": false,
          "text": "method=Full Model",
          "x": 0.15999999999999998,
          "xanchor": "center",
          "xref": "paper",
          "y": 1,
          "yanchor": "bottom",
          "yref": "paper"
         },
         {
          "font": {},
          "showarrow": false,
          "text": "method=Forward Selection",
          "x": 0.49999999999999994,
          "xanchor": "center",
          "xref": "paper",
          "y": 1,
          "yanchor": "bottom",
          "yref": "paper"
         },
         {
          "font": {},
          "showarrow": false,
          "text": "method=Backward Selection",
          "x": 0.8399999999999999,
          "xanchor": "center",
          "xref": "paper",
          "y": 1,
          "yanchor": "bottom",
          "yref": "paper"
         }
        ],
        "legend": {
         "title": {
          "text": "method"
         },
         "tracegroupgap": 0
        },
        "margin": {
         "t": 60
        },
        "template": {
         "data": {
          "bar": [
           {
            "error_x": {
             "color": "#2a3f5f"
            },
            "error_y": {
             "color": "#2a3f5f"
            },
            "marker": {
             "line": {
              "color": "#E5ECF6",
              "width": 0.5
             },
             "pattern": {
              "fillmode": "overlay",
              "size": 10,
              "solidity": 0.2
             }
            },
            "type": "bar"
           }
          ],
          "barpolar": [
           {
            "marker": {
             "line": {
              "color": "#E5ECF6",
              "width": 0.5
             },
             "pattern": {
              "fillmode": "overlay",
              "size": 10,
              "solidity": 0.2
             }
            },
            "type": "barpolar"
           }
          ],
          "carpet": [
           {
            "aaxis": {
             "endlinecolor": "#2a3f5f",
             "gridcolor": "white",
             "linecolor": "white",
             "minorgridcolor": "white",
             "startlinecolor": "#2a3f5f"
            },
            "baxis": {
             "endlinecolor": "#2a3f5f",
             "gridcolor": "white",
             "linecolor": "white",
             "minorgridcolor": "white",
             "startlinecolor": "#2a3f5f"
            },
            "type": "carpet"
           }
          ],
          "choropleth": [
           {
            "colorbar": {
             "outlinewidth": 0,
             "ticks": ""
            },
            "type": "choropleth"
           }
          ],
          "contour": [
           {
            "colorbar": {
             "outlinewidth": 0,
             "ticks": ""
            },
            "colorscale": [
             [
              0,
              "#0d0887"
             ],
             [
              0.1111111111111111,
              "#46039f"
             ],
             [
              0.2222222222222222,
              "#7201a8"
             ],
             [
              0.3333333333333333,
              "#9c179e"
             ],
             [
              0.4444444444444444,
              "#bd3786"
             ],
             [
              0.5555555555555556,
              "#d8576b"
             ],
             [
              0.6666666666666666,
              "#ed7953"
             ],
             [
              0.7777777777777778,
              "#fb9f3a"
             ],
             [
              0.8888888888888888,
              "#fdca26"
             ],
             [
              1,
              "#f0f921"
             ]
            ],
            "type": "contour"
           }
          ],
          "contourcarpet": [
           {
            "colorbar": {
             "outlinewidth": 0,
             "ticks": ""
            },
            "type": "contourcarpet"
           }
          ],
          "heatmap": [
           {
            "colorbar": {
             "outlinewidth": 0,
             "ticks": ""
            },
            "colorscale": [
             [
              0,
              "#0d0887"
             ],
             [
              0.1111111111111111,
              "#46039f"
             ],
             [
              0.2222222222222222,
              "#7201a8"
             ],
             [
              0.3333333333333333,
              "#9c179e"
             ],
             [
              0.4444444444444444,
              "#bd3786"
             ],
             [
              0.5555555555555556,
              "#d8576b"
             ],
             [
              0.6666666666666666,
              "#ed7953"
             ],
             [
              0.7777777777777778,
              "#fb9f3a"
             ],
             [
              0.8888888888888888,
              "#fdca26"
             ],
             [
              1,
              "#f0f921"
             ]
            ],
            "type": "heatmap"
           }
          ],
          "heatmapgl": [
           {
            "colorbar": {
             "outlinewidth": 0,
             "ticks": ""
            },
            "colorscale": [
             [
              0,
              "#0d0887"
             ],
             [
              0.1111111111111111,
              "#46039f"
             ],
             [
              0.2222222222222222,
              "#7201a8"
             ],
             [
              0.3333333333333333,
              "#9c179e"
             ],
             [
              0.4444444444444444,
              "#bd3786"
             ],
             [
              0.5555555555555556,
              "#d8576b"
             ],
             [
              0.6666666666666666,
              "#ed7953"
             ],
             [
              0.7777777777777778,
              "#fb9f3a"
             ],
             [
              0.8888888888888888,
              "#fdca26"
             ],
             [
              1,
              "#f0f921"
             ]
            ],
            "type": "heatmapgl"
           }
          ],
          "histogram": [
           {
            "marker": {
             "pattern": {
              "fillmode": "overlay",
              "size": 10,
              "solidity": 0.2
             }
            },
            "type": "histogram"
           }
          ],
          "histogram2d": [
           {
            "colorbar": {
             "outlinewidth": 0,
             "ticks": ""
            },
            "colorscale": [
             [
              0,
              "#0d0887"
             ],
             [
              0.1111111111111111,
              "#46039f"
             ],
             [
              0.2222222222222222,
              "#7201a8"
             ],
             [
              0.3333333333333333,
              "#9c179e"
             ],
             [
              0.4444444444444444,
              "#bd3786"
             ],
             [
              0.5555555555555556,
              "#d8576b"
             ],
             [
              0.6666666666666666,
              "#ed7953"
             ],
             [
              0.7777777777777778,
              "#fb9f3a"
             ],
             [
              0.8888888888888888,
              "#fdca26"
             ],
             [
              1,
              "#f0f921"
             ]
            ],
            "type": "histogram2d"
           }
          ],
          "histogram2dcontour": [
           {
            "colorbar": {
             "outlinewidth": 0,
             "ticks": ""
            },
            "colorscale": [
             [
              0,
              "#0d0887"
             ],
             [
              0.1111111111111111,
              "#46039f"
             ],
             [
              0.2222222222222222,
              "#7201a8"
             ],
             [
              0.3333333333333333,
              "#9c179e"
             ],
             [
              0.4444444444444444,
              "#bd3786"
             ],
             [
              0.5555555555555556,
              "#d8576b"
             ],
             [
              0.6666666666666666,
              "#ed7953"
             ],
             [
              0.7777777777777778,
              "#fb9f3a"
             ],
             [
              0.8888888888888888,
              "#fdca26"
             ],
             [
              1,
              "#f0f921"
             ]
            ],
            "type": "histogram2dcontour"
           }
          ],
          "mesh3d": [
           {
            "colorbar": {
             "outlinewidth": 0,
             "ticks": ""
            },
            "type": "mesh3d"
           }
          ],
          "parcoords": [
           {
            "line": {
             "colorbar": {
              "outlinewidth": 0,
              "ticks": ""
             }
            },
            "type": "parcoords"
           }
          ],
          "pie": [
           {
            "automargin": true,
            "type": "pie"
           }
          ],
          "scatter": [
           {
            "fillpattern": {
             "fillmode": "overlay",
             "size": 10,
             "solidity": 0.2
            },
            "type": "scatter"
           }
          ],
          "scatter3d": [
           {
            "line": {
             "colorbar": {
              "outlinewidth": 0,
              "ticks": ""
             }
            },
            "marker": {
             "colorbar": {
              "outlinewidth": 0,
              "ticks": ""
             }
            },
            "type": "scatter3d"
           }
          ],
          "scattercarpet": [
           {
            "marker": {
             "colorbar": {
              "outlinewidth": 0,
              "ticks": ""
             }
            },
            "type": "scattercarpet"
           }
          ],
          "scattergeo": [
           {
            "marker": {
             "colorbar": {
              "outlinewidth": 0,
              "ticks": ""
             }
            },
            "type": "scattergeo"
           }
          ],
          "scattergl": [
           {
            "marker": {
             "colorbar": {
              "outlinewidth": 0,
              "ticks": ""
             }
            },
            "type": "scattergl"
           }
          ],
          "scattermapbox": [
           {
            "marker": {
             "colorbar": {
              "outlinewidth": 0,
              "ticks": ""
             }
            },
            "type": "scattermapbox"
           }
          ],
          "scatterpolar": [
           {
            "marker": {
             "colorbar": {
              "outlinewidth": 0,
              "ticks": ""
             }
            },
            "type": "scatterpolar"
           }
          ],
          "scatterpolargl": [
           {
            "marker": {
             "colorbar": {
              "outlinewidth": 0,
              "ticks": ""
             }
            },
            "type": "scatterpolargl"
           }
          ],
          "scatterternary": [
           {
            "marker": {
             "colorbar": {
              "outlinewidth": 0,
              "ticks": ""
             }
            },
            "type": "scatterternary"
           }
          ],
          "surface": [
           {
            "colorbar": {
             "outlinewidth": 0,
             "ticks": ""
            },
            "colorscale": [
             [
              0,
              "#0d0887"
             ],
             [
              0.1111111111111111,
              "#46039f"
             ],
             [
              0.2222222222222222,
              "#7201a8"
             ],
             [
              0.3333333333333333,
              "#9c179e"
             ],
             [
              0.4444444444444444,
              "#bd3786"
             ],
             [
              0.5555555555555556,
              "#d8576b"
             ],
             [
              0.6666666666666666,
              "#ed7953"
             ],
             [
              0.7777777777777778,
              "#fb9f3a"
             ],
             [
              0.8888888888888888,
              "#fdca26"
             ],
             [
              1,
              "#f0f921"
             ]
            ],
            "type": "surface"
           }
          ],
          "table": [
           {
            "cells": {
             "fill": {
              "color": "#EBF0F8"
             },
             "line": {
              "color": "white"
             }
            },
            "header": {
             "fill": {
              "color": "#C8D4E3"
             },
             "line": {
              "color": "white"
             }
            },
            "type": "table"
           }
          ]
         },
         "layout": {
          "annotationdefaults": {
           "arrowcolor": "#2a3f5f",
           "arrowhead": 0,
           "arrowwidth": 1
          },
          "autotypenumbers": "strict",
          "coloraxis": {
           "colorbar": {
            "outlinewidth": 0,
            "ticks": ""
           }
          },
          "colorscale": {
           "diverging": [
            [
             0,
             "#8e0152"
            ],
            [
             0.1,
             "#c51b7d"
            ],
            [
             0.2,
             "#de77ae"
            ],
            [
             0.3,
             "#f1b6da"
            ],
            [
             0.4,
             "#fde0ef"
            ],
            [
             0.5,
             "#f7f7f7"
            ],
            [
             0.6,
             "#e6f5d0"
            ],
            [
             0.7,
             "#b8e186"
            ],
            [
             0.8,
             "#7fbc41"
            ],
            [
             0.9,
             "#4d9221"
            ],
            [
             1,
             "#276419"
            ]
           ],
           "sequential": [
            [
             0,
             "#0d0887"
            ],
            [
             0.1111111111111111,
             "#46039f"
            ],
            [
             0.2222222222222222,
             "#7201a8"
            ],
            [
             0.3333333333333333,
             "#9c179e"
            ],
            [
             0.4444444444444444,
             "#bd3786"
            ],
            [
             0.5555555555555556,
             "#d8576b"
            ],
            [
             0.6666666666666666,
             "#ed7953"
            ],
            [
             0.7777777777777778,
             "#fb9f3a"
            ],
            [
             0.8888888888888888,
             "#fdca26"
            ],
            [
             1,
             "#f0f921"
            ]
           ],
           "sequentialminus": [
            [
             0,
             "#0d0887"
            ],
            [
             0.1111111111111111,
             "#46039f"
            ],
            [
             0.2222222222222222,
             "#7201a8"
            ],
            [
             0.3333333333333333,
             "#9c179e"
            ],
            [
             0.4444444444444444,
             "#bd3786"
            ],
            [
             0.5555555555555556,
             "#d8576b"
            ],
            [
             0.6666666666666666,
             "#ed7953"
            ],
            [
             0.7777777777777778,
             "#fb9f3a"
            ],
            [
             0.8888888888888888,
             "#fdca26"
            ],
            [
             1,
             "#f0f921"
            ]
           ]
          },
          "colorway": [
           "#636efa",
           "#EF553B",
           "#00cc96",
           "#ab63fa",
           "#FFA15A",
           "#19d3f3",
           "#FF6692",
           "#B6E880",
           "#FF97FF",
           "#FECB52"
          ],
          "font": {
           "color": "#2a3f5f"
          },
          "geo": {
           "bgcolor": "white",
           "lakecolor": "white",
           "landcolor": "#E5ECF6",
           "showlakes": true,
           "showland": true,
           "subunitcolor": "white"
          },
          "hoverlabel": {
           "align": "left"
          },
          "hovermode": "closest",
          "mapbox": {
           "style": "light"
          },
          "paper_bgcolor": "white",
          "plot_bgcolor": "#E5ECF6",
          "polar": {
           "angularaxis": {
            "gridcolor": "white",
            "linecolor": "white",
            "ticks": ""
           },
           "bgcolor": "#E5ECF6",
           "radialaxis": {
            "gridcolor": "white",
            "linecolor": "white",
            "ticks": ""
           }
          },
          "scene": {
           "xaxis": {
            "backgroundcolor": "#E5ECF6",
            "gridcolor": "white",
            "gridwidth": 2,
            "linecolor": "white",
            "showbackground": true,
            "ticks": "",
            "zerolinecolor": "white"
           },
           "yaxis": {
            "backgroundcolor": "#E5ECF6",
            "gridcolor": "white",
            "gridwidth": 2,
            "linecolor": "white",
            "showbackground": true,
            "ticks": "",
            "zerolinecolor": "white"
           },
           "zaxis": {
            "backgroundcolor": "#E5ECF6",
            "gridcolor": "white",
            "gridwidth": 2,
            "linecolor": "white",
            "showbackground": true,
            "ticks": "",
            "zerolinecolor": "white"
           }
          },
          "shapedefaults": {
           "line": {
            "color": "#2a3f5f"
           }
          },
          "ternary": {
           "aaxis": {
            "gridcolor": "white",
            "linecolor": "white",
            "ticks": ""
           },
           "baxis": {
            "gridcolor": "white",
            "linecolor": "white",
            "ticks": ""
           },
           "bgcolor": "#E5ECF6",
           "caxis": {
            "gridcolor": "white",
            "linecolor": "white",
            "ticks": ""
           }
          },
          "title": {
           "x": 0.05
          },
          "xaxis": {
           "automargin": true,
           "gridcolor": "white",
           "linecolor": "white",
           "ticks": "",
           "title": {
            "standoff": 15
           },
           "zerolinecolor": "white",
           "zerolinewidth": 2
          },
          "yaxis": {
           "automargin": true,
           "gridcolor": "white",
           "linecolor": "white",
           "ticks": "",
           "title": {
            "standoff": 15
           },
           "zerolinecolor": "white",
           "zerolinewidth": 2
          }
         }
        },
        "xaxis": {
         "anchor": "y",
         "domain": [
          0,
          0.31999999999999995
         ],
         "title": {
          "text": "Recall"
         }
        },
        "xaxis2": {
         "anchor": "y2",
         "domain": [
          0.33999999999999997,
          0.6599999999999999
         ],
         "matches": "x",
         "title": {
          "text": "Recall"
         }
        },
        "xaxis3": {
         "anchor": "y3",
         "domain": [
          0.6799999999999999,
          0.9999999999999999
         ],
         "matches": "x",
         "title": {
          "text": "Recall"
         }
        },
        "yaxis": {
         "anchor": "x",
         "domain": [
          0,
          1
         ],
         "title": {
          "text": "Precision"
         }
        },
        "yaxis2": {
         "anchor": "x2",
         "domain": [
          0,
          1
         ],
         "matches": "y",
         "showticklabels": false
        },
        "yaxis3": {
         "anchor": "x3",
         "domain": [
          0,
          1
         ],
         "matches": "y",
         "showticklabels": false
        }
       }
      }
     },
     "metadata": {},
     "output_type": "display_data"
    }
   ],
   "source": [
    "# Visualize precision recall curve\n",
    "fig = px.line(pr_df,x='Recall',y='Precision',facet_col='method',color='method')\n",
    "fig"
   ]
  },
  {
   "attachments": {},
   "cell_type": "markdown",
   "metadata": {},
   "source": [
    "From both the ROC and precision-recall curves we see that the full model has similar performance with the models with only 3 features."
   ]
  },
  {
   "attachments": {},
   "cell_type": "markdown",
   "metadata": {},
   "source": [
    "### Data with imbalanced classes"
   ]
  },
  {
   "attachments": {},
   "cell_type": "markdown",
   "metadata": {},
   "source": [
    "One common problem for modeling is when the classes in the data are highly imbalance, e.g. there are much more negative cases than positive cases. In this section we learn two techniques to settle imbalanced data."
   ]
  },
  {
   "attachments": {},
   "cell_type": "markdown",
   "metadata": {},
   "source": [
    "#### Generate imbalanced data"
   ]
  },
  {
   "cell_type": "code",
   "execution_count": 22,
   "metadata": {},
   "outputs": [
    {
     "data": {
      "text/plain": [
       "1    357\n",
       "0    212\n",
       "Name: target, dtype: int64"
      ]
     },
     "execution_count": 22,
     "metadata": {},
     "output_type": "execute_result"
    }
   ],
   "source": [
    "# The original breast cancer data statistics.\n",
    "y_df.value_counts()"
   ]
  },
  {
   "attachments": {},
   "cell_type": "markdown",
   "metadata": {},
   "source": [
    "For the breast cancer dataset there are more positive cases, but the ratio\n",
    "of number of two classes is not too bad (<2)."
   ]
  },
  {
   "attachments": {},
   "cell_type": "markdown",
   "metadata": {},
   "source": [
    "We synthesize a highly imbalanced dataset, with much more negative cases.\n",
    "1.  We sample with replacement to generate new data with $10000$ records, where the probability to select a positive case ($y=1$) is 0.05, and the probability to select a negative case ($y=0$) is 0.95.\n",
    "2.  Note that data sampled in this say has many duplicate records. We add some Gaussian noise to the independent variable so that the same record in the sampled dataset has slightly different $x$ values.\n",
    "3.  We do a $6:4$ train-test split on the synthesized data."
   ]
  },
  {
   "cell_type": "code",
   "execution_count": 31,
   "metadata": {},
   "outputs": [],
   "source": [
    "# 0.1 probability to sample a negative case.\n",
    "p_array = np.where(y_df.to_numpy()==1,0.05,0.95)\n",
    "\n",
    "# Normalize original data first.\n",
    "X_df = (X_raw-X_raw.mean())/X_raw.std()\n",
    "\n",
    "# Combine input and target.\n",
    "Xy_df = pd.concat([X_df,y_df],axis=1)\n",
    "\n",
    "# Sample 10000 records with prescribed probability.\n",
    "Xy_df_resampled = Xy_df.sample(n=10000,replace=True,weights=p_array,random_state=12,axis=0)\n",
    "\n",
    "# Split input and target from sampled data.\n",
    "X_df_resampled, y_df_resampled = Xy_df_resampled.iloc[:,:-1], Xy_df_resampled.iloc[:,-1]\n",
    "\n",
    "# Add noise to input.\n",
    "X_np_resampled = X_df_resampled.to_numpy()+np.random.normal(scale=3,size=X_df_resampled.to_numpy().shape)\n",
    "X_df_resampled = pd.DataFrame(X_np_resampled,columns=X_df_resampled.columns)"
   ]
  },
  {
   "cell_type": "code",
   "execution_count": 32,
   "metadata": {},
   "outputs": [
    {
     "data": {
      "text/plain": [
       "0    9176\n",
       "1     824\n",
       "Name: target, dtype: int64"
      ]
     },
     "execution_count": 32,
     "metadata": {},
     "output_type": "execute_result"
    }
   ],
   "source": [
    "# The resulting synthetic dataset is highly imbalanced\n",
    "y_df_resampled.value_counts()"
   ]
  },
  {
   "cell_type": "code",
   "execution_count": 34,
   "metadata": {},
   "outputs": [],
   "source": [
    "# We use an approx 6:4 train test splitting\n",
    "np.random.seed(12)\n",
    "cases = ['train','test']\n",
    "case_list = np.random.choice(cases,size=len(X_df_resampled),replace=True,p=[0.6,0.4])\n",
    "\n",
    "X_df_RTrain, y_df_RTrain = X_df_resampled.iloc[case_list=='train'], y_df_resampled.iloc[case_list=='train']\n",
    "X_df_RTest, y_df_RTest = X_df_resampled.iloc[case_list=='test'], y_df_resampled.iloc[case_list=='test']"
   ]
  },
  {
   "attachments": {},
   "cell_type": "markdown",
   "metadata": {},
   "source": [
    "#### Vanilla logistic regression on synthesized data\n",
    "\n",
    "We first fit a vanilla logistic regression on the synthesized data. Note that since this data is highly imbalanced, the accuracy metric can be misleading."
   ]
  },
  {
   "cell_type": "code",
   "execution_count": 35,
   "metadata": {},
   "outputs": [
    {
     "data": {
      "text/html": [
       "<style>#sk-container-id-1 {color: black;background-color: white;}#sk-container-id-1 pre{padding: 0;}#sk-container-id-1 div.sk-toggleable {background-color: white;}#sk-container-id-1 label.sk-toggleable__label {cursor: pointer;display: block;width: 100%;margin-bottom: 0;padding: 0.3em;box-sizing: border-box;text-align: center;}#sk-container-id-1 label.sk-toggleable__label-arrow:before {content: \"▸\";float: left;margin-right: 0.25em;color: #696969;}#sk-container-id-1 label.sk-toggleable__label-arrow:hover:before {color: black;}#sk-container-id-1 div.sk-estimator:hover label.sk-toggleable__label-arrow:before {color: black;}#sk-container-id-1 div.sk-toggleable__content {max-height: 0;max-width: 0;overflow: hidden;text-align: left;background-color: #f0f8ff;}#sk-container-id-1 div.sk-toggleable__content pre {margin: 0.2em;color: black;border-radius: 0.25em;background-color: #f0f8ff;}#sk-container-id-1 input.sk-toggleable__control:checked~div.sk-toggleable__content {max-height: 200px;max-width: 100%;overflow: auto;}#sk-container-id-1 input.sk-toggleable__control:checked~label.sk-toggleable__label-arrow:before {content: \"▾\";}#sk-container-id-1 div.sk-estimator input.sk-toggleable__control:checked~label.sk-toggleable__label {background-color: #d4ebff;}#sk-container-id-1 div.sk-label input.sk-toggleable__control:checked~label.sk-toggleable__label {background-color: #d4ebff;}#sk-container-id-1 input.sk-hidden--visually {border: 0;clip: rect(1px 1px 1px 1px);clip: rect(1px, 1px, 1px, 1px);height: 1px;margin: -1px;overflow: hidden;padding: 0;position: absolute;width: 1px;}#sk-container-id-1 div.sk-estimator {font-family: monospace;background-color: #f0f8ff;border: 1px dotted black;border-radius: 0.25em;box-sizing: border-box;margin-bottom: 0.5em;}#sk-container-id-1 div.sk-estimator:hover {background-color: #d4ebff;}#sk-container-id-1 div.sk-parallel-item::after {content: \"\";width: 100%;border-bottom: 1px solid gray;flex-grow: 1;}#sk-container-id-1 div.sk-label:hover label.sk-toggleable__label {background-color: #d4ebff;}#sk-container-id-1 div.sk-serial::before {content: \"\";position: absolute;border-left: 1px solid gray;box-sizing: border-box;top: 0;bottom: 0;left: 50%;z-index: 0;}#sk-container-id-1 div.sk-serial {display: flex;flex-direction: column;align-items: center;background-color: white;padding-right: 0.2em;padding-left: 0.2em;position: relative;}#sk-container-id-1 div.sk-item {position: relative;z-index: 1;}#sk-container-id-1 div.sk-parallel {display: flex;align-items: stretch;justify-content: center;background-color: white;position: relative;}#sk-container-id-1 div.sk-item::before, #sk-container-id-1 div.sk-parallel-item::before {content: \"\";position: absolute;border-left: 1px solid gray;box-sizing: border-box;top: 0;bottom: 0;left: 50%;z-index: -1;}#sk-container-id-1 div.sk-parallel-item {display: flex;flex-direction: column;z-index: 1;position: relative;background-color: white;}#sk-container-id-1 div.sk-parallel-item:first-child::after {align-self: flex-end;width: 50%;}#sk-container-id-1 div.sk-parallel-item:last-child::after {align-self: flex-start;width: 50%;}#sk-container-id-1 div.sk-parallel-item:only-child::after {width: 0;}#sk-container-id-1 div.sk-dashed-wrapped {border: 1px dashed gray;margin: 0 0.4em 0.5em 0.4em;box-sizing: border-box;padding-bottom: 0.4em;background-color: white;}#sk-container-id-1 div.sk-label label {font-family: monospace;font-weight: bold;display: inline-block;line-height: 1.2em;}#sk-container-id-1 div.sk-label-container {text-align: center;}#sk-container-id-1 div.sk-container {/* jupyter's `normalize.less` sets `[hidden] { display: none; }` but bootstrap.min.css set `[hidden] { display: none !important; }` so we also need the `!important` here to be able to override the default hidden behavior on the sphinx rendered scikit-learn.org. See: https://github.com/scikit-learn/scikit-learn/issues/21755 */display: inline-block !important;position: relative;}#sk-container-id-1 div.sk-text-repr-fallback {display: none;}</style><div id=\"sk-container-id-1\" class=\"sk-top-container\"><div class=\"sk-text-repr-fallback\"><pre>LogisticRegression(solver=&#x27;liblinear&#x27;)</pre><b>In a Jupyter environment, please rerun this cell to show the HTML representation or trust the notebook. <br />On GitHub, the HTML representation is unable to render, please try loading this page with nbviewer.org.</b></div><div class=\"sk-container\" hidden><div class=\"sk-item\"><div class=\"sk-estimator sk-toggleable\"><input class=\"sk-toggleable__control sk-hidden--visually\" id=\"sk-estimator-id-1\" type=\"checkbox\" checked><label for=\"sk-estimator-id-1\" class=\"sk-toggleable__label sk-toggleable__label-arrow\">LogisticRegression</label><div class=\"sk-toggleable__content\"><pre>LogisticRegression(solver=&#x27;liblinear&#x27;)</pre></div></div></div></div></div>"
      ],
      "text/plain": [
       "LogisticRegression(solver='liblinear')"
      ]
     },
     "execution_count": 35,
     "metadata": {},
     "output_type": "execute_result"
    }
   ],
   "source": [
    "# We first fit a standard logistic regression.\n",
    "model = logit(solver='liblinear')\n",
    "model.fit(X_df_RTrain,y_df_RTrain)"
   ]
  },
  {
   "cell_type": "code",
   "execution_count": 36,
   "metadata": {},
   "outputs": [],
   "source": [
    "pred = model.predict_proba(X_df_RTest)"
   ]
  },
  {
   "attachments": {},
   "cell_type": "markdown",
   "metadata": {},
   "source": [
    "We will visualize and compare the prediction results later."
   ]
  },
  {
   "attachments": {},
   "cell_type": "markdown",
   "metadata": {},
   "source": [
    "#### Logistic regression with balanced class weight"
   ]
  },
  {
   "cell_type": "code",
   "execution_count": 37,
   "metadata": {},
   "outputs": [
    {
     "data": {
      "text/html": [
       "<style>#sk-container-id-2 {color: black;background-color: white;}#sk-container-id-2 pre{padding: 0;}#sk-container-id-2 div.sk-toggleable {background-color: white;}#sk-container-id-2 label.sk-toggleable__label {cursor: pointer;display: block;width: 100%;margin-bottom: 0;padding: 0.3em;box-sizing: border-box;text-align: center;}#sk-container-id-2 label.sk-toggleable__label-arrow:before {content: \"▸\";float: left;margin-right: 0.25em;color: #696969;}#sk-container-id-2 label.sk-toggleable__label-arrow:hover:before {color: black;}#sk-container-id-2 div.sk-estimator:hover label.sk-toggleable__label-arrow:before {color: black;}#sk-container-id-2 div.sk-toggleable__content {max-height: 0;max-width: 0;overflow: hidden;text-align: left;background-color: #f0f8ff;}#sk-container-id-2 div.sk-toggleable__content pre {margin: 0.2em;color: black;border-radius: 0.25em;background-color: #f0f8ff;}#sk-container-id-2 input.sk-toggleable__control:checked~div.sk-toggleable__content {max-height: 200px;max-width: 100%;overflow: auto;}#sk-container-id-2 input.sk-toggleable__control:checked~label.sk-toggleable__label-arrow:before {content: \"▾\";}#sk-container-id-2 div.sk-estimator input.sk-toggleable__control:checked~label.sk-toggleable__label {background-color: #d4ebff;}#sk-container-id-2 div.sk-label input.sk-toggleable__control:checked~label.sk-toggleable__label {background-color: #d4ebff;}#sk-container-id-2 input.sk-hidden--visually {border: 0;clip: rect(1px 1px 1px 1px);clip: rect(1px, 1px, 1px, 1px);height: 1px;margin: -1px;overflow: hidden;padding: 0;position: absolute;width: 1px;}#sk-container-id-2 div.sk-estimator {font-family: monospace;background-color: #f0f8ff;border: 1px dotted black;border-radius: 0.25em;box-sizing: border-box;margin-bottom: 0.5em;}#sk-container-id-2 div.sk-estimator:hover {background-color: #d4ebff;}#sk-container-id-2 div.sk-parallel-item::after {content: \"\";width: 100%;border-bottom: 1px solid gray;flex-grow: 1;}#sk-container-id-2 div.sk-label:hover label.sk-toggleable__label {background-color: #d4ebff;}#sk-container-id-2 div.sk-serial::before {content: \"\";position: absolute;border-left: 1px solid gray;box-sizing: border-box;top: 0;bottom: 0;left: 50%;z-index: 0;}#sk-container-id-2 div.sk-serial {display: flex;flex-direction: column;align-items: center;background-color: white;padding-right: 0.2em;padding-left: 0.2em;position: relative;}#sk-container-id-2 div.sk-item {position: relative;z-index: 1;}#sk-container-id-2 div.sk-parallel {display: flex;align-items: stretch;justify-content: center;background-color: white;position: relative;}#sk-container-id-2 div.sk-item::before, #sk-container-id-2 div.sk-parallel-item::before {content: \"\";position: absolute;border-left: 1px solid gray;box-sizing: border-box;top: 0;bottom: 0;left: 50%;z-index: -1;}#sk-container-id-2 div.sk-parallel-item {display: flex;flex-direction: column;z-index: 1;position: relative;background-color: white;}#sk-container-id-2 div.sk-parallel-item:first-child::after {align-self: flex-end;width: 50%;}#sk-container-id-2 div.sk-parallel-item:last-child::after {align-self: flex-start;width: 50%;}#sk-container-id-2 div.sk-parallel-item:only-child::after {width: 0;}#sk-container-id-2 div.sk-dashed-wrapped {border: 1px dashed gray;margin: 0 0.4em 0.5em 0.4em;box-sizing: border-box;padding-bottom: 0.4em;background-color: white;}#sk-container-id-2 div.sk-label label {font-family: monospace;font-weight: bold;display: inline-block;line-height: 1.2em;}#sk-container-id-2 div.sk-label-container {text-align: center;}#sk-container-id-2 div.sk-container {/* jupyter's `normalize.less` sets `[hidden] { display: none; }` but bootstrap.min.css set `[hidden] { display: none !important; }` so we also need the `!important` here to be able to override the default hidden behavior on the sphinx rendered scikit-learn.org. See: https://github.com/scikit-learn/scikit-learn/issues/21755 */display: inline-block !important;position: relative;}#sk-container-id-2 div.sk-text-repr-fallback {display: none;}</style><div id=\"sk-container-id-2\" class=\"sk-top-container\"><div class=\"sk-text-repr-fallback\"><pre>LogisticRegression(class_weight=&#x27;balanced&#x27;, solver=&#x27;liblinear&#x27;)</pre><b>In a Jupyter environment, please rerun this cell to show the HTML representation or trust the notebook. <br />On GitHub, the HTML representation is unable to render, please try loading this page with nbviewer.org.</b></div><div class=\"sk-container\" hidden><div class=\"sk-item\"><div class=\"sk-estimator sk-toggleable\"><input class=\"sk-toggleable__control sk-hidden--visually\" id=\"sk-estimator-id-2\" type=\"checkbox\" checked><label for=\"sk-estimator-id-2\" class=\"sk-toggleable__label sk-toggleable__label-arrow\">LogisticRegression</label><div class=\"sk-toggleable__content\"><pre>LogisticRegression(class_weight=&#x27;balanced&#x27;, solver=&#x27;liblinear&#x27;)</pre></div></div></div></div></div>"
      ],
      "text/plain": [
       "LogisticRegression(class_weight='balanced', solver='liblinear')"
      ]
     },
     "execution_count": 37,
     "metadata": {},
     "output_type": "execute_result"
    }
   ],
   "source": [
    "model_BW = logit(solver='liblinear',class_weight='balanced')\n",
    "model_BW.fit(X_df_RTrain,y_df_RTrain)"
   ]
  },
  {
   "cell_type": "code",
   "execution_count": 38,
   "metadata": {},
   "outputs": [],
   "source": [
    "pred_BW = model_BW.predict_proba(X_df_RTest)"
   ]
  },
  {
   "attachments": {},
   "cell_type": "markdown",
   "metadata": {},
   "source": [
    "#### Using SMOTE to over sample positive cases"
   ]
  },
  {
   "attachments": {},
   "cell_type": "markdown",
   "metadata": {},
   "source": [
    "Another way to cope with highly imbalanced data is to use SMOTE to over-sample minority cases (for our example the positive case). On a high level, SMOTE works in the following way to generate new samples of the minority cases:\n",
    "1.  Randomly select a minority case $x$.\n",
    "2.  Among all the minority cases, find the $k$ minority cases $x_1,x_2,\\cdots,x_k$ that are the top-$k$ closest cases to $x$. Here $k$ is a hyper parameter (usually one set $k=5$).\n",
    "3.  Randomly select $x_i$ from the top-$k$ minority cases.\n",
    "4.  Draw a line segment from $x$ to $x_i$, and generate a new minority sample by randomly select a point on this line segment."
   ]
  },
  {
   "cell_type": "code",
   "execution_count": 39,
   "metadata": {},
   "outputs": [],
   "source": [
    "# Use imbalanced learn package\n",
    "from imblearn.over_sampling import SMOTE"
   ]
  },
  {
   "cell_type": "code",
   "execution_count": 40,
   "metadata": {},
   "outputs": [],
   "source": [
    "# Use SMOTE to resample minority class.\n",
    "smote_sampler = SMOTE(random_state=12,sampling_strategy='minority')\n",
    "X_df_SMOTE, y_df_SMOTE = smote_sampler.fit_resample(X_df_RTrain, y_df_RTrain)"
   ]
  },
  {
   "cell_type": "code",
   "execution_count": 41,
   "metadata": {},
   "outputs": [
    {
     "data": {
      "text/plain": [
       "0    5758\n",
       "1     297\n",
       "Name: target, dtype: int64"
      ]
     },
     "execution_count": 41,
     "metadata": {},
     "output_type": "execute_result"
    }
   ],
   "source": [
    "y_df_RTrain.value_counts()"
   ]
  },
  {
   "cell_type": "code",
   "execution_count": 42,
   "metadata": {},
   "outputs": [
    {
     "data": {
      "text/plain": [
       "0    5758\n",
       "1    5758\n",
       "Name: target, dtype: int64"
      ]
     },
     "execution_count": 42,
     "metadata": {},
     "output_type": "execute_result"
    }
   ],
   "source": [
    "y_df_SMOTE.value_counts()"
   ]
  },
  {
   "attachments": {},
   "cell_type": "markdown",
   "metadata": {},
   "source": [
    "After applying SMOTE we now have equal number of negative and positive cases in the training dataset.\n",
    "\n",
    "WARNING: you should only apply SMOTE or any other resampling techniques on the **training** dataset, and the testing dataset should be kept untouched."
   ]
  },
  {
   "cell_type": "code",
   "execution_count": 43,
   "metadata": {},
   "outputs": [
    {
     "data": {
      "text/html": [
       "<style>#sk-container-id-3 {color: black;background-color: white;}#sk-container-id-3 pre{padding: 0;}#sk-container-id-3 div.sk-toggleable {background-color: white;}#sk-container-id-3 label.sk-toggleable__label {cursor: pointer;display: block;width: 100%;margin-bottom: 0;padding: 0.3em;box-sizing: border-box;text-align: center;}#sk-container-id-3 label.sk-toggleable__label-arrow:before {content: \"▸\";float: left;margin-right: 0.25em;color: #696969;}#sk-container-id-3 label.sk-toggleable__label-arrow:hover:before {color: black;}#sk-container-id-3 div.sk-estimator:hover label.sk-toggleable__label-arrow:before {color: black;}#sk-container-id-3 div.sk-toggleable__content {max-height: 0;max-width: 0;overflow: hidden;text-align: left;background-color: #f0f8ff;}#sk-container-id-3 div.sk-toggleable__content pre {margin: 0.2em;color: black;border-radius: 0.25em;background-color: #f0f8ff;}#sk-container-id-3 input.sk-toggleable__control:checked~div.sk-toggleable__content {max-height: 200px;max-width: 100%;overflow: auto;}#sk-container-id-3 input.sk-toggleable__control:checked~label.sk-toggleable__label-arrow:before {content: \"▾\";}#sk-container-id-3 div.sk-estimator input.sk-toggleable__control:checked~label.sk-toggleable__label {background-color: #d4ebff;}#sk-container-id-3 div.sk-label input.sk-toggleable__control:checked~label.sk-toggleable__label {background-color: #d4ebff;}#sk-container-id-3 input.sk-hidden--visually {border: 0;clip: rect(1px 1px 1px 1px);clip: rect(1px, 1px, 1px, 1px);height: 1px;margin: -1px;overflow: hidden;padding: 0;position: absolute;width: 1px;}#sk-container-id-3 div.sk-estimator {font-family: monospace;background-color: #f0f8ff;border: 1px dotted black;border-radius: 0.25em;box-sizing: border-box;margin-bottom: 0.5em;}#sk-container-id-3 div.sk-estimator:hover {background-color: #d4ebff;}#sk-container-id-3 div.sk-parallel-item::after {content: \"\";width: 100%;border-bottom: 1px solid gray;flex-grow: 1;}#sk-container-id-3 div.sk-label:hover label.sk-toggleable__label {background-color: #d4ebff;}#sk-container-id-3 div.sk-serial::before {content: \"\";position: absolute;border-left: 1px solid gray;box-sizing: border-box;top: 0;bottom: 0;left: 50%;z-index: 0;}#sk-container-id-3 div.sk-serial {display: flex;flex-direction: column;align-items: center;background-color: white;padding-right: 0.2em;padding-left: 0.2em;position: relative;}#sk-container-id-3 div.sk-item {position: relative;z-index: 1;}#sk-container-id-3 div.sk-parallel {display: flex;align-items: stretch;justify-content: center;background-color: white;position: relative;}#sk-container-id-3 div.sk-item::before, #sk-container-id-3 div.sk-parallel-item::before {content: \"\";position: absolute;border-left: 1px solid gray;box-sizing: border-box;top: 0;bottom: 0;left: 50%;z-index: -1;}#sk-container-id-3 div.sk-parallel-item {display: flex;flex-direction: column;z-index: 1;position: relative;background-color: white;}#sk-container-id-3 div.sk-parallel-item:first-child::after {align-self: flex-end;width: 50%;}#sk-container-id-3 div.sk-parallel-item:last-child::after {align-self: flex-start;width: 50%;}#sk-container-id-3 div.sk-parallel-item:only-child::after {width: 0;}#sk-container-id-3 div.sk-dashed-wrapped {border: 1px dashed gray;margin: 0 0.4em 0.5em 0.4em;box-sizing: border-box;padding-bottom: 0.4em;background-color: white;}#sk-container-id-3 div.sk-label label {font-family: monospace;font-weight: bold;display: inline-block;line-height: 1.2em;}#sk-container-id-3 div.sk-label-container {text-align: center;}#sk-container-id-3 div.sk-container {/* jupyter's `normalize.less` sets `[hidden] { display: none; }` but bootstrap.min.css set `[hidden] { display: none !important; }` so we also need the `!important` here to be able to override the default hidden behavior on the sphinx rendered scikit-learn.org. See: https://github.com/scikit-learn/scikit-learn/issues/21755 */display: inline-block !important;position: relative;}#sk-container-id-3 div.sk-text-repr-fallback {display: none;}</style><div id=\"sk-container-id-3\" class=\"sk-top-container\"><div class=\"sk-text-repr-fallback\"><pre>LogisticRegression(solver=&#x27;liblinear&#x27;)</pre><b>In a Jupyter environment, please rerun this cell to show the HTML representation or trust the notebook. <br />On GitHub, the HTML representation is unable to render, please try loading this page with nbviewer.org.</b></div><div class=\"sk-container\" hidden><div class=\"sk-item\"><div class=\"sk-estimator sk-toggleable\"><input class=\"sk-toggleable__control sk-hidden--visually\" id=\"sk-estimator-id-3\" type=\"checkbox\" checked><label for=\"sk-estimator-id-3\" class=\"sk-toggleable__label sk-toggleable__label-arrow\">LogisticRegression</label><div class=\"sk-toggleable__content\"><pre>LogisticRegression(solver=&#x27;liblinear&#x27;)</pre></div></div></div></div></div>"
      ],
      "text/plain": [
       "LogisticRegression(solver='liblinear')"
      ]
     },
     "execution_count": 43,
     "metadata": {},
     "output_type": "execute_result"
    }
   ],
   "source": [
    "model_SMOTE = logit(solver='liblinear')\n",
    "model_SMOTE.fit(X_df_SMOTE,y_df_SMOTE)"
   ]
  },
  {
   "cell_type": "code",
   "execution_count": 44,
   "metadata": {},
   "outputs": [],
   "source": [
    "pred_SMOTE = model_SMOTE.predict_proba(X_df_RTest)"
   ]
  },
  {
   "cell_type": "code",
   "execution_count": 45,
   "metadata": {},
   "outputs": [
    {
     "data": {
      "text/html": [
       "<div>\n",
       "<style scoped>\n",
       "    .dataframe tbody tr th:only-of-type {\n",
       "        vertical-align: middle;\n",
       "    }\n",
       "\n",
       "    .dataframe tbody tr th {\n",
       "        vertical-align: top;\n",
       "    }\n",
       "\n",
       "    .dataframe thead th {\n",
       "        text-align: right;\n",
       "    }\n",
       "</style>\n",
       "<table border=\"1\" class=\"dataframe\">\n",
       "  <thead>\n",
       "    <tr style=\"text-align: right;\">\n",
       "      <th></th>\n",
       "      <th>pred</th>\n",
       "      <th>label</th>\n",
       "      <th>method</th>\n",
       "      <th>binary pred</th>\n",
       "    </tr>\n",
       "  </thead>\n",
       "  <tbody>\n",
       "    <tr>\n",
       "      <th>353</th>\n",
       "      <td>0.021555</td>\n",
       "      <td>0</td>\n",
       "      <td>vanilla</td>\n",
       "      <td>0</td>\n",
       "    </tr>\n",
       "    <tr>\n",
       "      <th>501</th>\n",
       "      <td>0.067937</td>\n",
       "      <td>0</td>\n",
       "      <td>vanilla</td>\n",
       "      <td>0</td>\n",
       "    </tr>\n",
       "    <tr>\n",
       "      <th>492</th>\n",
       "      <td>0.005233</td>\n",
       "      <td>0</td>\n",
       "      <td>vanilla</td>\n",
       "      <td>0</td>\n",
       "    </tr>\n",
       "    <tr>\n",
       "      <th>533</th>\n",
       "      <td>0.030944</td>\n",
       "      <td>0</td>\n",
       "      <td>vanilla</td>\n",
       "      <td>0</td>\n",
       "    </tr>\n",
       "    <tr>\n",
       "      <th>260</th>\n",
       "      <td>0.002443</td>\n",
       "      <td>0</td>\n",
       "      <td>vanilla</td>\n",
       "      <td>0</td>\n",
       "    </tr>\n",
       "    <tr>\n",
       "      <th>...</th>\n",
       "      <td>...</td>\n",
       "      <td>...</td>\n",
       "      <td>...</td>\n",
       "      <td>...</td>\n",
       "    </tr>\n",
       "    <tr>\n",
       "      <th>498</th>\n",
       "      <td>0.049071</td>\n",
       "      <td>0</td>\n",
       "      <td>SMOTE</td>\n",
       "      <td>0</td>\n",
       "    </tr>\n",
       "    <tr>\n",
       "      <th>501</th>\n",
       "      <td>0.089584</td>\n",
       "      <td>0</td>\n",
       "      <td>SMOTE</td>\n",
       "      <td>0</td>\n",
       "    </tr>\n",
       "    <tr>\n",
       "      <th>262</th>\n",
       "      <td>0.038196</td>\n",
       "      <td>0</td>\n",
       "      <td>SMOTE</td>\n",
       "      <td>0</td>\n",
       "    </tr>\n",
       "    <tr>\n",
       "      <th>502</th>\n",
       "      <td>0.812556</td>\n",
       "      <td>1</td>\n",
       "      <td>SMOTE</td>\n",
       "      <td>1</td>\n",
       "    </tr>\n",
       "    <tr>\n",
       "      <th>489</th>\n",
       "      <td>0.644316</td>\n",
       "      <td>0</td>\n",
       "      <td>SMOTE</td>\n",
       "      <td>1</td>\n",
       "    </tr>\n",
       "  </tbody>\n",
       "</table>\n",
       "<p>11835 rows × 4 columns</p>\n",
       "</div>"
      ],
      "text/plain": [
       "         pred  label   method  binary pred\n",
       "353  0.021555      0  vanilla            0\n",
       "501  0.067937      0  vanilla            0\n",
       "492  0.005233      0  vanilla            0\n",
       "533  0.030944      0  vanilla            0\n",
       "260  0.002443      0  vanilla            0\n",
       "..        ...    ...      ...          ...\n",
       "498  0.049071      0    SMOTE            0\n",
       "501  0.089584      0    SMOTE            0\n",
       "262  0.038196      0    SMOTE            0\n",
       "502  0.812556      1    SMOTE            1\n",
       "489  0.644316      0    SMOTE            1\n",
       "\n",
       "[11835 rows x 4 columns]"
      ]
     },
     "execution_count": 45,
     "metadata": {},
     "output_type": "execute_result"
    }
   ],
   "source": [
    "# Gather test results for imbalanced dataset\n",
    "\n",
    "IM_results_df = pd.DataFrame(\n",
    "    {\n",
    "        'pred':np.vstack([pred,pred_BW,pred_SMOTE])[:,1],\n",
    "        'label':pd.concat([y_df_RTest]*3),\n",
    "        'method':['vanilla']*pred.shape[0]+['balanced weight']*pred_BW.shape[0]+['SMOTE']*pred_SMOTE.shape[0]\n",
    "    }\n",
    ")\n",
    "\n",
    "threshold = 0.5\n",
    "\n",
    "IM_results_df['binary pred'] = (IM_results_df['pred']>threshold).astype('int')\n",
    "IM_results_df"
   ]
  },
  {
   "cell_type": "code",
   "execution_count": 37,
   "metadata": {},
   "outputs": [
    {
     "data": {
      "text/html": [
       "<div>\n",
       "<style scoped>\n",
       "    .dataframe tbody tr th:only-of-type {\n",
       "        vertical-align: middle;\n",
       "    }\n",
       "\n",
       "    .dataframe tbody tr th {\n",
       "        vertical-align: top;\n",
       "    }\n",
       "\n",
       "    .dataframe thead th {\n",
       "        text-align: right;\n",
       "    }\n",
       "</style>\n",
       "<table border=\"1\" class=\"dataframe\">\n",
       "  <thead>\n",
       "    <tr style=\"text-align: right;\">\n",
       "      <th></th>\n",
       "      <th>binary pred</th>\n",
       "      <th>0</th>\n",
       "      <th>1</th>\n",
       "    </tr>\n",
       "    <tr>\n",
       "      <th>label</th>\n",
       "      <th>method</th>\n",
       "      <th></th>\n",
       "      <th></th>\n",
       "    </tr>\n",
       "  </thead>\n",
       "  <tbody>\n",
       "    <tr>\n",
       "      <th rowspan=\"3\" valign=\"top\">0</th>\n",
       "      <th>SMOTE</th>\n",
       "      <td>2894</td>\n",
       "      <td>524</td>\n",
       "    </tr>\n",
       "    <tr>\n",
       "      <th>balanced weight</th>\n",
       "      <td>2829</td>\n",
       "      <td>589</td>\n",
       "    </tr>\n",
       "    <tr>\n",
       "      <th>vanilla</th>\n",
       "      <td>3410</td>\n",
       "      <td>8</td>\n",
       "    </tr>\n",
       "    <tr>\n",
       "      <th rowspan=\"3\" valign=\"top\">1</th>\n",
       "      <th>SMOTE</th>\n",
       "      <td>127</td>\n",
       "      <td>400</td>\n",
       "    </tr>\n",
       "    <tr>\n",
       "      <th>balanced weight</th>\n",
       "      <td>116</td>\n",
       "      <td>411</td>\n",
       "    </tr>\n",
       "    <tr>\n",
       "      <th>vanilla</th>\n",
       "      <td>474</td>\n",
       "      <td>53</td>\n",
       "    </tr>\n",
       "  </tbody>\n",
       "</table>\n",
       "</div>"
      ],
      "text/plain": [
       "binary pred               0    1\n",
       "label method                    \n",
       "0     SMOTE            2894  524\n",
       "      balanced weight  2829  589\n",
       "      vanilla          3410    8\n",
       "1     SMOTE             127  400\n",
       "      balanced weight   116  411\n",
       "      vanilla           474   53"
      ]
     },
     "execution_count": 37,
     "metadata": {},
     "output_type": "execute_result"
    }
   ],
   "source": [
    "IM_results_df.groupby(['label','method'])['binary pred'].value_counts().unstack()"
   ]
  },
  {
   "attachments": {},
   "cell_type": "markdown",
   "metadata": {},
   "source": [
    "From the above table we see that vanilla logistic regression performed very badly, as it predicted almost all cases with positive label as negative cases.\n",
    "\n",
    "For such highly unbalanced data, it is very important to choose a proper metric to measure model performance. When the minority case is the positive case (i.e. label with 1), you can use F1 score. Please try by yourself what happens if you use average precision, accuracy, or AUROC as metric.\n",
    "\n",
    "(The F1 score is a score with values in $[0,1]$, and it measures the harmonic mean of precision and recall at the given threshold. The higher the value, the better the model performance.)"
   ]
  },
  {
   "cell_type": "code",
   "execution_count": 46,
   "metadata": {},
   "outputs": [
    {
     "name": "stdout",
     "output_type": "stream",
     "text": [
      "F1 score is 0.1916 for method vanilla \n",
      "F1 score is 0.5376 for method balanced weight \n",
      "F1 score is 0.5348 for method SMOTE \n"
     ]
    }
   ],
   "source": [
    "from sklearn.metrics import f1_score\n",
    "\n",
    "\n",
    "\n",
    "for method in ['vanilla','balanced weight','SMOTE']:\n",
    "    score = f1_score(IM_results_df.query('method==@method')['label'],IM_results_df.query('method==@method')['binary pred'])\n",
    "    print('F1 score is {:.4f} for method {} '.format(score,method))\n"
   ]
  }
 ],
 "metadata": {
  "kernelspec": {
   "display_name": "env3.10",
   "language": "python",
   "name": "python3"
  },
  "language_info": {
   "codemirror_mode": {
    "name": "ipython",
    "version": 3
   },
   "file_extension": ".py",
   "mimetype": "text/x-python",
   "name": "python",
   "nbconvert_exporter": "python",
   "pygments_lexer": "ipython3",
   "version": "3.10.9"
  },
  "orig_nbformat": 4,
  "vscode": {
   "interpreter": {
    "hash": "5ec3c21330053bd888ae0423f793f928621505090c66dc4d3b71e8bb37792d66"
   }
  }
 },
 "nbformat": 4,
 "nbformat_minor": 2
}
