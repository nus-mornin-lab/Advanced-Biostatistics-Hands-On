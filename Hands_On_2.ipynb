{
 "cells": [
  {
   "attachments": {},
   "cell_type": "markdown",
   "metadata": {},
   "source": [
    "# SPH6004 Hands-On 2\n",
    "## Logistic Regression with Regularization, Feature Select\n",
    "\n",
    "Contents:\n",
    "  * Logistic regression with regularization\n",
    "    * Adam optimizer\n",
    "    * AUROC and AP metrics\n",
    "    * Comparison of $L_1$ and $L_2$ regularization effects\n",
    "  * Feature selection methods with `sklearn`\n",
    "    * Forward and backward feature selection using `sklearn`\n",
    "    * Visualize model performance using ROC curve and precision-recall curve\n",
    "  * Data with class imbalance and the **Synthetic Minority Oversampling Technique** (SMOTE)\n"
   ]
  },
  {
   "cell_type": "code",
   "execution_count": 1,
   "metadata": {},
   "outputs": [],
   "source": [
    "# We will be using the following packages\n",
    "\n",
    "# PyTorch package and submodules\n",
    "import torch\n",
    "import torch.nn as nn\n",
    "from torch.optim import SGD #gradient descent optimizer\n",
    "\n",
    "# NumPy for math operations, and Pandas for processing tabular data.\n",
    "import numpy as np\n",
    "import pandas as pd\n",
    "\n",
    "# Plotly plotting package\n",
    "import plotly.graph_objects as go\n",
    "import plotly.express as px\n",
    "\n",
    "# We use toy datasets in scikit-learn package\n",
    "from sklearn.datasets import load_breast_cancer\n",
    "\n",
    "# We use AUROC and average precision (AP) scores from sklearn\n",
    "from sklearn.metrics import roc_auc_score, average_precision_score"
   ]
  },
  {
   "attachments": {},
   "cell_type": "markdown",
   "metadata": {},
   "source": [
    "We use the breast cancer dataset from `sklearn` for demonstration. Recall that the independent variables have $30$ dimension, and many of the dimensions are correlated."
   ]
  },
  {
   "cell_type": "code",
   "execution_count": 2,
   "metadata": {},
   "outputs": [
    {
     "data": {
      "text/html": [
       "<div>\n",
       "<style scoped>\n",
       "    .dataframe tbody tr th:only-of-type {\n",
       "        vertical-align: middle;\n",
       "    }\n",
       "\n",
       "    .dataframe tbody tr th {\n",
       "        vertical-align: top;\n",
       "    }\n",
       "\n",
       "    .dataframe thead th {\n",
       "        text-align: right;\n",
       "    }\n",
       "</style>\n",
       "<table border=\"1\" class=\"dataframe\">\n",
       "  <thead>\n",
       "    <tr style=\"text-align: right;\">\n",
       "      <th></th>\n",
       "      <th>count</th>\n",
       "      <th>mean</th>\n",
       "      <th>std</th>\n",
       "      <th>min</th>\n",
       "      <th>25%</th>\n",
       "      <th>50%</th>\n",
       "      <th>75%</th>\n",
       "      <th>max</th>\n",
       "    </tr>\n",
       "  </thead>\n",
       "  <tbody>\n",
       "    <tr>\n",
       "      <th>mean radius</th>\n",
       "      <td>569.0</td>\n",
       "      <td>-1.311195e-16</td>\n",
       "      <td>1.0</td>\n",
       "      <td>-2.027864</td>\n",
       "      <td>-0.688779</td>\n",
       "      <td>-0.214893</td>\n",
       "      <td>0.468980</td>\n",
       "      <td>3.967796</td>\n",
       "    </tr>\n",
       "    <tr>\n",
       "      <th>mean texture</th>\n",
       "      <td>569.0</td>\n",
       "      <td>6.243785e-17</td>\n",
       "      <td>1.0</td>\n",
       "      <td>-2.227289</td>\n",
       "      <td>-0.725325</td>\n",
       "      <td>-0.104544</td>\n",
       "      <td>0.583662</td>\n",
       "      <td>4.647799</td>\n",
       "    </tr>\n",
       "    <tr>\n",
       "      <th>mean perimeter</th>\n",
       "      <td>569.0</td>\n",
       "      <td>-1.248757e-16</td>\n",
       "      <td>1.0</td>\n",
       "      <td>-1.982759</td>\n",
       "      <td>-0.691347</td>\n",
       "      <td>-0.235773</td>\n",
       "      <td>0.499238</td>\n",
       "      <td>3.972634</td>\n",
       "    </tr>\n",
       "    <tr>\n",
       "      <th>mean area</th>\n",
       "      <td>569.0</td>\n",
       "      <td>-2.185325e-16</td>\n",
       "      <td>1.0</td>\n",
       "      <td>-1.453164</td>\n",
       "      <td>-0.666609</td>\n",
       "      <td>-0.294927</td>\n",
       "      <td>0.363188</td>\n",
       "      <td>5.245913</td>\n",
       "    </tr>\n",
       "    <tr>\n",
       "      <th>mean smoothness</th>\n",
       "      <td>569.0</td>\n",
       "      <td>-8.366672e-16</td>\n",
       "      <td>1.0</td>\n",
       "      <td>-3.109349</td>\n",
       "      <td>-0.710338</td>\n",
       "      <td>-0.034860</td>\n",
       "      <td>0.635640</td>\n",
       "      <td>4.766717</td>\n",
       "    </tr>\n",
       "    <tr>\n",
       "      <th>mean compactness</th>\n",
       "      <td>569.0</td>\n",
       "      <td>1.998011e-16</td>\n",
       "      <td>1.0</td>\n",
       "      <td>-1.608721</td>\n",
       "      <td>-0.746429</td>\n",
       "      <td>-0.221745</td>\n",
       "      <td>0.493423</td>\n",
       "      <td>4.564409</td>\n",
       "    </tr>\n",
       "    <tr>\n",
       "      <th>mean concavity</th>\n",
       "      <td>569.0</td>\n",
       "      <td>3.746271e-17</td>\n",
       "      <td>1.0</td>\n",
       "      <td>-1.113893</td>\n",
       "      <td>-0.743094</td>\n",
       "      <td>-0.341939</td>\n",
       "      <td>0.525599</td>\n",
       "      <td>4.239858</td>\n",
       "    </tr>\n",
       "    <tr>\n",
       "      <th>mean concave points</th>\n",
       "      <td>569.0</td>\n",
       "      <td>-4.995028e-17</td>\n",
       "      <td>1.0</td>\n",
       "      <td>-1.260710</td>\n",
       "      <td>-0.737295</td>\n",
       "      <td>-0.397372</td>\n",
       "      <td>0.646366</td>\n",
       "      <td>3.924477</td>\n",
       "    </tr>\n",
       "    <tr>\n",
       "      <th>mean symmetry</th>\n",
       "      <td>569.0</td>\n",
       "      <td>1.748260e-16</td>\n",
       "      <td>1.0</td>\n",
       "      <td>-2.741705</td>\n",
       "      <td>-0.702621</td>\n",
       "      <td>-0.071564</td>\n",
       "      <td>0.530313</td>\n",
       "      <td>4.480808</td>\n",
       "    </tr>\n",
       "    <tr>\n",
       "      <th>mean fractal dimension</th>\n",
       "      <td>569.0</td>\n",
       "      <td>4.838933e-16</td>\n",
       "      <td>1.0</td>\n",
       "      <td>-1.818265</td>\n",
       "      <td>-0.722004</td>\n",
       "      <td>-0.178123</td>\n",
       "      <td>0.470569</td>\n",
       "      <td>4.906602</td>\n",
       "    </tr>\n",
       "    <tr>\n",
       "      <th>radius error</th>\n",
       "      <td>569.0</td>\n",
       "      <td>2.497514e-16</td>\n",
       "      <td>1.0</td>\n",
       "      <td>-1.058992</td>\n",
       "      <td>-0.623022</td>\n",
       "      <td>-0.291988</td>\n",
       "      <td>0.265866</td>\n",
       "      <td>8.899079</td>\n",
       "    </tr>\n",
       "    <tr>\n",
       "      <th>texture error</th>\n",
       "      <td>569.0</td>\n",
       "      <td>-1.123881e-16</td>\n",
       "      <td>1.0</td>\n",
       "      <td>-1.552898</td>\n",
       "      <td>-0.694198</td>\n",
       "      <td>-0.197324</td>\n",
       "      <td>0.466142</td>\n",
       "      <td>6.649429</td>\n",
       "    </tr>\n",
       "    <tr>\n",
       "      <th>perimeter error</th>\n",
       "      <td>569.0</td>\n",
       "      <td>-1.373633e-16</td>\n",
       "      <td>1.0</td>\n",
       "      <td>-1.043131</td>\n",
       "      <td>-0.623220</td>\n",
       "      <td>-0.286400</td>\n",
       "      <td>0.242817</td>\n",
       "      <td>9.453668</td>\n",
       "    </tr>\n",
       "    <tr>\n",
       "      <th>area error</th>\n",
       "      <td>569.0</td>\n",
       "      <td>-1.186319e-16</td>\n",
       "      <td>1.0</td>\n",
       "      <td>-0.737180</td>\n",
       "      <td>-0.494319</td>\n",
       "      <td>-0.347477</td>\n",
       "      <td>0.106679</td>\n",
       "      <td>11.032135</td>\n",
       "    </tr>\n",
       "    <tr>\n",
       "      <th>smoothness error</th>\n",
       "      <td>569.0</td>\n",
       "      <td>-1.545337e-16</td>\n",
       "      <td>1.0</td>\n",
       "      <td>-1.774504</td>\n",
       "      <td>-0.623470</td>\n",
       "      <td>-0.220142</td>\n",
       "      <td>0.368031</td>\n",
       "      <td>8.022940</td>\n",
       "    </tr>\n",
       "    <tr>\n",
       "      <th>compactness error</th>\n",
       "      <td>569.0</td>\n",
       "      <td>1.873136e-16</td>\n",
       "      <td>1.0</td>\n",
       "      <td>-1.296957</td>\n",
       "      <td>-0.692317</td>\n",
       "      <td>-0.280773</td>\n",
       "      <td>0.389312</td>\n",
       "      <td>6.138081</td>\n",
       "    </tr>\n",
       "    <tr>\n",
       "      <th>concavity error</th>\n",
       "      <td>569.0</td>\n",
       "      <td>1.685822e-16</td>\n",
       "      <td>1.0</td>\n",
       "      <td>-1.056571</td>\n",
       "      <td>-0.556671</td>\n",
       "      <td>-0.198890</td>\n",
       "      <td>0.336456</td>\n",
       "      <td>12.062067</td>\n",
       "    </tr>\n",
       "    <tr>\n",
       "      <th>concave points error</th>\n",
       "      <td>569.0</td>\n",
       "      <td>2.497514e-17</td>\n",
       "      <td>1.0</td>\n",
       "      <td>-1.911765</td>\n",
       "      <td>-0.673897</td>\n",
       "      <td>-0.140372</td>\n",
       "      <td>0.472241</td>\n",
       "      <td>6.643755</td>\n",
       "    </tr>\n",
       "    <tr>\n",
       "      <th>symmetry error</th>\n",
       "      <td>569.0</td>\n",
       "      <td>9.365678e-17</td>\n",
       "      <td>1.0</td>\n",
       "      <td>-1.531542</td>\n",
       "      <td>-0.651108</td>\n",
       "      <td>-0.219238</td>\n",
       "      <td>0.355380</td>\n",
       "      <td>7.065700</td>\n",
       "    </tr>\n",
       "    <tr>\n",
       "      <th>fractal dimension error</th>\n",
       "      <td>569.0</td>\n",
       "      <td>-6.243785e-18</td>\n",
       "      <td>1.0</td>\n",
       "      <td>-1.096004</td>\n",
       "      <td>-0.584604</td>\n",
       "      <td>-0.229738</td>\n",
       "      <td>0.288388</td>\n",
       "      <td>9.842932</td>\n",
       "    </tr>\n",
       "    <tr>\n",
       "      <th>worst radius</th>\n",
       "      <td>569.0</td>\n",
       "      <td>-8.241796e-16</td>\n",
       "      <td>1.0</td>\n",
       "      <td>-1.725382</td>\n",
       "      <td>-0.674328</td>\n",
       "      <td>-0.268803</td>\n",
       "      <td>0.521557</td>\n",
       "      <td>4.090590</td>\n",
       "    </tr>\n",
       "    <tr>\n",
       "      <th>worst texture</th>\n",
       "      <td>569.0</td>\n",
       "      <td>1.248757e-17</td>\n",
       "      <td>1.0</td>\n",
       "      <td>-2.222039</td>\n",
       "      <td>-0.747971</td>\n",
       "      <td>-0.043477</td>\n",
       "      <td>0.657762</td>\n",
       "      <td>3.882489</td>\n",
       "    </tr>\n",
       "    <tr>\n",
       "      <th>worst perimeter</th>\n",
       "      <td>569.0</td>\n",
       "      <td>-3.496520e-16</td>\n",
       "      <td>1.0</td>\n",
       "      <td>-1.691872</td>\n",
       "      <td>-0.688972</td>\n",
       "      <td>-0.285729</td>\n",
       "      <td>0.539804</td>\n",
       "      <td>4.283568</td>\n",
       "    </tr>\n",
       "    <tr>\n",
       "      <th>worst area</th>\n",
       "      <td>569.0</td>\n",
       "      <td>0.000000e+00</td>\n",
       "      <td>1.0</td>\n",
       "      <td>-1.221348</td>\n",
       "      <td>-0.641571</td>\n",
       "      <td>-0.340881</td>\n",
       "      <td>0.357275</td>\n",
       "      <td>5.924959</td>\n",
       "    </tr>\n",
       "    <tr>\n",
       "      <th>worst smoothness</th>\n",
       "      <td>569.0</td>\n",
       "      <td>-2.122887e-16</td>\n",
       "      <td>1.0</td>\n",
       "      <td>-2.680337</td>\n",
       "      <td>-0.690623</td>\n",
       "      <td>-0.046802</td>\n",
       "      <td>0.597020</td>\n",
       "      <td>3.951897</td>\n",
       "    </tr>\n",
       "    <tr>\n",
       "      <th>worst compactness</th>\n",
       "      <td>569.0</td>\n",
       "      <td>-3.621395e-16</td>\n",
       "      <td>1.0</td>\n",
       "      <td>-1.442609</td>\n",
       "      <td>-0.680485</td>\n",
       "      <td>-0.269264</td>\n",
       "      <td>0.539194</td>\n",
       "      <td>5.108382</td>\n",
       "    </tr>\n",
       "    <tr>\n",
       "      <th>worst concavity</th>\n",
       "      <td>569.0</td>\n",
       "      <td>8.741299e-17</td>\n",
       "      <td>1.0</td>\n",
       "      <td>-1.304683</td>\n",
       "      <td>-0.755849</td>\n",
       "      <td>-0.218040</td>\n",
       "      <td>0.530674</td>\n",
       "      <td>4.696536</td>\n",
       "    </tr>\n",
       "    <tr>\n",
       "      <th>worst concave points</th>\n",
       "      <td>569.0</td>\n",
       "      <td>2.122887e-16</td>\n",
       "      <td>1.0</td>\n",
       "      <td>-1.743529</td>\n",
       "      <td>-0.755735</td>\n",
       "      <td>-0.223272</td>\n",
       "      <td>0.711884</td>\n",
       "      <td>2.683516</td>\n",
       "    </tr>\n",
       "    <tr>\n",
       "      <th>worst symmetry</th>\n",
       "      <td>569.0</td>\n",
       "      <td>2.622390e-16</td>\n",
       "      <td>1.0</td>\n",
       "      <td>-2.159060</td>\n",
       "      <td>-0.641299</td>\n",
       "      <td>-0.127297</td>\n",
       "      <td>0.449742</td>\n",
       "      <td>6.040726</td>\n",
       "    </tr>\n",
       "    <tr>\n",
       "      <th>worst fractal dimension</th>\n",
       "      <td>569.0</td>\n",
       "      <td>-5.744282e-16</td>\n",
       "      <td>1.0</td>\n",
       "      <td>-1.600431</td>\n",
       "      <td>-0.691303</td>\n",
       "      <td>-0.216254</td>\n",
       "      <td>0.450366</td>\n",
       "      <td>6.840837</td>\n",
       "    </tr>\n",
       "  </tbody>\n",
       "</table>\n",
       "</div>"
      ],
      "text/plain": [
       "                         count          mean  std       min       25%  \\\n",
       "mean radius              569.0 -1.311195e-16  1.0 -2.027864 -0.688779   \n",
       "mean texture             569.0  6.243785e-17  1.0 -2.227289 -0.725325   \n",
       "mean perimeter           569.0 -1.248757e-16  1.0 -1.982759 -0.691347   \n",
       "mean area                569.0 -2.185325e-16  1.0 -1.453164 -0.666609   \n",
       "mean smoothness          569.0 -8.366672e-16  1.0 -3.109349 -0.710338   \n",
       "mean compactness         569.0  1.998011e-16  1.0 -1.608721 -0.746429   \n",
       "mean concavity           569.0  3.746271e-17  1.0 -1.113893 -0.743094   \n",
       "mean concave points      569.0 -4.995028e-17  1.0 -1.260710 -0.737295   \n",
       "mean symmetry            569.0  1.748260e-16  1.0 -2.741705 -0.702621   \n",
       "mean fractal dimension   569.0  4.838933e-16  1.0 -1.818265 -0.722004   \n",
       "radius error             569.0  2.497514e-16  1.0 -1.058992 -0.623022   \n",
       "texture error            569.0 -1.123881e-16  1.0 -1.552898 -0.694198   \n",
       "perimeter error          569.0 -1.373633e-16  1.0 -1.043131 -0.623220   \n",
       "area error               569.0 -1.186319e-16  1.0 -0.737180 -0.494319   \n",
       "smoothness error         569.0 -1.545337e-16  1.0 -1.774504 -0.623470   \n",
       "compactness error        569.0  1.873136e-16  1.0 -1.296957 -0.692317   \n",
       "concavity error          569.0  1.685822e-16  1.0 -1.056571 -0.556671   \n",
       "concave points error     569.0  2.497514e-17  1.0 -1.911765 -0.673897   \n",
       "symmetry error           569.0  9.365678e-17  1.0 -1.531542 -0.651108   \n",
       "fractal dimension error  569.0 -6.243785e-18  1.0 -1.096004 -0.584604   \n",
       "worst radius             569.0 -8.241796e-16  1.0 -1.725382 -0.674328   \n",
       "worst texture            569.0  1.248757e-17  1.0 -2.222039 -0.747971   \n",
       "worst perimeter          569.0 -3.496520e-16  1.0 -1.691872 -0.688972   \n",
       "worst area               569.0  0.000000e+00  1.0 -1.221348 -0.641571   \n",
       "worst smoothness         569.0 -2.122887e-16  1.0 -2.680337 -0.690623   \n",
       "worst compactness        569.0 -3.621395e-16  1.0 -1.442609 -0.680485   \n",
       "worst concavity          569.0  8.741299e-17  1.0 -1.304683 -0.755849   \n",
       "worst concave points     569.0  2.122887e-16  1.0 -1.743529 -0.755735   \n",
       "worst symmetry           569.0  2.622390e-16  1.0 -2.159060 -0.641299   \n",
       "worst fractal dimension  569.0 -5.744282e-16  1.0 -1.600431 -0.691303   \n",
       "\n",
       "                              50%       75%        max  \n",
       "mean radius             -0.214893  0.468980   3.967796  \n",
       "mean texture            -0.104544  0.583662   4.647799  \n",
       "mean perimeter          -0.235773  0.499238   3.972634  \n",
       "mean area               -0.294927  0.363188   5.245913  \n",
       "mean smoothness         -0.034860  0.635640   4.766717  \n",
       "mean compactness        -0.221745  0.493423   4.564409  \n",
       "mean concavity          -0.341939  0.525599   4.239858  \n",
       "mean concave points     -0.397372  0.646366   3.924477  \n",
       "mean symmetry           -0.071564  0.530313   4.480808  \n",
       "mean fractal dimension  -0.178123  0.470569   4.906602  \n",
       "radius error            -0.291988  0.265866   8.899079  \n",
       "texture error           -0.197324  0.466142   6.649429  \n",
       "perimeter error         -0.286400  0.242817   9.453668  \n",
       "area error              -0.347477  0.106679  11.032135  \n",
       "smoothness error        -0.220142  0.368031   8.022940  \n",
       "compactness error       -0.280773  0.389312   6.138081  \n",
       "concavity error         -0.198890  0.336456  12.062067  \n",
       "concave points error    -0.140372  0.472241   6.643755  \n",
       "symmetry error          -0.219238  0.355380   7.065700  \n",
       "fractal dimension error -0.229738  0.288388   9.842932  \n",
       "worst radius            -0.268803  0.521557   4.090590  \n",
       "worst texture           -0.043477  0.657762   3.882489  \n",
       "worst perimeter         -0.285729  0.539804   4.283568  \n",
       "worst area              -0.340881  0.357275   5.924959  \n",
       "worst smoothness        -0.046802  0.597020   3.951897  \n",
       "worst compactness       -0.269264  0.539194   5.108382  \n",
       "worst concavity         -0.218040  0.530674   4.696536  \n",
       "worst concave points    -0.223272  0.711884   2.683516  \n",
       "worst symmetry          -0.127297  0.449742   6.040726  \n",
       "worst fractal dimension -0.216254  0.450366   6.840837  "
      ]
     },
     "execution_count": 2,
     "metadata": {},
     "output_type": "execute_result"
    }
   ],
   "source": [
    "X_raw, y_df = load_breast_cancer(return_X_y=True, as_frame=True)\n",
    "X_df = (X_raw-X_raw.mean())/X_raw.std()\n",
    "X_df.describe().transpose()"
   ]
  },
  {
   "cell_type": "code",
   "execution_count": 3,
   "metadata": {},
   "outputs": [],
   "source": [
    "# We convert dataframe to PyTorch tensor datatype,\n",
    "# and then split it into training and testing parts.\n",
    "X = torch.tensor(X_df.to_numpy(),dtype=torch.float32)\n",
    "m,n = X.shape\n",
    "y = torch.tensor(y_df.to_numpy(),dtype=torch.float32).reshape(m,1)\n",
    "\n",
    "# We use an approx 6:4 train test splitting\n",
    "cases = ['train','test']\n",
    "case_list = np.random.choice(cases,size=X.shape[0],replace=True,p=[0.6,0.4])\n",
    "X_train = X[case_list=='train']\n",
    "X_test = X[case_list=='test']\n",
    "y_train = y[case_list=='train']\n",
    "y_test = y[case_list=='test']"
   ]
  },
  {
   "attachments": {},
   "cell_type": "markdown",
   "metadata": {},
   "source": [
    "We first fit an ordinary logistic regression model as a baseline. We will use AUROC and average precision (AP) scores to test model performance."
   ]
  },
  {
   "cell_type": "code",
   "execution_count": 4,
   "metadata": {},
   "outputs": [
    {
     "name": "stdout",
     "output_type": "stream",
     "text": [
      "Iter 1: average BCE loss is 0.939\n",
      "Iter 500: average BCE loss is 0.036\n",
      "Iter 1000: average BCE loss is 0.026\n",
      "Iter 1500: average BCE loss is 0.021\n",
      "Iter 2000: average BCE loss is 0.017\n",
      "Iter 2500: average BCE loss is 0.015\n",
      "Iter 3000: average BCE loss is 0.013\n",
      "Iter 3500: average BCE loss is 0.011\n",
      "Iter 4000: average BCE loss is 0.009\n",
      "Iter 4500: average BCE loss is 0.008\n",
      "Iter 5000: average BCE loss is 0.007\n",
      "On test dataset: AUROC 0.987, AP 0.986\n"
     ]
    }
   ],
   "source": [
    "h = torch.nn.Linear(\n",
    "    in_features=n,\n",
    "    out_features=1,\n",
    "    bias=True\n",
    ")\n",
    "sigma = torch.nn.Sigmoid()\n",
    "\n",
    "# Logistic model is linear+sigmoid\n",
    "f = torch.nn.Sequential(\n",
    "    h,\n",
    "    sigma\n",
    ")\n",
    "\n",
    "J_BCE = torch.nn.BCELoss()\n",
    "# We use the Adam optimizer, which is\n",
    "# a variant of gradient descent method with momentum.\n",
    "GD_optimizer = torch.optim.Adam(lr=0.01,params=f.parameters())\n",
    "\n",
    "nIter = 5000\n",
    "printInterval = 500\n",
    "\n",
    "for i in range(nIter):\n",
    "    GD_optimizer.zero_grad()\n",
    "    pred = f(X_train)\n",
    "    loss = J_BCE(pred,y_train)\n",
    "    loss.backward()\n",
    "    GD_optimizer.step()\n",
    "    if i == 0 or ((i+1)%printInterval) == 0:\n",
    "        print('Iter {}: average BCE loss is {:.3f}'.format(i+1,loss.item()))\n",
    "\n",
    "with torch.no_grad():\n",
    "    pred_test = f(X_test)\n",
    "\n",
    "auroc = roc_auc_score(y_test,pred_test)\n",
    "ap = average_precision_score(y_test,pred_test)\n",
    "print('On test dataset: AUROC {:.3f}, AP {:.3f}'.format(auroc,ap))"
   ]
  },
  {
   "cell_type": "code",
   "execution_count": 5,
   "metadata": {},
   "outputs": [],
   "source": [
    "# Let use save the model parameters for later comparisons.\n",
    "# Recall that PyTorch do automatic differentiation, so\n",
    "# model parameters (i.e. h.weight) has gradients information. This\n",
    "# may cause problem for later analysis when gradient is not needed.\n",
    "# Use .detach() to detach gradient information from the weights.\n",
    "\n",
    "weight = h.weight.detach().squeeze().clone()"
   ]
  },
  {
   "attachments": {},
   "cell_type": "markdown",
   "metadata": {},
   "source": [
    "### Logistic Regression with $L_2$ regularization"
   ]
  },
  {
   "attachments": {},
   "cell_type": "markdown",
   "metadata": {},
   "source": [
    "Logistic regression with $L_2$ regularization is also called *ridge logistic regression*. Recall that we add $L_2$ regularization to model parameters:\n",
    "\n",
    "$$\n",
    "J_{L_2}(\\theta) =  J(\\theta) + \\lambda/2 ||\\theta||_2^2,\n",
    "$$\n",
    "\n",
    "where large parameter values are penalized by the $L_2$ norm term\n",
    "\n",
    "$$\n",
    "||\\theta||_2^2 = \\sum_j \\theta_j^2.\n",
    "$$\n",
    "\n",
    "In PyTorch the $L_2$ regularization of model parameters are supported in its build-in optimizers."
   ]
  },
  {
   "cell_type": "code",
   "execution_count": 6,
   "metadata": {},
   "outputs": [
    {
     "name": "stdout",
     "output_type": "stream",
     "text": [
      "Iter 1: average BCE loss is 0.478\n",
      "Iter 50: average BCE loss is 0.103\n",
      "Iter 100: average BCE loss is 0.094\n",
      "Iter 150: average BCE loss is 0.093\n",
      "Iter 200: average BCE loss is 0.092\n",
      "Iter 250: average BCE loss is 0.092\n",
      "Iter 300: average BCE loss is 0.092\n",
      "Iter 350: average BCE loss is 0.092\n",
      "Iter 400: average BCE loss is 0.092\n",
      "Iter 450: average BCE loss is 0.092\n",
      "Iter 500: average BCE loss is 0.092\n",
      "On test dataset: AUROC 0.990, AP 0.992\n"
     ]
    }
   ],
   "source": [
    "h_L2 = torch.nn.Linear(\n",
    "    in_features=n,\n",
    "    out_features=1,\n",
    "    bias=True\n",
    ")\n",
    "sigma = torch.nn.Sigmoid()\n",
    "\n",
    "# Logistic model is linear+sigmoid\n",
    "f_L2 = torch.nn.Sequential(\n",
    "    h_L2,\n",
    "    sigma\n",
    ")\n",
    "\n",
    "J_BCE = torch.nn.BCELoss()\n",
    "\n",
    "# PyTorch optimizer support L2 regularization by\n",
    "# setting the weight_decay parameter, which corresponds to\n",
    "# the regularization strength.\n",
    "GD_optimizer = torch.optim.Adam(lr=0.01,params=f_L2.parameters(),weight_decay=0.05)\n",
    "\n",
    "nIter = 500\n",
    "printInterval = 50\n",
    "\n",
    "for i in range(nIter):\n",
    "    GD_optimizer.zero_grad()\n",
    "    pred = f_L2(X_train)\n",
    "    loss = J_BCE(pred,y_train)\n",
    "    loss.backward()\n",
    "    GD_optimizer.step()\n",
    "    if i == 0 or ((i+1)%printInterval) == 0:\n",
    "        print('Iter {}: average BCE loss is {:.3f}'.format(i+1,loss.item()))\n",
    "\n",
    "with torch.no_grad():\n",
    "    pred_test = f_L2(X_test)\n",
    "\n",
    "auroc = roc_auc_score(y_test,pred_test)\n",
    "ap = average_precision_score(y_test,pred_test)\n",
    "print('On test dataset: AUROC {:.3f}, AP {:.3f}'.format(auroc,ap))"
   ]
  },
  {
   "cell_type": "code",
   "execution_count": 7,
   "metadata": {},
   "outputs": [],
   "source": [
    "weight_L2 = h_L2.weight.detach().squeeze().clone()"
   ]
  },
  {
   "attachments": {},
   "cell_type": "markdown",
   "metadata": {},
   "source": [
    "### Logistic Regression with $L_1$ Regularization\n",
    "\n",
    "Logistic regression with $L_1$ regularization is also called *LASSO logistic regression*. For the LASSO logistic regression, we add $L_1$ regularization to model parameters:\n",
    "\n",
    "$$\n",
    "J_{L_1}(\\theta) = J(\\theta) + \\lambda ||\\theta||_1,\n",
    "$$\n",
    "\n",
    "where large model parameters are $L_1$ norm\n",
    "\n",
    "$$\n",
    "||\\theta||_1 = \\sum_j |\\theta_j|.\n",
    "$$"
   ]
  },
  {
   "attachments": {},
   "cell_type": "markdown",
   "metadata": {},
   "source": [
    "There is no build-in support for $L_1$ regularization in PyTorch, so we will need to build our own code. The idea is to iterate over all parameters of our model, calculate the sum of their absolute value, and the let PyTorch do the differentiation and optimization."
   ]
  },
  {
   "cell_type": "code",
   "execution_count": 8,
   "metadata": {},
   "outputs": [
    {
     "name": "stdout",
     "output_type": "stream",
     "text": [
      "Iter 1: average BCE loss is 0.606\n",
      "Iter 50: average BCE loss is 0.202\n",
      "Iter 100: average BCE loss is 0.199\n",
      "Iter 150: average BCE loss is 0.198\n",
      "Iter 200: average BCE loss is 0.196\n",
      "Iter 250: average BCE loss is 0.196\n",
      "Iter 300: average BCE loss is 0.197\n",
      "Iter 350: average BCE loss is 0.197\n",
      "Iter 400: average BCE loss is 0.197\n",
      "Iter 450: average BCE loss is 0.197\n",
      "Iter 500: average BCE loss is 0.198\n",
      "On test dataset: AUROC 0.986, AP 0.988\n"
     ]
    }
   ],
   "source": [
    "h_L1 = torch.nn.Linear(\n",
    "    in_features=n,\n",
    "    out_features=1,\n",
    "    bias=True\n",
    ")\n",
    "sigma = torch.nn.Sigmoid()\n",
    "\n",
    "# Logistic model is linear+sigmoid\n",
    "f_L1 = torch.nn.Sequential(\n",
    "    h_L1,\n",
    "    sigma\n",
    ")\n",
    "\n",
    "J_BCE = torch.nn.BCELoss()\n",
    "\n",
    "GD_optimizer = torch.optim.Adam(lr=0.01,params=f_L1.parameters(),weight_decay=0.05)\n",
    "\n",
    "# Define L_1 regularization\n",
    "def L1_reg(model,lbd):\n",
    "    result = torch.tensor(0)\n",
    "    for param in model.parameters(): # iterate over all parameters of our model\n",
    "        result = result + param.abs().sum()\n",
    "\n",
    "    return lbd*result\n",
    "\n",
    "\n",
    "nIter = 500\n",
    "printInterval = 50\n",
    "lbd = 0.05 # L1 reg strength\n",
    "\n",
    "for i in range(nIter):\n",
    "    GD_optimizer.zero_grad()\n",
    "    pred = f_L1(X_train)\n",
    "    loss = J_BCE(pred,y_train)\n",
    "    (loss+L1_reg(f_L1,lbd)).backward()\n",
    "    GD_optimizer.step()\n",
    "    if i == 0 or ((i+1)%printInterval) == 0:\n",
    "        print('Iter {}: average BCE loss is {:.3f}'.format(i+1,loss.item()))\n",
    "\n",
    "with torch.no_grad():\n",
    "    pred_test = f_L1(X_test)\n",
    "\n",
    "auroc = roc_auc_score(y_test,pred_test)\n",
    "ap = average_precision_score(y_test,pred_test)\n",
    "print('On test dataset: AUROC {:.3f}, AP {:.3f}'.format(auroc,ap))"
   ]
  },
  {
   "cell_type": "code",
   "execution_count": 9,
   "metadata": {},
   "outputs": [],
   "source": [
    "weight_L1 = h_L1.weight.detach().squeeze().clone()"
   ]
  },
  {
   "attachments": {},
   "cell_type": "markdown",
   "metadata": {},
   "source": [
    "Let us now visualize and compare the weights of the three models."
   ]
  },
  {
   "cell_type": "code",
   "execution_count": 10,
   "metadata": {},
   "outputs": [
    {
     "data": {
      "text/html": [
       "<div>\n",
       "<style scoped>\n",
       "    .dataframe tbody tr th:only-of-type {\n",
       "        vertical-align: middle;\n",
       "    }\n",
       "\n",
       "    .dataframe tbody tr th {\n",
       "        vertical-align: top;\n",
       "    }\n",
       "\n",
       "    .dataframe thead th {\n",
       "        text-align: right;\n",
       "    }\n",
       "</style>\n",
       "<table border=\"1\" class=\"dataframe\">\n",
       "  <thead>\n",
       "    <tr style=\"text-align: right;\">\n",
       "      <th></th>\n",
       "      <th>variable</th>\n",
       "      <th>value</th>\n",
       "    </tr>\n",
       "  </thead>\n",
       "  <tbody>\n",
       "    <tr>\n",
       "      <th>0</th>\n",
       "      <td>vanilla</td>\n",
       "      <td>-1.384546</td>\n",
       "    </tr>\n",
       "    <tr>\n",
       "      <th>1</th>\n",
       "      <td>vanilla</td>\n",
       "      <td>-1.413061</td>\n",
       "    </tr>\n",
       "    <tr>\n",
       "      <th>2</th>\n",
       "      <td>vanilla</td>\n",
       "      <td>-1.537246</td>\n",
       "    </tr>\n",
       "    <tr>\n",
       "      <th>3</th>\n",
       "      <td>vanilla</td>\n",
       "      <td>-1.819569</td>\n",
       "    </tr>\n",
       "    <tr>\n",
       "      <th>4</th>\n",
       "      <td>vanilla</td>\n",
       "      <td>-1.031057</td>\n",
       "    </tr>\n",
       "    <tr>\n",
       "      <th>...</th>\n",
       "      <td>...</td>\n",
       "      <td>...</td>\n",
       "    </tr>\n",
       "    <tr>\n",
       "      <th>85</th>\n",
       "      <td>L1</td>\n",
       "      <td>-0.029292</td>\n",
       "    </tr>\n",
       "    <tr>\n",
       "      <th>86</th>\n",
       "      <td>L1</td>\n",
       "      <td>-0.075525</td>\n",
       "    </tr>\n",
       "    <tr>\n",
       "      <th>87</th>\n",
       "      <td>L1</td>\n",
       "      <td>-0.349122</td>\n",
       "    </tr>\n",
       "    <tr>\n",
       "      <th>88</th>\n",
       "      <td>L1</td>\n",
       "      <td>-0.127571</td>\n",
       "    </tr>\n",
       "    <tr>\n",
       "      <th>89</th>\n",
       "      <td>L1</td>\n",
       "      <td>-0.002192</td>\n",
       "    </tr>\n",
       "  </tbody>\n",
       "</table>\n",
       "<p>90 rows × 2 columns</p>\n",
       "</div>"
      ],
      "text/plain": [
       "   variable     value\n",
       "0   vanilla -1.384546\n",
       "1   vanilla -1.413061\n",
       "2   vanilla -1.537246\n",
       "3   vanilla -1.819569\n",
       "4   vanilla -1.031057\n",
       "..      ...       ...\n",
       "85       L1 -0.029292\n",
       "86       L1 -0.075525\n",
       "87       L1 -0.349122\n",
       "88       L1 -0.127571\n",
       "89       L1 -0.002192\n",
       "\n",
       "[90 rows x 2 columns]"
      ]
     },
     "execution_count": 10,
     "metadata": {},
     "output_type": "execute_result"
    }
   ],
   "source": [
    "weight_df = pd.DataFrame(\n",
    "    {\n",
    "        'vanilla':weight,\n",
    "        'L2':weight_L2,\n",
    "        'L1':weight_L1\n",
    "    }\n",
    ").melt(id_vars=[],value_vars=['vanilla','L2','L1'])\n",
    "weight_df"
   ]
  },
  {
   "cell_type": "code",
   "execution_count": 11,
   "metadata": {},
   "outputs": [
    {
     "data": {
      "application/vnd.plotly.v1+json": {
       "config": {
        "plotlyServerURL": "https://plot.ly"
       },
       "data": [
        {
         "alignmentgroup": "True",
         "boxpoints": "all",
         "hovertemplate": "variable=vanilla<br>value=%{y}<extra></extra>",
         "jitter": 0.5,
         "legendgroup": "vanilla",
         "marker": {
          "color": "#636efa"
         },
         "name": "vanilla",
         "notched": false,
         "offsetgroup": "vanilla",
         "orientation": "v",
         "showlegend": true,
         "type": "box",
         "x0": " ",
         "xaxis": "x",
         "y": [
          -1.3845460414886475,
          -1.413061499595642,
          -1.5372459888458252,
          -1.8195687532424927,
          -1.0310570001602173,
          2.5258285999298096,
          -2.7423229217529297,
          -1.5447055101394653,
          1.1859503984451294,
          3.1989119052886963,
          -2.5684616565704346,
          3.5170462131500244,
          -2.7704272270202637,
          -3.0970990657806396,
          -0.6942263245582581,
          0.8064932823181152,
          -1.3976470232009888,
          0.29545581340789795,
          1.7786515951156616,
          2.5903754234313965,
          -3.2078211307525635,
          -6.811962127685547,
          -2.7533576488494873,
          -3.5721707344055176,
          -4.160974979400635,
          0.21353547275066376,
          -1.6868246793746948,
          -2.9623446464538574,
          -4.918137073516846,
          -0.23561789095401764
         ],
         "y0": " ",
         "yaxis": "y"
        },
        {
         "alignmentgroup": "True",
         "boxpoints": "all",
         "hovertemplate": "variable=L2<br>value=%{y}<extra></extra>",
         "jitter": 0.5,
         "legendgroup": "L2",
         "marker": {
          "color": "#EF553B"
         },
         "name": "L2",
         "notched": false,
         "offsetgroup": "L2",
         "orientation": "v",
         "showlegend": true,
         "type": "box",
         "x0": " ",
         "xaxis": "x2",
         "y": [
          -0.32855644822120667,
          -0.33215317130088806,
          -0.32407957315444946,
          -0.33639243245124817,
          -0.09005492180585861,
          -0.07235784083604813,
          -0.275882363319397,
          -0.3359602987766266,
          -0.09404607117176056,
          0.18956495821475983,
          -0.26478496193885803,
          0.03780059516429901,
          -0.21552643179893494,
          -0.26341870427131653,
          -0.08617938309907913,
          0.11159463971853256,
          0.06525271385908127,
          -0.02747441455721855,
          -0.018067143857479095,
          0.16359855234622955,
          -0.4131433069705963,
          -0.42897117137908936,
          -0.40042513608932495,
          -0.40142548084259033,
          -0.31215426325798035,
          -0.17297163605690002,
          -0.262530654668808,
          -0.3602423667907715,
          -0.3371897041797638,
          -0.041335947811603546
         ],
         "y0": " ",
         "yaxis": "y2"
        },
        {
         "alignmentgroup": "True",
         "boxpoints": "all",
         "hovertemplate": "variable=L1<br>value=%{y}<extra></extra>",
         "jitter": 0.5,
         "legendgroup": "L1",
         "marker": {
          "color": "#00cc96"
         },
         "name": "L1",
         "notched": false,
         "offsetgroup": "L1",
         "orientation": "v",
         "showlegend": true,
         "type": "box",
         "x0": " ",
         "xaxis": "x3",
         "y": [
          -0.14590401947498322,
          -0.05855501815676689,
          -0.16038987040519714,
          -0.14164264500141144,
          -0.005108158569782972,
          -0.0022496934980154037,
          -0.12684451043605804,
          -0.3114809989929199,
          -0.0024668313562870026,
          0.0011948667233809829,
          -0.056105222553014755,
          -0.001362023176625371,
          -0.002371660666540265,
          -0.00362563319504261,
          -0.00011886470019817352,
          0.00042829420999623835,
          -0.0012654608581215143,
          0.0009083349141292274,
          -0.0024349354207515717,
          0.00028232159093022346,
          -0.3358176350593567,
          -0.20326295495033264,
          -0.33986321091651917,
          -0.27498844265937805,
          -0.08514431118965149,
          -0.029291950166225433,
          -0.07552476972341537,
          -0.3491222560405731,
          -0.12757059931755066,
          -0.0021921375300735235
         ],
         "y0": " ",
         "yaxis": "y3"
        }
       ],
       "layout": {
        "annotations": [
         {
          "font": {},
          "showarrow": false,
          "text": "variable=vanilla",
          "x": 0.15999999999999998,
          "xanchor": "center",
          "xref": "paper",
          "y": 1,
          "yanchor": "bottom",
          "yref": "paper"
         },
         {
          "font": {},
          "showarrow": false,
          "text": "variable=L2",
          "x": 0.49999999999999994,
          "xanchor": "center",
          "xref": "paper",
          "y": 1,
          "yanchor": "bottom",
          "yref": "paper"
         },
         {
          "font": {},
          "showarrow": false,
          "text": "variable=L1",
          "x": 0.8399999999999999,
          "xanchor": "center",
          "xref": "paper",
          "y": 1,
          "yanchor": "bottom",
          "yref": "paper"
         }
        ],
        "boxmode": "group",
        "legend": {
         "title": {
          "text": "variable"
         },
         "tracegroupgap": 0
        },
        "template": {
         "data": {
          "bar": [
           {
            "error_x": {
             "color": "#2a3f5f"
            },
            "error_y": {
             "color": "#2a3f5f"
            },
            "marker": {
             "line": {
              "color": "#E5ECF6",
              "width": 0.5
             },
             "pattern": {
              "fillmode": "overlay",
              "size": 10,
              "solidity": 0.2
             }
            },
            "type": "bar"
           }
          ],
          "barpolar": [
           {
            "marker": {
             "line": {
              "color": "#E5ECF6",
              "width": 0.5
             },
             "pattern": {
              "fillmode": "overlay",
              "size": 10,
              "solidity": 0.2
             }
            },
            "type": "barpolar"
           }
          ],
          "carpet": [
           {
            "aaxis": {
             "endlinecolor": "#2a3f5f",
             "gridcolor": "white",
             "linecolor": "white",
             "minorgridcolor": "white",
             "startlinecolor": "#2a3f5f"
            },
            "baxis": {
             "endlinecolor": "#2a3f5f",
             "gridcolor": "white",
             "linecolor": "white",
             "minorgridcolor": "white",
             "startlinecolor": "#2a3f5f"
            },
            "type": "carpet"
           }
          ],
          "choropleth": [
           {
            "colorbar": {
             "outlinewidth": 0,
             "ticks": ""
            },
            "type": "choropleth"
           }
          ],
          "contour": [
           {
            "colorbar": {
             "outlinewidth": 0,
             "ticks": ""
            },
            "colorscale": [
             [
              0,
              "#0d0887"
             ],
             [
              0.1111111111111111,
              "#46039f"
             ],
             [
              0.2222222222222222,
              "#7201a8"
             ],
             [
              0.3333333333333333,
              "#9c179e"
             ],
             [
              0.4444444444444444,
              "#bd3786"
             ],
             [
              0.5555555555555556,
              "#d8576b"
             ],
             [
              0.6666666666666666,
              "#ed7953"
             ],
             [
              0.7777777777777778,
              "#fb9f3a"
             ],
             [
              0.8888888888888888,
              "#fdca26"
             ],
             [
              1,
              "#f0f921"
             ]
            ],
            "type": "contour"
           }
          ],
          "contourcarpet": [
           {
            "colorbar": {
             "outlinewidth": 0,
             "ticks": ""
            },
            "type": "contourcarpet"
           }
          ],
          "heatmap": [
           {
            "colorbar": {
             "outlinewidth": 0,
             "ticks": ""
            },
            "colorscale": [
             [
              0,
              "#0d0887"
             ],
             [
              0.1111111111111111,
              "#46039f"
             ],
             [
              0.2222222222222222,
              "#7201a8"
             ],
             [
              0.3333333333333333,
              "#9c179e"
             ],
             [
              0.4444444444444444,
              "#bd3786"
             ],
             [
              0.5555555555555556,
              "#d8576b"
             ],
             [
              0.6666666666666666,
              "#ed7953"
             ],
             [
              0.7777777777777778,
              "#fb9f3a"
             ],
             [
              0.8888888888888888,
              "#fdca26"
             ],
             [
              1,
              "#f0f921"
             ]
            ],
            "type": "heatmap"
           }
          ],
          "heatmapgl": [
           {
            "colorbar": {
             "outlinewidth": 0,
             "ticks": ""
            },
            "colorscale": [
             [
              0,
              "#0d0887"
             ],
             [
              0.1111111111111111,
              "#46039f"
             ],
             [
              0.2222222222222222,
              "#7201a8"
             ],
             [
              0.3333333333333333,
              "#9c179e"
             ],
             [
              0.4444444444444444,
              "#bd3786"
             ],
             [
              0.5555555555555556,
              "#d8576b"
             ],
             [
              0.6666666666666666,
              "#ed7953"
             ],
             [
              0.7777777777777778,
              "#fb9f3a"
             ],
             [
              0.8888888888888888,
              "#fdca26"
             ],
             [
              1,
              "#f0f921"
             ]
            ],
            "type": "heatmapgl"
           }
          ],
          "histogram": [
           {
            "marker": {
             "pattern": {
              "fillmode": "overlay",
              "size": 10,
              "solidity": 0.2
             }
            },
            "type": "histogram"
           }
          ],
          "histogram2d": [
           {
            "colorbar": {
             "outlinewidth": 0,
             "ticks": ""
            },
            "colorscale": [
             [
              0,
              "#0d0887"
             ],
             [
              0.1111111111111111,
              "#46039f"
             ],
             [
              0.2222222222222222,
              "#7201a8"
             ],
             [
              0.3333333333333333,
              "#9c179e"
             ],
             [
              0.4444444444444444,
              "#bd3786"
             ],
             [
              0.5555555555555556,
              "#d8576b"
             ],
             [
              0.6666666666666666,
              "#ed7953"
             ],
             [
              0.7777777777777778,
              "#fb9f3a"
             ],
             [
              0.8888888888888888,
              "#fdca26"
             ],
             [
              1,
              "#f0f921"
             ]
            ],
            "type": "histogram2d"
           }
          ],
          "histogram2dcontour": [
           {
            "colorbar": {
             "outlinewidth": 0,
             "ticks": ""
            },
            "colorscale": [
             [
              0,
              "#0d0887"
             ],
             [
              0.1111111111111111,
              "#46039f"
             ],
             [
              0.2222222222222222,
              "#7201a8"
             ],
             [
              0.3333333333333333,
              "#9c179e"
             ],
             [
              0.4444444444444444,
              "#bd3786"
             ],
             [
              0.5555555555555556,
              "#d8576b"
             ],
             [
              0.6666666666666666,
              "#ed7953"
             ],
             [
              0.7777777777777778,
              "#fb9f3a"
             ],
             [
              0.8888888888888888,
              "#fdca26"
             ],
             [
              1,
              "#f0f921"
             ]
            ],
            "type": "histogram2dcontour"
           }
          ],
          "mesh3d": [
           {
            "colorbar": {
             "outlinewidth": 0,
             "ticks": ""
            },
            "type": "mesh3d"
           }
          ],
          "parcoords": [
           {
            "line": {
             "colorbar": {
              "outlinewidth": 0,
              "ticks": ""
             }
            },
            "type": "parcoords"
           }
          ],
          "pie": [
           {
            "automargin": true,
            "type": "pie"
           }
          ],
          "scatter": [
           {
            "fillpattern": {
             "fillmode": "overlay",
             "size": 10,
             "solidity": 0.2
            },
            "type": "scatter"
           }
          ],
          "scatter3d": [
           {
            "line": {
             "colorbar": {
              "outlinewidth": 0,
              "ticks": ""
             }
            },
            "marker": {
             "colorbar": {
              "outlinewidth": 0,
              "ticks": ""
             }
            },
            "type": "scatter3d"
           }
          ],
          "scattercarpet": [
           {
            "marker": {
             "colorbar": {
              "outlinewidth": 0,
              "ticks": ""
             }
            },
            "type": "scattercarpet"
           }
          ],
          "scattergeo": [
           {
            "marker": {
             "colorbar": {
              "outlinewidth": 0,
              "ticks": ""
             }
            },
            "type": "scattergeo"
           }
          ],
          "scattergl": [
           {
            "marker": {
             "colorbar": {
              "outlinewidth": 0,
              "ticks": ""
             }
            },
            "type": "scattergl"
           }
          ],
          "scattermapbox": [
           {
            "marker": {
             "colorbar": {
              "outlinewidth": 0,
              "ticks": ""
             }
            },
            "type": "scattermapbox"
           }
          ],
          "scatterpolar": [
           {
            "marker": {
             "colorbar": {
              "outlinewidth": 0,
              "ticks": ""
             }
            },
            "type": "scatterpolar"
           }
          ],
          "scatterpolargl": [
           {
            "marker": {
             "colorbar": {
              "outlinewidth": 0,
              "ticks": ""
             }
            },
            "type": "scatterpolargl"
           }
          ],
          "scatterternary": [
           {
            "marker": {
             "colorbar": {
              "outlinewidth": 0,
              "ticks": ""
             }
            },
            "type": "scatterternary"
           }
          ],
          "surface": [
           {
            "colorbar": {
             "outlinewidth": 0,
             "ticks": ""
            },
            "colorscale": [
             [
              0,
              "#0d0887"
             ],
             [
              0.1111111111111111,
              "#46039f"
             ],
             [
              0.2222222222222222,
              "#7201a8"
             ],
             [
              0.3333333333333333,
              "#9c179e"
             ],
             [
              0.4444444444444444,
              "#bd3786"
             ],
             [
              0.5555555555555556,
              "#d8576b"
             ],
             [
              0.6666666666666666,
              "#ed7953"
             ],
             [
              0.7777777777777778,
              "#fb9f3a"
             ],
             [
              0.8888888888888888,
              "#fdca26"
             ],
             [
              1,
              "#f0f921"
             ]
            ],
            "type": "surface"
           }
          ],
          "table": [
           {
            "cells": {
             "fill": {
              "color": "#EBF0F8"
             },
             "line": {
              "color": "white"
             }
            },
            "header": {
             "fill": {
              "color": "#C8D4E3"
             },
             "line": {
              "color": "white"
             }
            },
            "type": "table"
           }
          ]
         },
         "layout": {
          "annotationdefaults": {
           "arrowcolor": "#2a3f5f",
           "arrowhead": 0,
           "arrowwidth": 1
          },
          "autotypenumbers": "strict",
          "coloraxis": {
           "colorbar": {
            "outlinewidth": 0,
            "ticks": ""
           }
          },
          "colorscale": {
           "diverging": [
            [
             0,
             "#8e0152"
            ],
            [
             0.1,
             "#c51b7d"
            ],
            [
             0.2,
             "#de77ae"
            ],
            [
             0.3,
             "#f1b6da"
            ],
            [
             0.4,
             "#fde0ef"
            ],
            [
             0.5,
             "#f7f7f7"
            ],
            [
             0.6,
             "#e6f5d0"
            ],
            [
             0.7,
             "#b8e186"
            ],
            [
             0.8,
             "#7fbc41"
            ],
            [
             0.9,
             "#4d9221"
            ],
            [
             1,
             "#276419"
            ]
           ],
           "sequential": [
            [
             0,
             "#0d0887"
            ],
            [
             0.1111111111111111,
             "#46039f"
            ],
            [
             0.2222222222222222,
             "#7201a8"
            ],
            [
             0.3333333333333333,
             "#9c179e"
            ],
            [
             0.4444444444444444,
             "#bd3786"
            ],
            [
             0.5555555555555556,
             "#d8576b"
            ],
            [
             0.6666666666666666,
             "#ed7953"
            ],
            [
             0.7777777777777778,
             "#fb9f3a"
            ],
            [
             0.8888888888888888,
             "#fdca26"
            ],
            [
             1,
             "#f0f921"
            ]
           ],
           "sequentialminus": [
            [
             0,
             "#0d0887"
            ],
            [
             0.1111111111111111,
             "#46039f"
            ],
            [
             0.2222222222222222,
             "#7201a8"
            ],
            [
             0.3333333333333333,
             "#9c179e"
            ],
            [
             0.4444444444444444,
             "#bd3786"
            ],
            [
             0.5555555555555556,
             "#d8576b"
            ],
            [
             0.6666666666666666,
             "#ed7953"
            ],
            [
             0.7777777777777778,
             "#fb9f3a"
            ],
            [
             0.8888888888888888,
             "#fdca26"
            ],
            [
             1,
             "#f0f921"
            ]
           ]
          },
          "colorway": [
           "#636efa",
           "#EF553B",
           "#00cc96",
           "#ab63fa",
           "#FFA15A",
           "#19d3f3",
           "#FF6692",
           "#B6E880",
           "#FF97FF",
           "#FECB52"
          ],
          "font": {
           "color": "#2a3f5f"
          },
          "geo": {
           "bgcolor": "white",
           "lakecolor": "white",
           "landcolor": "#E5ECF6",
           "showlakes": true,
           "showland": true,
           "subunitcolor": "white"
          },
          "hoverlabel": {
           "align": "left"
          },
          "hovermode": "closest",
          "mapbox": {
           "style": "light"
          },
          "paper_bgcolor": "white",
          "plot_bgcolor": "#E5ECF6",
          "polar": {
           "angularaxis": {
            "gridcolor": "white",
            "linecolor": "white",
            "ticks": ""
           },
           "bgcolor": "#E5ECF6",
           "radialaxis": {
            "gridcolor": "white",
            "linecolor": "white",
            "ticks": ""
           }
          },
          "scene": {
           "xaxis": {
            "backgroundcolor": "#E5ECF6",
            "gridcolor": "white",
            "gridwidth": 2,
            "linecolor": "white",
            "showbackground": true,
            "ticks": "",
            "zerolinecolor": "white"
           },
           "yaxis": {
            "backgroundcolor": "#E5ECF6",
            "gridcolor": "white",
            "gridwidth": 2,
            "linecolor": "white",
            "showbackground": true,
            "ticks": "",
            "zerolinecolor": "white"
           },
           "zaxis": {
            "backgroundcolor": "#E5ECF6",
            "gridcolor": "white",
            "gridwidth": 2,
            "linecolor": "white",
            "showbackground": true,
            "ticks": "",
            "zerolinecolor": "white"
           }
          },
          "shapedefaults": {
           "line": {
            "color": "#2a3f5f"
           }
          },
          "ternary": {
           "aaxis": {
            "gridcolor": "white",
            "linecolor": "white",
            "ticks": ""
           },
           "baxis": {
            "gridcolor": "white",
            "linecolor": "white",
            "ticks": ""
           },
           "bgcolor": "#E5ECF6",
           "caxis": {
            "gridcolor": "white",
            "linecolor": "white",
            "ticks": ""
           }
          },
          "title": {
           "x": 0.05
          },
          "xaxis": {
           "automargin": true,
           "gridcolor": "white",
           "linecolor": "white",
           "ticks": "",
           "title": {
            "standoff": 15
           },
           "zerolinecolor": "white",
           "zerolinewidth": 2
          },
          "yaxis": {
           "automargin": true,
           "gridcolor": "white",
           "linecolor": "white",
           "ticks": "",
           "title": {
            "standoff": 15
           },
           "zerolinecolor": "white",
           "zerolinewidth": 2
          }
         }
        },
        "title": {
         "text": "Logistic Regression Weights Distributions"
        },
        "xaxis": {
         "anchor": "y",
         "domain": [
          0,
          0.31999999999999995
         ]
        },
        "xaxis2": {
         "anchor": "y2",
         "domain": [
          0.33999999999999997,
          0.6599999999999999
         ],
         "matches": "x"
        },
        "xaxis3": {
         "anchor": "y3",
         "domain": [
          0.6799999999999999,
          0.9999999999999999
         ],
         "matches": "x"
        },
        "yaxis": {
         "anchor": "x",
         "domain": [
          0,
          1
         ],
         "showticklabels": true,
         "title": {
          "text": "value"
         }
        },
        "yaxis2": {
         "anchor": "x2",
         "domain": [
          0,
          1
         ],
         "showticklabels": true
        },
        "yaxis3": {
         "anchor": "x3",
         "domain": [
          0,
          1
         ],
         "showticklabels": true
        }
       }
      }
     },
     "metadata": {},
     "output_type": "display_data"
    }
   ],
   "source": [
    "fig = px.box(\n",
    "    weight_df,\n",
    "    y='value',\n",
    "    facet_col='variable',\n",
    "    color='variable',\n",
    "    points='all',\n",
    "    title='Logistic Regression Weights Distributions'\n",
    ")\n",
    "fig.update_yaxes(\n",
    "    matches=None,\n",
    "    showticklabels=True\n",
    ")\n",
    "fig.update_traces(jitter=0.5)"
   ]
  },
  {
   "attachments": {},
   "cell_type": "markdown",
   "metadata": {},
   "source": [
    "We observe the following:\n",
    "1.  Using regularization makes training much faster.\n",
    "    * The vanilla logistic regression takes more than 5000 iterations to converge.\n",
    "    * Both regularization methods only take 500 iterations to converge.\n",
    "    * The vanilla logistic regression is not numerically stable\n",
    "        * If you have more iterations, you will see all model parameters become larger and larger.\n",
    "        * Both regularization methods do not suffer from this problem.\n",
    "1.  The $L_2$ regularization reduced the range of the logistic regression weights.\n",
    "2.  The $L_1$ regularization not only reduced the range of the weights, but also annihilated many coefficients to zero.\n",
    "\n",
    "The last observation not only apply to logistic regression models with $L_1$ regularization. A common feature selection method is to use the $L_1$ regularization and only select features that have non-zero coefficients. If you increase the regularization strength by enlarging the `lbd` variable in the above codes, you will reduce more parameters to zero."
   ]
  },
  {
   "attachments": {},
   "cell_type": "markdown",
   "metadata": {},
   "source": [
    "### Forward and backward selection methods for features selection\n",
    "\n",
    "Here we demonstrate how to perform forward and backward feature selections.\n",
    "\n",
    "Implementing these selection techniques from scratch require a lot of work (encapsulate model definition and training, write custom cross-validation dataloader, etc.)\n",
    "\n",
    "Therefore we will borrow tools from `sklearn`, and this simplifies feature selection and model fitting into just a few lines of codes. The disadvantage is that the implementation detail is like a black box: you need to dig deep into source codes in `sklearn` to find it out!"
   ]
  },
  {
   "cell_type": "code",
   "execution_count": 12,
   "metadata": {},
   "outputs": [],
   "source": [
    "from sklearn.linear_model import LogisticRegression as logit # use build-in logistic regression model in sklearn\n",
    "from sklearn.feature_selection import SequentialFeatureSelector as SFS\n",
    "from sklearn.metrics import roc_curve, precision_recall_curve"
   ]
  },
  {
   "cell_type": "code",
   "execution_count": 13,
   "metadata": {},
   "outputs": [],
   "source": [
    "# sklearn support fitting model on pandas dataframe.\n",
    "# We use same train test split as before\n",
    "\n",
    "X_df_train = X_df.iloc[case_list=='train',:]\n",
    "X_df_test = X_df.iloc[case_list=='test',:]\n",
    "y_df_train = y_df.iloc[case_list=='train']\n",
    "y_df_test = y_df.iloc[case_list=='test']"
   ]
  },
  {
   "cell_type": "code",
   "execution_count": 47,
   "metadata": {},
   "outputs": [],
   "source": [
    "model = logit(penalty='l1',C=1/10,solver='liblinear') # c: 1/(strength of L1 regularization)\n",
    "\n",
    "# Forward feature selection.\n",
    "forward_selection = SFS(\n",
    "    model, n_features_to_select=3, direction=\"forward\"\n",
    ").fit(X_df_train, y_df_train)\n",
    "\n",
    "# Backward feature selection.\n",
    "backward_selection = SFS(\n",
    "    model, n_features_to_select=3, direction=\"backward\"\n",
    ").fit(X_df_train, y_df_train)"
   ]
  },
  {
   "cell_type": "code",
   "execution_count": 48,
   "metadata": {},
   "outputs": [
    {
     "data": {
      "text/plain": [
       "array(['worst texture', 'worst area', 'worst smoothness'], dtype=object)"
      ]
     },
     "execution_count": 48,
     "metadata": {},
     "output_type": "execute_result"
    }
   ],
   "source": [
    "forward_selection.get_feature_names_out()"
   ]
  },
  {
   "cell_type": "code",
   "execution_count": 49,
   "metadata": {},
   "outputs": [
    {
     "data": {
      "text/plain": [
       "array(['worst texture', 'worst perimeter', 'worst smoothness'],\n",
       "      dtype=object)"
      ]
     },
     "execution_count": 49,
     "metadata": {},
     "output_type": "execute_result"
    }
   ],
   "source": [
    "backward_selection.get_feature_names_out()"
   ]
  },
  {
   "attachments": {},
   "cell_type": "markdown",
   "metadata": {},
   "source": [
    "We see that the forward and backward selections do not agree on the top-5 most important features.\n",
    "\n",
    "After feature selection, we can use `forward_selection` and `backward_selection` to automatically reduce input dimension. Let use fit logistic regression models on the 1) full feature, 2) selected feature and visualize their model performance on test dataset."
   ]
  },
  {
   "cell_type": "code",
   "execution_count": 50,
   "metadata": {},
   "outputs": [],
   "source": [
    "# Full model\n",
    "model.fit(X_df_train,y_df_train)\n",
    "y_pred_full = model.predict_proba(X_df_test)\n",
    "\n",
    "# Model with forward selected features\n",
    "model.fit(forward_selection.transform(X_df_train),y_df_train)\n",
    "y_pred_FS = model.predict_proba(forward_selection.transform(X_df_test))\n",
    "\n",
    "# Model with backward selected features\n",
    "model.fit(backward_selection.transform(X_df_train),y_df_train)\n",
    "y_pred_BS = model.predict_proba(backward_selection.transform(X_df_test))"
   ]
  },
  {
   "cell_type": "code",
   "execution_count": 51,
   "metadata": {},
   "outputs": [],
   "source": [
    "# roc_curve\n",
    "fpr_full, tpr_full, _ = roc_curve(y_df_test,y_pred_full[:,1])\n",
    "fpr_FS, tpr_FS, _ = roc_curve(y_df_test,y_pred_FS[:,1])\n",
    "fpr_BS, tpr_BS, _ = roc_curve(y_df_test,y_pred_BS[:,1])\n",
    "\n",
    "roc_df = pd.DataFrame(\n",
    "    {\n",
    "        'False Positive Rate':np.hstack([fpr_full,fpr_FS,fpr_BS]),\n",
    "        'True Positive Rate':np.hstack([tpr_full,tpr_FS,tpr_BS]),\n",
    "        'method':['full_model']*len(fpr_full)+['FS']*len(fpr_FS)+['BS']*len(fpr_BS)\n",
    "    }\n",
    ")"
   ]
  },
  {
   "cell_type": "code",
   "execution_count": 52,
   "metadata": {},
   "outputs": [
    {
     "data": {
      "application/vnd.plotly.v1+json": {
       "config": {
        "plotlyServerURL": "https://plot.ly"
       },
       "data": [
        {
         "hovertemplate": "method=full_model<br>False Positive Rate=%{x}<br>True Positive Rate=%{y}<extra></extra>",
         "legendgroup": "full_model",
         "line": {
          "color": "#636efa",
          "dash": "solid"
         },
         "marker": {
          "symbol": "circle"
         },
         "mode": "lines",
         "name": "full_model",
         "orientation": "v",
         "showlegend": true,
         "type": "scatter",
         "x": [
          0,
          0,
          0,
          0.011494252873563218,
          0.011494252873563218,
          0.022988505747126436,
          0.022988505747126436,
          0.034482758620689655,
          0.034482758620689655,
          0.04597701149425287,
          0.04597701149425287,
          0.05747126436781609,
          0.05747126436781609,
          0.06896551724137931,
          0.06896551724137931,
          0.09195402298850575,
          0.09195402298850575,
          0.10344827586206896,
          0.10344827586206896,
          1
         ],
         "xaxis": "x",
         "y": [
          0,
          0.007462686567164179,
          0.417910447761194,
          0.417910447761194,
          0.44776119402985076,
          0.44776119402985076,
          0.9402985074626866,
          0.9402985074626866,
          0.9552238805970149,
          0.9552238805970149,
          0.9701492537313433,
          0.9701492537313433,
          0.9776119402985075,
          0.9776119402985075,
          0.9850746268656716,
          0.9850746268656716,
          0.9925373134328358,
          0.9925373134328358,
          1,
          1
         ],
         "yaxis": "y"
        },
        {
         "hovertemplate": "method=FS<br>False Positive Rate=%{x}<br>True Positive Rate=%{y}<extra></extra>",
         "legendgroup": "FS",
         "line": {
          "color": "#EF553B",
          "dash": "solid"
         },
         "marker": {
          "symbol": "circle"
         },
         "mode": "lines",
         "name": "FS",
         "orientation": "v",
         "showlegend": true,
         "type": "scatter",
         "x": [
          0,
          0,
          0,
          0.011494252873563218,
          0.011494252873563218,
          0.022988505747126436,
          0.022988505747126436,
          0.034482758620689655,
          0.034482758620689655,
          0.04597701149425287,
          0.04597701149425287,
          0.06896551724137931,
          0.06896551724137931,
          0.10344827586206896,
          0.10344827586206896,
          0.22988505747126436,
          0.22988505747126436,
          1
         ],
         "xaxis": "x2",
         "y": [
          0,
          0.007462686567164179,
          0.373134328358209,
          0.373134328358209,
          0.5,
          0.5,
          0.7910447761194029,
          0.7910447761194029,
          0.9328358208955224,
          0.9328358208955224,
          0.9626865671641791,
          0.9626865671641791,
          0.9850746268656716,
          0.9850746268656716,
          0.9925373134328358,
          0.9925373134328358,
          1,
          1
         ],
         "yaxis": "y2"
        },
        {
         "hovertemplate": "method=BS<br>False Positive Rate=%{x}<br>True Positive Rate=%{y}<extra></extra>",
         "legendgroup": "BS",
         "line": {
          "color": "#00cc96",
          "dash": "solid"
         },
         "marker": {
          "symbol": "circle"
         },
         "mode": "lines",
         "name": "BS",
         "orientation": "v",
         "showlegend": true,
         "type": "scatter",
         "x": [
          0,
          0,
          0,
          0.011494252873563218,
          0.011494252873563218,
          0.022988505747126436,
          0.022988505747126436,
          0.034482758620689655,
          0.034482758620689655,
          0.04597701149425287,
          0.04597701149425287,
          0.05747126436781609,
          0.05747126436781609,
          0.06896551724137931,
          0.06896551724137931,
          0.1724137931034483,
          0.1724137931034483,
          0.19540229885057472,
          0.19540229885057472,
          1
         ],
         "xaxis": "x3",
         "y": [
          0,
          0.007462686567164179,
          0.3880597014925373,
          0.3880597014925373,
          0.5522388059701493,
          0.5522388059701493,
          0.7611940298507462,
          0.7611940298507462,
          0.9552238805970149,
          0.9552238805970149,
          0.9626865671641791,
          0.9626865671641791,
          0.9776119402985075,
          0.9776119402985075,
          0.9850746268656716,
          0.9850746268656716,
          0.9925373134328358,
          0.9925373134328358,
          1,
          1
         ],
         "yaxis": "y3"
        }
       ],
       "layout": {
        "annotations": [
         {
          "font": {},
          "showarrow": false,
          "text": "method=full_model",
          "x": 0.15999999999999998,
          "xanchor": "center",
          "xref": "paper",
          "y": 1,
          "yanchor": "bottom",
          "yref": "paper"
         },
         {
          "font": {},
          "showarrow": false,
          "text": "method=FS",
          "x": 0.49999999999999994,
          "xanchor": "center",
          "xref": "paper",
          "y": 1,
          "yanchor": "bottom",
          "yref": "paper"
         },
         {
          "font": {},
          "showarrow": false,
          "text": "method=BS",
          "x": 0.8399999999999999,
          "xanchor": "center",
          "xref": "paper",
          "y": 1,
          "yanchor": "bottom",
          "yref": "paper"
         }
        ],
        "legend": {
         "title": {
          "text": "method"
         },
         "tracegroupgap": 0
        },
        "margin": {
         "t": 60
        },
        "template": {
         "data": {
          "bar": [
           {
            "error_x": {
             "color": "#2a3f5f"
            },
            "error_y": {
             "color": "#2a3f5f"
            },
            "marker": {
             "line": {
              "color": "#E5ECF6",
              "width": 0.5
             },
             "pattern": {
              "fillmode": "overlay",
              "size": 10,
              "solidity": 0.2
             }
            },
            "type": "bar"
           }
          ],
          "barpolar": [
           {
            "marker": {
             "line": {
              "color": "#E5ECF6",
              "width": 0.5
             },
             "pattern": {
              "fillmode": "overlay",
              "size": 10,
              "solidity": 0.2
             }
            },
            "type": "barpolar"
           }
          ],
          "carpet": [
           {
            "aaxis": {
             "endlinecolor": "#2a3f5f",
             "gridcolor": "white",
             "linecolor": "white",
             "minorgridcolor": "white",
             "startlinecolor": "#2a3f5f"
            },
            "baxis": {
             "endlinecolor": "#2a3f5f",
             "gridcolor": "white",
             "linecolor": "white",
             "minorgridcolor": "white",
             "startlinecolor": "#2a3f5f"
            },
            "type": "carpet"
           }
          ],
          "choropleth": [
           {
            "colorbar": {
             "outlinewidth": 0,
             "ticks": ""
            },
            "type": "choropleth"
           }
          ],
          "contour": [
           {
            "colorbar": {
             "outlinewidth": 0,
             "ticks": ""
            },
            "colorscale": [
             [
              0,
              "#0d0887"
             ],
             [
              0.1111111111111111,
              "#46039f"
             ],
             [
              0.2222222222222222,
              "#7201a8"
             ],
             [
              0.3333333333333333,
              "#9c179e"
             ],
             [
              0.4444444444444444,
              "#bd3786"
             ],
             [
              0.5555555555555556,
              "#d8576b"
             ],
             [
              0.6666666666666666,
              "#ed7953"
             ],
             [
              0.7777777777777778,
              "#fb9f3a"
             ],
             [
              0.8888888888888888,
              "#fdca26"
             ],
             [
              1,
              "#f0f921"
             ]
            ],
            "type": "contour"
           }
          ],
          "contourcarpet": [
           {
            "colorbar": {
             "outlinewidth": 0,
             "ticks": ""
            },
            "type": "contourcarpet"
           }
          ],
          "heatmap": [
           {
            "colorbar": {
             "outlinewidth": 0,
             "ticks": ""
            },
            "colorscale": [
             [
              0,
              "#0d0887"
             ],
             [
              0.1111111111111111,
              "#46039f"
             ],
             [
              0.2222222222222222,
              "#7201a8"
             ],
             [
              0.3333333333333333,
              "#9c179e"
             ],
             [
              0.4444444444444444,
              "#bd3786"
             ],
             [
              0.5555555555555556,
              "#d8576b"
             ],
             [
              0.6666666666666666,
              "#ed7953"
             ],
             [
              0.7777777777777778,
              "#fb9f3a"
             ],
             [
              0.8888888888888888,
              "#fdca26"
             ],
             [
              1,
              "#f0f921"
             ]
            ],
            "type": "heatmap"
           }
          ],
          "heatmapgl": [
           {
            "colorbar": {
             "outlinewidth": 0,
             "ticks": ""
            },
            "colorscale": [
             [
              0,
              "#0d0887"
             ],
             [
              0.1111111111111111,
              "#46039f"
             ],
             [
              0.2222222222222222,
              "#7201a8"
             ],
             [
              0.3333333333333333,
              "#9c179e"
             ],
             [
              0.4444444444444444,
              "#bd3786"
             ],
             [
              0.5555555555555556,
              "#d8576b"
             ],
             [
              0.6666666666666666,
              "#ed7953"
             ],
             [
              0.7777777777777778,
              "#fb9f3a"
             ],
             [
              0.8888888888888888,
              "#fdca26"
             ],
             [
              1,
              "#f0f921"
             ]
            ],
            "type": "heatmapgl"
           }
          ],
          "histogram": [
           {
            "marker": {
             "pattern": {
              "fillmode": "overlay",
              "size": 10,
              "solidity": 0.2
             }
            },
            "type": "histogram"
           }
          ],
          "histogram2d": [
           {
            "colorbar": {
             "outlinewidth": 0,
             "ticks": ""
            },
            "colorscale": [
             [
              0,
              "#0d0887"
             ],
             [
              0.1111111111111111,
              "#46039f"
             ],
             [
              0.2222222222222222,
              "#7201a8"
             ],
             [
              0.3333333333333333,
              "#9c179e"
             ],
             [
              0.4444444444444444,
              "#bd3786"
             ],
             [
              0.5555555555555556,
              "#d8576b"
             ],
             [
              0.6666666666666666,
              "#ed7953"
             ],
             [
              0.7777777777777778,
              "#fb9f3a"
             ],
             [
              0.8888888888888888,
              "#fdca26"
             ],
             [
              1,
              "#f0f921"
             ]
            ],
            "type": "histogram2d"
           }
          ],
          "histogram2dcontour": [
           {
            "colorbar": {
             "outlinewidth": 0,
             "ticks": ""
            },
            "colorscale": [
             [
              0,
              "#0d0887"
             ],
             [
              0.1111111111111111,
              "#46039f"
             ],
             [
              0.2222222222222222,
              "#7201a8"
             ],
             [
              0.3333333333333333,
              "#9c179e"
             ],
             [
              0.4444444444444444,
              "#bd3786"
             ],
             [
              0.5555555555555556,
              "#d8576b"
             ],
             [
              0.6666666666666666,
              "#ed7953"
             ],
             [
              0.7777777777777778,
              "#fb9f3a"
             ],
             [
              0.8888888888888888,
              "#fdca26"
             ],
             [
              1,
              "#f0f921"
             ]
            ],
            "type": "histogram2dcontour"
           }
          ],
          "mesh3d": [
           {
            "colorbar": {
             "outlinewidth": 0,
             "ticks": ""
            },
            "type": "mesh3d"
           }
          ],
          "parcoords": [
           {
            "line": {
             "colorbar": {
              "outlinewidth": 0,
              "ticks": ""
             }
            },
            "type": "parcoords"
           }
          ],
          "pie": [
           {
            "automargin": true,
            "type": "pie"
           }
          ],
          "scatter": [
           {
            "fillpattern": {
             "fillmode": "overlay",
             "size": 10,
             "solidity": 0.2
            },
            "type": "scatter"
           }
          ],
          "scatter3d": [
           {
            "line": {
             "colorbar": {
              "outlinewidth": 0,
              "ticks": ""
             }
            },
            "marker": {
             "colorbar": {
              "outlinewidth": 0,
              "ticks": ""
             }
            },
            "type": "scatter3d"
           }
          ],
          "scattercarpet": [
           {
            "marker": {
             "colorbar": {
              "outlinewidth": 0,
              "ticks": ""
             }
            },
            "type": "scattercarpet"
           }
          ],
          "scattergeo": [
           {
            "marker": {
             "colorbar": {
              "outlinewidth": 0,
              "ticks": ""
             }
            },
            "type": "scattergeo"
           }
          ],
          "scattergl": [
           {
            "marker": {
             "colorbar": {
              "outlinewidth": 0,
              "ticks": ""
             }
            },
            "type": "scattergl"
           }
          ],
          "scattermapbox": [
           {
            "marker": {
             "colorbar": {
              "outlinewidth": 0,
              "ticks": ""
             }
            },
            "type": "scattermapbox"
           }
          ],
          "scatterpolar": [
           {
            "marker": {
             "colorbar": {
              "outlinewidth": 0,
              "ticks": ""
             }
            },
            "type": "scatterpolar"
           }
          ],
          "scatterpolargl": [
           {
            "marker": {
             "colorbar": {
              "outlinewidth": 0,
              "ticks": ""
             }
            },
            "type": "scatterpolargl"
           }
          ],
          "scatterternary": [
           {
            "marker": {
             "colorbar": {
              "outlinewidth": 0,
              "ticks": ""
             }
            },
            "type": "scatterternary"
           }
          ],
          "surface": [
           {
            "colorbar": {
             "outlinewidth": 0,
             "ticks": ""
            },
            "colorscale": [
             [
              0,
              "#0d0887"
             ],
             [
              0.1111111111111111,
              "#46039f"
             ],
             [
              0.2222222222222222,
              "#7201a8"
             ],
             [
              0.3333333333333333,
              "#9c179e"
             ],
             [
              0.4444444444444444,
              "#bd3786"
             ],
             [
              0.5555555555555556,
              "#d8576b"
             ],
             [
              0.6666666666666666,
              "#ed7953"
             ],
             [
              0.7777777777777778,
              "#fb9f3a"
             ],
             [
              0.8888888888888888,
              "#fdca26"
             ],
             [
              1,
              "#f0f921"
             ]
            ],
            "type": "surface"
           }
          ],
          "table": [
           {
            "cells": {
             "fill": {
              "color": "#EBF0F8"
             },
             "line": {
              "color": "white"
             }
            },
            "header": {
             "fill": {
              "color": "#C8D4E3"
             },
             "line": {
              "color": "white"
             }
            },
            "type": "table"
           }
          ]
         },
         "layout": {
          "annotationdefaults": {
           "arrowcolor": "#2a3f5f",
           "arrowhead": 0,
           "arrowwidth": 1
          },
          "autotypenumbers": "strict",
          "coloraxis": {
           "colorbar": {
            "outlinewidth": 0,
            "ticks": ""
           }
          },
          "colorscale": {
           "diverging": [
            [
             0,
             "#8e0152"
            ],
            [
             0.1,
             "#c51b7d"
            ],
            [
             0.2,
             "#de77ae"
            ],
            [
             0.3,
             "#f1b6da"
            ],
            [
             0.4,
             "#fde0ef"
            ],
            [
             0.5,
             "#f7f7f7"
            ],
            [
             0.6,
             "#e6f5d0"
            ],
            [
             0.7,
             "#b8e186"
            ],
            [
             0.8,
             "#7fbc41"
            ],
            [
             0.9,
             "#4d9221"
            ],
            [
             1,
             "#276419"
            ]
           ],
           "sequential": [
            [
             0,
             "#0d0887"
            ],
            [
             0.1111111111111111,
             "#46039f"
            ],
            [
             0.2222222222222222,
             "#7201a8"
            ],
            [
             0.3333333333333333,
             "#9c179e"
            ],
            [
             0.4444444444444444,
             "#bd3786"
            ],
            [
             0.5555555555555556,
             "#d8576b"
            ],
            [
             0.6666666666666666,
             "#ed7953"
            ],
            [
             0.7777777777777778,
             "#fb9f3a"
            ],
            [
             0.8888888888888888,
             "#fdca26"
            ],
            [
             1,
             "#f0f921"
            ]
           ],
           "sequentialminus": [
            [
             0,
             "#0d0887"
            ],
            [
             0.1111111111111111,
             "#46039f"
            ],
            [
             0.2222222222222222,
             "#7201a8"
            ],
            [
             0.3333333333333333,
             "#9c179e"
            ],
            [
             0.4444444444444444,
             "#bd3786"
            ],
            [
             0.5555555555555556,
             "#d8576b"
            ],
            [
             0.6666666666666666,
             "#ed7953"
            ],
            [
             0.7777777777777778,
             "#fb9f3a"
            ],
            [
             0.8888888888888888,
             "#fdca26"
            ],
            [
             1,
             "#f0f921"
            ]
           ]
          },
          "colorway": [
           "#636efa",
           "#EF553B",
           "#00cc96",
           "#ab63fa",
           "#FFA15A",
           "#19d3f3",
           "#FF6692",
           "#B6E880",
           "#FF97FF",
           "#FECB52"
          ],
          "font": {
           "color": "#2a3f5f"
          },
          "geo": {
           "bgcolor": "white",
           "lakecolor": "white",
           "landcolor": "#E5ECF6",
           "showlakes": true,
           "showland": true,
           "subunitcolor": "white"
          },
          "hoverlabel": {
           "align": "left"
          },
          "hovermode": "closest",
          "mapbox": {
           "style": "light"
          },
          "paper_bgcolor": "white",
          "plot_bgcolor": "#E5ECF6",
          "polar": {
           "angularaxis": {
            "gridcolor": "white",
            "linecolor": "white",
            "ticks": ""
           },
           "bgcolor": "#E5ECF6",
           "radialaxis": {
            "gridcolor": "white",
            "linecolor": "white",
            "ticks": ""
           }
          },
          "scene": {
           "xaxis": {
            "backgroundcolor": "#E5ECF6",
            "gridcolor": "white",
            "gridwidth": 2,
            "linecolor": "white",
            "showbackground": true,
            "ticks": "",
            "zerolinecolor": "white"
           },
           "yaxis": {
            "backgroundcolor": "#E5ECF6",
            "gridcolor": "white",
            "gridwidth": 2,
            "linecolor": "white",
            "showbackground": true,
            "ticks": "",
            "zerolinecolor": "white"
           },
           "zaxis": {
            "backgroundcolor": "#E5ECF6",
            "gridcolor": "white",
            "gridwidth": 2,
            "linecolor": "white",
            "showbackground": true,
            "ticks": "",
            "zerolinecolor": "white"
           }
          },
          "shapedefaults": {
           "line": {
            "color": "#2a3f5f"
           }
          },
          "ternary": {
           "aaxis": {
            "gridcolor": "white",
            "linecolor": "white",
            "ticks": ""
           },
           "baxis": {
            "gridcolor": "white",
            "linecolor": "white",
            "ticks": ""
           },
           "bgcolor": "#E5ECF6",
           "caxis": {
            "gridcolor": "white",
            "linecolor": "white",
            "ticks": ""
           }
          },
          "title": {
           "x": 0.05
          },
          "xaxis": {
           "automargin": true,
           "gridcolor": "white",
           "linecolor": "white",
           "ticks": "",
           "title": {
            "standoff": 15
           },
           "zerolinecolor": "white",
           "zerolinewidth": 2
          },
          "yaxis": {
           "automargin": true,
           "gridcolor": "white",
           "linecolor": "white",
           "ticks": "",
           "title": {
            "standoff": 15
           },
           "zerolinecolor": "white",
           "zerolinewidth": 2
          }
         }
        },
        "xaxis": {
         "anchor": "y",
         "domain": [
          0,
          0.31999999999999995
         ],
         "title": {
          "text": "False Positive Rate"
         }
        },
        "xaxis2": {
         "anchor": "y2",
         "domain": [
          0.33999999999999997,
          0.6599999999999999
         ],
         "matches": "x",
         "title": {
          "text": "False Positive Rate"
         }
        },
        "xaxis3": {
         "anchor": "y3",
         "domain": [
          0.6799999999999999,
          0.9999999999999999
         ],
         "matches": "x",
         "title": {
          "text": "False Positive Rate"
         }
        },
        "yaxis": {
         "anchor": "x",
         "domain": [
          0,
          1
         ],
         "title": {
          "text": "True Positive Rate"
         }
        },
        "yaxis2": {
         "anchor": "x2",
         "domain": [
          0,
          1
         ],
         "matches": "y",
         "showticklabels": false
        },
        "yaxis3": {
         "anchor": "x3",
         "domain": [
          0,
          1
         ],
         "matches": "y",
         "showticklabels": false
        }
       }
      }
     },
     "metadata": {},
     "output_type": "display_data"
    }
   ],
   "source": [
    "# Visualize ROC curve\n",
    "fig = px.line(roc_df,y='True Positive Rate',x='False Positive Rate',facet_col='method',color='method')\n",
    "fig"
   ]
  },
  {
   "cell_type": "code",
   "execution_count": 53,
   "metadata": {},
   "outputs": [],
   "source": [
    "# precision recall curves\n",
    "p_full, r_full, _ = precision_recall_curve(y_df_test,y_pred_full[:,1])\n",
    "p_FS, r_FS, _ = precision_recall_curve(y_df_test,y_pred_FS[:,1])\n",
    "p_BS, r_BS, _ = precision_recall_curve(y_df_test,y_pred_BS[:,1])\n",
    "\n",
    "pr_df = pd.DataFrame(\n",
    "    {\n",
    "        'Precision':np.hstack([p_full,p_FS,p_BS]),\n",
    "        'Recall':np.hstack([r_full,r_FS,r_BS]),\n",
    "        'method':['Full Model']*len(p_full)+['Forward Selection']*len(p_FS)+['Backward Selection']*len(p_BS)\n",
    "    }\n",
    ")"
   ]
  },
  {
   "cell_type": "code",
   "execution_count": 54,
   "metadata": {},
   "outputs": [
    {
     "data": {
      "application/vnd.plotly.v1+json": {
       "config": {
        "plotlyServerURL": "https://plot.ly"
       },
       "data": [
        {
         "hovertemplate": "method=Full Model<br>Recall=%{x}<br>Precision=%{y}<extra></extra>",
         "legendgroup": "Full Model",
         "line": {
          "color": "#636efa",
          "dash": "solid"
         },
         "marker": {
          "symbol": "circle"
         },
         "mode": "lines",
         "name": "Full Model",
         "orientation": "v",
         "showlegend": true,
         "type": "scatter",
         "x": [
          1,
          1,
          1,
          1,
          1,
          1,
          1,
          1,
          1,
          1,
          1,
          1,
          1,
          1,
          1,
          1,
          1,
          1,
          1,
          1,
          1,
          1,
          1,
          1,
          1,
          1,
          1,
          1,
          1,
          1,
          1,
          1,
          1,
          1,
          1,
          1,
          1,
          1,
          1,
          1,
          1,
          1,
          1,
          1,
          1,
          1,
          1,
          1,
          1,
          1,
          1,
          1,
          1,
          1,
          1,
          1,
          1,
          1,
          1,
          1,
          1,
          1,
          1,
          1,
          1,
          1,
          1,
          1,
          1,
          1,
          1,
          1,
          1,
          1,
          1,
          1,
          1,
          1,
          1,
          0.9925373134328358,
          0.9925373134328358,
          0.9850746268656716,
          0.9850746268656716,
          0.9850746268656716,
          0.9776119402985075,
          0.9776119402985075,
          0.9701492537313433,
          0.9701492537313433,
          0.9626865671641791,
          0.9552238805970149,
          0.9552238805970149,
          0.9477611940298507,
          0.9402985074626866,
          0.9402985074626866,
          0.9328358208955224,
          0.9253731343283582,
          0.917910447761194,
          0.9104477611940298,
          0.9029850746268657,
          0.8955223880597015,
          0.8880597014925373,
          0.8805970149253731,
          0.8731343283582089,
          0.8656716417910447,
          0.8582089552238806,
          0.8507462686567164,
          0.8432835820895522,
          0.835820895522388,
          0.8283582089552238,
          0.8208955223880597,
          0.8134328358208955,
          0.8059701492537313,
          0.7985074626865671,
          0.7910447761194029,
          0.7835820895522388,
          0.7761194029850746,
          0.7686567164179104,
          0.7611940298507462,
          0.753731343283582,
          0.746268656716418,
          0.7388059701492538,
          0.7313432835820896,
          0.7238805970149254,
          0.7164179104477612,
          0.7089552238805971,
          0.7014925373134329,
          0.6940298507462687,
          0.6865671641791045,
          0.6791044776119403,
          0.6716417910447762,
          0.664179104477612,
          0.6567164179104478,
          0.6492537313432836,
          0.6417910447761194,
          0.6343283582089553,
          0.6268656716417911,
          0.6194029850746269,
          0.6119402985074627,
          0.6044776119402985,
          0.5970149253731343,
          0.5895522388059702,
          0.582089552238806,
          0.5746268656716418,
          0.5671641791044776,
          0.5597014925373134,
          0.5522388059701493,
          0.5447761194029851,
          0.5373134328358209,
          0.5298507462686567,
          0.5223880597014925,
          0.5149253731343284,
          0.5074626865671642,
          0.5,
          0.4925373134328358,
          0.48507462686567165,
          0.47761194029850745,
          0.4701492537313433,
          0.4626865671641791,
          0.4552238805970149,
          0.44776119402985076,
          0.44776119402985076,
          0.44029850746268656,
          0.43283582089552236,
          0.4253731343283582,
          0.417910447761194,
          0.417910447761194,
          0.41044776119402987,
          0.40298507462686567,
          0.39552238805970147,
          0.3880597014925373,
          0.3805970149253731,
          0.373134328358209,
          0.3656716417910448,
          0.3582089552238806,
          0.35074626865671643,
          0.34328358208955223,
          0.3358208955223881,
          0.3283582089552239,
          0.3208955223880597,
          0.31343283582089554,
          0.30597014925373134,
          0.29850746268656714,
          0.291044776119403,
          0.2835820895522388,
          0.27611940298507465,
          0.26865671641791045,
          0.26119402985074625,
          0.2537313432835821,
          0.2462686567164179,
          0.23880597014925373,
          0.23134328358208955,
          0.22388059701492538,
          0.21641791044776118,
          0.208955223880597,
          0.20149253731343283,
          0.19402985074626866,
          0.1865671641791045,
          0.1791044776119403,
          0.17164179104477612,
          0.16417910447761194,
          0.15671641791044777,
          0.14925373134328357,
          0.1417910447761194,
          0.13432835820895522,
          0.12686567164179105,
          0.11940298507462686,
          0.11194029850746269,
          0.1044776119402985,
          0.09701492537313433,
          0.08955223880597014,
          0.08208955223880597,
          0.07462686567164178,
          0.06716417910447761,
          0.05970149253731343,
          0.05223880597014925,
          0.04477611940298507,
          0.03731343283582089,
          0.029850746268656716,
          0.022388059701492536,
          0.014925373134328358,
          0.007462686567164179,
          0
         ],
         "xaxis": "x",
         "y": [
          0.6063348416289592,
          0.6090909090909091,
          0.6118721461187214,
          0.6146788990825688,
          0.6175115207373272,
          0.6203703703703703,
          0.6232558139534884,
          0.6261682242990654,
          0.6291079812206573,
          0.6320754716981132,
          0.6350710900473934,
          0.638095238095238,
          0.6411483253588517,
          0.6442307692307693,
          0.6473429951690821,
          0.6504854368932039,
          0.6536585365853659,
          0.6568627450980392,
          0.6600985221674877,
          0.6633663366336634,
          0.6666666666666666,
          0.67,
          0.6733668341708543,
          0.6767676767676768,
          0.6802030456852792,
          0.6836734693877551,
          0.6871794871794872,
          0.6907216494845361,
          0.694300518134715,
          0.6979166666666666,
          0.7015706806282722,
          0.7052631578947368,
          0.708994708994709,
          0.7127659574468085,
          0.7165775401069518,
          0.7204301075268817,
          0.7243243243243244,
          0.7282608695652174,
          0.73224043715847,
          0.7362637362637363,
          0.7403314917127072,
          0.7444444444444445,
          0.7486033519553073,
          0.7528089887640449,
          0.7570621468926554,
          0.7613636363636364,
          0.7657142857142857,
          0.7701149425287356,
          0.7745664739884393,
          0.7790697674418605,
          0.783625730994152,
          0.788235294117647,
          0.7928994082840237,
          0.7976190476190477,
          0.8023952095808383,
          0.8072289156626506,
          0.8121212121212121,
          0.8170731707317073,
          0.8220858895705522,
          0.8271604938271605,
          0.8322981366459627,
          0.8375,
          0.8427672955974843,
          0.8481012658227848,
          0.8535031847133758,
          0.8589743589743589,
          0.864516129032258,
          0.8701298701298701,
          0.8758169934640523,
          0.881578947368421,
          0.8874172185430463,
          0.8933333333333333,
          0.8993288590604027,
          0.9054054054054054,
          0.9115646258503401,
          0.9178082191780822,
          0.9241379310344827,
          0.9305555555555556,
          0.9370629370629371,
          0.9366197183098591,
          0.9432624113475178,
          0.9428571428571428,
          0.9496402877697842,
          0.9565217391304348,
          0.9562043795620438,
          0.9632352941176471,
          0.9629629629629629,
          0.9701492537313433,
          0.9699248120300752,
          0.9696969696969697,
          0.9770992366412213,
          0.9769230769230769,
          0.9767441860465116,
          0.984375,
          0.984251968503937,
          0.9841269841269841,
          0.984,
          0.9838709677419355,
          0.983739837398374,
          0.9836065573770492,
          0.9834710743801653,
          0.9833333333333333,
          0.9831932773109243,
          0.9830508474576272,
          0.9829059829059829,
          0.9827586206896551,
          0.9826086956521739,
          0.9824561403508771,
          0.9823008849557522,
          0.9821428571428571,
          0.9819819819819819,
          0.9818181818181818,
          0.981651376146789,
          0.9814814814814815,
          0.9813084112149533,
          0.9811320754716981,
          0.9809523809523809,
          0.9807692307692307,
          0.9805825242718447,
          0.9803921568627451,
          0.9801980198019802,
          0.98,
          0.9797979797979798,
          0.9795918367346939,
          0.979381443298969,
          0.9791666666666666,
          0.9789473684210527,
          0.9787234042553191,
          0.978494623655914,
          0.9782608695652174,
          0.978021978021978,
          0.9777777777777777,
          0.9775280898876404,
          0.9772727272727273,
          0.9770114942528736,
          0.9767441860465116,
          0.9764705882352941,
          0.9761904761904762,
          0.9759036144578314,
          0.975609756097561,
          0.9753086419753086,
          0.975,
          0.9746835443037974,
          0.9743589743589743,
          0.974025974025974,
          0.9736842105263158,
          0.9733333333333334,
          0.972972972972973,
          0.9726027397260274,
          0.9722222222222222,
          0.971830985915493,
          0.9714285714285714,
          0.9710144927536232,
          0.9705882352941176,
          0.9701492537313433,
          0.9696969696969697,
          0.9692307692307692,
          0.96875,
          0.9682539682539683,
          0.967741935483871,
          0.9836065573770492,
          0.9833333333333333,
          0.9830508474576272,
          0.9827586206896551,
          0.9824561403508771,
          1,
          1,
          1,
          1,
          1,
          1,
          1,
          1,
          1,
          1,
          1,
          1,
          1,
          1,
          1,
          1,
          1,
          1,
          1,
          1,
          1,
          1,
          1,
          1,
          1,
          1,
          1,
          1,
          1,
          1,
          1,
          1,
          1,
          1,
          1,
          1,
          1,
          1,
          1,
          1,
          1,
          1,
          1,
          1,
          1,
          1,
          1,
          1,
          1,
          1,
          1,
          1,
          1,
          1,
          1,
          1,
          1
         ],
         "yaxis": "y"
        },
        {
         "hovertemplate": "method=Forward Selection<br>Recall=%{x}<br>Precision=%{y}<extra></extra>",
         "legendgroup": "Forward Selection",
         "line": {
          "color": "#EF553B",
          "dash": "solid"
         },
         "marker": {
          "symbol": "circle"
         },
         "mode": "lines",
         "name": "Forward Selection",
         "orientation": "v",
         "showlegend": true,
         "type": "scatter",
         "x": [
          1,
          1,
          1,
          1,
          1,
          1,
          1,
          1,
          1,
          1,
          1,
          1,
          1,
          1,
          1,
          1,
          1,
          1,
          1,
          1,
          1,
          1,
          1,
          1,
          1,
          1,
          1,
          1,
          1,
          1,
          1,
          1,
          1,
          1,
          1,
          1,
          1,
          1,
          1,
          1,
          1,
          1,
          1,
          1,
          1,
          1,
          1,
          1,
          1,
          1,
          1,
          1,
          1,
          1,
          1,
          1,
          1,
          1,
          1,
          1,
          1,
          1,
          1,
          1,
          1,
          1,
          1,
          1,
          0.9925373134328358,
          0.9925373134328358,
          0.9925373134328358,
          0.9925373134328358,
          0.9925373134328358,
          0.9925373134328358,
          0.9925373134328358,
          0.9925373134328358,
          0.9925373134328358,
          0.9925373134328358,
          0.9925373134328358,
          0.9925373134328358,
          0.9850746268656716,
          0.9850746268656716,
          0.9850746268656716,
          0.9850746268656716,
          0.9776119402985075,
          0.9701492537313433,
          0.9626865671641791,
          0.9626865671641791,
          0.9626865671641791,
          0.9552238805970149,
          0.9477611940298507,
          0.9402985074626866,
          0.9328358208955224,
          0.9328358208955224,
          0.9253731343283582,
          0.917910447761194,
          0.9104477611940298,
          0.9029850746268657,
          0.8955223880597015,
          0.8880597014925373,
          0.8805970149253731,
          0.8731343283582089,
          0.8656716417910447,
          0.8582089552238806,
          0.8507462686567164,
          0.8432835820895522,
          0.835820895522388,
          0.8283582089552238,
          0.8208955223880597,
          0.8134328358208955,
          0.8059701492537313,
          0.7985074626865671,
          0.7910447761194029,
          0.7910447761194029,
          0.7835820895522388,
          0.7761194029850746,
          0.7686567164179104,
          0.7611940298507462,
          0.753731343283582,
          0.746268656716418,
          0.7388059701492538,
          0.7313432835820896,
          0.7238805970149254,
          0.7164179104477612,
          0.7089552238805971,
          0.7014925373134329,
          0.6940298507462687,
          0.6865671641791045,
          0.6791044776119403,
          0.6716417910447762,
          0.664179104477612,
          0.6567164179104478,
          0.6492537313432836,
          0.6417910447761194,
          0.6343283582089553,
          0.6268656716417911,
          0.6194029850746269,
          0.6119402985074627,
          0.6044776119402985,
          0.5970149253731343,
          0.5895522388059702,
          0.582089552238806,
          0.5746268656716418,
          0.5671641791044776,
          0.5597014925373134,
          0.5522388059701493,
          0.5447761194029851,
          0.5373134328358209,
          0.5298507462686567,
          0.5223880597014925,
          0.5149253731343284,
          0.5074626865671642,
          0.5,
          0.5,
          0.4925373134328358,
          0.48507462686567165,
          0.47761194029850745,
          0.4701492537313433,
          0.4626865671641791,
          0.4552238805970149,
          0.44776119402985076,
          0.44029850746268656,
          0.43283582089552236,
          0.4253731343283582,
          0.417910447761194,
          0.41044776119402987,
          0.40298507462686567,
          0.39552238805970147,
          0.3880597014925373,
          0.3805970149253731,
          0.373134328358209,
          0.373134328358209,
          0.3656716417910448,
          0.3582089552238806,
          0.35074626865671643,
          0.34328358208955223,
          0.3358208955223881,
          0.3283582089552239,
          0.3208955223880597,
          0.31343283582089554,
          0.30597014925373134,
          0.29850746268656714,
          0.291044776119403,
          0.2835820895522388,
          0.27611940298507465,
          0.26865671641791045,
          0.26119402985074625,
          0.2537313432835821,
          0.2462686567164179,
          0.23880597014925373,
          0.23134328358208955,
          0.22388059701492538,
          0.21641791044776118,
          0.208955223880597,
          0.20149253731343283,
          0.19402985074626866,
          0.1865671641791045,
          0.1791044776119403,
          0.17164179104477612,
          0.16417910447761194,
          0.15671641791044777,
          0.14925373134328357,
          0.1417910447761194,
          0.13432835820895522,
          0.12686567164179105,
          0.11940298507462686,
          0.11194029850746269,
          0.1044776119402985,
          0.09701492537313433,
          0.08955223880597014,
          0.08208955223880597,
          0.07462686567164178,
          0.06716417910447761,
          0.05970149253731343,
          0.05223880597014925,
          0.04477611940298507,
          0.03731343283582089,
          0.029850746268656716,
          0.022388059701492536,
          0.014925373134328358,
          0.007462686567164179,
          0
         ],
         "xaxis": "x2",
         "y": [
          0.6063348416289592,
          0.6090909090909091,
          0.6118721461187214,
          0.6146788990825688,
          0.6175115207373272,
          0.6203703703703703,
          0.6232558139534884,
          0.6261682242990654,
          0.6291079812206573,
          0.6320754716981132,
          0.6350710900473934,
          0.638095238095238,
          0.6411483253588517,
          0.6442307692307693,
          0.6473429951690821,
          0.6504854368932039,
          0.6536585365853659,
          0.6568627450980392,
          0.6600985221674877,
          0.6633663366336634,
          0.6666666666666666,
          0.67,
          0.6733668341708543,
          0.6767676767676768,
          0.6802030456852792,
          0.6836734693877551,
          0.6871794871794872,
          0.6907216494845361,
          0.694300518134715,
          0.6979166666666666,
          0.7015706806282722,
          0.7052631578947368,
          0.708994708994709,
          0.7127659574468085,
          0.7165775401069518,
          0.7204301075268817,
          0.7243243243243244,
          0.7282608695652174,
          0.73224043715847,
          0.7362637362637363,
          0.7403314917127072,
          0.7444444444444445,
          0.7486033519553073,
          0.7528089887640449,
          0.7570621468926554,
          0.7613636363636364,
          0.7657142857142857,
          0.7701149425287356,
          0.7745664739884393,
          0.7790697674418605,
          0.783625730994152,
          0.788235294117647,
          0.7928994082840237,
          0.7976190476190477,
          0.8023952095808383,
          0.8072289156626506,
          0.8121212121212121,
          0.8170731707317073,
          0.8220858895705522,
          0.8271604938271605,
          0.8322981366459627,
          0.8375,
          0.8427672955974843,
          0.8481012658227848,
          0.8535031847133758,
          0.8589743589743589,
          0.864516129032258,
          0.8701298701298701,
          0.869281045751634,
          0.875,
          0.8807947019867549,
          0.8866666666666667,
          0.8926174496644296,
          0.8986486486486487,
          0.9047619047619048,
          0.910958904109589,
          0.9172413793103448,
          0.9236111111111112,
          0.9300699300699301,
          0.9366197183098591,
          0.9361702127659575,
          0.9428571428571428,
          0.9496402877697842,
          0.9565217391304348,
          0.9562043795620438,
          0.9558823529411765,
          0.9555555555555556,
          0.9626865671641791,
          0.9699248120300752,
          0.9696969696969697,
          0.9694656488549618,
          0.9692307692307692,
          0.9689922480620154,
          0.9765625,
          0.9763779527559056,
          0.9761904761904762,
          0.976,
          0.9758064516129032,
          0.975609756097561,
          0.9754098360655737,
          0.9752066115702479,
          0.975,
          0.9747899159663865,
          0.9745762711864406,
          0.9743589743589743,
          0.9741379310344828,
          0.9739130434782609,
          0.9736842105263158,
          0.9734513274336283,
          0.9732142857142857,
          0.972972972972973,
          0.9727272727272728,
          0.9724770642201835,
          0.9814814814814815,
          0.9813084112149533,
          0.9811320754716981,
          0.9809523809523809,
          0.9807692307692307,
          0.9805825242718447,
          0.9803921568627451,
          0.9801980198019802,
          0.98,
          0.9797979797979798,
          0.9795918367346939,
          0.979381443298969,
          0.9791666666666666,
          0.9789473684210527,
          0.9787234042553191,
          0.978494623655914,
          0.9782608695652174,
          0.978021978021978,
          0.9777777777777777,
          0.9775280898876404,
          0.9772727272727273,
          0.9770114942528736,
          0.9767441860465116,
          0.9764705882352941,
          0.9761904761904762,
          0.9759036144578314,
          0.975609756097561,
          0.9753086419753086,
          0.975,
          0.9746835443037974,
          0.9743589743589743,
          0.974025974025974,
          0.9736842105263158,
          0.9733333333333334,
          0.972972972972973,
          0.9726027397260274,
          0.9722222222222222,
          0.971830985915493,
          0.9714285714285714,
          0.9710144927536232,
          0.9852941176470589,
          0.9850746268656716,
          0.9848484848484849,
          0.9846153846153847,
          0.984375,
          0.9841269841269841,
          0.9838709677419355,
          0.9836065573770492,
          0.9833333333333333,
          0.9830508474576272,
          0.9827586206896551,
          0.9824561403508771,
          0.9821428571428571,
          0.9818181818181818,
          0.9814814814814815,
          0.9811320754716981,
          0.9807692307692307,
          0.9803921568627451,
          1,
          1,
          1,
          1,
          1,
          1,
          1,
          1,
          1,
          1,
          1,
          1,
          1,
          1,
          1,
          1,
          1,
          1,
          1,
          1,
          1,
          1,
          1,
          1,
          1,
          1,
          1,
          1,
          1,
          1,
          1,
          1,
          1,
          1,
          1,
          1,
          1,
          1,
          1,
          1,
          1,
          1,
          1,
          1,
          1,
          1,
          1,
          1,
          1,
          1,
          1
         ],
         "yaxis": "y2"
        },
        {
         "hovertemplate": "method=Backward Selection<br>Recall=%{x}<br>Precision=%{y}<extra></extra>",
         "legendgroup": "Backward Selection",
         "line": {
          "color": "#00cc96",
          "dash": "solid"
         },
         "marker": {
          "symbol": "circle"
         },
         "mode": "lines",
         "name": "Backward Selection",
         "orientation": "v",
         "showlegend": true,
         "type": "scatter",
         "x": [
          1,
          1,
          1,
          1,
          1,
          1,
          1,
          1,
          1,
          1,
          1,
          1,
          1,
          1,
          1,
          1,
          1,
          1,
          1,
          1,
          1,
          1,
          1,
          1,
          1,
          1,
          1,
          1,
          1,
          1,
          1,
          1,
          1,
          1,
          1,
          1,
          1,
          1,
          1,
          1,
          1,
          1,
          1,
          1,
          1,
          1,
          1,
          1,
          1,
          1,
          1,
          1,
          1,
          1,
          1,
          1,
          1,
          1,
          1,
          1,
          1,
          1,
          1,
          1,
          1,
          1,
          1,
          1,
          1,
          1,
          1,
          0.9925373134328358,
          0.9925373134328358,
          0.9925373134328358,
          0.9850746268656716,
          0.9850746268656716,
          0.9850746268656716,
          0.9850746268656716,
          0.9850746268656716,
          0.9850746268656716,
          0.9850746268656716,
          0.9850746268656716,
          0.9850746268656716,
          0.9850746268656716,
          0.9776119402985075,
          0.9776119402985075,
          0.9701492537313433,
          0.9626865671641791,
          0.9626865671641791,
          0.9552238805970149,
          0.9552238805970149,
          0.9477611940298507,
          0.9402985074626866,
          0.9328358208955224,
          0.9253731343283582,
          0.917910447761194,
          0.9104477611940298,
          0.9029850746268657,
          0.8955223880597015,
          0.8880597014925373,
          0.8805970149253731,
          0.8731343283582089,
          0.8656716417910447,
          0.8582089552238806,
          0.8507462686567164,
          0.8432835820895522,
          0.835820895522388,
          0.8283582089552238,
          0.8208955223880597,
          0.8134328358208955,
          0.8059701492537313,
          0.7985074626865671,
          0.7910447761194029,
          0.7835820895522388,
          0.7761194029850746,
          0.7686567164179104,
          0.7611940298507462,
          0.7611940298507462,
          0.753731343283582,
          0.746268656716418,
          0.7388059701492538,
          0.7313432835820896,
          0.7238805970149254,
          0.7164179104477612,
          0.7089552238805971,
          0.7014925373134329,
          0.6940298507462687,
          0.6865671641791045,
          0.6791044776119403,
          0.6716417910447762,
          0.664179104477612,
          0.6567164179104478,
          0.6492537313432836,
          0.6417910447761194,
          0.6343283582089553,
          0.6268656716417911,
          0.6194029850746269,
          0.6119402985074627,
          0.6044776119402985,
          0.5970149253731343,
          0.5895522388059702,
          0.582089552238806,
          0.5746268656716418,
          0.5671641791044776,
          0.5597014925373134,
          0.5522388059701493,
          0.5522388059701493,
          0.5447761194029851,
          0.5373134328358209,
          0.5298507462686567,
          0.5223880597014925,
          0.5149253731343284,
          0.5074626865671642,
          0.5,
          0.4925373134328358,
          0.48507462686567165,
          0.47761194029850745,
          0.4701492537313433,
          0.4626865671641791,
          0.4552238805970149,
          0.44776119402985076,
          0.44029850746268656,
          0.43283582089552236,
          0.4253731343283582,
          0.417910447761194,
          0.41044776119402987,
          0.40298507462686567,
          0.39552238805970147,
          0.3880597014925373,
          0.3880597014925373,
          0.3805970149253731,
          0.373134328358209,
          0.3656716417910448,
          0.3582089552238806,
          0.35074626865671643,
          0.34328358208955223,
          0.3358208955223881,
          0.3283582089552239,
          0.3208955223880597,
          0.31343283582089554,
          0.30597014925373134,
          0.29850746268656714,
          0.291044776119403,
          0.2835820895522388,
          0.27611940298507465,
          0.26865671641791045,
          0.26119402985074625,
          0.2537313432835821,
          0.2462686567164179,
          0.23880597014925373,
          0.23134328358208955,
          0.22388059701492538,
          0.21641791044776118,
          0.208955223880597,
          0.20149253731343283,
          0.19402985074626866,
          0.1865671641791045,
          0.1791044776119403,
          0.17164179104477612,
          0.16417910447761194,
          0.15671641791044777,
          0.14925373134328357,
          0.1417910447761194,
          0.13432835820895522,
          0.12686567164179105,
          0.11940298507462686,
          0.11194029850746269,
          0.1044776119402985,
          0.09701492537313433,
          0.08955223880597014,
          0.08208955223880597,
          0.07462686567164178,
          0.06716417910447761,
          0.05970149253731343,
          0.05223880597014925,
          0.04477611940298507,
          0.03731343283582089,
          0.029850746268656716,
          0.022388059701492536,
          0.014925373134328358,
          0.007462686567164179,
          0
         ],
         "xaxis": "x3",
         "y": [
          0.6063348416289592,
          0.6090909090909091,
          0.6118721461187214,
          0.6146788990825688,
          0.6175115207373272,
          0.6203703703703703,
          0.6232558139534884,
          0.6261682242990654,
          0.6291079812206573,
          0.6320754716981132,
          0.6350710900473934,
          0.638095238095238,
          0.6411483253588517,
          0.6442307692307693,
          0.6473429951690821,
          0.6504854368932039,
          0.6536585365853659,
          0.6568627450980392,
          0.6600985221674877,
          0.6633663366336634,
          0.6666666666666666,
          0.67,
          0.6733668341708543,
          0.6767676767676768,
          0.6802030456852792,
          0.6836734693877551,
          0.6871794871794872,
          0.6907216494845361,
          0.694300518134715,
          0.6979166666666666,
          0.7015706806282722,
          0.7052631578947368,
          0.708994708994709,
          0.7127659574468085,
          0.7165775401069518,
          0.7204301075268817,
          0.7243243243243244,
          0.7282608695652174,
          0.73224043715847,
          0.7362637362637363,
          0.7403314917127072,
          0.7444444444444445,
          0.7486033519553073,
          0.7528089887640449,
          0.7570621468926554,
          0.7613636363636364,
          0.7657142857142857,
          0.7701149425287356,
          0.7745664739884393,
          0.7790697674418605,
          0.783625730994152,
          0.788235294117647,
          0.7928994082840237,
          0.7976190476190477,
          0.8023952095808383,
          0.8072289156626506,
          0.8121212121212121,
          0.8170731707317073,
          0.8220858895705522,
          0.8271604938271605,
          0.8322981366459627,
          0.8375,
          0.8427672955974843,
          0.8481012658227848,
          0.8535031847133758,
          0.8589743589743589,
          0.864516129032258,
          0.8701298701298701,
          0.8758169934640523,
          0.881578947368421,
          0.8874172185430463,
          0.8866666666666667,
          0.8926174496644296,
          0.8986486486486487,
          0.8979591836734694,
          0.9041095890410958,
          0.9103448275862069,
          0.9166666666666666,
          0.9230769230769231,
          0.9295774647887324,
          0.9361702127659575,
          0.9428571428571428,
          0.9496402877697842,
          0.9565217391304348,
          0.9562043795620438,
          0.9632352941176471,
          0.9629629629629629,
          0.9626865671641791,
          0.9699248120300752,
          0.9696969696969697,
          0.9770992366412213,
          0.9769230769230769,
          0.9767441860465116,
          0.9765625,
          0.9763779527559056,
          0.9761904761904762,
          0.976,
          0.9758064516129032,
          0.975609756097561,
          0.9754098360655737,
          0.9752066115702479,
          0.975,
          0.9747899159663865,
          0.9745762711864406,
          0.9743589743589743,
          0.9741379310344828,
          0.9739130434782609,
          0.9736842105263158,
          0.9734513274336283,
          0.9732142857142857,
          0.972972972972973,
          0.9727272727272728,
          0.9724770642201835,
          0.9722222222222222,
          0.9719626168224299,
          0.9716981132075472,
          0.9714285714285714,
          0.9807692307692307,
          0.9805825242718447,
          0.9803921568627451,
          0.9801980198019802,
          0.98,
          0.9797979797979798,
          0.9795918367346939,
          0.979381443298969,
          0.9791666666666666,
          0.9789473684210527,
          0.9787234042553191,
          0.978494623655914,
          0.9782608695652174,
          0.978021978021978,
          0.9777777777777777,
          0.9775280898876404,
          0.9772727272727273,
          0.9770114942528736,
          0.9767441860465116,
          0.9764705882352941,
          0.9761904761904762,
          0.9759036144578314,
          0.975609756097561,
          0.9753086419753086,
          0.975,
          0.9746835443037974,
          0.9743589743589743,
          0.974025974025974,
          0.9736842105263158,
          0.9866666666666667,
          0.9864864864864865,
          0.9863013698630136,
          0.9861111111111112,
          0.9859154929577465,
          0.9857142857142858,
          0.9855072463768116,
          0.9852941176470589,
          0.9850746268656716,
          0.9848484848484849,
          0.9846153846153847,
          0.984375,
          0.9841269841269841,
          0.9838709677419355,
          0.9836065573770492,
          0.9833333333333333,
          0.9830508474576272,
          0.9827586206896551,
          0.9824561403508771,
          0.9821428571428571,
          0.9818181818181818,
          0.9814814814814815,
          0.9811320754716981,
          1,
          1,
          1,
          1,
          1,
          1,
          1,
          1,
          1,
          1,
          1,
          1,
          1,
          1,
          1,
          1,
          1,
          1,
          1,
          1,
          1,
          1,
          1,
          1,
          1,
          1,
          1,
          1,
          1,
          1,
          1,
          1,
          1,
          1,
          1,
          1,
          1,
          1,
          1,
          1,
          1,
          1,
          1,
          1,
          1,
          1,
          1,
          1,
          1,
          1,
          1,
          1,
          1
         ],
         "yaxis": "y3"
        }
       ],
       "layout": {
        "annotations": [
         {
          "font": {},
          "showarrow": false,
          "text": "method=Full Model",
          "x": 0.15999999999999998,
          "xanchor": "center",
          "xref": "paper",
          "y": 1,
          "yanchor": "bottom",
          "yref": "paper"
         },
         {
          "font": {},
          "showarrow": false,
          "text": "method=Forward Selection",
          "x": 0.49999999999999994,
          "xanchor": "center",
          "xref": "paper",
          "y": 1,
          "yanchor": "bottom",
          "yref": "paper"
         },
         {
          "font": {},
          "showarrow": false,
          "text": "method=Backward Selection",
          "x": 0.8399999999999999,
          "xanchor": "center",
          "xref": "paper",
          "y": 1,
          "yanchor": "bottom",
          "yref": "paper"
         }
        ],
        "legend": {
         "title": {
          "text": "method"
         },
         "tracegroupgap": 0
        },
        "margin": {
         "t": 60
        },
        "template": {
         "data": {
          "bar": [
           {
            "error_x": {
             "color": "#2a3f5f"
            },
            "error_y": {
             "color": "#2a3f5f"
            },
            "marker": {
             "line": {
              "color": "#E5ECF6",
              "width": 0.5
             },
             "pattern": {
              "fillmode": "overlay",
              "size": 10,
              "solidity": 0.2
             }
            },
            "type": "bar"
           }
          ],
          "barpolar": [
           {
            "marker": {
             "line": {
              "color": "#E5ECF6",
              "width": 0.5
             },
             "pattern": {
              "fillmode": "overlay",
              "size": 10,
              "solidity": 0.2
             }
            },
            "type": "barpolar"
           }
          ],
          "carpet": [
           {
            "aaxis": {
             "endlinecolor": "#2a3f5f",
             "gridcolor": "white",
             "linecolor": "white",
             "minorgridcolor": "white",
             "startlinecolor": "#2a3f5f"
            },
            "baxis": {
             "endlinecolor": "#2a3f5f",
             "gridcolor": "white",
             "linecolor": "white",
             "minorgridcolor": "white",
             "startlinecolor": "#2a3f5f"
            },
            "type": "carpet"
           }
          ],
          "choropleth": [
           {
            "colorbar": {
             "outlinewidth": 0,
             "ticks": ""
            },
            "type": "choropleth"
           }
          ],
          "contour": [
           {
            "colorbar": {
             "outlinewidth": 0,
             "ticks": ""
            },
            "colorscale": [
             [
              0,
              "#0d0887"
             ],
             [
              0.1111111111111111,
              "#46039f"
             ],
             [
              0.2222222222222222,
              "#7201a8"
             ],
             [
              0.3333333333333333,
              "#9c179e"
             ],
             [
              0.4444444444444444,
              "#bd3786"
             ],
             [
              0.5555555555555556,
              "#d8576b"
             ],
             [
              0.6666666666666666,
              "#ed7953"
             ],
             [
              0.7777777777777778,
              "#fb9f3a"
             ],
             [
              0.8888888888888888,
              "#fdca26"
             ],
             [
              1,
              "#f0f921"
             ]
            ],
            "type": "contour"
           }
          ],
          "contourcarpet": [
           {
            "colorbar": {
             "outlinewidth": 0,
             "ticks": ""
            },
            "type": "contourcarpet"
           }
          ],
          "heatmap": [
           {
            "colorbar": {
             "outlinewidth": 0,
             "ticks": ""
            },
            "colorscale": [
             [
              0,
              "#0d0887"
             ],
             [
              0.1111111111111111,
              "#46039f"
             ],
             [
              0.2222222222222222,
              "#7201a8"
             ],
             [
              0.3333333333333333,
              "#9c179e"
             ],
             [
              0.4444444444444444,
              "#bd3786"
             ],
             [
              0.5555555555555556,
              "#d8576b"
             ],
             [
              0.6666666666666666,
              "#ed7953"
             ],
             [
              0.7777777777777778,
              "#fb9f3a"
             ],
             [
              0.8888888888888888,
              "#fdca26"
             ],
             [
              1,
              "#f0f921"
             ]
            ],
            "type": "heatmap"
           }
          ],
          "heatmapgl": [
           {
            "colorbar": {
             "outlinewidth": 0,
             "ticks": ""
            },
            "colorscale": [
             [
              0,
              "#0d0887"
             ],
             [
              0.1111111111111111,
              "#46039f"
             ],
             [
              0.2222222222222222,
              "#7201a8"
             ],
             [
              0.3333333333333333,
              "#9c179e"
             ],
             [
              0.4444444444444444,
              "#bd3786"
             ],
             [
              0.5555555555555556,
              "#d8576b"
             ],
             [
              0.6666666666666666,
              "#ed7953"
             ],
             [
              0.7777777777777778,
              "#fb9f3a"
             ],
             [
              0.8888888888888888,
              "#fdca26"
             ],
             [
              1,
              "#f0f921"
             ]
            ],
            "type": "heatmapgl"
           }
          ],
          "histogram": [
           {
            "marker": {
             "pattern": {
              "fillmode": "overlay",
              "size": 10,
              "solidity": 0.2
             }
            },
            "type": "histogram"
           }
          ],
          "histogram2d": [
           {
            "colorbar": {
             "outlinewidth": 0,
             "ticks": ""
            },
            "colorscale": [
             [
              0,
              "#0d0887"
             ],
             [
              0.1111111111111111,
              "#46039f"
             ],
             [
              0.2222222222222222,
              "#7201a8"
             ],
             [
              0.3333333333333333,
              "#9c179e"
             ],
             [
              0.4444444444444444,
              "#bd3786"
             ],
             [
              0.5555555555555556,
              "#d8576b"
             ],
             [
              0.6666666666666666,
              "#ed7953"
             ],
             [
              0.7777777777777778,
              "#fb9f3a"
             ],
             [
              0.8888888888888888,
              "#fdca26"
             ],
             [
              1,
              "#f0f921"
             ]
            ],
            "type": "histogram2d"
           }
          ],
          "histogram2dcontour": [
           {
            "colorbar": {
             "outlinewidth": 0,
             "ticks": ""
            },
            "colorscale": [
             [
              0,
              "#0d0887"
             ],
             [
              0.1111111111111111,
              "#46039f"
             ],
             [
              0.2222222222222222,
              "#7201a8"
             ],
             [
              0.3333333333333333,
              "#9c179e"
             ],
             [
              0.4444444444444444,
              "#bd3786"
             ],
             [
              0.5555555555555556,
              "#d8576b"
             ],
             [
              0.6666666666666666,
              "#ed7953"
             ],
             [
              0.7777777777777778,
              "#fb9f3a"
             ],
             [
              0.8888888888888888,
              "#fdca26"
             ],
             [
              1,
              "#f0f921"
             ]
            ],
            "type": "histogram2dcontour"
           }
          ],
          "mesh3d": [
           {
            "colorbar": {
             "outlinewidth": 0,
             "ticks": ""
            },
            "type": "mesh3d"
           }
          ],
          "parcoords": [
           {
            "line": {
             "colorbar": {
              "outlinewidth": 0,
              "ticks": ""
             }
            },
            "type": "parcoords"
           }
          ],
          "pie": [
           {
            "automargin": true,
            "type": "pie"
           }
          ],
          "scatter": [
           {
            "fillpattern": {
             "fillmode": "overlay",
             "size": 10,
             "solidity": 0.2
            },
            "type": "scatter"
           }
          ],
          "scatter3d": [
           {
            "line": {
             "colorbar": {
              "outlinewidth": 0,
              "ticks": ""
             }
            },
            "marker": {
             "colorbar": {
              "outlinewidth": 0,
              "ticks": ""
             }
            },
            "type": "scatter3d"
           }
          ],
          "scattercarpet": [
           {
            "marker": {
             "colorbar": {
              "outlinewidth": 0,
              "ticks": ""
             }
            },
            "type": "scattercarpet"
           }
          ],
          "scattergeo": [
           {
            "marker": {
             "colorbar": {
              "outlinewidth": 0,
              "ticks": ""
             }
            },
            "type": "scattergeo"
           }
          ],
          "scattergl": [
           {
            "marker": {
             "colorbar": {
              "outlinewidth": 0,
              "ticks": ""
             }
            },
            "type": "scattergl"
           }
          ],
          "scattermapbox": [
           {
            "marker": {
             "colorbar": {
              "outlinewidth": 0,
              "ticks": ""
             }
            },
            "type": "scattermapbox"
           }
          ],
          "scatterpolar": [
           {
            "marker": {
             "colorbar": {
              "outlinewidth": 0,
              "ticks": ""
             }
            },
            "type": "scatterpolar"
           }
          ],
          "scatterpolargl": [
           {
            "marker": {
             "colorbar": {
              "outlinewidth": 0,
              "ticks": ""
             }
            },
            "type": "scatterpolargl"
           }
          ],
          "scatterternary": [
           {
            "marker": {
             "colorbar": {
              "outlinewidth": 0,
              "ticks": ""
             }
            },
            "type": "scatterternary"
           }
          ],
          "surface": [
           {
            "colorbar": {
             "outlinewidth": 0,
             "ticks": ""
            },
            "colorscale": [
             [
              0,
              "#0d0887"
             ],
             [
              0.1111111111111111,
              "#46039f"
             ],
             [
              0.2222222222222222,
              "#7201a8"
             ],
             [
              0.3333333333333333,
              "#9c179e"
             ],
             [
              0.4444444444444444,
              "#bd3786"
             ],
             [
              0.5555555555555556,
              "#d8576b"
             ],
             [
              0.6666666666666666,
              "#ed7953"
             ],
             [
              0.7777777777777778,
              "#fb9f3a"
             ],
             [
              0.8888888888888888,
              "#fdca26"
             ],
             [
              1,
              "#f0f921"
             ]
            ],
            "type": "surface"
           }
          ],
          "table": [
           {
            "cells": {
             "fill": {
              "color": "#EBF0F8"
             },
             "line": {
              "color": "white"
             }
            },
            "header": {
             "fill": {
              "color": "#C8D4E3"
             },
             "line": {
              "color": "white"
             }
            },
            "type": "table"
           }
          ]
         },
         "layout": {
          "annotationdefaults": {
           "arrowcolor": "#2a3f5f",
           "arrowhead": 0,
           "arrowwidth": 1
          },
          "autotypenumbers": "strict",
          "coloraxis": {
           "colorbar": {
            "outlinewidth": 0,
            "ticks": ""
           }
          },
          "colorscale": {
           "diverging": [
            [
             0,
             "#8e0152"
            ],
            [
             0.1,
             "#c51b7d"
            ],
            [
             0.2,
             "#de77ae"
            ],
            [
             0.3,
             "#f1b6da"
            ],
            [
             0.4,
             "#fde0ef"
            ],
            [
             0.5,
             "#f7f7f7"
            ],
            [
             0.6,
             "#e6f5d0"
            ],
            [
             0.7,
             "#b8e186"
            ],
            [
             0.8,
             "#7fbc41"
            ],
            [
             0.9,
             "#4d9221"
            ],
            [
             1,
             "#276419"
            ]
           ],
           "sequential": [
            [
             0,
             "#0d0887"
            ],
            [
             0.1111111111111111,
             "#46039f"
            ],
            [
             0.2222222222222222,
             "#7201a8"
            ],
            [
             0.3333333333333333,
             "#9c179e"
            ],
            [
             0.4444444444444444,
             "#bd3786"
            ],
            [
             0.5555555555555556,
             "#d8576b"
            ],
            [
             0.6666666666666666,
             "#ed7953"
            ],
            [
             0.7777777777777778,
             "#fb9f3a"
            ],
            [
             0.8888888888888888,
             "#fdca26"
            ],
            [
             1,
             "#f0f921"
            ]
           ],
           "sequentialminus": [
            [
             0,
             "#0d0887"
            ],
            [
             0.1111111111111111,
             "#46039f"
            ],
            [
             0.2222222222222222,
             "#7201a8"
            ],
            [
             0.3333333333333333,
             "#9c179e"
            ],
            [
             0.4444444444444444,
             "#bd3786"
            ],
            [
             0.5555555555555556,
             "#d8576b"
            ],
            [
             0.6666666666666666,
             "#ed7953"
            ],
            [
             0.7777777777777778,
             "#fb9f3a"
            ],
            [
             0.8888888888888888,
             "#fdca26"
            ],
            [
             1,
             "#f0f921"
            ]
           ]
          },
          "colorway": [
           "#636efa",
           "#EF553B",
           "#00cc96",
           "#ab63fa",
           "#FFA15A",
           "#19d3f3",
           "#FF6692",
           "#B6E880",
           "#FF97FF",
           "#FECB52"
          ],
          "font": {
           "color": "#2a3f5f"
          },
          "geo": {
           "bgcolor": "white",
           "lakecolor": "white",
           "landcolor": "#E5ECF6",
           "showlakes": true,
           "showland": true,
           "subunitcolor": "white"
          },
          "hoverlabel": {
           "align": "left"
          },
          "hovermode": "closest",
          "mapbox": {
           "style": "light"
          },
          "paper_bgcolor": "white",
          "plot_bgcolor": "#E5ECF6",
          "polar": {
           "angularaxis": {
            "gridcolor": "white",
            "linecolor": "white",
            "ticks": ""
           },
           "bgcolor": "#E5ECF6",
           "radialaxis": {
            "gridcolor": "white",
            "linecolor": "white",
            "ticks": ""
           }
          },
          "scene": {
           "xaxis": {
            "backgroundcolor": "#E5ECF6",
            "gridcolor": "white",
            "gridwidth": 2,
            "linecolor": "white",
            "showbackground": true,
            "ticks": "",
            "zerolinecolor": "white"
           },
           "yaxis": {
            "backgroundcolor": "#E5ECF6",
            "gridcolor": "white",
            "gridwidth": 2,
            "linecolor": "white",
            "showbackground": true,
            "ticks": "",
            "zerolinecolor": "white"
           },
           "zaxis": {
            "backgroundcolor": "#E5ECF6",
            "gridcolor": "white",
            "gridwidth": 2,
            "linecolor": "white",
            "showbackground": true,
            "ticks": "",
            "zerolinecolor": "white"
           }
          },
          "shapedefaults": {
           "line": {
            "color": "#2a3f5f"
           }
          },
          "ternary": {
           "aaxis": {
            "gridcolor": "white",
            "linecolor": "white",
            "ticks": ""
           },
           "baxis": {
            "gridcolor": "white",
            "linecolor": "white",
            "ticks": ""
           },
           "bgcolor": "#E5ECF6",
           "caxis": {
            "gridcolor": "white",
            "linecolor": "white",
            "ticks": ""
           }
          },
          "title": {
           "x": 0.05
          },
          "xaxis": {
           "automargin": true,
           "gridcolor": "white",
           "linecolor": "white",
           "ticks": "",
           "title": {
            "standoff": 15
           },
           "zerolinecolor": "white",
           "zerolinewidth": 2
          },
          "yaxis": {
           "automargin": true,
           "gridcolor": "white",
           "linecolor": "white",
           "ticks": "",
           "title": {
            "standoff": 15
           },
           "zerolinecolor": "white",
           "zerolinewidth": 2
          }
         }
        },
        "xaxis": {
         "anchor": "y",
         "domain": [
          0,
          0.31999999999999995
         ],
         "title": {
          "text": "Recall"
         }
        },
        "xaxis2": {
         "anchor": "y2",
         "domain": [
          0.33999999999999997,
          0.6599999999999999
         ],
         "matches": "x",
         "title": {
          "text": "Recall"
         }
        },
        "xaxis3": {
         "anchor": "y3",
         "domain": [
          0.6799999999999999,
          0.9999999999999999
         ],
         "matches": "x",
         "title": {
          "text": "Recall"
         }
        },
        "yaxis": {
         "anchor": "x",
         "domain": [
          0,
          1
         ],
         "title": {
          "text": "Precision"
         }
        },
        "yaxis2": {
         "anchor": "x2",
         "domain": [
          0,
          1
         ],
         "matches": "y",
         "showticklabels": false
        },
        "yaxis3": {
         "anchor": "x3",
         "domain": [
          0,
          1
         ],
         "matches": "y",
         "showticklabels": false
        }
       }
      }
     },
     "metadata": {},
     "output_type": "display_data"
    }
   ],
   "source": [
    "# Visualize precision recall curve\n",
    "fig = px.line(pr_df,x='Recall',y='Precision',facet_col='method',color='method')\n",
    "fig"
   ]
  },
  {
   "attachments": {},
   "cell_type": "markdown",
   "metadata": {},
   "source": [
    "From both the ROC and precision-recall curves we see that the full model has similar performance with the models with only 3 features."
   ]
  },
  {
   "attachments": {},
   "cell_type": "markdown",
   "metadata": {},
   "source": [
    "### Data with imbalanced classes"
   ]
  },
  {
   "attachments": {},
   "cell_type": "markdown",
   "metadata": {},
   "source": [
    "One common problem for modeling is when the classes in the data are highly imbalance, e.g. there are much more positive cases than negative cases. In this section we learn two techniques to settle imbalanced data."
   ]
  },
  {
   "attachments": {},
   "cell_type": "markdown",
   "metadata": {},
   "source": [
    "#### Generate imbalanced data"
   ]
  },
  {
   "cell_type": "code",
   "execution_count": 22,
   "metadata": {},
   "outputs": [
    {
     "data": {
      "text/plain": [
       "1    357\n",
       "0    212\n",
       "Name: target, dtype: int64"
      ]
     },
     "execution_count": 22,
     "metadata": {},
     "output_type": "execute_result"
    }
   ],
   "source": [
    "# The original breast cancer data statistics.\n",
    "y_df.value_counts()"
   ]
  },
  {
   "attachments": {},
   "cell_type": "markdown",
   "metadata": {},
   "source": [
    "For the breast cancer dataset there are more positive cases, but the ratio\n",
    "of number of two classes is not too bad (<2)."
   ]
  },
  {
   "attachments": {},
   "cell_type": "markdown",
   "metadata": {},
   "source": [
    "We synthesize a highly imbalanced dataset, with much more positive cases.\n",
    "1.  We sample with replacement to generate new data with $10000$ records, where the probability to select a positive case ($y=1$) is 0.05, and the probability to select a negative case ($y=0$) is 0.95.\n",
    "2.  Note that data sampled in this say has many duplicate records. We add some Gaussian noise to the independent variable so that the same record in the sampled dataset has slightly different $x$ values.\n",
    "3.  We do a $6:4$ train-test split on the synthesized data."
   ]
  },
  {
   "cell_type": "code",
   "execution_count": 23,
   "metadata": {},
   "outputs": [],
   "source": [
    "# 0.1 probability to sample a negative case.\n",
    "p_array = np.where(y_df.to_numpy()==1,0.05,0.95)\n",
    "\n",
    "# Normalize original data first.\n",
    "X_df = (X_raw-X_raw.mean())/X_raw.std()\n",
    "\n",
    "# Combine input and target.\n",
    "Xy_df = pd.concat([X_df,y_df],axis=1)\n",
    "\n",
    "# Sample 5000 records with prescribed probability.\n",
    "Xy_df_resampled = Xy_df.sample(n=10000,replace=True,weights=p_array,random_state=12,axis=0)\n",
    "\n",
    "# Split input and target from sampled data.\n",
    "X_df_resampled, y_df_resampled = Xy_df_resampled.iloc[:,:-1], Xy_df_resampled.iloc[:,-1]\n",
    "\n",
    "# Add noise to input.\n",
    "X_np_resampled = X_df_resampled.to_numpy()+np.random.normal(scale=3,size=X_df_resampled.to_numpy().shape)\n",
    "X_df_resampled = pd.DataFrame(X_np_resampled,columns=X_df_resampled.columns)"
   ]
  },
  {
   "cell_type": "code",
   "execution_count": 24,
   "metadata": {},
   "outputs": [
    {
     "data": {
      "text/plain": [
       "0    9176\n",
       "1     824\n",
       "Name: target, dtype: int64"
      ]
     },
     "execution_count": 24,
     "metadata": {},
     "output_type": "execute_result"
    }
   ],
   "source": [
    "# The resulting synthetic dataset is highly imbalanced\n",
    "y_df_resampled.value_counts()"
   ]
  },
  {
   "cell_type": "code",
   "execution_count": 25,
   "metadata": {},
   "outputs": [],
   "source": [
    "# We use an approx 6:4 train test splitting\n",
    "np.random.seed(12)\n",
    "cases = ['train','test']\n",
    "case_list = np.random.choice(cases,size=len(X_df_resampled),replace=True,p=[0.6,0.4])\n",
    "\n",
    "X_df_RTrain, y_df_RTrain = X_df_resampled.iloc[case_list=='train'], y_df_resampled.iloc[case_list=='train']\n",
    "X_df_RTest, y_df_RTest = X_df_resampled.iloc[case_list=='test'], y_df_resampled.iloc[case_list=='test']"
   ]
  },
  {
   "attachments": {},
   "cell_type": "markdown",
   "metadata": {},
   "source": [
    "#### Vanilla logistic regression on synthesized data\n",
    "\n",
    "We first fit a vanilla logistic regression on the synthesized data. Note that since this data is highly imbalanced, the accuracy metric can be misleading."
   ]
  },
  {
   "cell_type": "code",
   "execution_count": 26,
   "metadata": {},
   "outputs": [
    {
     "data": {
      "text/html": [
       "<style>#sk-container-id-1 {color: black;background-color: white;}#sk-container-id-1 pre{padding: 0;}#sk-container-id-1 div.sk-toggleable {background-color: white;}#sk-container-id-1 label.sk-toggleable__label {cursor: pointer;display: block;width: 100%;margin-bottom: 0;padding: 0.3em;box-sizing: border-box;text-align: center;}#sk-container-id-1 label.sk-toggleable__label-arrow:before {content: \"▸\";float: left;margin-right: 0.25em;color: #696969;}#sk-container-id-1 label.sk-toggleable__label-arrow:hover:before {color: black;}#sk-container-id-1 div.sk-estimator:hover label.sk-toggleable__label-arrow:before {color: black;}#sk-container-id-1 div.sk-toggleable__content {max-height: 0;max-width: 0;overflow: hidden;text-align: left;background-color: #f0f8ff;}#sk-container-id-1 div.sk-toggleable__content pre {margin: 0.2em;color: black;border-radius: 0.25em;background-color: #f0f8ff;}#sk-container-id-1 input.sk-toggleable__control:checked~div.sk-toggleable__content {max-height: 200px;max-width: 100%;overflow: auto;}#sk-container-id-1 input.sk-toggleable__control:checked~label.sk-toggleable__label-arrow:before {content: \"▾\";}#sk-container-id-1 div.sk-estimator input.sk-toggleable__control:checked~label.sk-toggleable__label {background-color: #d4ebff;}#sk-container-id-1 div.sk-label input.sk-toggleable__control:checked~label.sk-toggleable__label {background-color: #d4ebff;}#sk-container-id-1 input.sk-hidden--visually {border: 0;clip: rect(1px 1px 1px 1px);clip: rect(1px, 1px, 1px, 1px);height: 1px;margin: -1px;overflow: hidden;padding: 0;position: absolute;width: 1px;}#sk-container-id-1 div.sk-estimator {font-family: monospace;background-color: #f0f8ff;border: 1px dotted black;border-radius: 0.25em;box-sizing: border-box;margin-bottom: 0.5em;}#sk-container-id-1 div.sk-estimator:hover {background-color: #d4ebff;}#sk-container-id-1 div.sk-parallel-item::after {content: \"\";width: 100%;border-bottom: 1px solid gray;flex-grow: 1;}#sk-container-id-1 div.sk-label:hover label.sk-toggleable__label {background-color: #d4ebff;}#sk-container-id-1 div.sk-serial::before {content: \"\";position: absolute;border-left: 1px solid gray;box-sizing: border-box;top: 0;bottom: 0;left: 50%;z-index: 0;}#sk-container-id-1 div.sk-serial {display: flex;flex-direction: column;align-items: center;background-color: white;padding-right: 0.2em;padding-left: 0.2em;position: relative;}#sk-container-id-1 div.sk-item {position: relative;z-index: 1;}#sk-container-id-1 div.sk-parallel {display: flex;align-items: stretch;justify-content: center;background-color: white;position: relative;}#sk-container-id-1 div.sk-item::before, #sk-container-id-1 div.sk-parallel-item::before {content: \"\";position: absolute;border-left: 1px solid gray;box-sizing: border-box;top: 0;bottom: 0;left: 50%;z-index: -1;}#sk-container-id-1 div.sk-parallel-item {display: flex;flex-direction: column;z-index: 1;position: relative;background-color: white;}#sk-container-id-1 div.sk-parallel-item:first-child::after {align-self: flex-end;width: 50%;}#sk-container-id-1 div.sk-parallel-item:last-child::after {align-self: flex-start;width: 50%;}#sk-container-id-1 div.sk-parallel-item:only-child::after {width: 0;}#sk-container-id-1 div.sk-dashed-wrapped {border: 1px dashed gray;margin: 0 0.4em 0.5em 0.4em;box-sizing: border-box;padding-bottom: 0.4em;background-color: white;}#sk-container-id-1 div.sk-label label {font-family: monospace;font-weight: bold;display: inline-block;line-height: 1.2em;}#sk-container-id-1 div.sk-label-container {text-align: center;}#sk-container-id-1 div.sk-container {/* jupyter's `normalize.less` sets `[hidden] { display: none; }` but bootstrap.min.css set `[hidden] { display: none !important; }` so we also need the `!important` here to be able to override the default hidden behavior on the sphinx rendered scikit-learn.org. See: https://github.com/scikit-learn/scikit-learn/issues/21755 */display: inline-block !important;position: relative;}#sk-container-id-1 div.sk-text-repr-fallback {display: none;}</style><div id=\"sk-container-id-1\" class=\"sk-top-container\"><div class=\"sk-text-repr-fallback\"><pre>LogisticRegression(solver=&#x27;liblinear&#x27;)</pre><b>In a Jupyter environment, please rerun this cell to show the HTML representation or trust the notebook. <br />On GitHub, the HTML representation is unable to render, please try loading this page with nbviewer.org.</b></div><div class=\"sk-container\" hidden><div class=\"sk-item\"><div class=\"sk-estimator sk-toggleable\"><input class=\"sk-toggleable__control sk-hidden--visually\" id=\"sk-estimator-id-1\" type=\"checkbox\" checked><label for=\"sk-estimator-id-1\" class=\"sk-toggleable__label sk-toggleable__label-arrow\">LogisticRegression</label><div class=\"sk-toggleable__content\"><pre>LogisticRegression(solver=&#x27;liblinear&#x27;)</pre></div></div></div></div></div>"
      ],
      "text/plain": [
       "LogisticRegression(solver='liblinear')"
      ]
     },
     "execution_count": 26,
     "metadata": {},
     "output_type": "execute_result"
    }
   ],
   "source": [
    "# We first fit a standard logistic regression.\n",
    "model = logit(solver='liblinear')\n",
    "model.fit(X_df_RTrain,y_df_RTrain)"
   ]
  },
  {
   "cell_type": "code",
   "execution_count": 27,
   "metadata": {},
   "outputs": [],
   "source": [
    "pred = model.predict_proba(X_df_RTest)"
   ]
  },
  {
   "attachments": {},
   "cell_type": "markdown",
   "metadata": {},
   "source": [
    "We will visualize and compare the prediction results later."
   ]
  },
  {
   "attachments": {},
   "cell_type": "markdown",
   "metadata": {},
   "source": [
    "#### Logistic regression with balanced class weight"
   ]
  },
  {
   "cell_type": "code",
   "execution_count": 28,
   "metadata": {},
   "outputs": [
    {
     "data": {
      "text/html": [
       "<style>#sk-container-id-2 {color: black;background-color: white;}#sk-container-id-2 pre{padding: 0;}#sk-container-id-2 div.sk-toggleable {background-color: white;}#sk-container-id-2 label.sk-toggleable__label {cursor: pointer;display: block;width: 100%;margin-bottom: 0;padding: 0.3em;box-sizing: border-box;text-align: center;}#sk-container-id-2 label.sk-toggleable__label-arrow:before {content: \"▸\";float: left;margin-right: 0.25em;color: #696969;}#sk-container-id-2 label.sk-toggleable__label-arrow:hover:before {color: black;}#sk-container-id-2 div.sk-estimator:hover label.sk-toggleable__label-arrow:before {color: black;}#sk-container-id-2 div.sk-toggleable__content {max-height: 0;max-width: 0;overflow: hidden;text-align: left;background-color: #f0f8ff;}#sk-container-id-2 div.sk-toggleable__content pre {margin: 0.2em;color: black;border-radius: 0.25em;background-color: #f0f8ff;}#sk-container-id-2 input.sk-toggleable__control:checked~div.sk-toggleable__content {max-height: 200px;max-width: 100%;overflow: auto;}#sk-container-id-2 input.sk-toggleable__control:checked~label.sk-toggleable__label-arrow:before {content: \"▾\";}#sk-container-id-2 div.sk-estimator input.sk-toggleable__control:checked~label.sk-toggleable__label {background-color: #d4ebff;}#sk-container-id-2 div.sk-label input.sk-toggleable__control:checked~label.sk-toggleable__label {background-color: #d4ebff;}#sk-container-id-2 input.sk-hidden--visually {border: 0;clip: rect(1px 1px 1px 1px);clip: rect(1px, 1px, 1px, 1px);height: 1px;margin: -1px;overflow: hidden;padding: 0;position: absolute;width: 1px;}#sk-container-id-2 div.sk-estimator {font-family: monospace;background-color: #f0f8ff;border: 1px dotted black;border-radius: 0.25em;box-sizing: border-box;margin-bottom: 0.5em;}#sk-container-id-2 div.sk-estimator:hover {background-color: #d4ebff;}#sk-container-id-2 div.sk-parallel-item::after {content: \"\";width: 100%;border-bottom: 1px solid gray;flex-grow: 1;}#sk-container-id-2 div.sk-label:hover label.sk-toggleable__label {background-color: #d4ebff;}#sk-container-id-2 div.sk-serial::before {content: \"\";position: absolute;border-left: 1px solid gray;box-sizing: border-box;top: 0;bottom: 0;left: 50%;z-index: 0;}#sk-container-id-2 div.sk-serial {display: flex;flex-direction: column;align-items: center;background-color: white;padding-right: 0.2em;padding-left: 0.2em;position: relative;}#sk-container-id-2 div.sk-item {position: relative;z-index: 1;}#sk-container-id-2 div.sk-parallel {display: flex;align-items: stretch;justify-content: center;background-color: white;position: relative;}#sk-container-id-2 div.sk-item::before, #sk-container-id-2 div.sk-parallel-item::before {content: \"\";position: absolute;border-left: 1px solid gray;box-sizing: border-box;top: 0;bottom: 0;left: 50%;z-index: -1;}#sk-container-id-2 div.sk-parallel-item {display: flex;flex-direction: column;z-index: 1;position: relative;background-color: white;}#sk-container-id-2 div.sk-parallel-item:first-child::after {align-self: flex-end;width: 50%;}#sk-container-id-2 div.sk-parallel-item:last-child::after {align-self: flex-start;width: 50%;}#sk-container-id-2 div.sk-parallel-item:only-child::after {width: 0;}#sk-container-id-2 div.sk-dashed-wrapped {border: 1px dashed gray;margin: 0 0.4em 0.5em 0.4em;box-sizing: border-box;padding-bottom: 0.4em;background-color: white;}#sk-container-id-2 div.sk-label label {font-family: monospace;font-weight: bold;display: inline-block;line-height: 1.2em;}#sk-container-id-2 div.sk-label-container {text-align: center;}#sk-container-id-2 div.sk-container {/* jupyter's `normalize.less` sets `[hidden] { display: none; }` but bootstrap.min.css set `[hidden] { display: none !important; }` so we also need the `!important` here to be able to override the default hidden behavior on the sphinx rendered scikit-learn.org. See: https://github.com/scikit-learn/scikit-learn/issues/21755 */display: inline-block !important;position: relative;}#sk-container-id-2 div.sk-text-repr-fallback {display: none;}</style><div id=\"sk-container-id-2\" class=\"sk-top-container\"><div class=\"sk-text-repr-fallback\"><pre>LogisticRegression(class_weight=&#x27;balanced&#x27;, solver=&#x27;liblinear&#x27;)</pre><b>In a Jupyter environment, please rerun this cell to show the HTML representation or trust the notebook. <br />On GitHub, the HTML representation is unable to render, please try loading this page with nbviewer.org.</b></div><div class=\"sk-container\" hidden><div class=\"sk-item\"><div class=\"sk-estimator sk-toggleable\"><input class=\"sk-toggleable__control sk-hidden--visually\" id=\"sk-estimator-id-2\" type=\"checkbox\" checked><label for=\"sk-estimator-id-2\" class=\"sk-toggleable__label sk-toggleable__label-arrow\">LogisticRegression</label><div class=\"sk-toggleable__content\"><pre>LogisticRegression(class_weight=&#x27;balanced&#x27;, solver=&#x27;liblinear&#x27;)</pre></div></div></div></div></div>"
      ],
      "text/plain": [
       "LogisticRegression(class_weight='balanced', solver='liblinear')"
      ]
     },
     "execution_count": 28,
     "metadata": {},
     "output_type": "execute_result"
    }
   ],
   "source": [
    "model_BW = logit(solver='liblinear',class_weight='balanced')\n",
    "model_BW.fit(X_df_RTrain,y_df_RTrain)"
   ]
  },
  {
   "cell_type": "code",
   "execution_count": 29,
   "metadata": {},
   "outputs": [],
   "source": [
    "pred_BW = model_BW.predict_proba(X_df_RTest)"
   ]
  },
  {
   "attachments": {},
   "cell_type": "markdown",
   "metadata": {},
   "source": [
    "#### Using SMOTE to over sample positive cases"
   ]
  },
  {
   "attachments": {},
   "cell_type": "markdown",
   "metadata": {},
   "source": [
    "Another way to cope with highly imbalanced data is to use SMOTE to over-sample minority cases (for our example the positive case). On a high level, SMOTE works in the following way to generate new samples of the minority cases:\n",
    "1.  Randomly select a minority case $x$.\n",
    "2.  Among all the minority cases, find the $k$ minority cases $x_1,x_2,\\cdots,x_k$ that are the top-$k$ closest cases to $x$. Here $k$ is a hyper parameter (usually one set $k=5$).\n",
    "3.  Randomly select $x_i$ from the top-$k$ minority cases.\n",
    "4.  Draw a line segment from $x$ to $x_i$, and generate a new negative sample by randomly select a point on this line segment."
   ]
  },
  {
   "cell_type": "code",
   "execution_count": 30,
   "metadata": {},
   "outputs": [],
   "source": [
    "# Use imbalanced learn package\n",
    "from imblearn.over_sampling import SMOTE"
   ]
  },
  {
   "cell_type": "code",
   "execution_count": 31,
   "metadata": {},
   "outputs": [],
   "source": [
    "# Use SMOTE to resample minority class.\n",
    "smote_sampler = SMOTE(random_state=12,sampling_strategy='minority')\n",
    "X_df_SMOTE, y_df_SMOTE = smote_sampler.fit_resample(X_df_RTrain, y_df_RTrain)"
   ]
  },
  {
   "cell_type": "code",
   "execution_count": 32,
   "metadata": {},
   "outputs": [
    {
     "data": {
      "text/plain": [
       "0    5758\n",
       "1     297\n",
       "Name: target, dtype: int64"
      ]
     },
     "execution_count": 32,
     "metadata": {},
     "output_type": "execute_result"
    }
   ],
   "source": [
    "y_df_RTrain.value_counts()"
   ]
  },
  {
   "cell_type": "code",
   "execution_count": 33,
   "metadata": {},
   "outputs": [
    {
     "data": {
      "text/plain": [
       "0    5758\n",
       "1    5758\n",
       "Name: target, dtype: int64"
      ]
     },
     "execution_count": 33,
     "metadata": {},
     "output_type": "execute_result"
    }
   ],
   "source": [
    "y_df_SMOTE.value_counts()"
   ]
  },
  {
   "attachments": {},
   "cell_type": "markdown",
   "metadata": {},
   "source": [
    "After applying SMOTE we now have equal number of negative and positive cases in the training dataset.\n",
    "\n",
    "WARNING: you should only apply SMOTE or any other resampling techniques on the **training** dataset, and the testing dataset should be kept untouched."
   ]
  },
  {
   "cell_type": "code",
   "execution_count": 34,
   "metadata": {},
   "outputs": [
    {
     "data": {
      "text/html": [
       "<style>#sk-container-id-3 {color: black;background-color: white;}#sk-container-id-3 pre{padding: 0;}#sk-container-id-3 div.sk-toggleable {background-color: white;}#sk-container-id-3 label.sk-toggleable__label {cursor: pointer;display: block;width: 100%;margin-bottom: 0;padding: 0.3em;box-sizing: border-box;text-align: center;}#sk-container-id-3 label.sk-toggleable__label-arrow:before {content: \"▸\";float: left;margin-right: 0.25em;color: #696969;}#sk-container-id-3 label.sk-toggleable__label-arrow:hover:before {color: black;}#sk-container-id-3 div.sk-estimator:hover label.sk-toggleable__label-arrow:before {color: black;}#sk-container-id-3 div.sk-toggleable__content {max-height: 0;max-width: 0;overflow: hidden;text-align: left;background-color: #f0f8ff;}#sk-container-id-3 div.sk-toggleable__content pre {margin: 0.2em;color: black;border-radius: 0.25em;background-color: #f0f8ff;}#sk-container-id-3 input.sk-toggleable__control:checked~div.sk-toggleable__content {max-height: 200px;max-width: 100%;overflow: auto;}#sk-container-id-3 input.sk-toggleable__control:checked~label.sk-toggleable__label-arrow:before {content: \"▾\";}#sk-container-id-3 div.sk-estimator input.sk-toggleable__control:checked~label.sk-toggleable__label {background-color: #d4ebff;}#sk-container-id-3 div.sk-label input.sk-toggleable__control:checked~label.sk-toggleable__label {background-color: #d4ebff;}#sk-container-id-3 input.sk-hidden--visually {border: 0;clip: rect(1px 1px 1px 1px);clip: rect(1px, 1px, 1px, 1px);height: 1px;margin: -1px;overflow: hidden;padding: 0;position: absolute;width: 1px;}#sk-container-id-3 div.sk-estimator {font-family: monospace;background-color: #f0f8ff;border: 1px dotted black;border-radius: 0.25em;box-sizing: border-box;margin-bottom: 0.5em;}#sk-container-id-3 div.sk-estimator:hover {background-color: #d4ebff;}#sk-container-id-3 div.sk-parallel-item::after {content: \"\";width: 100%;border-bottom: 1px solid gray;flex-grow: 1;}#sk-container-id-3 div.sk-label:hover label.sk-toggleable__label {background-color: #d4ebff;}#sk-container-id-3 div.sk-serial::before {content: \"\";position: absolute;border-left: 1px solid gray;box-sizing: border-box;top: 0;bottom: 0;left: 50%;z-index: 0;}#sk-container-id-3 div.sk-serial {display: flex;flex-direction: column;align-items: center;background-color: white;padding-right: 0.2em;padding-left: 0.2em;position: relative;}#sk-container-id-3 div.sk-item {position: relative;z-index: 1;}#sk-container-id-3 div.sk-parallel {display: flex;align-items: stretch;justify-content: center;background-color: white;position: relative;}#sk-container-id-3 div.sk-item::before, #sk-container-id-3 div.sk-parallel-item::before {content: \"\";position: absolute;border-left: 1px solid gray;box-sizing: border-box;top: 0;bottom: 0;left: 50%;z-index: -1;}#sk-container-id-3 div.sk-parallel-item {display: flex;flex-direction: column;z-index: 1;position: relative;background-color: white;}#sk-container-id-3 div.sk-parallel-item:first-child::after {align-self: flex-end;width: 50%;}#sk-container-id-3 div.sk-parallel-item:last-child::after {align-self: flex-start;width: 50%;}#sk-container-id-3 div.sk-parallel-item:only-child::after {width: 0;}#sk-container-id-3 div.sk-dashed-wrapped {border: 1px dashed gray;margin: 0 0.4em 0.5em 0.4em;box-sizing: border-box;padding-bottom: 0.4em;background-color: white;}#sk-container-id-3 div.sk-label label {font-family: monospace;font-weight: bold;display: inline-block;line-height: 1.2em;}#sk-container-id-3 div.sk-label-container {text-align: center;}#sk-container-id-3 div.sk-container {/* jupyter's `normalize.less` sets `[hidden] { display: none; }` but bootstrap.min.css set `[hidden] { display: none !important; }` so we also need the `!important` here to be able to override the default hidden behavior on the sphinx rendered scikit-learn.org. See: https://github.com/scikit-learn/scikit-learn/issues/21755 */display: inline-block !important;position: relative;}#sk-container-id-3 div.sk-text-repr-fallback {display: none;}</style><div id=\"sk-container-id-3\" class=\"sk-top-container\"><div class=\"sk-text-repr-fallback\"><pre>LogisticRegression(solver=&#x27;liblinear&#x27;)</pre><b>In a Jupyter environment, please rerun this cell to show the HTML representation or trust the notebook. <br />On GitHub, the HTML representation is unable to render, please try loading this page with nbviewer.org.</b></div><div class=\"sk-container\" hidden><div class=\"sk-item\"><div class=\"sk-estimator sk-toggleable\"><input class=\"sk-toggleable__control sk-hidden--visually\" id=\"sk-estimator-id-3\" type=\"checkbox\" checked><label for=\"sk-estimator-id-3\" class=\"sk-toggleable__label sk-toggleable__label-arrow\">LogisticRegression</label><div class=\"sk-toggleable__content\"><pre>LogisticRegression(solver=&#x27;liblinear&#x27;)</pre></div></div></div></div></div>"
      ],
      "text/plain": [
       "LogisticRegression(solver='liblinear')"
      ]
     },
     "execution_count": 34,
     "metadata": {},
     "output_type": "execute_result"
    }
   ],
   "source": [
    "model_SMOTE = logit(solver='liblinear')\n",
    "model_SMOTE.fit(X_df_SMOTE,y_df_SMOTE)"
   ]
  },
  {
   "cell_type": "code",
   "execution_count": 35,
   "metadata": {},
   "outputs": [],
   "source": [
    "pred_SMOTE = model_SMOTE.predict_proba(X_df_RTest)"
   ]
  },
  {
   "cell_type": "code",
   "execution_count": 39,
   "metadata": {},
   "outputs": [
    {
     "data": {
      "text/html": [
       "<div>\n",
       "<style scoped>\n",
       "    .dataframe tbody tr th:only-of-type {\n",
       "        vertical-align: middle;\n",
       "    }\n",
       "\n",
       "    .dataframe tbody tr th {\n",
       "        vertical-align: top;\n",
       "    }\n",
       "\n",
       "    .dataframe thead th {\n",
       "        text-align: right;\n",
       "    }\n",
       "</style>\n",
       "<table border=\"1\" class=\"dataframe\">\n",
       "  <thead>\n",
       "    <tr style=\"text-align: right;\">\n",
       "      <th></th>\n",
       "      <th>pred</th>\n",
       "      <th>label</th>\n",
       "      <th>method</th>\n",
       "      <th>binary pred</th>\n",
       "    </tr>\n",
       "  </thead>\n",
       "  <tbody>\n",
       "    <tr>\n",
       "      <th>353</th>\n",
       "      <td>0.028831</td>\n",
       "      <td>0</td>\n",
       "      <td>vanilla</td>\n",
       "      <td>0</td>\n",
       "    </tr>\n",
       "    <tr>\n",
       "      <th>501</th>\n",
       "      <td>0.056935</td>\n",
       "      <td>0</td>\n",
       "      <td>vanilla</td>\n",
       "      <td>0</td>\n",
       "    </tr>\n",
       "    <tr>\n",
       "      <th>492</th>\n",
       "      <td>0.041970</td>\n",
       "      <td>0</td>\n",
       "      <td>vanilla</td>\n",
       "      <td>0</td>\n",
       "    </tr>\n",
       "    <tr>\n",
       "      <th>533</th>\n",
       "      <td>0.059412</td>\n",
       "      <td>0</td>\n",
       "      <td>vanilla</td>\n",
       "      <td>0</td>\n",
       "    </tr>\n",
       "    <tr>\n",
       "      <th>260</th>\n",
       "      <td>0.014335</td>\n",
       "      <td>0</td>\n",
       "      <td>vanilla</td>\n",
       "      <td>0</td>\n",
       "    </tr>\n",
       "    <tr>\n",
       "      <th>...</th>\n",
       "      <td>...</td>\n",
       "      <td>...</td>\n",
       "      <td>...</td>\n",
       "      <td>...</td>\n",
       "    </tr>\n",
       "    <tr>\n",
       "      <th>498</th>\n",
       "      <td>0.070404</td>\n",
       "      <td>0</td>\n",
       "      <td>SMOTE</td>\n",
       "      <td>0</td>\n",
       "    </tr>\n",
       "    <tr>\n",
       "      <th>501</th>\n",
       "      <td>0.028362</td>\n",
       "      <td>0</td>\n",
       "      <td>SMOTE</td>\n",
       "      <td>0</td>\n",
       "    </tr>\n",
       "    <tr>\n",
       "      <th>262</th>\n",
       "      <td>0.555983</td>\n",
       "      <td>0</td>\n",
       "      <td>SMOTE</td>\n",
       "      <td>1</td>\n",
       "    </tr>\n",
       "    <tr>\n",
       "      <th>502</th>\n",
       "      <td>0.222743</td>\n",
       "      <td>1</td>\n",
       "      <td>SMOTE</td>\n",
       "      <td>0</td>\n",
       "    </tr>\n",
       "    <tr>\n",
       "      <th>489</th>\n",
       "      <td>0.030761</td>\n",
       "      <td>0</td>\n",
       "      <td>SMOTE</td>\n",
       "      <td>0</td>\n",
       "    </tr>\n",
       "  </tbody>\n",
       "</table>\n",
       "<p>11835 rows × 4 columns</p>\n",
       "</div>"
      ],
      "text/plain": [
       "         pred  label   method  binary pred\n",
       "353  0.028831      0  vanilla            0\n",
       "501  0.056935      0  vanilla            0\n",
       "492  0.041970      0  vanilla            0\n",
       "533  0.059412      0  vanilla            0\n",
       "260  0.014335      0  vanilla            0\n",
       "..        ...    ...      ...          ...\n",
       "498  0.070404      0    SMOTE            0\n",
       "501  0.028362      0    SMOTE            0\n",
       "262  0.555983      0    SMOTE            1\n",
       "502  0.222743      1    SMOTE            0\n",
       "489  0.030761      0    SMOTE            0\n",
       "\n",
       "[11835 rows x 4 columns]"
      ]
     },
     "execution_count": 39,
     "metadata": {},
     "output_type": "execute_result"
    }
   ],
   "source": [
    "# Gather test results for imbalanced dataset\n",
    "\n",
    "IM_results_df = pd.DataFrame(\n",
    "    {\n",
    "        'pred':np.vstack([pred,pred_BW,pred_SMOTE])[:,1],\n",
    "        'label':pd.concat([y_df_RTest]*3),\n",
    "        'method':['vanilla']*pred.shape[0]+['balanced weight']*pred_BW.shape[0]+['SMOTE']*pred_SMOTE.shape[0]\n",
    "    }\n",
    ")\n",
    "\n",
    "threshold = 0.5\n",
    "\n",
    "IM_results_df['binary pred'] = (IM_results_df['pred']>threshold).astype('int')\n",
    "IM_results_df"
   ]
  },
  {
   "cell_type": "code",
   "execution_count": 37,
   "metadata": {},
   "outputs": [
    {
     "data": {
      "text/html": [
       "<div>\n",
       "<style scoped>\n",
       "    .dataframe tbody tr th:only-of-type {\n",
       "        vertical-align: middle;\n",
       "    }\n",
       "\n",
       "    .dataframe tbody tr th {\n",
       "        vertical-align: top;\n",
       "    }\n",
       "\n",
       "    .dataframe thead th {\n",
       "        text-align: right;\n",
       "    }\n",
       "</style>\n",
       "<table border=\"1\" class=\"dataframe\">\n",
       "  <thead>\n",
       "    <tr style=\"text-align: right;\">\n",
       "      <th></th>\n",
       "      <th>binary pred</th>\n",
       "      <th>0</th>\n",
       "      <th>1</th>\n",
       "    </tr>\n",
       "    <tr>\n",
       "      <th>label</th>\n",
       "      <th>method</th>\n",
       "      <th></th>\n",
       "      <th></th>\n",
       "    </tr>\n",
       "  </thead>\n",
       "  <tbody>\n",
       "    <tr>\n",
       "      <th rowspan=\"3\" valign=\"top\">0</th>\n",
       "      <th>SMOTE</th>\n",
       "      <td>2894</td>\n",
       "      <td>524</td>\n",
       "    </tr>\n",
       "    <tr>\n",
       "      <th>balanced weight</th>\n",
       "      <td>2829</td>\n",
       "      <td>589</td>\n",
       "    </tr>\n",
       "    <tr>\n",
       "      <th>vanilla</th>\n",
       "      <td>3410</td>\n",
       "      <td>8</td>\n",
       "    </tr>\n",
       "    <tr>\n",
       "      <th rowspan=\"3\" valign=\"top\">1</th>\n",
       "      <th>SMOTE</th>\n",
       "      <td>127</td>\n",
       "      <td>400</td>\n",
       "    </tr>\n",
       "    <tr>\n",
       "      <th>balanced weight</th>\n",
       "      <td>116</td>\n",
       "      <td>411</td>\n",
       "    </tr>\n",
       "    <tr>\n",
       "      <th>vanilla</th>\n",
       "      <td>474</td>\n",
       "      <td>53</td>\n",
       "    </tr>\n",
       "  </tbody>\n",
       "</table>\n",
       "</div>"
      ],
      "text/plain": [
       "binary pred               0    1\n",
       "label method                    \n",
       "0     SMOTE            2894  524\n",
       "      balanced weight  2829  589\n",
       "      vanilla          3410    8\n",
       "1     SMOTE             127  400\n",
       "      balanced weight   116  411\n",
       "      vanilla           474   53"
      ]
     },
     "execution_count": 37,
     "metadata": {},
     "output_type": "execute_result"
    }
   ],
   "source": [
    "IM_results_df.groupby(['label','method'])['binary pred'].value_counts().unstack()"
   ]
  },
  {
   "attachments": {},
   "cell_type": "markdown",
   "metadata": {},
   "source": [
    "From the above table we see that vanilla logistic regression performed very badly, as it predicted almost all cases with positive label as negative cases.\n",
    "\n",
    "For such highly unbalanced data, it is very important to choose a proper metric to measure model performance. When the minority case is the positive case (i.e. label with 1), you can use F1 score. Please try by yourself what happens if you use average precision, accuracy, or AUROC as metric.\n",
    "\n",
    "(The F1 score is a score with values in $[0,1]$, and it measures the harmonic mean of precision and recall at the given threshold. The higher the value, the better the model performance.)"
   ]
  },
  {
   "cell_type": "code",
   "execution_count": 40,
   "metadata": {},
   "outputs": [
    {
     "name": "stdout",
     "output_type": "stream",
     "text": [
      "F1 score is 0.1803 for method vanilla \n",
      "F1 score is 0.5383 for method balanced weight \n",
      "F1 score is 0.5513 for method SMOTE \n"
     ]
    }
   ],
   "source": [
    "from sklearn.metrics import f1_score\n",
    "\n",
    "\n",
    "\n",
    "for method in ['vanilla','balanced weight','SMOTE']:\n",
    "    score = f1_score(IM_results_df.query('method==@method')['label'],IM_results_df.query('method==@method')['binary pred'])\n",
    "    print('F1 score is {:.4f} for method {} '.format(score,method))\n"
   ]
  }
 ],
 "metadata": {
  "kernelspec": {
   "display_name": "env3.10",
   "language": "python",
   "name": "python3"
  },
  "language_info": {
   "codemirror_mode": {
    "name": "ipython",
    "version": 3
   },
   "file_extension": ".py",
   "mimetype": "text/x-python",
   "name": "python",
   "nbconvert_exporter": "python",
   "pygments_lexer": "ipython3",
   "version": "3.10.9"
  },
  "orig_nbformat": 4,
  "vscode": {
   "interpreter": {
    "hash": "5ec3c21330053bd888ae0423f793f928621505090c66dc4d3b71e8bb37792d66"
   }
  }
 },
 "nbformat": 4,
 "nbformat_minor": 2
}
