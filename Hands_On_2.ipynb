{
 "cells": [
  {
   "attachments": {},
   "cell_type": "markdown",
   "metadata": {},
   "source": [
    "# SPH6004 Hands-On 2\n",
    "## Logistic Regression with Regularization, Feature Selection, and Imbalanced Dataset\n",
    "\n",
    "Contents:\n",
    "  * Logistic regression with regularization\n",
    "    * Adam optimizer\n",
    "    * AUROC and average precision (AP) metrics\n",
    "    * Comparison of $L_1$ and $L_2$ regularization effects\n",
    "  * Feature selection methods with `sklearn`\n",
    "    * Forward and backward feature selection using `sklearn`\n",
    "    * Visualize model performance using ROC curve and precision-recall curve\n",
    "  * Data with class imbalance and the **Synthetic Minority Oversampling Technique** (SMOTE)\n"
   ]
  },
  {
   "cell_type": "code",
   "execution_count": 1,
   "metadata": {},
   "outputs": [],
   "source": [
    "# We will use the following packages\n",
    "\n",
    "# PyTorch package and submodules\n",
    "import torch\n",
    "import torch.nn as nn\n",
    "from torch.optim import SGD #gradient descent optimizer\n",
    "\n",
    "# NumPy for math operations, and Pandas for processing tabular data.\n",
    "import numpy as np\n",
    "import pandas as pd\n",
    "\n",
    "# Plotly plotting package\n",
    "import plotly.graph_objects as go\n",
    "import plotly.express as px\n",
    "\n",
    "# We use toy datasets in scikit-learn package\n",
    "from sklearn.datasets import load_breast_cancer\n",
    "\n",
    "# We use AUROC and average precision (AP) scores from sklearn\n",
    "from sklearn.metrics import roc_auc_score, average_precision_score"
   ]
  },
  {
   "attachments": {},
   "cell_type": "markdown",
   "metadata": {},
   "source": [
    "We use the breast cancer dataset from `sklearn` for demonstration. Recall that the independent variables have $30$ dimension, and many of the dimensions are correlated."
   ]
  },
  {
   "cell_type": "code",
   "execution_count": 2,
   "metadata": {},
   "outputs": [
    {
     "data": {
      "text/html": [
       "<div>\n",
       "<style scoped>\n",
       "    .dataframe tbody tr th:only-of-type {\n",
       "        vertical-align: middle;\n",
       "    }\n",
       "\n",
       "    .dataframe tbody tr th {\n",
       "        vertical-align: top;\n",
       "    }\n",
       "\n",
       "    .dataframe thead th {\n",
       "        text-align: right;\n",
       "    }\n",
       "</style>\n",
       "<table border=\"1\" class=\"dataframe\">\n",
       "  <thead>\n",
       "    <tr style=\"text-align: right;\">\n",
       "      <th></th>\n",
       "      <th>count</th>\n",
       "      <th>mean</th>\n",
       "      <th>std</th>\n",
       "      <th>min</th>\n",
       "      <th>25%</th>\n",
       "      <th>50%</th>\n",
       "      <th>75%</th>\n",
       "      <th>max</th>\n",
       "    </tr>\n",
       "  </thead>\n",
       "  <tbody>\n",
       "    <tr>\n",
       "      <th>mean radius</th>\n",
       "      <td>569.0</td>\n",
       "      <td>-1.311195e-16</td>\n",
       "      <td>1.0</td>\n",
       "      <td>-2.027864</td>\n",
       "      <td>-0.688779</td>\n",
       "      <td>-0.214893</td>\n",
       "      <td>0.468980</td>\n",
       "      <td>3.967796</td>\n",
       "    </tr>\n",
       "    <tr>\n",
       "      <th>mean texture</th>\n",
       "      <td>569.0</td>\n",
       "      <td>6.243785e-17</td>\n",
       "      <td>1.0</td>\n",
       "      <td>-2.227289</td>\n",
       "      <td>-0.725325</td>\n",
       "      <td>-0.104544</td>\n",
       "      <td>0.583662</td>\n",
       "      <td>4.647799</td>\n",
       "    </tr>\n",
       "    <tr>\n",
       "      <th>mean perimeter</th>\n",
       "      <td>569.0</td>\n",
       "      <td>-1.248757e-16</td>\n",
       "      <td>1.0</td>\n",
       "      <td>-1.982759</td>\n",
       "      <td>-0.691347</td>\n",
       "      <td>-0.235773</td>\n",
       "      <td>0.499238</td>\n",
       "      <td>3.972634</td>\n",
       "    </tr>\n",
       "    <tr>\n",
       "      <th>mean area</th>\n",
       "      <td>569.0</td>\n",
       "      <td>-2.185325e-16</td>\n",
       "      <td>1.0</td>\n",
       "      <td>-1.453164</td>\n",
       "      <td>-0.666609</td>\n",
       "      <td>-0.294927</td>\n",
       "      <td>0.363188</td>\n",
       "      <td>5.245913</td>\n",
       "    </tr>\n",
       "    <tr>\n",
       "      <th>mean smoothness</th>\n",
       "      <td>569.0</td>\n",
       "      <td>-8.366672e-16</td>\n",
       "      <td>1.0</td>\n",
       "      <td>-3.109349</td>\n",
       "      <td>-0.710338</td>\n",
       "      <td>-0.034860</td>\n",
       "      <td>0.635640</td>\n",
       "      <td>4.766717</td>\n",
       "    </tr>\n",
       "    <tr>\n",
       "      <th>mean compactness</th>\n",
       "      <td>569.0</td>\n",
       "      <td>1.998011e-16</td>\n",
       "      <td>1.0</td>\n",
       "      <td>-1.608721</td>\n",
       "      <td>-0.746429</td>\n",
       "      <td>-0.221745</td>\n",
       "      <td>0.493423</td>\n",
       "      <td>4.564409</td>\n",
       "    </tr>\n",
       "    <tr>\n",
       "      <th>mean concavity</th>\n",
       "      <td>569.0</td>\n",
       "      <td>3.746271e-17</td>\n",
       "      <td>1.0</td>\n",
       "      <td>-1.113893</td>\n",
       "      <td>-0.743094</td>\n",
       "      <td>-0.341939</td>\n",
       "      <td>0.525599</td>\n",
       "      <td>4.239858</td>\n",
       "    </tr>\n",
       "    <tr>\n",
       "      <th>mean concave points</th>\n",
       "      <td>569.0</td>\n",
       "      <td>-4.995028e-17</td>\n",
       "      <td>1.0</td>\n",
       "      <td>-1.260710</td>\n",
       "      <td>-0.737295</td>\n",
       "      <td>-0.397372</td>\n",
       "      <td>0.646366</td>\n",
       "      <td>3.924477</td>\n",
       "    </tr>\n",
       "    <tr>\n",
       "      <th>mean symmetry</th>\n",
       "      <td>569.0</td>\n",
       "      <td>1.748260e-16</td>\n",
       "      <td>1.0</td>\n",
       "      <td>-2.741705</td>\n",
       "      <td>-0.702621</td>\n",
       "      <td>-0.071564</td>\n",
       "      <td>0.530313</td>\n",
       "      <td>4.480808</td>\n",
       "    </tr>\n",
       "    <tr>\n",
       "      <th>mean fractal dimension</th>\n",
       "      <td>569.0</td>\n",
       "      <td>4.838933e-16</td>\n",
       "      <td>1.0</td>\n",
       "      <td>-1.818265</td>\n",
       "      <td>-0.722004</td>\n",
       "      <td>-0.178123</td>\n",
       "      <td>0.470569</td>\n",
       "      <td>4.906602</td>\n",
       "    </tr>\n",
       "    <tr>\n",
       "      <th>radius error</th>\n",
       "      <td>569.0</td>\n",
       "      <td>2.497514e-16</td>\n",
       "      <td>1.0</td>\n",
       "      <td>-1.058992</td>\n",
       "      <td>-0.623022</td>\n",
       "      <td>-0.291988</td>\n",
       "      <td>0.265866</td>\n",
       "      <td>8.899079</td>\n",
       "    </tr>\n",
       "    <tr>\n",
       "      <th>texture error</th>\n",
       "      <td>569.0</td>\n",
       "      <td>-1.123881e-16</td>\n",
       "      <td>1.0</td>\n",
       "      <td>-1.552898</td>\n",
       "      <td>-0.694198</td>\n",
       "      <td>-0.197324</td>\n",
       "      <td>0.466142</td>\n",
       "      <td>6.649429</td>\n",
       "    </tr>\n",
       "    <tr>\n",
       "      <th>perimeter error</th>\n",
       "      <td>569.0</td>\n",
       "      <td>-1.373633e-16</td>\n",
       "      <td>1.0</td>\n",
       "      <td>-1.043131</td>\n",
       "      <td>-0.623220</td>\n",
       "      <td>-0.286400</td>\n",
       "      <td>0.242817</td>\n",
       "      <td>9.453668</td>\n",
       "    </tr>\n",
       "    <tr>\n",
       "      <th>area error</th>\n",
       "      <td>569.0</td>\n",
       "      <td>-1.186319e-16</td>\n",
       "      <td>1.0</td>\n",
       "      <td>-0.737180</td>\n",
       "      <td>-0.494319</td>\n",
       "      <td>-0.347477</td>\n",
       "      <td>0.106679</td>\n",
       "      <td>11.032135</td>\n",
       "    </tr>\n",
       "    <tr>\n",
       "      <th>smoothness error</th>\n",
       "      <td>569.0</td>\n",
       "      <td>-1.545337e-16</td>\n",
       "      <td>1.0</td>\n",
       "      <td>-1.774504</td>\n",
       "      <td>-0.623470</td>\n",
       "      <td>-0.220142</td>\n",
       "      <td>0.368031</td>\n",
       "      <td>8.022940</td>\n",
       "    </tr>\n",
       "    <tr>\n",
       "      <th>compactness error</th>\n",
       "      <td>569.0</td>\n",
       "      <td>1.873136e-16</td>\n",
       "      <td>1.0</td>\n",
       "      <td>-1.296957</td>\n",
       "      <td>-0.692317</td>\n",
       "      <td>-0.280773</td>\n",
       "      <td>0.389312</td>\n",
       "      <td>6.138081</td>\n",
       "    </tr>\n",
       "    <tr>\n",
       "      <th>concavity error</th>\n",
       "      <td>569.0</td>\n",
       "      <td>1.685822e-16</td>\n",
       "      <td>1.0</td>\n",
       "      <td>-1.056571</td>\n",
       "      <td>-0.556671</td>\n",
       "      <td>-0.198890</td>\n",
       "      <td>0.336456</td>\n",
       "      <td>12.062067</td>\n",
       "    </tr>\n",
       "    <tr>\n",
       "      <th>concave points error</th>\n",
       "      <td>569.0</td>\n",
       "      <td>2.497514e-17</td>\n",
       "      <td>1.0</td>\n",
       "      <td>-1.911765</td>\n",
       "      <td>-0.673897</td>\n",
       "      <td>-0.140372</td>\n",
       "      <td>0.472241</td>\n",
       "      <td>6.643755</td>\n",
       "    </tr>\n",
       "    <tr>\n",
       "      <th>symmetry error</th>\n",
       "      <td>569.0</td>\n",
       "      <td>9.365678e-17</td>\n",
       "      <td>1.0</td>\n",
       "      <td>-1.531542</td>\n",
       "      <td>-0.651108</td>\n",
       "      <td>-0.219238</td>\n",
       "      <td>0.355380</td>\n",
       "      <td>7.065700</td>\n",
       "    </tr>\n",
       "    <tr>\n",
       "      <th>fractal dimension error</th>\n",
       "      <td>569.0</td>\n",
       "      <td>-6.243785e-18</td>\n",
       "      <td>1.0</td>\n",
       "      <td>-1.096004</td>\n",
       "      <td>-0.584604</td>\n",
       "      <td>-0.229738</td>\n",
       "      <td>0.288388</td>\n",
       "      <td>9.842932</td>\n",
       "    </tr>\n",
       "    <tr>\n",
       "      <th>worst radius</th>\n",
       "      <td>569.0</td>\n",
       "      <td>-8.241796e-16</td>\n",
       "      <td>1.0</td>\n",
       "      <td>-1.725382</td>\n",
       "      <td>-0.674328</td>\n",
       "      <td>-0.268803</td>\n",
       "      <td>0.521557</td>\n",
       "      <td>4.090590</td>\n",
       "    </tr>\n",
       "    <tr>\n",
       "      <th>worst texture</th>\n",
       "      <td>569.0</td>\n",
       "      <td>1.248757e-17</td>\n",
       "      <td>1.0</td>\n",
       "      <td>-2.222039</td>\n",
       "      <td>-0.747971</td>\n",
       "      <td>-0.043477</td>\n",
       "      <td>0.657762</td>\n",
       "      <td>3.882489</td>\n",
       "    </tr>\n",
       "    <tr>\n",
       "      <th>worst perimeter</th>\n",
       "      <td>569.0</td>\n",
       "      <td>-3.496520e-16</td>\n",
       "      <td>1.0</td>\n",
       "      <td>-1.691872</td>\n",
       "      <td>-0.688972</td>\n",
       "      <td>-0.285729</td>\n",
       "      <td>0.539804</td>\n",
       "      <td>4.283568</td>\n",
       "    </tr>\n",
       "    <tr>\n",
       "      <th>worst area</th>\n",
       "      <td>569.0</td>\n",
       "      <td>0.000000e+00</td>\n",
       "      <td>1.0</td>\n",
       "      <td>-1.221348</td>\n",
       "      <td>-0.641571</td>\n",
       "      <td>-0.340881</td>\n",
       "      <td>0.357275</td>\n",
       "      <td>5.924959</td>\n",
       "    </tr>\n",
       "    <tr>\n",
       "      <th>worst smoothness</th>\n",
       "      <td>569.0</td>\n",
       "      <td>-2.122887e-16</td>\n",
       "      <td>1.0</td>\n",
       "      <td>-2.680337</td>\n",
       "      <td>-0.690623</td>\n",
       "      <td>-0.046802</td>\n",
       "      <td>0.597020</td>\n",
       "      <td>3.951897</td>\n",
       "    </tr>\n",
       "    <tr>\n",
       "      <th>worst compactness</th>\n",
       "      <td>569.0</td>\n",
       "      <td>-3.621395e-16</td>\n",
       "      <td>1.0</td>\n",
       "      <td>-1.442609</td>\n",
       "      <td>-0.680485</td>\n",
       "      <td>-0.269264</td>\n",
       "      <td>0.539194</td>\n",
       "      <td>5.108382</td>\n",
       "    </tr>\n",
       "    <tr>\n",
       "      <th>worst concavity</th>\n",
       "      <td>569.0</td>\n",
       "      <td>8.741299e-17</td>\n",
       "      <td>1.0</td>\n",
       "      <td>-1.304683</td>\n",
       "      <td>-0.755849</td>\n",
       "      <td>-0.218040</td>\n",
       "      <td>0.530674</td>\n",
       "      <td>4.696536</td>\n",
       "    </tr>\n",
       "    <tr>\n",
       "      <th>worst concave points</th>\n",
       "      <td>569.0</td>\n",
       "      <td>2.122887e-16</td>\n",
       "      <td>1.0</td>\n",
       "      <td>-1.743529</td>\n",
       "      <td>-0.755735</td>\n",
       "      <td>-0.223272</td>\n",
       "      <td>0.711884</td>\n",
       "      <td>2.683516</td>\n",
       "    </tr>\n",
       "    <tr>\n",
       "      <th>worst symmetry</th>\n",
       "      <td>569.0</td>\n",
       "      <td>2.622390e-16</td>\n",
       "      <td>1.0</td>\n",
       "      <td>-2.159060</td>\n",
       "      <td>-0.641299</td>\n",
       "      <td>-0.127297</td>\n",
       "      <td>0.449742</td>\n",
       "      <td>6.040726</td>\n",
       "    </tr>\n",
       "    <tr>\n",
       "      <th>worst fractal dimension</th>\n",
       "      <td>569.0</td>\n",
       "      <td>-5.744282e-16</td>\n",
       "      <td>1.0</td>\n",
       "      <td>-1.600431</td>\n",
       "      <td>-0.691303</td>\n",
       "      <td>-0.216254</td>\n",
       "      <td>0.450366</td>\n",
       "      <td>6.840837</td>\n",
       "    </tr>\n",
       "  </tbody>\n",
       "</table>\n",
       "</div>"
      ],
      "text/plain": [
       "                         count          mean  std       min       25%  \\\n",
       "mean radius              569.0 -1.311195e-16  1.0 -2.027864 -0.688779   \n",
       "mean texture             569.0  6.243785e-17  1.0 -2.227289 -0.725325   \n",
       "mean perimeter           569.0 -1.248757e-16  1.0 -1.982759 -0.691347   \n",
       "mean area                569.0 -2.185325e-16  1.0 -1.453164 -0.666609   \n",
       "mean smoothness          569.0 -8.366672e-16  1.0 -3.109349 -0.710338   \n",
       "mean compactness         569.0  1.998011e-16  1.0 -1.608721 -0.746429   \n",
       "mean concavity           569.0  3.746271e-17  1.0 -1.113893 -0.743094   \n",
       "mean concave points      569.0 -4.995028e-17  1.0 -1.260710 -0.737295   \n",
       "mean symmetry            569.0  1.748260e-16  1.0 -2.741705 -0.702621   \n",
       "mean fractal dimension   569.0  4.838933e-16  1.0 -1.818265 -0.722004   \n",
       "radius error             569.0  2.497514e-16  1.0 -1.058992 -0.623022   \n",
       "texture error            569.0 -1.123881e-16  1.0 -1.552898 -0.694198   \n",
       "perimeter error          569.0 -1.373633e-16  1.0 -1.043131 -0.623220   \n",
       "area error               569.0 -1.186319e-16  1.0 -0.737180 -0.494319   \n",
       "smoothness error         569.0 -1.545337e-16  1.0 -1.774504 -0.623470   \n",
       "compactness error        569.0  1.873136e-16  1.0 -1.296957 -0.692317   \n",
       "concavity error          569.0  1.685822e-16  1.0 -1.056571 -0.556671   \n",
       "concave points error     569.0  2.497514e-17  1.0 -1.911765 -0.673897   \n",
       "symmetry error           569.0  9.365678e-17  1.0 -1.531542 -0.651108   \n",
       "fractal dimension error  569.0 -6.243785e-18  1.0 -1.096004 -0.584604   \n",
       "worst radius             569.0 -8.241796e-16  1.0 -1.725382 -0.674328   \n",
       "worst texture            569.0  1.248757e-17  1.0 -2.222039 -0.747971   \n",
       "worst perimeter          569.0 -3.496520e-16  1.0 -1.691872 -0.688972   \n",
       "worst area               569.0  0.000000e+00  1.0 -1.221348 -0.641571   \n",
       "worst smoothness         569.0 -2.122887e-16  1.0 -2.680337 -0.690623   \n",
       "worst compactness        569.0 -3.621395e-16  1.0 -1.442609 -0.680485   \n",
       "worst concavity          569.0  8.741299e-17  1.0 -1.304683 -0.755849   \n",
       "worst concave points     569.0  2.122887e-16  1.0 -1.743529 -0.755735   \n",
       "worst symmetry           569.0  2.622390e-16  1.0 -2.159060 -0.641299   \n",
       "worst fractal dimension  569.0 -5.744282e-16  1.0 -1.600431 -0.691303   \n",
       "\n",
       "                              50%       75%        max  \n",
       "mean radius             -0.214893  0.468980   3.967796  \n",
       "mean texture            -0.104544  0.583662   4.647799  \n",
       "mean perimeter          -0.235773  0.499238   3.972634  \n",
       "mean area               -0.294927  0.363188   5.245913  \n",
       "mean smoothness         -0.034860  0.635640   4.766717  \n",
       "mean compactness        -0.221745  0.493423   4.564409  \n",
       "mean concavity          -0.341939  0.525599   4.239858  \n",
       "mean concave points     -0.397372  0.646366   3.924477  \n",
       "mean symmetry           -0.071564  0.530313   4.480808  \n",
       "mean fractal dimension  -0.178123  0.470569   4.906602  \n",
       "radius error            -0.291988  0.265866   8.899079  \n",
       "texture error           -0.197324  0.466142   6.649429  \n",
       "perimeter error         -0.286400  0.242817   9.453668  \n",
       "area error              -0.347477  0.106679  11.032135  \n",
       "smoothness error        -0.220142  0.368031   8.022940  \n",
       "compactness error       -0.280773  0.389312   6.138081  \n",
       "concavity error         -0.198890  0.336456  12.062067  \n",
       "concave points error    -0.140372  0.472241   6.643755  \n",
       "symmetry error          -0.219238  0.355380   7.065700  \n",
       "fractal dimension error -0.229738  0.288388   9.842932  \n",
       "worst radius            -0.268803  0.521557   4.090590  \n",
       "worst texture           -0.043477  0.657762   3.882489  \n",
       "worst perimeter         -0.285729  0.539804   4.283568  \n",
       "worst area              -0.340881  0.357275   5.924959  \n",
       "worst smoothness        -0.046802  0.597020   3.951897  \n",
       "worst compactness       -0.269264  0.539194   5.108382  \n",
       "worst concavity         -0.218040  0.530674   4.696536  \n",
       "worst concave points    -0.223272  0.711884   2.683516  \n",
       "worst symmetry          -0.127297  0.449742   6.040726  \n",
       "worst fractal dimension -0.216254  0.450366   6.840837  "
      ]
     },
     "execution_count": 2,
     "metadata": {},
     "output_type": "execute_result"
    }
   ],
   "source": [
    "X_raw, y_df = load_breast_cancer(return_X_y=True, as_frame=True)\n",
    "X_df = (X_raw-X_raw.mean())/X_raw.std()\n",
    "X_df.describe().transpose()"
   ]
  },
  {
   "cell_type": "code",
   "execution_count": 3,
   "metadata": {},
   "outputs": [],
   "source": [
    "# We convert dataframe to PyTorch tensor datatype,\n",
    "# and then split it into training and testing parts.\n",
    "X = torch.tensor(X_df.to_numpy(),dtype=torch.float32)\n",
    "m,n = X.shape\n",
    "y = torch.tensor(y_df.to_numpy(),dtype=torch.float32).reshape(m,1)\n",
    "\n",
    "# We use an approx 6:4 train test splitting\n",
    "cases = ['train','test']\n",
    "case_list = np.random.choice(cases,size=X.shape[0],replace=True,p=[0.6,0.4])\n",
    "X_train = X[case_list=='train']\n",
    "X_test = X[case_list=='test']\n",
    "y_train = y[case_list=='train']\n",
    "y_test = y[case_list=='test']"
   ]
  },
  {
   "attachments": {},
   "cell_type": "markdown",
   "metadata": {},
   "source": [
    "We first fit an ordinary logistic regression model as a baseline. We will use AUROC and average precision (AP) scores to test model performance."
   ]
  },
  {
   "cell_type": "code",
   "execution_count": 4,
   "metadata": {},
   "outputs": [
    {
     "name": "stdout",
     "output_type": "stream",
     "text": [
      "Iter 1: average BCE loss is 0.757\n",
      "Iter 500: average BCE loss is 0.046\n",
      "Iter 1000: average BCE loss is 0.034\n",
      "Iter 1500: average BCE loss is 0.027\n",
      "Iter 2000: average BCE loss is 0.022\n",
      "Iter 2500: average BCE loss is 0.018\n",
      "Iter 3000: average BCE loss is 0.015\n",
      "Iter 3500: average BCE loss is 0.012\n",
      "Iter 4000: average BCE loss is 0.009\n",
      "Iter 4500: average BCE loss is 0.007\n",
      "Iter 5000: average BCE loss is 0.006\n",
      "On test dataset: AUROC 0.971, AP 0.966\n"
     ]
    }
   ],
   "source": [
    "h = torch.nn.Linear(\n",
    "    in_features=n,\n",
    "    out_features=1,\n",
    "    bias=True\n",
    ")\n",
    "sigma = torch.nn.Sigmoid()\n",
    "\n",
    "# Logistic model is linear+sigmoid\n",
    "f = torch.nn.Sequential(\n",
    "    h,\n",
    "    sigma\n",
    ")\n",
    "\n",
    "J_BCE = torch.nn.BCELoss()\n",
    "# We use the Adam optimizer, which is\n",
    "# a variant of gradient descent method with momentum.\n",
    "GD_optimizer = torch.optim.Adam(lr=0.01,params=f.parameters())\n",
    "\n",
    "nIter = 5000\n",
    "printInterval = 500\n",
    "\n",
    "for i in range(nIter):\n",
    "    GD_optimizer.zero_grad()\n",
    "    pred = f(X_train)\n",
    "    loss = J_BCE(pred,y_train)\n",
    "    loss.backward()\n",
    "    GD_optimizer.step()\n",
    "    if i == 0 or ((i+1)%printInterval) == 0:\n",
    "        print('Iter {}: average BCE loss is {:.3f}'.format(i+1,loss.item()))\n",
    "\n",
    "with torch.no_grad():\n",
    "    pred_test = f(X_test)\n",
    "\n",
    "auroc = roc_auc_score(y_test,pred_test)\n",
    "ap = average_precision_score(y_test,pred_test)\n",
    "print('On test dataset: AUROC {:.3f}, AP {:.3f}'.format(auroc,ap))"
   ]
  },
  {
   "cell_type": "code",
   "execution_count": 5,
   "metadata": {},
   "outputs": [],
   "source": [
    "# Let use save the model parameters for later comparisons.\n",
    "# Recall that PyTorch do automatic differentiation, so\n",
    "# model parameters (i.e. h.weight) has gradients information. This\n",
    "# may cause problem for later analysis when gradient is not needed.\n",
    "# Use .detach() to detach gradient information from the weights.\n",
    "\n",
    "weight = h.weight.detach().squeeze().clone()"
   ]
  },
  {
   "attachments": {},
   "cell_type": "markdown",
   "metadata": {},
   "source": [
    "### Logistic Regression with $L_2$ regularization"
   ]
  },
  {
   "attachments": {},
   "cell_type": "markdown",
   "metadata": {},
   "source": [
    "Logistic regression with $L_2$ regularization is also called *ridge logistic regression*. Recall that we add $L_2$ regularization to model parameters:\n",
    "\n",
    "$$\n",
    "J_{L_2}(\\theta) =  J(\\theta) + \\lambda/2 ||\\theta||_2^2,\n",
    "$$\n",
    "\n",
    "where large parameter values are penalized by the $L_2$ norm term\n",
    "\n",
    "$$\n",
    "||\\theta||_2^2 = \\sum_j \\theta_j^2.\n",
    "$$\n",
    "\n",
    "In PyTorch the $L_2$ regularization of model parameters are supported in its build-in optimizers."
   ]
  },
  {
   "cell_type": "code",
   "execution_count": 6,
   "metadata": {},
   "outputs": [
    {
     "name": "stdout",
     "output_type": "stream",
     "text": [
      "Iter 1: average BCE loss is 0.882\n",
      "Iter 50: average BCE loss is 0.135\n",
      "Iter 100: average BCE loss is 0.114\n",
      "Iter 150: average BCE loss is 0.108\n",
      "Iter 200: average BCE loss is 0.105\n",
      "Iter 250: average BCE loss is 0.104\n",
      "Iter 300: average BCE loss is 0.104\n",
      "Iter 350: average BCE loss is 0.103\n",
      "Iter 400: average BCE loss is 0.103\n",
      "Iter 450: average BCE loss is 0.103\n",
      "Iter 500: average BCE loss is 0.103\n",
      "On test dataset: AUROC 0.994, AP 0.995\n"
     ]
    }
   ],
   "source": [
    "h_L2 = torch.nn.Linear(\n",
    "    in_features=n,\n",
    "    out_features=1,\n",
    "    bias=True\n",
    ")\n",
    "sigma = torch.nn.Sigmoid()\n",
    "\n",
    "# Logistic model is linear+sigmoid\n",
    "f_L2 = torch.nn.Sequential(\n",
    "    h_L2,\n",
    "    sigma\n",
    ")\n",
    "\n",
    "J_BCE = torch.nn.BCELoss()\n",
    "\n",
    "# PyTorch optimizer support L2 regularization by\n",
    "# setting the weight_decay parameter, which corresponds to\n",
    "# the regularization strength.\n",
    "GD_optimizer = torch.optim.Adam(lr=0.01,params=f_L2.parameters(),weight_decay=0.05)\n",
    "\n",
    "nIter = 500\n",
    "printInterval = 50\n",
    "\n",
    "for i in range(nIter):\n",
    "    GD_optimizer.zero_grad()\n",
    "    pred = f_L2(X_train)\n",
    "    loss = J_BCE(pred,y_train)\n",
    "    loss.backward()\n",
    "    GD_optimizer.step()\n",
    "    if i == 0 or ((i+1)%printInterval) == 0:\n",
    "        print('Iter {}: average BCE loss is {:.3f}'.format(i+1,loss.item()))\n",
    "\n",
    "with torch.no_grad():\n",
    "    pred_test = f_L2(X_test)\n",
    "\n",
    "auroc = roc_auc_score(y_test,pred_test)\n",
    "ap = average_precision_score(y_test,pred_test)\n",
    "print('On test dataset: AUROC {:.3f}, AP {:.3f}'.format(auroc,ap))"
   ]
  },
  {
   "cell_type": "code",
   "execution_count": 7,
   "metadata": {},
   "outputs": [],
   "source": [
    "weight_L2 = h_L2.weight.detach().squeeze().clone()"
   ]
  },
  {
   "attachments": {},
   "cell_type": "markdown",
   "metadata": {},
   "source": [
    "### Logistic Regression with $L_1$ Regularization\n",
    "\n",
    "Logistic regression with $L_1$ regularization is also called *LASSO logistic regression*. For the LASSO logistic regression, we add $L_1$ regularization to model parameters:\n",
    "\n",
    "$$\n",
    "J_{L_1}(\\theta) = J(\\theta) + \\lambda ||\\theta||_1,\n",
    "$$\n",
    "\n",
    "where large model parameters are $L_1$ norm\n",
    "\n",
    "$$\n",
    "||\\theta||_1 = \\sum_j |\\theta_j|.\n",
    "$$"
   ]
  },
  {
   "attachments": {},
   "cell_type": "markdown",
   "metadata": {},
   "source": [
    "There is no build-in support for $L_1$ regularization in PyTorch, so we will need to build our own code. The idea is to iterate over all parameters of our model, calculate the sum of their absolute value, and the let PyTorch do the differentiation and optimization."
   ]
  },
  {
   "cell_type": "code",
   "execution_count": 8,
   "metadata": {},
   "outputs": [
    {
     "name": "stdout",
     "output_type": "stream",
     "text": [
      "Iter 1: average BCE loss is 0.736\n",
      "Iter 50: average BCE loss is 0.158\n",
      "Iter 100: average BCE loss is 0.149\n",
      "Iter 150: average BCE loss is 0.144\n",
      "Iter 200: average BCE loss is 0.143\n",
      "Iter 250: average BCE loss is 0.142\n",
      "Iter 300: average BCE loss is 0.140\n",
      "Iter 350: average BCE loss is 0.139\n",
      "Iter 400: average BCE loss is 0.139\n",
      "Iter 450: average BCE loss is 0.138\n",
      "Iter 500: average BCE loss is 0.137\n",
      "On test dataset: AUROC 0.994, AP 0.995\n"
     ]
    }
   ],
   "source": [
    "h_L1 = torch.nn.Linear(\n",
    "    in_features=n,\n",
    "    out_features=1,\n",
    "    bias=True\n",
    ")\n",
    "sigma = torch.nn.Sigmoid()\n",
    "\n",
    "# Logistic model is linear+sigmoid\n",
    "f_L1 = torch.nn.Sequential(\n",
    "    h_L1,\n",
    "    sigma\n",
    ")\n",
    "\n",
    "J_BCE = torch.nn.BCELoss()\n",
    "\n",
    "GD_optimizer = torch.optim.Adam(lr=0.01,params=f_L1.parameters())\n",
    "\n",
    "# Define L_1 regularization\n",
    "def L1_reg(model,lbd):\n",
    "    result = torch.tensor(0)\n",
    "    for param in model.parameters(): # iterate over all parameters of our model\n",
    "        result = result + param.abs().sum()\n",
    "\n",
    "    return lbd*result\n",
    "\n",
    "\n",
    "nIter = 500\n",
    "printInterval = 50\n",
    "lbd = 0.03 # L1 reg strength\n",
    "\n",
    "for i in range(nIter):\n",
    "    GD_optimizer.zero_grad()\n",
    "    pred = f_L1(X_train)\n",
    "    loss = J_BCE(pred,y_train)\n",
    "    (loss+L1_reg(f_L1,lbd)).backward()\n",
    "    GD_optimizer.step()\n",
    "    if i == 0 or ((i+1)%printInterval) == 0:\n",
    "        print('Iter {}: average BCE loss is {:.3f}'.format(i+1,loss.item()))\n",
    "\n",
    "with torch.no_grad():\n",
    "    pred_test = f_L1(X_test)\n",
    "\n",
    "auroc = roc_auc_score(y_test,pred_test)\n",
    "ap = average_precision_score(y_test,pred_test)\n",
    "print('On test dataset: AUROC {:.3f}, AP {:.3f}'.format(auroc,ap))"
   ]
  },
  {
   "cell_type": "code",
   "execution_count": 9,
   "metadata": {},
   "outputs": [],
   "source": [
    "weight_L1 = h_L1.weight.detach().squeeze().clone()"
   ]
  },
  {
   "attachments": {},
   "cell_type": "markdown",
   "metadata": {},
   "source": [
    "Let us now visualize and compare the weights of the three models."
   ]
  },
  {
   "cell_type": "code",
   "execution_count": 10,
   "metadata": {},
   "outputs": [
    {
     "data": {
      "text/html": [
       "<div>\n",
       "<style scoped>\n",
       "    .dataframe tbody tr th:only-of-type {\n",
       "        vertical-align: middle;\n",
       "    }\n",
       "\n",
       "    .dataframe tbody tr th {\n",
       "        vertical-align: top;\n",
       "    }\n",
       "\n",
       "    .dataframe thead th {\n",
       "        text-align: right;\n",
       "    }\n",
       "</style>\n",
       "<table border=\"1\" class=\"dataframe\">\n",
       "  <thead>\n",
       "    <tr style=\"text-align: right;\">\n",
       "      <th></th>\n",
       "      <th>variable</th>\n",
       "      <th>value</th>\n",
       "    </tr>\n",
       "  </thead>\n",
       "  <tbody>\n",
       "    <tr>\n",
       "      <th>0</th>\n",
       "      <td>vanilla</td>\n",
       "      <td>0.414906</td>\n",
       "    </tr>\n",
       "    <tr>\n",
       "      <th>1</th>\n",
       "      <td>vanilla</td>\n",
       "      <td>0.591732</td>\n",
       "    </tr>\n",
       "    <tr>\n",
       "      <th>2</th>\n",
       "      <td>vanilla</td>\n",
       "      <td>-0.200690</td>\n",
       "    </tr>\n",
       "    <tr>\n",
       "      <th>3</th>\n",
       "      <td>vanilla</td>\n",
       "      <td>0.029234</td>\n",
       "    </tr>\n",
       "    <tr>\n",
       "      <th>4</th>\n",
       "      <td>vanilla</td>\n",
       "      <td>-2.873187</td>\n",
       "    </tr>\n",
       "    <tr>\n",
       "      <th>...</th>\n",
       "      <td>...</td>\n",
       "      <td>...</td>\n",
       "    </tr>\n",
       "    <tr>\n",
       "      <th>85</th>\n",
       "      <td>L1</td>\n",
       "      <td>-0.002185</td>\n",
       "    </tr>\n",
       "    <tr>\n",
       "      <th>86</th>\n",
       "      <td>L1</td>\n",
       "      <td>-0.100998</td>\n",
       "    </tr>\n",
       "    <tr>\n",
       "      <th>87</th>\n",
       "      <td>L1</td>\n",
       "      <td>-0.475548</td>\n",
       "    </tr>\n",
       "    <tr>\n",
       "      <th>88</th>\n",
       "      <td>L1</td>\n",
       "      <td>-0.196790</td>\n",
       "    </tr>\n",
       "    <tr>\n",
       "      <th>89</th>\n",
       "      <td>L1</td>\n",
       "      <td>-0.000271</td>\n",
       "    </tr>\n",
       "  </tbody>\n",
       "</table>\n",
       "<p>90 rows × 2 columns</p>\n",
       "</div>"
      ],
      "text/plain": [
       "   variable     value\n",
       "0   vanilla  0.414906\n",
       "1   vanilla  0.591732\n",
       "2   vanilla -0.200690\n",
       "3   vanilla  0.029234\n",
       "4   vanilla -2.873187\n",
       "..      ...       ...\n",
       "85       L1 -0.002185\n",
       "86       L1 -0.100998\n",
       "87       L1 -0.475548\n",
       "88       L1 -0.196790\n",
       "89       L1 -0.000271\n",
       "\n",
       "[90 rows x 2 columns]"
      ]
     },
     "execution_count": 10,
     "metadata": {},
     "output_type": "execute_result"
    }
   ],
   "source": [
    "weight_df = pd.DataFrame(\n",
    "    {\n",
    "        'vanilla':weight,\n",
    "        'L2':weight_L2,\n",
    "        'L1':weight_L1\n",
    "    }\n",
    ").melt(id_vars=[],value_vars=['vanilla','L2','L1'])\n",
    "weight_df"
   ]
  },
  {
   "cell_type": "code",
   "execution_count": 11,
   "metadata": {},
   "outputs": [
    {
     "data": {
      "application/vnd.plotly.v1+json": {
       "config": {
        "plotlyServerURL": "https://plot.ly"
       },
       "data": [
        {
         "alignmentgroup": "True",
         "boxpoints": "all",
         "hovertemplate": "variable=vanilla<br>value=%{y}<extra></extra>",
         "jitter": 0.5,
         "legendgroup": "vanilla",
         "marker": {
          "color": "#636efa"
         },
         "name": "vanilla",
         "notched": false,
         "offsetgroup": "vanilla",
         "orientation": "v",
         "showlegend": true,
         "type": "box",
         "x0": " ",
         "xaxis": "x",
         "y": [
          0.41490620374679565,
          0.5917319059371948,
          -0.20069023966789246,
          0.029234133660793304,
          -2.8731870651245117,
          2.6686205863952637,
          -5.77545690536499,
          -3.6698813438415527,
          -1.2080045938491821,
          0.7649072408676147,
          -4.304516315460205,
          5.682004928588867,
          -2.2801690101623535,
          -3.2625651359558105,
          -4.380665302276611,
          5.598058223724365,
          -1.820360779762268,
          2.3483386039733887,
          3.3963842391967773,
          3.8195321559906006,
          -3.826958417892456,
          -8.132000923156738,
          -2.9124114513397217,
          -3.285773754119873,
          2.716931104660034,
          2.9681015014648438,
          -2.4544692039489746,
          -1.4870599508285522,
          -0.9428337812423706,
          -6.746608257293701
         ],
         "y0": " ",
         "yaxis": "y"
        },
        {
         "alignmentgroup": "True",
         "boxpoints": "all",
         "hovertemplate": "variable=L2<br>value=%{y}<extra></extra>",
         "jitter": 0.5,
         "legendgroup": "L2",
         "marker": {
          "color": "#EF553B"
         },
         "name": "L2",
         "notched": false,
         "offsetgroup": "L2",
         "orientation": "v",
         "showlegend": true,
         "type": "box",
         "x0": " ",
         "xaxis": "x2",
         "y": [
          -0.29291385412216187,
          -0.25497159361839294,
          -0.2878066897392273,
          -0.301130473613739,
          -0.10891436040401459,
          -0.059419479221105576,
          -0.3033416271209717,
          -0.3566688895225525,
          -0.06834829598665237,
          0.10593615472316742,
          -0.38099679350852966,
          0.042731042951345444,
          -0.32577812671661377,
          -0.30756086111068726,
          0.02887030504643917,
          0.13958938419818878,
          0.062252338975667953,
          0.009723112918436527,
          0.107784204185009,
          0.12369019538164139,
          -0.3953516185283661,
          -0.38665714859962463,
          -0.37988877296447754,
          -0.3781600892543793,
          -0.2842198610305786,
          -0.16600912809371948,
          -0.278081476688385,
          -0.32873818278312683,
          -0.3044106364250183,
          -0.15586228668689728
         ],
         "y0": " ",
         "yaxis": "y2"
        },
        {
         "alignmentgroup": "True",
         "boxpoints": "all",
         "hovertemplate": "variable=L1<br>value=%{y}<extra></extra>",
         "jitter": 0.5,
         "legendgroup": "L1",
         "marker": {
          "color": "#00cc96"
         },
         "name": "L1",
         "notched": false,
         "offsetgroup": "L1",
         "orientation": "v",
         "showlegend": true,
         "type": "box",
         "x0": " ",
         "xaxis": "x3",
         "y": [
          -0.010086231864988804,
          -0.0014222001191228628,
          -0.00020249473163858056,
          -0.047067783772945404,
          -0.0005757678882218897,
          -0.0030087768100202084,
          -0.06681083887815475,
          -0.6499080657958984,
          0.0011016324860975146,
          0.0019163328688591719,
          -0.3504164516925812,
          0.0017703167395666242,
          -0.003154891077429056,
          -0.003519115736708045,
          -0.0016399233136326075,
          0.0018767099827528,
          0.002247051801532507,
          0.002196949440985918,
          0.004874733276665211,
          0.000017291982658207417,
          -0.6924722790718079,
          -0.4271383583545685,
          -0.6783941984176636,
          -0.3497799038887024,
          -0.13308300077915192,
          -0.002184817334637046,
          -0.10099838674068451,
          -0.4755478799343109,
          -0.19678980112075806,
          -0.00027063104789704084
         ],
         "y0": " ",
         "yaxis": "y3"
        }
       ],
       "layout": {
        "annotations": [
         {
          "font": {},
          "showarrow": false,
          "text": "variable=vanilla",
          "x": 0.15999999999999998,
          "xanchor": "center",
          "xref": "paper",
          "y": 1,
          "yanchor": "bottom",
          "yref": "paper"
         },
         {
          "font": {},
          "showarrow": false,
          "text": "variable=L2",
          "x": 0.49999999999999994,
          "xanchor": "center",
          "xref": "paper",
          "y": 1,
          "yanchor": "bottom",
          "yref": "paper"
         },
         {
          "font": {},
          "showarrow": false,
          "text": "variable=L1",
          "x": 0.8399999999999999,
          "xanchor": "center",
          "xref": "paper",
          "y": 1,
          "yanchor": "bottom",
          "yref": "paper"
         }
        ],
        "boxmode": "group",
        "legend": {
         "title": {
          "text": "variable"
         },
         "tracegroupgap": 0
        },
        "template": {
         "data": {
          "bar": [
           {
            "error_x": {
             "color": "#2a3f5f"
            },
            "error_y": {
             "color": "#2a3f5f"
            },
            "marker": {
             "line": {
              "color": "#E5ECF6",
              "width": 0.5
             },
             "pattern": {
              "fillmode": "overlay",
              "size": 10,
              "solidity": 0.2
             }
            },
            "type": "bar"
           }
          ],
          "barpolar": [
           {
            "marker": {
             "line": {
              "color": "#E5ECF6",
              "width": 0.5
             },
             "pattern": {
              "fillmode": "overlay",
              "size": 10,
              "solidity": 0.2
             }
            },
            "type": "barpolar"
           }
          ],
          "carpet": [
           {
            "aaxis": {
             "endlinecolor": "#2a3f5f",
             "gridcolor": "white",
             "linecolor": "white",
             "minorgridcolor": "white",
             "startlinecolor": "#2a3f5f"
            },
            "baxis": {
             "endlinecolor": "#2a3f5f",
             "gridcolor": "white",
             "linecolor": "white",
             "minorgridcolor": "white",
             "startlinecolor": "#2a3f5f"
            },
            "type": "carpet"
           }
          ],
          "choropleth": [
           {
            "colorbar": {
             "outlinewidth": 0,
             "ticks": ""
            },
            "type": "choropleth"
           }
          ],
          "contour": [
           {
            "colorbar": {
             "outlinewidth": 0,
             "ticks": ""
            },
            "colorscale": [
             [
              0,
              "#0d0887"
             ],
             [
              0.1111111111111111,
              "#46039f"
             ],
             [
              0.2222222222222222,
              "#7201a8"
             ],
             [
              0.3333333333333333,
              "#9c179e"
             ],
             [
              0.4444444444444444,
              "#bd3786"
             ],
             [
              0.5555555555555556,
              "#d8576b"
             ],
             [
              0.6666666666666666,
              "#ed7953"
             ],
             [
              0.7777777777777778,
              "#fb9f3a"
             ],
             [
              0.8888888888888888,
              "#fdca26"
             ],
             [
              1,
              "#f0f921"
             ]
            ],
            "type": "contour"
           }
          ],
          "contourcarpet": [
           {
            "colorbar": {
             "outlinewidth": 0,
             "ticks": ""
            },
            "type": "contourcarpet"
           }
          ],
          "heatmap": [
           {
            "colorbar": {
             "outlinewidth": 0,
             "ticks": ""
            },
            "colorscale": [
             [
              0,
              "#0d0887"
             ],
             [
              0.1111111111111111,
              "#46039f"
             ],
             [
              0.2222222222222222,
              "#7201a8"
             ],
             [
              0.3333333333333333,
              "#9c179e"
             ],
             [
              0.4444444444444444,
              "#bd3786"
             ],
             [
              0.5555555555555556,
              "#d8576b"
             ],
             [
              0.6666666666666666,
              "#ed7953"
             ],
             [
              0.7777777777777778,
              "#fb9f3a"
             ],
             [
              0.8888888888888888,
              "#fdca26"
             ],
             [
              1,
              "#f0f921"
             ]
            ],
            "type": "heatmap"
           }
          ],
          "heatmapgl": [
           {
            "colorbar": {
             "outlinewidth": 0,
             "ticks": ""
            },
            "colorscale": [
             [
              0,
              "#0d0887"
             ],
             [
              0.1111111111111111,
              "#46039f"
             ],
             [
              0.2222222222222222,
              "#7201a8"
             ],
             [
              0.3333333333333333,
              "#9c179e"
             ],
             [
              0.4444444444444444,
              "#bd3786"
             ],
             [
              0.5555555555555556,
              "#d8576b"
             ],
             [
              0.6666666666666666,
              "#ed7953"
             ],
             [
              0.7777777777777778,
              "#fb9f3a"
             ],
             [
              0.8888888888888888,
              "#fdca26"
             ],
             [
              1,
              "#f0f921"
             ]
            ],
            "type": "heatmapgl"
           }
          ],
          "histogram": [
           {
            "marker": {
             "pattern": {
              "fillmode": "overlay",
              "size": 10,
              "solidity": 0.2
             }
            },
            "type": "histogram"
           }
          ],
          "histogram2d": [
           {
            "colorbar": {
             "outlinewidth": 0,
             "ticks": ""
            },
            "colorscale": [
             [
              0,
              "#0d0887"
             ],
             [
              0.1111111111111111,
              "#46039f"
             ],
             [
              0.2222222222222222,
              "#7201a8"
             ],
             [
              0.3333333333333333,
              "#9c179e"
             ],
             [
              0.4444444444444444,
              "#bd3786"
             ],
             [
              0.5555555555555556,
              "#d8576b"
             ],
             [
              0.6666666666666666,
              "#ed7953"
             ],
             [
              0.7777777777777778,
              "#fb9f3a"
             ],
             [
              0.8888888888888888,
              "#fdca26"
             ],
             [
              1,
              "#f0f921"
             ]
            ],
            "type": "histogram2d"
           }
          ],
          "histogram2dcontour": [
           {
            "colorbar": {
             "outlinewidth": 0,
             "ticks": ""
            },
            "colorscale": [
             [
              0,
              "#0d0887"
             ],
             [
              0.1111111111111111,
              "#46039f"
             ],
             [
              0.2222222222222222,
              "#7201a8"
             ],
             [
              0.3333333333333333,
              "#9c179e"
             ],
             [
              0.4444444444444444,
              "#bd3786"
             ],
             [
              0.5555555555555556,
              "#d8576b"
             ],
             [
              0.6666666666666666,
              "#ed7953"
             ],
             [
              0.7777777777777778,
              "#fb9f3a"
             ],
             [
              0.8888888888888888,
              "#fdca26"
             ],
             [
              1,
              "#f0f921"
             ]
            ],
            "type": "histogram2dcontour"
           }
          ],
          "mesh3d": [
           {
            "colorbar": {
             "outlinewidth": 0,
             "ticks": ""
            },
            "type": "mesh3d"
           }
          ],
          "parcoords": [
           {
            "line": {
             "colorbar": {
              "outlinewidth": 0,
              "ticks": ""
             }
            },
            "type": "parcoords"
           }
          ],
          "pie": [
           {
            "automargin": true,
            "type": "pie"
           }
          ],
          "scatter": [
           {
            "fillpattern": {
             "fillmode": "overlay",
             "size": 10,
             "solidity": 0.2
            },
            "type": "scatter"
           }
          ],
          "scatter3d": [
           {
            "line": {
             "colorbar": {
              "outlinewidth": 0,
              "ticks": ""
             }
            },
            "marker": {
             "colorbar": {
              "outlinewidth": 0,
              "ticks": ""
             }
            },
            "type": "scatter3d"
           }
          ],
          "scattercarpet": [
           {
            "marker": {
             "colorbar": {
              "outlinewidth": 0,
              "ticks": ""
             }
            },
            "type": "scattercarpet"
           }
          ],
          "scattergeo": [
           {
            "marker": {
             "colorbar": {
              "outlinewidth": 0,
              "ticks": ""
             }
            },
            "type": "scattergeo"
           }
          ],
          "scattergl": [
           {
            "marker": {
             "colorbar": {
              "outlinewidth": 0,
              "ticks": ""
             }
            },
            "type": "scattergl"
           }
          ],
          "scattermapbox": [
           {
            "marker": {
             "colorbar": {
              "outlinewidth": 0,
              "ticks": ""
             }
            },
            "type": "scattermapbox"
           }
          ],
          "scatterpolar": [
           {
            "marker": {
             "colorbar": {
              "outlinewidth": 0,
              "ticks": ""
             }
            },
            "type": "scatterpolar"
           }
          ],
          "scatterpolargl": [
           {
            "marker": {
             "colorbar": {
              "outlinewidth": 0,
              "ticks": ""
             }
            },
            "type": "scatterpolargl"
           }
          ],
          "scatterternary": [
           {
            "marker": {
             "colorbar": {
              "outlinewidth": 0,
              "ticks": ""
             }
            },
            "type": "scatterternary"
           }
          ],
          "surface": [
           {
            "colorbar": {
             "outlinewidth": 0,
             "ticks": ""
            },
            "colorscale": [
             [
              0,
              "#0d0887"
             ],
             [
              0.1111111111111111,
              "#46039f"
             ],
             [
              0.2222222222222222,
              "#7201a8"
             ],
             [
              0.3333333333333333,
              "#9c179e"
             ],
             [
              0.4444444444444444,
              "#bd3786"
             ],
             [
              0.5555555555555556,
              "#d8576b"
             ],
             [
              0.6666666666666666,
              "#ed7953"
             ],
             [
              0.7777777777777778,
              "#fb9f3a"
             ],
             [
              0.8888888888888888,
              "#fdca26"
             ],
             [
              1,
              "#f0f921"
             ]
            ],
            "type": "surface"
           }
          ],
          "table": [
           {
            "cells": {
             "fill": {
              "color": "#EBF0F8"
             },
             "line": {
              "color": "white"
             }
            },
            "header": {
             "fill": {
              "color": "#C8D4E3"
             },
             "line": {
              "color": "white"
             }
            },
            "type": "table"
           }
          ]
         },
         "layout": {
          "annotationdefaults": {
           "arrowcolor": "#2a3f5f",
           "arrowhead": 0,
           "arrowwidth": 1
          },
          "autotypenumbers": "strict",
          "coloraxis": {
           "colorbar": {
            "outlinewidth": 0,
            "ticks": ""
           }
          },
          "colorscale": {
           "diverging": [
            [
             0,
             "#8e0152"
            ],
            [
             0.1,
             "#c51b7d"
            ],
            [
             0.2,
             "#de77ae"
            ],
            [
             0.3,
             "#f1b6da"
            ],
            [
             0.4,
             "#fde0ef"
            ],
            [
             0.5,
             "#f7f7f7"
            ],
            [
             0.6,
             "#e6f5d0"
            ],
            [
             0.7,
             "#b8e186"
            ],
            [
             0.8,
             "#7fbc41"
            ],
            [
             0.9,
             "#4d9221"
            ],
            [
             1,
             "#276419"
            ]
           ],
           "sequential": [
            [
             0,
             "#0d0887"
            ],
            [
             0.1111111111111111,
             "#46039f"
            ],
            [
             0.2222222222222222,
             "#7201a8"
            ],
            [
             0.3333333333333333,
             "#9c179e"
            ],
            [
             0.4444444444444444,
             "#bd3786"
            ],
            [
             0.5555555555555556,
             "#d8576b"
            ],
            [
             0.6666666666666666,
             "#ed7953"
            ],
            [
             0.7777777777777778,
             "#fb9f3a"
            ],
            [
             0.8888888888888888,
             "#fdca26"
            ],
            [
             1,
             "#f0f921"
            ]
           ],
           "sequentialminus": [
            [
             0,
             "#0d0887"
            ],
            [
             0.1111111111111111,
             "#46039f"
            ],
            [
             0.2222222222222222,
             "#7201a8"
            ],
            [
             0.3333333333333333,
             "#9c179e"
            ],
            [
             0.4444444444444444,
             "#bd3786"
            ],
            [
             0.5555555555555556,
             "#d8576b"
            ],
            [
             0.6666666666666666,
             "#ed7953"
            ],
            [
             0.7777777777777778,
             "#fb9f3a"
            ],
            [
             0.8888888888888888,
             "#fdca26"
            ],
            [
             1,
             "#f0f921"
            ]
           ]
          },
          "colorway": [
           "#636efa",
           "#EF553B",
           "#00cc96",
           "#ab63fa",
           "#FFA15A",
           "#19d3f3",
           "#FF6692",
           "#B6E880",
           "#FF97FF",
           "#FECB52"
          ],
          "font": {
           "color": "#2a3f5f"
          },
          "geo": {
           "bgcolor": "white",
           "lakecolor": "white",
           "landcolor": "#E5ECF6",
           "showlakes": true,
           "showland": true,
           "subunitcolor": "white"
          },
          "hoverlabel": {
           "align": "left"
          },
          "hovermode": "closest",
          "mapbox": {
           "style": "light"
          },
          "paper_bgcolor": "white",
          "plot_bgcolor": "#E5ECF6",
          "polar": {
           "angularaxis": {
            "gridcolor": "white",
            "linecolor": "white",
            "ticks": ""
           },
           "bgcolor": "#E5ECF6",
           "radialaxis": {
            "gridcolor": "white",
            "linecolor": "white",
            "ticks": ""
           }
          },
          "scene": {
           "xaxis": {
            "backgroundcolor": "#E5ECF6",
            "gridcolor": "white",
            "gridwidth": 2,
            "linecolor": "white",
            "showbackground": true,
            "ticks": "",
            "zerolinecolor": "white"
           },
           "yaxis": {
            "backgroundcolor": "#E5ECF6",
            "gridcolor": "white",
            "gridwidth": 2,
            "linecolor": "white",
            "showbackground": true,
            "ticks": "",
            "zerolinecolor": "white"
           },
           "zaxis": {
            "backgroundcolor": "#E5ECF6",
            "gridcolor": "white",
            "gridwidth": 2,
            "linecolor": "white",
            "showbackground": true,
            "ticks": "",
            "zerolinecolor": "white"
           }
          },
          "shapedefaults": {
           "line": {
            "color": "#2a3f5f"
           }
          },
          "ternary": {
           "aaxis": {
            "gridcolor": "white",
            "linecolor": "white",
            "ticks": ""
           },
           "baxis": {
            "gridcolor": "white",
            "linecolor": "white",
            "ticks": ""
           },
           "bgcolor": "#E5ECF6",
           "caxis": {
            "gridcolor": "white",
            "linecolor": "white",
            "ticks": ""
           }
          },
          "title": {
           "x": 0.05
          },
          "xaxis": {
           "automargin": true,
           "gridcolor": "white",
           "linecolor": "white",
           "ticks": "",
           "title": {
            "standoff": 15
           },
           "zerolinecolor": "white",
           "zerolinewidth": 2
          },
          "yaxis": {
           "automargin": true,
           "gridcolor": "white",
           "linecolor": "white",
           "ticks": "",
           "title": {
            "standoff": 15
           },
           "zerolinecolor": "white",
           "zerolinewidth": 2
          }
         }
        },
        "title": {
         "text": "Logistic Regression Weights Distributions"
        },
        "xaxis": {
         "anchor": "y",
         "domain": [
          0,
          0.31999999999999995
         ]
        },
        "xaxis2": {
         "anchor": "y2",
         "domain": [
          0.33999999999999997,
          0.6599999999999999
         ],
         "matches": "x"
        },
        "xaxis3": {
         "anchor": "y3",
         "domain": [
          0.6799999999999999,
          0.9999999999999999
         ],
         "matches": "x"
        },
        "yaxis": {
         "anchor": "x",
         "domain": [
          0,
          1
         ],
         "showticklabels": true,
         "title": {
          "text": "value"
         }
        },
        "yaxis2": {
         "anchor": "x2",
         "domain": [
          0,
          1
         ],
         "showticklabels": true
        },
        "yaxis3": {
         "anchor": "x3",
         "domain": [
          0,
          1
         ],
         "showticklabels": true
        }
       }
      }
     },
     "metadata": {},
     "output_type": "display_data"
    }
   ],
   "source": [
    "fig = px.box(\n",
    "    weight_df,\n",
    "    y='value',\n",
    "    facet_col='variable',\n",
    "    color='variable',\n",
    "    points='all',\n",
    "    title='Logistic Regression Weights Distributions'\n",
    ")\n",
    "fig.update_yaxes(\n",
    "    matches=None,\n",
    "    showticklabels=True\n",
    ")\n",
    "fig.update_traces(jitter=0.5)"
   ]
  },
  {
   "attachments": {},
   "cell_type": "markdown",
   "metadata": {},
   "source": [
    "We observe the following:\n",
    "1.  Using regularization makes training much faster.\n",
    "    * The vanilla logistic regression takes more than 5000 iterations to converge.\n",
    "    * Both regularization methods only take 500 iterations to converge.\n",
    "    * The vanilla logistic regression is not numerically stable\n",
    "        * If you have more iterations, you will see all model parameters become larger and larger.\n",
    "        * Both regularization methods do not suffer from this problem.\n",
    "1.  The $L_2$ regularization reduced the range of the logistic regression weights.\n",
    "2.  The $L_1$ regularization not only reduced the range of the weights, but also annihilated many coefficients to zero.\n",
    "\n",
    "The last observation not only apply to logistic regression models with $L_1$ regularization. A common feature selection method is to use the $L_1$ regularization and only select features that have non-zero coefficients. If you increase the regularization strength by enlarging the `lbd` variable in the above codes, you will reduce more parameters to zero."
   ]
  },
  {
   "attachments": {},
   "cell_type": "markdown",
   "metadata": {},
   "source": [
    "### Forward and backward selection methods for features selection\n",
    "\n",
    "Here we demonstrate how to perform forward and backward feature selections.\n",
    "\n",
    "Implementing these selection techniques from scratch require a lot of work (encapsulate model definition and training, write custom cross-validation dataloader, etc.)\n",
    "\n",
    "Therefore we will borrow tools from `sklearn`, and this simplifies feature selection and model fitting into just a few lines of codes. The disadvantage is that the implementation detail is like a black box: you need to dig deep into source codes in `sklearn` to find it out!"
   ]
  },
  {
   "cell_type": "code",
   "execution_count": 12,
   "metadata": {},
   "outputs": [],
   "source": [
    "from sklearn.linear_model import LogisticRegression as logit # use build-in logistic regression model in sklearn\n",
    "from sklearn.feature_selection import SequentialFeatureSelector as SFS\n",
    "from sklearn.metrics import roc_curve, precision_recall_curve"
   ]
  },
  {
   "cell_type": "code",
   "execution_count": 13,
   "metadata": {},
   "outputs": [],
   "source": [
    "# sklearn support fitting model on pandas dataframe.\n",
    "# We use same train test split as before\n",
    "\n",
    "X_df_train = X_df.iloc[case_list=='train',:]\n",
    "X_df_test = X_df.iloc[case_list=='test',:]\n",
    "y_df_train = y_df.iloc[case_list=='train']\n",
    "y_df_test = y_df.iloc[case_list=='test']"
   ]
  },
  {
   "cell_type": "code",
   "execution_count": 14,
   "metadata": {},
   "outputs": [],
   "source": [
    "model = logit(penalty='l1',C=1/10,solver='liblinear') # c: 1/(strength of L1 regularization)\n",
    "\n",
    "# Forward feature selection.\n",
    "forward_selection = SFS(\n",
    "    model, n_features_to_select=3, direction=\"forward\"\n",
    ").fit(X_df_train, y_df_train)\n",
    "\n",
    "# Backward feature selection.\n",
    "backward_selection = SFS(\n",
    "    model, n_features_to_select=3, direction=\"backward\"\n",
    ").fit(X_df_train, y_df_train)"
   ]
  },
  {
   "cell_type": "code",
   "execution_count": 15,
   "metadata": {},
   "outputs": [
    {
     "data": {
      "text/plain": [
       "array(['mean concave points', 'radius error', 'worst concave points'],\n",
       "      dtype=object)"
      ]
     },
     "execution_count": 15,
     "metadata": {},
     "output_type": "execute_result"
    }
   ],
   "source": [
    "forward_selection.get_feature_names_out()"
   ]
  },
  {
   "cell_type": "code",
   "execution_count": 16,
   "metadata": {},
   "outputs": [
    {
     "data": {
      "text/plain": [
       "array(['mean concavity', 'worst radius', 'worst texture'], dtype=object)"
      ]
     },
     "execution_count": 16,
     "metadata": {},
     "output_type": "execute_result"
    }
   ],
   "source": [
    "backward_selection.get_feature_names_out()"
   ]
  },
  {
   "attachments": {},
   "cell_type": "markdown",
   "metadata": {},
   "source": [
    "We see that the forward and backward selections do not agree on the top-5 most important features.\n",
    "\n",
    "After feature selection, we can use `forward_selection` and `backward_selection` to automatically reduce input dimension. Let use fit logistic regression models on the 1) full feature, 2) selected feature and visualize their model performance on test dataset."
   ]
  },
  {
   "cell_type": "code",
   "execution_count": 17,
   "metadata": {},
   "outputs": [],
   "source": [
    "# Full model\n",
    "model.fit(X_df_train,y_df_train)\n",
    "y_pred_full = model.predict_proba(X_df_test)\n",
    "\n",
    "# Model with forward selected features\n",
    "model.fit(forward_selection.transform(X_df_train),y_df_train)\n",
    "y_pred_FS = model.predict_proba(forward_selection.transform(X_df_test))\n",
    "\n",
    "# Model with backward selected features\n",
    "model.fit(backward_selection.transform(X_df_train),y_df_train)\n",
    "y_pred_BS = model.predict_proba(backward_selection.transform(X_df_test))"
   ]
  },
  {
   "cell_type": "code",
   "execution_count": 18,
   "metadata": {},
   "outputs": [],
   "source": [
    "# roc_curve\n",
    "fpr_full, tpr_full, _ = roc_curve(y_df_test,y_pred_full[:,1])\n",
    "fpr_FS, tpr_FS, _ = roc_curve(y_df_test,y_pred_FS[:,1])\n",
    "fpr_BS, tpr_BS, _ = roc_curve(y_df_test,y_pred_BS[:,1])\n",
    "\n",
    "roc_df = pd.DataFrame(\n",
    "    {\n",
    "        'False Positive Rate':np.hstack([fpr_full,fpr_FS,fpr_BS]),\n",
    "        'True Positive Rate':np.hstack([tpr_full,tpr_FS,tpr_BS]),\n",
    "        'method':['full_model']*len(fpr_full)+['FS']*len(fpr_FS)+['BS']*len(fpr_BS)\n",
    "    }\n",
    ")"
   ]
  },
  {
   "cell_type": "code",
   "execution_count": 19,
   "metadata": {},
   "outputs": [
    {
     "data": {
      "application/vnd.plotly.v1+json": {
       "config": {
        "plotlyServerURL": "https://plot.ly"
       },
       "data": [
        {
         "hovertemplate": "method=full_model<br>False Positive Rate=%{x}<br>True Positive Rate=%{y}<extra></extra>",
         "legendgroup": "full_model",
         "line": {
          "color": "#636efa",
          "dash": "solid"
         },
         "marker": {
          "symbol": "circle"
         },
         "mode": "lines",
         "name": "full_model",
         "orientation": "v",
         "showlegend": true,
         "type": "scatter",
         "x": [
          0,
          0,
          0,
          0.010638297872340425,
          0.010638297872340425,
          0.02127659574468085,
          0.02127659574468085,
          0.031914893617021274,
          0.031914893617021274,
          0.05319148936170213,
          0.05319148936170213,
          0.10638297872340426,
          0.10638297872340426,
          1
         ],
         "xaxis": "x",
         "y": [
          0,
          0.007042253521126761,
          0.5633802816901409,
          0.5633802816901409,
          0.9647887323943662,
          0.9647887323943662,
          0.9788732394366197,
          0.9788732394366197,
          0.9859154929577465,
          0.9859154929577465,
          0.9929577464788732,
          0.9929577464788732,
          1,
          1
         ],
         "yaxis": "y"
        },
        {
         "hovertemplate": "method=FS<br>False Positive Rate=%{x}<br>True Positive Rate=%{y}<extra></extra>",
         "legendgroup": "FS",
         "line": {
          "color": "#EF553B",
          "dash": "solid"
         },
         "marker": {
          "symbol": "circle"
         },
         "mode": "lines",
         "name": "FS",
         "orientation": "v",
         "showlegend": true,
         "type": "scatter",
         "x": [
          0,
          0,
          0,
          0.010638297872340425,
          0.010638297872340425,
          0.02127659574468085,
          0.02127659574468085,
          0.0425531914893617,
          0.0425531914893617,
          0.05319148936170213,
          0.05319148936170213,
          0.06382978723404255,
          0.06382978723404255,
          0.0851063829787234,
          0.0851063829787234,
          0.10638297872340426,
          0.10638297872340426,
          0.13829787234042554,
          0.13829787234042554,
          0.14893617021276595,
          0.14893617021276595,
          0.1595744680851064,
          0.1595744680851064,
          0.18085106382978725,
          0.18085106382978725,
          0.23404255319148937,
          0.23404255319148937,
          0.24468085106382978,
          0.24468085106382978,
          0.5106382978723404,
          0.5106382978723404,
          1
         ],
         "xaxis": "x2",
         "y": [
          0,
          0.007042253521126761,
          0.647887323943662,
          0.647887323943662,
          0.7253521126760564,
          0.7253521126760564,
          0.7887323943661971,
          0.7887323943661971,
          0.8169014084507042,
          0.8169014084507042,
          0.8450704225352113,
          0.8450704225352113,
          0.9014084507042254,
          0.9014084507042254,
          0.9225352112676056,
          0.9225352112676056,
          0.9295774647887324,
          0.9295774647887324,
          0.9366197183098591,
          0.9366197183098591,
          0.9577464788732394,
          0.9577464788732394,
          0.9647887323943662,
          0.9647887323943662,
          0.971830985915493,
          0.971830985915493,
          0.9859154929577465,
          0.9859154929577465,
          0.9929577464788732,
          0.9929577464788732,
          1,
          1
         ],
         "yaxis": "y2"
        },
        {
         "hovertemplate": "method=BS<br>False Positive Rate=%{x}<br>True Positive Rate=%{y}<extra></extra>",
         "legendgroup": "BS",
         "line": {
          "color": "#00cc96",
          "dash": "solid"
         },
         "marker": {
          "symbol": "circle"
         },
         "mode": "lines",
         "name": "BS",
         "orientation": "v",
         "showlegend": true,
         "type": "scatter",
         "x": [
          0,
          0,
          0,
          0.010638297872340425,
          0.010638297872340425,
          0.031914893617021274,
          0.031914893617021274,
          0.05319148936170213,
          0.05319148936170213,
          0.10638297872340426,
          0.10638297872340426,
          0.2127659574468085,
          0.2127659574468085,
          0.2978723404255319,
          0.2978723404255319,
          0.43617021276595747,
          0.43617021276595747,
          1
         ],
         "xaxis": "x3",
         "y": [
          0,
          0.007042253521126761,
          0.3873239436619718,
          0.3873239436619718,
          0.9507042253521126,
          0.9507042253521126,
          0.9577464788732394,
          0.9577464788732394,
          0.971830985915493,
          0.971830985915493,
          0.9788732394366197,
          0.9788732394366197,
          0.9859154929577465,
          0.9859154929577465,
          0.9929577464788732,
          0.9929577464788732,
          1,
          1
         ],
         "yaxis": "y3"
        }
       ],
       "layout": {
        "annotations": [
         {
          "font": {},
          "showarrow": false,
          "text": "method=full_model",
          "x": 0.15999999999999998,
          "xanchor": "center",
          "xref": "paper",
          "y": 1,
          "yanchor": "bottom",
          "yref": "paper"
         },
         {
          "font": {},
          "showarrow": false,
          "text": "method=FS",
          "x": 0.49999999999999994,
          "xanchor": "center",
          "xref": "paper",
          "y": 1,
          "yanchor": "bottom",
          "yref": "paper"
         },
         {
          "font": {},
          "showarrow": false,
          "text": "method=BS",
          "x": 0.8399999999999999,
          "xanchor": "center",
          "xref": "paper",
          "y": 1,
          "yanchor": "bottom",
          "yref": "paper"
         }
        ],
        "legend": {
         "title": {
          "text": "method"
         },
         "tracegroupgap": 0
        },
        "margin": {
         "t": 60
        },
        "template": {
         "data": {
          "bar": [
           {
            "error_x": {
             "color": "#2a3f5f"
            },
            "error_y": {
             "color": "#2a3f5f"
            },
            "marker": {
             "line": {
              "color": "#E5ECF6",
              "width": 0.5
             },
             "pattern": {
              "fillmode": "overlay",
              "size": 10,
              "solidity": 0.2
             }
            },
            "type": "bar"
           }
          ],
          "barpolar": [
           {
            "marker": {
             "line": {
              "color": "#E5ECF6",
              "width": 0.5
             },
             "pattern": {
              "fillmode": "overlay",
              "size": 10,
              "solidity": 0.2
             }
            },
            "type": "barpolar"
           }
          ],
          "carpet": [
           {
            "aaxis": {
             "endlinecolor": "#2a3f5f",
             "gridcolor": "white",
             "linecolor": "white",
             "minorgridcolor": "white",
             "startlinecolor": "#2a3f5f"
            },
            "baxis": {
             "endlinecolor": "#2a3f5f",
             "gridcolor": "white",
             "linecolor": "white",
             "minorgridcolor": "white",
             "startlinecolor": "#2a3f5f"
            },
            "type": "carpet"
           }
          ],
          "choropleth": [
           {
            "colorbar": {
             "outlinewidth": 0,
             "ticks": ""
            },
            "type": "choropleth"
           }
          ],
          "contour": [
           {
            "colorbar": {
             "outlinewidth": 0,
             "ticks": ""
            },
            "colorscale": [
             [
              0,
              "#0d0887"
             ],
             [
              0.1111111111111111,
              "#46039f"
             ],
             [
              0.2222222222222222,
              "#7201a8"
             ],
             [
              0.3333333333333333,
              "#9c179e"
             ],
             [
              0.4444444444444444,
              "#bd3786"
             ],
             [
              0.5555555555555556,
              "#d8576b"
             ],
             [
              0.6666666666666666,
              "#ed7953"
             ],
             [
              0.7777777777777778,
              "#fb9f3a"
             ],
             [
              0.8888888888888888,
              "#fdca26"
             ],
             [
              1,
              "#f0f921"
             ]
            ],
            "type": "contour"
           }
          ],
          "contourcarpet": [
           {
            "colorbar": {
             "outlinewidth": 0,
             "ticks": ""
            },
            "type": "contourcarpet"
           }
          ],
          "heatmap": [
           {
            "colorbar": {
             "outlinewidth": 0,
             "ticks": ""
            },
            "colorscale": [
             [
              0,
              "#0d0887"
             ],
             [
              0.1111111111111111,
              "#46039f"
             ],
             [
              0.2222222222222222,
              "#7201a8"
             ],
             [
              0.3333333333333333,
              "#9c179e"
             ],
             [
              0.4444444444444444,
              "#bd3786"
             ],
             [
              0.5555555555555556,
              "#d8576b"
             ],
             [
              0.6666666666666666,
              "#ed7953"
             ],
             [
              0.7777777777777778,
              "#fb9f3a"
             ],
             [
              0.8888888888888888,
              "#fdca26"
             ],
             [
              1,
              "#f0f921"
             ]
            ],
            "type": "heatmap"
           }
          ],
          "heatmapgl": [
           {
            "colorbar": {
             "outlinewidth": 0,
             "ticks": ""
            },
            "colorscale": [
             [
              0,
              "#0d0887"
             ],
             [
              0.1111111111111111,
              "#46039f"
             ],
             [
              0.2222222222222222,
              "#7201a8"
             ],
             [
              0.3333333333333333,
              "#9c179e"
             ],
             [
              0.4444444444444444,
              "#bd3786"
             ],
             [
              0.5555555555555556,
              "#d8576b"
             ],
             [
              0.6666666666666666,
              "#ed7953"
             ],
             [
              0.7777777777777778,
              "#fb9f3a"
             ],
             [
              0.8888888888888888,
              "#fdca26"
             ],
             [
              1,
              "#f0f921"
             ]
            ],
            "type": "heatmapgl"
           }
          ],
          "histogram": [
           {
            "marker": {
             "pattern": {
              "fillmode": "overlay",
              "size": 10,
              "solidity": 0.2
             }
            },
            "type": "histogram"
           }
          ],
          "histogram2d": [
           {
            "colorbar": {
             "outlinewidth": 0,
             "ticks": ""
            },
            "colorscale": [
             [
              0,
              "#0d0887"
             ],
             [
              0.1111111111111111,
              "#46039f"
             ],
             [
              0.2222222222222222,
              "#7201a8"
             ],
             [
              0.3333333333333333,
              "#9c179e"
             ],
             [
              0.4444444444444444,
              "#bd3786"
             ],
             [
              0.5555555555555556,
              "#d8576b"
             ],
             [
              0.6666666666666666,
              "#ed7953"
             ],
             [
              0.7777777777777778,
              "#fb9f3a"
             ],
             [
              0.8888888888888888,
              "#fdca26"
             ],
             [
              1,
              "#f0f921"
             ]
            ],
            "type": "histogram2d"
           }
          ],
          "histogram2dcontour": [
           {
            "colorbar": {
             "outlinewidth": 0,
             "ticks": ""
            },
            "colorscale": [
             [
              0,
              "#0d0887"
             ],
             [
              0.1111111111111111,
              "#46039f"
             ],
             [
              0.2222222222222222,
              "#7201a8"
             ],
             [
              0.3333333333333333,
              "#9c179e"
             ],
             [
              0.4444444444444444,
              "#bd3786"
             ],
             [
              0.5555555555555556,
              "#d8576b"
             ],
             [
              0.6666666666666666,
              "#ed7953"
             ],
             [
              0.7777777777777778,
              "#fb9f3a"
             ],
             [
              0.8888888888888888,
              "#fdca26"
             ],
             [
              1,
              "#f0f921"
             ]
            ],
            "type": "histogram2dcontour"
           }
          ],
          "mesh3d": [
           {
            "colorbar": {
             "outlinewidth": 0,
             "ticks": ""
            },
            "type": "mesh3d"
           }
          ],
          "parcoords": [
           {
            "line": {
             "colorbar": {
              "outlinewidth": 0,
              "ticks": ""
             }
            },
            "type": "parcoords"
           }
          ],
          "pie": [
           {
            "automargin": true,
            "type": "pie"
           }
          ],
          "scatter": [
           {
            "fillpattern": {
             "fillmode": "overlay",
             "size": 10,
             "solidity": 0.2
            },
            "type": "scatter"
           }
          ],
          "scatter3d": [
           {
            "line": {
             "colorbar": {
              "outlinewidth": 0,
              "ticks": ""
             }
            },
            "marker": {
             "colorbar": {
              "outlinewidth": 0,
              "ticks": ""
             }
            },
            "type": "scatter3d"
           }
          ],
          "scattercarpet": [
           {
            "marker": {
             "colorbar": {
              "outlinewidth": 0,
              "ticks": ""
             }
            },
            "type": "scattercarpet"
           }
          ],
          "scattergeo": [
           {
            "marker": {
             "colorbar": {
              "outlinewidth": 0,
              "ticks": ""
             }
            },
            "type": "scattergeo"
           }
          ],
          "scattergl": [
           {
            "marker": {
             "colorbar": {
              "outlinewidth": 0,
              "ticks": ""
             }
            },
            "type": "scattergl"
           }
          ],
          "scattermapbox": [
           {
            "marker": {
             "colorbar": {
              "outlinewidth": 0,
              "ticks": ""
             }
            },
            "type": "scattermapbox"
           }
          ],
          "scatterpolar": [
           {
            "marker": {
             "colorbar": {
              "outlinewidth": 0,
              "ticks": ""
             }
            },
            "type": "scatterpolar"
           }
          ],
          "scatterpolargl": [
           {
            "marker": {
             "colorbar": {
              "outlinewidth": 0,
              "ticks": ""
             }
            },
            "type": "scatterpolargl"
           }
          ],
          "scatterternary": [
           {
            "marker": {
             "colorbar": {
              "outlinewidth": 0,
              "ticks": ""
             }
            },
            "type": "scatterternary"
           }
          ],
          "surface": [
           {
            "colorbar": {
             "outlinewidth": 0,
             "ticks": ""
            },
            "colorscale": [
             [
              0,
              "#0d0887"
             ],
             [
              0.1111111111111111,
              "#46039f"
             ],
             [
              0.2222222222222222,
              "#7201a8"
             ],
             [
              0.3333333333333333,
              "#9c179e"
             ],
             [
              0.4444444444444444,
              "#bd3786"
             ],
             [
              0.5555555555555556,
              "#d8576b"
             ],
             [
              0.6666666666666666,
              "#ed7953"
             ],
             [
              0.7777777777777778,
              "#fb9f3a"
             ],
             [
              0.8888888888888888,
              "#fdca26"
             ],
             [
              1,
              "#f0f921"
             ]
            ],
            "type": "surface"
           }
          ],
          "table": [
           {
            "cells": {
             "fill": {
              "color": "#EBF0F8"
             },
             "line": {
              "color": "white"
             }
            },
            "header": {
             "fill": {
              "color": "#C8D4E3"
             },
             "line": {
              "color": "white"
             }
            },
            "type": "table"
           }
          ]
         },
         "layout": {
          "annotationdefaults": {
           "arrowcolor": "#2a3f5f",
           "arrowhead": 0,
           "arrowwidth": 1
          },
          "autotypenumbers": "strict",
          "coloraxis": {
           "colorbar": {
            "outlinewidth": 0,
            "ticks": ""
           }
          },
          "colorscale": {
           "diverging": [
            [
             0,
             "#8e0152"
            ],
            [
             0.1,
             "#c51b7d"
            ],
            [
             0.2,
             "#de77ae"
            ],
            [
             0.3,
             "#f1b6da"
            ],
            [
             0.4,
             "#fde0ef"
            ],
            [
             0.5,
             "#f7f7f7"
            ],
            [
             0.6,
             "#e6f5d0"
            ],
            [
             0.7,
             "#b8e186"
            ],
            [
             0.8,
             "#7fbc41"
            ],
            [
             0.9,
             "#4d9221"
            ],
            [
             1,
             "#276419"
            ]
           ],
           "sequential": [
            [
             0,
             "#0d0887"
            ],
            [
             0.1111111111111111,
             "#46039f"
            ],
            [
             0.2222222222222222,
             "#7201a8"
            ],
            [
             0.3333333333333333,
             "#9c179e"
            ],
            [
             0.4444444444444444,
             "#bd3786"
            ],
            [
             0.5555555555555556,
             "#d8576b"
            ],
            [
             0.6666666666666666,
             "#ed7953"
            ],
            [
             0.7777777777777778,
             "#fb9f3a"
            ],
            [
             0.8888888888888888,
             "#fdca26"
            ],
            [
             1,
             "#f0f921"
            ]
           ],
           "sequentialminus": [
            [
             0,
             "#0d0887"
            ],
            [
             0.1111111111111111,
             "#46039f"
            ],
            [
             0.2222222222222222,
             "#7201a8"
            ],
            [
             0.3333333333333333,
             "#9c179e"
            ],
            [
             0.4444444444444444,
             "#bd3786"
            ],
            [
             0.5555555555555556,
             "#d8576b"
            ],
            [
             0.6666666666666666,
             "#ed7953"
            ],
            [
             0.7777777777777778,
             "#fb9f3a"
            ],
            [
             0.8888888888888888,
             "#fdca26"
            ],
            [
             1,
             "#f0f921"
            ]
           ]
          },
          "colorway": [
           "#636efa",
           "#EF553B",
           "#00cc96",
           "#ab63fa",
           "#FFA15A",
           "#19d3f3",
           "#FF6692",
           "#B6E880",
           "#FF97FF",
           "#FECB52"
          ],
          "font": {
           "color": "#2a3f5f"
          },
          "geo": {
           "bgcolor": "white",
           "lakecolor": "white",
           "landcolor": "#E5ECF6",
           "showlakes": true,
           "showland": true,
           "subunitcolor": "white"
          },
          "hoverlabel": {
           "align": "left"
          },
          "hovermode": "closest",
          "mapbox": {
           "style": "light"
          },
          "paper_bgcolor": "white",
          "plot_bgcolor": "#E5ECF6",
          "polar": {
           "angularaxis": {
            "gridcolor": "white",
            "linecolor": "white",
            "ticks": ""
           },
           "bgcolor": "#E5ECF6",
           "radialaxis": {
            "gridcolor": "white",
            "linecolor": "white",
            "ticks": ""
           }
          },
          "scene": {
           "xaxis": {
            "backgroundcolor": "#E5ECF6",
            "gridcolor": "white",
            "gridwidth": 2,
            "linecolor": "white",
            "showbackground": true,
            "ticks": "",
            "zerolinecolor": "white"
           },
           "yaxis": {
            "backgroundcolor": "#E5ECF6",
            "gridcolor": "white",
            "gridwidth": 2,
            "linecolor": "white",
            "showbackground": true,
            "ticks": "",
            "zerolinecolor": "white"
           },
           "zaxis": {
            "backgroundcolor": "#E5ECF6",
            "gridcolor": "white",
            "gridwidth": 2,
            "linecolor": "white",
            "showbackground": true,
            "ticks": "",
            "zerolinecolor": "white"
           }
          },
          "shapedefaults": {
           "line": {
            "color": "#2a3f5f"
           }
          },
          "ternary": {
           "aaxis": {
            "gridcolor": "white",
            "linecolor": "white",
            "ticks": ""
           },
           "baxis": {
            "gridcolor": "white",
            "linecolor": "white",
            "ticks": ""
           },
           "bgcolor": "#E5ECF6",
           "caxis": {
            "gridcolor": "white",
            "linecolor": "white",
            "ticks": ""
           }
          },
          "title": {
           "x": 0.05
          },
          "xaxis": {
           "automargin": true,
           "gridcolor": "white",
           "linecolor": "white",
           "ticks": "",
           "title": {
            "standoff": 15
           },
           "zerolinecolor": "white",
           "zerolinewidth": 2
          },
          "yaxis": {
           "automargin": true,
           "gridcolor": "white",
           "linecolor": "white",
           "ticks": "",
           "title": {
            "standoff": 15
           },
           "zerolinecolor": "white",
           "zerolinewidth": 2
          }
         }
        },
        "xaxis": {
         "anchor": "y",
         "domain": [
          0,
          0.31999999999999995
         ],
         "title": {
          "text": "False Positive Rate"
         }
        },
        "xaxis2": {
         "anchor": "y2",
         "domain": [
          0.33999999999999997,
          0.6599999999999999
         ],
         "matches": "x",
         "title": {
          "text": "False Positive Rate"
         }
        },
        "xaxis3": {
         "anchor": "y3",
         "domain": [
          0.6799999999999999,
          0.9999999999999999
         ],
         "matches": "x",
         "title": {
          "text": "False Positive Rate"
         }
        },
        "yaxis": {
         "anchor": "x",
         "domain": [
          0,
          1
         ],
         "title": {
          "text": "True Positive Rate"
         }
        },
        "yaxis2": {
         "anchor": "x2",
         "domain": [
          0,
          1
         ],
         "matches": "y",
         "showticklabels": false
        },
        "yaxis3": {
         "anchor": "x3",
         "domain": [
          0,
          1
         ],
         "matches": "y",
         "showticklabels": false
        }
       }
      }
     },
     "metadata": {},
     "output_type": "display_data"
    }
   ],
   "source": [
    "# Visualize ROC curve\n",
    "fig = px.line(roc_df,y='True Positive Rate',x='False Positive Rate',facet_col='method',color='method')\n",
    "fig"
   ]
  },
  {
   "cell_type": "code",
   "execution_count": 20,
   "metadata": {},
   "outputs": [],
   "source": [
    "# precision recall curves\n",
    "p_full, r_full, _ = precision_recall_curve(y_df_test,y_pred_full[:,1])\n",
    "p_FS, r_FS, _ = precision_recall_curve(y_df_test,y_pred_FS[:,1])\n",
    "p_BS, r_BS, _ = precision_recall_curve(y_df_test,y_pred_BS[:,1])\n",
    "\n",
    "pr_df = pd.DataFrame(\n",
    "    {\n",
    "        'Precision':np.hstack([p_full,p_FS,p_BS]),\n",
    "        'Recall':np.hstack([r_full,r_FS,r_BS]),\n",
    "        'method':['Full Model']*len(p_full)+['Forward Selection']*len(p_FS)+['Backward Selection']*len(p_BS)\n",
    "    }\n",
    ")"
   ]
  },
  {
   "cell_type": "code",
   "execution_count": 21,
   "metadata": {},
   "outputs": [
    {
     "data": {
      "application/vnd.plotly.v1+json": {
       "config": {
        "plotlyServerURL": "https://plot.ly"
       },
       "data": [
        {
         "hovertemplate": "method=Full Model<br>Recall=%{x}<br>Precision=%{y}<extra></extra>",
         "legendgroup": "Full Model",
         "line": {
          "color": "#636efa",
          "dash": "solid"
         },
         "marker": {
          "symbol": "circle"
         },
         "mode": "lines",
         "name": "Full Model",
         "orientation": "v",
         "showlegend": true,
         "type": "scatter",
         "x": [
          1,
          1,
          1,
          1,
          1,
          1,
          1,
          1,
          1,
          1,
          1,
          1,
          1,
          1,
          1,
          1,
          1,
          1,
          1,
          1,
          1,
          1,
          1,
          1,
          1,
          1,
          1,
          1,
          1,
          1,
          1,
          1,
          1,
          1,
          1,
          1,
          1,
          1,
          1,
          1,
          1,
          1,
          1,
          1,
          1,
          1,
          1,
          1,
          1,
          1,
          1,
          1,
          1,
          1,
          1,
          1,
          1,
          1,
          1,
          1,
          1,
          1,
          1,
          1,
          1,
          1,
          1,
          1,
          1,
          1,
          1,
          1,
          1,
          1,
          1,
          1,
          1,
          1,
          1,
          1,
          1,
          1,
          1,
          1,
          1,
          0.9929577464788732,
          0.9929577464788732,
          0.9929577464788732,
          0.9929577464788732,
          0.9929577464788732,
          0.9929577464788732,
          0.9859154929577465,
          0.9859154929577465,
          0.9859154929577465,
          0.9788732394366197,
          0.9788732394366197,
          0.971830985915493,
          0.9647887323943662,
          0.9647887323943662,
          0.9577464788732394,
          0.9507042253521126,
          0.9436619718309859,
          0.9366197183098591,
          0.9295774647887324,
          0.9225352112676056,
          0.9154929577464789,
          0.9084507042253521,
          0.9014084507042254,
          0.8943661971830986,
          0.8873239436619719,
          0.8802816901408451,
          0.8732394366197183,
          0.8661971830985915,
          0.8591549295774648,
          0.852112676056338,
          0.8450704225352113,
          0.8380281690140845,
          0.8309859154929577,
          0.823943661971831,
          0.8169014084507042,
          0.8098591549295775,
          0.8028169014084507,
          0.795774647887324,
          0.7887323943661971,
          0.7816901408450704,
          0.7746478873239436,
          0.7676056338028169,
          0.7605633802816901,
          0.7535211267605634,
          0.7464788732394366,
          0.7394366197183099,
          0.7323943661971831,
          0.7253521126760564,
          0.7183098591549296,
          0.7112676056338029,
          0.704225352112676,
          0.6971830985915493,
          0.6901408450704225,
          0.6830985915492958,
          0.676056338028169,
          0.6690140845070423,
          0.6619718309859155,
          0.6549295774647887,
          0.647887323943662,
          0.6408450704225352,
          0.6338028169014085,
          0.6267605633802817,
          0.6197183098591549,
          0.6126760563380281,
          0.6056338028169014,
          0.5985915492957746,
          0.5915492957746479,
          0.5845070422535211,
          0.5774647887323944,
          0.5704225352112676,
          0.5633802816901409,
          0.5633802816901409,
          0.5563380281690141,
          0.5492957746478874,
          0.5422535211267606,
          0.5352112676056338,
          0.528169014084507,
          0.5211267605633803,
          0.5140845070422535,
          0.5070422535211268,
          0.5,
          0.49295774647887325,
          0.4859154929577465,
          0.4788732394366197,
          0.47183098591549294,
          0.4647887323943662,
          0.45774647887323944,
          0.4507042253521127,
          0.44366197183098594,
          0.43661971830985913,
          0.4295774647887324,
          0.4225352112676056,
          0.4154929577464789,
          0.4084507042253521,
          0.4014084507042254,
          0.39436619718309857,
          0.3873239436619718,
          0.38028169014084506,
          0.3732394366197183,
          0.36619718309859156,
          0.3591549295774648,
          0.352112676056338,
          0.34507042253521125,
          0.3380281690140845,
          0.33098591549295775,
          0.323943661971831,
          0.31690140845070425,
          0.30985915492957744,
          0.3028169014084507,
          0.29577464788732394,
          0.2887323943661972,
          0.28169014084507044,
          0.2746478873239437,
          0.2676056338028169,
          0.2605633802816901,
          0.2535211267605634,
          0.24647887323943662,
          0.23943661971830985,
          0.2323943661971831,
          0.22535211267605634,
          0.21830985915492956,
          0.2112676056338028,
          0.20422535211267606,
          0.19718309859154928,
          0.19014084507042253,
          0.18309859154929578,
          0.176056338028169,
          0.16901408450704225,
          0.1619718309859155,
          0.15492957746478872,
          0.14788732394366197,
          0.14084507042253522,
          0.13380281690140844,
          0.1267605633802817,
          0.11971830985915492,
          0.11267605633802817,
          0.1056338028169014,
          0.09859154929577464,
          0.09154929577464789,
          0.08450704225352113,
          0.07746478873239436,
          0.07042253521126761,
          0.06338028169014084,
          0.056338028169014086,
          0.04929577464788732,
          0.04225352112676056,
          0.035211267605633804,
          0.028169014084507043,
          0.02112676056338028,
          0.014084507042253521,
          0.007042253521126761,
          0
         ],
         "xaxis": "x",
         "y": [
          0.6016949152542372,
          0.6042553191489362,
          0.6068376068376068,
          0.6094420600858369,
          0.6120689655172413,
          0.6147186147186147,
          0.6173913043478261,
          0.6200873362445415,
          0.6228070175438597,
          0.6255506607929515,
          0.6283185840707964,
          0.6311111111111111,
          0.6339285714285714,
          0.6367713004484304,
          0.6396396396396397,
          0.6425339366515838,
          0.6454545454545455,
          0.6484018264840182,
          0.6513761467889908,
          0.6543778801843319,
          0.6574074074074074,
          0.6604651162790698,
          0.6635514018691588,
          0.6666666666666666,
          0.6698113207547169,
          0.6729857819905213,
          0.6761904761904762,
          0.6794258373205742,
          0.6826923076923077,
          0.6859903381642513,
          0.6893203883495146,
          0.6926829268292682,
          0.696078431372549,
          0.6995073891625616,
          0.7029702970297029,
          0.7064676616915423,
          0.71,
          0.7135678391959799,
          0.7171717171717171,
          0.7208121827411168,
          0.7244897959183674,
          0.7282051282051282,
          0.7319587628865979,
          0.7357512953367875,
          0.7395833333333334,
          0.743455497382199,
          0.7473684210526316,
          0.7513227513227513,
          0.7553191489361702,
          0.7593582887700535,
          0.7634408602150538,
          0.7675675675675676,
          0.7717391304347826,
          0.7759562841530054,
          0.7802197802197802,
          0.7845303867403315,
          0.7888888888888889,
          0.7932960893854749,
          0.797752808988764,
          0.8022598870056498,
          0.8068181818181818,
          0.8114285714285714,
          0.8160919540229885,
          0.8208092485549133,
          0.8255813953488372,
          0.8304093567251462,
          0.8352941176470589,
          0.8402366863905325,
          0.8452380952380952,
          0.8502994011976048,
          0.8554216867469879,
          0.8606060606060606,
          0.8658536585365854,
          0.8711656441717791,
          0.8765432098765432,
          0.8819875776397516,
          0.8875,
          0.8930817610062893,
          0.8987341772151899,
          0.9044585987261147,
          0.9102564102564102,
          0.9161290322580645,
          0.922077922077922,
          0.9281045751633987,
          0.9342105263157895,
          0.9337748344370861,
          0.94,
          0.9463087248322147,
          0.9527027027027027,
          0.9591836734693877,
          0.9657534246575342,
          0.9655172413793104,
          0.9722222222222222,
          0.9790209790209791,
          0.9788732394366197,
          0.9858156028368794,
          0.9857142857142858,
          0.9856115107913669,
          0.9927536231884058,
          0.9927007299270073,
          0.9926470588235294,
          0.9925925925925926,
          0.9925373134328358,
          0.9924812030075187,
          0.9924242424242424,
          0.9923664122137404,
          0.9923076923076923,
          0.9922480620155039,
          0.9921875,
          0.9921259842519685,
          0.9920634920634921,
          0.992,
          0.9919354838709677,
          0.991869918699187,
          0.9918032786885246,
          0.9917355371900827,
          0.9916666666666667,
          0.9915966386554622,
          0.9915254237288136,
          0.9914529914529915,
          0.9913793103448276,
          0.991304347826087,
          0.9912280701754386,
          0.9911504424778761,
          0.9910714285714286,
          0.990990990990991,
          0.990909090909091,
          0.9908256880733946,
          0.9907407407407407,
          0.9906542056074766,
          0.9905660377358491,
          0.9904761904761905,
          0.9903846153846154,
          0.9902912621359223,
          0.9901960784313726,
          0.9900990099009901,
          0.99,
          0.98989898989899,
          0.9897959183673469,
          0.9896907216494846,
          0.9895833333333334,
          0.9894736842105263,
          0.9893617021276596,
          0.989247311827957,
          0.9891304347826086,
          0.989010989010989,
          0.9888888888888889,
          0.9887640449438202,
          0.9886363636363636,
          0.9885057471264368,
          0.9883720930232558,
          0.9882352941176471,
          0.9880952380952381,
          0.9879518072289156,
          0.9878048780487805,
          0.9876543209876543,
          1,
          1,
          1,
          1,
          1,
          1,
          1,
          1,
          1,
          1,
          1,
          1,
          1,
          1,
          1,
          1,
          1,
          1,
          1,
          1,
          1,
          1,
          1,
          1,
          1,
          1,
          1,
          1,
          1,
          1,
          1,
          1,
          1,
          1,
          1,
          1,
          1,
          1,
          1,
          1,
          1,
          1,
          1,
          1,
          1,
          1,
          1,
          1,
          1,
          1,
          1,
          1,
          1,
          1,
          1,
          1,
          1,
          1,
          1,
          1,
          1,
          1,
          1,
          1,
          1,
          1,
          1,
          1,
          1,
          1,
          1,
          1,
          1,
          1,
          1,
          1,
          1,
          1,
          1,
          1,
          1
         ],
         "yaxis": "y"
        },
        {
         "hovertemplate": "method=Forward Selection<br>Recall=%{x}<br>Precision=%{y}<extra></extra>",
         "legendgroup": "Forward Selection",
         "line": {
          "color": "#EF553B",
          "dash": "solid"
         },
         "marker": {
          "symbol": "circle"
         },
         "mode": "lines",
         "name": "Forward Selection",
         "orientation": "v",
         "showlegend": true,
         "type": "scatter",
         "x": [
          1,
          1,
          1,
          1,
          1,
          1,
          1,
          1,
          1,
          1,
          1,
          1,
          1,
          1,
          1,
          1,
          1,
          1,
          1,
          1,
          1,
          1,
          1,
          1,
          1,
          1,
          1,
          1,
          1,
          1,
          1,
          1,
          1,
          1,
          1,
          1,
          1,
          1,
          1,
          1,
          1,
          1,
          1,
          1,
          1,
          1,
          1,
          0.9929577464788732,
          0.9929577464788732,
          0.9929577464788732,
          0.9929577464788732,
          0.9929577464788732,
          0.9929577464788732,
          0.9929577464788732,
          0.9929577464788732,
          0.9929577464788732,
          0.9929577464788732,
          0.9929577464788732,
          0.9929577464788732,
          0.9929577464788732,
          0.9929577464788732,
          0.9929577464788732,
          0.9929577464788732,
          0.9929577464788732,
          0.9929577464788732,
          0.9929577464788732,
          0.9929577464788732,
          0.9929577464788732,
          0.9929577464788732,
          0.9929577464788732,
          0.9929577464788732,
          0.9929577464788732,
          0.9929577464788732,
          0.9859154929577465,
          0.9859154929577465,
          0.9788732394366197,
          0.971830985915493,
          0.971830985915493,
          0.971830985915493,
          0.971830985915493,
          0.971830985915493,
          0.971830985915493,
          0.9647887323943662,
          0.9647887323943662,
          0.9647887323943662,
          0.9577464788732394,
          0.9577464788732394,
          0.9507042253521126,
          0.9436619718309859,
          0.9366197183098591,
          0.9366197183098591,
          0.9295774647887324,
          0.9295774647887324,
          0.9295774647887324,
          0.9295774647887324,
          0.9225352112676056,
          0.9225352112676056,
          0.9225352112676056,
          0.9154929577464789,
          0.9084507042253521,
          0.9014084507042254,
          0.9014084507042254,
          0.9014084507042254,
          0.8943661971830986,
          0.8873239436619719,
          0.8802816901408451,
          0.8732394366197183,
          0.8661971830985915,
          0.8591549295774648,
          0.852112676056338,
          0.8450704225352113,
          0.8450704225352113,
          0.8380281690140845,
          0.8309859154929577,
          0.823943661971831,
          0.8169014084507042,
          0.8169014084507042,
          0.8098591549295775,
          0.8028169014084507,
          0.795774647887324,
          0.7887323943661971,
          0.7887323943661971,
          0.7887323943661971,
          0.7816901408450704,
          0.7746478873239436,
          0.7676056338028169,
          0.7605633802816901,
          0.7535211267605634,
          0.7464788732394366,
          0.7394366197183099,
          0.7323943661971831,
          0.7253521126760564,
          0.7253521126760564,
          0.7183098591549296,
          0.7112676056338029,
          0.704225352112676,
          0.6971830985915493,
          0.6901408450704225,
          0.6830985915492958,
          0.676056338028169,
          0.6690140845070423,
          0.6619718309859155,
          0.6549295774647887,
          0.647887323943662,
          0.647887323943662,
          0.6408450704225352,
          0.6338028169014085,
          0.6267605633802817,
          0.6197183098591549,
          0.6126760563380281,
          0.6056338028169014,
          0.5985915492957746,
          0.5915492957746479,
          0.5845070422535211,
          0.5774647887323944,
          0.5704225352112676,
          0.5633802816901409,
          0.5563380281690141,
          0.5492957746478874,
          0.5422535211267606,
          0.5352112676056338,
          0.528169014084507,
          0.5211267605633803,
          0.5140845070422535,
          0.5070422535211268,
          0.5,
          0.49295774647887325,
          0.4859154929577465,
          0.4788732394366197,
          0.47183098591549294,
          0.4647887323943662,
          0.45774647887323944,
          0.4507042253521127,
          0.44366197183098594,
          0.43661971830985913,
          0.4295774647887324,
          0.4225352112676056,
          0.4154929577464789,
          0.4084507042253521,
          0.4014084507042254,
          0.39436619718309857,
          0.3873239436619718,
          0.38028169014084506,
          0.3732394366197183,
          0.36619718309859156,
          0.3591549295774648,
          0.352112676056338,
          0.34507042253521125,
          0.3380281690140845,
          0.33098591549295775,
          0.323943661971831,
          0.31690140845070425,
          0.30985915492957744,
          0.3028169014084507,
          0.29577464788732394,
          0.2887323943661972,
          0.28169014084507044,
          0.2746478873239437,
          0.2676056338028169,
          0.2605633802816901,
          0.2535211267605634,
          0.24647887323943662,
          0.23943661971830985,
          0.2323943661971831,
          0.22535211267605634,
          0.21830985915492956,
          0.2112676056338028,
          0.20422535211267606,
          0.19718309859154928,
          0.19014084507042253,
          0.18309859154929578,
          0.176056338028169,
          0.16901408450704225,
          0.1619718309859155,
          0.15492957746478872,
          0.14788732394366197,
          0.14084507042253522,
          0.13380281690140844,
          0.1267605633802817,
          0.11971830985915492,
          0.11267605633802817,
          0.1056338028169014,
          0.09859154929577464,
          0.09154929577464789,
          0.08450704225352113,
          0.07746478873239436,
          0.07042253521126761,
          0.06338028169014084,
          0.056338028169014086,
          0.04929577464788732,
          0.04225352112676056,
          0.035211267605633804,
          0.028169014084507043,
          0.02112676056338028,
          0.014084507042253521,
          0.007042253521126761,
          0
         ],
         "xaxis": "x2",
         "y": [
          0.6016949152542372,
          0.6042553191489362,
          0.6068376068376068,
          0.6094420600858369,
          0.6120689655172413,
          0.6147186147186147,
          0.6173913043478261,
          0.6200873362445415,
          0.6228070175438597,
          0.6255506607929515,
          0.6283185840707964,
          0.6311111111111111,
          0.6339285714285714,
          0.6367713004484304,
          0.6396396396396397,
          0.6425339366515838,
          0.6454545454545455,
          0.6484018264840182,
          0.6513761467889908,
          0.6543778801843319,
          0.6574074074074074,
          0.6604651162790698,
          0.6635514018691588,
          0.6666666666666666,
          0.6698113207547169,
          0.6729857819905213,
          0.6761904761904762,
          0.6794258373205742,
          0.6826923076923077,
          0.6859903381642513,
          0.6893203883495146,
          0.6926829268292682,
          0.696078431372549,
          0.6995073891625616,
          0.7029702970297029,
          0.7064676616915423,
          0.71,
          0.7135678391959799,
          0.7171717171717171,
          0.7208121827411168,
          0.7244897959183674,
          0.7282051282051282,
          0.7319587628865979,
          0.7357512953367875,
          0.7395833333333334,
          0.743455497382199,
          0.7473684210526316,
          0.746031746031746,
          0.75,
          0.7540106951871658,
          0.7580645161290323,
          0.7621621621621621,
          0.7663043478260869,
          0.7704918032786885,
          0.7747252747252747,
          0.7790055248618785,
          0.7833333333333333,
          0.7877094972067039,
          0.7921348314606742,
          0.7966101694915254,
          0.8011363636363636,
          0.8057142857142857,
          0.8103448275862069,
          0.815028901734104,
          0.8197674418604651,
          0.8245614035087719,
          0.8294117647058824,
          0.834319526627219,
          0.8392857142857143,
          0.844311377245509,
          0.8493975903614458,
          0.8545454545454545,
          0.8597560975609756,
          0.8588957055214724,
          0.8641975308641975,
          0.8633540372670807,
          0.8625,
          0.8679245283018868,
          0.8734177215189873,
          0.8789808917197452,
          0.8846153846153846,
          0.8903225806451613,
          0.8896103896103896,
          0.8954248366013072,
          0.9013157894736842,
          0.9006622516556292,
          0.9066666666666666,
          0.9060402684563759,
          0.9054054054054054,
          0.9047619047619048,
          0.910958904109589,
          0.9103448275862069,
          0.9166666666666666,
          0.9230769230769231,
          0.9295774647887324,
          0.9290780141843972,
          0.9357142857142857,
          0.9424460431654677,
          0.9420289855072463,
          0.9416058394160584,
          0.9411764705882353,
          0.9481481481481482,
          0.9552238805970149,
          0.9548872180451128,
          0.9545454545454546,
          0.9541984732824428,
          0.9538461538461539,
          0.9534883720930233,
          0.953125,
          0.952755905511811,
          0.9523809523809523,
          0.96,
          0.9596774193548387,
          0.959349593495935,
          0.9590163934426229,
          0.9586776859504132,
          0.9666666666666667,
          0.9663865546218487,
          0.9661016949152542,
          0.9658119658119658,
          0.9655172413793104,
          0.9739130434782609,
          0.9824561403508771,
          0.9823008849557522,
          0.9821428571428571,
          0.9819819819819819,
          0.9818181818181818,
          0.981651376146789,
          0.9814814814814815,
          0.9813084112149533,
          0.9811320754716981,
          0.9809523809523809,
          0.9903846153846154,
          0.9902912621359223,
          0.9901960784313726,
          0.9900990099009901,
          0.99,
          0.98989898989899,
          0.9897959183673469,
          0.9896907216494846,
          0.9895833333333334,
          0.9894736842105263,
          0.9893617021276596,
          0.989247311827957,
          1,
          1,
          1,
          1,
          1,
          1,
          1,
          1,
          1,
          1,
          1,
          1,
          1,
          1,
          1,
          1,
          1,
          1,
          1,
          1,
          1,
          1,
          1,
          1,
          1,
          1,
          1,
          1,
          1,
          1,
          1,
          1,
          1,
          1,
          1,
          1,
          1,
          1,
          1,
          1,
          1,
          1,
          1,
          1,
          1,
          1,
          1,
          1,
          1,
          1,
          1,
          1,
          1,
          1,
          1,
          1,
          1,
          1,
          1,
          1,
          1,
          1,
          1,
          1,
          1,
          1,
          1,
          1,
          1,
          1,
          1,
          1,
          1,
          1,
          1,
          1,
          1,
          1,
          1,
          1,
          1,
          1,
          1,
          1,
          1,
          1,
          1,
          1,
          1,
          1,
          1,
          1,
          1
         ],
         "yaxis": "y2"
        },
        {
         "hovertemplate": "method=Backward Selection<br>Recall=%{x}<br>Precision=%{y}<extra></extra>",
         "legendgroup": "Backward Selection",
         "line": {
          "color": "#00cc96",
          "dash": "solid"
         },
         "marker": {
          "symbol": "circle"
         },
         "mode": "lines",
         "name": "Backward Selection",
         "orientation": "v",
         "showlegend": true,
         "type": "scatter",
         "x": [
          1,
          1,
          1,
          1,
          1,
          1,
          1,
          1,
          1,
          1,
          1,
          1,
          1,
          1,
          1,
          1,
          1,
          1,
          1,
          1,
          1,
          1,
          1,
          1,
          1,
          1,
          1,
          1,
          1,
          1,
          1,
          1,
          1,
          1,
          1,
          1,
          1,
          1,
          1,
          1,
          1,
          1,
          1,
          1,
          1,
          1,
          1,
          1,
          1,
          1,
          1,
          1,
          1,
          1,
          0.9929577464788732,
          0.9929577464788732,
          0.9929577464788732,
          0.9929577464788732,
          0.9929577464788732,
          0.9929577464788732,
          0.9929577464788732,
          0.9929577464788732,
          0.9929577464788732,
          0.9929577464788732,
          0.9929577464788732,
          0.9929577464788732,
          0.9929577464788732,
          0.9929577464788732,
          0.9859154929577465,
          0.9859154929577465,
          0.9859154929577465,
          0.9859154929577465,
          0.9859154929577465,
          0.9859154929577465,
          0.9859154929577465,
          0.9859154929577465,
          0.9859154929577465,
          0.9788732394366197,
          0.9788732394366197,
          0.9788732394366197,
          0.9788732394366197,
          0.9788732394366197,
          0.9788732394366197,
          0.9788732394366197,
          0.9788732394366197,
          0.9788732394366197,
          0.9788732394366197,
          0.9788732394366197,
          0.971830985915493,
          0.971830985915493,
          0.971830985915493,
          0.971830985915493,
          0.971830985915493,
          0.971830985915493,
          0.9647887323943662,
          0.9577464788732394,
          0.9577464788732394,
          0.9577464788732394,
          0.9507042253521126,
          0.9507042253521126,
          0.9507042253521126,
          0.9436619718309859,
          0.9366197183098591,
          0.9295774647887324,
          0.9225352112676056,
          0.9154929577464789,
          0.9084507042253521,
          0.9014084507042254,
          0.8943661971830986,
          0.8873239436619719,
          0.8802816901408451,
          0.8732394366197183,
          0.8661971830985915,
          0.8591549295774648,
          0.852112676056338,
          0.8450704225352113,
          0.8380281690140845,
          0.8309859154929577,
          0.823943661971831,
          0.8169014084507042,
          0.8098591549295775,
          0.8028169014084507,
          0.795774647887324,
          0.7887323943661971,
          0.7816901408450704,
          0.7746478873239436,
          0.7676056338028169,
          0.7605633802816901,
          0.7535211267605634,
          0.7464788732394366,
          0.7394366197183099,
          0.7323943661971831,
          0.7253521126760564,
          0.7183098591549296,
          0.7112676056338029,
          0.704225352112676,
          0.6971830985915493,
          0.6901408450704225,
          0.6830985915492958,
          0.676056338028169,
          0.6690140845070423,
          0.6619718309859155,
          0.6549295774647887,
          0.647887323943662,
          0.6408450704225352,
          0.6338028169014085,
          0.6267605633802817,
          0.6197183098591549,
          0.6126760563380281,
          0.6056338028169014,
          0.5985915492957746,
          0.5915492957746479,
          0.5845070422535211,
          0.5774647887323944,
          0.5704225352112676,
          0.5633802816901409,
          0.5563380281690141,
          0.5492957746478874,
          0.5422535211267606,
          0.5352112676056338,
          0.528169014084507,
          0.5211267605633803,
          0.5140845070422535,
          0.5070422535211268,
          0.5,
          0.49295774647887325,
          0.4859154929577465,
          0.4788732394366197,
          0.47183098591549294,
          0.4647887323943662,
          0.45774647887323944,
          0.4507042253521127,
          0.44366197183098594,
          0.43661971830985913,
          0.4295774647887324,
          0.4225352112676056,
          0.4154929577464789,
          0.4084507042253521,
          0.4014084507042254,
          0.39436619718309857,
          0.3873239436619718,
          0.3873239436619718,
          0.38028169014084506,
          0.3732394366197183,
          0.36619718309859156,
          0.3591549295774648,
          0.352112676056338,
          0.34507042253521125,
          0.3380281690140845,
          0.33098591549295775,
          0.323943661971831,
          0.31690140845070425,
          0.30985915492957744,
          0.3028169014084507,
          0.29577464788732394,
          0.2887323943661972,
          0.28169014084507044,
          0.2746478873239437,
          0.2676056338028169,
          0.2605633802816901,
          0.2535211267605634,
          0.24647887323943662,
          0.23943661971830985,
          0.2323943661971831,
          0.22535211267605634,
          0.21830985915492956,
          0.2112676056338028,
          0.20422535211267606,
          0.19718309859154928,
          0.19014084507042253,
          0.18309859154929578,
          0.176056338028169,
          0.16901408450704225,
          0.1619718309859155,
          0.15492957746478872,
          0.14788732394366197,
          0.14084507042253522,
          0.13380281690140844,
          0.1267605633802817,
          0.11971830985915492,
          0.11267605633802817,
          0.1056338028169014,
          0.09859154929577464,
          0.09154929577464789,
          0.08450704225352113,
          0.07746478873239436,
          0.07042253521126761,
          0.06338028169014084,
          0.056338028169014086,
          0.04929577464788732,
          0.04225352112676056,
          0.035211267605633804,
          0.028169014084507043,
          0.02112676056338028,
          0.014084507042253521,
          0.007042253521126761,
          0
         ],
         "xaxis": "x3",
         "y": [
          0.6016949152542372,
          0.6042553191489362,
          0.6068376068376068,
          0.6094420600858369,
          0.6120689655172413,
          0.6147186147186147,
          0.6173913043478261,
          0.6200873362445415,
          0.6228070175438597,
          0.6255506607929515,
          0.6283185840707964,
          0.6311111111111111,
          0.6339285714285714,
          0.6367713004484304,
          0.6396396396396397,
          0.6425339366515838,
          0.6454545454545455,
          0.6484018264840182,
          0.6513761467889908,
          0.6543778801843319,
          0.6574074074074074,
          0.6604651162790698,
          0.6635514018691588,
          0.6666666666666666,
          0.6698113207547169,
          0.6729857819905213,
          0.6761904761904762,
          0.6794258373205742,
          0.6826923076923077,
          0.6859903381642513,
          0.6893203883495146,
          0.6926829268292682,
          0.696078431372549,
          0.6995073891625616,
          0.7029702970297029,
          0.7064676616915423,
          0.71,
          0.7135678391959799,
          0.7171717171717171,
          0.7208121827411168,
          0.7244897959183674,
          0.7282051282051282,
          0.7319587628865979,
          0.7357512953367875,
          0.7395833333333334,
          0.743455497382199,
          0.7473684210526316,
          0.7513227513227513,
          0.7553191489361702,
          0.7593582887700535,
          0.7634408602150538,
          0.7675675675675676,
          0.7717391304347826,
          0.7759562841530054,
          0.7747252747252747,
          0.7790055248618785,
          0.7833333333333333,
          0.7877094972067039,
          0.7921348314606742,
          0.7966101694915254,
          0.8011363636363636,
          0.8057142857142857,
          0.8103448275862069,
          0.815028901734104,
          0.8197674418604651,
          0.8245614035087719,
          0.8294117647058824,
          0.834319526627219,
          0.8333333333333334,
          0.8383233532934131,
          0.8433734939759037,
          0.8484848484848485,
          0.8536585365853658,
          0.8588957055214724,
          0.8641975308641975,
          0.8695652173913043,
          0.875,
          0.8742138364779874,
          0.879746835443038,
          0.8853503184713376,
          0.8910256410256411,
          0.896774193548387,
          0.9025974025974026,
          0.9084967320261438,
          0.9144736842105263,
          0.9205298013245033,
          0.9266666666666666,
          0.9328859060402684,
          0.9324324324324325,
          0.9387755102040817,
          0.9452054794520548,
          0.9517241379310345,
          0.9583333333333334,
          0.965034965034965,
          0.9647887323943662,
          0.9645390070921985,
          0.9714285714285714,
          0.9784172661870504,
          0.9782608695652174,
          0.9854014598540146,
          0.9926470588235294,
          0.9925925925925926,
          0.9925373134328358,
          0.9924812030075187,
          0.9924242424242424,
          0.9923664122137404,
          0.9923076923076923,
          0.9922480620155039,
          0.9921875,
          0.9921259842519685,
          0.9920634920634921,
          0.992,
          0.9919354838709677,
          0.991869918699187,
          0.9918032786885246,
          0.9917355371900827,
          0.9916666666666667,
          0.9915966386554622,
          0.9915254237288136,
          0.9914529914529915,
          0.9913793103448276,
          0.991304347826087,
          0.9912280701754386,
          0.9911504424778761,
          0.9910714285714286,
          0.990990990990991,
          0.990909090909091,
          0.9908256880733946,
          0.9907407407407407,
          0.9906542056074766,
          0.9905660377358491,
          0.9904761904761905,
          0.9903846153846154,
          0.9902912621359223,
          0.9901960784313726,
          0.9900990099009901,
          0.99,
          0.98989898989899,
          0.9897959183673469,
          0.9896907216494846,
          0.9895833333333334,
          0.9894736842105263,
          0.9893617021276596,
          0.989247311827957,
          0.9891304347826086,
          0.989010989010989,
          0.9888888888888889,
          0.9887640449438202,
          0.9886363636363636,
          0.9885057471264368,
          0.9883720930232558,
          0.9882352941176471,
          0.9880952380952381,
          0.9879518072289156,
          0.9878048780487805,
          0.9876543209876543,
          0.9875,
          0.9873417721518988,
          0.9871794871794872,
          0.987012987012987,
          0.9868421052631579,
          0.9866666666666667,
          0.9864864864864865,
          0.9863013698630136,
          0.9861111111111112,
          0.9859154929577465,
          0.9857142857142858,
          0.9855072463768116,
          0.9852941176470589,
          0.9850746268656716,
          0.9848484848484849,
          0.9846153846153847,
          0.984375,
          0.9841269841269841,
          0.9838709677419355,
          0.9836065573770492,
          0.9833333333333333,
          0.9830508474576272,
          0.9827586206896551,
          0.9824561403508771,
          0.9821428571428571,
          1,
          1,
          1,
          1,
          1,
          1,
          1,
          1,
          1,
          1,
          1,
          1,
          1,
          1,
          1,
          1,
          1,
          1,
          1,
          1,
          1,
          1,
          1,
          1,
          1,
          1,
          1,
          1,
          1,
          1,
          1,
          1,
          1,
          1,
          1,
          1,
          1,
          1,
          1,
          1,
          1,
          1,
          1,
          1,
          1,
          1,
          1,
          1,
          1,
          1,
          1,
          1,
          1,
          1,
          1,
          1
         ],
         "yaxis": "y3"
        }
       ],
       "layout": {
        "annotations": [
         {
          "font": {},
          "showarrow": false,
          "text": "method=Full Model",
          "x": 0.15999999999999998,
          "xanchor": "center",
          "xref": "paper",
          "y": 1,
          "yanchor": "bottom",
          "yref": "paper"
         },
         {
          "font": {},
          "showarrow": false,
          "text": "method=Forward Selection",
          "x": 0.49999999999999994,
          "xanchor": "center",
          "xref": "paper",
          "y": 1,
          "yanchor": "bottom",
          "yref": "paper"
         },
         {
          "font": {},
          "showarrow": false,
          "text": "method=Backward Selection",
          "x": 0.8399999999999999,
          "xanchor": "center",
          "xref": "paper",
          "y": 1,
          "yanchor": "bottom",
          "yref": "paper"
         }
        ],
        "legend": {
         "title": {
          "text": "method"
         },
         "tracegroupgap": 0
        },
        "margin": {
         "t": 60
        },
        "template": {
         "data": {
          "bar": [
           {
            "error_x": {
             "color": "#2a3f5f"
            },
            "error_y": {
             "color": "#2a3f5f"
            },
            "marker": {
             "line": {
              "color": "#E5ECF6",
              "width": 0.5
             },
             "pattern": {
              "fillmode": "overlay",
              "size": 10,
              "solidity": 0.2
             }
            },
            "type": "bar"
           }
          ],
          "barpolar": [
           {
            "marker": {
             "line": {
              "color": "#E5ECF6",
              "width": 0.5
             },
             "pattern": {
              "fillmode": "overlay",
              "size": 10,
              "solidity": 0.2
             }
            },
            "type": "barpolar"
           }
          ],
          "carpet": [
           {
            "aaxis": {
             "endlinecolor": "#2a3f5f",
             "gridcolor": "white",
             "linecolor": "white",
             "minorgridcolor": "white",
             "startlinecolor": "#2a3f5f"
            },
            "baxis": {
             "endlinecolor": "#2a3f5f",
             "gridcolor": "white",
             "linecolor": "white",
             "minorgridcolor": "white",
             "startlinecolor": "#2a3f5f"
            },
            "type": "carpet"
           }
          ],
          "choropleth": [
           {
            "colorbar": {
             "outlinewidth": 0,
             "ticks": ""
            },
            "type": "choropleth"
           }
          ],
          "contour": [
           {
            "colorbar": {
             "outlinewidth": 0,
             "ticks": ""
            },
            "colorscale": [
             [
              0,
              "#0d0887"
             ],
             [
              0.1111111111111111,
              "#46039f"
             ],
             [
              0.2222222222222222,
              "#7201a8"
             ],
             [
              0.3333333333333333,
              "#9c179e"
             ],
             [
              0.4444444444444444,
              "#bd3786"
             ],
             [
              0.5555555555555556,
              "#d8576b"
             ],
             [
              0.6666666666666666,
              "#ed7953"
             ],
             [
              0.7777777777777778,
              "#fb9f3a"
             ],
             [
              0.8888888888888888,
              "#fdca26"
             ],
             [
              1,
              "#f0f921"
             ]
            ],
            "type": "contour"
           }
          ],
          "contourcarpet": [
           {
            "colorbar": {
             "outlinewidth": 0,
             "ticks": ""
            },
            "type": "contourcarpet"
           }
          ],
          "heatmap": [
           {
            "colorbar": {
             "outlinewidth": 0,
             "ticks": ""
            },
            "colorscale": [
             [
              0,
              "#0d0887"
             ],
             [
              0.1111111111111111,
              "#46039f"
             ],
             [
              0.2222222222222222,
              "#7201a8"
             ],
             [
              0.3333333333333333,
              "#9c179e"
             ],
             [
              0.4444444444444444,
              "#bd3786"
             ],
             [
              0.5555555555555556,
              "#d8576b"
             ],
             [
              0.6666666666666666,
              "#ed7953"
             ],
             [
              0.7777777777777778,
              "#fb9f3a"
             ],
             [
              0.8888888888888888,
              "#fdca26"
             ],
             [
              1,
              "#f0f921"
             ]
            ],
            "type": "heatmap"
           }
          ],
          "heatmapgl": [
           {
            "colorbar": {
             "outlinewidth": 0,
             "ticks": ""
            },
            "colorscale": [
             [
              0,
              "#0d0887"
             ],
             [
              0.1111111111111111,
              "#46039f"
             ],
             [
              0.2222222222222222,
              "#7201a8"
             ],
             [
              0.3333333333333333,
              "#9c179e"
             ],
             [
              0.4444444444444444,
              "#bd3786"
             ],
             [
              0.5555555555555556,
              "#d8576b"
             ],
             [
              0.6666666666666666,
              "#ed7953"
             ],
             [
              0.7777777777777778,
              "#fb9f3a"
             ],
             [
              0.8888888888888888,
              "#fdca26"
             ],
             [
              1,
              "#f0f921"
             ]
            ],
            "type": "heatmapgl"
           }
          ],
          "histogram": [
           {
            "marker": {
             "pattern": {
              "fillmode": "overlay",
              "size": 10,
              "solidity": 0.2
             }
            },
            "type": "histogram"
           }
          ],
          "histogram2d": [
           {
            "colorbar": {
             "outlinewidth": 0,
             "ticks": ""
            },
            "colorscale": [
             [
              0,
              "#0d0887"
             ],
             [
              0.1111111111111111,
              "#46039f"
             ],
             [
              0.2222222222222222,
              "#7201a8"
             ],
             [
              0.3333333333333333,
              "#9c179e"
             ],
             [
              0.4444444444444444,
              "#bd3786"
             ],
             [
              0.5555555555555556,
              "#d8576b"
             ],
             [
              0.6666666666666666,
              "#ed7953"
             ],
             [
              0.7777777777777778,
              "#fb9f3a"
             ],
             [
              0.8888888888888888,
              "#fdca26"
             ],
             [
              1,
              "#f0f921"
             ]
            ],
            "type": "histogram2d"
           }
          ],
          "histogram2dcontour": [
           {
            "colorbar": {
             "outlinewidth": 0,
             "ticks": ""
            },
            "colorscale": [
             [
              0,
              "#0d0887"
             ],
             [
              0.1111111111111111,
              "#46039f"
             ],
             [
              0.2222222222222222,
              "#7201a8"
             ],
             [
              0.3333333333333333,
              "#9c179e"
             ],
             [
              0.4444444444444444,
              "#bd3786"
             ],
             [
              0.5555555555555556,
              "#d8576b"
             ],
             [
              0.6666666666666666,
              "#ed7953"
             ],
             [
              0.7777777777777778,
              "#fb9f3a"
             ],
             [
              0.8888888888888888,
              "#fdca26"
             ],
             [
              1,
              "#f0f921"
             ]
            ],
            "type": "histogram2dcontour"
           }
          ],
          "mesh3d": [
           {
            "colorbar": {
             "outlinewidth": 0,
             "ticks": ""
            },
            "type": "mesh3d"
           }
          ],
          "parcoords": [
           {
            "line": {
             "colorbar": {
              "outlinewidth": 0,
              "ticks": ""
             }
            },
            "type": "parcoords"
           }
          ],
          "pie": [
           {
            "automargin": true,
            "type": "pie"
           }
          ],
          "scatter": [
           {
            "fillpattern": {
             "fillmode": "overlay",
             "size": 10,
             "solidity": 0.2
            },
            "type": "scatter"
           }
          ],
          "scatter3d": [
           {
            "line": {
             "colorbar": {
              "outlinewidth": 0,
              "ticks": ""
             }
            },
            "marker": {
             "colorbar": {
              "outlinewidth": 0,
              "ticks": ""
             }
            },
            "type": "scatter3d"
           }
          ],
          "scattercarpet": [
           {
            "marker": {
             "colorbar": {
              "outlinewidth": 0,
              "ticks": ""
             }
            },
            "type": "scattercarpet"
           }
          ],
          "scattergeo": [
           {
            "marker": {
             "colorbar": {
              "outlinewidth": 0,
              "ticks": ""
             }
            },
            "type": "scattergeo"
           }
          ],
          "scattergl": [
           {
            "marker": {
             "colorbar": {
              "outlinewidth": 0,
              "ticks": ""
             }
            },
            "type": "scattergl"
           }
          ],
          "scattermapbox": [
           {
            "marker": {
             "colorbar": {
              "outlinewidth": 0,
              "ticks": ""
             }
            },
            "type": "scattermapbox"
           }
          ],
          "scatterpolar": [
           {
            "marker": {
             "colorbar": {
              "outlinewidth": 0,
              "ticks": ""
             }
            },
            "type": "scatterpolar"
           }
          ],
          "scatterpolargl": [
           {
            "marker": {
             "colorbar": {
              "outlinewidth": 0,
              "ticks": ""
             }
            },
            "type": "scatterpolargl"
           }
          ],
          "scatterternary": [
           {
            "marker": {
             "colorbar": {
              "outlinewidth": 0,
              "ticks": ""
             }
            },
            "type": "scatterternary"
           }
          ],
          "surface": [
           {
            "colorbar": {
             "outlinewidth": 0,
             "ticks": ""
            },
            "colorscale": [
             [
              0,
              "#0d0887"
             ],
             [
              0.1111111111111111,
              "#46039f"
             ],
             [
              0.2222222222222222,
              "#7201a8"
             ],
             [
              0.3333333333333333,
              "#9c179e"
             ],
             [
              0.4444444444444444,
              "#bd3786"
             ],
             [
              0.5555555555555556,
              "#d8576b"
             ],
             [
              0.6666666666666666,
              "#ed7953"
             ],
             [
              0.7777777777777778,
              "#fb9f3a"
             ],
             [
              0.8888888888888888,
              "#fdca26"
             ],
             [
              1,
              "#f0f921"
             ]
            ],
            "type": "surface"
           }
          ],
          "table": [
           {
            "cells": {
             "fill": {
              "color": "#EBF0F8"
             },
             "line": {
              "color": "white"
             }
            },
            "header": {
             "fill": {
              "color": "#C8D4E3"
             },
             "line": {
              "color": "white"
             }
            },
            "type": "table"
           }
          ]
         },
         "layout": {
          "annotationdefaults": {
           "arrowcolor": "#2a3f5f",
           "arrowhead": 0,
           "arrowwidth": 1
          },
          "autotypenumbers": "strict",
          "coloraxis": {
           "colorbar": {
            "outlinewidth": 0,
            "ticks": ""
           }
          },
          "colorscale": {
           "diverging": [
            [
             0,
             "#8e0152"
            ],
            [
             0.1,
             "#c51b7d"
            ],
            [
             0.2,
             "#de77ae"
            ],
            [
             0.3,
             "#f1b6da"
            ],
            [
             0.4,
             "#fde0ef"
            ],
            [
             0.5,
             "#f7f7f7"
            ],
            [
             0.6,
             "#e6f5d0"
            ],
            [
             0.7,
             "#b8e186"
            ],
            [
             0.8,
             "#7fbc41"
            ],
            [
             0.9,
             "#4d9221"
            ],
            [
             1,
             "#276419"
            ]
           ],
           "sequential": [
            [
             0,
             "#0d0887"
            ],
            [
             0.1111111111111111,
             "#46039f"
            ],
            [
             0.2222222222222222,
             "#7201a8"
            ],
            [
             0.3333333333333333,
             "#9c179e"
            ],
            [
             0.4444444444444444,
             "#bd3786"
            ],
            [
             0.5555555555555556,
             "#d8576b"
            ],
            [
             0.6666666666666666,
             "#ed7953"
            ],
            [
             0.7777777777777778,
             "#fb9f3a"
            ],
            [
             0.8888888888888888,
             "#fdca26"
            ],
            [
             1,
             "#f0f921"
            ]
           ],
           "sequentialminus": [
            [
             0,
             "#0d0887"
            ],
            [
             0.1111111111111111,
             "#46039f"
            ],
            [
             0.2222222222222222,
             "#7201a8"
            ],
            [
             0.3333333333333333,
             "#9c179e"
            ],
            [
             0.4444444444444444,
             "#bd3786"
            ],
            [
             0.5555555555555556,
             "#d8576b"
            ],
            [
             0.6666666666666666,
             "#ed7953"
            ],
            [
             0.7777777777777778,
             "#fb9f3a"
            ],
            [
             0.8888888888888888,
             "#fdca26"
            ],
            [
             1,
             "#f0f921"
            ]
           ]
          },
          "colorway": [
           "#636efa",
           "#EF553B",
           "#00cc96",
           "#ab63fa",
           "#FFA15A",
           "#19d3f3",
           "#FF6692",
           "#B6E880",
           "#FF97FF",
           "#FECB52"
          ],
          "font": {
           "color": "#2a3f5f"
          },
          "geo": {
           "bgcolor": "white",
           "lakecolor": "white",
           "landcolor": "#E5ECF6",
           "showlakes": true,
           "showland": true,
           "subunitcolor": "white"
          },
          "hoverlabel": {
           "align": "left"
          },
          "hovermode": "closest",
          "mapbox": {
           "style": "light"
          },
          "paper_bgcolor": "white",
          "plot_bgcolor": "#E5ECF6",
          "polar": {
           "angularaxis": {
            "gridcolor": "white",
            "linecolor": "white",
            "ticks": ""
           },
           "bgcolor": "#E5ECF6",
           "radialaxis": {
            "gridcolor": "white",
            "linecolor": "white",
            "ticks": ""
           }
          },
          "scene": {
           "xaxis": {
            "backgroundcolor": "#E5ECF6",
            "gridcolor": "white",
            "gridwidth": 2,
            "linecolor": "white",
            "showbackground": true,
            "ticks": "",
            "zerolinecolor": "white"
           },
           "yaxis": {
            "backgroundcolor": "#E5ECF6",
            "gridcolor": "white",
            "gridwidth": 2,
            "linecolor": "white",
            "showbackground": true,
            "ticks": "",
            "zerolinecolor": "white"
           },
           "zaxis": {
            "backgroundcolor": "#E5ECF6",
            "gridcolor": "white",
            "gridwidth": 2,
            "linecolor": "white",
            "showbackground": true,
            "ticks": "",
            "zerolinecolor": "white"
           }
          },
          "shapedefaults": {
           "line": {
            "color": "#2a3f5f"
           }
          },
          "ternary": {
           "aaxis": {
            "gridcolor": "white",
            "linecolor": "white",
            "ticks": ""
           },
           "baxis": {
            "gridcolor": "white",
            "linecolor": "white",
            "ticks": ""
           },
           "bgcolor": "#E5ECF6",
           "caxis": {
            "gridcolor": "white",
            "linecolor": "white",
            "ticks": ""
           }
          },
          "title": {
           "x": 0.05
          },
          "xaxis": {
           "automargin": true,
           "gridcolor": "white",
           "linecolor": "white",
           "ticks": "",
           "title": {
            "standoff": 15
           },
           "zerolinecolor": "white",
           "zerolinewidth": 2
          },
          "yaxis": {
           "automargin": true,
           "gridcolor": "white",
           "linecolor": "white",
           "ticks": "",
           "title": {
            "standoff": 15
           },
           "zerolinecolor": "white",
           "zerolinewidth": 2
          }
         }
        },
        "xaxis": {
         "anchor": "y",
         "domain": [
          0,
          0.31999999999999995
         ],
         "title": {
          "text": "Recall"
         }
        },
        "xaxis2": {
         "anchor": "y2",
         "domain": [
          0.33999999999999997,
          0.6599999999999999
         ],
         "matches": "x",
         "title": {
          "text": "Recall"
         }
        },
        "xaxis3": {
         "anchor": "y3",
         "domain": [
          0.6799999999999999,
          0.9999999999999999
         ],
         "matches": "x",
         "title": {
          "text": "Recall"
         }
        },
        "yaxis": {
         "anchor": "x",
         "domain": [
          0,
          1
         ],
         "title": {
          "text": "Precision"
         }
        },
        "yaxis2": {
         "anchor": "x2",
         "domain": [
          0,
          1
         ],
         "matches": "y",
         "showticklabels": false
        },
        "yaxis3": {
         "anchor": "x3",
         "domain": [
          0,
          1
         ],
         "matches": "y",
         "showticklabels": false
        }
       }
      }
     },
     "metadata": {},
     "output_type": "display_data"
    }
   ],
   "source": [
    "# Visualize precision recall curve\n",
    "fig = px.line(pr_df,x='Recall',y='Precision',facet_col='method',color='method')\n",
    "fig"
   ]
  },
  {
   "attachments": {},
   "cell_type": "markdown",
   "metadata": {},
   "source": [
    "From both the ROC and precision-recall curves we see that the full model has similar performance with the models with only 3 features."
   ]
  },
  {
   "attachments": {},
   "cell_type": "markdown",
   "metadata": {},
   "source": [
    "### Data with imbalanced classes"
   ]
  },
  {
   "attachments": {},
   "cell_type": "markdown",
   "metadata": {},
   "source": [
    "One common problem for modeling is when the classes in the data are highly imbalance, e.g. there are much more negative cases than positive cases. In this section we learn two techniques to settle imbalanced data."
   ]
  },
  {
   "attachments": {},
   "cell_type": "markdown",
   "metadata": {},
   "source": [
    "#### Generate imbalanced data"
   ]
  },
  {
   "cell_type": "code",
   "execution_count": 22,
   "metadata": {},
   "outputs": [
    {
     "data": {
      "text/plain": [
       "1    357\n",
       "0    212\n",
       "Name: target, dtype: int64"
      ]
     },
     "execution_count": 22,
     "metadata": {},
     "output_type": "execute_result"
    }
   ],
   "source": [
    "# The original breast cancer data statistics.\n",
    "y_df.value_counts()"
   ]
  },
  {
   "attachments": {},
   "cell_type": "markdown",
   "metadata": {},
   "source": [
    "For the breast cancer dataset there are more positive cases, but the ratio\n",
    "of number of two classes is not too bad (<2)."
   ]
  },
  {
   "attachments": {},
   "cell_type": "markdown",
   "metadata": {},
   "source": [
    "We synthesize a highly imbalanced dataset, with much more negative cases.\n",
    "1.  We sample with replacement to generate new data with $10000$ records, where the probability to select a positive case ($y=1$) is 0.05, and the probability to select a negative case ($y=0$) is 0.95.\n",
    "2.  Note that data sampled in this say has many duplicate records. We add some Gaussian noise to the independent variable so that the same record in the sampled dataset has slightly different $x$ values.\n",
    "3.  We do a $6:4$ train-test split on the synthesized data."
   ]
  },
  {
   "cell_type": "code",
   "execution_count": 23,
   "metadata": {},
   "outputs": [],
   "source": [
    "# 0.1 probability to sample a negative case.\n",
    "p_array = np.where(y_df.to_numpy()==1,0.05,0.95)\n",
    "\n",
    "# Normalize original data first.\n",
    "X_df = (X_raw-X_raw.mean())/X_raw.std()\n",
    "\n",
    "# Combine input and target.\n",
    "Xy_df = pd.concat([X_df,y_df],axis=1)\n",
    "\n",
    "# Sample 10000 records with prescribed probability.\n",
    "Xy_df_resampled = Xy_df.sample(n=10000,replace=True,weights=p_array,random_state=12,axis=0)\n",
    "\n",
    "# Split input and target from sampled data.\n",
    "X_df_resampled, y_df_resampled = Xy_df_resampled.iloc[:,:-1], Xy_df_resampled.iloc[:,-1]\n",
    "\n",
    "# Add noise to input.\n",
    "X_np_resampled = X_df_resampled.to_numpy()+np.random.normal(scale=3,size=X_df_resampled.to_numpy().shape)\n",
    "X_df_resampled = pd.DataFrame(X_np_resampled,columns=X_df_resampled.columns)"
   ]
  },
  {
   "cell_type": "code",
   "execution_count": 24,
   "metadata": {},
   "outputs": [
    {
     "data": {
      "text/plain": [
       "0    9176\n",
       "1     824\n",
       "Name: target, dtype: int64"
      ]
     },
     "execution_count": 24,
     "metadata": {},
     "output_type": "execute_result"
    }
   ],
   "source": [
    "# The resulting synthetic dataset is highly imbalanced\n",
    "y_df_resampled.value_counts()"
   ]
  },
  {
   "cell_type": "code",
   "execution_count": 25,
   "metadata": {},
   "outputs": [],
   "source": [
    "# We use an approx 6:4 train test splitting\n",
    "np.random.seed(12)\n",
    "cases = ['train','test']\n",
    "case_list = np.random.choice(cases,size=len(X_df_resampled),replace=True,p=[0.6,0.4])\n",
    "\n",
    "X_df_RTrain, y_df_RTrain = X_df_resampled.iloc[case_list=='train'], y_df_resampled.iloc[case_list=='train']\n",
    "X_df_RTest, y_df_RTest = X_df_resampled.iloc[case_list=='test'], y_df_resampled.iloc[case_list=='test']"
   ]
  },
  {
   "attachments": {},
   "cell_type": "markdown",
   "metadata": {},
   "source": [
    "#### Vanilla logistic regression on synthesized data\n",
    "\n",
    "We first fit a vanilla logistic regression on the synthesized data. Note that since this data is highly imbalanced, the accuracy metric can be misleading."
   ]
  },
  {
   "cell_type": "code",
   "execution_count": 26,
   "metadata": {},
   "outputs": [
    {
     "data": {
      "text/html": [
       "<style>#sk-container-id-1 {color: black;background-color: white;}#sk-container-id-1 pre{padding: 0;}#sk-container-id-1 div.sk-toggleable {background-color: white;}#sk-container-id-1 label.sk-toggleable__label {cursor: pointer;display: block;width: 100%;margin-bottom: 0;padding: 0.3em;box-sizing: border-box;text-align: center;}#sk-container-id-1 label.sk-toggleable__label-arrow:before {content: \"▸\";float: left;margin-right: 0.25em;color: #696969;}#sk-container-id-1 label.sk-toggleable__label-arrow:hover:before {color: black;}#sk-container-id-1 div.sk-estimator:hover label.sk-toggleable__label-arrow:before {color: black;}#sk-container-id-1 div.sk-toggleable__content {max-height: 0;max-width: 0;overflow: hidden;text-align: left;background-color: #f0f8ff;}#sk-container-id-1 div.sk-toggleable__content pre {margin: 0.2em;color: black;border-radius: 0.25em;background-color: #f0f8ff;}#sk-container-id-1 input.sk-toggleable__control:checked~div.sk-toggleable__content {max-height: 200px;max-width: 100%;overflow: auto;}#sk-container-id-1 input.sk-toggleable__control:checked~label.sk-toggleable__label-arrow:before {content: \"▾\";}#sk-container-id-1 div.sk-estimator input.sk-toggleable__control:checked~label.sk-toggleable__label {background-color: #d4ebff;}#sk-container-id-1 div.sk-label input.sk-toggleable__control:checked~label.sk-toggleable__label {background-color: #d4ebff;}#sk-container-id-1 input.sk-hidden--visually {border: 0;clip: rect(1px 1px 1px 1px);clip: rect(1px, 1px, 1px, 1px);height: 1px;margin: -1px;overflow: hidden;padding: 0;position: absolute;width: 1px;}#sk-container-id-1 div.sk-estimator {font-family: monospace;background-color: #f0f8ff;border: 1px dotted black;border-radius: 0.25em;box-sizing: border-box;margin-bottom: 0.5em;}#sk-container-id-1 div.sk-estimator:hover {background-color: #d4ebff;}#sk-container-id-1 div.sk-parallel-item::after {content: \"\";width: 100%;border-bottom: 1px solid gray;flex-grow: 1;}#sk-container-id-1 div.sk-label:hover label.sk-toggleable__label {background-color: #d4ebff;}#sk-container-id-1 div.sk-serial::before {content: \"\";position: absolute;border-left: 1px solid gray;box-sizing: border-box;top: 0;bottom: 0;left: 50%;z-index: 0;}#sk-container-id-1 div.sk-serial {display: flex;flex-direction: column;align-items: center;background-color: white;padding-right: 0.2em;padding-left: 0.2em;position: relative;}#sk-container-id-1 div.sk-item {position: relative;z-index: 1;}#sk-container-id-1 div.sk-parallel {display: flex;align-items: stretch;justify-content: center;background-color: white;position: relative;}#sk-container-id-1 div.sk-item::before, #sk-container-id-1 div.sk-parallel-item::before {content: \"\";position: absolute;border-left: 1px solid gray;box-sizing: border-box;top: 0;bottom: 0;left: 50%;z-index: -1;}#sk-container-id-1 div.sk-parallel-item {display: flex;flex-direction: column;z-index: 1;position: relative;background-color: white;}#sk-container-id-1 div.sk-parallel-item:first-child::after {align-self: flex-end;width: 50%;}#sk-container-id-1 div.sk-parallel-item:last-child::after {align-self: flex-start;width: 50%;}#sk-container-id-1 div.sk-parallel-item:only-child::after {width: 0;}#sk-container-id-1 div.sk-dashed-wrapped {border: 1px dashed gray;margin: 0 0.4em 0.5em 0.4em;box-sizing: border-box;padding-bottom: 0.4em;background-color: white;}#sk-container-id-1 div.sk-label label {font-family: monospace;font-weight: bold;display: inline-block;line-height: 1.2em;}#sk-container-id-1 div.sk-label-container {text-align: center;}#sk-container-id-1 div.sk-container {/* jupyter's `normalize.less` sets `[hidden] { display: none; }` but bootstrap.min.css set `[hidden] { display: none !important; }` so we also need the `!important` here to be able to override the default hidden behavior on the sphinx rendered scikit-learn.org. See: https://github.com/scikit-learn/scikit-learn/issues/21755 */display: inline-block !important;position: relative;}#sk-container-id-1 div.sk-text-repr-fallback {display: none;}</style><div id=\"sk-container-id-1\" class=\"sk-top-container\"><div class=\"sk-text-repr-fallback\"><pre>LogisticRegression(solver=&#x27;liblinear&#x27;)</pre><b>In a Jupyter environment, please rerun this cell to show the HTML representation or trust the notebook. <br />On GitHub, the HTML representation is unable to render, please try loading this page with nbviewer.org.</b></div><div class=\"sk-container\" hidden><div class=\"sk-item\"><div class=\"sk-estimator sk-toggleable\"><input class=\"sk-toggleable__control sk-hidden--visually\" id=\"sk-estimator-id-1\" type=\"checkbox\" checked><label for=\"sk-estimator-id-1\" class=\"sk-toggleable__label sk-toggleable__label-arrow\">LogisticRegression</label><div class=\"sk-toggleable__content\"><pre>LogisticRegression(solver=&#x27;liblinear&#x27;)</pre></div></div></div></div></div>"
      ],
      "text/plain": [
       "LogisticRegression(solver='liblinear')"
      ]
     },
     "execution_count": 26,
     "metadata": {},
     "output_type": "execute_result"
    }
   ],
   "source": [
    "# We first fit a standard logistic regression.\n",
    "model = logit(solver='liblinear')\n",
    "model.fit(X_df_RTrain,y_df_RTrain)"
   ]
  },
  {
   "cell_type": "code",
   "execution_count": 27,
   "metadata": {},
   "outputs": [],
   "source": [
    "pred = model.predict_proba(X_df_RTest)"
   ]
  },
  {
   "attachments": {},
   "cell_type": "markdown",
   "metadata": {},
   "source": [
    "We will visualize and compare the prediction results later."
   ]
  },
  {
   "attachments": {},
   "cell_type": "markdown",
   "metadata": {},
   "source": [
    "#### Logistic regression with balanced class weight"
   ]
  },
  {
   "cell_type": "code",
   "execution_count": 28,
   "metadata": {},
   "outputs": [
    {
     "data": {
      "text/html": [
       "<style>#sk-container-id-2 {color: black;background-color: white;}#sk-container-id-2 pre{padding: 0;}#sk-container-id-2 div.sk-toggleable {background-color: white;}#sk-container-id-2 label.sk-toggleable__label {cursor: pointer;display: block;width: 100%;margin-bottom: 0;padding: 0.3em;box-sizing: border-box;text-align: center;}#sk-container-id-2 label.sk-toggleable__label-arrow:before {content: \"▸\";float: left;margin-right: 0.25em;color: #696969;}#sk-container-id-2 label.sk-toggleable__label-arrow:hover:before {color: black;}#sk-container-id-2 div.sk-estimator:hover label.sk-toggleable__label-arrow:before {color: black;}#sk-container-id-2 div.sk-toggleable__content {max-height: 0;max-width: 0;overflow: hidden;text-align: left;background-color: #f0f8ff;}#sk-container-id-2 div.sk-toggleable__content pre {margin: 0.2em;color: black;border-radius: 0.25em;background-color: #f0f8ff;}#sk-container-id-2 input.sk-toggleable__control:checked~div.sk-toggleable__content {max-height: 200px;max-width: 100%;overflow: auto;}#sk-container-id-2 input.sk-toggleable__control:checked~label.sk-toggleable__label-arrow:before {content: \"▾\";}#sk-container-id-2 div.sk-estimator input.sk-toggleable__control:checked~label.sk-toggleable__label {background-color: #d4ebff;}#sk-container-id-2 div.sk-label input.sk-toggleable__control:checked~label.sk-toggleable__label {background-color: #d4ebff;}#sk-container-id-2 input.sk-hidden--visually {border: 0;clip: rect(1px 1px 1px 1px);clip: rect(1px, 1px, 1px, 1px);height: 1px;margin: -1px;overflow: hidden;padding: 0;position: absolute;width: 1px;}#sk-container-id-2 div.sk-estimator {font-family: monospace;background-color: #f0f8ff;border: 1px dotted black;border-radius: 0.25em;box-sizing: border-box;margin-bottom: 0.5em;}#sk-container-id-2 div.sk-estimator:hover {background-color: #d4ebff;}#sk-container-id-2 div.sk-parallel-item::after {content: \"\";width: 100%;border-bottom: 1px solid gray;flex-grow: 1;}#sk-container-id-2 div.sk-label:hover label.sk-toggleable__label {background-color: #d4ebff;}#sk-container-id-2 div.sk-serial::before {content: \"\";position: absolute;border-left: 1px solid gray;box-sizing: border-box;top: 0;bottom: 0;left: 50%;z-index: 0;}#sk-container-id-2 div.sk-serial {display: flex;flex-direction: column;align-items: center;background-color: white;padding-right: 0.2em;padding-left: 0.2em;position: relative;}#sk-container-id-2 div.sk-item {position: relative;z-index: 1;}#sk-container-id-2 div.sk-parallel {display: flex;align-items: stretch;justify-content: center;background-color: white;position: relative;}#sk-container-id-2 div.sk-item::before, #sk-container-id-2 div.sk-parallel-item::before {content: \"\";position: absolute;border-left: 1px solid gray;box-sizing: border-box;top: 0;bottom: 0;left: 50%;z-index: -1;}#sk-container-id-2 div.sk-parallel-item {display: flex;flex-direction: column;z-index: 1;position: relative;background-color: white;}#sk-container-id-2 div.sk-parallel-item:first-child::after {align-self: flex-end;width: 50%;}#sk-container-id-2 div.sk-parallel-item:last-child::after {align-self: flex-start;width: 50%;}#sk-container-id-2 div.sk-parallel-item:only-child::after {width: 0;}#sk-container-id-2 div.sk-dashed-wrapped {border: 1px dashed gray;margin: 0 0.4em 0.5em 0.4em;box-sizing: border-box;padding-bottom: 0.4em;background-color: white;}#sk-container-id-2 div.sk-label label {font-family: monospace;font-weight: bold;display: inline-block;line-height: 1.2em;}#sk-container-id-2 div.sk-label-container {text-align: center;}#sk-container-id-2 div.sk-container {/* jupyter's `normalize.less` sets `[hidden] { display: none; }` but bootstrap.min.css set `[hidden] { display: none !important; }` so we also need the `!important` here to be able to override the default hidden behavior on the sphinx rendered scikit-learn.org. See: https://github.com/scikit-learn/scikit-learn/issues/21755 */display: inline-block !important;position: relative;}#sk-container-id-2 div.sk-text-repr-fallback {display: none;}</style><div id=\"sk-container-id-2\" class=\"sk-top-container\"><div class=\"sk-text-repr-fallback\"><pre>LogisticRegression(class_weight=&#x27;balanced&#x27;, solver=&#x27;liblinear&#x27;)</pre><b>In a Jupyter environment, please rerun this cell to show the HTML representation or trust the notebook. <br />On GitHub, the HTML representation is unable to render, please try loading this page with nbviewer.org.</b></div><div class=\"sk-container\" hidden><div class=\"sk-item\"><div class=\"sk-estimator sk-toggleable\"><input class=\"sk-toggleable__control sk-hidden--visually\" id=\"sk-estimator-id-2\" type=\"checkbox\" checked><label for=\"sk-estimator-id-2\" class=\"sk-toggleable__label sk-toggleable__label-arrow\">LogisticRegression</label><div class=\"sk-toggleable__content\"><pre>LogisticRegression(class_weight=&#x27;balanced&#x27;, solver=&#x27;liblinear&#x27;)</pre></div></div></div></div></div>"
      ],
      "text/plain": [
       "LogisticRegression(class_weight='balanced', solver='liblinear')"
      ]
     },
     "execution_count": 28,
     "metadata": {},
     "output_type": "execute_result"
    }
   ],
   "source": [
    "model_BW = logit(solver='liblinear',class_weight='balanced')\n",
    "model_BW.fit(X_df_RTrain,y_df_RTrain)"
   ]
  },
  {
   "cell_type": "code",
   "execution_count": 29,
   "metadata": {},
   "outputs": [],
   "source": [
    "pred_BW = model_BW.predict_proba(X_df_RTest)"
   ]
  },
  {
   "attachments": {},
   "cell_type": "markdown",
   "metadata": {},
   "source": [
    "#### Using SMOTE to over sample positive cases"
   ]
  },
  {
   "attachments": {},
   "cell_type": "markdown",
   "metadata": {},
   "source": [
    "Another way to cope with highly imbalanced data is to use SMOTE to over-sample minority cases (for our example the positive case). On a high level, SMOTE works in the following way to generate new samples of the minority cases:\n",
    "1.  Randomly select a minority case $x$.\n",
    "2.  Among all the minority cases, find the $k$ minority cases $x_1,x_2,\\cdots,x_k$ that are the top-$k$ closest cases to $x$. Here $k$ is a hyper parameter (usually one set $k=5$).\n",
    "3.  Randomly select $x_i$ from the top-$k$ minority cases.\n",
    "4.  Draw a line segment from $x$ to $x_i$, and generate a new minority sample by randomly select a point on this line segment."
   ]
  },
  {
   "cell_type": "code",
   "execution_count": 30,
   "metadata": {},
   "outputs": [],
   "source": [
    "# Use imbalanced learn package\n",
    "from imblearn.over_sampling import SMOTE"
   ]
  },
  {
   "cell_type": "code",
   "execution_count": 31,
   "metadata": {},
   "outputs": [],
   "source": [
    "# Use SMOTE to resample minority class.\n",
    "smote_sampler = SMOTE(random_state=12,sampling_strategy='minority')\n",
    "X_df_SMOTE, y_df_SMOTE = smote_sampler.fit_resample(X_df_RTrain, y_df_RTrain)"
   ]
  },
  {
   "cell_type": "code",
   "execution_count": 32,
   "metadata": {},
   "outputs": [
    {
     "data": {
      "text/plain": [
       "0    5758\n",
       "1     297\n",
       "Name: target, dtype: int64"
      ]
     },
     "execution_count": 32,
     "metadata": {},
     "output_type": "execute_result"
    }
   ],
   "source": [
    "y_df_RTrain.value_counts()"
   ]
  },
  {
   "cell_type": "code",
   "execution_count": 33,
   "metadata": {},
   "outputs": [
    {
     "data": {
      "text/plain": [
       "0    5758\n",
       "1    5758\n",
       "Name: target, dtype: int64"
      ]
     },
     "execution_count": 33,
     "metadata": {},
     "output_type": "execute_result"
    }
   ],
   "source": [
    "y_df_SMOTE.value_counts()"
   ]
  },
  {
   "attachments": {},
   "cell_type": "markdown",
   "metadata": {},
   "source": [
    "After applying SMOTE we now have equal number of negative and positive cases in the training dataset.\n",
    "\n",
    "WARNING: you should only apply SMOTE or any other resampling techniques on the **training** dataset, and the testing dataset should be kept untouched."
   ]
  },
  {
   "cell_type": "code",
   "execution_count": 34,
   "metadata": {},
   "outputs": [
    {
     "data": {
      "text/html": [
       "<style>#sk-container-id-3 {color: black;background-color: white;}#sk-container-id-3 pre{padding: 0;}#sk-container-id-3 div.sk-toggleable {background-color: white;}#sk-container-id-3 label.sk-toggleable__label {cursor: pointer;display: block;width: 100%;margin-bottom: 0;padding: 0.3em;box-sizing: border-box;text-align: center;}#sk-container-id-3 label.sk-toggleable__label-arrow:before {content: \"▸\";float: left;margin-right: 0.25em;color: #696969;}#sk-container-id-3 label.sk-toggleable__label-arrow:hover:before {color: black;}#sk-container-id-3 div.sk-estimator:hover label.sk-toggleable__label-arrow:before {color: black;}#sk-container-id-3 div.sk-toggleable__content {max-height: 0;max-width: 0;overflow: hidden;text-align: left;background-color: #f0f8ff;}#sk-container-id-3 div.sk-toggleable__content pre {margin: 0.2em;color: black;border-radius: 0.25em;background-color: #f0f8ff;}#sk-container-id-3 input.sk-toggleable__control:checked~div.sk-toggleable__content {max-height: 200px;max-width: 100%;overflow: auto;}#sk-container-id-3 input.sk-toggleable__control:checked~label.sk-toggleable__label-arrow:before {content: \"▾\";}#sk-container-id-3 div.sk-estimator input.sk-toggleable__control:checked~label.sk-toggleable__label {background-color: #d4ebff;}#sk-container-id-3 div.sk-label input.sk-toggleable__control:checked~label.sk-toggleable__label {background-color: #d4ebff;}#sk-container-id-3 input.sk-hidden--visually {border: 0;clip: rect(1px 1px 1px 1px);clip: rect(1px, 1px, 1px, 1px);height: 1px;margin: -1px;overflow: hidden;padding: 0;position: absolute;width: 1px;}#sk-container-id-3 div.sk-estimator {font-family: monospace;background-color: #f0f8ff;border: 1px dotted black;border-radius: 0.25em;box-sizing: border-box;margin-bottom: 0.5em;}#sk-container-id-3 div.sk-estimator:hover {background-color: #d4ebff;}#sk-container-id-3 div.sk-parallel-item::after {content: \"\";width: 100%;border-bottom: 1px solid gray;flex-grow: 1;}#sk-container-id-3 div.sk-label:hover label.sk-toggleable__label {background-color: #d4ebff;}#sk-container-id-3 div.sk-serial::before {content: \"\";position: absolute;border-left: 1px solid gray;box-sizing: border-box;top: 0;bottom: 0;left: 50%;z-index: 0;}#sk-container-id-3 div.sk-serial {display: flex;flex-direction: column;align-items: center;background-color: white;padding-right: 0.2em;padding-left: 0.2em;position: relative;}#sk-container-id-3 div.sk-item {position: relative;z-index: 1;}#sk-container-id-3 div.sk-parallel {display: flex;align-items: stretch;justify-content: center;background-color: white;position: relative;}#sk-container-id-3 div.sk-item::before, #sk-container-id-3 div.sk-parallel-item::before {content: \"\";position: absolute;border-left: 1px solid gray;box-sizing: border-box;top: 0;bottom: 0;left: 50%;z-index: -1;}#sk-container-id-3 div.sk-parallel-item {display: flex;flex-direction: column;z-index: 1;position: relative;background-color: white;}#sk-container-id-3 div.sk-parallel-item:first-child::after {align-self: flex-end;width: 50%;}#sk-container-id-3 div.sk-parallel-item:last-child::after {align-self: flex-start;width: 50%;}#sk-container-id-3 div.sk-parallel-item:only-child::after {width: 0;}#sk-container-id-3 div.sk-dashed-wrapped {border: 1px dashed gray;margin: 0 0.4em 0.5em 0.4em;box-sizing: border-box;padding-bottom: 0.4em;background-color: white;}#sk-container-id-3 div.sk-label label {font-family: monospace;font-weight: bold;display: inline-block;line-height: 1.2em;}#sk-container-id-3 div.sk-label-container {text-align: center;}#sk-container-id-3 div.sk-container {/* jupyter's `normalize.less` sets `[hidden] { display: none; }` but bootstrap.min.css set `[hidden] { display: none !important; }` so we also need the `!important` here to be able to override the default hidden behavior on the sphinx rendered scikit-learn.org. See: https://github.com/scikit-learn/scikit-learn/issues/21755 */display: inline-block !important;position: relative;}#sk-container-id-3 div.sk-text-repr-fallback {display: none;}</style><div id=\"sk-container-id-3\" class=\"sk-top-container\"><div class=\"sk-text-repr-fallback\"><pre>LogisticRegression(solver=&#x27;liblinear&#x27;)</pre><b>In a Jupyter environment, please rerun this cell to show the HTML representation or trust the notebook. <br />On GitHub, the HTML representation is unable to render, please try loading this page with nbviewer.org.</b></div><div class=\"sk-container\" hidden><div class=\"sk-item\"><div class=\"sk-estimator sk-toggleable\"><input class=\"sk-toggleable__control sk-hidden--visually\" id=\"sk-estimator-id-3\" type=\"checkbox\" checked><label for=\"sk-estimator-id-3\" class=\"sk-toggleable__label sk-toggleable__label-arrow\">LogisticRegression</label><div class=\"sk-toggleable__content\"><pre>LogisticRegression(solver=&#x27;liblinear&#x27;)</pre></div></div></div></div></div>"
      ],
      "text/plain": [
       "LogisticRegression(solver='liblinear')"
      ]
     },
     "execution_count": 34,
     "metadata": {},
     "output_type": "execute_result"
    }
   ],
   "source": [
    "model_SMOTE = logit(solver='liblinear')\n",
    "model_SMOTE.fit(X_df_SMOTE,y_df_SMOTE)"
   ]
  },
  {
   "cell_type": "code",
   "execution_count": 35,
   "metadata": {},
   "outputs": [],
   "source": [
    "pred_SMOTE = model_SMOTE.predict_proba(X_df_RTest)"
   ]
  },
  {
   "cell_type": "code",
   "execution_count": 36,
   "metadata": {},
   "outputs": [
    {
     "data": {
      "text/html": [
       "<div>\n",
       "<style scoped>\n",
       "    .dataframe tbody tr th:only-of-type {\n",
       "        vertical-align: middle;\n",
       "    }\n",
       "\n",
       "    .dataframe tbody tr th {\n",
       "        vertical-align: top;\n",
       "    }\n",
       "\n",
       "    .dataframe thead th {\n",
       "        text-align: right;\n",
       "    }\n",
       "</style>\n",
       "<table border=\"1\" class=\"dataframe\">\n",
       "  <thead>\n",
       "    <tr style=\"text-align: right;\">\n",
       "      <th></th>\n",
       "      <th>pred</th>\n",
       "      <th>label</th>\n",
       "      <th>method</th>\n",
       "      <th>binary pred</th>\n",
       "    </tr>\n",
       "  </thead>\n",
       "  <tbody>\n",
       "    <tr>\n",
       "      <th>353</th>\n",
       "      <td>0.034024</td>\n",
       "      <td>0</td>\n",
       "      <td>vanilla</td>\n",
       "      <td>0</td>\n",
       "    </tr>\n",
       "    <tr>\n",
       "      <th>501</th>\n",
       "      <td>0.046796</td>\n",
       "      <td>0</td>\n",
       "      <td>vanilla</td>\n",
       "      <td>0</td>\n",
       "    </tr>\n",
       "    <tr>\n",
       "      <th>492</th>\n",
       "      <td>0.006674</td>\n",
       "      <td>0</td>\n",
       "      <td>vanilla</td>\n",
       "      <td>0</td>\n",
       "    </tr>\n",
       "    <tr>\n",
       "      <th>533</th>\n",
       "      <td>0.003480</td>\n",
       "      <td>0</td>\n",
       "      <td>vanilla</td>\n",
       "      <td>0</td>\n",
       "    </tr>\n",
       "    <tr>\n",
       "      <th>260</th>\n",
       "      <td>0.004869</td>\n",
       "      <td>0</td>\n",
       "      <td>vanilla</td>\n",
       "      <td>0</td>\n",
       "    </tr>\n",
       "    <tr>\n",
       "      <th>...</th>\n",
       "      <td>...</td>\n",
       "      <td>...</td>\n",
       "      <td>...</td>\n",
       "      <td>...</td>\n",
       "    </tr>\n",
       "    <tr>\n",
       "      <th>498</th>\n",
       "      <td>0.071034</td>\n",
       "      <td>0</td>\n",
       "      <td>SMOTE</td>\n",
       "      <td>0</td>\n",
       "    </tr>\n",
       "    <tr>\n",
       "      <th>501</th>\n",
       "      <td>0.597778</td>\n",
       "      <td>0</td>\n",
       "      <td>SMOTE</td>\n",
       "      <td>1</td>\n",
       "    </tr>\n",
       "    <tr>\n",
       "      <th>262</th>\n",
       "      <td>0.596512</td>\n",
       "      <td>0</td>\n",
       "      <td>SMOTE</td>\n",
       "      <td>1</td>\n",
       "    </tr>\n",
       "    <tr>\n",
       "      <th>502</th>\n",
       "      <td>0.484966</td>\n",
       "      <td>1</td>\n",
       "      <td>SMOTE</td>\n",
       "      <td>0</td>\n",
       "    </tr>\n",
       "    <tr>\n",
       "      <th>489</th>\n",
       "      <td>0.711528</td>\n",
       "      <td>0</td>\n",
       "      <td>SMOTE</td>\n",
       "      <td>1</td>\n",
       "    </tr>\n",
       "  </tbody>\n",
       "</table>\n",
       "<p>11835 rows × 4 columns</p>\n",
       "</div>"
      ],
      "text/plain": [
       "         pred  label   method  binary pred\n",
       "353  0.034024      0  vanilla            0\n",
       "501  0.046796      0  vanilla            0\n",
       "492  0.006674      0  vanilla            0\n",
       "533  0.003480      0  vanilla            0\n",
       "260  0.004869      0  vanilla            0\n",
       "..        ...    ...      ...          ...\n",
       "498  0.071034      0    SMOTE            0\n",
       "501  0.597778      0    SMOTE            1\n",
       "262  0.596512      0    SMOTE            1\n",
       "502  0.484966      1    SMOTE            0\n",
       "489  0.711528      0    SMOTE            1\n",
       "\n",
       "[11835 rows x 4 columns]"
      ]
     },
     "execution_count": 36,
     "metadata": {},
     "output_type": "execute_result"
    }
   ],
   "source": [
    "# Gather test results for imbalanced dataset\n",
    "\n",
    "IM_results_df = pd.DataFrame(\n",
    "    {\n",
    "        'pred':np.vstack([pred,pred_BW,pred_SMOTE])[:,1],\n",
    "        'label':pd.concat([y_df_RTest]*3),\n",
    "        'method':['vanilla']*pred.shape[0]+['balanced weight']*pred_BW.shape[0]+['SMOTE']*pred_SMOTE.shape[0]\n",
    "    }\n",
    ")\n",
    "\n",
    "threshold = 0.5\n",
    "\n",
    "IM_results_df['binary pred'] = (IM_results_df['pred']>threshold).astype('int')\n",
    "IM_results_df"
   ]
  },
  {
   "cell_type": "code",
   "execution_count": 37,
   "metadata": {},
   "outputs": [
    {
     "data": {
      "text/html": [
       "<div>\n",
       "<style scoped>\n",
       "    .dataframe tbody tr th:only-of-type {\n",
       "        vertical-align: middle;\n",
       "    }\n",
       "\n",
       "    .dataframe tbody tr th {\n",
       "        vertical-align: top;\n",
       "    }\n",
       "\n",
       "    .dataframe thead th {\n",
       "        text-align: right;\n",
       "    }\n",
       "</style>\n",
       "<table border=\"1\" class=\"dataframe\">\n",
       "  <thead>\n",
       "    <tr style=\"text-align: right;\">\n",
       "      <th></th>\n",
       "      <th>binary pred</th>\n",
       "      <th>0</th>\n",
       "      <th>1</th>\n",
       "    </tr>\n",
       "    <tr>\n",
       "      <th>label</th>\n",
       "      <th>method</th>\n",
       "      <th></th>\n",
       "      <th></th>\n",
       "    </tr>\n",
       "  </thead>\n",
       "  <tbody>\n",
       "    <tr>\n",
       "      <th rowspan=\"3\" valign=\"top\">0</th>\n",
       "      <th>SMOTE</th>\n",
       "      <td>2882</td>\n",
       "      <td>536</td>\n",
       "    </tr>\n",
       "    <tr>\n",
       "      <th>balanced weight</th>\n",
       "      <td>2848</td>\n",
       "      <td>570</td>\n",
       "    </tr>\n",
       "    <tr>\n",
       "      <th>vanilla</th>\n",
       "      <td>3404</td>\n",
       "      <td>14</td>\n",
       "    </tr>\n",
       "    <tr>\n",
       "      <th rowspan=\"3\" valign=\"top\">1</th>\n",
       "      <th>SMOTE</th>\n",
       "      <td>115</td>\n",
       "      <td>412</td>\n",
       "    </tr>\n",
       "    <tr>\n",
       "      <th>balanced weight</th>\n",
       "      <td>107</td>\n",
       "      <td>420</td>\n",
       "    </tr>\n",
       "    <tr>\n",
       "      <th>vanilla</th>\n",
       "      <td>466</td>\n",
       "      <td>61</td>\n",
       "    </tr>\n",
       "  </tbody>\n",
       "</table>\n",
       "</div>"
      ],
      "text/plain": [
       "binary pred               0    1\n",
       "label method                    \n",
       "0     SMOTE            2882  536\n",
       "      balanced weight  2848  570\n",
       "      vanilla          3404   14\n",
       "1     SMOTE             115  412\n",
       "      balanced weight   107  420\n",
       "      vanilla           466   61"
      ]
     },
     "execution_count": 37,
     "metadata": {},
     "output_type": "execute_result"
    }
   ],
   "source": [
    "IM_results_df.groupby(['label','method'])['binary pred'].value_counts().unstack()"
   ]
  },
  {
   "attachments": {},
   "cell_type": "markdown",
   "metadata": {},
   "source": [
    "From the above table we see that vanilla logistic regression performed very badly, as it predicted almost all cases with positive label as negative cases.\n",
    "\n",
    "For such highly unbalanced data, it is very important to choose a proper metric to measure model performance. When the minority case is the positive case (i.e. label with 1), you can use F1 score. Please try by yourself what happens if you use average precision, accuracy, or AUROC as metric.\n",
    "\n",
    "(The F1 score is a score with values in $[0,1]$, and it measures the harmonic mean of precision and recall at the given threshold. The higher the value, the better the model performance.)"
   ]
  },
  {
   "cell_type": "code",
   "execution_count": 38,
   "metadata": {},
   "outputs": [
    {
     "name": "stdout",
     "output_type": "stream",
     "text": [
      "F1 score is 0.2027 for method vanilla \n",
      "F1 score is 0.5537 for method balanced weight \n",
      "F1 score is 0.5586 for method SMOTE \n"
     ]
    }
   ],
   "source": [
    "from sklearn.metrics import f1_score\n",
    "\n",
    "\n",
    "\n",
    "for method in ['vanilla','balanced weight','SMOTE']:\n",
    "    score = f1_score(IM_results_df.query('method==@method')['label'],IM_results_df.query('method==@method')['binary pred'])\n",
    "    print('F1 score is {:.4f} for method {} '.format(score,method))\n"
   ]
  }
 ],
 "metadata": {
  "kernelspec": {
   "display_name": "env3.10",
   "language": "python",
   "name": "python3"
  },
  "language_info": {
   "codemirror_mode": {
    "name": "ipython",
    "version": 3
   },
   "file_extension": ".py",
   "mimetype": "text/x-python",
   "name": "python",
   "nbconvert_exporter": "python",
   "pygments_lexer": "ipython3",
   "version": "3.10.9"
  },
  "orig_nbformat": 4,
  "vscode": {
   "interpreter": {
    "hash": "5ec3c21330053bd888ae0423f793f928621505090c66dc4d3b71e8bb37792d66"
   }
  }
 },
 "nbformat": 4,
 "nbformat_minor": 2
}
