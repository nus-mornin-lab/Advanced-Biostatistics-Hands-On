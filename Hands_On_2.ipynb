{
 "cells": [
  {
   "attachments": {},
   "cell_type": "markdown",
   "metadata": {},
   "source": [
    "# SPH6004 Hands-On 2\n",
    "## Logistic Regression with Regularization, Feature Select\n",
    "\n",
    "Contents:\n",
    "  * Logistic regression with regularization\n",
    "    * Adam optimizer\n",
    "    * AUROC and AP metrics\n",
    "    * Comparison of $L1$ and $L2$ regularization effects\n",
    "  * Feature Select methods\n",
    "    * Forward and backward feature selection using `sklearn`\n",
    "    * Visualize model performance using ROC curve and precision-recall curve\n"
   ]
  },
  {
   "cell_type": "code",
   "execution_count": 154,
   "metadata": {},
   "outputs": [],
   "source": [
    "# We will be using the following packages\n",
    "\n",
    "# PyTorch package and submodules\n",
    "import torch\n",
    "import torch.nn as nn\n",
    "from torch.optim import SGD #gradient descent optimizer\n",
    "\n",
    "# NumPy for math operations, and Pandas for processing tabular data.\n",
    "import numpy as np\n",
    "import pandas as pd\n",
    "\n",
    "# Plotly plotting package\n",
    "import plotly.graph_objects as go\n",
    "import plotly.express as px\n",
    "\n",
    "# We use toy datasets in scikit-learn package\n",
    "from sklearn.datasets import load_breast_cancer\n",
    "\n",
    "# We use AUROC and average precision (AP) scores from sklearn\n",
    "from sklearn.metrics import roc_auc_score, average_precision_score"
   ]
  },
  {
   "attachments": {},
   "cell_type": "markdown",
   "metadata": {},
   "source": [
    "We use the breast cancer dataset from `sklearn` for demonstration. Recall that the independent variables have $30$ dimension, and many of the dimensions are correlated."
   ]
  },
  {
   "cell_type": "code",
   "execution_count": 155,
   "metadata": {},
   "outputs": [
    {
     "data": {
      "text/html": [
       "<div>\n",
       "<style scoped>\n",
       "    .dataframe tbody tr th:only-of-type {\n",
       "        vertical-align: middle;\n",
       "    }\n",
       "\n",
       "    .dataframe tbody tr th {\n",
       "        vertical-align: top;\n",
       "    }\n",
       "\n",
       "    .dataframe thead th {\n",
       "        text-align: right;\n",
       "    }\n",
       "</style>\n",
       "<table border=\"1\" class=\"dataframe\">\n",
       "  <thead>\n",
       "    <tr style=\"text-align: right;\">\n",
       "      <th></th>\n",
       "      <th>count</th>\n",
       "      <th>mean</th>\n",
       "      <th>std</th>\n",
       "      <th>min</th>\n",
       "      <th>25%</th>\n",
       "      <th>50%</th>\n",
       "      <th>75%</th>\n",
       "      <th>max</th>\n",
       "    </tr>\n",
       "  </thead>\n",
       "  <tbody>\n",
       "    <tr>\n",
       "      <th>mean radius</th>\n",
       "      <td>569.0</td>\n",
       "      <td>-1.311195e-16</td>\n",
       "      <td>1.0</td>\n",
       "      <td>-2.027864</td>\n",
       "      <td>-0.688779</td>\n",
       "      <td>-0.214893</td>\n",
       "      <td>0.468980</td>\n",
       "      <td>3.967796</td>\n",
       "    </tr>\n",
       "    <tr>\n",
       "      <th>mean texture</th>\n",
       "      <td>569.0</td>\n",
       "      <td>6.243785e-17</td>\n",
       "      <td>1.0</td>\n",
       "      <td>-2.227289</td>\n",
       "      <td>-0.725325</td>\n",
       "      <td>-0.104544</td>\n",
       "      <td>0.583662</td>\n",
       "      <td>4.647799</td>\n",
       "    </tr>\n",
       "    <tr>\n",
       "      <th>mean perimeter</th>\n",
       "      <td>569.0</td>\n",
       "      <td>-1.248757e-16</td>\n",
       "      <td>1.0</td>\n",
       "      <td>-1.982759</td>\n",
       "      <td>-0.691347</td>\n",
       "      <td>-0.235773</td>\n",
       "      <td>0.499238</td>\n",
       "      <td>3.972634</td>\n",
       "    </tr>\n",
       "    <tr>\n",
       "      <th>mean area</th>\n",
       "      <td>569.0</td>\n",
       "      <td>-2.185325e-16</td>\n",
       "      <td>1.0</td>\n",
       "      <td>-1.453164</td>\n",
       "      <td>-0.666609</td>\n",
       "      <td>-0.294927</td>\n",
       "      <td>0.363188</td>\n",
       "      <td>5.245913</td>\n",
       "    </tr>\n",
       "    <tr>\n",
       "      <th>mean smoothness</th>\n",
       "      <td>569.0</td>\n",
       "      <td>-8.366672e-16</td>\n",
       "      <td>1.0</td>\n",
       "      <td>-3.109349</td>\n",
       "      <td>-0.710338</td>\n",
       "      <td>-0.034860</td>\n",
       "      <td>0.635640</td>\n",
       "      <td>4.766717</td>\n",
       "    </tr>\n",
       "    <tr>\n",
       "      <th>mean compactness</th>\n",
       "      <td>569.0</td>\n",
       "      <td>1.998011e-16</td>\n",
       "      <td>1.0</td>\n",
       "      <td>-1.608721</td>\n",
       "      <td>-0.746429</td>\n",
       "      <td>-0.221745</td>\n",
       "      <td>0.493423</td>\n",
       "      <td>4.564409</td>\n",
       "    </tr>\n",
       "    <tr>\n",
       "      <th>mean concavity</th>\n",
       "      <td>569.0</td>\n",
       "      <td>3.746271e-17</td>\n",
       "      <td>1.0</td>\n",
       "      <td>-1.113893</td>\n",
       "      <td>-0.743094</td>\n",
       "      <td>-0.341939</td>\n",
       "      <td>0.525599</td>\n",
       "      <td>4.239858</td>\n",
       "    </tr>\n",
       "    <tr>\n",
       "      <th>mean concave points</th>\n",
       "      <td>569.0</td>\n",
       "      <td>-4.995028e-17</td>\n",
       "      <td>1.0</td>\n",
       "      <td>-1.260710</td>\n",
       "      <td>-0.737295</td>\n",
       "      <td>-0.397372</td>\n",
       "      <td>0.646366</td>\n",
       "      <td>3.924477</td>\n",
       "    </tr>\n",
       "    <tr>\n",
       "      <th>mean symmetry</th>\n",
       "      <td>569.0</td>\n",
       "      <td>1.748260e-16</td>\n",
       "      <td>1.0</td>\n",
       "      <td>-2.741705</td>\n",
       "      <td>-0.702621</td>\n",
       "      <td>-0.071564</td>\n",
       "      <td>0.530313</td>\n",
       "      <td>4.480808</td>\n",
       "    </tr>\n",
       "    <tr>\n",
       "      <th>mean fractal dimension</th>\n",
       "      <td>569.0</td>\n",
       "      <td>4.838933e-16</td>\n",
       "      <td>1.0</td>\n",
       "      <td>-1.818265</td>\n",
       "      <td>-0.722004</td>\n",
       "      <td>-0.178123</td>\n",
       "      <td>0.470569</td>\n",
       "      <td>4.906602</td>\n",
       "    </tr>\n",
       "    <tr>\n",
       "      <th>radius error</th>\n",
       "      <td>569.0</td>\n",
       "      <td>2.497514e-16</td>\n",
       "      <td>1.0</td>\n",
       "      <td>-1.058992</td>\n",
       "      <td>-0.623022</td>\n",
       "      <td>-0.291988</td>\n",
       "      <td>0.265866</td>\n",
       "      <td>8.899079</td>\n",
       "    </tr>\n",
       "    <tr>\n",
       "      <th>texture error</th>\n",
       "      <td>569.0</td>\n",
       "      <td>-1.123881e-16</td>\n",
       "      <td>1.0</td>\n",
       "      <td>-1.552898</td>\n",
       "      <td>-0.694198</td>\n",
       "      <td>-0.197324</td>\n",
       "      <td>0.466142</td>\n",
       "      <td>6.649429</td>\n",
       "    </tr>\n",
       "    <tr>\n",
       "      <th>perimeter error</th>\n",
       "      <td>569.0</td>\n",
       "      <td>-1.373633e-16</td>\n",
       "      <td>1.0</td>\n",
       "      <td>-1.043131</td>\n",
       "      <td>-0.623220</td>\n",
       "      <td>-0.286400</td>\n",
       "      <td>0.242817</td>\n",
       "      <td>9.453668</td>\n",
       "    </tr>\n",
       "    <tr>\n",
       "      <th>area error</th>\n",
       "      <td>569.0</td>\n",
       "      <td>-1.186319e-16</td>\n",
       "      <td>1.0</td>\n",
       "      <td>-0.737180</td>\n",
       "      <td>-0.494319</td>\n",
       "      <td>-0.347477</td>\n",
       "      <td>0.106679</td>\n",
       "      <td>11.032135</td>\n",
       "    </tr>\n",
       "    <tr>\n",
       "      <th>smoothness error</th>\n",
       "      <td>569.0</td>\n",
       "      <td>-1.545337e-16</td>\n",
       "      <td>1.0</td>\n",
       "      <td>-1.774504</td>\n",
       "      <td>-0.623470</td>\n",
       "      <td>-0.220142</td>\n",
       "      <td>0.368031</td>\n",
       "      <td>8.022940</td>\n",
       "    </tr>\n",
       "    <tr>\n",
       "      <th>compactness error</th>\n",
       "      <td>569.0</td>\n",
       "      <td>1.873136e-16</td>\n",
       "      <td>1.0</td>\n",
       "      <td>-1.296957</td>\n",
       "      <td>-0.692317</td>\n",
       "      <td>-0.280773</td>\n",
       "      <td>0.389312</td>\n",
       "      <td>6.138081</td>\n",
       "    </tr>\n",
       "    <tr>\n",
       "      <th>concavity error</th>\n",
       "      <td>569.0</td>\n",
       "      <td>1.685822e-16</td>\n",
       "      <td>1.0</td>\n",
       "      <td>-1.056571</td>\n",
       "      <td>-0.556671</td>\n",
       "      <td>-0.198890</td>\n",
       "      <td>0.336456</td>\n",
       "      <td>12.062067</td>\n",
       "    </tr>\n",
       "    <tr>\n",
       "      <th>concave points error</th>\n",
       "      <td>569.0</td>\n",
       "      <td>2.497514e-17</td>\n",
       "      <td>1.0</td>\n",
       "      <td>-1.911765</td>\n",
       "      <td>-0.673897</td>\n",
       "      <td>-0.140372</td>\n",
       "      <td>0.472241</td>\n",
       "      <td>6.643755</td>\n",
       "    </tr>\n",
       "    <tr>\n",
       "      <th>symmetry error</th>\n",
       "      <td>569.0</td>\n",
       "      <td>9.365678e-17</td>\n",
       "      <td>1.0</td>\n",
       "      <td>-1.531542</td>\n",
       "      <td>-0.651108</td>\n",
       "      <td>-0.219238</td>\n",
       "      <td>0.355380</td>\n",
       "      <td>7.065700</td>\n",
       "    </tr>\n",
       "    <tr>\n",
       "      <th>fractal dimension error</th>\n",
       "      <td>569.0</td>\n",
       "      <td>-6.243785e-18</td>\n",
       "      <td>1.0</td>\n",
       "      <td>-1.096004</td>\n",
       "      <td>-0.584604</td>\n",
       "      <td>-0.229738</td>\n",
       "      <td>0.288388</td>\n",
       "      <td>9.842932</td>\n",
       "    </tr>\n",
       "    <tr>\n",
       "      <th>worst radius</th>\n",
       "      <td>569.0</td>\n",
       "      <td>-8.241796e-16</td>\n",
       "      <td>1.0</td>\n",
       "      <td>-1.725382</td>\n",
       "      <td>-0.674328</td>\n",
       "      <td>-0.268803</td>\n",
       "      <td>0.521557</td>\n",
       "      <td>4.090590</td>\n",
       "    </tr>\n",
       "    <tr>\n",
       "      <th>worst texture</th>\n",
       "      <td>569.0</td>\n",
       "      <td>1.248757e-17</td>\n",
       "      <td>1.0</td>\n",
       "      <td>-2.222039</td>\n",
       "      <td>-0.747971</td>\n",
       "      <td>-0.043477</td>\n",
       "      <td>0.657762</td>\n",
       "      <td>3.882489</td>\n",
       "    </tr>\n",
       "    <tr>\n",
       "      <th>worst perimeter</th>\n",
       "      <td>569.0</td>\n",
       "      <td>-3.496520e-16</td>\n",
       "      <td>1.0</td>\n",
       "      <td>-1.691872</td>\n",
       "      <td>-0.688972</td>\n",
       "      <td>-0.285729</td>\n",
       "      <td>0.539804</td>\n",
       "      <td>4.283568</td>\n",
       "    </tr>\n",
       "    <tr>\n",
       "      <th>worst area</th>\n",
       "      <td>569.0</td>\n",
       "      <td>0.000000e+00</td>\n",
       "      <td>1.0</td>\n",
       "      <td>-1.221348</td>\n",
       "      <td>-0.641571</td>\n",
       "      <td>-0.340881</td>\n",
       "      <td>0.357275</td>\n",
       "      <td>5.924959</td>\n",
       "    </tr>\n",
       "    <tr>\n",
       "      <th>worst smoothness</th>\n",
       "      <td>569.0</td>\n",
       "      <td>-2.122887e-16</td>\n",
       "      <td>1.0</td>\n",
       "      <td>-2.680337</td>\n",
       "      <td>-0.690623</td>\n",
       "      <td>-0.046802</td>\n",
       "      <td>0.597020</td>\n",
       "      <td>3.951897</td>\n",
       "    </tr>\n",
       "    <tr>\n",
       "      <th>worst compactness</th>\n",
       "      <td>569.0</td>\n",
       "      <td>-3.621395e-16</td>\n",
       "      <td>1.0</td>\n",
       "      <td>-1.442609</td>\n",
       "      <td>-0.680485</td>\n",
       "      <td>-0.269264</td>\n",
       "      <td>0.539194</td>\n",
       "      <td>5.108382</td>\n",
       "    </tr>\n",
       "    <tr>\n",
       "      <th>worst concavity</th>\n",
       "      <td>569.0</td>\n",
       "      <td>8.741299e-17</td>\n",
       "      <td>1.0</td>\n",
       "      <td>-1.304683</td>\n",
       "      <td>-0.755849</td>\n",
       "      <td>-0.218040</td>\n",
       "      <td>0.530674</td>\n",
       "      <td>4.696536</td>\n",
       "    </tr>\n",
       "    <tr>\n",
       "      <th>worst concave points</th>\n",
       "      <td>569.0</td>\n",
       "      <td>2.122887e-16</td>\n",
       "      <td>1.0</td>\n",
       "      <td>-1.743529</td>\n",
       "      <td>-0.755735</td>\n",
       "      <td>-0.223272</td>\n",
       "      <td>0.711884</td>\n",
       "      <td>2.683516</td>\n",
       "    </tr>\n",
       "    <tr>\n",
       "      <th>worst symmetry</th>\n",
       "      <td>569.0</td>\n",
       "      <td>2.622390e-16</td>\n",
       "      <td>1.0</td>\n",
       "      <td>-2.159060</td>\n",
       "      <td>-0.641299</td>\n",
       "      <td>-0.127297</td>\n",
       "      <td>0.449742</td>\n",
       "      <td>6.040726</td>\n",
       "    </tr>\n",
       "    <tr>\n",
       "      <th>worst fractal dimension</th>\n",
       "      <td>569.0</td>\n",
       "      <td>-5.744282e-16</td>\n",
       "      <td>1.0</td>\n",
       "      <td>-1.600431</td>\n",
       "      <td>-0.691303</td>\n",
       "      <td>-0.216254</td>\n",
       "      <td>0.450366</td>\n",
       "      <td>6.840837</td>\n",
       "    </tr>\n",
       "  </tbody>\n",
       "</table>\n",
       "</div>"
      ],
      "text/plain": [
       "                         count          mean  std       min       25%  \\\n",
       "mean radius              569.0 -1.311195e-16  1.0 -2.027864 -0.688779   \n",
       "mean texture             569.0  6.243785e-17  1.0 -2.227289 -0.725325   \n",
       "mean perimeter           569.0 -1.248757e-16  1.0 -1.982759 -0.691347   \n",
       "mean area                569.0 -2.185325e-16  1.0 -1.453164 -0.666609   \n",
       "mean smoothness          569.0 -8.366672e-16  1.0 -3.109349 -0.710338   \n",
       "mean compactness         569.0  1.998011e-16  1.0 -1.608721 -0.746429   \n",
       "mean concavity           569.0  3.746271e-17  1.0 -1.113893 -0.743094   \n",
       "mean concave points      569.0 -4.995028e-17  1.0 -1.260710 -0.737295   \n",
       "mean symmetry            569.0  1.748260e-16  1.0 -2.741705 -0.702621   \n",
       "mean fractal dimension   569.0  4.838933e-16  1.0 -1.818265 -0.722004   \n",
       "radius error             569.0  2.497514e-16  1.0 -1.058992 -0.623022   \n",
       "texture error            569.0 -1.123881e-16  1.0 -1.552898 -0.694198   \n",
       "perimeter error          569.0 -1.373633e-16  1.0 -1.043131 -0.623220   \n",
       "area error               569.0 -1.186319e-16  1.0 -0.737180 -0.494319   \n",
       "smoothness error         569.0 -1.545337e-16  1.0 -1.774504 -0.623470   \n",
       "compactness error        569.0  1.873136e-16  1.0 -1.296957 -0.692317   \n",
       "concavity error          569.0  1.685822e-16  1.0 -1.056571 -0.556671   \n",
       "concave points error     569.0  2.497514e-17  1.0 -1.911765 -0.673897   \n",
       "symmetry error           569.0  9.365678e-17  1.0 -1.531542 -0.651108   \n",
       "fractal dimension error  569.0 -6.243785e-18  1.0 -1.096004 -0.584604   \n",
       "worst radius             569.0 -8.241796e-16  1.0 -1.725382 -0.674328   \n",
       "worst texture            569.0  1.248757e-17  1.0 -2.222039 -0.747971   \n",
       "worst perimeter          569.0 -3.496520e-16  1.0 -1.691872 -0.688972   \n",
       "worst area               569.0  0.000000e+00  1.0 -1.221348 -0.641571   \n",
       "worst smoothness         569.0 -2.122887e-16  1.0 -2.680337 -0.690623   \n",
       "worst compactness        569.0 -3.621395e-16  1.0 -1.442609 -0.680485   \n",
       "worst concavity          569.0  8.741299e-17  1.0 -1.304683 -0.755849   \n",
       "worst concave points     569.0  2.122887e-16  1.0 -1.743529 -0.755735   \n",
       "worst symmetry           569.0  2.622390e-16  1.0 -2.159060 -0.641299   \n",
       "worst fractal dimension  569.0 -5.744282e-16  1.0 -1.600431 -0.691303   \n",
       "\n",
       "                              50%       75%        max  \n",
       "mean radius             -0.214893  0.468980   3.967796  \n",
       "mean texture            -0.104544  0.583662   4.647799  \n",
       "mean perimeter          -0.235773  0.499238   3.972634  \n",
       "mean area               -0.294927  0.363188   5.245913  \n",
       "mean smoothness         -0.034860  0.635640   4.766717  \n",
       "mean compactness        -0.221745  0.493423   4.564409  \n",
       "mean concavity          -0.341939  0.525599   4.239858  \n",
       "mean concave points     -0.397372  0.646366   3.924477  \n",
       "mean symmetry           -0.071564  0.530313   4.480808  \n",
       "mean fractal dimension  -0.178123  0.470569   4.906602  \n",
       "radius error            -0.291988  0.265866   8.899079  \n",
       "texture error           -0.197324  0.466142   6.649429  \n",
       "perimeter error         -0.286400  0.242817   9.453668  \n",
       "area error              -0.347477  0.106679  11.032135  \n",
       "smoothness error        -0.220142  0.368031   8.022940  \n",
       "compactness error       -0.280773  0.389312   6.138081  \n",
       "concavity error         -0.198890  0.336456  12.062067  \n",
       "concave points error    -0.140372  0.472241   6.643755  \n",
       "symmetry error          -0.219238  0.355380   7.065700  \n",
       "fractal dimension error -0.229738  0.288388   9.842932  \n",
       "worst radius            -0.268803  0.521557   4.090590  \n",
       "worst texture           -0.043477  0.657762   3.882489  \n",
       "worst perimeter         -0.285729  0.539804   4.283568  \n",
       "worst area              -0.340881  0.357275   5.924959  \n",
       "worst smoothness        -0.046802  0.597020   3.951897  \n",
       "worst compactness       -0.269264  0.539194   5.108382  \n",
       "worst concavity         -0.218040  0.530674   4.696536  \n",
       "worst concave points    -0.223272  0.711884   2.683516  \n",
       "worst symmetry          -0.127297  0.449742   6.040726  \n",
       "worst fractal dimension -0.216254  0.450366   6.840837  "
      ]
     },
     "execution_count": 155,
     "metadata": {},
     "output_type": "execute_result"
    }
   ],
   "source": [
    "X_raw, y_df = load_breast_cancer(return_X_y=True, as_frame=True)\n",
    "X_df = (X_raw-X_raw.mean())/X_raw.std()\n",
    "X_df.describe().transpose()"
   ]
  },
  {
   "cell_type": "code",
   "execution_count": 156,
   "metadata": {},
   "outputs": [],
   "source": [
    "# We convert dataframe to PyTorch tensor datatype,\n",
    "# and then split it into training and testing parts.\n",
    "X = torch.tensor(X_df.to_numpy(),dtype=torch.float32)\n",
    "m,n = X.shape\n",
    "y = torch.tensor(y_df.to_numpy(),dtype=torch.float32).reshape(m,1)\n",
    "\n",
    "# We use an approx 6:4 train test splitting\n",
    "cases = ['train','test']\n",
    "case_list = np.random.choice(cases,size=X.shape[0],replace=True,p=[0.6,0.4])\n",
    "X_train = X[case_list=='train']\n",
    "X_test = X[case_list=='test']\n",
    "y_train = y[case_list=='train']\n",
    "y_test = y[case_list=='test']"
   ]
  },
  {
   "attachments": {},
   "cell_type": "markdown",
   "metadata": {},
   "source": [
    "We first fit an ordinary logistic regression model as a baseline. We will use AUROC and average precision (AP) scores to test model performance."
   ]
  },
  {
   "cell_type": "code",
   "execution_count": 157,
   "metadata": {},
   "outputs": [
    {
     "name": "stdout",
     "output_type": "stream",
     "text": [
      "Iter 1: average BCE loss is 0.922\n",
      "Iter 500: average BCE loss is 0.054\n",
      "Iter 1000: average BCE loss is 0.042\n",
      "Iter 1500: average BCE loss is 0.034\n",
      "Iter 2000: average BCE loss is 0.028\n",
      "Iter 2500: average BCE loss is 0.023\n",
      "Iter 3000: average BCE loss is 0.020\n",
      "Iter 3500: average BCE loss is 0.017\n",
      "Iter 4000: average BCE loss is 0.014\n",
      "Iter 4500: average BCE loss is 0.012\n",
      "Iter 5000: average BCE loss is 0.010\n",
      "On test dataset: AUROC 0.981, AP 0.979\n"
     ]
    }
   ],
   "source": [
    "h = torch.nn.Linear(\n",
    "    in_features=n,\n",
    "    out_features=1,\n",
    "    bias=True\n",
    ")\n",
    "sigma = torch.nn.Sigmoid()\n",
    "\n",
    "# Logistic model is linear+sigmoid\n",
    "f = torch.nn.Sequential(\n",
    "    h,\n",
    "    sigma\n",
    ")\n",
    "\n",
    "J_BCE = torch.nn.BCELoss()\n",
    "# We use the Adam optimizer, which is\n",
    "# a variant of gradient descent method with momentum.\n",
    "GD_optimizer = torch.optim.Adam(lr=0.01,params=f.parameters())\n",
    "\n",
    "nIter = 5000\n",
    "printInterval = 500\n",
    "\n",
    "for i in range(nIter):\n",
    "    GD_optimizer.zero_grad()\n",
    "    pred = f(X_train)\n",
    "    loss = J_BCE(pred,y_train)\n",
    "    loss.backward()\n",
    "    GD_optimizer.step()\n",
    "    if i == 0 or ((i+1)%printInterval) == 0:\n",
    "        print('Iter {}: average BCE loss is {:.3f}'.format(i+1,loss.item()))\n",
    "\n",
    "with torch.no_grad():\n",
    "    pred_test = f(X_test)\n",
    "\n",
    "auroc = roc_auc_score(y_test,pred_test)\n",
    "ap = average_precision_score(y_test,pred_test)\n",
    "print('On test dataset: AUROC {:.3f}, AP {:.3f}'.format(auroc,ap))"
   ]
  },
  {
   "cell_type": "code",
   "execution_count": 158,
   "metadata": {},
   "outputs": [],
   "source": [
    "# Let use save the model parameters for later comparisons.\n",
    "# Recall that PyTorch do automatic differentiation, so\n",
    "# model parameters (i.e. h.weight) has gradients information. This\n",
    "# may cause problem for later analysis when gradient is not needed.\n",
    "# Use .detach() to detach gradient information from the weights.\n",
    "\n",
    "weight = h.weight.detach().squeeze().clone()"
   ]
  },
  {
   "attachments": {},
   "cell_type": "markdown",
   "metadata": {},
   "source": [
    "### Logistic Regression with $L_2$ regularization"
   ]
  },
  {
   "attachments": {},
   "cell_type": "markdown",
   "metadata": {},
   "source": [
    "Logistic regression with $L_2$ regularization is also called *ridge logistic regression*. Recall that we add $L_2$ regularization to model parameters:\n",
    "\n",
    "$$\n",
    "J_{L_2}(\\theta) =  J(\\theta) + \\lambda/2 ||\\theta||_2^2,\n",
    "$$\n",
    "\n",
    "where large parameter values are penalized by the $L_2$ norm term\n",
    "\n",
    "$$\n",
    "||\\theta||_2^2 = \\sum_j \\theta_j^2.\n",
    "$$\n",
    "\n",
    "In PyTorch the $L_2$ regularization of model parameters are supported in its build-in optimizers."
   ]
  },
  {
   "cell_type": "code",
   "execution_count": 159,
   "metadata": {},
   "outputs": [
    {
     "name": "stdout",
     "output_type": "stream",
     "text": [
      "Iter 1: average BCE loss is 0.715\n",
      "Iter 50: average BCE loss is 0.130\n",
      "Iter 100: average BCE loss is 0.114\n",
      "Iter 150: average BCE loss is 0.110\n",
      "Iter 200: average BCE loss is 0.109\n",
      "Iter 250: average BCE loss is 0.108\n",
      "Iter 300: average BCE loss is 0.108\n",
      "Iter 350: average BCE loss is 0.108\n",
      "Iter 400: average BCE loss is 0.108\n",
      "Iter 450: average BCE loss is 0.108\n",
      "Iter 500: average BCE loss is 0.108\n",
      "On test dataset: AUROC 0.996, AP 0.997\n"
     ]
    }
   ],
   "source": [
    "h_L2 = torch.nn.Linear(\n",
    "    in_features=n,\n",
    "    out_features=1,\n",
    "    bias=True\n",
    ")\n",
    "sigma = torch.nn.Sigmoid()\n",
    "\n",
    "# Logistic model is linear+sigmoid\n",
    "f_L2 = torch.nn.Sequential(\n",
    "    h_L2,\n",
    "    sigma\n",
    ")\n",
    "\n",
    "J_BCE = torch.nn.BCELoss()\n",
    "\n",
    "# PyTorch optimizer support L2 regularization by\n",
    "# setting the weight_decay parameter, which corresponds to\n",
    "# the regularization strength.\n",
    "GD_optimizer = torch.optim.Adam(lr=0.01,params=f_L2.parameters(),weight_decay=0.05)\n",
    "\n",
    "nIter = 500\n",
    "printInterval = 50\n",
    "\n",
    "for i in range(nIter):\n",
    "    GD_optimizer.zero_grad()\n",
    "    pred = f_L2(X_train)\n",
    "    loss = J_BCE(pred,y_train)\n",
    "    loss.backward()\n",
    "    GD_optimizer.step()\n",
    "    if i == 0 or ((i+1)%printInterval) == 0:\n",
    "        print('Iter {}: average BCE loss is {:.3f}'.format(i+1,loss.item()))\n",
    "\n",
    "with torch.no_grad():\n",
    "    pred_test = f_L2(X_test)\n",
    "\n",
    "auroc = roc_auc_score(y_test,pred_test)\n",
    "ap = average_precision_score(y_test,pred_test)\n",
    "print('On test dataset: AUROC {:.3f}, AP {:.3f}'.format(auroc,ap))"
   ]
  },
  {
   "cell_type": "code",
   "execution_count": 160,
   "metadata": {},
   "outputs": [],
   "source": [
    "weight_L2 = h_L2.weight.detach().squeeze().clone()"
   ]
  },
  {
   "attachments": {},
   "cell_type": "markdown",
   "metadata": {},
   "source": [
    "### Logistic Regression with $L_1$ Regularization\n",
    "\n",
    "Logistic regression with $L_1$ regularization is also called *LASSO logistic regression*. For the LASSO logistic regression, we add $L_1$ regularization to model parameters:\n",
    "\n",
    "$$\n",
    "J_{L_1}(\\theta) = J(\\theta) + \\lambda ||\\theta||_1,\n",
    "$$\n",
    "\n",
    "where large model parameters are $L_1$ norm\n",
    "\n",
    "$$\n",
    "||\\theta||_1 = \\sum_j |\\theta_j|.\n",
    "$$"
   ]
  },
  {
   "attachments": {},
   "cell_type": "markdown",
   "metadata": {},
   "source": [
    "There is no build-in support for $L_1$ regularization in PyTorch, so we will need to build our own code. The idea is to iterate over all parameters of our model, calculate the sum of their absolute value, and the let PyTorch do the differentiation and optimization."
   ]
  },
  {
   "cell_type": "code",
   "execution_count": 161,
   "metadata": {},
   "outputs": [
    {
     "name": "stdout",
     "output_type": "stream",
     "text": [
      "Iter 1: average BCE loss is 0.587\n",
      "Iter 50: average BCE loss is 0.214\n",
      "Iter 100: average BCE loss is 0.212\n",
      "Iter 150: average BCE loss is 0.210\n",
      "Iter 200: average BCE loss is 0.210\n",
      "Iter 250: average BCE loss is 0.209\n",
      "Iter 300: average BCE loss is 0.209\n",
      "Iter 350: average BCE loss is 0.210\n",
      "Iter 400: average BCE loss is 0.209\n",
      "Iter 450: average BCE loss is 0.209\n",
      "Iter 500: average BCE loss is 0.210\n",
      "On test dataset: AUROC 0.991, AP 0.992\n"
     ]
    }
   ],
   "source": [
    "h_L1 = torch.nn.Linear(\n",
    "    in_features=n,\n",
    "    out_features=1,\n",
    "    bias=True\n",
    ")\n",
    "sigma = torch.nn.Sigmoid()\n",
    "\n",
    "# Logistic model is linear+sigmoid\n",
    "f_L1 = torch.nn.Sequential(\n",
    "    h_L1,\n",
    "    sigma\n",
    ")\n",
    "\n",
    "J_BCE = torch.nn.BCELoss()\n",
    "\n",
    "GD_optimizer = torch.optim.Adam(lr=0.01,params=f_L1.parameters(),weight_decay=0.05)\n",
    "\n",
    "# Define L_1 regularization\n",
    "def L1_reg(model,lbd):\n",
    "    result = torch.tensor(0)\n",
    "    for param in model.parameters(): # iterate over all parameters of our model\n",
    "        result = result + param.abs().sum()\n",
    "\n",
    "    return lbd*result\n",
    "\n",
    "\n",
    "nIter = 500\n",
    "printInterval = 50\n",
    "lbd = 0.05 # L1 reg strength\n",
    "\n",
    "for i in range(nIter):\n",
    "    GD_optimizer.zero_grad()\n",
    "    pred = f_L1(X_train)\n",
    "    loss = J_BCE(pred,y_train)\n",
    "    (loss+L1_reg(f_L1,lbd)).backward()\n",
    "    GD_optimizer.step()\n",
    "    if i == 0 or ((i+1)%printInterval) == 0:\n",
    "        print('Iter {}: average BCE loss is {:.3f}'.format(i+1,loss.item()))\n",
    "\n",
    "with torch.no_grad():\n",
    "    pred_test = f_L1(X_test)\n",
    "\n",
    "auroc = roc_auc_score(y_test,pred_test)\n",
    "ap = average_precision_score(y_test,pred_test)\n",
    "print('On test dataset: AUROC {:.3f}, AP {:.3f}'.format(auroc,ap))"
   ]
  },
  {
   "cell_type": "code",
   "execution_count": 162,
   "metadata": {},
   "outputs": [],
   "source": [
    "weight_L1 = h_L1.weight.detach().squeeze().clone()"
   ]
  },
  {
   "attachments": {},
   "cell_type": "markdown",
   "metadata": {},
   "source": [
    "Let us now visualize and compare the weights of the three models."
   ]
  },
  {
   "cell_type": "code",
   "execution_count": 163,
   "metadata": {},
   "outputs": [
    {
     "data": {
      "text/html": [
       "<div>\n",
       "<style scoped>\n",
       "    .dataframe tbody tr th:only-of-type {\n",
       "        vertical-align: middle;\n",
       "    }\n",
       "\n",
       "    .dataframe tbody tr th {\n",
       "        vertical-align: top;\n",
       "    }\n",
       "\n",
       "    .dataframe thead th {\n",
       "        text-align: right;\n",
       "    }\n",
       "</style>\n",
       "<table border=\"1\" class=\"dataframe\">\n",
       "  <thead>\n",
       "    <tr style=\"text-align: right;\">\n",
       "      <th></th>\n",
       "      <th>variable</th>\n",
       "      <th>value</th>\n",
       "    </tr>\n",
       "  </thead>\n",
       "  <tbody>\n",
       "    <tr>\n",
       "      <th>0</th>\n",
       "      <td>vanilla</td>\n",
       "      <td>-0.928586</td>\n",
       "    </tr>\n",
       "    <tr>\n",
       "      <th>1</th>\n",
       "      <td>vanilla</td>\n",
       "      <td>-0.225938</td>\n",
       "    </tr>\n",
       "    <tr>\n",
       "      <th>2</th>\n",
       "      <td>vanilla</td>\n",
       "      <td>-0.931878</td>\n",
       "    </tr>\n",
       "    <tr>\n",
       "      <th>3</th>\n",
       "      <td>vanilla</td>\n",
       "      <td>-1.983683</td>\n",
       "    </tr>\n",
       "    <tr>\n",
       "      <th>4</th>\n",
       "      <td>vanilla</td>\n",
       "      <td>-2.196660</td>\n",
       "    </tr>\n",
       "    <tr>\n",
       "      <th>...</th>\n",
       "      <td>...</td>\n",
       "      <td>...</td>\n",
       "    </tr>\n",
       "    <tr>\n",
       "      <th>85</th>\n",
       "      <td>L1</td>\n",
       "      <td>-0.006153</td>\n",
       "    </tr>\n",
       "    <tr>\n",
       "      <th>86</th>\n",
       "      <td>L1</td>\n",
       "      <td>-0.079893</td>\n",
       "    </tr>\n",
       "    <tr>\n",
       "      <th>87</th>\n",
       "      <td>L1</td>\n",
       "      <td>-0.381906</td>\n",
       "    </tr>\n",
       "    <tr>\n",
       "      <th>88</th>\n",
       "      <td>L1</td>\n",
       "      <td>-0.071407</td>\n",
       "    </tr>\n",
       "    <tr>\n",
       "      <th>89</th>\n",
       "      <td>L1</td>\n",
       "      <td>-0.004046</td>\n",
       "    </tr>\n",
       "  </tbody>\n",
       "</table>\n",
       "<p>90 rows × 2 columns</p>\n",
       "</div>"
      ],
      "text/plain": [
       "   variable     value\n",
       "0   vanilla -0.928586\n",
       "1   vanilla -0.225938\n",
       "2   vanilla -0.931878\n",
       "3   vanilla -1.983683\n",
       "4   vanilla -2.196660\n",
       "..      ...       ...\n",
       "85       L1 -0.006153\n",
       "86       L1 -0.079893\n",
       "87       L1 -0.381906\n",
       "88       L1 -0.071407\n",
       "89       L1 -0.004046\n",
       "\n",
       "[90 rows x 2 columns]"
      ]
     },
     "execution_count": 163,
     "metadata": {},
     "output_type": "execute_result"
    }
   ],
   "source": [
    "weight_df = pd.DataFrame(\n",
    "    {\n",
    "        'vanilla':weight,\n",
    "        'L2':weight_L2,\n",
    "        'L1':weight_L1\n",
    "    }\n",
    ").melt(id_vars=[],value_vars=['vanilla','L2','L1'])\n",
    "weight_df"
   ]
  },
  {
   "cell_type": "code",
   "execution_count": 164,
   "metadata": {},
   "outputs": [
    {
     "data": {
      "application/vnd.plotly.v1+json": {
       "config": {
        "plotlyServerURL": "https://plot.ly"
       },
       "data": [
        {
         "alignmentgroup": "True",
         "boxpoints": "all",
         "hovertemplate": "variable=vanilla<br>value=%{y}<extra></extra>",
         "jitter": 0.5,
         "legendgroup": "vanilla",
         "marker": {
          "color": "#636efa"
         },
         "name": "vanilla",
         "notched": false,
         "offsetgroup": "vanilla",
         "orientation": "v",
         "showlegend": true,
         "type": "box",
         "x0": " ",
         "xaxis": "x",
         "y": [
          -0.9285857081413269,
          -0.225937619805336,
          -0.9318776726722717,
          -1.9836829900741577,
          -2.196660041809082,
          1.5021170377731323,
          -4.084945201873779,
          -3.1391994953155518,
          0.2533295154571533,
          2.990549325942993,
          -7.708893775939941,
          0.5764540433883667,
          -6.663605213165283,
          -4.431551933288574,
          0.508702278137207,
          5.644728183746338,
          0.050379738211631775,
          -2.5248377323150635,
          1.6126493215560913,
          7.051451683044434,
          -3.1399502754211426,
          -2.6468164920806885,
          -3.1794426441192627,
          -3.143582582473755,
          -2.278778314590454,
          -1.3954764604568481,
          -3.4142086505889893,
          2.1280581951141357,
          -0.5337315201759338,
          -4.786027431488037
         ],
         "y0": " ",
         "yaxis": "y"
        },
        {
         "alignmentgroup": "True",
         "boxpoints": "all",
         "hovertemplate": "variable=L2<br>value=%{y}<extra></extra>",
         "jitter": 0.5,
         "legendgroup": "L2",
         "marker": {
          "color": "#EF553B"
         },
         "name": "L2",
         "notched": false,
         "offsetgroup": "L2",
         "orientation": "v",
         "showlegend": true,
         "type": "box",
         "x0": " ",
         "xaxis": "x2",
         "y": [
          -0.31605416536331177,
          -0.22886262834072113,
          -0.31142759323120117,
          -0.3257266879081726,
          -0.16367384791374207,
          -0.09503154456615448,
          -0.27773651480674744,
          -0.3534480333328247,
          -0.120893195271492,
          0.12582486867904663,
          -0.3402227461338043,
          -0.03089943900704384,
          -0.2962200939655304,
          -0.2940649092197418,
          0.055264126509428024,
          0.1563919335603714,
          0.06884992867708206,
          -0.025815043598413467,
          0.10185147076845169,
          0.1428665667772293,
          -0.42735958099365234,
          -0.36171284317970276,
          -0.41033539175987244,
          -0.40786710381507874,
          -0.2998436987400055,
          -0.13730083405971527,
          -0.25714537501335144,
          -0.3522490859031677,
          -0.23828832805156708,
          -0.1346898227930069
         ],
         "y0": " ",
         "yaxis": "y2"
        },
        {
         "alignmentgroup": "True",
         "boxpoints": "all",
         "hovertemplate": "variable=L1<br>value=%{y}<extra></extra>",
         "jitter": 0.5,
         "legendgroup": "L1",
         "marker": {
          "color": "#00cc96"
         },
         "name": "L1",
         "notched": false,
         "offsetgroup": "L1",
         "orientation": "v",
         "showlegend": true,
         "type": "box",
         "x0": " ",
         "xaxis": "x3",
         "y": [
          -0.12182646989822388,
          -0.013213291764259338,
          -0.14055363833904266,
          -0.11281827092170715,
          -0.0030115332920104265,
          -0.00611597765237093,
          -0.12793491780757904,
          -0.3471169173717499,
          -0.002687320578843355,
          0.0010066297836601734,
          -0.07331964373588562,
          0.0005679888417944312,
          -0.009291144087910652,
          -0.00010463455691933632,
          0.00032766241929493845,
          0.000942976213991642,
          -0.0002616323181428015,
          0.0009078417206183076,
          0.0006765980506315827,
          -0.002456472720950842,
          -0.3623386025428772,
          -0.1882035881280899,
          -0.3573203682899475,
          -0.28116893768310547,
          -0.1155424639582634,
          -0.006153179798275232,
          -0.07989282160997391,
          -0.3819059133529663,
          -0.0714067816734314,
          -0.004045933019369841
         ],
         "y0": " ",
         "yaxis": "y3"
        }
       ],
       "layout": {
        "annotations": [
         {
          "font": {},
          "showarrow": false,
          "text": "variable=vanilla",
          "x": 0.15999999999999998,
          "xanchor": "center",
          "xref": "paper",
          "y": 1,
          "yanchor": "bottom",
          "yref": "paper"
         },
         {
          "font": {},
          "showarrow": false,
          "text": "variable=L2",
          "x": 0.49999999999999994,
          "xanchor": "center",
          "xref": "paper",
          "y": 1,
          "yanchor": "bottom",
          "yref": "paper"
         },
         {
          "font": {},
          "showarrow": false,
          "text": "variable=L1",
          "x": 0.8399999999999999,
          "xanchor": "center",
          "xref": "paper",
          "y": 1,
          "yanchor": "bottom",
          "yref": "paper"
         }
        ],
        "boxmode": "group",
        "legend": {
         "title": {
          "text": "variable"
         },
         "tracegroupgap": 0
        },
        "template": {
         "data": {
          "bar": [
           {
            "error_x": {
             "color": "#2a3f5f"
            },
            "error_y": {
             "color": "#2a3f5f"
            },
            "marker": {
             "line": {
              "color": "#E5ECF6",
              "width": 0.5
             },
             "pattern": {
              "fillmode": "overlay",
              "size": 10,
              "solidity": 0.2
             }
            },
            "type": "bar"
           }
          ],
          "barpolar": [
           {
            "marker": {
             "line": {
              "color": "#E5ECF6",
              "width": 0.5
             },
             "pattern": {
              "fillmode": "overlay",
              "size": 10,
              "solidity": 0.2
             }
            },
            "type": "barpolar"
           }
          ],
          "carpet": [
           {
            "aaxis": {
             "endlinecolor": "#2a3f5f",
             "gridcolor": "white",
             "linecolor": "white",
             "minorgridcolor": "white",
             "startlinecolor": "#2a3f5f"
            },
            "baxis": {
             "endlinecolor": "#2a3f5f",
             "gridcolor": "white",
             "linecolor": "white",
             "minorgridcolor": "white",
             "startlinecolor": "#2a3f5f"
            },
            "type": "carpet"
           }
          ],
          "choropleth": [
           {
            "colorbar": {
             "outlinewidth": 0,
             "ticks": ""
            },
            "type": "choropleth"
           }
          ],
          "contour": [
           {
            "colorbar": {
             "outlinewidth": 0,
             "ticks": ""
            },
            "colorscale": [
             [
              0,
              "#0d0887"
             ],
             [
              0.1111111111111111,
              "#46039f"
             ],
             [
              0.2222222222222222,
              "#7201a8"
             ],
             [
              0.3333333333333333,
              "#9c179e"
             ],
             [
              0.4444444444444444,
              "#bd3786"
             ],
             [
              0.5555555555555556,
              "#d8576b"
             ],
             [
              0.6666666666666666,
              "#ed7953"
             ],
             [
              0.7777777777777778,
              "#fb9f3a"
             ],
             [
              0.8888888888888888,
              "#fdca26"
             ],
             [
              1,
              "#f0f921"
             ]
            ],
            "type": "contour"
           }
          ],
          "contourcarpet": [
           {
            "colorbar": {
             "outlinewidth": 0,
             "ticks": ""
            },
            "type": "contourcarpet"
           }
          ],
          "heatmap": [
           {
            "colorbar": {
             "outlinewidth": 0,
             "ticks": ""
            },
            "colorscale": [
             [
              0,
              "#0d0887"
             ],
             [
              0.1111111111111111,
              "#46039f"
             ],
             [
              0.2222222222222222,
              "#7201a8"
             ],
             [
              0.3333333333333333,
              "#9c179e"
             ],
             [
              0.4444444444444444,
              "#bd3786"
             ],
             [
              0.5555555555555556,
              "#d8576b"
             ],
             [
              0.6666666666666666,
              "#ed7953"
             ],
             [
              0.7777777777777778,
              "#fb9f3a"
             ],
             [
              0.8888888888888888,
              "#fdca26"
             ],
             [
              1,
              "#f0f921"
             ]
            ],
            "type": "heatmap"
           }
          ],
          "heatmapgl": [
           {
            "colorbar": {
             "outlinewidth": 0,
             "ticks": ""
            },
            "colorscale": [
             [
              0,
              "#0d0887"
             ],
             [
              0.1111111111111111,
              "#46039f"
             ],
             [
              0.2222222222222222,
              "#7201a8"
             ],
             [
              0.3333333333333333,
              "#9c179e"
             ],
             [
              0.4444444444444444,
              "#bd3786"
             ],
             [
              0.5555555555555556,
              "#d8576b"
             ],
             [
              0.6666666666666666,
              "#ed7953"
             ],
             [
              0.7777777777777778,
              "#fb9f3a"
             ],
             [
              0.8888888888888888,
              "#fdca26"
             ],
             [
              1,
              "#f0f921"
             ]
            ],
            "type": "heatmapgl"
           }
          ],
          "histogram": [
           {
            "marker": {
             "pattern": {
              "fillmode": "overlay",
              "size": 10,
              "solidity": 0.2
             }
            },
            "type": "histogram"
           }
          ],
          "histogram2d": [
           {
            "colorbar": {
             "outlinewidth": 0,
             "ticks": ""
            },
            "colorscale": [
             [
              0,
              "#0d0887"
             ],
             [
              0.1111111111111111,
              "#46039f"
             ],
             [
              0.2222222222222222,
              "#7201a8"
             ],
             [
              0.3333333333333333,
              "#9c179e"
             ],
             [
              0.4444444444444444,
              "#bd3786"
             ],
             [
              0.5555555555555556,
              "#d8576b"
             ],
             [
              0.6666666666666666,
              "#ed7953"
             ],
             [
              0.7777777777777778,
              "#fb9f3a"
             ],
             [
              0.8888888888888888,
              "#fdca26"
             ],
             [
              1,
              "#f0f921"
             ]
            ],
            "type": "histogram2d"
           }
          ],
          "histogram2dcontour": [
           {
            "colorbar": {
             "outlinewidth": 0,
             "ticks": ""
            },
            "colorscale": [
             [
              0,
              "#0d0887"
             ],
             [
              0.1111111111111111,
              "#46039f"
             ],
             [
              0.2222222222222222,
              "#7201a8"
             ],
             [
              0.3333333333333333,
              "#9c179e"
             ],
             [
              0.4444444444444444,
              "#bd3786"
             ],
             [
              0.5555555555555556,
              "#d8576b"
             ],
             [
              0.6666666666666666,
              "#ed7953"
             ],
             [
              0.7777777777777778,
              "#fb9f3a"
             ],
             [
              0.8888888888888888,
              "#fdca26"
             ],
             [
              1,
              "#f0f921"
             ]
            ],
            "type": "histogram2dcontour"
           }
          ],
          "mesh3d": [
           {
            "colorbar": {
             "outlinewidth": 0,
             "ticks": ""
            },
            "type": "mesh3d"
           }
          ],
          "parcoords": [
           {
            "line": {
             "colorbar": {
              "outlinewidth": 0,
              "ticks": ""
             }
            },
            "type": "parcoords"
           }
          ],
          "pie": [
           {
            "automargin": true,
            "type": "pie"
           }
          ],
          "scatter": [
           {
            "fillpattern": {
             "fillmode": "overlay",
             "size": 10,
             "solidity": 0.2
            },
            "type": "scatter"
           }
          ],
          "scatter3d": [
           {
            "line": {
             "colorbar": {
              "outlinewidth": 0,
              "ticks": ""
             }
            },
            "marker": {
             "colorbar": {
              "outlinewidth": 0,
              "ticks": ""
             }
            },
            "type": "scatter3d"
           }
          ],
          "scattercarpet": [
           {
            "marker": {
             "colorbar": {
              "outlinewidth": 0,
              "ticks": ""
             }
            },
            "type": "scattercarpet"
           }
          ],
          "scattergeo": [
           {
            "marker": {
             "colorbar": {
              "outlinewidth": 0,
              "ticks": ""
             }
            },
            "type": "scattergeo"
           }
          ],
          "scattergl": [
           {
            "marker": {
             "colorbar": {
              "outlinewidth": 0,
              "ticks": ""
             }
            },
            "type": "scattergl"
           }
          ],
          "scattermapbox": [
           {
            "marker": {
             "colorbar": {
              "outlinewidth": 0,
              "ticks": ""
             }
            },
            "type": "scattermapbox"
           }
          ],
          "scatterpolar": [
           {
            "marker": {
             "colorbar": {
              "outlinewidth": 0,
              "ticks": ""
             }
            },
            "type": "scatterpolar"
           }
          ],
          "scatterpolargl": [
           {
            "marker": {
             "colorbar": {
              "outlinewidth": 0,
              "ticks": ""
             }
            },
            "type": "scatterpolargl"
           }
          ],
          "scatterternary": [
           {
            "marker": {
             "colorbar": {
              "outlinewidth": 0,
              "ticks": ""
             }
            },
            "type": "scatterternary"
           }
          ],
          "surface": [
           {
            "colorbar": {
             "outlinewidth": 0,
             "ticks": ""
            },
            "colorscale": [
             [
              0,
              "#0d0887"
             ],
             [
              0.1111111111111111,
              "#46039f"
             ],
             [
              0.2222222222222222,
              "#7201a8"
             ],
             [
              0.3333333333333333,
              "#9c179e"
             ],
             [
              0.4444444444444444,
              "#bd3786"
             ],
             [
              0.5555555555555556,
              "#d8576b"
             ],
             [
              0.6666666666666666,
              "#ed7953"
             ],
             [
              0.7777777777777778,
              "#fb9f3a"
             ],
             [
              0.8888888888888888,
              "#fdca26"
             ],
             [
              1,
              "#f0f921"
             ]
            ],
            "type": "surface"
           }
          ],
          "table": [
           {
            "cells": {
             "fill": {
              "color": "#EBF0F8"
             },
             "line": {
              "color": "white"
             }
            },
            "header": {
             "fill": {
              "color": "#C8D4E3"
             },
             "line": {
              "color": "white"
             }
            },
            "type": "table"
           }
          ]
         },
         "layout": {
          "annotationdefaults": {
           "arrowcolor": "#2a3f5f",
           "arrowhead": 0,
           "arrowwidth": 1
          },
          "autotypenumbers": "strict",
          "coloraxis": {
           "colorbar": {
            "outlinewidth": 0,
            "ticks": ""
           }
          },
          "colorscale": {
           "diverging": [
            [
             0,
             "#8e0152"
            ],
            [
             0.1,
             "#c51b7d"
            ],
            [
             0.2,
             "#de77ae"
            ],
            [
             0.3,
             "#f1b6da"
            ],
            [
             0.4,
             "#fde0ef"
            ],
            [
             0.5,
             "#f7f7f7"
            ],
            [
             0.6,
             "#e6f5d0"
            ],
            [
             0.7,
             "#b8e186"
            ],
            [
             0.8,
             "#7fbc41"
            ],
            [
             0.9,
             "#4d9221"
            ],
            [
             1,
             "#276419"
            ]
           ],
           "sequential": [
            [
             0,
             "#0d0887"
            ],
            [
             0.1111111111111111,
             "#46039f"
            ],
            [
             0.2222222222222222,
             "#7201a8"
            ],
            [
             0.3333333333333333,
             "#9c179e"
            ],
            [
             0.4444444444444444,
             "#bd3786"
            ],
            [
             0.5555555555555556,
             "#d8576b"
            ],
            [
             0.6666666666666666,
             "#ed7953"
            ],
            [
             0.7777777777777778,
             "#fb9f3a"
            ],
            [
             0.8888888888888888,
             "#fdca26"
            ],
            [
             1,
             "#f0f921"
            ]
           ],
           "sequentialminus": [
            [
             0,
             "#0d0887"
            ],
            [
             0.1111111111111111,
             "#46039f"
            ],
            [
             0.2222222222222222,
             "#7201a8"
            ],
            [
             0.3333333333333333,
             "#9c179e"
            ],
            [
             0.4444444444444444,
             "#bd3786"
            ],
            [
             0.5555555555555556,
             "#d8576b"
            ],
            [
             0.6666666666666666,
             "#ed7953"
            ],
            [
             0.7777777777777778,
             "#fb9f3a"
            ],
            [
             0.8888888888888888,
             "#fdca26"
            ],
            [
             1,
             "#f0f921"
            ]
           ]
          },
          "colorway": [
           "#636efa",
           "#EF553B",
           "#00cc96",
           "#ab63fa",
           "#FFA15A",
           "#19d3f3",
           "#FF6692",
           "#B6E880",
           "#FF97FF",
           "#FECB52"
          ],
          "font": {
           "color": "#2a3f5f"
          },
          "geo": {
           "bgcolor": "white",
           "lakecolor": "white",
           "landcolor": "#E5ECF6",
           "showlakes": true,
           "showland": true,
           "subunitcolor": "white"
          },
          "hoverlabel": {
           "align": "left"
          },
          "hovermode": "closest",
          "mapbox": {
           "style": "light"
          },
          "paper_bgcolor": "white",
          "plot_bgcolor": "#E5ECF6",
          "polar": {
           "angularaxis": {
            "gridcolor": "white",
            "linecolor": "white",
            "ticks": ""
           },
           "bgcolor": "#E5ECF6",
           "radialaxis": {
            "gridcolor": "white",
            "linecolor": "white",
            "ticks": ""
           }
          },
          "scene": {
           "xaxis": {
            "backgroundcolor": "#E5ECF6",
            "gridcolor": "white",
            "gridwidth": 2,
            "linecolor": "white",
            "showbackground": true,
            "ticks": "",
            "zerolinecolor": "white"
           },
           "yaxis": {
            "backgroundcolor": "#E5ECF6",
            "gridcolor": "white",
            "gridwidth": 2,
            "linecolor": "white",
            "showbackground": true,
            "ticks": "",
            "zerolinecolor": "white"
           },
           "zaxis": {
            "backgroundcolor": "#E5ECF6",
            "gridcolor": "white",
            "gridwidth": 2,
            "linecolor": "white",
            "showbackground": true,
            "ticks": "",
            "zerolinecolor": "white"
           }
          },
          "shapedefaults": {
           "line": {
            "color": "#2a3f5f"
           }
          },
          "ternary": {
           "aaxis": {
            "gridcolor": "white",
            "linecolor": "white",
            "ticks": ""
           },
           "baxis": {
            "gridcolor": "white",
            "linecolor": "white",
            "ticks": ""
           },
           "bgcolor": "#E5ECF6",
           "caxis": {
            "gridcolor": "white",
            "linecolor": "white",
            "ticks": ""
           }
          },
          "title": {
           "x": 0.05
          },
          "xaxis": {
           "automargin": true,
           "gridcolor": "white",
           "linecolor": "white",
           "ticks": "",
           "title": {
            "standoff": 15
           },
           "zerolinecolor": "white",
           "zerolinewidth": 2
          },
          "yaxis": {
           "automargin": true,
           "gridcolor": "white",
           "linecolor": "white",
           "ticks": "",
           "title": {
            "standoff": 15
           },
           "zerolinecolor": "white",
           "zerolinewidth": 2
          }
         }
        },
        "title": {
         "text": "Logistic Regression Weights Distributions"
        },
        "xaxis": {
         "anchor": "y",
         "domain": [
          0,
          0.31999999999999995
         ]
        },
        "xaxis2": {
         "anchor": "y2",
         "domain": [
          0.33999999999999997,
          0.6599999999999999
         ],
         "matches": "x"
        },
        "xaxis3": {
         "anchor": "y3",
         "domain": [
          0.6799999999999999,
          0.9999999999999999
         ],
         "matches": "x"
        },
        "yaxis": {
         "anchor": "x",
         "domain": [
          0,
          1
         ],
         "showticklabels": true,
         "title": {
          "text": "value"
         }
        },
        "yaxis2": {
         "anchor": "x2",
         "domain": [
          0,
          1
         ],
         "showticklabels": true
        },
        "yaxis3": {
         "anchor": "x3",
         "domain": [
          0,
          1
         ],
         "showticklabels": true
        }
       }
      }
     },
     "metadata": {},
     "output_type": "display_data"
    }
   ],
   "source": [
    "fig = px.box(\n",
    "    weight_df,\n",
    "    y='value',\n",
    "    facet_col='variable',\n",
    "    color='variable',\n",
    "    points='all',\n",
    "    title='Logistic Regression Weights Distributions'\n",
    ")\n",
    "fig.update_yaxes(\n",
    "    matches=None,\n",
    "    showticklabels=True\n",
    ")\n",
    "fig.update_traces(jitter=0.5)"
   ]
  },
  {
   "attachments": {},
   "cell_type": "markdown",
   "metadata": {},
   "source": [
    "We observe the following:\n",
    "1.  Using regularization make training much faster.\n",
    "    * The vanilla logistic regression takes more than 5000 iterations to converge.\n",
    "    * Both regularization methods only take 500 iterations to converge.\n",
    "    * The vanilla logistic regression is not numerically stable\n",
    "        * If you have more iterations, you will see all model parameters become larger and larger.\n",
    "        * Both regularization methods do not suffer from this problem.\n",
    "1.  The $L_2$ regularization reduced the range of the logistic regression weights.\n",
    "2.  The $L_1$ regularization not only reduced the range of the weights, but also annihilated many coefficients to zero.\n",
    "\n",
    "The last observation not only apply to logistic regression models with $L_1$ regularization. A common feature selection method is to use the $L_1$ regularization and only select features that have non-zero coefficients. If you increase the regularization strength by enlarging the `lbd` variable in the above codes, you will reduce more parameters to zero."
   ]
  },
  {
   "attachments": {},
   "cell_type": "markdown",
   "metadata": {},
   "source": [
    "### Forward and backward selection methods for features selection\n",
    "\n",
    "Lastly we demonstrate how to perform forward and backward feature selections. Implementing these selection techniques from scratch require a lot of work (encapsulate model definition and training, write custom cross-validation dataloader, etc.) Therefore in this section we borrow everything from `sklearn`, and this simplifies feature selection and model fitting into just a few lines of codes. The disadvantage is that the implementation detail is like a black box: you need to dig deep into source codes in `sklearn` to find it out!"
   ]
  },
  {
   "cell_type": "code",
   "execution_count": 165,
   "metadata": {},
   "outputs": [],
   "source": [
    "from sklearn.linear_model import LogisticRegression as logit # use build-in logistic regression model in sklearn\n",
    "from sklearn.feature_selection import SequentialFeatureSelector as SFS\n",
    "from sklearn.metrics import roc_curve, precision_recall_curve"
   ]
  },
  {
   "cell_type": "code",
   "execution_count": 166,
   "metadata": {},
   "outputs": [],
   "source": [
    "# sklearn support fitting model on pandas dataframe.\n",
    "# We use same train test split\n",
    "\n",
    "X_df_train = X_df.iloc[case_list=='train',:]\n",
    "X_df_test = X_df.iloc[case_list=='test',:]\n",
    "y_df_train = y_df.iloc[case_list=='train']\n",
    "y_df_test = y_df.iloc[case_list=='test']"
   ]
  },
  {
   "cell_type": "code",
   "execution_count": 188,
   "metadata": {},
   "outputs": [],
   "source": [
    "model = logit(penalty='l1',C=1/10,solver='liblinear') # c: 1/(strength of L1 regularization)\n",
    "\n",
    "# Forward feature selection.\n",
    "forward_selection = SFS(\n",
    "    model, n_features_to_select=5, direction=\"forward\"\n",
    ").fit(X_df_train, y_df_train)\n",
    "\n",
    "# Backward feature selection.\n",
    "backward_selection = SFS(\n",
    "    model, n_features_to_select=5, direction=\"backward\"\n",
    ").fit(X_df_train, y_df_train)"
   ]
  },
  {
   "cell_type": "code",
   "execution_count": 189,
   "metadata": {},
   "outputs": [
    {
     "data": {
      "text/plain": [
       "array(['mean radius', 'mean texture', 'mean concavity', 'worst radius',\n",
       "       'worst smoothness'], dtype=object)"
      ]
     },
     "execution_count": 189,
     "metadata": {},
     "output_type": "execute_result"
    }
   ],
   "source": [
    "forward_selection.get_feature_names_out()"
   ]
  },
  {
   "cell_type": "code",
   "execution_count": 190,
   "metadata": {},
   "outputs": [
    {
     "data": {
      "text/plain": [
       "array(['mean concave points', 'worst texture', 'worst perimeter',\n",
       "       'worst smoothness', 'worst concavity'], dtype=object)"
      ]
     },
     "execution_count": 190,
     "metadata": {},
     "output_type": "execute_result"
    }
   ],
   "source": [
    "backward_selection.get_feature_names_out()"
   ]
  },
  {
   "attachments": {},
   "cell_type": "markdown",
   "metadata": {},
   "source": [
    "We see that the forward and backward selections do not agree on the top-5 most important features.\n",
    "\n",
    "After feature selection, we can use `forward_selection` and `backward_selection` to automatically reduce input dimension. Let use fit logistic regression models on the 1) full feature, 2) selected feature and visualize their model performance on test dataset."
   ]
  },
  {
   "cell_type": "code",
   "execution_count": 191,
   "metadata": {},
   "outputs": [],
   "source": [
    "# Full model\n",
    "model.fit(X_df_train,y_df_train)\n",
    "y_pred_full = model.predict_proba(X_df_test)\n",
    "\n",
    "# Model with forward selected features\n",
    "model.fit(forward_selection.transform(X_df_train),y_df_train)\n",
    "y_pred_FS = model.predict_proba(forward_selection.transform(X_df_test))\n",
    "\n",
    "# Model with backward selected features\n",
    "model.fit(backward_selection.transform(X_df_train),y_df_train)\n",
    "y_pred_BS = model.predict_proba(backward_selection.transform(X_df_test))"
   ]
  },
  {
   "cell_type": "code",
   "execution_count": 192,
   "metadata": {},
   "outputs": [],
   "source": [
    "# roc_curve\n",
    "fpr_full, tpr_full, _ = roc_curve(y_df_test,y_pred_full[:,1])\n",
    "fpr_FS, tpr_FS, _ = roc_curve(y_df_test,y_pred_FS[:,1])\n",
    "fpr_BS, tpr_BS, _ = roc_curve(y_df_test,y_pred_BS[:,1])\n",
    "\n",
    "roc_df = pd.DataFrame(\n",
    "    {\n",
    "        'False Positive Rate':np.hstack([fpr_full,fpr_FS,fpr_BS]),\n",
    "        'True Positive Rate':np.hstack([tpr_full,tpr_FS,tpr_BS]),\n",
    "        'method':['full_model']*len(fpr_full)+['FS']*len(fpr_FS)+['BS']*len(fpr_BS)\n",
    "    }\n",
    ")"
   ]
  },
  {
   "cell_type": "code",
   "execution_count": 193,
   "metadata": {},
   "outputs": [
    {
     "data": {
      "application/vnd.plotly.v1+json": {
       "config": {
        "plotlyServerURL": "https://plot.ly"
       },
       "data": [
        {
         "hovertemplate": "method=full_model<br>False Positive Rate=%{x}<br>True Positive Rate=%{y}<extra></extra>",
         "legendgroup": "full_model",
         "line": {
          "color": "#636efa",
          "dash": "solid"
         },
         "marker": {
          "symbol": "circle"
         },
         "mode": "lines",
         "name": "full_model",
         "orientation": "v",
         "showlegend": true,
         "type": "scatter",
         "x": [
          0,
          0,
          0,
          0.010101010101010102,
          0.010101010101010102,
          0.020202020202020204,
          0.020202020202020204,
          0.030303030303030304,
          0.030303030303030304,
          0.04040404040404041,
          0.04040404040404041,
          0.050505050505050504,
          0.050505050505050504,
          0.0707070707070707,
          0.0707070707070707,
          1
         ],
         "xaxis": "x",
         "y": [
          0,
          0.007575757575757576,
          0.5378787878787878,
          0.5378787878787878,
          0.8484848484848485,
          0.8484848484848485,
          0.8712121212121212,
          0.8712121212121212,
          0.9696969696969697,
          0.9696969696969697,
          0.9848484848484849,
          0.9848484848484849,
          0.9924242424242424,
          0.9924242424242424,
          1,
          1
         ],
         "yaxis": "y"
        },
        {
         "hovertemplate": "method=FS<br>False Positive Rate=%{x}<br>True Positive Rate=%{y}<extra></extra>",
         "legendgroup": "FS",
         "line": {
          "color": "#EF553B",
          "dash": "solid"
         },
         "marker": {
          "symbol": "circle"
         },
         "mode": "lines",
         "name": "FS",
         "orientation": "v",
         "showlegend": true,
         "type": "scatter",
         "x": [
          0,
          0,
          0,
          0.010101010101010102,
          0.010101010101010102,
          0.020202020202020204,
          0.020202020202020204,
          0.030303030303030304,
          0.030303030303030304,
          0.04040404040404041,
          0.04040404040404041,
          0.050505050505050504,
          0.050505050505050504,
          0.06060606060606061,
          0.06060606060606061,
          0.0707070707070707,
          0.0707070707070707,
          0.09090909090909091,
          0.09090909090909091,
          0.12121212121212122,
          0.12121212121212122,
          1
         ],
         "xaxis": "x2",
         "y": [
          0,
          0.007575757575757576,
          0.6212121212121212,
          0.6212121212121212,
          0.803030303030303,
          0.803030303030303,
          0.8106060606060606,
          0.8106060606060606,
          0.8712121212121212,
          0.8712121212121212,
          0.946969696969697,
          0.946969696969697,
          0.9545454545454546,
          0.9545454545454546,
          0.9621212121212122,
          0.9621212121212122,
          0.9696969696969697,
          0.9696969696969697,
          0.9848484848484849,
          0.9848484848484849,
          1,
          1
         ],
         "yaxis": "y2"
        },
        {
         "hovertemplate": "method=BS<br>False Positive Rate=%{x}<br>True Positive Rate=%{y}<extra></extra>",
         "legendgroup": "BS",
         "line": {
          "color": "#00cc96",
          "dash": "solid"
         },
         "marker": {
          "symbol": "circle"
         },
         "mode": "lines",
         "name": "BS",
         "orientation": "v",
         "showlegend": true,
         "type": "scatter",
         "x": [
          0,
          0,
          0,
          0.010101010101010102,
          0.010101010101010102,
          0.020202020202020204,
          0.020202020202020204,
          0.030303030303030304,
          0.030303030303030304,
          0.04040404040404041,
          0.04040404040404041,
          0.06060606060606061,
          0.06060606060606061,
          0.0707070707070707,
          0.0707070707070707,
          0.08080808080808081,
          0.08080808080808081,
          0.10101010101010101,
          0.10101010101010101,
          1
         ],
         "xaxis": "x3",
         "y": [
          0,
          0.007575757575757576,
          0.5909090909090909,
          0.5909090909090909,
          0.803030303030303,
          0.803030303030303,
          0.8333333333333334,
          0.8333333333333334,
          0.9166666666666666,
          0.9166666666666666,
          0.9545454545454546,
          0.9545454545454546,
          0.9772727272727273,
          0.9772727272727273,
          0.9848484848484849,
          0.9848484848484849,
          0.9924242424242424,
          0.9924242424242424,
          1,
          1
         ],
         "yaxis": "y3"
        }
       ],
       "layout": {
        "annotations": [
         {
          "font": {},
          "showarrow": false,
          "text": "method=full_model",
          "x": 0.15999999999999998,
          "xanchor": "center",
          "xref": "paper",
          "y": 1,
          "yanchor": "bottom",
          "yref": "paper"
         },
         {
          "font": {},
          "showarrow": false,
          "text": "method=FS",
          "x": 0.49999999999999994,
          "xanchor": "center",
          "xref": "paper",
          "y": 1,
          "yanchor": "bottom",
          "yref": "paper"
         },
         {
          "font": {},
          "showarrow": false,
          "text": "method=BS",
          "x": 0.8399999999999999,
          "xanchor": "center",
          "xref": "paper",
          "y": 1,
          "yanchor": "bottom",
          "yref": "paper"
         }
        ],
        "legend": {
         "title": {
          "text": "method"
         },
         "tracegroupgap": 0
        },
        "margin": {
         "t": 60
        },
        "template": {
         "data": {
          "bar": [
           {
            "error_x": {
             "color": "#2a3f5f"
            },
            "error_y": {
             "color": "#2a3f5f"
            },
            "marker": {
             "line": {
              "color": "#E5ECF6",
              "width": 0.5
             },
             "pattern": {
              "fillmode": "overlay",
              "size": 10,
              "solidity": 0.2
             }
            },
            "type": "bar"
           }
          ],
          "barpolar": [
           {
            "marker": {
             "line": {
              "color": "#E5ECF6",
              "width": 0.5
             },
             "pattern": {
              "fillmode": "overlay",
              "size": 10,
              "solidity": 0.2
             }
            },
            "type": "barpolar"
           }
          ],
          "carpet": [
           {
            "aaxis": {
             "endlinecolor": "#2a3f5f",
             "gridcolor": "white",
             "linecolor": "white",
             "minorgridcolor": "white",
             "startlinecolor": "#2a3f5f"
            },
            "baxis": {
             "endlinecolor": "#2a3f5f",
             "gridcolor": "white",
             "linecolor": "white",
             "minorgridcolor": "white",
             "startlinecolor": "#2a3f5f"
            },
            "type": "carpet"
           }
          ],
          "choropleth": [
           {
            "colorbar": {
             "outlinewidth": 0,
             "ticks": ""
            },
            "type": "choropleth"
           }
          ],
          "contour": [
           {
            "colorbar": {
             "outlinewidth": 0,
             "ticks": ""
            },
            "colorscale": [
             [
              0,
              "#0d0887"
             ],
             [
              0.1111111111111111,
              "#46039f"
             ],
             [
              0.2222222222222222,
              "#7201a8"
             ],
             [
              0.3333333333333333,
              "#9c179e"
             ],
             [
              0.4444444444444444,
              "#bd3786"
             ],
             [
              0.5555555555555556,
              "#d8576b"
             ],
             [
              0.6666666666666666,
              "#ed7953"
             ],
             [
              0.7777777777777778,
              "#fb9f3a"
             ],
             [
              0.8888888888888888,
              "#fdca26"
             ],
             [
              1,
              "#f0f921"
             ]
            ],
            "type": "contour"
           }
          ],
          "contourcarpet": [
           {
            "colorbar": {
             "outlinewidth": 0,
             "ticks": ""
            },
            "type": "contourcarpet"
           }
          ],
          "heatmap": [
           {
            "colorbar": {
             "outlinewidth": 0,
             "ticks": ""
            },
            "colorscale": [
             [
              0,
              "#0d0887"
             ],
             [
              0.1111111111111111,
              "#46039f"
             ],
             [
              0.2222222222222222,
              "#7201a8"
             ],
             [
              0.3333333333333333,
              "#9c179e"
             ],
             [
              0.4444444444444444,
              "#bd3786"
             ],
             [
              0.5555555555555556,
              "#d8576b"
             ],
             [
              0.6666666666666666,
              "#ed7953"
             ],
             [
              0.7777777777777778,
              "#fb9f3a"
             ],
             [
              0.8888888888888888,
              "#fdca26"
             ],
             [
              1,
              "#f0f921"
             ]
            ],
            "type": "heatmap"
           }
          ],
          "heatmapgl": [
           {
            "colorbar": {
             "outlinewidth": 0,
             "ticks": ""
            },
            "colorscale": [
             [
              0,
              "#0d0887"
             ],
             [
              0.1111111111111111,
              "#46039f"
             ],
             [
              0.2222222222222222,
              "#7201a8"
             ],
             [
              0.3333333333333333,
              "#9c179e"
             ],
             [
              0.4444444444444444,
              "#bd3786"
             ],
             [
              0.5555555555555556,
              "#d8576b"
             ],
             [
              0.6666666666666666,
              "#ed7953"
             ],
             [
              0.7777777777777778,
              "#fb9f3a"
             ],
             [
              0.8888888888888888,
              "#fdca26"
             ],
             [
              1,
              "#f0f921"
             ]
            ],
            "type": "heatmapgl"
           }
          ],
          "histogram": [
           {
            "marker": {
             "pattern": {
              "fillmode": "overlay",
              "size": 10,
              "solidity": 0.2
             }
            },
            "type": "histogram"
           }
          ],
          "histogram2d": [
           {
            "colorbar": {
             "outlinewidth": 0,
             "ticks": ""
            },
            "colorscale": [
             [
              0,
              "#0d0887"
             ],
             [
              0.1111111111111111,
              "#46039f"
             ],
             [
              0.2222222222222222,
              "#7201a8"
             ],
             [
              0.3333333333333333,
              "#9c179e"
             ],
             [
              0.4444444444444444,
              "#bd3786"
             ],
             [
              0.5555555555555556,
              "#d8576b"
             ],
             [
              0.6666666666666666,
              "#ed7953"
             ],
             [
              0.7777777777777778,
              "#fb9f3a"
             ],
             [
              0.8888888888888888,
              "#fdca26"
             ],
             [
              1,
              "#f0f921"
             ]
            ],
            "type": "histogram2d"
           }
          ],
          "histogram2dcontour": [
           {
            "colorbar": {
             "outlinewidth": 0,
             "ticks": ""
            },
            "colorscale": [
             [
              0,
              "#0d0887"
             ],
             [
              0.1111111111111111,
              "#46039f"
             ],
             [
              0.2222222222222222,
              "#7201a8"
             ],
             [
              0.3333333333333333,
              "#9c179e"
             ],
             [
              0.4444444444444444,
              "#bd3786"
             ],
             [
              0.5555555555555556,
              "#d8576b"
             ],
             [
              0.6666666666666666,
              "#ed7953"
             ],
             [
              0.7777777777777778,
              "#fb9f3a"
             ],
             [
              0.8888888888888888,
              "#fdca26"
             ],
             [
              1,
              "#f0f921"
             ]
            ],
            "type": "histogram2dcontour"
           }
          ],
          "mesh3d": [
           {
            "colorbar": {
             "outlinewidth": 0,
             "ticks": ""
            },
            "type": "mesh3d"
           }
          ],
          "parcoords": [
           {
            "line": {
             "colorbar": {
              "outlinewidth": 0,
              "ticks": ""
             }
            },
            "type": "parcoords"
           }
          ],
          "pie": [
           {
            "automargin": true,
            "type": "pie"
           }
          ],
          "scatter": [
           {
            "fillpattern": {
             "fillmode": "overlay",
             "size": 10,
             "solidity": 0.2
            },
            "type": "scatter"
           }
          ],
          "scatter3d": [
           {
            "line": {
             "colorbar": {
              "outlinewidth": 0,
              "ticks": ""
             }
            },
            "marker": {
             "colorbar": {
              "outlinewidth": 0,
              "ticks": ""
             }
            },
            "type": "scatter3d"
           }
          ],
          "scattercarpet": [
           {
            "marker": {
             "colorbar": {
              "outlinewidth": 0,
              "ticks": ""
             }
            },
            "type": "scattercarpet"
           }
          ],
          "scattergeo": [
           {
            "marker": {
             "colorbar": {
              "outlinewidth": 0,
              "ticks": ""
             }
            },
            "type": "scattergeo"
           }
          ],
          "scattergl": [
           {
            "marker": {
             "colorbar": {
              "outlinewidth": 0,
              "ticks": ""
             }
            },
            "type": "scattergl"
           }
          ],
          "scattermapbox": [
           {
            "marker": {
             "colorbar": {
              "outlinewidth": 0,
              "ticks": ""
             }
            },
            "type": "scattermapbox"
           }
          ],
          "scatterpolar": [
           {
            "marker": {
             "colorbar": {
              "outlinewidth": 0,
              "ticks": ""
             }
            },
            "type": "scatterpolar"
           }
          ],
          "scatterpolargl": [
           {
            "marker": {
             "colorbar": {
              "outlinewidth": 0,
              "ticks": ""
             }
            },
            "type": "scatterpolargl"
           }
          ],
          "scatterternary": [
           {
            "marker": {
             "colorbar": {
              "outlinewidth": 0,
              "ticks": ""
             }
            },
            "type": "scatterternary"
           }
          ],
          "surface": [
           {
            "colorbar": {
             "outlinewidth": 0,
             "ticks": ""
            },
            "colorscale": [
             [
              0,
              "#0d0887"
             ],
             [
              0.1111111111111111,
              "#46039f"
             ],
             [
              0.2222222222222222,
              "#7201a8"
             ],
             [
              0.3333333333333333,
              "#9c179e"
             ],
             [
              0.4444444444444444,
              "#bd3786"
             ],
             [
              0.5555555555555556,
              "#d8576b"
             ],
             [
              0.6666666666666666,
              "#ed7953"
             ],
             [
              0.7777777777777778,
              "#fb9f3a"
             ],
             [
              0.8888888888888888,
              "#fdca26"
             ],
             [
              1,
              "#f0f921"
             ]
            ],
            "type": "surface"
           }
          ],
          "table": [
           {
            "cells": {
             "fill": {
              "color": "#EBF0F8"
             },
             "line": {
              "color": "white"
             }
            },
            "header": {
             "fill": {
              "color": "#C8D4E3"
             },
             "line": {
              "color": "white"
             }
            },
            "type": "table"
           }
          ]
         },
         "layout": {
          "annotationdefaults": {
           "arrowcolor": "#2a3f5f",
           "arrowhead": 0,
           "arrowwidth": 1
          },
          "autotypenumbers": "strict",
          "coloraxis": {
           "colorbar": {
            "outlinewidth": 0,
            "ticks": ""
           }
          },
          "colorscale": {
           "diverging": [
            [
             0,
             "#8e0152"
            ],
            [
             0.1,
             "#c51b7d"
            ],
            [
             0.2,
             "#de77ae"
            ],
            [
             0.3,
             "#f1b6da"
            ],
            [
             0.4,
             "#fde0ef"
            ],
            [
             0.5,
             "#f7f7f7"
            ],
            [
             0.6,
             "#e6f5d0"
            ],
            [
             0.7,
             "#b8e186"
            ],
            [
             0.8,
             "#7fbc41"
            ],
            [
             0.9,
             "#4d9221"
            ],
            [
             1,
             "#276419"
            ]
           ],
           "sequential": [
            [
             0,
             "#0d0887"
            ],
            [
             0.1111111111111111,
             "#46039f"
            ],
            [
             0.2222222222222222,
             "#7201a8"
            ],
            [
             0.3333333333333333,
             "#9c179e"
            ],
            [
             0.4444444444444444,
             "#bd3786"
            ],
            [
             0.5555555555555556,
             "#d8576b"
            ],
            [
             0.6666666666666666,
             "#ed7953"
            ],
            [
             0.7777777777777778,
             "#fb9f3a"
            ],
            [
             0.8888888888888888,
             "#fdca26"
            ],
            [
             1,
             "#f0f921"
            ]
           ],
           "sequentialminus": [
            [
             0,
             "#0d0887"
            ],
            [
             0.1111111111111111,
             "#46039f"
            ],
            [
             0.2222222222222222,
             "#7201a8"
            ],
            [
             0.3333333333333333,
             "#9c179e"
            ],
            [
             0.4444444444444444,
             "#bd3786"
            ],
            [
             0.5555555555555556,
             "#d8576b"
            ],
            [
             0.6666666666666666,
             "#ed7953"
            ],
            [
             0.7777777777777778,
             "#fb9f3a"
            ],
            [
             0.8888888888888888,
             "#fdca26"
            ],
            [
             1,
             "#f0f921"
            ]
           ]
          },
          "colorway": [
           "#636efa",
           "#EF553B",
           "#00cc96",
           "#ab63fa",
           "#FFA15A",
           "#19d3f3",
           "#FF6692",
           "#B6E880",
           "#FF97FF",
           "#FECB52"
          ],
          "font": {
           "color": "#2a3f5f"
          },
          "geo": {
           "bgcolor": "white",
           "lakecolor": "white",
           "landcolor": "#E5ECF6",
           "showlakes": true,
           "showland": true,
           "subunitcolor": "white"
          },
          "hoverlabel": {
           "align": "left"
          },
          "hovermode": "closest",
          "mapbox": {
           "style": "light"
          },
          "paper_bgcolor": "white",
          "plot_bgcolor": "#E5ECF6",
          "polar": {
           "angularaxis": {
            "gridcolor": "white",
            "linecolor": "white",
            "ticks": ""
           },
           "bgcolor": "#E5ECF6",
           "radialaxis": {
            "gridcolor": "white",
            "linecolor": "white",
            "ticks": ""
           }
          },
          "scene": {
           "xaxis": {
            "backgroundcolor": "#E5ECF6",
            "gridcolor": "white",
            "gridwidth": 2,
            "linecolor": "white",
            "showbackground": true,
            "ticks": "",
            "zerolinecolor": "white"
           },
           "yaxis": {
            "backgroundcolor": "#E5ECF6",
            "gridcolor": "white",
            "gridwidth": 2,
            "linecolor": "white",
            "showbackground": true,
            "ticks": "",
            "zerolinecolor": "white"
           },
           "zaxis": {
            "backgroundcolor": "#E5ECF6",
            "gridcolor": "white",
            "gridwidth": 2,
            "linecolor": "white",
            "showbackground": true,
            "ticks": "",
            "zerolinecolor": "white"
           }
          },
          "shapedefaults": {
           "line": {
            "color": "#2a3f5f"
           }
          },
          "ternary": {
           "aaxis": {
            "gridcolor": "white",
            "linecolor": "white",
            "ticks": ""
           },
           "baxis": {
            "gridcolor": "white",
            "linecolor": "white",
            "ticks": ""
           },
           "bgcolor": "#E5ECF6",
           "caxis": {
            "gridcolor": "white",
            "linecolor": "white",
            "ticks": ""
           }
          },
          "title": {
           "x": 0.05
          },
          "xaxis": {
           "automargin": true,
           "gridcolor": "white",
           "linecolor": "white",
           "ticks": "",
           "title": {
            "standoff": 15
           },
           "zerolinecolor": "white",
           "zerolinewidth": 2
          },
          "yaxis": {
           "automargin": true,
           "gridcolor": "white",
           "linecolor": "white",
           "ticks": "",
           "title": {
            "standoff": 15
           },
           "zerolinecolor": "white",
           "zerolinewidth": 2
          }
         }
        },
        "xaxis": {
         "anchor": "y",
         "domain": [
          0,
          0.31999999999999995
         ],
         "title": {
          "text": "False Positive Rate"
         }
        },
        "xaxis2": {
         "anchor": "y2",
         "domain": [
          0.33999999999999997,
          0.6599999999999999
         ],
         "matches": "x",
         "title": {
          "text": "False Positive Rate"
         }
        },
        "xaxis3": {
         "anchor": "y3",
         "domain": [
          0.6799999999999999,
          0.9999999999999999
         ],
         "matches": "x",
         "title": {
          "text": "False Positive Rate"
         }
        },
        "yaxis": {
         "anchor": "x",
         "domain": [
          0,
          1
         ],
         "title": {
          "text": "True Positive Rate"
         }
        },
        "yaxis2": {
         "anchor": "x2",
         "domain": [
          0,
          1
         ],
         "matches": "y",
         "showticklabels": false
        },
        "yaxis3": {
         "anchor": "x3",
         "domain": [
          0,
          1
         ],
         "matches": "y",
         "showticklabels": false
        }
       }
      }
     },
     "metadata": {},
     "output_type": "display_data"
    }
   ],
   "source": [
    "# Visualize ROC curve\n",
    "fig = px.line(roc_df,y='True Positive Rate',x='False Positive Rate',facet_col='method',color='method')\n",
    "fig"
   ]
  },
  {
   "cell_type": "code",
   "execution_count": 194,
   "metadata": {},
   "outputs": [],
   "source": [
    "# roc_curve\n",
    "p_full, r_full, _ = precision_recall_curve(y_df_test,y_pred_full[:,1])\n",
    "p_FS, r_FS, _ = precision_recall_curve(y_df_test,y_pred_FS[:,1])\n",
    "p_BS, r_BS, _ = precision_recall_curve(y_df_test,y_pred_BS[:,1])\n",
    "\n",
    "pr_df = pd.DataFrame(\n",
    "    {\n",
    "        'Precision':np.hstack([p_full,p_FS,p_BS]),\n",
    "        'Recall':np.hstack([r_full,r_FS,r_BS]),\n",
    "        'method':['Full Model']*len(p_full)+['Forward Selection']*len(p_FS)+['Backward Selection']*len(p_BS)\n",
    "    }\n",
    ")"
   ]
  },
  {
   "cell_type": "code",
   "execution_count": 195,
   "metadata": {},
   "outputs": [
    {
     "data": {
      "application/vnd.plotly.v1+json": {
       "config": {
        "plotlyServerURL": "https://plot.ly"
       },
       "data": [
        {
         "hovertemplate": "method=Full Model<br>Recall=%{x}<br>Precision=%{y}<extra></extra>",
         "legendgroup": "Full Model",
         "line": {
          "color": "#636efa",
          "dash": "solid"
         },
         "marker": {
          "symbol": "circle"
         },
         "mode": "lines",
         "name": "Full Model",
         "orientation": "v",
         "showlegend": true,
         "type": "scatter",
         "x": [
          1,
          1,
          1,
          1,
          1,
          1,
          1,
          1,
          1,
          1,
          1,
          1,
          1,
          1,
          1,
          1,
          1,
          1,
          1,
          1,
          1,
          1,
          1,
          1,
          1,
          1,
          1,
          1,
          1,
          1,
          1,
          1,
          1,
          1,
          1,
          1,
          1,
          1,
          1,
          1,
          1,
          1,
          1,
          1,
          1,
          1,
          1,
          1,
          1,
          1,
          1,
          1,
          1,
          1,
          1,
          1,
          1,
          1,
          1,
          1,
          1,
          1,
          1,
          1,
          1,
          1,
          1,
          1,
          1,
          1,
          1,
          1,
          1,
          1,
          1,
          1,
          1,
          1,
          1,
          1,
          1,
          1,
          1,
          1,
          1,
          1,
          1,
          1,
          1,
          1,
          1,
          1,
          1,
          0.9924242424242424,
          0.9924242424242424,
          0.9924242424242424,
          0.9848484848484849,
          0.9848484848484849,
          0.9772727272727273,
          0.9696969696969697,
          0.9696969696969697,
          0.9621212121212122,
          0.9545454545454546,
          0.946969696969697,
          0.9393939393939394,
          0.9318181818181818,
          0.9242424242424242,
          0.9166666666666666,
          0.9090909090909091,
          0.9015151515151515,
          0.8939393939393939,
          0.8863636363636364,
          0.8787878787878788,
          0.8712121212121212,
          0.8712121212121212,
          0.8636363636363636,
          0.8560606060606061,
          0.8484848484848485,
          0.8484848484848485,
          0.8409090909090909,
          0.8333333333333334,
          0.8257575757575758,
          0.8181818181818182,
          0.8106060606060606,
          0.803030303030303,
          0.7954545454545454,
          0.7878787878787878,
          0.7803030303030303,
          0.7727272727272727,
          0.7651515151515151,
          0.7575757575757576,
          0.75,
          0.7424242424242424,
          0.7348484848484849,
          0.7272727272727273,
          0.7196969696969697,
          0.7121212121212122,
          0.7045454545454546,
          0.696969696969697,
          0.6893939393939394,
          0.6818181818181818,
          0.6742424242424242,
          0.6666666666666666,
          0.6590909090909091,
          0.6515151515151515,
          0.6439393939393939,
          0.6363636363636364,
          0.6287878787878788,
          0.6212121212121212,
          0.6136363636363636,
          0.6060606060606061,
          0.5984848484848485,
          0.5909090909090909,
          0.5833333333333334,
          0.5757575757575758,
          0.5681818181818182,
          0.5606060606060606,
          0.553030303030303,
          0.5454545454545454,
          0.5378787878787878,
          0.5378787878787878,
          0.5303030303030303,
          0.5227272727272727,
          0.5151515151515151,
          0.5075757575757576,
          0.5,
          0.49242424242424243,
          0.48484848484848486,
          0.4772727272727273,
          0.4696969696969697,
          0.4621212121212121,
          0.45454545454545453,
          0.44696969696969696,
          0.4393939393939394,
          0.4318181818181818,
          0.42424242424242425,
          0.4166666666666667,
          0.4090909090909091,
          0.4015151515151515,
          0.3939393939393939,
          0.38636363636363635,
          0.3787878787878788,
          0.3712121212121212,
          0.36363636363636365,
          0.3560606060606061,
          0.3484848484848485,
          0.3409090909090909,
          0.3333333333333333,
          0.32575757575757575,
          0.3181818181818182,
          0.3106060606060606,
          0.30303030303030304,
          0.29545454545454547,
          0.2878787878787879,
          0.2803030303030303,
          0.2727272727272727,
          0.26515151515151514,
          0.25757575757575757,
          0.25,
          0.24242424242424243,
          0.23484848484848486,
          0.22727272727272727,
          0.2196969696969697,
          0.21212121212121213,
          0.20454545454545456,
          0.19696969696969696,
          0.1893939393939394,
          0.18181818181818182,
          0.17424242424242425,
          0.16666666666666666,
          0.1590909090909091,
          0.15151515151515152,
          0.14393939393939395,
          0.13636363636363635,
          0.12878787878787878,
          0.12121212121212122,
          0.11363636363636363,
          0.10606060606060606,
          0.09848484848484848,
          0.09090909090909091,
          0.08333333333333333,
          0.07575757575757576,
          0.06818181818181818,
          0.06060606060606061,
          0.05303030303030303,
          0.045454545454545456,
          0.03787878787878788,
          0.030303030303030304,
          0.022727272727272728,
          0.015151515151515152,
          0.007575757575757576,
          0
         ],
         "xaxis": "x",
         "y": [
          0.5714285714285714,
          0.5739130434782609,
          0.5764192139737991,
          0.5789473684210527,
          0.5814977973568282,
          0.584070796460177,
          0.5866666666666667,
          0.5892857142857143,
          0.5919282511210763,
          0.5945945945945946,
          0.5972850678733032,
          0.6,
          0.6027397260273972,
          0.6055045871559633,
          0.6082949308755761,
          0.6111111111111112,
          0.6139534883720931,
          0.616822429906542,
          0.6197183098591549,
          0.6226415094339622,
          0.6255924170616114,
          0.6285714285714286,
          0.631578947368421,
          0.6346153846153846,
          0.6376811594202898,
          0.6407766990291263,
          0.6439024390243903,
          0.6470588235294118,
          0.6502463054187192,
          0.6534653465346535,
          0.6567164179104478,
          0.66,
          0.6633165829145728,
          0.6666666666666666,
          0.6700507614213198,
          0.673469387755102,
          0.676923076923077,
          0.6804123711340206,
          0.6839378238341969,
          0.6875,
          0.6910994764397905,
          0.6947368421052632,
          0.6984126984126984,
          0.7021276595744681,
          0.7058823529411765,
          0.7096774193548387,
          0.7135135135135136,
          0.717391304347826,
          0.7213114754098361,
          0.7252747252747253,
          0.7292817679558011,
          0.7333333333333333,
          0.7374301675977654,
          0.7415730337078652,
          0.7457627118644068,
          0.75,
          0.7542857142857143,
          0.7586206896551724,
          0.7630057803468208,
          0.7674418604651163,
          0.7719298245614035,
          0.7764705882352941,
          0.7810650887573964,
          0.7857142857142857,
          0.7904191616766467,
          0.7951807228915663,
          0.8,
          0.8048780487804879,
          0.8098159509202454,
          0.8148148148148148,
          0.8198757763975155,
          0.825,
          0.8301886792452831,
          0.8354430379746836,
          0.8407643312101911,
          0.8461538461538461,
          0.8516129032258064,
          0.8571428571428571,
          0.8627450980392157,
          0.868421052631579,
          0.8741721854304636,
          0.88,
          0.8859060402684564,
          0.8918918918918919,
          0.8979591836734694,
          0.9041095890410958,
          0.9103448275862069,
          0.9166666666666666,
          0.9230769230769231,
          0.9295774647887324,
          0.9361702127659575,
          0.9428571428571428,
          0.9496402877697842,
          0.9492753623188406,
          0.9562043795620438,
          0.9632352941176471,
          0.9629629629629629,
          0.9701492537313433,
          0.9699248120300752,
          0.9696969696969697,
          0.9770992366412213,
          0.9769230769230769,
          0.9767441860465116,
          0.9765625,
          0.9763779527559056,
          0.9761904761904762,
          0.976,
          0.9758064516129032,
          0.975609756097561,
          0.9754098360655737,
          0.9752066115702479,
          0.975,
          0.9747899159663865,
          0.9745762711864406,
          0.9829059829059829,
          0.9827586206896551,
          0.9826086956521739,
          0.9824561403508771,
          0.9911504424778761,
          0.9910714285714286,
          0.990990990990991,
          0.990909090909091,
          0.9908256880733946,
          0.9907407407407407,
          0.9906542056074766,
          0.9905660377358491,
          0.9904761904761905,
          0.9903846153846154,
          0.9902912621359223,
          0.9901960784313726,
          0.9900990099009901,
          0.99,
          0.98989898989899,
          0.9897959183673469,
          0.9896907216494846,
          0.9895833333333334,
          0.9894736842105263,
          0.9893617021276596,
          0.989247311827957,
          0.9891304347826086,
          0.989010989010989,
          0.9888888888888889,
          0.9887640449438202,
          0.9886363636363636,
          0.9885057471264368,
          0.9883720930232558,
          0.9882352941176471,
          0.9880952380952381,
          0.9879518072289156,
          0.9878048780487805,
          0.9876543209876543,
          0.9875,
          0.9873417721518988,
          0.9871794871794872,
          0.987012987012987,
          0.9868421052631579,
          0.9866666666666667,
          0.9864864864864865,
          0.9863013698630136,
          0.9861111111111112,
          1,
          1,
          1,
          1,
          1,
          1,
          1,
          1,
          1,
          1,
          1,
          1,
          1,
          1,
          1,
          1,
          1,
          1,
          1,
          1,
          1,
          1,
          1,
          1,
          1,
          1,
          1,
          1,
          1,
          1,
          1,
          1,
          1,
          1,
          1,
          1,
          1,
          1,
          1,
          1,
          1,
          1,
          1,
          1,
          1,
          1,
          1,
          1,
          1,
          1,
          1,
          1,
          1,
          1,
          1,
          1,
          1,
          1,
          1,
          1,
          1,
          1,
          1,
          1,
          1,
          1,
          1,
          1,
          1,
          1,
          1,
          1
         ],
         "yaxis": "y"
        },
        {
         "hovertemplate": "method=Forward Selection<br>Recall=%{x}<br>Precision=%{y}<extra></extra>",
         "legendgroup": "Forward Selection",
         "line": {
          "color": "#EF553B",
          "dash": "solid"
         },
         "marker": {
          "symbol": "circle"
         },
         "mode": "lines",
         "name": "Forward Selection",
         "orientation": "v",
         "showlegend": true,
         "type": "scatter",
         "x": [
          1,
          1,
          1,
          1,
          1,
          1,
          1,
          1,
          1,
          1,
          1,
          1,
          1,
          1,
          1,
          1,
          1,
          1,
          1,
          1,
          1,
          1,
          1,
          1,
          1,
          1,
          1,
          1,
          1,
          1,
          1,
          1,
          1,
          1,
          1,
          1,
          1,
          1,
          1,
          1,
          1,
          1,
          1,
          1,
          1,
          1,
          1,
          1,
          1,
          1,
          1,
          1,
          1,
          1,
          1,
          1,
          1,
          1,
          1,
          1,
          1,
          1,
          1,
          1,
          1,
          1,
          1,
          1,
          1,
          1,
          1,
          1,
          1,
          1,
          1,
          1,
          1,
          1,
          1,
          1,
          1,
          1,
          1,
          1,
          1,
          1,
          1,
          1,
          0.9924242424242424,
          0.9848484848484849,
          0.9848484848484849,
          0.9848484848484849,
          0.9848484848484849,
          0.9772727272727273,
          0.9696969696969697,
          0.9696969696969697,
          0.9696969696969697,
          0.9621212121212122,
          0.9621212121212122,
          0.9545454545454546,
          0.9545454545454546,
          0.946969696969697,
          0.946969696969697,
          0.9393939393939394,
          0.9318181818181818,
          0.9242424242424242,
          0.9166666666666666,
          0.9090909090909091,
          0.9015151515151515,
          0.8939393939393939,
          0.8863636363636364,
          0.8787878787878788,
          0.8712121212121212,
          0.8712121212121212,
          0.8636363636363636,
          0.8560606060606061,
          0.8484848484848485,
          0.8409090909090909,
          0.8333333333333334,
          0.8257575757575758,
          0.8181818181818182,
          0.8106060606060606,
          0.8106060606060606,
          0.803030303030303,
          0.803030303030303,
          0.7954545454545454,
          0.7878787878787878,
          0.7803030303030303,
          0.7727272727272727,
          0.7651515151515151,
          0.7575757575757576,
          0.75,
          0.7424242424242424,
          0.7348484848484849,
          0.7272727272727273,
          0.7196969696969697,
          0.7121212121212122,
          0.7045454545454546,
          0.696969696969697,
          0.6893939393939394,
          0.6818181818181818,
          0.6742424242424242,
          0.6666666666666666,
          0.6590909090909091,
          0.6515151515151515,
          0.6439393939393939,
          0.6363636363636364,
          0.6287878787878788,
          0.6212121212121212,
          0.6212121212121212,
          0.6136363636363636,
          0.6060606060606061,
          0.5984848484848485,
          0.5909090909090909,
          0.5833333333333334,
          0.5757575757575758,
          0.5681818181818182,
          0.5606060606060606,
          0.553030303030303,
          0.5454545454545454,
          0.5378787878787878,
          0.5303030303030303,
          0.5227272727272727,
          0.5151515151515151,
          0.5075757575757576,
          0.5,
          0.49242424242424243,
          0.48484848484848486,
          0.4772727272727273,
          0.4696969696969697,
          0.4621212121212121,
          0.45454545454545453,
          0.44696969696969696,
          0.4393939393939394,
          0.4318181818181818,
          0.42424242424242425,
          0.4166666666666667,
          0.4090909090909091,
          0.4015151515151515,
          0.3939393939393939,
          0.38636363636363635,
          0.3787878787878788,
          0.3712121212121212,
          0.36363636363636365,
          0.3560606060606061,
          0.3484848484848485,
          0.3409090909090909,
          0.3333333333333333,
          0.32575757575757575,
          0.3181818181818182,
          0.3106060606060606,
          0.30303030303030304,
          0.29545454545454547,
          0.2878787878787879,
          0.2803030303030303,
          0.2727272727272727,
          0.26515151515151514,
          0.25757575757575757,
          0.25,
          0.24242424242424243,
          0.23484848484848486,
          0.22727272727272727,
          0.2196969696969697,
          0.21212121212121213,
          0.20454545454545456,
          0.19696969696969696,
          0.1893939393939394,
          0.18181818181818182,
          0.17424242424242425,
          0.16666666666666666,
          0.1590909090909091,
          0.15151515151515152,
          0.14393939393939395,
          0.13636363636363635,
          0.12878787878787878,
          0.12121212121212122,
          0.11363636363636363,
          0.10606060606060606,
          0.09848484848484848,
          0.09090909090909091,
          0.08333333333333333,
          0.07575757575757576,
          0.06818181818181818,
          0.06060606060606061,
          0.05303030303030303,
          0.045454545454545456,
          0.03787878787878788,
          0.030303030303030304,
          0.022727272727272728,
          0.015151515151515152,
          0.007575757575757576,
          0
         ],
         "xaxis": "x2",
         "y": [
          0.5714285714285714,
          0.5739130434782609,
          0.5764192139737991,
          0.5789473684210527,
          0.5814977973568282,
          0.584070796460177,
          0.5866666666666667,
          0.5892857142857143,
          0.5919282511210763,
          0.5945945945945946,
          0.5972850678733032,
          0.6,
          0.6027397260273972,
          0.6055045871559633,
          0.6082949308755761,
          0.6111111111111112,
          0.6139534883720931,
          0.616822429906542,
          0.6197183098591549,
          0.6226415094339622,
          0.6255924170616114,
          0.6285714285714286,
          0.631578947368421,
          0.6346153846153846,
          0.6376811594202898,
          0.6407766990291263,
          0.6439024390243903,
          0.6470588235294118,
          0.6502463054187192,
          0.6534653465346535,
          0.6567164179104478,
          0.66,
          0.6633165829145728,
          0.6666666666666666,
          0.6700507614213198,
          0.673469387755102,
          0.676923076923077,
          0.6804123711340206,
          0.6839378238341969,
          0.6875,
          0.6910994764397905,
          0.6947368421052632,
          0.6984126984126984,
          0.7021276595744681,
          0.7058823529411765,
          0.7096774193548387,
          0.7135135135135136,
          0.717391304347826,
          0.7213114754098361,
          0.7252747252747253,
          0.7292817679558011,
          0.7333333333333333,
          0.7374301675977654,
          0.7415730337078652,
          0.7457627118644068,
          0.75,
          0.7542857142857143,
          0.7586206896551724,
          0.7630057803468208,
          0.7674418604651163,
          0.7719298245614035,
          0.7764705882352941,
          0.7810650887573964,
          0.7857142857142857,
          0.7904191616766467,
          0.7951807228915663,
          0.8,
          0.8048780487804879,
          0.8098159509202454,
          0.8148148148148148,
          0.8198757763975155,
          0.825,
          0.8301886792452831,
          0.8354430379746836,
          0.8407643312101911,
          0.8461538461538461,
          0.8516129032258064,
          0.8571428571428571,
          0.8627450980392157,
          0.868421052631579,
          0.8741721854304636,
          0.88,
          0.8859060402684564,
          0.8918918918918919,
          0.8979591836734694,
          0.9041095890410958,
          0.9103448275862069,
          0.9166666666666666,
          0.916083916083916,
          0.9154929577464789,
          0.9219858156028369,
          0.9285714285714286,
          0.935251798561151,
          0.9347826086956522,
          0.9343065693430657,
          0.9411764705882353,
          0.9481481481481482,
          0.9477611940298507,
          0.9548872180451128,
          0.9545454545454546,
          0.9618320610687023,
          0.9615384615384616,
          0.9689922480620154,
          0.96875,
          0.968503937007874,
          0.9682539682539683,
          0.968,
          0.967741935483871,
          0.967479674796748,
          0.9672131147540983,
          0.9669421487603306,
          0.9666666666666667,
          0.9663865546218487,
          0.9745762711864406,
          0.9743589743589743,
          0.9741379310344828,
          0.9739130434782609,
          0.9736842105263158,
          0.9734513274336283,
          0.9732142857142857,
          0.972972972972973,
          0.9727272727272728,
          0.981651376146789,
          0.9814814814814815,
          0.9906542056074766,
          0.9905660377358491,
          0.9904761904761905,
          0.9903846153846154,
          0.9902912621359223,
          0.9901960784313726,
          0.9900990099009901,
          0.99,
          0.98989898989899,
          0.9897959183673469,
          0.9896907216494846,
          0.9895833333333334,
          0.9894736842105263,
          0.9893617021276596,
          0.989247311827957,
          0.9891304347826086,
          0.989010989010989,
          0.9888888888888889,
          0.9887640449438202,
          0.9886363636363636,
          0.9885057471264368,
          0.9883720930232558,
          0.9882352941176471,
          0.9880952380952381,
          0.9879518072289156,
          1,
          1,
          1,
          1,
          1,
          1,
          1,
          1,
          1,
          1,
          1,
          1,
          1,
          1,
          1,
          1,
          1,
          1,
          1,
          1,
          1,
          1,
          1,
          1,
          1,
          1,
          1,
          1,
          1,
          1,
          1,
          1,
          1,
          1,
          1,
          1,
          1,
          1,
          1,
          1,
          1,
          1,
          1,
          1,
          1,
          1,
          1,
          1,
          1,
          1,
          1,
          1,
          1,
          1,
          1,
          1,
          1,
          1,
          1,
          1,
          1,
          1,
          1,
          1,
          1,
          1,
          1,
          1,
          1,
          1,
          1,
          1,
          1,
          1,
          1,
          1,
          1,
          1,
          1,
          1,
          1,
          1,
          1
         ],
         "yaxis": "y2"
        },
        {
         "hovertemplate": "method=Backward Selection<br>Recall=%{x}<br>Precision=%{y}<extra></extra>",
         "legendgroup": "Backward Selection",
         "line": {
          "color": "#00cc96",
          "dash": "solid"
         },
         "marker": {
          "symbol": "circle"
         },
         "mode": "lines",
         "name": "Backward Selection",
         "orientation": "v",
         "showlegend": true,
         "type": "scatter",
         "x": [
          1,
          1,
          1,
          1,
          1,
          1,
          1,
          1,
          1,
          1,
          1,
          1,
          1,
          1,
          1,
          1,
          1,
          1,
          1,
          1,
          1,
          1,
          1,
          1,
          1,
          1,
          1,
          1,
          1,
          1,
          1,
          1,
          1,
          1,
          1,
          1,
          1,
          1,
          1,
          1,
          1,
          1,
          1,
          1,
          1,
          1,
          1,
          1,
          1,
          1,
          1,
          1,
          1,
          1,
          1,
          1,
          1,
          1,
          1,
          1,
          1,
          1,
          1,
          1,
          1,
          1,
          1,
          1,
          1,
          1,
          1,
          1,
          1,
          1,
          1,
          1,
          1,
          1,
          1,
          1,
          1,
          1,
          1,
          1,
          1,
          1,
          1,
          1,
          1,
          1,
          0.9924242424242424,
          0.9924242424242424,
          0.9924242424242424,
          0.9848484848484849,
          0.9848484848484849,
          0.9772727272727273,
          0.9772727272727273,
          0.9696969696969697,
          0.9621212121212122,
          0.9545454545454546,
          0.9545454545454546,
          0.9545454545454546,
          0.946969696969697,
          0.9393939393939394,
          0.9318181818181818,
          0.9242424242424242,
          0.9166666666666666,
          0.9166666666666666,
          0.9090909090909091,
          0.9015151515151515,
          0.8939393939393939,
          0.8863636363636364,
          0.8787878787878788,
          0.8712121212121212,
          0.8636363636363636,
          0.8560606060606061,
          0.8484848484848485,
          0.8409090909090909,
          0.8333333333333334,
          0.8333333333333334,
          0.8257575757575758,
          0.8181818181818182,
          0.8106060606060606,
          0.803030303030303,
          0.803030303030303,
          0.7954545454545454,
          0.7878787878787878,
          0.7803030303030303,
          0.7727272727272727,
          0.7651515151515151,
          0.7575757575757576,
          0.75,
          0.7424242424242424,
          0.7348484848484849,
          0.7272727272727273,
          0.7196969696969697,
          0.7121212121212122,
          0.7045454545454546,
          0.696969696969697,
          0.6893939393939394,
          0.6818181818181818,
          0.6742424242424242,
          0.6666666666666666,
          0.6590909090909091,
          0.6515151515151515,
          0.6439393939393939,
          0.6363636363636364,
          0.6287878787878788,
          0.6212121212121212,
          0.6136363636363636,
          0.6060606060606061,
          0.5984848484848485,
          0.5909090909090909,
          0.5909090909090909,
          0.5833333333333334,
          0.5757575757575758,
          0.5681818181818182,
          0.5606060606060606,
          0.553030303030303,
          0.5454545454545454,
          0.5378787878787878,
          0.5303030303030303,
          0.5227272727272727,
          0.5151515151515151,
          0.5075757575757576,
          0.5,
          0.49242424242424243,
          0.48484848484848486,
          0.4772727272727273,
          0.4696969696969697,
          0.4621212121212121,
          0.45454545454545453,
          0.44696969696969696,
          0.4393939393939394,
          0.4318181818181818,
          0.42424242424242425,
          0.4166666666666667,
          0.4090909090909091,
          0.4015151515151515,
          0.3939393939393939,
          0.38636363636363635,
          0.3787878787878788,
          0.3712121212121212,
          0.36363636363636365,
          0.3560606060606061,
          0.3484848484848485,
          0.3409090909090909,
          0.3333333333333333,
          0.32575757575757575,
          0.3181818181818182,
          0.3106060606060606,
          0.30303030303030304,
          0.29545454545454547,
          0.2878787878787879,
          0.2803030303030303,
          0.2727272727272727,
          0.26515151515151514,
          0.25757575757575757,
          0.25,
          0.24242424242424243,
          0.23484848484848486,
          0.22727272727272727,
          0.2196969696969697,
          0.21212121212121213,
          0.20454545454545456,
          0.19696969696969696,
          0.1893939393939394,
          0.18181818181818182,
          0.17424242424242425,
          0.16666666666666666,
          0.1590909090909091,
          0.15151515151515152,
          0.14393939393939395,
          0.13636363636363635,
          0.12878787878787878,
          0.12121212121212122,
          0.11363636363636363,
          0.10606060606060606,
          0.09848484848484848,
          0.09090909090909091,
          0.08333333333333333,
          0.07575757575757576,
          0.06818181818181818,
          0.06060606060606061,
          0.05303030303030303,
          0.045454545454545456,
          0.03787878787878788,
          0.030303030303030304,
          0.022727272727272728,
          0.015151515151515152,
          0.007575757575757576,
          0
         ],
         "xaxis": "x3",
         "y": [
          0.5714285714285714,
          0.5739130434782609,
          0.5764192139737991,
          0.5789473684210527,
          0.5814977973568282,
          0.584070796460177,
          0.5866666666666667,
          0.5892857142857143,
          0.5919282511210763,
          0.5945945945945946,
          0.5972850678733032,
          0.6,
          0.6027397260273972,
          0.6055045871559633,
          0.6082949308755761,
          0.6111111111111112,
          0.6139534883720931,
          0.616822429906542,
          0.6197183098591549,
          0.6226415094339622,
          0.6255924170616114,
          0.6285714285714286,
          0.631578947368421,
          0.6346153846153846,
          0.6376811594202898,
          0.6407766990291263,
          0.6439024390243903,
          0.6470588235294118,
          0.6502463054187192,
          0.6534653465346535,
          0.6567164179104478,
          0.66,
          0.6633165829145728,
          0.6666666666666666,
          0.6700507614213198,
          0.673469387755102,
          0.676923076923077,
          0.6804123711340206,
          0.6839378238341969,
          0.6875,
          0.6910994764397905,
          0.6947368421052632,
          0.6984126984126984,
          0.7021276595744681,
          0.7058823529411765,
          0.7096774193548387,
          0.7135135135135136,
          0.717391304347826,
          0.7213114754098361,
          0.7252747252747253,
          0.7292817679558011,
          0.7333333333333333,
          0.7374301675977654,
          0.7415730337078652,
          0.7457627118644068,
          0.75,
          0.7542857142857143,
          0.7586206896551724,
          0.7630057803468208,
          0.7674418604651163,
          0.7719298245614035,
          0.7764705882352941,
          0.7810650887573964,
          0.7857142857142857,
          0.7904191616766467,
          0.7951807228915663,
          0.8,
          0.8048780487804879,
          0.8098159509202454,
          0.8148148148148148,
          0.8198757763975155,
          0.825,
          0.8301886792452831,
          0.8354430379746836,
          0.8407643312101911,
          0.8461538461538461,
          0.8516129032258064,
          0.8571428571428571,
          0.8627450980392157,
          0.868421052631579,
          0.8741721854304636,
          0.88,
          0.8859060402684564,
          0.8918918918918919,
          0.8979591836734694,
          0.9041095890410958,
          0.9103448275862069,
          0.9166666666666666,
          0.9230769230769231,
          0.9295774647887324,
          0.9290780141843972,
          0.9357142857142857,
          0.9424460431654677,
          0.9420289855072463,
          0.948905109489051,
          0.9485294117647058,
          0.9555555555555556,
          0.9552238805970149,
          0.9548872180451128,
          0.9545454545454546,
          0.9618320610687023,
          0.9692307692307692,
          0.9689922480620154,
          0.96875,
          0.968503937007874,
          0.9682539682539683,
          0.968,
          0.9758064516129032,
          0.975609756097561,
          0.9754098360655737,
          0.9752066115702479,
          0.975,
          0.9747899159663865,
          0.9745762711864406,
          0.9743589743589743,
          0.9741379310344828,
          0.9739130434782609,
          0.9736842105263158,
          0.9734513274336283,
          0.9821428571428571,
          0.9819819819819819,
          0.9818181818181818,
          0.981651376146789,
          0.9814814814814815,
          0.9906542056074766,
          0.9905660377358491,
          0.9904761904761905,
          0.9903846153846154,
          0.9902912621359223,
          0.9901960784313726,
          0.9900990099009901,
          0.99,
          0.98989898989899,
          0.9897959183673469,
          0.9896907216494846,
          0.9895833333333334,
          0.9894736842105263,
          0.9893617021276596,
          0.989247311827957,
          0.9891304347826086,
          0.989010989010989,
          0.9888888888888889,
          0.9887640449438202,
          0.9886363636363636,
          0.9885057471264368,
          0.9883720930232558,
          0.9882352941176471,
          0.9880952380952381,
          0.9879518072289156,
          0.9878048780487805,
          0.9876543209876543,
          0.9875,
          0.9873417721518988,
          1,
          1,
          1,
          1,
          1,
          1,
          1,
          1,
          1,
          1,
          1,
          1,
          1,
          1,
          1,
          1,
          1,
          1,
          1,
          1,
          1,
          1,
          1,
          1,
          1,
          1,
          1,
          1,
          1,
          1,
          1,
          1,
          1,
          1,
          1,
          1,
          1,
          1,
          1,
          1,
          1,
          1,
          1,
          1,
          1,
          1,
          1,
          1,
          1,
          1,
          1,
          1,
          1,
          1,
          1,
          1,
          1,
          1,
          1,
          1,
          1,
          1,
          1,
          1,
          1,
          1,
          1,
          1,
          1,
          1,
          1,
          1,
          1,
          1,
          1,
          1,
          1,
          1,
          1
         ],
         "yaxis": "y3"
        }
       ],
       "layout": {
        "annotations": [
         {
          "font": {},
          "showarrow": false,
          "text": "method=Full Model",
          "x": 0.15999999999999998,
          "xanchor": "center",
          "xref": "paper",
          "y": 1,
          "yanchor": "bottom",
          "yref": "paper"
         },
         {
          "font": {},
          "showarrow": false,
          "text": "method=Forward Selection",
          "x": 0.49999999999999994,
          "xanchor": "center",
          "xref": "paper",
          "y": 1,
          "yanchor": "bottom",
          "yref": "paper"
         },
         {
          "font": {},
          "showarrow": false,
          "text": "method=Backward Selection",
          "x": 0.8399999999999999,
          "xanchor": "center",
          "xref": "paper",
          "y": 1,
          "yanchor": "bottom",
          "yref": "paper"
         }
        ],
        "legend": {
         "title": {
          "text": "method"
         },
         "tracegroupgap": 0
        },
        "margin": {
         "t": 60
        },
        "template": {
         "data": {
          "bar": [
           {
            "error_x": {
             "color": "#2a3f5f"
            },
            "error_y": {
             "color": "#2a3f5f"
            },
            "marker": {
             "line": {
              "color": "#E5ECF6",
              "width": 0.5
             },
             "pattern": {
              "fillmode": "overlay",
              "size": 10,
              "solidity": 0.2
             }
            },
            "type": "bar"
           }
          ],
          "barpolar": [
           {
            "marker": {
             "line": {
              "color": "#E5ECF6",
              "width": 0.5
             },
             "pattern": {
              "fillmode": "overlay",
              "size": 10,
              "solidity": 0.2
             }
            },
            "type": "barpolar"
           }
          ],
          "carpet": [
           {
            "aaxis": {
             "endlinecolor": "#2a3f5f",
             "gridcolor": "white",
             "linecolor": "white",
             "minorgridcolor": "white",
             "startlinecolor": "#2a3f5f"
            },
            "baxis": {
             "endlinecolor": "#2a3f5f",
             "gridcolor": "white",
             "linecolor": "white",
             "minorgridcolor": "white",
             "startlinecolor": "#2a3f5f"
            },
            "type": "carpet"
           }
          ],
          "choropleth": [
           {
            "colorbar": {
             "outlinewidth": 0,
             "ticks": ""
            },
            "type": "choropleth"
           }
          ],
          "contour": [
           {
            "colorbar": {
             "outlinewidth": 0,
             "ticks": ""
            },
            "colorscale": [
             [
              0,
              "#0d0887"
             ],
             [
              0.1111111111111111,
              "#46039f"
             ],
             [
              0.2222222222222222,
              "#7201a8"
             ],
             [
              0.3333333333333333,
              "#9c179e"
             ],
             [
              0.4444444444444444,
              "#bd3786"
             ],
             [
              0.5555555555555556,
              "#d8576b"
             ],
             [
              0.6666666666666666,
              "#ed7953"
             ],
             [
              0.7777777777777778,
              "#fb9f3a"
             ],
             [
              0.8888888888888888,
              "#fdca26"
             ],
             [
              1,
              "#f0f921"
             ]
            ],
            "type": "contour"
           }
          ],
          "contourcarpet": [
           {
            "colorbar": {
             "outlinewidth": 0,
             "ticks": ""
            },
            "type": "contourcarpet"
           }
          ],
          "heatmap": [
           {
            "colorbar": {
             "outlinewidth": 0,
             "ticks": ""
            },
            "colorscale": [
             [
              0,
              "#0d0887"
             ],
             [
              0.1111111111111111,
              "#46039f"
             ],
             [
              0.2222222222222222,
              "#7201a8"
             ],
             [
              0.3333333333333333,
              "#9c179e"
             ],
             [
              0.4444444444444444,
              "#bd3786"
             ],
             [
              0.5555555555555556,
              "#d8576b"
             ],
             [
              0.6666666666666666,
              "#ed7953"
             ],
             [
              0.7777777777777778,
              "#fb9f3a"
             ],
             [
              0.8888888888888888,
              "#fdca26"
             ],
             [
              1,
              "#f0f921"
             ]
            ],
            "type": "heatmap"
           }
          ],
          "heatmapgl": [
           {
            "colorbar": {
             "outlinewidth": 0,
             "ticks": ""
            },
            "colorscale": [
             [
              0,
              "#0d0887"
             ],
             [
              0.1111111111111111,
              "#46039f"
             ],
             [
              0.2222222222222222,
              "#7201a8"
             ],
             [
              0.3333333333333333,
              "#9c179e"
             ],
             [
              0.4444444444444444,
              "#bd3786"
             ],
             [
              0.5555555555555556,
              "#d8576b"
             ],
             [
              0.6666666666666666,
              "#ed7953"
             ],
             [
              0.7777777777777778,
              "#fb9f3a"
             ],
             [
              0.8888888888888888,
              "#fdca26"
             ],
             [
              1,
              "#f0f921"
             ]
            ],
            "type": "heatmapgl"
           }
          ],
          "histogram": [
           {
            "marker": {
             "pattern": {
              "fillmode": "overlay",
              "size": 10,
              "solidity": 0.2
             }
            },
            "type": "histogram"
           }
          ],
          "histogram2d": [
           {
            "colorbar": {
             "outlinewidth": 0,
             "ticks": ""
            },
            "colorscale": [
             [
              0,
              "#0d0887"
             ],
             [
              0.1111111111111111,
              "#46039f"
             ],
             [
              0.2222222222222222,
              "#7201a8"
             ],
             [
              0.3333333333333333,
              "#9c179e"
             ],
             [
              0.4444444444444444,
              "#bd3786"
             ],
             [
              0.5555555555555556,
              "#d8576b"
             ],
             [
              0.6666666666666666,
              "#ed7953"
             ],
             [
              0.7777777777777778,
              "#fb9f3a"
             ],
             [
              0.8888888888888888,
              "#fdca26"
             ],
             [
              1,
              "#f0f921"
             ]
            ],
            "type": "histogram2d"
           }
          ],
          "histogram2dcontour": [
           {
            "colorbar": {
             "outlinewidth": 0,
             "ticks": ""
            },
            "colorscale": [
             [
              0,
              "#0d0887"
             ],
             [
              0.1111111111111111,
              "#46039f"
             ],
             [
              0.2222222222222222,
              "#7201a8"
             ],
             [
              0.3333333333333333,
              "#9c179e"
             ],
             [
              0.4444444444444444,
              "#bd3786"
             ],
             [
              0.5555555555555556,
              "#d8576b"
             ],
             [
              0.6666666666666666,
              "#ed7953"
             ],
             [
              0.7777777777777778,
              "#fb9f3a"
             ],
             [
              0.8888888888888888,
              "#fdca26"
             ],
             [
              1,
              "#f0f921"
             ]
            ],
            "type": "histogram2dcontour"
           }
          ],
          "mesh3d": [
           {
            "colorbar": {
             "outlinewidth": 0,
             "ticks": ""
            },
            "type": "mesh3d"
           }
          ],
          "parcoords": [
           {
            "line": {
             "colorbar": {
              "outlinewidth": 0,
              "ticks": ""
             }
            },
            "type": "parcoords"
           }
          ],
          "pie": [
           {
            "automargin": true,
            "type": "pie"
           }
          ],
          "scatter": [
           {
            "fillpattern": {
             "fillmode": "overlay",
             "size": 10,
             "solidity": 0.2
            },
            "type": "scatter"
           }
          ],
          "scatter3d": [
           {
            "line": {
             "colorbar": {
              "outlinewidth": 0,
              "ticks": ""
             }
            },
            "marker": {
             "colorbar": {
              "outlinewidth": 0,
              "ticks": ""
             }
            },
            "type": "scatter3d"
           }
          ],
          "scattercarpet": [
           {
            "marker": {
             "colorbar": {
              "outlinewidth": 0,
              "ticks": ""
             }
            },
            "type": "scattercarpet"
           }
          ],
          "scattergeo": [
           {
            "marker": {
             "colorbar": {
              "outlinewidth": 0,
              "ticks": ""
             }
            },
            "type": "scattergeo"
           }
          ],
          "scattergl": [
           {
            "marker": {
             "colorbar": {
              "outlinewidth": 0,
              "ticks": ""
             }
            },
            "type": "scattergl"
           }
          ],
          "scattermapbox": [
           {
            "marker": {
             "colorbar": {
              "outlinewidth": 0,
              "ticks": ""
             }
            },
            "type": "scattermapbox"
           }
          ],
          "scatterpolar": [
           {
            "marker": {
             "colorbar": {
              "outlinewidth": 0,
              "ticks": ""
             }
            },
            "type": "scatterpolar"
           }
          ],
          "scatterpolargl": [
           {
            "marker": {
             "colorbar": {
              "outlinewidth": 0,
              "ticks": ""
             }
            },
            "type": "scatterpolargl"
           }
          ],
          "scatterternary": [
           {
            "marker": {
             "colorbar": {
              "outlinewidth": 0,
              "ticks": ""
             }
            },
            "type": "scatterternary"
           }
          ],
          "surface": [
           {
            "colorbar": {
             "outlinewidth": 0,
             "ticks": ""
            },
            "colorscale": [
             [
              0,
              "#0d0887"
             ],
             [
              0.1111111111111111,
              "#46039f"
             ],
             [
              0.2222222222222222,
              "#7201a8"
             ],
             [
              0.3333333333333333,
              "#9c179e"
             ],
             [
              0.4444444444444444,
              "#bd3786"
             ],
             [
              0.5555555555555556,
              "#d8576b"
             ],
             [
              0.6666666666666666,
              "#ed7953"
             ],
             [
              0.7777777777777778,
              "#fb9f3a"
             ],
             [
              0.8888888888888888,
              "#fdca26"
             ],
             [
              1,
              "#f0f921"
             ]
            ],
            "type": "surface"
           }
          ],
          "table": [
           {
            "cells": {
             "fill": {
              "color": "#EBF0F8"
             },
             "line": {
              "color": "white"
             }
            },
            "header": {
             "fill": {
              "color": "#C8D4E3"
             },
             "line": {
              "color": "white"
             }
            },
            "type": "table"
           }
          ]
         },
         "layout": {
          "annotationdefaults": {
           "arrowcolor": "#2a3f5f",
           "arrowhead": 0,
           "arrowwidth": 1
          },
          "autotypenumbers": "strict",
          "coloraxis": {
           "colorbar": {
            "outlinewidth": 0,
            "ticks": ""
           }
          },
          "colorscale": {
           "diverging": [
            [
             0,
             "#8e0152"
            ],
            [
             0.1,
             "#c51b7d"
            ],
            [
             0.2,
             "#de77ae"
            ],
            [
             0.3,
             "#f1b6da"
            ],
            [
             0.4,
             "#fde0ef"
            ],
            [
             0.5,
             "#f7f7f7"
            ],
            [
             0.6,
             "#e6f5d0"
            ],
            [
             0.7,
             "#b8e186"
            ],
            [
             0.8,
             "#7fbc41"
            ],
            [
             0.9,
             "#4d9221"
            ],
            [
             1,
             "#276419"
            ]
           ],
           "sequential": [
            [
             0,
             "#0d0887"
            ],
            [
             0.1111111111111111,
             "#46039f"
            ],
            [
             0.2222222222222222,
             "#7201a8"
            ],
            [
             0.3333333333333333,
             "#9c179e"
            ],
            [
             0.4444444444444444,
             "#bd3786"
            ],
            [
             0.5555555555555556,
             "#d8576b"
            ],
            [
             0.6666666666666666,
             "#ed7953"
            ],
            [
             0.7777777777777778,
             "#fb9f3a"
            ],
            [
             0.8888888888888888,
             "#fdca26"
            ],
            [
             1,
             "#f0f921"
            ]
           ],
           "sequentialminus": [
            [
             0,
             "#0d0887"
            ],
            [
             0.1111111111111111,
             "#46039f"
            ],
            [
             0.2222222222222222,
             "#7201a8"
            ],
            [
             0.3333333333333333,
             "#9c179e"
            ],
            [
             0.4444444444444444,
             "#bd3786"
            ],
            [
             0.5555555555555556,
             "#d8576b"
            ],
            [
             0.6666666666666666,
             "#ed7953"
            ],
            [
             0.7777777777777778,
             "#fb9f3a"
            ],
            [
             0.8888888888888888,
             "#fdca26"
            ],
            [
             1,
             "#f0f921"
            ]
           ]
          },
          "colorway": [
           "#636efa",
           "#EF553B",
           "#00cc96",
           "#ab63fa",
           "#FFA15A",
           "#19d3f3",
           "#FF6692",
           "#B6E880",
           "#FF97FF",
           "#FECB52"
          ],
          "font": {
           "color": "#2a3f5f"
          },
          "geo": {
           "bgcolor": "white",
           "lakecolor": "white",
           "landcolor": "#E5ECF6",
           "showlakes": true,
           "showland": true,
           "subunitcolor": "white"
          },
          "hoverlabel": {
           "align": "left"
          },
          "hovermode": "closest",
          "mapbox": {
           "style": "light"
          },
          "paper_bgcolor": "white",
          "plot_bgcolor": "#E5ECF6",
          "polar": {
           "angularaxis": {
            "gridcolor": "white",
            "linecolor": "white",
            "ticks": ""
           },
           "bgcolor": "#E5ECF6",
           "radialaxis": {
            "gridcolor": "white",
            "linecolor": "white",
            "ticks": ""
           }
          },
          "scene": {
           "xaxis": {
            "backgroundcolor": "#E5ECF6",
            "gridcolor": "white",
            "gridwidth": 2,
            "linecolor": "white",
            "showbackground": true,
            "ticks": "",
            "zerolinecolor": "white"
           },
           "yaxis": {
            "backgroundcolor": "#E5ECF6",
            "gridcolor": "white",
            "gridwidth": 2,
            "linecolor": "white",
            "showbackground": true,
            "ticks": "",
            "zerolinecolor": "white"
           },
           "zaxis": {
            "backgroundcolor": "#E5ECF6",
            "gridcolor": "white",
            "gridwidth": 2,
            "linecolor": "white",
            "showbackground": true,
            "ticks": "",
            "zerolinecolor": "white"
           }
          },
          "shapedefaults": {
           "line": {
            "color": "#2a3f5f"
           }
          },
          "ternary": {
           "aaxis": {
            "gridcolor": "white",
            "linecolor": "white",
            "ticks": ""
           },
           "baxis": {
            "gridcolor": "white",
            "linecolor": "white",
            "ticks": ""
           },
           "bgcolor": "#E5ECF6",
           "caxis": {
            "gridcolor": "white",
            "linecolor": "white",
            "ticks": ""
           }
          },
          "title": {
           "x": 0.05
          },
          "xaxis": {
           "automargin": true,
           "gridcolor": "white",
           "linecolor": "white",
           "ticks": "",
           "title": {
            "standoff": 15
           },
           "zerolinecolor": "white",
           "zerolinewidth": 2
          },
          "yaxis": {
           "automargin": true,
           "gridcolor": "white",
           "linecolor": "white",
           "ticks": "",
           "title": {
            "standoff": 15
           },
           "zerolinecolor": "white",
           "zerolinewidth": 2
          }
         }
        },
        "xaxis": {
         "anchor": "y",
         "domain": [
          0,
          0.31999999999999995
         ],
         "title": {
          "text": "Recall"
         }
        },
        "xaxis2": {
         "anchor": "y2",
         "domain": [
          0.33999999999999997,
          0.6599999999999999
         ],
         "matches": "x",
         "title": {
          "text": "Recall"
         }
        },
        "xaxis3": {
         "anchor": "y3",
         "domain": [
          0.6799999999999999,
          0.9999999999999999
         ],
         "matches": "x",
         "title": {
          "text": "Recall"
         }
        },
        "yaxis": {
         "anchor": "x",
         "domain": [
          0,
          1
         ],
         "title": {
          "text": "Precision"
         }
        },
        "yaxis2": {
         "anchor": "x2",
         "domain": [
          0,
          1
         ],
         "matches": "y",
         "showticklabels": false
        },
        "yaxis3": {
         "anchor": "x3",
         "domain": [
          0,
          1
         ],
         "matches": "y",
         "showticklabels": false
        }
       }
      }
     },
     "metadata": {},
     "output_type": "display_data"
    }
   ],
   "source": [
    "# Visualize precision recall curve\n",
    "fig = px.line(pr_df,x='Recall',y='Precision',facet_col='method',color='method')\n",
    "fig"
   ]
  },
  {
   "attachments": {},
   "cell_type": "markdown",
   "metadata": {},
   "source": [
    "From both the ROC and precision-recall curves we see that the full model has similar performance with the models with only 5 features."
   ]
  }
 ],
 "metadata": {
  "kernelspec": {
   "display_name": "env3.10",
   "language": "python",
   "name": "python3"
  },
  "language_info": {
   "codemirror_mode": {
    "name": "ipython",
    "version": 3
   },
   "file_extension": ".py",
   "mimetype": "text/x-python",
   "name": "python",
   "nbconvert_exporter": "python",
   "pygments_lexer": "ipython3",
   "version": "3.10.9 (main, Dec 20 2022, 00:00:00) [GCC 12.2.1 20221121 (Red Hat 12.2.1-4)]"
  },
  "orig_nbformat": 4,
  "vscode": {
   "interpreter": {
    "hash": "5ec3c21330053bd888ae0423f793f928621505090c66dc4d3b71e8bb37792d66"
   }
  }
 },
 "nbformat": 4,
 "nbformat_minor": 2
}
